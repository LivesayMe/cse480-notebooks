{
  "nbformat": 4,
  "nbformat_minor": 0,
  "metadata": {
    "colab": {
      "name": "06_1_Readiness_Assurance_Test.ipynb",
      "provenance": [],
      "include_colab_link": true
    },
    "kernelspec": {
      "name": "python3",
      "display_name": "Python 3"
    }
  },
  "cells": [
    {
      "cell_type": "markdown",
      "metadata": {
        "id": "view-in-github",
        "colab_type": "text"
      },
      "source": [
        "<a href=\"https://colab.research.google.com/github/LivesayMe/cse480-notebooks/blob/master/06_1_Readiness_Assurance_Test.ipynb\" target=\"_parent\"><img src=\"https://colab.research.google.com/assets/colab-badge.svg\" alt=\"Open In Colab\"/></a>"
      ]
    },
    {
      "cell_type": "markdown",
      "metadata": {
        "id": "UEhvJzZ5EiIK"
      },
      "source": [
        "# Readiness Assurance Test\n",
        "## Due: Monday, 8 February 2021, 2:30pm"
      ]
    },
    {
      "cell_type": "markdown",
      "metadata": {
        "id": "nz2CBF3pkYRT"
      },
      "source": [
        "This is still unfinished"
      ]
    },
    {
      "cell_type": "markdown",
      "metadata": {
        "id": "wqar4fgvSBxR"
      },
      "source": [
        "## Imports, then the actual RAT"
      ]
    },
    {
      "cell_type": "code",
      "metadata": {
        "id": "y863_jSu1Fad",
        "run_control": {
          "frozen": false,
          "read_only": false
        },
        "scrolled": true
      },
      "source": [
        "#~~~~~~~~~~~~~~~~~~~~~~~~~~~~~~~~~~~~~~~~~~~~~~~~~~~~~~~\n",
        "import sys\n",
        "\n",
        "# -- Detect if in Own Install or in Colab\n",
        "try:\n",
        "    import google.colab\n",
        "    OWN_INSTALL = False\n",
        "except:\n",
        "    OWN_INSTALL = True\n",
        "    \n",
        "if OWN_INSTALL:\n",
        "  \n",
        "  sys.path[0:0] = ['../../../../..',  '../../../../../3rdparty',  \n",
        "                   '../../../..',  '../../../../3rdparty',  \n",
        "                   '../../..',     '../../../3rdparty', \n",
        "                   '../..',        '../../3rdparty',\n",
        "                   '..',           '../3rdparty',\n",
        "                   '../Jove',      '../Jove/jove']\n",
        "\n",
        "else: # In colab\n",
        "  ! if [ ! -d Jove ]; then git clone https://github.com/ganeshutah/Jove Jove; fi\n",
        "  sys.path.append('./Jove')\n",
        "  sys.path.append('./Jove/jove')\n",
        "\n",
        "# -- common imports --\n",
        "from jove.DotBashers import *\n",
        "from jove.Def_md2mc  import *\n",
        "from jove.Def_NFA    import *\n",
        "from jove.Def_DFA    import *\n",
        "from jove.Def_NFA2RE import *\n",
        "from jove.Def_RE2NFA import *\n",
        "from jove.AnimateNFA import *\n",
        "#~~~~~~~~~~~~~~~~~~~~~~~~~~~~~~~~~~~~~~~~~~~~~~~~~~~~~~~"
      ],
      "execution_count": 79,
      "outputs": []
    },
    {
      "cell_type": "markdown",
      "metadata": {
        "id": "glhcbfJwE2hp"
      },
      "source": [
        "# DFA and NFA"
      ]
    },
    {
      "cell_type": "markdown",
      "metadata": {
        "id": "rxMsOSQ6FMMs"
      },
      "source": [
        "## DFA conform to the rules of NFA, but not (always) vice versa."
      ]
    },
    {
      "cell_type": "markdown",
      "metadata": {
        "id": "VMRBbidSFRNW"
      },
      "source": [
        "### Formal Definition of DFA\n",
        "A DFA is a 5-tuple $(Q, \\Sigma, \\delta, q_0, F)$, where\n",
        "\n",
        "1. $Q$ is a finite set called the **states**,\n",
        "2. $\\Sigma$ is a finite set called the **alphabet**,\n",
        "3. $\\delta: Q \\times \\Sigma \\rightarrow Q$ is the **transition function**,\n",
        "4. $q_0 \\in Q$ is the **start state**, and\n",
        "5. $F \\subseteq Q$ is the **set of accept states** (or **final** states)."
      ]
    },
    {
      "cell_type": "markdown",
      "metadata": {
        "id": "pSlG0bzMF78_"
      },
      "source": [
        "### Formal Definition of NFA\n",
        "An NFA is a 5-tuple $(Q, \\Sigma, \\delta, Q_0, F)$, where\n",
        "\n",
        "1. $Q$ is a finite set called the **states**,\n",
        "2. $\\Sigma$ is a finite set called the **alphabet** (which does not include $\\varepsilon$),\n",
        "3. $\\delta: Q \\times \\Sigma_{\\varepsilon} \\rightarrow \\mathcal{P}(Q)$ is the **transition function** ($\\Sigma_{\\varepsilon}$ is short for $\\Sigma \\cup \\{\\varepsilon\\})$,\n",
        "4. $Q_0 \\subseteq Q$ is the **set of start states**, and\n",
        "5. $F \\subseteq Q$ is the **set of accept states** (or **final** states)."
      ]
    },
    {
      "cell_type": "markdown",
      "metadata": {
        "id": "dkSUGkfIHnQs"
      },
      "source": [
        "## Equivalence"
      ]
    },
    {
      "cell_type": "markdown",
      "metadata": {
        "id": "-t-l3eTmHpui"
      },
      "source": [
        "NFA can be converted into DFA because they both represent regular languages, which can be represented by regular expressions, which can be converted to and from NFA."
      ]
    },
    {
      "cell_type": "markdown",
      "metadata": {
        "id": "DmHuN66WOdaA"
      },
      "source": [
        "### Formal Definition of RE (Regular Expressions)"
      ]
    },
    {
      "cell_type": "markdown",
      "metadata": {
        "id": "cidN1LJaOjIg"
      },
      "source": [
        "$R$ is a **regular expression** (an **RE** for short) if $R$ is any of\n",
        "\n",
        "\n",
        "* {} (the empty set $\\emptyset$) \n",
        "* {''} (the set containing the empty string $\\{\\varepsilon\\}$)\n",
        "* $\\{a\\}$ for some $a \\in \\Sigma$\n",
        "* $R_1 \\cup R_2$ where $R_1$ and $R_2$ are **RE**s \n",
        "* $R_1 \\circ R_2$ where $R_1$ and $R_2$ are **RE**s \n",
        "* $R^*$ where $R$ is an **RE**\n",
        "\n",
        "Some shorthand:\n",
        "\n",
        "* $a \\equiv \\{a\\}$\n",
        "* $\\varepsilon \\equiv \\{\\varepsilon\\}$\n",
        "* $R^+ \\equiv R \\circ R^*$\n",
        "* $R^* \\equiv R^+ \\cup \\varepsilon$\n",
        "* $R^k \\equiv R \\circ R \\circ R \\circ \\cdots \\circ R$ ($k$ times)\n",
        "\n",
        "Note: $R \\circ R$ is usually written without the $\\circ$ (concatenation operator), i.e., $RR$.\n",
        "\n",
        "In this regard, $\\circ$ is analogous to the multiplication operator.\n"
      ]
    },
    {
      "cell_type": "markdown",
      "metadata": {
        "id": "WNX6DyrNRsbH"
      },
      "source": [
        "## Question to Answer\n",
        "In what other way(s) is $\\circ$ analogous to the multiplication operator?"
      ]
    },
    {
      "cell_type": "markdown",
      "metadata": {
        "id": "vQFYWsd9R5MU"
      },
      "source": [
        "Your answer goes here."
      ]
    },
    {
      "cell_type": "markdown",
      "metadata": {
        "id": "mT0DF_CyHvxm"
      },
      "source": [
        "## Easy to Design"
      ]
    },
    {
      "cell_type": "code",
      "metadata": {
        "id": "RS2nA43UHu8X",
        "colab": {
          "base_uri": "https://localhost:8080/",
          "height": 190
        },
        "outputId": "c551a19e-7b9c-4eb9-e909-aeddea68b442"
      },
      "source": [
        "nfa1 = '''\n",
        "NFA\n",
        "I    : 0|1 -> I\n",
        "I    : 0   -> S0\n",
        "S0   : 1   -> S01\n",
        "S01  : 0   -> S010\n",
        "S010 : 1   -> F\n",
        "F    : 0|1 -> F\n",
        "'''\n",
        "mc = md2mc(nfa1)\n",
        "dfa = min_dfa(nfa2dfa(mc))\n",
        "# try mc also changing dotObj_dfa to dotObj_nfa\n",
        "dotObj_nfa(mc)"
      ],
      "execution_count": 81,
      "outputs": [
        {
          "output_type": "execute_result",
          "data": {
            "text/plain": [
              "<graphviz.dot.Digraph at 0x7f5ea48d09e8>"
            ],
            "image/svg+xml": "<?xml version=\"1.0\" encoding=\"UTF-8\" standalone=\"no\"?>\n<!DOCTYPE svg PUBLIC \"-//W3C//DTD SVG 1.1//EN\"\n \"http://www.w3.org/Graphics/SVG/1.1/DTD/svg11.dtd\">\n<!-- Generated by graphviz version 2.40.1 (20161225.0304)\n -->\n<!-- Title: %3 Pages: 1 -->\n<svg width=\"526pt\" height=\"127pt\"\n viewBox=\"0.00 0.00 525.69 126.55\" xmlns=\"http://www.w3.org/2000/svg\" xmlns:xlink=\"http://www.w3.org/1999/xlink\">\n<g id=\"graph0\" class=\"graph\" transform=\"scale(1 1) rotate(0) translate(4 122.5473)\">\n<title>%3</title>\n<polygon fill=\"#ffffff\" stroke=\"transparent\" points=\"-4,4 -4,-122.5473 521.6863,-122.5473 521.6863,4 -4,4\"/>\n<!-- EMPTY -->\n<g id=\"node1\" class=\"node\">\n<title>EMPTY</title>\n</g>\n<!-- I -->\n<g id=\"node5\" class=\"node\">\n<title>I</title>\n<ellipse fill=\"none\" stroke=\"#000000\" cx=\"109\" cy=\"-30.5473\" rx=\"18\" ry=\"18\"/>\n<text text-anchor=\"middle\" x=\"109\" y=\"-26.8473\" font-family=\"Times,serif\" font-size=\"14.00\" fill=\"#000000\">I</text>\n</g>\n<!-- EMPTY&#45;&gt;I -->\n<g id=\"edge1\" class=\"edge\">\n<title>EMPTY&#45;&gt;I</title>\n<path fill=\"none\" stroke=\"#000000\" d=\"M54.3048,-30.5473C62.6909,-30.5473 71.9407,-30.5473 80.4103,-30.5473\"/>\n<polygon fill=\"#000000\" stroke=\"#000000\" points=\"80.5976,-34.0474 90.5976,-30.5473 80.5976,-27.0474 80.5976,-34.0474\"/>\n</g>\n<!-- S010 -->\n<g id=\"node2\" class=\"node\">\n<title>S010</title>\n<ellipse fill=\"none\" stroke=\"#000000\" cx=\"395.139\" cy=\"-30.5473\" rx=\"30.5947\" ry=\"30.5947\"/>\n<text text-anchor=\"middle\" x=\"395.139\" y=\"-26.8473\" font-family=\"Times,serif\" font-size=\"14.00\" fill=\"#000000\">S010</text>\n</g>\n<!-- F -->\n<g id=\"node6\" class=\"node\">\n<title>F</title>\n<ellipse fill=\"none\" stroke=\"#000000\" cx=\"495.6863\" cy=\"-30.5473\" rx=\"18\" ry=\"18\"/>\n<ellipse fill=\"none\" stroke=\"#000000\" cx=\"495.6863\" cy=\"-30.5473\" rx=\"22\" ry=\"22\"/>\n<text text-anchor=\"middle\" x=\"495.6863\" y=\"-26.8473\" font-family=\"Times,serif\" font-size=\"14.00\" fill=\"#000000\">F</text>\n</g>\n<!-- S010&#45;&gt;F -->\n<g id=\"edge7\" class=\"edge\">\n<title>S010&#45;&gt;F</title>\n<path fill=\"none\" stroke=\"#000000\" d=\"M425.8528,-30.5473C437.7344,-30.5473 451.3429,-30.5473 463.3721,-30.5473\"/>\n<polygon fill=\"#000000\" stroke=\"#000000\" points=\"463.4535,-34.0474 473.4534,-30.5473 463.4534,-27.0474 463.4535,-34.0474\"/>\n<text text-anchor=\"middle\" x=\"449.6863\" y=\"-34.3473\" font-family=\"Times,serif\" font-size=\"14.00\" fill=\"#000000\">1 </text>\n</g>\n<!-- S0 -->\n<g id=\"node3\" class=\"node\">\n<title>S0</title>\n<ellipse fill=\"none\" stroke=\"#000000\" cx=\"195.7982\" cy=\"-30.5473\" rx=\"20.5982\" ry=\"20.5982\"/>\n<text text-anchor=\"middle\" x=\"195.7982\" y=\"-26.8473\" font-family=\"Times,serif\" font-size=\"14.00\" fill=\"#000000\">S0</text>\n</g>\n<!-- S01 -->\n<g id=\"node4\" class=\"node\">\n<title>S01</title>\n<ellipse fill=\"none\" stroke=\"#000000\" cx=\"290.594\" cy=\"-30.5473\" rx=\"25.9954\" ry=\"25.9954\"/>\n<text text-anchor=\"middle\" x=\"290.594\" y=\"-26.8473\" font-family=\"Times,serif\" font-size=\"14.00\" fill=\"#000000\">S01</text>\n</g>\n<!-- S0&#45;&gt;S01 -->\n<g id=\"edge5\" class=\"edge\">\n<title>S0&#45;&gt;S01</title>\n<path fill=\"none\" stroke=\"#000000\" d=\"M216.8364,-30.5473C227.8309,-30.5473 241.5999,-30.5473 254.2549,-30.5473\"/>\n<polygon fill=\"#000000\" stroke=\"#000000\" points=\"254.5378,-34.0474 264.5378,-30.5473 254.5378,-27.0474 254.5378,-34.0474\"/>\n<text text-anchor=\"middle\" x=\"240.5963\" y=\"-34.3473\" font-family=\"Times,serif\" font-size=\"14.00\" fill=\"#000000\">1 </text>\n</g>\n<!-- S01&#45;&gt;S010 -->\n<g id=\"edge6\" class=\"edge\">\n<title>S01&#45;&gt;S010</title>\n<path fill=\"none\" stroke=\"#000000\" d=\"M316.7054,-30.5473C328.0453,-30.5473 341.5984,-30.5473 354.2229,-30.5473\"/>\n<polygon fill=\"#000000\" stroke=\"#000000\" points=\"354.5401,-34.0474 364.54,-30.5473 354.54,-27.0474 354.5401,-34.0474\"/>\n<text text-anchor=\"middle\" x=\"340.5917\" y=\"-34.3473\" font-family=\"Times,serif\" font-size=\"14.00\" fill=\"#000000\">0 </text>\n</g>\n<!-- I&#45;&gt;S0 -->\n<g id=\"edge2\" class=\"edge\">\n<title>I&#45;&gt;S0</title>\n<path fill=\"none\" stroke=\"#000000\" d=\"M127.4077,-30.5473C138.2934,-30.5473 152.3613,-30.5473 164.9052,-30.5473\"/>\n<polygon fill=\"#000000\" stroke=\"#000000\" points=\"164.9803,-34.0474 174.9802,-30.5473 164.9802,-27.0474 164.9803,-34.0474\"/>\n<text text-anchor=\"middle\" x=\"151\" y=\"-34.3473\" font-family=\"Times,serif\" font-size=\"14.00\" fill=\"#000000\">0 </text>\n</g>\n<!-- I&#45;&gt;I -->\n<g id=\"edge3\" class=\"edge\">\n<title>I&#45;&gt;I</title>\n<path fill=\"none\" stroke=\"#000000\" d=\"M105.7643,-48.329C105.2144,-57.8622 106.293,-66.5473 109,-66.5473 110.6496,-66.5473 111.6945,-63.3222 112.1347,-58.6454\"/>\n<polygon fill=\"#000000\" stroke=\"#000000\" points=\"115.6375,-58.3629 112.2357,-48.329 108.6379,-58.2942 115.6375,-58.3629\"/>\n<text text-anchor=\"middle\" x=\"109\" y=\"-70.3473\" font-family=\"Times,serif\" font-size=\"14.00\" fill=\"#000000\">0 </text>\n</g>\n<!-- I&#45;&gt;I -->\n<g id=\"edge4\" class=\"edge\">\n<title>I&#45;&gt;I</title>\n<path fill=\"none\" stroke=\"#000000\" d=\"M103.6841,-47.9676C100.6538,-65.3382 102.4258,-84.5473 109,-84.5473 114.2902,-84.5473 116.4708,-72.109 115.5419,-58.1993\"/>\n<polygon fill=\"#000000\" stroke=\"#000000\" points=\"118.9808,-57.4801 114.3159,-47.9676 112.0305,-58.313 118.9808,-57.4801\"/>\n<text text-anchor=\"middle\" x=\"109\" y=\"-88.3473\" font-family=\"Times,serif\" font-size=\"14.00\" fill=\"#000000\">1 </text>\n</g>\n<!-- F&#45;&gt;F -->\n<g id=\"edge8\" class=\"edge\">\n<title>F&#45;&gt;F</title>\n<path fill=\"none\" stroke=\"#000000\" d=\"M491.4412,-52.3539C491.0369,-62.1098 492.4519,-70.5473 495.6863,-70.5473 497.7078,-70.5473 499.0186,-67.2514 499.6187,-62.3977\"/>\n<polygon fill=\"#000000\" stroke=\"#000000\" points=\"503.1184,-62.458 499.9314,-52.3539 496.1218,-62.2401 503.1184,-62.458\"/>\n<text text-anchor=\"middle\" x=\"495.6863\" y=\"-74.3473\" font-family=\"Times,serif\" font-size=\"14.00\" fill=\"#000000\">0 </text>\n</g>\n<!-- F&#45;&gt;F -->\n<g id=\"edge9\" class=\"edge\">\n<title>F&#45;&gt;F</title>\n<path fill=\"none\" stroke=\"#000000\" d=\"M488.4847,-51.3603C485.1998,-69.4311 487.6003,-88.5473 495.6863,-88.5473 502.2561,-88.5473 505.0727,-75.9276 504.1359,-61.5025\"/>\n<polygon fill=\"#000000\" stroke=\"#000000\" points=\"507.5831,-60.8579 502.8878,-51.3603 500.6355,-61.7129 507.5831,-60.8579\"/>\n<text text-anchor=\"middle\" x=\"495.6863\" y=\"-92.3473\" font-family=\"Times,serif\" font-size=\"14.00\" fill=\"#000000\">1 </text>\n</g>\n</g>\n</svg>\n"
          },
          "metadata": {
            "tags": []
          },
          "execution_count": 81
        }
      ]
    },
    {
      "cell_type": "markdown",
      "metadata": {
        "id": "adFHIInPH4Xz"
      },
      "source": [
        "A good name for ```nfa1``` is"
      ]
    },
    {
      "cell_type": "code",
      "metadata": {
        "id": "lWH9adn8H_9q"
      },
      "source": [
        "name1 = 'contains0101'  #@param {type: \"string\"}"
      ],
      "execution_count": 72,
      "outputs": []
    },
    {
      "cell_type": "markdown",
      "metadata": {
        "id": "NjlkkLAEI3e6"
      },
      "source": [
        "An RE for the language of ```nfa1``` is"
      ]
    },
    {
      "cell_type": "code",
      "metadata": {
        "id": "UVFNPQHaJD43"
      },
      "source": [
        "re1 = '(1+0)*0101(1+0)*'  #@param {type: \"string\"}\r\n",
        "#1*00*1(11*00*)*0(01*00*1(11*00*)*0)* 1(1+0)* "
      ],
      "execution_count": 82,
      "outputs": []
    },
    {
      "cell_type": "code",
      "metadata": {
        "colab": {
          "base_uri": "https://localhost:8080/",
          "height": 245
        },
        "id": "uCSX0AfTfEUI",
        "outputId": "6301ed84-4d09-40f9-a379-7ddad028b081"
      },
      "source": [
        "dotObj_dfa(min_dfa(nfa2dfa(re2nfa(re1))))"
      ],
      "execution_count": 83,
      "outputs": [
        {
          "output_type": "stream",
          "text": [
            "Generating LALR tables\n"
          ],
          "name": "stderr"
        },
        {
          "output_type": "execute_result",
          "data": {
            "text/plain": [
              "<graphviz.dot.Digraph at 0x7f5ea492b5c0>"
            ],
            "image/svg+xml": "<?xml version=\"1.0\" encoding=\"UTF-8\" standalone=\"no\"?>\n<!DOCTYPE svg PUBLIC \"-//W3C//DTD SVG 1.1//EN\"\n \"http://www.w3.org/Graphics/SVG/1.1/DTD/svg11.dtd\">\n<!-- Generated by graphviz version 2.40.1 (20161225.0304)\n -->\n<!-- Title: %3 Pages: 1 -->\n<svg width=\"533pt\" height=\"155pt\"\n viewBox=\"0.00 0.00 532.98 154.80\" xmlns=\"http://www.w3.org/2000/svg\" xmlns:xlink=\"http://www.w3.org/1999/xlink\">\n<g id=\"graph0\" class=\"graph\" transform=\"scale(1 1) rotate(0) translate(4 150.7958)\">\n<title>%3</title>\n<polygon fill=\"#ffffff\" stroke=\"transparent\" points=\"-4,4 -4,-150.7958 528.9792,-150.7958 528.9792,4 -4,4\"/>\n<!-- EMPTY -->\n<g id=\"node1\" class=\"node\">\n<title>EMPTY</title>\n</g>\n<!-- St8 -->\n<g id=\"node3\" class=\"node\">\n<title>St8</title>\n<ellipse fill=\"none\" stroke=\"#000000\" cx=\"114.3979\" cy=\"-35.3979\" rx=\"23.2963\" ry=\"23.2963\"/>\n<text text-anchor=\"middle\" x=\"114.3979\" y=\"-31.6979\" font-family=\"Times,serif\" font-size=\"14.00\" fill=\"#000000\">St8</text>\n</g>\n<!-- EMPTY&#45;&gt;St8 -->\n<g id=\"edge1\" class=\"edge\">\n<title>EMPTY&#45;&gt;St8</title>\n<path fill=\"none\" stroke=\"#000000\" d=\"M54.1742,-35.3979C62.5103,-35.3979 71.7873,-35.3979 80.5137,-35.3979\"/>\n<polygon fill=\"#000000\" stroke=\"#000000\" points=\"80.7846,-38.898 90.7846,-35.3979 80.7845,-31.898 80.7846,-38.898\"/>\n</g>\n<!-- St9 -->\n<g id=\"node2\" class=\"node\">\n<title>St9</title>\n<ellipse fill=\"none\" stroke=\"#000000\" cx=\"209.1938\" cy=\"-75.3979\" rx=\"23.2963\" ry=\"23.2963\"/>\n<text text-anchor=\"middle\" x=\"209.1938\" y=\"-71.6979\" font-family=\"Times,serif\" font-size=\"14.00\" fill=\"#000000\">St9</text>\n</g>\n<!-- St9&#45;&gt;St9 -->\n<g id=\"edge4\" class=\"edge\">\n<title>St9&#45;&gt;St9</title>\n<path fill=\"none\" stroke=\"#000000\" d=\"M200.7393,-97.5452C199.817,-107.8192 202.6352,-116.7958 209.1938,-116.7958 213.3954,-116.7958 216.0619,-113.1118 217.1933,-107.7628\"/>\n<polygon fill=\"#000000\" stroke=\"#000000\" points=\"220.6999,-107.691 217.6482,-97.5452 213.7068,-107.3796 220.6999,-107.691\"/>\n<text text-anchor=\"middle\" x=\"209.1938\" y=\"-120.5958\" font-family=\"Times,serif\" font-size=\"14.00\" fill=\"#000000\">0 </text>\n</g>\n<!-- St3 -->\n<g id=\"node4\" class=\"node\">\n<title>St3</title>\n<ellipse fill=\"none\" stroke=\"#000000\" cx=\"303.9896\" cy=\"-23.3979\" rx=\"23.2963\" ry=\"23.2963\"/>\n<text text-anchor=\"middle\" x=\"303.9896\" y=\"-19.6979\" font-family=\"Times,serif\" font-size=\"14.00\" fill=\"#000000\">St3</text>\n</g>\n<!-- St9&#45;&gt;St3 -->\n<g id=\"edge5\" class=\"edge\">\n<title>St9&#45;&gt;St3</title>\n<path fill=\"none\" stroke=\"#000000\" d=\"M229.7631,-64.1147C242.8064,-56.9598 259.8914,-47.5879 274.3816,-39.6393\"/>\n<polygon fill=\"#000000\" stroke=\"#000000\" points=\"276.3762,-42.5372 283.4605,-34.6591 273.0096,-36.3999 276.3762,-42.5372\"/>\n<text text-anchor=\"middle\" x=\"256.5917\" y=\"-56.1979\" font-family=\"Times,serif\" font-size=\"14.00\" fill=\"#000000\">1 </text>\n</g>\n<!-- St8&#45;&gt;St9 -->\n<g id=\"edge2\" class=\"edge\">\n<title>St8&#45;&gt;St9</title>\n<path fill=\"none\" stroke=\"#000000\" d=\"M136.3843,-44.6753C148.7077,-49.8752 164.2849,-56.4482 177.8657,-62.1787\"/>\n<polygon fill=\"#000000\" stroke=\"#000000\" points=\"176.7526,-65.5078 187.3267,-66.1709 179.474,-59.0585 176.7526,-65.5078\"/>\n<text text-anchor=\"middle\" x=\"161.7958\" y=\"-61.1979\" font-family=\"Times,serif\" font-size=\"14.00\" fill=\"#000000\">0 </text>\n</g>\n<!-- St8&#45;&gt;St8 -->\n<g id=\"edge3\" class=\"edge\">\n<title>St8&#45;&gt;St8</title>\n<path fill=\"none\" stroke=\"#000000\" d=\"M107.0151,-57.9667C106.312,-68.0635 108.7729,-76.7958 114.3979,-76.7958 118.0014,-76.7958 120.3064,-73.2121 121.3129,-67.9817\"/>\n<polygon fill=\"#000000\" stroke=\"#000000\" points=\"124.8102,-68.1191 121.7807,-57.9667 117.8178,-67.7924 124.8102,-68.1191\"/>\n<text text-anchor=\"middle\" x=\"114.3979\" y=\"-80.5958\" font-family=\"Times,serif\" font-size=\"14.00\" fill=\"#000000\">1 </text>\n</g>\n<!-- St3&#45;&gt;St8 -->\n<g id=\"edge7\" class=\"edge\">\n<title>St3&#45;&gt;St8</title>\n<path fill=\"none\" stroke=\"#000000\" d=\"M280.4216,-24.0103C256.5507,-24.7209 218.5763,-26.0994 185.7958,-28.3979 173.3996,-29.2671 159.8208,-30.5221 147.8642,-31.7301\"/>\n<polygon fill=\"#000000\" stroke=\"#000000\" points=\"147.4308,-28.2562 137.845,-32.7687 148.1526,-35.2189 147.4308,-28.2562\"/>\n<text text-anchor=\"middle\" x=\"209.1938\" y=\"-32.1979\" font-family=\"Times,serif\" font-size=\"14.00\" fill=\"#000000\">1 </text>\n</g>\n<!-- St5 -->\n<g id=\"node5\" class=\"node\">\n<title>St5</title>\n<ellipse fill=\"none\" stroke=\"#000000\" cx=\"398.7855\" cy=\"-53.3979\" rx=\"23.2963\" ry=\"23.2963\"/>\n<text text-anchor=\"middle\" x=\"398.7855\" y=\"-49.6979\" font-family=\"Times,serif\" font-size=\"14.00\" fill=\"#000000\">St5</text>\n</g>\n<!-- St3&#45;&gt;St5 -->\n<g id=\"edge6\" class=\"edge\">\n<title>St3&#45;&gt;St5</title>\n<path fill=\"none\" stroke=\"#000000\" d=\"M326.4549,-30.5075C338.4094,-34.2907 353.322,-39.0101 366.4957,-43.1792\"/>\n<polygon fill=\"#000000\" stroke=\"#000000\" points=\"365.5629,-46.555 376.1529,-46.2354 367.675,-39.8812 365.5629,-46.555\"/>\n<text text-anchor=\"middle\" x=\"351.3875\" y=\"-43.1979\" font-family=\"Times,serif\" font-size=\"14.00\" fill=\"#000000\">0 </text>\n</g>\n<!-- St5&#45;&gt;St9 -->\n<g id=\"edge8\" class=\"edge\">\n<title>St5&#45;&gt;St9</title>\n<path fill=\"none\" stroke=\"#000000\" d=\"M375.1449,-56.2779C369.339,-56.9784 363.1393,-57.7207 357.3875,-58.3979 317.9313,-63.0437 272.5453,-68.2264 242.5061,-71.6341\"/>\n<polygon fill=\"#000000\" stroke=\"#000000\" points=\"242.098,-68.1579 232.5557,-72.7617 242.8863,-75.1134 242.098,-68.1579\"/>\n<text text-anchor=\"middle\" x=\"303.9896\" y=\"-70.1979\" font-family=\"Times,serif\" font-size=\"14.00\" fill=\"#000000\">0 </text>\n</g>\n<!-- St2 -->\n<g id=\"node6\" class=\"node\">\n<title>St2</title>\n<ellipse fill=\"none\" stroke=\"#000000\" cx=\"497.5813\" cy=\"-53.3979\" rx=\"23.3111\" ry=\"23.3111\"/>\n<ellipse fill=\"none\" stroke=\"#000000\" cx=\"497.5813\" cy=\"-53.3979\" rx=\"27.2962\" ry=\"27.2962\"/>\n<text text-anchor=\"middle\" x=\"497.5813\" y=\"-49.6979\" font-family=\"Times,serif\" font-size=\"14.00\" fill=\"#000000\">St2</text>\n</g>\n<!-- St5&#45;&gt;St2 -->\n<g id=\"edge9\" class=\"edge\">\n<title>St5&#45;&gt;St2</title>\n<path fill=\"none\" stroke=\"#000000\" d=\"M422.1987,-53.3979C433.4326,-53.3979 447.173,-53.3979 459.8312,-53.3979\"/>\n<polygon fill=\"#000000\" stroke=\"#000000\" points=\"460.1309,-56.898 470.1309,-53.3979 460.1309,-49.898 460.1309,-56.898\"/>\n<text text-anchor=\"middle\" x=\"446.1834\" y=\"-57.1979\" font-family=\"Times,serif\" font-size=\"14.00\" fill=\"#000000\">1 </text>\n</g>\n<!-- St2&#45;&gt;St2 -->\n<g id=\"edge10\" class=\"edge\">\n<title>St2&#45;&gt;St2</title>\n<path fill=\"none\" stroke=\"#000000\" d=\"M492.9041,-80.4297C492.7508,-90.5036 494.3098,-98.7958 497.5813,-98.7958 499.626,-98.7958 501.0018,-95.5567 501.7086,-90.6679\"/>\n<polygon fill=\"#000000\" stroke=\"#000000\" points=\"505.217,-90.6031 502.2585,-80.4297 498.2271,-90.2276 505.217,-90.6031\"/>\n<text text-anchor=\"middle\" x=\"497.5813\" y=\"-102.5958\" font-family=\"Times,serif\" font-size=\"14.00\" fill=\"#000000\">0 </text>\n</g>\n<!-- St2&#45;&gt;St2 -->\n<g id=\"edge11\" class=\"edge\">\n<title>St2&#45;&gt;St2</title>\n<path fill=\"none\" stroke=\"#000000\" d=\"M489.1682,-79.777C486.525,-98.3764 489.3294,-116.7958 497.5813,-116.7958 504.286,-116.7958 507.3945,-104.6361 506.9067,-90.1\"/>\n<polygon fill=\"#000000\" stroke=\"#000000\" points=\"510.3612,-89.4301 505.9944,-79.777 503.3884,-90.0463 510.3612,-89.4301\"/>\n<text text-anchor=\"middle\" x=\"497.5813\" y=\"-120.5958\" font-family=\"Times,serif\" font-size=\"14.00\" fill=\"#000000\">1 </text>\n</g>\n</g>\n</svg>\n"
          },
          "metadata": {
            "tags": []
          },
          "execution_count": 83
        }
      ]
    },
    {
      "cell_type": "code",
      "metadata": {
        "id": "G04nod7LknVg",
        "outputId": "44dec808-7cbb-48b9-ba71-bddd1f9853d0",
        "colab": {
          "base_uri": "https://localhost:8080/"
        }
      },
      "source": [
        "langeq_dfa(min_dfa(nfa2dfa(re2nfa(re1))), dfa)"
      ],
      "execution_count": 84,
      "outputs": [
        {
          "output_type": "stream",
          "text": [
            "Generating LALR tables\n"
          ],
          "name": "stderr"
        },
        {
          "output_type": "execute_result",
          "data": {
            "text/plain": [
              "True"
            ]
          },
          "metadata": {
            "tags": []
          },
          "execution_count": 84
        }
      ]
    },
    {
      "cell_type": "code",
      "metadata": {
        "id": "NIu7P0yIJGEF",
        "colab": {
          "base_uri": "https://localhost:8080/",
          "height": 184
        },
        "outputId": "eeef8f24-470a-4b68-bb6b-ee2e4d2533d2"
      },
      "source": [
        "nfa2 = md2mc('''NFA    \n",
        "IA : a -> IA          \n",
        "IA : a -> B           \n",
        "IA : b -> FC          \n",
        "B  : a -> IA          \n",
        "B  : b -> B           \n",
        "FC : b -> IA          \n",
        "FC : b -> B           \n",
        "''')                  \n",
        "dotObj_nfa(nfa2)"
      ],
      "execution_count": 4,
      "outputs": [
        {
          "output_type": "execute_result",
          "data": {
            "text/plain": [
              "<graphviz.dot.Digraph at 0x7f5ea624c978>"
            ],
            "image/svg+xml": "<?xml version=\"1.0\" encoding=\"UTF-8\" standalone=\"no\"?>\n<!DOCTYPE svg PUBLIC \"-//W3C//DTD SVG 1.1//EN\"\n \"http://www.w3.org/Graphics/SVG/1.1/DTD/svg11.dtd\">\n<!-- Generated by graphviz version 2.40.1 (20161225.0304)\n -->\n<!-- Title: %3 Pages: 1 -->\n<svg width=\"326pt\" height=\"122pt\"\n viewBox=\"0.00 0.00 326.09 121.60\" xmlns=\"http://www.w3.org/2000/svg\" xmlns:xlink=\"http://www.w3.org/1999/xlink\">\n<g id=\"graph0\" class=\"graph\" transform=\"scale(1 1) rotate(0) translate(4 117.6013)\">\n<title>%3</title>\n<polygon fill=\"#ffffff\" stroke=\"transparent\" points=\"-4,4 -4,-117.6013 322.0923,-117.6013 322.0923,4 -4,4\"/>\n<!-- EMPTY -->\n<g id=\"node1\" class=\"node\">\n<title>EMPTY</title>\n</g>\n<!-- IA -->\n<g id=\"node2\" class=\"node\">\n<title>IA</title>\n<ellipse fill=\"none\" stroke=\"#000000\" cx=\"111.7982\" cy=\"-59.8031\" rx=\"20.5982\" ry=\"20.5982\"/>\n<text text-anchor=\"middle\" x=\"111.7982\" y=\"-56.1031\" font-family=\"Times,serif\" font-size=\"14.00\" fill=\"#000000\">IA</text>\n</g>\n<!-- EMPTY&#45;&gt;IA -->\n<g id=\"edge1\" class=\"edge\">\n<title>EMPTY&#45;&gt;IA</title>\n<path fill=\"none\" stroke=\"#000000\" d=\"M54.2974,-59.8031C62.6962,-59.8031 72.0043,-59.8031 80.6415,-59.8031\"/>\n<polygon fill=\"#000000\" stroke=\"#000000\" points=\"80.7381,-63.3032 90.7381,-59.8031 80.738,-56.3032 80.7381,-63.3032\"/>\n</g>\n<!-- IA&#45;&gt;IA -->\n<g id=\"edge2\" class=\"edge\">\n<title>IA&#45;&gt;IA</title>\n<path fill=\"none\" stroke=\"#000000\" d=\"M104.8836,-79.7656C103.9269,-89.7211 106.2317,-98.6013 111.7982,-98.6013 115.2772,-98.6013 117.4821,-95.1325 118.413,-90.1003\"/>\n<polygon fill=\"#000000\" stroke=\"#000000\" points=\"121.9213,-89.8628 118.7127,-79.7656 114.9242,-89.6599 121.9213,-89.8628\"/>\n<text text-anchor=\"middle\" x=\"111.7982\" y=\"-102.4013\" font-family=\"Times,serif\" font-size=\"14.00\" fill=\"#000000\">a </text>\n</g>\n<!-- B -->\n<g id=\"node3\" class=\"node\">\n<title>B</title>\n<ellipse fill=\"none\" stroke=\"#000000\" cx=\"300.0923\" cy=\"-56.8031\" rx=\"18\" ry=\"18\"/>\n<text text-anchor=\"middle\" x=\"300.0923\" y=\"-53.1031\" font-family=\"Times,serif\" font-size=\"14.00\" fill=\"#000000\">B</text>\n</g>\n<!-- IA&#45;&gt;B -->\n<g id=\"edge3\" class=\"edge\">\n<title>IA&#45;&gt;B</title>\n<path fill=\"none\" stroke=\"#000000\" d=\"M129.3812,-70.9605C142.8224,-78.7976 162.1247,-88.6022 180.5963,-92.8031 203.7803,-98.0758 211.0535,-98.6779 234.0923,-92.8031 249.3106,-88.9226 264.8041,-80.7365 276.9519,-73.1497\"/>\n<polygon fill=\"#000000\" stroke=\"#000000\" points=\"279.0717,-75.9456 285.5293,-67.5461 275.2432,-70.0853 279.0717,-75.9456\"/>\n<text text-anchor=\"middle\" x=\"207.3443\" y=\"-100.6031\" font-family=\"Times,serif\" font-size=\"14.00\" fill=\"#000000\">a </text>\n</g>\n<!-- FC -->\n<g id=\"node4\" class=\"node\">\n<title>FC</title>\n<ellipse fill=\"none\" stroke=\"#000000\" cx=\"207.3443\" cy=\"-56.8031\" rx=\"22.9609\" ry=\"22.9609\"/>\n<ellipse fill=\"none\" stroke=\"#000000\" cx=\"207.3443\" cy=\"-56.8031\" rx=\"26.9983\" ry=\"26.9983\"/>\n<text text-anchor=\"middle\" x=\"207.3443\" y=\"-53.1031\" font-family=\"Times,serif\" font-size=\"14.00\" fill=\"#000000\">FC</text>\n</g>\n<!-- IA&#45;&gt;FC -->\n<g id=\"edge4\" class=\"edge\">\n<title>IA&#45;&gt;FC</title>\n<path fill=\"none\" stroke=\"#000000\" d=\"M133.0029,-59.1373C143.9126,-58.7948 157.5327,-58.3671 170.1235,-57.9718\"/>\n<polygon fill=\"#000000\" stroke=\"#000000\" points=\"170.4904,-61.4621 180.3756,-57.6499 170.2706,-54.4656 170.4904,-61.4621\"/>\n<text text-anchor=\"middle\" x=\"156.5963\" y=\"-62.6031\" font-family=\"Times,serif\" font-size=\"14.00\" fill=\"#000000\">b </text>\n</g>\n<!-- B&#45;&gt;IA -->\n<g id=\"edge5\" class=\"edge\">\n<title>B&#45;&gt;IA</title>\n<path fill=\"none\" stroke=\"#000000\" d=\"M288.0007,-43.3532C275.8109,-30.8889 255.745,-13.1942 234.0923,-5.8031 211.5911,1.8776 203.0682,1.9628 180.5963,-5.8031 162.5318,-12.0459 145.5987,-25.205 133.0518,-36.9697\"/>\n<polygon fill=\"#000000\" stroke=\"#000000\" points=\"130.5288,-34.5417 125.8355,-44.0403 135.4278,-39.5417 130.5288,-34.5417\"/>\n<text text-anchor=\"middle\" x=\"207.3443\" y=\"-9.6031\" font-family=\"Times,serif\" font-size=\"14.00\" fill=\"#000000\">a </text>\n</g>\n<!-- B&#45;&gt;B -->\n<g id=\"edge6\" class=\"edge\">\n<title>B&#45;&gt;B</title>\n<path fill=\"none\" stroke=\"#000000\" d=\"M292.7095,-73.4672C291.0688,-83.4281 293.5298,-92.8031 300.0923,-92.8031 304.2964,-92.8031 306.8172,-88.9556 307.6547,-83.5714\"/>\n<polygon fill=\"#000000\" stroke=\"#000000\" points=\"311.1524,-83.4034 307.4751,-73.4672 304.1535,-83.5279 311.1524,-83.4034\"/>\n<text text-anchor=\"middle\" x=\"300.0923\" y=\"-96.6031\" font-family=\"Times,serif\" font-size=\"14.00\" fill=\"#000000\">b </text>\n</g>\n<!-- FC&#45;&gt;IA -->\n<g id=\"edge7\" class=\"edge\">\n<title>FC&#45;&gt;IA</title>\n<path fill=\"none\" stroke=\"#000000\" d=\"M183.7525,-43.9196C173.6141,-39.8999 161.5906,-37.1362 150.5963,-39.8031 146.6494,-40.7606 142.6546,-42.1937 138.805,-43.8613\"/>\n<polygon fill=\"#000000\" stroke=\"#000000\" points=\"137.0828,-40.8076 129.6448,-48.3525 140.1645,-47.0928 137.0828,-40.8076\"/>\n<text text-anchor=\"middle\" x=\"156.5963\" y=\"-43.6031\" font-family=\"Times,serif\" font-size=\"14.00\" fill=\"#000000\">b </text>\n</g>\n<!-- FC&#45;&gt;B -->\n<g id=\"edge8\" class=\"edge\">\n<title>FC&#45;&gt;B</title>\n<path fill=\"none\" stroke=\"#000000\" d=\"M234.1708,-56.8031C245.8857,-56.8031 259.6376,-56.8031 271.5415,-56.8031\"/>\n<polygon fill=\"#000000\" stroke=\"#000000\" points=\"271.8427,-60.3032 281.8426,-56.8031 271.8426,-53.3032 271.8427,-60.3032\"/>\n<text text-anchor=\"middle\" x=\"258.0923\" y=\"-60.6031\" font-family=\"Times,serif\" font-size=\"14.00\" fill=\"#000000\">b </text>\n</g>\n</g>\n</svg>\n"
          },
          "metadata": {
            "tags": []
          },
          "execution_count": 4
        }
      ]
    },
    {
      "cell_type": "markdown",
      "metadata": {
        "id": "HcQMri35JeME"
      },
      "source": [
        "A good name for ```nfa2``` is\n"
      ]
    },
    {
      "cell_type": "code",
      "metadata": {
        "id": "smSd9cVyJeMF"
      },
      "source": [
        "name2 = 'endsInB'  #@param {type: \"string\"}"
      ],
      "execution_count": null,
      "outputs": []
    },
    {
      "cell_type": "markdown",
      "metadata": {
        "id": "GX2KAjhTJeMF"
      },
      "source": [
        "An RE for the language of ```nfa2``` is"
      ]
    },
    {
      "cell_type": "code",
      "metadata": {
        "id": "CK3WXl8nJeMF"
      },
      "source": [
        "re2 = '(a + ab*a)* b(bb)*'  #@param {type: \"string\"}"
      ],
      "execution_count": 59,
      "outputs": []
    },
    {
      "cell_type": "code",
      "metadata": {
        "colab": {
          "base_uri": "https://localhost:8080/",
          "height": 377
        },
        "id": "qHEYy2CNi5rF",
        "outputId": "a3f0caa4-d4ee-40b9-cada-a0cc44b2fdaf"
      },
      "source": [
        "dotObj_dfa(min_dfa(nfa2dfa(re2nfa(re2))))"
      ],
      "execution_count": 60,
      "outputs": [
        {
          "output_type": "stream",
          "text": [
            "Generating LALR tables\n"
          ],
          "name": "stderr"
        },
        {
          "output_type": "execute_result",
          "data": {
            "text/plain": [
              "<graphviz.dot.Digraph at 0x7f5ea62b9748>"
            ],
            "image/svg+xml": "<?xml version=\"1.0\" encoding=\"UTF-8\" standalone=\"no\"?>\n<!DOCTYPE svg PUBLIC \"-//W3C//DTD SVG 1.1//EN\"\n \"http://www.w3.org/Graphics/SVG/1.1/DTD/svg11.dtd\">\n<!-- Generated by graphviz version 2.40.1 (20161225.0304)\n -->\n<!-- Title: %3 Pages: 1 -->\n<svg width=\"449pt\" height=\"254pt\"\n viewBox=\"0.00 0.00 448.58 254.40\" xmlns=\"http://www.w3.org/2000/svg\" xmlns:xlink=\"http://www.w3.org/1999/xlink\">\n<g id=\"graph0\" class=\"graph\" transform=\"scale(1 1) rotate(0) translate(4 250.3979)\">\n<title>%3</title>\n<polygon fill=\"#ffffff\" stroke=\"transparent\" points=\"-4,4 -4,-250.3979 444.5825,-250.3979 444.5825,4 -4,4\"/>\n<!-- EMPTY -->\n<g id=\"node1\" class=\"node\">\n<title>EMPTY</title>\n</g>\n<!-- St4 -->\n<g id=\"node5\" class=\"node\">\n<title>St4</title>\n<ellipse fill=\"none\" stroke=\"#000000\" cx=\"114.3979\" cy=\"-145.3979\" rx=\"23.2963\" ry=\"23.2963\"/>\n<text text-anchor=\"middle\" x=\"114.3979\" y=\"-141.6979\" font-family=\"Times,serif\" font-size=\"14.00\" fill=\"#000000\">St4</text>\n</g>\n<!-- EMPTY&#45;&gt;St4 -->\n<g id=\"edge1\" class=\"edge\">\n<title>EMPTY&#45;&gt;St4</title>\n<path fill=\"none\" stroke=\"#000000\" d=\"M54.1742,-145.3979C62.5103,-145.3979 71.7873,-145.3979 80.5137,-145.3979\"/>\n<polygon fill=\"#000000\" stroke=\"#000000\" points=\"80.7846,-148.898 90.7846,-145.3979 80.7845,-141.898 80.7846,-148.898\"/>\n</g>\n<!-- St9 -->\n<g id=\"node2\" class=\"node\">\n<title>St9</title>\n<ellipse fill=\"none\" stroke=\"#000000\" cx=\"417.1845\" cy=\"-137.3979\" rx=\"23.2963\" ry=\"23.2963\"/>\n<text text-anchor=\"middle\" x=\"417.1845\" y=\"-133.6979\" font-family=\"Times,serif\" font-size=\"14.00\" fill=\"#000000\">St9</text>\n</g>\n<!-- St9&#45;&gt;St4 -->\n<g id=\"edge10\" class=\"edge\">\n<title>St9&#45;&gt;St4</title>\n<path fill=\"none\" stroke=\"#000000\" d=\"M404.7463,-157.4672C392.3252,-175.4133 371.4197,-200.5107 345.7866,-211.3979 280.3384,-239.1961 252.0117,-237.3144 185.7958,-211.3979 165.6361,-203.5075 147.7562,-186.9584 134.9315,-172.4065\"/>\n<polygon fill=\"#000000\" stroke=\"#000000\" points=\"137.4667,-169.9836 128.3444,-164.5953 132.1154,-174.4963 137.4667,-169.9836\"/>\n<text text-anchor=\"middle\" x=\"264.5917\" y=\"-235.1979\" font-family=\"Times,serif\" font-size=\"14.00\" fill=\"#000000\">a </text>\n</g>\n<!-- St7 -->\n<g id=\"node7\" class=\"node\">\n<title>St7</title>\n<ellipse fill=\"none\" stroke=\"#000000\" cx=\"317.1892\" cy=\"-99.3979\" rx=\"23.3111\" ry=\"23.3111\"/>\n<ellipse fill=\"none\" stroke=\"#000000\" cx=\"317.1892\" cy=\"-99.3979\" rx=\"27.2962\" ry=\"27.2962\"/>\n<text text-anchor=\"middle\" x=\"317.1892\" y=\"-95.6979\" font-family=\"Times,serif\" font-size=\"14.00\" fill=\"#000000\">St7</text>\n</g>\n<!-- St9&#45;&gt;St7 -->\n<g id=\"edge11\" class=\"edge\">\n<title>St9&#45;&gt;St7</title>\n<path fill=\"none\" stroke=\"#000000\" d=\"M395.2479,-129.0616C382.7197,-124.3007 366.7151,-118.2186 352.463,-112.8026\"/>\n<polygon fill=\"#000000\" stroke=\"#000000\" points=\"353.5316,-109.4645 342.9405,-109.1839 351.0449,-116.008 353.5316,-109.4645\"/>\n<text text-anchor=\"middle\" x=\"369.7866\" y=\"-125.1979\" font-family=\"Times,serif\" font-size=\"14.00\" fill=\"#000000\">b </text>\n</g>\n<!-- St2 -->\n<g id=\"node3\" class=\"node\">\n<title>St2</title>\n<ellipse fill=\"none\" stroke=\"#000000\" cx=\"213.1938\" cy=\"-23.3979\" rx=\"23.2963\" ry=\"23.2963\"/>\n<text text-anchor=\"middle\" x=\"213.1938\" y=\"-19.6979\" font-family=\"Times,serif\" font-size=\"14.00\" fill=\"#000000\">St2</text>\n</g>\n<!-- St2&#45;&gt;St2 -->\n<g id=\"edge4\" class=\"edge\">\n<title>St2&#45;&gt;St2</title>\n<path fill=\"none\" stroke=\"#000000\" d=\"M204.0477,-45.1223C202.9185,-55.5716 205.9672,-64.7958 213.1938,-64.7958 217.9362,-64.7958 220.8794,-60.8233 222.0233,-55.1389\"/>\n<polygon fill=\"#000000\" stroke=\"#000000\" points=\"225.5222,-55.2279 222.3399,-45.1223 218.5256,-55.0067 225.5222,-55.2279\"/>\n<text text-anchor=\"middle\" x=\"213.1938\" y=\"-68.5958\" font-family=\"Times,serif\" font-size=\"14.00\" fill=\"#000000\">a </text>\n</g>\n<!-- St2&#45;&gt;St7 -->\n<g id=\"edge5\" class=\"edge\">\n<title>St2&#45;&gt;St7</title>\n<path fill=\"none\" stroke=\"#000000\" d=\"M232.2681,-37.3375C247.4865,-48.4591 269.0966,-64.2518 286.7082,-77.1224\"/>\n<polygon fill=\"#000000\" stroke=\"#000000\" points=\"284.8482,-80.0981 294.9872,-83.1727 288.9785,-74.4465 284.8482,-80.0981\"/>\n<text text-anchor=\"middle\" x=\"264.5917\" y=\"-68.1979\" font-family=\"Times,serif\" font-size=\"14.00\" fill=\"#000000\">b </text>\n</g>\n<!-- St10 -->\n<g id=\"node4\" class=\"node\">\n<title>St10</title>\n<ellipse fill=\"none\" stroke=\"#000000\" cx=\"317.1892\" cy=\"-173.3979\" rx=\"28.6953\" ry=\"28.6953\"/>\n<text text-anchor=\"middle\" x=\"317.1892\" y=\"-169.6979\" font-family=\"Times,serif\" font-size=\"14.00\" fill=\"#000000\">St10</text>\n</g>\n<!-- St8 -->\n<g id=\"node6\" class=\"node\">\n<title>St8</title>\n<ellipse fill=\"none\" stroke=\"#000000\" cx=\"213.1938\" cy=\"-175.3979\" rx=\"23.3111\" ry=\"23.3111\"/>\n<ellipse fill=\"none\" stroke=\"#000000\" cx=\"213.1938\" cy=\"-175.3979\" rx=\"27.2962\" ry=\"27.2962\"/>\n<text text-anchor=\"middle\" x=\"213.1938\" y=\"-171.6979\" font-family=\"Times,serif\" font-size=\"14.00\" fill=\"#000000\">St8</text>\n</g>\n<!-- St10&#45;&gt;St8 -->\n<g id=\"edge9\" class=\"edge\">\n<title>St10&#45;&gt;St8</title>\n<path fill=\"none\" stroke=\"#000000\" d=\"M292.1026,-159.0813C281.8378,-154.854 269.7674,-151.9383 258.5917,-154.3979 254.6957,-155.2554 250.7362,-156.4813 246.8613,-157.9158\"/>\n<polygon fill=\"#000000\" stroke=\"#000000\" points=\"245.3733,-154.7441 237.4882,-161.8204 248.0652,-161.2058 245.3733,-154.7441\"/>\n<text text-anchor=\"middle\" x=\"264.5917\" y=\"-158.1979\" font-family=\"Times,serif\" font-size=\"14.00\" fill=\"#000000\">b </text>\n</g>\n<!-- St4&#45;&gt;St2 -->\n<g id=\"edge2\" class=\"edge\">\n<title>St4&#45;&gt;St2</title>\n<path fill=\"none\" stroke=\"#000000\" d=\"M127.2209,-125.816C135.1095,-114.11 145.626,-99.0938 155.7958,-86.3979 166.3933,-73.1681 179.0007,-59.1626 189.6967,-47.725\"/>\n<polygon fill=\"#000000\" stroke=\"#000000\" points=\"192.4268,-49.9317 196.7481,-40.2581 187.3375,-45.1255 192.4268,-49.9317\"/>\n<text text-anchor=\"middle\" x=\"161.7958\" y=\"-90.1979\" font-family=\"Times,serif\" font-size=\"14.00\" fill=\"#000000\">a </text>\n</g>\n<!-- St4&#45;&gt;St8 -->\n<g id=\"edge3\" class=\"edge\">\n<title>St4&#45;&gt;St8</title>\n<path fill=\"none\" stroke=\"#000000\" d=\"M136.8162,-152.2054C148.6117,-155.7872 163.3678,-160.2679 176.7569,-164.3336\"/>\n<polygon fill=\"#000000\" stroke=\"#000000\" points=\"176.0718,-167.7834 186.6574,-167.34 178.1058,-161.0853 176.0718,-167.7834\"/>\n<text text-anchor=\"middle\" x=\"161.7958\" y=\"-165.1979\" font-family=\"Times,serif\" font-size=\"14.00\" fill=\"#000000\">b </text>\n</g>\n<!-- St8&#45;&gt;St10 -->\n<g id=\"edge6\" class=\"edge\">\n<title>St8&#45;&gt;St10</title>\n<path fill=\"none\" stroke=\"#000000\" d=\"M240.7896,-174.8672C252.2603,-174.6466 265.7799,-174.3866 278.2328,-174.1471\"/>\n<polygon fill=\"#000000\" stroke=\"#000000\" points=\"278.443,-177.6438 288.3738,-173.9521 278.3084,-170.6451 278.443,-177.6438\"/>\n<text text-anchor=\"middle\" x=\"264.5917\" y=\"-178.1979\" font-family=\"Times,serif\" font-size=\"14.00\" fill=\"#000000\">b </text>\n</g>\n<!-- St7&#45;&gt;St9 -->\n<g id=\"edge8\" class=\"edge\">\n<title>St7&#45;&gt;St9</title>\n<path fill=\"none\" stroke=\"#000000\" d=\"M344.5054,-95.948C354.6364,-95.6687 366.0282,-96.5769 375.7866,-100.3979 382.5409,-103.0427 388.9014,-107.3295 394.5159,-112.0646\"/>\n<polygon fill=\"#000000\" stroke=\"#000000\" points=\"392.4619,-114.9342 402.1672,-119.1837 397.2302,-109.8094 392.4619,-114.9342\"/>\n<text text-anchor=\"middle\" x=\"369.7866\" y=\"-104.1979\" font-family=\"Times,serif\" font-size=\"14.00\" fill=\"#000000\">b </text>\n</g>\n<!-- St7&#45;&gt;St4 -->\n<g id=\"edge7\" class=\"edge\">\n<title>St7&#45;&gt;St4</title>\n<path fill=\"none\" stroke=\"#000000\" d=\"M290.0976,-103.7537C263.4144,-108.2312 221.5713,-115.7552 185.7958,-124.3979 172.8441,-127.5268 158.7412,-131.5426 146.5162,-135.223\"/>\n<polygon fill=\"#000000\" stroke=\"#000000\" points=\"145.2941,-131.9367 136.7554,-138.2089 147.3418,-138.6305 145.2941,-131.9367\"/>\n<text text-anchor=\"middle\" x=\"213.1938\" y=\"-128.1979\" font-family=\"Times,serif\" font-size=\"14.00\" fill=\"#000000\">a </text>\n</g>\n</g>\n</svg>\n"
          },
          "metadata": {
            "tags": []
          },
          "execution_count": 60
        }
      ]
    },
    {
      "cell_type": "code",
      "metadata": {
        "id": "zdSBHplOJrdO",
        "colab": {
          "base_uri": "https://localhost:8080/",
          "height": 212
        },
        "outputId": "eed20178-7feb-465e-9820-7f1cbde25380"
      },
      "source": [
        "nfa3 = md2mc('''NFA              \n",
        "IA : a -> IA                    \n",
        "IA : a -> B                     \n",
        "IA : b -> FC                    \n",
        "B  : a -> IA                    \n",
        "B  : b -> B                     \n",
        "FC : b -> IA                    \n",
        "FC : b -> B                     \n",
        "''')                            \n",
        "                                \n",
        "dfa = nfa2dfa(totalize_nfa(nfa3))\n",
        "dotObj_dfa(dfa)"
      ],
      "execution_count": 61,
      "outputs": [
        {
          "output_type": "execute_result",
          "data": {
            "text/plain": [
              "<graphviz.dot.Digraph at 0x7f5ea64fddd8>"
            ],
            "image/svg+xml": "<?xml version=\"1.0\" encoding=\"UTF-8\" standalone=\"no\"?>\n<!DOCTYPE svg PUBLIC \"-//W3C//DTD SVG 1.1//EN\"\n \"http://www.w3.org/Graphics/SVG/1.1/DTD/svg11.dtd\">\n<!-- Generated by graphviz version 2.40.1 (20161225.0304)\n -->\n<!-- Title: %3 Pages: 1 -->\n<svg width=\"477pt\" height=\"143pt\"\n viewBox=\"0.00 0.00 477.38 142.64\" xmlns=\"http://www.w3.org/2000/svg\" xmlns:xlink=\"http://www.w3.org/1999/xlink\">\n<g id=\"graph0\" class=\"graph\" transform=\"scale(1 1) rotate(0) translate(4 138.6442)\">\n<title>%3</title>\n<polygon fill=\"#ffffff\" stroke=\"transparent\" points=\"-4,4 -4,-138.6442 473.3806,-138.6442 473.3806,4 -4,4\"/>\n<!-- EMPTY -->\n<g id=\"node1\" class=\"node\">\n<title>EMPTY</title>\n</g>\n<!-- IA -->\n<g id=\"node2\" class=\"node\">\n<title>IA</title>\n<ellipse fill=\"none\" stroke=\"#000000\" cx=\"111.7982\" cy=\"-59.797\" rx=\"20.5982\" ry=\"20.5982\"/>\n<text text-anchor=\"middle\" x=\"111.7982\" y=\"-56.097\" font-family=\"Times,serif\" font-size=\"14.00\" fill=\"#000000\">IA</text>\n</g>\n<!-- EMPTY&#45;&gt;IA -->\n<g id=\"edge1\" class=\"edge\">\n<title>EMPTY&#45;&gt;IA</title>\n<path fill=\"none\" stroke=\"#000000\" d=\"M54.2974,-59.797C62.6962,-59.797 72.0043,-59.797 80.6415,-59.797\"/>\n<polygon fill=\"#000000\" stroke=\"#000000\" points=\"80.7381,-63.2971 90.7381,-59.797 80.738,-56.2971 80.7381,-63.2971\"/>\n</g>\n<!-- B_IA -->\n<g id=\"node3\" class=\"node\">\n<title>B_IA</title>\n<ellipse fill=\"none\" stroke=\"#000000\" cx=\"313.9394\" cy=\"-69.797\" rx=\"31.6951\" ry=\"31.6951\"/>\n<text text-anchor=\"middle\" x=\"313.9394\" y=\"-66.097\" font-family=\"Times,serif\" font-size=\"14.00\" fill=\"#000000\">B_IA</text>\n</g>\n<!-- IA&#45;&gt;B_IA -->\n<g id=\"edge2\" class=\"edge\">\n<title>IA&#45;&gt;B_IA</title>\n<path fill=\"none\" stroke=\"#000000\" d=\"M128.9565,-71.7787C142.3337,-80.3517 161.7456,-91.163 180.5963,-95.797 212.0758,-103.5354 248.1887,-95.4704 274.8863,-86.3405\"/>\n<polygon fill=\"#000000\" stroke=\"#000000\" points=\"276.4129,-89.5104 284.6281,-82.8199 274.0338,-82.9271 276.4129,-89.5104\"/>\n<text text-anchor=\"middle\" x=\"207.3443\" y=\"-102.597\" font-family=\"Times,serif\" font-size=\"14.00\" fill=\"#000000\">a </text>\n</g>\n<!-- FC -->\n<g id=\"node5\" class=\"node\">\n<title>FC</title>\n<ellipse fill=\"none\" stroke=\"#000000\" cx=\"207.3443\" cy=\"-59.797\" rx=\"22.9609\" ry=\"22.9609\"/>\n<ellipse fill=\"none\" stroke=\"#000000\" cx=\"207.3443\" cy=\"-59.797\" rx=\"26.9983\" ry=\"26.9983\"/>\n<text text-anchor=\"middle\" x=\"207.3443\" y=\"-56.097\" font-family=\"Times,serif\" font-size=\"14.00\" fill=\"#000000\">FC</text>\n</g>\n<!-- IA&#45;&gt;FC -->\n<g id=\"edge3\" class=\"edge\">\n<title>IA&#45;&gt;FC</title>\n<path fill=\"none\" stroke=\"#000000\" d=\"M133.0029,-59.797C143.9126,-59.797 157.5327,-59.797 170.1235,-59.797\"/>\n<polygon fill=\"#000000\" stroke=\"#000000\" points=\"170.3756,-63.2971 180.3756,-59.797 170.3756,-56.2971 170.3756,-63.2971\"/>\n<text text-anchor=\"middle\" x=\"156.5963\" y=\"-63.597\" font-family=\"Times,serif\" font-size=\"14.00\" fill=\"#000000\">b </text>\n</g>\n<!-- B_IA&#45;&gt;B_IA -->\n<g id=\"edge4\" class=\"edge\">\n<title>B_IA&#45;&gt;B_IA</title>\n<path fill=\"none\" stroke=\"#000000\" d=\"M303.8169,-100.4632C303.7098,-111.0747 307.084,-119.6442 313.9394,-119.6442 318.4383,-119.6442 321.438,-115.9536 322.9383,-110.4173\"/>\n<polygon fill=\"#000000\" stroke=\"#000000\" points=\"326.4181,-110.7927 324.062,-100.4632 319.4623,-110.0075 326.4181,-110.7927\"/>\n<text text-anchor=\"middle\" x=\"313.9394\" y=\"-123.4442\" font-family=\"Times,serif\" font-size=\"14.00\" fill=\"#000000\">a </text>\n</g>\n<!-- B_FC -->\n<g id=\"node4\" class=\"node\">\n<title>B_FC</title>\n<ellipse fill=\"none\" stroke=\"#000000\" cx=\"431.5836\" cy=\"-37.797\" rx=\"33.6165\" ry=\"33.6165\"/>\n<ellipse fill=\"none\" stroke=\"#000000\" cx=\"431.5836\" cy=\"-37.797\" rx=\"37.5951\" ry=\"37.5951\"/>\n<text text-anchor=\"middle\" x=\"431.5836\" y=\"-34.097\" font-family=\"Times,serif\" font-size=\"14.00\" fill=\"#000000\">B_FC</text>\n</g>\n<!-- B_IA&#45;&gt;B_FC -->\n<g id=\"edge5\" class=\"edge\">\n<title>B_IA&#45;&gt;B_FC</title>\n<path fill=\"none\" stroke=\"#000000\" d=\"M345.1275,-61.8977C354.9523,-59.364 365.8355,-56.5105 375.7866,-53.797 378.8978,-52.9487 382.103,-52.0624 385.3301,-51.161\"/>\n<polygon fill=\"#000000\" stroke=\"#000000\" points=\"386.3297,-54.5156 395.0051,-48.4338 384.4306,-47.7782 386.3297,-54.5156\"/>\n<text text-anchor=\"middle\" x=\"369.7866\" y=\"-61.597\" font-family=\"Times,serif\" font-size=\"14.00\" fill=\"#000000\">b </text>\n</g>\n<!-- B_FC&#45;&gt;IA -->\n<g id=\"edge7\" class=\"edge\">\n<title>B_FC&#45;&gt;IA</title>\n<path fill=\"none\" stroke=\"#000000\" d=\"M394.8017,-29.0909C345.3303,-18.8779 254.9735,-5.5133 180.5963,-23.797 165.5746,-27.4897 150.1966,-35.1051 137.8,-42.3846\"/>\n<polygon fill=\"#000000\" stroke=\"#000000\" points=\"135.6465,-39.5998 128.9565,-47.8153 139.3096,-45.5648 135.6465,-39.5998\"/>\n<text text-anchor=\"middle\" x=\"258.0923\" y=\"-19.597\" font-family=\"Times,serif\" font-size=\"14.00\" fill=\"#000000\">a </text>\n</g>\n<!-- B_FC&#45;&gt;B_IA -->\n<g id=\"edge8\" class=\"edge\">\n<title>B_FC&#45;&gt;B_IA</title>\n<path fill=\"none\" stroke=\"#000000\" d=\"M394.0279,-31.5303C384.0179,-31.0964 373.3357,-31.7794 363.7866,-34.797 357.7653,-36.6998 351.8407,-39.6195 346.2953,-42.9781\"/>\n<polygon fill=\"#000000\" stroke=\"#000000\" points=\"344.3258,-40.0845 337.9339,-48.534 348.1999,-45.9147 344.3258,-40.0845\"/>\n<text text-anchor=\"middle\" x=\"369.7866\" y=\"-38.597\" font-family=\"Times,serif\" font-size=\"14.00\" fill=\"#000000\">b </text>\n</g>\n<!-- FC&#45;&gt;B_IA -->\n<g id=\"edge6\" class=\"edge\">\n<title>FC&#45;&gt;B_IA</title>\n<path fill=\"none\" stroke=\"#000000\" d=\"M234.2427,-62.3204C245.7279,-63.3979 259.4012,-64.6806 272.1515,-65.8768\"/>\n<polygon fill=\"#000000\" stroke=\"#000000\" points=\"271.8366,-69.3625 282.1198,-66.8119 272.4905,-62.3931 271.8366,-69.3625\"/>\n<text text-anchor=\"middle\" x=\"258.0923\" y=\"-68.597\" font-family=\"Times,serif\" font-size=\"14.00\" fill=\"#000000\">b </text>\n</g>\n</g>\n</svg>\n"
          },
          "metadata": {
            "tags": []
          },
          "execution_count": 61
        }
      ]
    },
    {
      "cell_type": "markdown",
      "metadata": {
        "id": "TdFlRj46Kebu"
      },
      "source": [
        "A good name for ```nfa3``` is\n"
      ]
    },
    {
      "cell_type": "code",
      "metadata": {
        "id": "E42eZH56Kebu"
      },
      "source": [
        "name3 = 'endsInB'  #@param {type: \"string\"}"
      ],
      "execution_count": null,
      "outputs": []
    },
    {
      "cell_type": "markdown",
      "metadata": {
        "id": "Nh3L-a0UKebv"
      },
      "source": [
        "An RE for the language of ```nfa3``` is"
      ]
    },
    {
      "cell_type": "code",
      "metadata": {
        "id": "G3an2JpsKebv"
      },
      "source": [
        "re3 = 'aa*b+b+aa*bba*b'  #@param {type: \"string\"}"
      ],
      "execution_count": null,
      "outputs": []
    },
    {
      "cell_type": "code",
      "metadata": {
        "id": "nHsYxEhfKuTt",
        "colab": {
          "base_uri": "https://localhost:8080/",
          "height": 144
        },
        "outputId": "559f034c-f096-4438-9f47-2d9c4163a6b5"
      },
      "source": [
        "nfa4 = md2mc('''NFA    \n",
        "I : 0 -> A            \n",
        "A : '' -> F1          \n",
        "F1 : 0 -> F           \n",
        "F : '' -> I           \n",
        "''')                  \n",
        "                      \n",
        "dotObj_nfa(nfa4)"
      ],
      "execution_count": 62,
      "outputs": [
        {
          "output_type": "execute_result",
          "data": {
            "text/plain": [
              "<graphviz.dot.Digraph at 0x7f5ea492b3c8>"
            ],
            "image/svg+xml": "<?xml version=\"1.0\" encoding=\"UTF-8\" standalone=\"no\"?>\n<!DOCTYPE svg PUBLIC \"-//W3C//DTD SVG 1.1//EN\"\n \"http://www.w3.org/Graphics/SVG/1.1/DTD/svg11.dtd\">\n<!-- Generated by graphviz version 2.40.1 (20161225.0304)\n -->\n<!-- Title: %3 Pages: 1 -->\n<svg width=\"406pt\" height=\"92pt\"\n viewBox=\"0.00 0.00 405.60 91.80\" xmlns=\"http://www.w3.org/2000/svg\" xmlns:xlink=\"http://www.w3.org/1999/xlink\">\n<g id=\"graph0\" class=\"graph\" transform=\"scale(1 1) rotate(0) translate(4 87.7982)\">\n<title>%3</title>\n<polygon fill=\"#ffffff\" stroke=\"transparent\" points=\"-4,4 -4,-87.7982 401.5963,-87.7982 401.5963,4 -4,4\"/>\n<!-- EMPTY -->\n<g id=\"node1\" class=\"node\">\n<title>EMPTY</title>\n</g>\n<!-- I -->\n<g id=\"node3\" class=\"node\">\n<title>I</title>\n<ellipse fill=\"none\" stroke=\"#000000\" cx=\"109\" cy=\"-22\" rx=\"18\" ry=\"18\"/>\n<text text-anchor=\"middle\" x=\"109\" y=\"-18.3\" font-family=\"Times,serif\" font-size=\"14.00\" fill=\"#000000\">I</text>\n</g>\n<!-- EMPTY&#45;&gt;I -->\n<g id=\"edge1\" class=\"edge\">\n<title>EMPTY&#45;&gt;I</title>\n<path fill=\"none\" stroke=\"#000000\" d=\"M54.3048,-22C62.6909,-22 71.9407,-22 80.4103,-22\"/>\n<polygon fill=\"#000000\" stroke=\"#000000\" points=\"80.5976,-25.5001 90.5976,-22 80.5976,-18.5001 80.5976,-25.5001\"/>\n</g>\n<!-- A -->\n<g id=\"node2\" class=\"node\">\n<title>A</title>\n<ellipse fill=\"none\" stroke=\"#000000\" cx=\"193\" cy=\"-55\" rx=\"18\" ry=\"18\"/>\n<text text-anchor=\"middle\" x=\"193\" y=\"-51.3\" font-family=\"Times,serif\" font-size=\"14.00\" fill=\"#000000\">A</text>\n</g>\n<!-- F1 -->\n<g id=\"node5\" class=\"node\">\n<title>F1</title>\n<ellipse fill=\"none\" stroke=\"#000000\" cx=\"280.7982\" cy=\"-59\" rx=\"20.6302\" ry=\"20.6302\"/>\n<ellipse fill=\"none\" stroke=\"#000000\" cx=\"280.7982\" cy=\"-59\" rx=\"24.5979\" ry=\"24.5979\"/>\n<text text-anchor=\"middle\" x=\"280.7982\" y=\"-55.3\" font-family=\"Times,serif\" font-size=\"14.00\" fill=\"#000000\">F1</text>\n</g>\n<!-- A&#45;&gt;F1 -->\n<g id=\"edge3\" class=\"edge\">\n<title>A&#45;&gt;F1</title>\n<path fill=\"none\" stroke=\"#000000\" d=\"M211.1918,-55.8288C221.2146,-56.2854 233.9979,-56.8678 245.8674,-57.4086\"/>\n<polygon fill=\"#000000\" stroke=\"#000000\" points=\"245.8217,-60.91 255.9706,-57.8689 246.1403,-53.9173 245.8217,-60.91\"/>\n<text text-anchor=\"middle\" x=\"233.5\" y=\"-60.8\" font-family=\"Times,serif\" font-size=\"14.00\" fill=\"#000000\">&#39;&#39; </text>\n</g>\n<!-- I&#45;&gt;A -->\n<g id=\"edge2\" class=\"edge\">\n<title>I&#45;&gt;A</title>\n<path fill=\"none\" stroke=\"#000000\" d=\"M125.9987,-28.678C137.612,-33.2404 153.2351,-39.3781 166.4737,-44.5789\"/>\n<polygon fill=\"#000000\" stroke=\"#000000\" points=\"165.4393,-47.9329 176.0266,-48.3319 167.9989,-41.4177 165.4393,-47.9329\"/>\n<text text-anchor=\"middle\" x=\"151\" y=\"-43.8\" font-family=\"Times,serif\" font-size=\"14.00\" fill=\"#000000\">0 </text>\n</g>\n<!-- F -->\n<g id=\"node4\" class=\"node\">\n<title>F</title>\n<ellipse fill=\"none\" stroke=\"#000000\" cx=\"375.5963\" cy=\"-22\" rx=\"18\" ry=\"18\"/>\n<ellipse fill=\"none\" stroke=\"#000000\" cx=\"375.5963\" cy=\"-22\" rx=\"22\" ry=\"22\"/>\n<text text-anchor=\"middle\" x=\"375.5963\" y=\"-18.3\" font-family=\"Times,serif\" font-size=\"14.00\" fill=\"#000000\">F</text>\n</g>\n<!-- F&#45;&gt;I -->\n<g id=\"edge5\" class=\"edge\">\n<title>F&#45;&gt;I</title>\n<path fill=\"none\" stroke=\"#000000\" d=\"M353.4604,-22C305.2733,-22 190.9211,-22 137.4641,-22\"/>\n<polygon fill=\"#000000\" stroke=\"#000000\" points=\"137.3243,-18.5001 127.3242,-22 137.3242,-25.5001 137.3243,-18.5001\"/>\n<text text-anchor=\"middle\" x=\"233.5\" y=\"-25.8\" font-family=\"Times,serif\" font-size=\"14.00\" fill=\"#000000\">&#39;&#39; </text>\n</g>\n<!-- F1&#45;&gt;F -->\n<g id=\"edge4\" class=\"edge\">\n<title>F1&#45;&gt;F</title>\n<path fill=\"none\" stroke=\"#000000\" d=\"M304.2314,-49.8539C316.6399,-45.0109 332.0221,-39.0072 345.3247,-33.8151\"/>\n<polygon fill=\"#000000\" stroke=\"#000000\" points=\"346.9653,-36.932 355.0083,-30.0356 344.4201,-30.4111 346.9653,-36.932\"/>\n<text text-anchor=\"middle\" x=\"329.5963\" y=\"-44.8\" font-family=\"Times,serif\" font-size=\"14.00\" fill=\"#000000\">0 </text>\n</g>\n</g>\n</svg>\n"
          },
          "metadata": {
            "tags": []
          },
          "execution_count": 62
        }
      ]
    },
    {
      "cell_type": "markdown",
      "metadata": {
        "id": "pThRLjpFK3ac"
      },
      "source": [
        "A good name for ```nfa4``` is\n"
      ]
    },
    {
      "cell_type": "code",
      "metadata": {
        "id": "MaDIz34gK3ac"
      },
      "source": [
        "name4 = 'atLeastOne0'  #@param {type: \"string\"}"
      ],
      "execution_count": 71,
      "outputs": []
    },
    {
      "cell_type": "markdown",
      "metadata": {
        "id": "5pLQMGB6K3ac"
      },
      "source": [
        "An RE for the language of ```nfa4``` is"
      ]
    },
    {
      "cell_type": "code",
      "metadata": {
        "id": "CffzXbmeK3ac"
      },
      "source": [
        "re4 = '00*'  #@param {type: \"string\"}"
      ],
      "execution_count": 68,
      "outputs": []
    },
    {
      "cell_type": "code",
      "metadata": {
        "colab": {
          "base_uri": "https://localhost:8080/",
          "height": 166
        },
        "id": "nvMBE8CrjeQn",
        "outputId": "0726be86-174a-4278-d029-9206b82fb7c9"
      },
      "source": [
        "dotObj_dfa(min_dfa(nfa2dfa(re2nfa(re4))))"
      ],
      "execution_count": 69,
      "outputs": [
        {
          "output_type": "stream",
          "text": [
            "Generating LALR tables\n"
          ],
          "name": "stderr"
        },
        {
          "output_type": "execute_result",
          "data": {
            "text/plain": [
              "<graphviz.dot.Digraph at 0x7f5ea4940588>"
            ],
            "image/svg+xml": "<?xml version=\"1.0\" encoding=\"UTF-8\" standalone=\"no\"?>\n<!DOCTYPE svg PUBLIC \"-//W3C//DTD SVG 1.1//EN\"\n \"http://www.w3.org/Graphics/SVG/1.1/DTD/svg11.dtd\">\n<!-- Generated by graphviz version 2.40.1 (20161225.0304)\n -->\n<!-- Title: %3 Pages: 1 -->\n<svg width=\"249pt\" height=\"96pt\"\n viewBox=\"0.00 0.00 248.59 95.80\" xmlns=\"http://www.w3.org/2000/svg\" xmlns:xlink=\"http://www.w3.org/1999/xlink\">\n<g id=\"graph0\" class=\"graph\" transform=\"scale(1 1) rotate(0) translate(4 91.7958)\">\n<title>%3</title>\n<polygon fill=\"#ffffff\" stroke=\"transparent\" points=\"-4,4 -4,-91.7958 244.5917,-91.7958 244.5917,4 -4,4\"/>\n<!-- EMPTY -->\n<g id=\"node1\" class=\"node\">\n<title>EMPTY</title>\n</g>\n<!-- St0 -->\n<g id=\"node2\" class=\"node\">\n<title>St0</title>\n<ellipse fill=\"none\" stroke=\"#000000\" cx=\"114.3979\" cy=\"-27.3979\" rx=\"23.2963\" ry=\"23.2963\"/>\n<text text-anchor=\"middle\" x=\"114.3979\" y=\"-23.6979\" font-family=\"Times,serif\" font-size=\"14.00\" fill=\"#000000\">St0</text>\n</g>\n<!-- EMPTY&#45;&gt;St0 -->\n<g id=\"edge1\" class=\"edge\">\n<title>EMPTY&#45;&gt;St0</title>\n<path fill=\"none\" stroke=\"#000000\" d=\"M54.1742,-27.3979C62.5103,-27.3979 71.7873,-27.3979 80.5137,-27.3979\"/>\n<polygon fill=\"#000000\" stroke=\"#000000\" points=\"80.7846,-30.898 90.7846,-27.3979 80.7845,-23.898 80.7846,-30.898\"/>\n</g>\n<!-- St2 -->\n<g id=\"node3\" class=\"node\">\n<title>St2</title>\n<ellipse fill=\"none\" stroke=\"#000000\" cx=\"213.1938\" cy=\"-27.3979\" rx=\"23.3111\" ry=\"23.3111\"/>\n<ellipse fill=\"none\" stroke=\"#000000\" cx=\"213.1938\" cy=\"-27.3979\" rx=\"27.2962\" ry=\"27.2962\"/>\n<text text-anchor=\"middle\" x=\"213.1938\" y=\"-23.6979\" font-family=\"Times,serif\" font-size=\"14.00\" fill=\"#000000\">St2</text>\n</g>\n<!-- St0&#45;&gt;St2 -->\n<g id=\"edge2\" class=\"edge\">\n<title>St0&#45;&gt;St2</title>\n<path fill=\"none\" stroke=\"#000000\" d=\"M137.8112,-27.3979C149.0451,-27.3979 162.7854,-27.3979 175.4437,-27.3979\"/>\n<polygon fill=\"#000000\" stroke=\"#000000\" points=\"175.7434,-30.898 185.7433,-27.3979 175.7433,-23.898 175.7434,-30.898\"/>\n<text text-anchor=\"middle\" x=\"161.7958\" y=\"-31.1979\" font-family=\"Times,serif\" font-size=\"14.00\" fill=\"#000000\">0 </text>\n</g>\n<!-- St2&#45;&gt;St2 -->\n<g id=\"edge3\" class=\"edge\">\n<title>St2&#45;&gt;St2</title>\n<path fill=\"none\" stroke=\"#000000\" d=\"M203.876,-53.523C203.3496,-64.0011 206.4555,-72.7958 213.1938,-72.7958 217.5105,-72.7958 220.3365,-69.1865 221.6717,-63.8374\"/>\n<polygon fill=\"#000000\" stroke=\"#000000\" points=\"225.1884,-63.7741 222.5116,-53.523 218.2115,-63.206 225.1884,-63.7741\"/>\n<text text-anchor=\"middle\" x=\"213.1938\" y=\"-76.5958\" font-family=\"Times,serif\" font-size=\"14.00\" fill=\"#000000\">0 </text>\n</g>\n</g>\n</svg>\n"
          },
          "metadata": {
            "tags": []
          },
          "execution_count": 69
        }
      ]
    },
    {
      "cell_type": "code",
      "metadata": {
        "colab": {
          "base_uri": "https://localhost:8080/"
        },
        "id": "q3w3LijIjnck",
        "outputId": "f207f70e-570e-4836-deda-36903be74476"
      },
      "source": [
        "langeq_dfa(min_dfa(nfa2dfa(re2nfa(re4))), nfa2dfa(nfa4))"
      ],
      "execution_count": 70,
      "outputs": [
        {
          "output_type": "stream",
          "text": [
            "Generating LALR tables\n"
          ],
          "name": "stderr"
        },
        {
          "output_type": "execute_result",
          "data": {
            "text/plain": [
              "True"
            ]
          },
          "metadata": {
            "tags": []
          },
          "execution_count": 70
        }
      ]
    },
    {
      "cell_type": "markdown",
      "metadata": {
        "id": "mMO_bynFK6Wf"
      },
      "source": [
        "## Easy to Simulate"
      ]
    },
    {
      "cell_type": "markdown",
      "metadata": {
        "id": "2QwtfAW0K9DG"
      },
      "source": [
        "With code:"
      ]
    },
    {
      "cell_type": "code",
      "metadata": {
        "id": "AwlFOq4TLBJN",
        "colab": {
          "base_uri": "https://localhost:8080/"
        },
        "outputId": "06233b16-0e60-4eaa-a70e-44f2f3ae8088"
      },
      "source": [
        "nfa5 = md2mc('''NFA                                                 \n",
        "I    : 0|1 -> I                                                    \n",
        "I    : 0   -> S0                                                   \n",
        "S0   : 0|1   -> S01                                                \n",
        "S01  : 0|1   -> S010                                               \n",
        "S010 : 0|1   -> F                                                  \n",
        "''')                                                               \n",
        "                                                                   \n",
        "for i in range(200):                                               \n",
        "    into_the_depths = bin(i)[2:].zfill(5)                          \n",
        "    print(into_the_depths, ': ', accepts_nfa(nfa5, into_the_depths))"
      ],
      "execution_count": 3,
      "outputs": [
        {
          "output_type": "stream",
          "text": [
            "00000 :  True\n",
            "00001 :  True\n",
            "00010 :  True\n",
            "00011 :  True\n",
            "00100 :  True\n",
            "00101 :  True\n",
            "00110 :  True\n",
            "00111 :  True\n",
            "01000 :  False\n",
            "01001 :  False\n",
            "01010 :  False\n",
            "01011 :  False\n",
            "01100 :  False\n",
            "01101 :  False\n",
            "01110 :  False\n",
            "01111 :  False\n",
            "10000 :  True\n",
            "10001 :  True\n",
            "10010 :  True\n",
            "10011 :  True\n",
            "10100 :  True\n",
            "10101 :  True\n",
            "10110 :  True\n",
            "10111 :  True\n",
            "11000 :  False\n",
            "11001 :  False\n",
            "11010 :  False\n",
            "11011 :  False\n",
            "11100 :  False\n",
            "11101 :  False\n",
            "11110 :  False\n",
            "11111 :  False\n",
            "100000 :  True\n",
            "100001 :  True\n",
            "100010 :  True\n",
            "100011 :  True\n",
            "100100 :  True\n",
            "100101 :  True\n",
            "100110 :  True\n",
            "100111 :  True\n",
            "101000 :  False\n",
            "101001 :  False\n",
            "101010 :  False\n",
            "101011 :  False\n",
            "101100 :  False\n",
            "101101 :  False\n",
            "101110 :  False\n",
            "101111 :  False\n",
            "110000 :  True\n",
            "110001 :  True\n",
            "110010 :  True\n",
            "110011 :  True\n",
            "110100 :  True\n",
            "110101 :  True\n",
            "110110 :  True\n",
            "110111 :  True\n",
            "111000 :  False\n",
            "111001 :  False\n",
            "111010 :  False\n",
            "111011 :  False\n",
            "111100 :  False\n",
            "111101 :  False\n",
            "111110 :  False\n",
            "111111 :  False\n",
            "1000000 :  True\n",
            "1000001 :  True\n",
            "1000010 :  True\n",
            "1000011 :  True\n",
            "1000100 :  True\n",
            "1000101 :  True\n",
            "1000110 :  True\n",
            "1000111 :  True\n",
            "1001000 :  False\n",
            "1001001 :  False\n",
            "1001010 :  False\n",
            "1001011 :  False\n",
            "1001100 :  False\n",
            "1001101 :  False\n",
            "1001110 :  False\n",
            "1001111 :  False\n",
            "1010000 :  True\n",
            "1010001 :  True\n",
            "1010010 :  True\n",
            "1010011 :  True\n",
            "1010100 :  True\n",
            "1010101 :  True\n",
            "1010110 :  True\n",
            "1010111 :  True\n",
            "1011000 :  False\n",
            "1011001 :  False\n",
            "1011010 :  False\n",
            "1011011 :  False\n",
            "1011100 :  False\n",
            "1011101 :  False\n",
            "1011110 :  False\n",
            "1011111 :  False\n",
            "1100000 :  True\n",
            "1100001 :  True\n",
            "1100010 :  True\n",
            "1100011 :  True\n",
            "1100100 :  True\n",
            "1100101 :  True\n",
            "1100110 :  True\n",
            "1100111 :  True\n",
            "1101000 :  False\n",
            "1101001 :  False\n",
            "1101010 :  False\n",
            "1101011 :  False\n",
            "1101100 :  False\n",
            "1101101 :  False\n",
            "1101110 :  False\n",
            "1101111 :  False\n",
            "1110000 :  True\n",
            "1110001 :  True\n",
            "1110010 :  True\n",
            "1110011 :  True\n",
            "1110100 :  True\n",
            "1110101 :  True\n",
            "1110110 :  True\n",
            "1110111 :  True\n",
            "1111000 :  False\n",
            "1111001 :  False\n",
            "1111010 :  False\n",
            "1111011 :  False\n",
            "1111100 :  False\n",
            "1111101 :  False\n",
            "1111110 :  False\n",
            "1111111 :  False\n",
            "10000000 :  True\n",
            "10000001 :  True\n",
            "10000010 :  True\n",
            "10000011 :  True\n",
            "10000100 :  True\n",
            "10000101 :  True\n",
            "10000110 :  True\n",
            "10000111 :  True\n",
            "10001000 :  False\n",
            "10001001 :  False\n",
            "10001010 :  False\n",
            "10001011 :  False\n",
            "10001100 :  False\n",
            "10001101 :  False\n",
            "10001110 :  False\n",
            "10001111 :  False\n",
            "10010000 :  True\n",
            "10010001 :  True\n",
            "10010010 :  True\n",
            "10010011 :  True\n",
            "10010100 :  True\n",
            "10010101 :  True\n",
            "10010110 :  True\n",
            "10010111 :  True\n",
            "10011000 :  False\n",
            "10011001 :  False\n",
            "10011010 :  False\n",
            "10011011 :  False\n",
            "10011100 :  False\n",
            "10011101 :  False\n",
            "10011110 :  False\n",
            "10011111 :  False\n",
            "10100000 :  True\n",
            "10100001 :  True\n",
            "10100010 :  True\n",
            "10100011 :  True\n",
            "10100100 :  True\n",
            "10100101 :  True\n",
            "10100110 :  True\n",
            "10100111 :  True\n",
            "10101000 :  False\n",
            "10101001 :  False\n",
            "10101010 :  False\n",
            "10101011 :  False\n",
            "10101100 :  False\n",
            "10101101 :  False\n",
            "10101110 :  False\n",
            "10101111 :  False\n",
            "10110000 :  True\n",
            "10110001 :  True\n",
            "10110010 :  True\n",
            "10110011 :  True\n",
            "10110100 :  True\n",
            "10110101 :  True\n",
            "10110110 :  True\n",
            "10110111 :  True\n",
            "10111000 :  False\n",
            "10111001 :  False\n",
            "10111010 :  False\n",
            "10111011 :  False\n",
            "10111100 :  False\n",
            "10111101 :  False\n",
            "10111110 :  False\n",
            "10111111 :  False\n",
            "11000000 :  True\n",
            "11000001 :  True\n",
            "11000010 :  True\n",
            "11000011 :  True\n",
            "11000100 :  True\n",
            "11000101 :  True\n",
            "11000110 :  True\n",
            "11000111 :  True\n"
          ],
          "name": "stdout"
        }
      ]
    },
    {
      "cell_type": "markdown",
      "metadata": {
        "id": "fAPsLCFKLdas"
      },
      "source": [
        "With the Animation Panel:"
      ]
    }
  ]
}