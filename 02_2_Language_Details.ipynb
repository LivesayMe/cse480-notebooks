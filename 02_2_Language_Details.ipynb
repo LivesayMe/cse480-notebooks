{
  "nbformat": 4,
  "nbformat_minor": 0,
  "metadata": {
    "kernelspec": {
      "display_name": "Python 3",
      "language": "python",
      "name": "python3"
    },
    "language_info": {
      "codemirror_mode": {
        "name": "ipython",
        "version": 3
      },
      "file_extension": ".py",
      "mimetype": "text/x-python",
      "name": "python",
      "nbconvert_exporter": "python",
      "pygments_lexer": "ipython3",
      "version": "3.9.0"
    },
    "toc": {
      "colors": {
        "hover_highlight": "#DAA520",
        "running_highlight": "#FF0000",
        "selected_highlight": "#FFD700"
      },
      "moveMenuLeft": true,
      "nav_menu": {
        "height": "207px",
        "width": "252px"
      },
      "navigate_menu": true,
      "number_sections": true,
      "sideBar": true,
      "threshold": 4,
      "toc_cell": false,
      "toc_section_display": "block",
      "toc_window_display": false,
      "widenNotebook": false
    },
    "widgets": {
      "application/vnd.jupyter.widget-state+json": {
        "c72a14cb03af45288c07852532a682ad": {
          "model_module": "@jupyter-widgets/controls",
          "model_name": "VBoxModel",
          "state": {
            "_view_name": "VBoxView",
            "_dom_classes": [
              "widget-interact"
            ],
            "_model_name": "VBoxModel",
            "_view_module": "@jupyter-widgets/controls",
            "_model_module_version": "1.5.0",
            "_view_count": null,
            "_view_module_version": "1.5.0",
            "box_style": "",
            "layout": "IPY_MODEL_026cfc7c0559436b90822a42c4d9a31e",
            "_model_module": "@jupyter-widgets/controls",
            "children": [
              "IPY_MODEL_b10d595f14f3486bbe84c1514b19815e",
              "IPY_MODEL_e53ebf731a4742db8ffaae6f5a907b91",
              "IPY_MODEL_36217a534483405e9d6c39ed9789a631"
            ]
          }
        },
        "026cfc7c0559436b90822a42c4d9a31e": {
          "model_module": "@jupyter-widgets/base",
          "model_name": "LayoutModel",
          "state": {
            "_view_name": "LayoutView",
            "grid_template_rows": null,
            "right": null,
            "justify_content": null,
            "_view_module": "@jupyter-widgets/base",
            "overflow": null,
            "_model_module_version": "1.2.0",
            "_view_count": null,
            "flex_flow": null,
            "width": null,
            "min_width": null,
            "border": null,
            "align_items": null,
            "bottom": null,
            "_model_module": "@jupyter-widgets/base",
            "top": null,
            "grid_column": null,
            "overflow_y": null,
            "overflow_x": null,
            "grid_auto_flow": null,
            "grid_area": null,
            "grid_template_columns": null,
            "flex": null,
            "_model_name": "LayoutModel",
            "justify_items": null,
            "grid_row": null,
            "max_height": null,
            "align_content": null,
            "visibility": null,
            "align_self": null,
            "height": null,
            "min_height": null,
            "padding": null,
            "grid_auto_rows": null,
            "grid_gap": null,
            "max_width": null,
            "order": null,
            "_view_module_version": "1.2.0",
            "grid_template_areas": null,
            "object_position": null,
            "object_fit": null,
            "grid_auto_columns": null,
            "margin": null,
            "display": null,
            "left": null
          }
        },
        "b10d595f14f3486bbe84c1514b19815e": {
          "model_module": "@jupyter-widgets/controls",
          "model_name": "DropdownModel",
          "state": {
            "_options_labels": [
              "L3",
              "L1",
              "L2",
              "M",
              "lphi",
              "lunit"
            ],
            "_view_name": "DropdownView",
            "style": "IPY_MODEL_61b70411d8894b0b8ff9f90f4eeb2ae3",
            "_dom_classes": [],
            "description": "L",
            "_model_name": "DropdownModel",
            "index": 0,
            "_view_module": "@jupyter-widgets/controls",
            "_model_module_version": "1.5.0",
            "_view_count": null,
            "disabled": false,
            "_view_module_version": "1.5.0",
            "description_tooltip": null,
            "_model_module": "@jupyter-widgets/controls",
            "layout": "IPY_MODEL_a6476720d30046a9897bbf1521befaa5"
          }
        },
        "e53ebf731a4742db8ffaae6f5a907b91": {
          "model_module": "@jupyter-widgets/controls",
          "model_name": "IntSliderModel",
          "state": {
            "_view_name": "IntSliderView",
            "style": "IPY_MODEL_b86f4f301ba64b55b615f8ea1ad079cb",
            "_dom_classes": [],
            "description": "n",
            "step": 1,
            "_model_name": "IntSliderModel",
            "orientation": "horizontal",
            "max": 7,
            "_view_module": "@jupyter-widgets/controls",
            "_model_module_version": "1.5.0",
            "value": 3,
            "_view_count": null,
            "disabled": false,
            "_view_module_version": "1.5.0",
            "min": 0,
            "continuous_update": true,
            "readout_format": "d",
            "description_tooltip": null,
            "readout": true,
            "_model_module": "@jupyter-widgets/controls",
            "layout": "IPY_MODEL_faf2aabf52a74afdb6a30308bc5debd9"
          }
        },
        "36217a534483405e9d6c39ed9789a631": {
          "model_module": "@jupyter-widgets/output",
          "model_name": "OutputModel",
          "state": {
            "_view_name": "OutputView",
            "msg_id": "",
            "_dom_classes": [],
            "_model_name": "OutputModel",
            "outputs": [
              {
                "output_type": "display_data",
                "metadata": {
                  "tags": []
                },
                "text/plain": "{'',\n 'a',\n 'aa',\n 'aaa',\n 'aab',\n 'aac',\n 'ab',\n 'aba',\n 'abb',\n 'abc',\n 'ac',\n 'aca',\n 'acb',\n 'acc',\n 'b',\n 'ba',\n 'baa',\n 'bab',\n 'bac',\n 'bb',\n 'bba',\n 'bbb',\n 'bbc',\n 'bc',\n 'bca',\n 'bcb',\n 'bcc',\n 'c',\n 'ca',\n 'caa',\n 'cab',\n 'cac',\n 'cb',\n 'cba',\n 'cbb',\n 'cbc',\n 'cc',\n 'cca',\n 'ccb',\n 'ccc'}"
              }
            ],
            "_view_module": "@jupyter-widgets/output",
            "_model_module_version": "1.0.0",
            "_view_count": null,
            "_view_module_version": "1.0.0",
            "layout": "IPY_MODEL_32c7c806742a48afb50f69daa4ef5314",
            "_model_module": "@jupyter-widgets/output"
          }
        },
        "61b70411d8894b0b8ff9f90f4eeb2ae3": {
          "model_module": "@jupyter-widgets/controls",
          "model_name": "DescriptionStyleModel",
          "state": {
            "_view_name": "StyleView",
            "_model_name": "DescriptionStyleModel",
            "description_width": "",
            "_view_module": "@jupyter-widgets/base",
            "_model_module_version": "1.5.0",
            "_view_count": null,
            "_view_module_version": "1.2.0",
            "_model_module": "@jupyter-widgets/controls"
          }
        },
        "a6476720d30046a9897bbf1521befaa5": {
          "model_module": "@jupyter-widgets/base",
          "model_name": "LayoutModel",
          "state": {
            "_view_name": "LayoutView",
            "grid_template_rows": null,
            "right": null,
            "justify_content": null,
            "_view_module": "@jupyter-widgets/base",
            "overflow": null,
            "_model_module_version": "1.2.0",
            "_view_count": null,
            "flex_flow": null,
            "width": null,
            "min_width": null,
            "border": null,
            "align_items": null,
            "bottom": null,
            "_model_module": "@jupyter-widgets/base",
            "top": null,
            "grid_column": null,
            "overflow_y": null,
            "overflow_x": null,
            "grid_auto_flow": null,
            "grid_area": null,
            "grid_template_columns": null,
            "flex": null,
            "_model_name": "LayoutModel",
            "justify_items": null,
            "grid_row": null,
            "max_height": null,
            "align_content": null,
            "visibility": null,
            "align_self": null,
            "height": null,
            "min_height": null,
            "padding": null,
            "grid_auto_rows": null,
            "grid_gap": null,
            "max_width": null,
            "order": null,
            "_view_module_version": "1.2.0",
            "grid_template_areas": null,
            "object_position": null,
            "object_fit": null,
            "grid_auto_columns": null,
            "margin": null,
            "display": null,
            "left": null
          }
        },
        "b86f4f301ba64b55b615f8ea1ad079cb": {
          "model_module": "@jupyter-widgets/controls",
          "model_name": "SliderStyleModel",
          "state": {
            "_view_name": "StyleView",
            "handle_color": null,
            "_model_name": "SliderStyleModel",
            "description_width": "",
            "_view_module": "@jupyter-widgets/base",
            "_model_module_version": "1.5.0",
            "_view_count": null,
            "_view_module_version": "1.2.0",
            "_model_module": "@jupyter-widgets/controls"
          }
        },
        "faf2aabf52a74afdb6a30308bc5debd9": {
          "model_module": "@jupyter-widgets/base",
          "model_name": "LayoutModel",
          "state": {
            "_view_name": "LayoutView",
            "grid_template_rows": null,
            "right": null,
            "justify_content": null,
            "_view_module": "@jupyter-widgets/base",
            "overflow": null,
            "_model_module_version": "1.2.0",
            "_view_count": null,
            "flex_flow": null,
            "width": null,
            "min_width": null,
            "border": null,
            "align_items": null,
            "bottom": null,
            "_model_module": "@jupyter-widgets/base",
            "top": null,
            "grid_column": null,
            "overflow_y": null,
            "overflow_x": null,
            "grid_auto_flow": null,
            "grid_area": null,
            "grid_template_columns": null,
            "flex": null,
            "_model_name": "LayoutModel",
            "justify_items": null,
            "grid_row": null,
            "max_height": null,
            "align_content": null,
            "visibility": null,
            "align_self": null,
            "height": null,
            "min_height": null,
            "padding": null,
            "grid_auto_rows": null,
            "grid_gap": null,
            "max_width": null,
            "order": null,
            "_view_module_version": "1.2.0",
            "grid_template_areas": null,
            "object_position": null,
            "object_fit": null,
            "grid_auto_columns": null,
            "margin": null,
            "display": null,
            "left": null
          }
        },
        "32c7c806742a48afb50f69daa4ef5314": {
          "model_module": "@jupyter-widgets/base",
          "model_name": "LayoutModel",
          "state": {
            "_view_name": "LayoutView",
            "grid_template_rows": null,
            "right": null,
            "justify_content": null,
            "_view_module": "@jupyter-widgets/base",
            "overflow": null,
            "_model_module_version": "1.2.0",
            "_view_count": null,
            "flex_flow": null,
            "width": null,
            "min_width": null,
            "border": null,
            "align_items": null,
            "bottom": null,
            "_model_module": "@jupyter-widgets/base",
            "top": null,
            "grid_column": null,
            "overflow_y": null,
            "overflow_x": null,
            "grid_auto_flow": null,
            "grid_area": null,
            "grid_template_columns": null,
            "flex": null,
            "_model_name": "LayoutModel",
            "justify_items": null,
            "grid_row": null,
            "max_height": null,
            "align_content": null,
            "visibility": null,
            "align_self": null,
            "height": null,
            "min_height": null,
            "padding": null,
            "grid_auto_rows": null,
            "grid_gap": null,
            "max_width": null,
            "order": null,
            "_view_module_version": "1.2.0",
            "grid_template_areas": null,
            "object_position": null,
            "object_fit": null,
            "grid_auto_columns": null,
            "margin": null,
            "display": null,
            "left": null
          }
        },
        "fb012c592dc44d8f9936de225a814b5e": {
          "model_module": "@jupyter-widgets/controls",
          "model_name": "VBoxModel",
          "state": {
            "_view_name": "VBoxView",
            "_dom_classes": [
              "widget-interact"
            ],
            "_model_name": "VBoxModel",
            "_view_module": "@jupyter-widgets/controls",
            "_model_module_version": "1.5.0",
            "_view_count": null,
            "_view_module_version": "1.5.0",
            "box_style": "",
            "layout": "IPY_MODEL_9ea5879171c64b92b6b9d5baf0587966",
            "_model_module": "@jupyter-widgets/controls",
            "children": [
              "IPY_MODEL_d26f807c751f4ae89067fe2bfad283ae",
              "IPY_MODEL_1685493c7dde47e2bb9ab3143949957e",
              "IPY_MODEL_dfe8b94a5af944e9915c15cbc0f330e3"
            ]
          }
        },
        "9ea5879171c64b92b6b9d5baf0587966": {
          "model_module": "@jupyter-widgets/base",
          "model_name": "LayoutModel",
          "state": {
            "_view_name": "LayoutView",
            "grid_template_rows": null,
            "right": null,
            "justify_content": null,
            "_view_module": "@jupyter-widgets/base",
            "overflow": null,
            "_model_module_version": "1.2.0",
            "_view_count": null,
            "flex_flow": null,
            "width": null,
            "min_width": null,
            "border": null,
            "align_items": null,
            "bottom": null,
            "_model_module": "@jupyter-widgets/base",
            "top": null,
            "grid_column": null,
            "overflow_y": null,
            "overflow_x": null,
            "grid_auto_flow": null,
            "grid_area": null,
            "grid_template_columns": null,
            "flex": null,
            "_model_name": "LayoutModel",
            "justify_items": null,
            "grid_row": null,
            "max_height": null,
            "align_content": null,
            "visibility": null,
            "align_self": null,
            "height": null,
            "min_height": null,
            "padding": null,
            "grid_auto_rows": null,
            "grid_gap": null,
            "max_width": null,
            "order": null,
            "_view_module_version": "1.2.0",
            "grid_template_areas": null,
            "object_position": null,
            "object_fit": null,
            "grid_auto_columns": null,
            "margin": null,
            "display": null,
            "left": null
          }
        },
        "d26f807c751f4ae89067fe2bfad283ae": {
          "model_module": "@jupyter-widgets/controls",
          "model_name": "DropdownModel",
          "state": {
            "_options_labels": [
              "L1",
              "L2",
              "M",
              "lphi",
              "lunit"
            ],
            "_view_name": "DropdownView",
            "style": "IPY_MODEL_e7262a80451c4b7da617e492740e0813",
            "_dom_classes": [],
            "description": "L",
            "_model_name": "DropdownModel",
            "index": 2,
            "_view_module": "@jupyter-widgets/controls",
            "_model_module_version": "1.5.0",
            "_view_count": null,
            "disabled": false,
            "_view_module_version": "1.5.0",
            "description_tooltip": null,
            "_model_module": "@jupyter-widgets/controls",
            "layout": "IPY_MODEL_9e3b44fd8edd4b52821bcc657b3d7b1b"
          }
        },
        "1685493c7dde47e2bb9ab3143949957e": {
          "model_module": "@jupyter-widgets/controls",
          "model_name": "IntSliderModel",
          "state": {
            "_view_name": "IntSliderView",
            "style": "IPY_MODEL_20418c1a2d32428d81d9b67bfcf0a066",
            "_dom_classes": [],
            "description": "n",
            "step": 1,
            "_model_name": "IntSliderModel",
            "orientation": "horizontal",
            "max": 7,
            "_view_module": "@jupyter-widgets/controls",
            "_model_module_version": "1.5.0",
            "value": 1,
            "_view_count": null,
            "disabled": false,
            "_view_module_version": "1.5.0",
            "min": 0,
            "continuous_update": true,
            "readout_format": "d",
            "description_tooltip": null,
            "readout": true,
            "_model_module": "@jupyter-widgets/controls",
            "layout": "IPY_MODEL_e21229c4c8a142258b8147a4fc782dc4"
          }
        },
        "dfe8b94a5af944e9915c15cbc0f330e3": {
          "model_module": "@jupyter-widgets/output",
          "model_name": "OutputModel",
          "state": {
            "_view_name": "OutputView",
            "msg_id": "",
            "_dom_classes": [],
            "_model_name": "OutputModel",
            "outputs": [
              {
                "output_type": "display_data",
                "metadata": {
                  "tags": []
                },
                "text/plain": "{'', '00111', '011', '0111', '1', '11', '111'}"
              }
            ],
            "_view_module": "@jupyter-widgets/output",
            "_model_module_version": "1.0.0",
            "_view_count": null,
            "_view_module_version": "1.0.0",
            "layout": "IPY_MODEL_41a32f1e617347c0a70d3e39fc7dd680",
            "_model_module": "@jupyter-widgets/output"
          }
        },
        "e7262a80451c4b7da617e492740e0813": {
          "model_module": "@jupyter-widgets/controls",
          "model_name": "DescriptionStyleModel",
          "state": {
            "_view_name": "StyleView",
            "_model_name": "DescriptionStyleModel",
            "description_width": "",
            "_view_module": "@jupyter-widgets/base",
            "_model_module_version": "1.5.0",
            "_view_count": null,
            "_view_module_version": "1.2.0",
            "_model_module": "@jupyter-widgets/controls"
          }
        },
        "9e3b44fd8edd4b52821bcc657b3d7b1b": {
          "model_module": "@jupyter-widgets/base",
          "model_name": "LayoutModel",
          "state": {
            "_view_name": "LayoutView",
            "grid_template_rows": null,
            "right": null,
            "justify_content": null,
            "_view_module": "@jupyter-widgets/base",
            "overflow": null,
            "_model_module_version": "1.2.0",
            "_view_count": null,
            "flex_flow": null,
            "width": null,
            "min_width": null,
            "border": null,
            "align_items": null,
            "bottom": null,
            "_model_module": "@jupyter-widgets/base",
            "top": null,
            "grid_column": null,
            "overflow_y": null,
            "overflow_x": null,
            "grid_auto_flow": null,
            "grid_area": null,
            "grid_template_columns": null,
            "flex": null,
            "_model_name": "LayoutModel",
            "justify_items": null,
            "grid_row": null,
            "max_height": null,
            "align_content": null,
            "visibility": null,
            "align_self": null,
            "height": null,
            "min_height": null,
            "padding": null,
            "grid_auto_rows": null,
            "grid_gap": null,
            "max_width": null,
            "order": null,
            "_view_module_version": "1.2.0",
            "grid_template_areas": null,
            "object_position": null,
            "object_fit": null,
            "grid_auto_columns": null,
            "margin": null,
            "display": null,
            "left": null
          }
        },
        "20418c1a2d32428d81d9b67bfcf0a066": {
          "model_module": "@jupyter-widgets/controls",
          "model_name": "SliderStyleModel",
          "state": {
            "_view_name": "StyleView",
            "handle_color": null,
            "_model_name": "SliderStyleModel",
            "description_width": "",
            "_view_module": "@jupyter-widgets/base",
            "_model_module_version": "1.5.0",
            "_view_count": null,
            "_view_module_version": "1.2.0",
            "_model_module": "@jupyter-widgets/controls"
          }
        },
        "e21229c4c8a142258b8147a4fc782dc4": {
          "model_module": "@jupyter-widgets/base",
          "model_name": "LayoutModel",
          "state": {
            "_view_name": "LayoutView",
            "grid_template_rows": null,
            "right": null,
            "justify_content": null,
            "_view_module": "@jupyter-widgets/base",
            "overflow": null,
            "_model_module_version": "1.2.0",
            "_view_count": null,
            "flex_flow": null,
            "width": null,
            "min_width": null,
            "border": null,
            "align_items": null,
            "bottom": null,
            "_model_module": "@jupyter-widgets/base",
            "top": null,
            "grid_column": null,
            "overflow_y": null,
            "overflow_x": null,
            "grid_auto_flow": null,
            "grid_area": null,
            "grid_template_columns": null,
            "flex": null,
            "_model_name": "LayoutModel",
            "justify_items": null,
            "grid_row": null,
            "max_height": null,
            "align_content": null,
            "visibility": null,
            "align_self": null,
            "height": null,
            "min_height": null,
            "padding": null,
            "grid_auto_rows": null,
            "grid_gap": null,
            "max_width": null,
            "order": null,
            "_view_module_version": "1.2.0",
            "grid_template_areas": null,
            "object_position": null,
            "object_fit": null,
            "grid_auto_columns": null,
            "margin": null,
            "display": null,
            "left": null
          }
        },
        "41a32f1e617347c0a70d3e39fc7dd680": {
          "model_module": "@jupyter-widgets/base",
          "model_name": "LayoutModel",
          "state": {
            "_view_name": "LayoutView",
            "grid_template_rows": null,
            "right": null,
            "justify_content": null,
            "_view_module": "@jupyter-widgets/base",
            "overflow": null,
            "_model_module_version": "1.2.0",
            "_view_count": null,
            "flex_flow": null,
            "width": null,
            "min_width": null,
            "border": null,
            "align_items": null,
            "bottom": null,
            "_model_module": "@jupyter-widgets/base",
            "top": null,
            "grid_column": null,
            "overflow_y": null,
            "overflow_x": null,
            "grid_auto_flow": null,
            "grid_area": null,
            "grid_template_columns": null,
            "flex": null,
            "_model_name": "LayoutModel",
            "justify_items": null,
            "grid_row": null,
            "max_height": null,
            "align_content": null,
            "visibility": null,
            "align_self": null,
            "height": null,
            "min_height": null,
            "padding": null,
            "grid_auto_rows": null,
            "grid_gap": null,
            "max_width": null,
            "order": null,
            "_view_module_version": "1.2.0",
            "grid_template_areas": null,
            "object_position": null,
            "object_fit": null,
            "grid_auto_columns": null,
            "margin": null,
            "display": null,
            "left": null
          }
        },
        "abf8e356477647e58818aa5968dfe8ef": {
          "model_module": "@jupyter-widgets/controls",
          "model_name": "VBoxModel",
          "state": {
            "_view_name": "VBoxView",
            "_dom_classes": [
              "widget-interact"
            ],
            "_model_name": "VBoxModel",
            "_view_module": "@jupyter-widgets/controls",
            "_model_module_version": "1.5.0",
            "_view_count": null,
            "_view_module_version": "1.5.0",
            "box_style": "",
            "layout": "IPY_MODEL_6256afbe81824d9a8bf80bcaed7dc72c",
            "_model_module": "@jupyter-widgets/controls",
            "children": [
              "IPY_MODEL_b33be23ad344448ba833e1ce884fa4b7",
              "IPY_MODEL_efae7ebc4ac240c38f79272cd189ee26",
              "IPY_MODEL_63cb6533abd24610a4752b22e6547661"
            ]
          }
        },
        "6256afbe81824d9a8bf80bcaed7dc72c": {
          "model_module": "@jupyter-widgets/base",
          "model_name": "LayoutModel",
          "state": {
            "_view_name": "LayoutView",
            "grid_template_rows": null,
            "right": null,
            "justify_content": null,
            "_view_module": "@jupyter-widgets/base",
            "overflow": null,
            "_model_module_version": "1.2.0",
            "_view_count": null,
            "flex_flow": null,
            "width": null,
            "min_width": null,
            "border": null,
            "align_items": null,
            "bottom": null,
            "_model_module": "@jupyter-widgets/base",
            "top": null,
            "grid_column": null,
            "overflow_y": null,
            "overflow_x": null,
            "grid_auto_flow": null,
            "grid_area": null,
            "grid_template_columns": null,
            "flex": null,
            "_model_name": "LayoutModel",
            "justify_items": null,
            "grid_row": null,
            "max_height": null,
            "align_content": null,
            "visibility": null,
            "align_self": null,
            "height": null,
            "min_height": null,
            "padding": null,
            "grid_auto_rows": null,
            "grid_gap": null,
            "max_width": null,
            "order": null,
            "_view_module_version": "1.2.0",
            "grid_template_areas": null,
            "object_position": null,
            "object_fit": null,
            "grid_auto_columns": null,
            "margin": null,
            "display": null,
            "left": null
          }
        },
        "b33be23ad344448ba833e1ce884fa4b7": {
          "model_module": "@jupyter-widgets/controls",
          "model_name": "DropdownModel",
          "state": {
            "_options_labels": [
              "Alph1",
              "Alph2"
            ],
            "_view_name": "DropdownView",
            "style": "IPY_MODEL_3d0fc0bc0a9c4528ae92f88f37c1d880",
            "_dom_classes": [],
            "description": "L",
            "_model_name": "DropdownModel",
            "index": 0,
            "_view_module": "@jupyter-widgets/controls",
            "_model_module_version": "1.5.0",
            "_view_count": null,
            "disabled": false,
            "_view_module_version": "1.5.0",
            "description_tooltip": null,
            "_model_module": "@jupyter-widgets/controls",
            "layout": "IPY_MODEL_04a26f7379b8418198c63326464d8391"
          }
        },
        "efae7ebc4ac240c38f79272cd189ee26": {
          "model_module": "@jupyter-widgets/controls",
          "model_name": "IntSliderModel",
          "state": {
            "_view_name": "IntSliderView",
            "style": "IPY_MODEL_7c6d6c3d070241c1946c0a49dd444b9f",
            "_dom_classes": [],
            "description": "n",
            "step": 1,
            "_model_name": "IntSliderModel",
            "orientation": "horizontal",
            "max": 7,
            "_view_module": "@jupyter-widgets/controls",
            "_model_module_version": "1.5.0",
            "value": 1,
            "_view_count": null,
            "disabled": false,
            "_view_module_version": "1.5.0",
            "min": 0,
            "continuous_update": true,
            "readout_format": "d",
            "description_tooltip": null,
            "readout": true,
            "_model_module": "@jupyter-widgets/controls",
            "layout": "IPY_MODEL_ddf7c68ba6884132ab2e4ddbd3217a67"
          }
        },
        "63cb6533abd24610a4752b22e6547661": {
          "model_module": "@jupyter-widgets/output",
          "model_name": "OutputModel",
          "state": {
            "_view_name": "OutputView",
            "msg_id": "",
            "_dom_classes": [],
            "_model_name": "OutputModel",
            "outputs": [
              {
                "output_type": "display_data",
                "metadata": {
                  "tags": []
                },
                "text/plain": "{'', 'a', 'b'}"
              }
            ],
            "_view_module": "@jupyter-widgets/output",
            "_model_module_version": "1.0.0",
            "_view_count": null,
            "_view_module_version": "1.0.0",
            "layout": "IPY_MODEL_65b3c201ebc64288b0cd16451b026c07",
            "_model_module": "@jupyter-widgets/output"
          }
        },
        "3d0fc0bc0a9c4528ae92f88f37c1d880": {
          "model_module": "@jupyter-widgets/controls",
          "model_name": "DescriptionStyleModel",
          "state": {
            "_view_name": "StyleView",
            "_model_name": "DescriptionStyleModel",
            "description_width": "",
            "_view_module": "@jupyter-widgets/base",
            "_model_module_version": "1.5.0",
            "_view_count": null,
            "_view_module_version": "1.2.0",
            "_model_module": "@jupyter-widgets/controls"
          }
        },
        "04a26f7379b8418198c63326464d8391": {
          "model_module": "@jupyter-widgets/base",
          "model_name": "LayoutModel",
          "state": {
            "_view_name": "LayoutView",
            "grid_template_rows": null,
            "right": null,
            "justify_content": null,
            "_view_module": "@jupyter-widgets/base",
            "overflow": null,
            "_model_module_version": "1.2.0",
            "_view_count": null,
            "flex_flow": null,
            "width": null,
            "min_width": null,
            "border": null,
            "align_items": null,
            "bottom": null,
            "_model_module": "@jupyter-widgets/base",
            "top": null,
            "grid_column": null,
            "overflow_y": null,
            "overflow_x": null,
            "grid_auto_flow": null,
            "grid_area": null,
            "grid_template_columns": null,
            "flex": null,
            "_model_name": "LayoutModel",
            "justify_items": null,
            "grid_row": null,
            "max_height": null,
            "align_content": null,
            "visibility": null,
            "align_self": null,
            "height": null,
            "min_height": null,
            "padding": null,
            "grid_auto_rows": null,
            "grid_gap": null,
            "max_width": null,
            "order": null,
            "_view_module_version": "1.2.0",
            "grid_template_areas": null,
            "object_position": null,
            "object_fit": null,
            "grid_auto_columns": null,
            "margin": null,
            "display": null,
            "left": null
          }
        },
        "7c6d6c3d070241c1946c0a49dd444b9f": {
          "model_module": "@jupyter-widgets/controls",
          "model_name": "SliderStyleModel",
          "state": {
            "_view_name": "StyleView",
            "handle_color": null,
            "_model_name": "SliderStyleModel",
            "description_width": "",
            "_view_module": "@jupyter-widgets/base",
            "_model_module_version": "1.5.0",
            "_view_count": null,
            "_view_module_version": "1.2.0",
            "_model_module": "@jupyter-widgets/controls"
          }
        },
        "ddf7c68ba6884132ab2e4ddbd3217a67": {
          "model_module": "@jupyter-widgets/base",
          "model_name": "LayoutModel",
          "state": {
            "_view_name": "LayoutView",
            "grid_template_rows": null,
            "right": null,
            "justify_content": null,
            "_view_module": "@jupyter-widgets/base",
            "overflow": null,
            "_model_module_version": "1.2.0",
            "_view_count": null,
            "flex_flow": null,
            "width": null,
            "min_width": null,
            "border": null,
            "align_items": null,
            "bottom": null,
            "_model_module": "@jupyter-widgets/base",
            "top": null,
            "grid_column": null,
            "overflow_y": null,
            "overflow_x": null,
            "grid_auto_flow": null,
            "grid_area": null,
            "grid_template_columns": null,
            "flex": null,
            "_model_name": "LayoutModel",
            "justify_items": null,
            "grid_row": null,
            "max_height": null,
            "align_content": null,
            "visibility": null,
            "align_self": null,
            "height": null,
            "min_height": null,
            "padding": null,
            "grid_auto_rows": null,
            "grid_gap": null,
            "max_width": null,
            "order": null,
            "_view_module_version": "1.2.0",
            "grid_template_areas": null,
            "object_position": null,
            "object_fit": null,
            "grid_auto_columns": null,
            "margin": null,
            "display": null,
            "left": null
          }
        },
        "65b3c201ebc64288b0cd16451b026c07": {
          "model_module": "@jupyter-widgets/base",
          "model_name": "LayoutModel",
          "state": {
            "_view_name": "LayoutView",
            "grid_template_rows": null,
            "right": null,
            "justify_content": null,
            "_view_module": "@jupyter-widgets/base",
            "overflow": null,
            "_model_module_version": "1.2.0",
            "_view_count": null,
            "flex_flow": null,
            "width": null,
            "min_width": null,
            "border": null,
            "align_items": null,
            "bottom": null,
            "_model_module": "@jupyter-widgets/base",
            "top": null,
            "grid_column": null,
            "overflow_y": null,
            "overflow_x": null,
            "grid_auto_flow": null,
            "grid_area": null,
            "grid_template_columns": null,
            "flex": null,
            "_model_name": "LayoutModel",
            "justify_items": null,
            "grid_row": null,
            "max_height": null,
            "align_content": null,
            "visibility": null,
            "align_self": null,
            "height": null,
            "min_height": null,
            "padding": null,
            "grid_auto_rows": null,
            "grid_gap": null,
            "max_width": null,
            "order": null,
            "_view_module_version": "1.2.0",
            "grid_template_areas": null,
            "object_position": null,
            "object_fit": null,
            "grid_auto_columns": null,
            "margin": null,
            "display": null,
            "left": null
          }
        }
      }
    },
    "colab": {
      "name": "02_2_Language_Details.ipynb",
      "provenance": []
    }
  },
  "cells": [
    {
      "cell_type": "markdown",
      "metadata": {
        "run_control": {
          "frozen": false,
          "read_only": false
        },
        "id": "d153qYRhj_aL"
      },
      "source": [
        "# Details covering Ch2, Ch3\n",
        "\n",
        "## Main Addition: Full definitions of various language builder functions presented here\n",
        "\n",
        "Some of the material in this module could be repetitious, but still good practice.\n",
        "\n",
        "A video describing the use of this module is below. Following that, we present the top-level functions defined in this module. Then come the function definitions themselves, and finally some tests that drive the functions and illustrate their usage.\n",
        "\n",
        "**Note**: Some of the contents of the video below may not correspond to the latest code in these notebooks. However the principles remain the same.\n",
        "\n",
        "**Note**: All functions have good internal documentation; so for example, if you run \"help(lstar)\", it will fully describe the lstar function.\n",
        "\n",
        "**Note**: The definition of nthnumeric has evolved (it now expects a list as its second argument)."
      ]
    },
    {
      "cell_type": "markdown",
      "metadata": {
        "id": "Ydc89yybj_aN"
      },
      "source": [
        "## This video is the same as in 02_01_Language_Basics -- less than 18 mins, so plz watch to recap!"
      ]
    },
    {
      "cell_type": "code",
      "metadata": {
        "editable": false,
        "run_control": {
          "frozen": false,
          "read_only": false
        },
        "scrolled": true,
        "id": "yf9umYTzj_aO"
      },
      "source": [
        "from IPython.display import YouTubeVideo\n",
        "YouTubeVideo('TAEYvJn5eGc')"
      ],
      "execution_count": null,
      "outputs": []
    },
    {
      "cell_type": "markdown",
      "metadata": {
        "run_control": {
          "frozen": false,
          "read_only": false
        },
        "id": "LfoAsXHOj_aO"
      },
      "source": [
        "# Top-level functions in this module\n",
        " \n",
        "help(lphi)\n",
        "help(lunit)\n",
        "help(lcat)\n",
        "help(lexp)\n",
        "help(lunion)\n",
        "help(lstar)\n",
        "help(srev)\n",
        "help(lrev)\n",
        "help(shomo)\n",
        "help(lhomo)\n",
        "help(powset)\n",
        "help(lint)\n",
        "help(lsymdiff)\n",
        "help(lminus)\n",
        "help(lissubset)\n",
        "help(lissuperset)\n",
        "help(lcomplem)\n",
        "help(product)\n",
        "help(nthnumeric)\n"
      ]
    },
    {
      "cell_type": "markdown",
      "metadata": {
        "editable": false,
        "run_control": {
          "frozen": false,
          "read_only": false
        },
        "id": "M6aKHPlVj_aP"
      },
      "source": [
        "<span style=\"color:blue\"> **Now we begin following along Chapter-2 of the book ** </span>\n",
        "\n",
        "# Chapter-2: Alphabet and Languages\n",
        "\n",
        "We begin our study of Alphabets and Languages. Please read the book. You *must* be doing two kinds of exercises:\n",
        "\n",
        "* Do exercises on paper. That is the math you need from this course. There is no short-cut to it.\n",
        "\n",
        "* Do the programming challenges (and play with the code) presented in this notebook (more exercises will be added). This programming part builds intuitions and helps knowledge stick. \n",
        "\n",
        "> Let us recall Prof. John McCarthy's quote\n",
        "\n",
        ">> You do not understand anything unless you have studied it in multiple ways\n",
        "\n",
        "It is to facilitate the \"study in multiple ways\" that the programming part is being given to you. It is the centerpiece of this work."
      ]
    },
    {
      "cell_type": "markdown",
      "metadata": {
        "editable": false,
        "run_control": {
          "frozen": false,
          "read_only": false
        },
        "id": "ukq1O1SFj_aP"
      },
      "source": [
        "<span style=\"color:blue\"> **Coding philosophy:** </span>\n",
        "\n",
        "Clearly, the code in this book can be cast into an object-oriented style. We avoid doing so for these reasons:\n",
        "\n",
        "* We want to keep the barrier to entry as low as possible. In fact, we are extremely parsimonious in our use of Python constructs. \n",
        "\n",
        "* We prefer to modularize each concept into specific sections where we treat the math and code as being almost at the same level. We also want these Jupyter notes to resemble Knuth's \"literate programs\". More reasons will be given in the Jupyter notes of Chapter 3."
      ]
    },
    {
      "cell_type": "markdown",
      "metadata": {
        "editable": false,
        "run_control": {
          "frozen": false,
          "read_only": false
        },
        "id": "vRZzHgkSj_aQ"
      },
      "source": [
        "<span style=\"color:blue\"> **------** </span>\n",
        "\n",
        "OK, now onto our subject matter!\n",
        "\n",
        "## Alphabet and Language\n",
        "\n",
        "\n",
        "An Alphabet is a *finite* set of finitary items, often called \"symbols\" - usually they are single characters, but they also could be finite strings or (in the case of GNFA) be themselves regular expressions.  Just think of an Alphabet $\\Sigma$ to be a *finite* and *non-empty* set of symbols.\n",
        "\n",
        " \n",
        "__Language__:\n",
        "\n",
        "\n",
        "A language is a set of sequences (strings) of symbols. We define languages through Python code as follows. \n",
        "\n",
        "We are defining regular languages here. \n",
        "\n",
        "The simplest regular language is $\\emptyset$, the empty language. This is like the \"zero\" of a language. Why so? We know that \"0\" is the annihilator for multiplication, i.e. 3 $\\times$ 0 = 0. What is the multiplication operation for languages? It is concatenation!\n",
        "\n",
        "\n",
        "* Notice that in almost all cases, languages are encoded using Python sets.\n",
        "\n",
        "* Exceptions will be pointed out when they occur.\n",
        "\n",
        "* Also, in almost all cases, languages are sets of strings."
      ]
    },
    {
      "cell_type": "markdown",
      "metadata": {
        "editable": false,
        "run_control": {
          "frozen": false,
          "read_only": false
        },
        "id": "L66xrnTKj_aQ"
      },
      "source": [
        "__Zero Language__:\n",
        "\n",
        "<span style=\"color:blue\"> **We begin with the empty language (ZERO of a language). We use lphi() to refere to this language, as phi (Greek symbol) is used to denote the empty set. ** </span>"
      ]
    },
    {
      "cell_type": "code",
      "metadata": {
        "code_folding": [
          3
        ],
        "editable": false,
        "run_control": {
          "frozen": false,
          "read_only": false
        },
        "id": "Gl1ACpHyj_aQ"
      },
      "source": [
        "# The theory of languages : Primitive languages and language builders\n",
        "\n",
        "def lphi():\n",
        "    \"\"\"In : None.\n",
        "       Out: Zero language, i.e. set({}).\n",
        "    \"\"\"\n",
        "    return set({})  # {} could be dict; so we put set(..)"
      ],
      "execution_count": 1,
      "outputs": []
    },
    {
      "cell_type": "code",
      "metadata": {
        "run_control": {
          "frozen": false,
          "read_only": false
        },
        "id": "CB3Y02dSj_aR",
        "outputId": "bb965d91-dbf0-4434-bbbe-91da2d774e62",
        "colab": {
          "base_uri": "https://localhost:8080/"
        }
      },
      "source": [
        "lphi()"
      ],
      "execution_count": 2,
      "outputs": [
        {
          "output_type": "execute_result",
          "data": {
            "text/plain": [
              "set()"
            ]
          },
          "metadata": {
            "tags": []
          },
          "execution_count": 2
        }
      ]
    },
    {
      "cell_type": "markdown",
      "metadata": {
        "editable": false,
        "run_control": {
          "frozen": false,
          "read_only": false
        },
        "id": "pGVoINykj_aR"
      },
      "source": [
        "__Unit Language__:\n",
        "\n",
        "<span style=\"color:blue\"> **Now we define the Unit language (ONE of a language) as well as concatenation. We use lunit() and lcat() to refer to these operations. ** </span>"
      ]
    },
    {
      "cell_type": "markdown",
      "metadata": {
        "editable": false,
        "run_control": {
          "frozen": false,
          "read_only": false
        },
        "id": "Zhhx8Q8Bj_aR"
      },
      "source": [
        "Now let us define the Unit language (\"1\" for languages with respect to concatenation viewed as multiplication).\n",
        "\n",
        "Let us also define language concatenation.\n",
        "\n",
        "> $L1 \\; L2 \\;\\; =\\;\\;  \\{x y \\; \\mid \\; x\\in L1 \\;\\wedge\\; y\\in L2\\}$"
      ]
    },
    {
      "cell_type": "markdown",
      "metadata": {
        "editable": false,
        "run_control": {
          "frozen": false,
          "read_only": false
        },
        "id": "3FlSxKUIj_aR"
      },
      "source": [
        "# Documentation Conventions\n",
        "\n",
        "* Functions will have comment strings that start with \"\"\" and end with \"\"\"\n",
        "* In : will specify inputs separately, mentioning conceptual object and rep (Python data-type) \n",
        "* Out: will mention output, mentioning conceptual object and rep (Python data-type)\n",
        "* Sometimes an example will follow\n",
        "* Extremely simple helper functions won't have much of a doc (usually a one-liner)\n",
        "* Example documentation:\n",
        "```\n",
        "  \"\"\"In : L1 (language : a set),\n",
        "          L2 (language : a set).\n",
        "     Out: L1 concat L2 (language : a set).\n",
        "     Example:\n",
        "     L1 = {'ab', 'bc'} \n",
        "     L2 = {'11', 'ab', '22'} \n",
        "     lcat(L1,L2) -> {'abab', 'bc22', 'ab11', 'ab22', 'bcab', 'bc11'}\n",
        "  \"\"\"\n",
        "```"
      ]
    },
    {
      "cell_type": "code",
      "metadata": {
        "editable": false,
        "run_control": {
          "frozen": false,
          "read_only": false
        },
        "id": "RHmxCsrFj_aS"
      },
      "source": [
        "def lunit():\n",
        "    \"\"\"In : None.\n",
        "       Out: {\"\"} (a language : a set).\n",
        "    \"\"\"\n",
        "    return {\"\"} # Set with epsilon\n",
        "\n",
        "def lcat(L1,L2):\n",
        "    \"\"\"In : L1 (language : a set),\n",
        "            L2 (language : a set).\n",
        "       Out: L1 concat L2 (language : a set).\n",
        "       Example:\n",
        "       L1 = {'ab', 'bc'} \n",
        "       L2 = {'11', 'ab', '22'} \n",
        "       lcat(L1,L2) -> {'abab', 'bc22', 'ab11', 'ab22', 'bcab', 'bc11'}\n",
        "    \"\"\"\n",
        "    return {x+y for x in L1 for y in L2}"
      ],
      "execution_count": 3,
      "outputs": []
    },
    {
      "cell_type": "code",
      "metadata": {
        "run_control": {
          "frozen": false,
          "read_only": false
        },
        "id": "bk_AAU-Pj_aS",
        "outputId": "18446908-bba3-4f55-8d2f-3842e92d4e1f",
        "colab": {
          "base_uri": "https://localhost:8080/",
          "height": 35
        }
      },
      "source": [
        "\"\""
      ],
      "execution_count": 4,
      "outputs": [
        {
          "output_type": "execute_result",
          "data": {
            "application/vnd.google.colaboratory.intrinsic+json": {
              "type": "string"
            },
            "text/plain": [
              "''"
            ]
          },
          "metadata": {
            "tags": []
          },
          "execution_count": 4
        }
      ]
    },
    {
      "cell_type": "code",
      "metadata": {
        "run_control": {
          "frozen": false,
          "read_only": false
        },
        "id": "qoPbjh4Fj_aS",
        "outputId": "2f6ba569-3d0a-4bb4-eed2-7f2b7f1aab81",
        "colab": {
          "base_uri": "https://localhost:8080/"
        }
      },
      "source": [
        "L1 = {\"a\" * n for n in range(0,3)}\n",
        "L1"
      ],
      "execution_count": 5,
      "outputs": [
        {
          "output_type": "execute_result",
          "data": {
            "text/plain": [
              "{'', 'a', 'aa'}"
            ]
          },
          "metadata": {
            "tags": []
          },
          "execution_count": 5
        }
      ]
    },
    {
      "cell_type": "code",
      "metadata": {
        "run_control": {
          "frozen": false,
          "read_only": false
        },
        "id": "KlnMfD5qj_aT",
        "outputId": "1fcbf646-1482-4120-ba40-bfc57511e414",
        "colab": {
          "base_uri": "https://localhost:8080/"
        }
      },
      "source": [
        "L2 = {\"b\" * m for m in range(0,2)}\n",
        "L2"
      ],
      "execution_count": 6,
      "outputs": [
        {
          "output_type": "execute_result",
          "data": {
            "text/plain": [
              "{'', 'b'}"
            ]
          },
          "metadata": {
            "tags": []
          },
          "execution_count": 6
        }
      ]
    },
    {
      "cell_type": "code",
      "metadata": {
        "run_control": {
          "frozen": false,
          "read_only": false
        },
        "id": "ZNm6Fnxcj_aT",
        "outputId": "71732211-9114-4525-8394-d7e1b4103885",
        "colab": {
          "base_uri": "https://localhost:8080/"
        }
      },
      "source": [
        "lcat(L1,L2)"
      ],
      "execution_count": 7,
      "outputs": [
        {
          "output_type": "execute_result",
          "data": {
            "text/plain": [
              "{'', 'a', 'aa', 'aab', 'ab', 'b'}"
            ]
          },
          "metadata": {
            "tags": []
          },
          "execution_count": 7
        }
      ]
    },
    {
      "cell_type": "code",
      "metadata": {
        "run_control": {
          "frozen": false,
          "read_only": false
        },
        "id": "4xpSxz72j_aT",
        "outputId": "13f6de3e-9b94-426f-f4c7-c23d8b04174d",
        "colab": {
          "base_uri": "https://localhost:8080/"
        }
      },
      "source": [
        "lcat(lunit(), L1)"
      ],
      "execution_count": 8,
      "outputs": [
        {
          "output_type": "execute_result",
          "data": {
            "text/plain": [
              "{'', 'a', 'aa'}"
            ]
          },
          "metadata": {
            "tags": []
          },
          "execution_count": 8
        }
      ]
    },
    {
      "cell_type": "code",
      "metadata": {
        "run_control": {
          "frozen": false,
          "read_only": false
        },
        "id": "-hpF_R4rj_aT",
        "outputId": "08ec740e-c4e3-4de1-c39b-4d9cc6d2a461",
        "colab": {
          "base_uri": "https://localhost:8080/"
        }
      },
      "source": [
        "x = {'','a'}\n",
        "xcrossx = { (a,b) for a in x for b in x}\n",
        "xcrossx"
      ],
      "execution_count": 9,
      "outputs": [
        {
          "output_type": "execute_result",
          "data": {
            "text/plain": [
              "{('', ''), ('', 'a'), ('a', ''), ('a', 'a')}"
            ]
          },
          "metadata": {
            "tags": []
          },
          "execution_count": 9
        }
      ]
    },
    {
      "cell_type": "code",
      "metadata": {
        "run_control": {
          "frozen": false,
          "read_only": false
        },
        "id": "k_rCrP6Wj_aT",
        "outputId": "36493553-10d4-415d-b0c0-f1b05a068d07",
        "colab": {
          "base_uri": "https://localhost:8080/"
        }
      },
      "source": [
        "len(lcat(x,x)) == len(xcrossx)"
      ],
      "execution_count": 10,
      "outputs": [
        {
          "output_type": "execute_result",
          "data": {
            "text/plain": [
              "False"
            ]
          },
          "metadata": {
            "tags": []
          },
          "execution_count": 10
        }
      ]
    },
    {
      "cell_type": "markdown",
      "metadata": {
        "editable": false,
        "run_control": {
          "frozen": false,
          "read_only": false
        },
        "id": "UrMMQDYqj_aU"
      },
      "source": [
        "__Language Concatenation vs. Cartesian Product__:\n",
        "\n",
        "<span style=\"color:blue\"> **Notice the similarity with cartesian product. We draw a string x from L1 and string y from L2, but instead of pairing them, we concatenate them.** </span>"
      ]
    },
    {
      "cell_type": "markdown",
      "metadata": {
        "editable": false,
        "run_control": {
          "frozen": false,
          "read_only": false
        },
        "id": "YscuWehlj_aU"
      },
      "source": [
        "## Illustrations \n",
        "\n",
        "We now illustrate \n",
        "\n",
        "* the Zero language lphi(), \n",
        "\n",
        "* unit language lunit(), \n",
        "\n",
        "* and the lcat() operator\n",
        "\n",
        "Let us take a simple example language L = $\\{{\\text 'a'}, {\\text 'bc'}\\}$ for illustration.\n",
        "\n",
        "Recall that in Python, there are multiple ways to quote strings ('a', \"a\", or \"\"\"a\"\"\"). The main idea is to support the nesting of quotes. So please don't be confused if we accidentally change our quoting method."
      ]
    },
    {
      "cell_type": "code",
      "metadata": {
        "editable": false,
        "run_control": {
          "frozen": false,
          "read_only": false
        },
        "id": "vPwZS64kj_aU",
        "outputId": "c18554e6-76d2-4be1-a9dc-04fcbfd0a088",
        "colab": {
          "base_uri": "https://localhost:8080/"
        }
      },
      "source": [
        "L = {'a','bc'}\n",
        "\n",
        "print( \"lcat(lphi(), L) = \",  lcat(lphi(), L) )\n",
        " \n",
        "print( \"lcat(lunit(), L) = \",  lcat(lunit(), L)  )"
      ],
      "execution_count": 11,
      "outputs": [
        {
          "output_type": "stream",
          "text": [
            "lcat(lphi(), L) =  set()\n",
            "lcat(lunit(), L) =  {'a', 'bc'}\n"
          ],
          "name": "stdout"
        }
      ]
    },
    {
      "cell_type": "markdown",
      "metadata": {
        "editable": false,
        "run_control": {
          "frozen": false,
          "read_only": false
        },
        "id": "ICWWwQJjj_aU"
      },
      "source": [
        "\n",
        "Let us define another language through set comprehension, and exercise many different applications of concatenation.\n",
        "\n",
        "\n",
        "* Consider the language\n",
        "\n",
        " > M = $\\{ 0^m 1^n \\; \\mid \\; 0 \\leq m,n \\leq 3 \\;\\wedge\\; m < n \\}$"
      ]
    },
    {
      "cell_type": "code",
      "metadata": {
        "editable": false,
        "run_control": {
          "frozen": false,
          "read_only": false
        },
        "id": "xdyZuegNj_aV"
      },
      "source": [
        "M = {\"0\"*m + \"1\"*n for m in range(3) for n in range(4) if m < n }\n",
        "print(M)"
      ],
      "execution_count": null,
      "outputs": []
    },
    {
      "cell_type": "code",
      "metadata": {
        "editable": false,
        "run_control": {
          "frozen": false,
          "read_only": false
        },
        "id": "SemI931jj_aV"
      },
      "source": [
        "print(\"lcat(L,M) = \", lcat(L,M))"
      ],
      "execution_count": null,
      "outputs": []
    },
    {
      "cell_type": "code",
      "metadata": {
        "editable": false,
        "run_control": {
          "frozen": false,
          "read_only": false
        },
        "id": "LUMImjMej_aV"
      },
      "source": [
        "print(\"lcat(M,lphi()) = \", lcat(M,lphi()))"
      ],
      "execution_count": null,
      "outputs": []
    },
    {
      "cell_type": "code",
      "metadata": {
        "editable": false,
        "run_control": {
          "frozen": false,
          "read_only": false
        },
        "id": "WKbU0F8Oj_aV"
      },
      "source": [
        "print(\"lcat(M,lunit()) = \", lcat(M,lunit()))"
      ],
      "execution_count": null,
      "outputs": []
    },
    {
      "cell_type": "markdown",
      "metadata": {
        "editable": false,
        "run_control": {
          "frozen": false,
          "read_only": false
        },
        "id": "Nw8xiHS9j_aV"
      },
      "source": [
        "<span style=\"color:green\"> **Need to add a few exercises here. ** </span>"
      ]
    },
    {
      "cell_type": "markdown",
      "metadata": {
        "editable": false,
        "run_control": {
          "frozen": false,
          "read_only": false
        },
        "id": "zO0tZgygj_aW"
      },
      "source": [
        "### Exponentiation as repeated concatenation\n",
        "\n",
        "With concatenation and Unit under our belt, we can define exponentiation recursively. Exponentiation is repeated multiplication (which for us is concatenation).\n",
        "\n",
        "> $L^n = L L^{n-1}$\n",
        "\n",
        "> $L^0 = Unit$\n",
        "\n",
        "We must have $L^0 = lunit()$; that is the only logical choice. \n",
        "\n",
        "\n",
        "__Question:__  If you defined $L^0 = lphi()$, then what happens?\n",
        "\n",
        "The code below simulates the aforesaid recursion."
      ]
    },
    {
      "cell_type": "code",
      "metadata": {
        "editable": false,
        "run_control": {
          "frozen": false,
          "read_only": false
        },
        "id": "I3EEXIgGj_aW"
      },
      "source": [
        "def lexp(L,n):\n",
        "    \"\"\"In : L (language : a set),\n",
        "            n (exponent : a nat).\n",
        "       Out: L^n (language : a set).\n",
        "       Example:\n",
        "       L = {'ab', 'bc'}\n",
        "       n = 2\n",
        "       lexp(A,2) -> {'abab', 'bcab', 'bcbc', 'abbc'}\n",
        "    \"\"\"\n",
        "    return lunit() if n == 0 else lcat(L, lexp(L, n-1))"
      ],
      "execution_count": 13,
      "outputs": []
    },
    {
      "cell_type": "markdown",
      "metadata": {
        "editable": false,
        "run_control": {
          "frozen": false,
          "read_only": false
        },
        "id": "Fqj6Ora3j_aW"
      },
      "source": [
        "\n",
        "__Let us now test our lexp functionality__:\n",
        "\n"
      ]
    },
    {
      "cell_type": "code",
      "metadata": {
        "editable": false,
        "run_control": {
          "frozen": false,
          "read_only": false
        },
        "id": "Q3z2P1idj_aW",
        "outputId": "c4a922a8-cf76-43eb-9396-07506bf4b633",
        "colab": {
          "base_uri": "https://localhost:8080/"
        }
      },
      "source": [
        "L = {'a','bc'}\n",
        "lexp(L,2)"
      ],
      "execution_count": 14,
      "outputs": [
        {
          "output_type": "execute_result",
          "data": {
            "text/plain": [
              "{'aa', 'abc', 'bca', 'bcbc'}"
            ]
          },
          "metadata": {
            "tags": []
          },
          "execution_count": 14
        }
      ]
    },
    {
      "cell_type": "code",
      "metadata": {
        "editable": false,
        "run_control": {
          "frozen": false,
          "read_only": false
        },
        "id": "BPvmPmO1j_aX",
        "outputId": "b2746943-758d-4104-b00a-3a82ae72dcc2",
        "colab": {
          "base_uri": "https://localhost:8080/"
        }
      },
      "source": [
        "M = {\"0\"*m + \"1\"*n for m in range(3) for n in range(4) if m < n }\n",
        "print('M = ', M)\n",
        "print('lexp(M,2) = ')\n",
        "lexp(M,2)"
      ],
      "execution_count": 15,
      "outputs": [
        {
          "output_type": "stream",
          "text": [
            "M =  {'1', '011', '0111', '00111', '11', '111'}\n",
            "lexp(M,2) = \n"
          ],
          "name": "stdout"
        },
        {
          "output_type": "execute_result",
          "data": {
            "text/plain": [
              "{'0011100111',\n",
              " '00111011',\n",
              " '001110111',\n",
              " '001111',\n",
              " '0011111',\n",
              " '00111111',\n",
              " '01100111',\n",
              " '011011',\n",
              " '0110111',\n",
              " '0111',\n",
              " '011100111',\n",
              " '0111011',\n",
              " '01110111',\n",
              " '01111',\n",
              " '011111',\n",
              " '0111111',\n",
              " '100111',\n",
              " '1011',\n",
              " '10111',\n",
              " '11',\n",
              " '1100111',\n",
              " '11011',\n",
              " '110111',\n",
              " '111',\n",
              " '11100111',\n",
              " '111011',\n",
              " '1110111',\n",
              " '1111',\n",
              " '11111',\n",
              " '111111'}"
            ]
          },
          "metadata": {
            "tags": []
          },
          "execution_count": 15
        }
      ]
    },
    {
      "cell_type": "code",
      "metadata": {
        "editable": false,
        "run_control": {
          "frozen": false,
          "read_only": false
        },
        "id": "qMwl-Bunj_aX",
        "outputId": "82177416-dfc4-4ed2-e837-2e08e742cf55",
        "colab": {
          "base_uri": "https://localhost:8080/"
        }
      },
      "source": [
        "L = {'a','bc'}\n",
        "M = {\"0\"*m + \"1\"*n for m in range(3) for n in range(4) if m < n }\n",
        "lexp(lcat(L,M),1)"
      ],
      "execution_count": 16,
      "outputs": [
        {
          "output_type": "execute_result",
          "data": {
            "text/plain": [
              "{'a00111',\n",
              " 'a011',\n",
              " 'a0111',\n",
              " 'a1',\n",
              " 'a11',\n",
              " 'a111',\n",
              " 'bc00111',\n",
              " 'bc011',\n",
              " 'bc0111',\n",
              " 'bc1',\n",
              " 'bc11',\n",
              " 'bc111'}"
            ]
          },
          "metadata": {
            "tags": []
          },
          "execution_count": 16
        }
      ]
    },
    {
      "cell_type": "markdown",
      "metadata": {
        "editable": false,
        "run_control": {
          "frozen": false,
          "read_only": false
        },
        "id": "TxvJOVsFj_aX"
      },
      "source": [
        "<span style=\"color:green\"> **Need to add a few exercises here. ** </span>"
      ]
    },
    {
      "cell_type": "markdown",
      "metadata": {
        "editable": false,
        "run_control": {
          "frozen": false,
          "read_only": false
        },
        "id": "2nALp0Paj_aX"
      },
      "source": [
        "<span style=\"color:blue\"> **Definition of the star of a language through function lstar. Since star produces an infinite set in almost all cases, we define a _truncated_ version of star. ** </span>"
      ]
    },
    {
      "cell_type": "markdown",
      "metadata": {
        "editable": false,
        "run_control": {
          "frozen": false,
          "read_only": false
        },
        "id": "p0EENt43j_aX"
      },
      "source": [
        "\n",
        "### With lexp under our belt, we can define lstar. We will define \"star up to n\" and then set n to infinity.\n",
        "\n",
        "> $L^{*n} = L^n \\; \\cup \\; L^{*(n-1)}$\n",
        "\n",
        "> $L^{*0} = Unit$\n",
        "\n",
        "And thus the classical $L^* = L^{*n}\\;\\; {\\rm for}\\;\\; n=\\infty$, which we won't bother to \"run\" in Python :-).  We will only run $L^{*n}$ in Python.\n",
        "\n",
        "We also take care to test that lstar works correctly for lphi and Unit.\n"
      ]
    },
    {
      "cell_type": "code",
      "metadata": {
        "editable": false,
        "run_control": {
          "frozen": false,
          "read_only": false
        },
        "id": "2GhmQDm0j_aY"
      },
      "source": [
        "def lunion(L1,L2):\n",
        "    \"\"\"In : L1 (language : a set),\n",
        "            L2 (language : a set).\n",
        "       Out: L1 union L2 (language : a set).\n",
        "    \"\"\"\n",
        "    return L1 | L2\n",
        "\n",
        "def lstar(L,n):\n",
        "    \"\"\"In : L (language : a set),\n",
        "            n (bound for lstar : a nat). \n",
        "       Out: L*_n (language : a set)\n",
        "    Example:\n",
        "    L = {'ab','bc'}\n",
        "    n = 2\n",
        "    lstar(L,2) -> {'abab', 'bcbc', 'ab', 'abbc', '', 'bc', 'bcab'}\n",
        "    \"\"\"\n",
        "    return lunit() if n == 0 else lunion(lexp(L,n), lstar(L,n-1))"
      ],
      "execution_count": 17,
      "outputs": []
    },
    {
      "cell_type": "code",
      "metadata": {
        "editable": false,
        "run_control": {
          "frozen": false,
          "read_only": false
        },
        "id": "d7DOlwckj_aY",
        "outputId": "f4fe5c9f-a99b-439b-8f2b-c09aba371668",
        "colab": {
          "base_uri": "https://localhost:8080/"
        }
      },
      "source": [
        "L1 = {'a','bc'}\n",
        "lstar(L1,2) "
      ],
      "execution_count": 18,
      "outputs": [
        {
          "output_type": "execute_result",
          "data": {
            "text/plain": [
              "{'', 'a', 'aa', 'abc', 'bc', 'bca', 'bcbc'}"
            ]
          },
          "metadata": {
            "tags": []
          },
          "execution_count": 18
        }
      ]
    },
    {
      "cell_type": "code",
      "metadata": {
        "editable": false,
        "run_control": {
          "frozen": false,
          "read_only": false
        },
        "id": "rjGUoob2j_aZ",
        "outputId": "efe9c2c8-7f80-4baf-e245-4279c62fea95",
        "colab": {
          "base_uri": "https://localhost:8080/"
        }
      },
      "source": [
        "L2 = {'ab','bc'}\n",
        "lstar(L2,2) "
      ],
      "execution_count": 19,
      "outputs": [
        {
          "output_type": "execute_result",
          "data": {
            "text/plain": [
              "{'', 'ab', 'abab', 'abbc', 'bc', 'bcab', 'bcbc'}"
            ]
          },
          "metadata": {
            "tags": []
          },
          "execution_count": 19
        }
      ]
    },
    {
      "cell_type": "code",
      "metadata": {
        "editable": false,
        "run_control": {
          "frozen": false,
          "read_only": false
        },
        "id": "4HxNwrGJj_aZ",
        "outputId": "f8ee383d-cfa3-4df2-a87f-1b2048fd0981",
        "colab": {
          "base_uri": "https://localhost:8080/"
        }
      },
      "source": [
        "L2 = {'ab','bc'}\n",
        "lstar(L2,3)"
      ],
      "execution_count": 20,
      "outputs": [
        {
          "output_type": "execute_result",
          "data": {
            "text/plain": [
              "{'',\n",
              " 'ab',\n",
              " 'abab',\n",
              " 'ababab',\n",
              " 'ababbc',\n",
              " 'abbc',\n",
              " 'abbcab',\n",
              " 'abbcbc',\n",
              " 'bc',\n",
              " 'bcab',\n",
              " 'bcabab',\n",
              " 'bcabbc',\n",
              " 'bcbc',\n",
              " 'bcbcab',\n",
              " 'bcbcbc'}"
            ]
          },
          "metadata": {
            "tags": []
          },
          "execution_count": 20
        }
      ]
    },
    {
      "cell_type": "markdown",
      "metadata": {
        "editable": false,
        "run_control": {
          "frozen": false,
          "read_only": false
        },
        "id": "tkwQ_5Foj_aZ"
      },
      "source": [
        "#### Let us define a typical alphabet used in our studies: $\\Sigma = \\{0,1\\}$"
      ]
    },
    {
      "cell_type": "code",
      "metadata": {
        "editable": false,
        "run_control": {
          "frozen": false,
          "read_only": false
        },
        "id": "BabuibNij_aZ"
      },
      "source": [
        "Sig01 = {'0','1'}"
      ],
      "execution_count": 21,
      "outputs": []
    },
    {
      "cell_type": "code",
      "metadata": {
        "editable": false,
        "run_control": {
          "frozen": false,
          "read_only": false
        },
        "id": "cfsIQol3j_aa",
        "outputId": "7a76b894-0f74-4779-a1e7-2fadfba57d2d",
        "colab": {
          "base_uri": "https://localhost:8080/"
        }
      },
      "source": [
        "lstar(Sig01,0)"
      ],
      "execution_count": 28,
      "outputs": [
        {
          "output_type": "execute_result",
          "data": {
            "text/plain": [
              "{''}"
            ]
          },
          "metadata": {
            "tags": []
          },
          "execution_count": 28
        }
      ]
    },
    {
      "cell_type": "code",
      "metadata": {
        "editable": false,
        "run_control": {
          "frozen": false,
          "read_only": false
        },
        "id": "9diRhyf0j_aa",
        "outputId": "29dc22ea-c331-4296-ead8-c8f2d2c28184",
        "colab": {
          "base_uri": "https://localhost:8080/"
        }
      },
      "source": [
        "lstar(Sig01,1)"
      ],
      "execution_count": 23,
      "outputs": [
        {
          "output_type": "execute_result",
          "data": {
            "text/plain": [
              "{'', '0', '1'}"
            ]
          },
          "metadata": {
            "tags": []
          },
          "execution_count": 23
        }
      ]
    },
    {
      "cell_type": "code",
      "metadata": {
        "editable": false,
        "run_control": {
          "frozen": false,
          "read_only": false
        },
        "id": "ZJ6acNBYj_aa",
        "outputId": "2afbffc6-ae90-4f53-cdef-f12f8aaf507f",
        "colab": {
          "base_uri": "https://localhost:8080/"
        }
      },
      "source": [
        "lstar(Sig01,2)"
      ],
      "execution_count": 24,
      "outputs": [
        {
          "output_type": "execute_result",
          "data": {
            "text/plain": [
              "{'', '0', '00', '01', '1', '10', '11'}"
            ]
          },
          "metadata": {
            "tags": []
          },
          "execution_count": 24
        }
      ]
    },
    {
      "cell_type": "code",
      "metadata": {
        "editable": false,
        "run_control": {
          "frozen": false,
          "read_only": false
        },
        "id": "LBeHNDX0j_aa"
      },
      "source": [
        ""
      ],
      "execution_count": 24,
      "outputs": []
    },
    {
      "cell_type": "code",
      "metadata": {
        "editable": false,
        "run_control": {
          "frozen": false,
          "read_only": false
        },
        "id": "Kijzc3sHj_aa",
        "outputId": "8f9c5fdd-a35a-40cf-826a-74f31ea7f95e",
        "colab": {
          "base_uri": "https://localhost:8080/"
        }
      },
      "source": [
        "lstar(Sig01,3)"
      ],
      "execution_count": 25,
      "outputs": [
        {
          "output_type": "execute_result",
          "data": {
            "text/plain": [
              "{'',\n",
              " '0',\n",
              " '00',\n",
              " '000',\n",
              " '001',\n",
              " '01',\n",
              " '010',\n",
              " '011',\n",
              " '1',\n",
              " '10',\n",
              " '100',\n",
              " '101',\n",
              " '11',\n",
              " '110',\n",
              " '111'}"
            ]
          },
          "metadata": {
            "tags": []
          },
          "execution_count": 25
        }
      ]
    },
    {
      "cell_type": "markdown",
      "metadata": {
        "editable": false,
        "run_control": {
          "frozen": false,
          "read_only": false
        },
        "id": "Ddm89cQvj_aa"
      },
      "source": [
        "<span style=\"color:blue\"> **Let's do a few exercises involving lstar. Use the pull-down provided by ipywidgets to select your language. Then use the slider to change the lstar truncation limit. If you had an infinite slider and slid it all the way to the right, you would be witnessing the \"true star\" :-) ** </span>"
      ]
    },
    {
      "cell_type": "code",
      "metadata": {
        "run_control": {
          "frozen": false,
          "read_only": false
        },
        "id": "ou_CAGn2j_ab",
        "outputId": "819a0b60-c4d1-4f5e-9434-4adb097894f3",
        "colab": {
          "base_uri": "https://localhost:8080/",
          "height": 810,
          "referenced_widgets": [
            "c72a14cb03af45288c07852532a682ad",
            "026cfc7c0559436b90822a42c4d9a31e",
            "b10d595f14f3486bbe84c1514b19815e",
            "e53ebf731a4742db8ffaae6f5a907b91",
            "36217a534483405e9d6c39ed9789a631",
            "61b70411d8894b0b8ff9f90f4eeb2ae3",
            "a6476720d30046a9897bbf1521befaa5",
            "b86f4f301ba64b55b615f8ea1ad079cb",
            "faf2aabf52a74afdb6a30308bc5debd9",
            "32c7c806742a48afb50f69daa4ef5314"
          ]
        }
      },
      "source": [
        "import ipywidgets as wdg\n",
        "L1 = {'a','bc'}\n",
        "L2 = {'ab','bc'}\n",
        "L3 = {'a','b','c'}\n",
        "M =  {'011', '111', '11', '0111', '00111', '1'}\n",
        "\n",
        "wdg.interact(lstar,\n",
        "L={'L3': L3, 'L1': L1, 'L2':L2, 'M': M, 'lphi': lphi(), 'lunit' : lunit()}, n=(0,7))"
      ],
      "execution_count": 29,
      "outputs": [
        {
          "output_type": "display_data",
          "data": {
            "application/vnd.jupyter.widget-view+json": {
              "model_id": "c72a14cb03af45288c07852532a682ad",
              "version_minor": 0,
              "version_major": 2
            },
            "text/plain": [
              "interactive(children=(Dropdown(description='L', options={'L3': {'a', 'c', 'b'}, 'L1': {'a', 'bc'}, 'L2': {'ab'…"
            ]
          },
          "metadata": {
            "tags": []
          }
        },
        {
          "output_type": "execute_result",
          "data": {
            "text/plain": [
              "<function __main__.lstar>"
            ]
          },
          "metadata": {
            "tags": []
          },
          "execution_count": 29
        }
      ]
    },
    {
      "cell_type": "code",
      "metadata": {
        "editable": false,
        "run_control": {
          "frozen": false,
          "read_only": false
        },
        "id": "7YPAMv7Ej_ab",
        "outputId": "0f682053-ddfe-42e2-cea8-0fe09a3e03e0",
        "colab": {
          "base_uri": "https://localhost:8080/",
          "height": 116,
          "referenced_widgets": [
            "fb012c592dc44d8f9936de225a814b5e",
            "9ea5879171c64b92b6b9d5baf0587966",
            "d26f807c751f4ae89067fe2bfad283ae",
            "1685493c7dde47e2bb9ab3143949957e",
            "dfe8b94a5af944e9915c15cbc0f330e3",
            "e7262a80451c4b7da617e492740e0813",
            "9e3b44fd8edd4b52821bcc657b3d7b1b",
            "20418c1a2d32428d81d9b67bfcf0a066",
            "e21229c4c8a142258b8147a4fc782dc4",
            "41a32f1e617347c0a70d3e39fc7dd680"
          ]
        }
      },
      "source": [
        "import ipywidgets as wdg\n",
        "L1 = {'a','bc'}\n",
        "L2 = {'ab','bc'}\n",
        "M =  {'011', '111', '11', '0111', '00111', '1'}\n",
        "\n",
        "wdg.interact(lstar,\n",
        "L={'L1': L1, 'L2':L2, 'M': M, 'lphi': lphi(), 'lunit' : lunit()}, n=(0,7))"
      ],
      "execution_count": 27,
      "outputs": [
        {
          "output_type": "display_data",
          "data": {
            "application/vnd.jupyter.widget-view+json": {
              "model_id": "fb012c592dc44d8f9936de225a814b5e",
              "version_minor": 0,
              "version_major": 2
            },
            "text/plain": [
              "interactive(children=(Dropdown(description='L', options={'L1': {'a', 'bc'}, 'L2': {'ab', 'bc'}, 'M': {'1', '01…"
            ]
          },
          "metadata": {
            "tags": []
          }
        },
        {
          "output_type": "execute_result",
          "data": {
            "text/plain": [
              "<function __main__.lstar>"
            ]
          },
          "metadata": {
            "tags": []
          },
          "execution_count": 27
        }
      ]
    },
    {
      "cell_type": "markdown",
      "metadata": {
        "id": "oca96Cnpj_ab"
      },
      "source": [
        "## Important use-case: Star of an alphabet\n",
        "\n",
        "We generate the universe of strings possible over an alphabet by starring the alphabet (viewed as a language of strings of length 1). The illustration below shows that."
      ]
    },
    {
      "cell_type": "code",
      "metadata": {
        "id": "K5nBHIsmj_ab",
        "outputId": "90833a8f-e094-4998-fcd0-defdcde2c259",
        "colab": {
          "base_uri": "https://localhost:8080/",
          "height": 116,
          "referenced_widgets": [
            "abf8e356477647e58818aa5968dfe8ef",
            "6256afbe81824d9a8bf80bcaed7dc72c",
            "b33be23ad344448ba833e1ce884fa4b7",
            "efae7ebc4ac240c38f79272cd189ee26",
            "63cb6533abd24610a4752b22e6547661",
            "3d0fc0bc0a9c4528ae92f88f37c1d880",
            "04a26f7379b8418198c63326464d8391",
            "7c6d6c3d070241c1946c0a49dd444b9f",
            "ddf7c68ba6884132ab2e4ddbd3217a67",
            "65b3c201ebc64288b0cd16451b026c07"
          ]
        }
      },
      "source": [
        "Alph1 = {'a','b'}\n",
        "Alph2 = {'0','1'}\n",
        "wdg.interact(lstar, L={'Alph1': Alph1, 'Alph2':Alph2}, n=(0,7))"
      ],
      "execution_count": 30,
      "outputs": [
        {
          "output_type": "display_data",
          "data": {
            "application/vnd.jupyter.widget-view+json": {
              "model_id": "abf8e356477647e58818aa5968dfe8ef",
              "version_minor": 0,
              "version_major": 2
            },
            "text/plain": [
              "interactive(children=(Dropdown(description='L', options={'Alph1': {'a', 'b'}, 'Alph2': {'1', '0'}}, value={'a'…"
            ]
          },
          "metadata": {
            "tags": []
          }
        },
        {
          "output_type": "execute_result",
          "data": {
            "text/plain": [
              "<function __main__.lstar>"
            ]
          },
          "metadata": {
            "tags": []
          },
          "execution_count": 30
        }
      ]
    },
    {
      "cell_type": "code",
      "metadata": {
        "editable": false,
        "run_control": {
          "frozen": false,
          "read_only": false
        },
        "id": "5IwQaUYDj_ac",
        "outputId": "889517ed-fa1c-4e49-868a-614aa88cdd84",
        "colab": {
          "base_uri": "https://localhost:8080/"
        }
      },
      "source": [
        "print(lstar(lunit(),10))\n",
        "print(lstar(lstar(lunit(), 10), 10))"
      ],
      "execution_count": 31,
      "outputs": [
        {
          "output_type": "stream",
          "text": [
            "{''}\n",
            "{''}\n"
          ],
          "name": "stdout"
        }
      ]
    },
    {
      "cell_type": "markdown",
      "metadata": {
        "editable": false,
        "run_control": {
          "frozen": false,
          "read_only": false
        },
        "id": "H6pufgHAj_ac"
      },
      "source": [
        "\n",
        "Now, we present a set of operations on strings and languages that are self-explanatory, so we'll just summarize them:\n",
        "\n",
        "* srev - reverse a string\n",
        "* lrev - reverse a language. It maps srev over a language (set of strings).\n",
        "* shomo - apply a language homomorphism using a lambda passed in.  You can \"rot13\" code email using this :-)\n",
        "* lhomo - apply a homomorphism to a language.\n",
        "\n",
        "Since tests are embedded in the doc-strings of these functions, we will not show tests separately, but feel free to add tests.\n"
      ]
    },
    {
      "cell_type": "code",
      "metadata": {
        "editable": false,
        "run_control": {
          "frozen": false,
          "read_only": false
        },
        "id": "D72n1C0hj_ac"
      },
      "source": [
        "# In Python, there isn't direct support for reversing a string.\n",
        "# The backward selection method implemented by S[::-1] is what \n",
        "# many recommend. This leaves the start and stride empty, and\n",
        "# specifies the direction to be going backwards. \n",
        "# Another method is \"\".join(reversed(s)) to reverse s\n",
        "\n",
        "def srev(S):\n",
        "    \"\"\"In : S (string)\n",
        "       Out: reverse of S (string)\n",
        "       Example:\n",
        "       srev('ab') -> 'ba'\n",
        "    \"\"\"\n",
        "    return S[::-1] \n",
        "\n",
        "def lrev(L):\n",
        "    \"\"\"In : L (language : a set)\n",
        "       Out: reverse of L (language : a set)\n",
        "       Example: \n",
        "       lrev({'ab', 'bc'}) -> {'cb', 'ba'}\n",
        "    \"\"\"\n",
        "    return set(map(lambda x: srev(x), L))\n",
        "\n",
        "def shomo(S,f):\n",
        "    \"\"\"In : S (string)\n",
        "            f (function from char to char)\n",
        "       Out: String homomorphism of S wrt f.\n",
        "       Example: \n",
        "       S = \"abcd\"\n",
        "       f = lambda x: chr( (ord(x)+1) % 256 )\n",
        "       shomo(\"abcd\",f) -> 'bcde'  \n",
        "    \"\"\"\n",
        "    return \"\".join(map(f,S))\n",
        "\n",
        "def lhomo(L,f):\n",
        "    \"\"\"In : L (language : set of strings)\n",
        "            f (function from char to char)\n",
        "       Out: Lang. homomorphism of L wrt f (language : set of str)\n",
        "       Example:\n",
        "       L = {\"Hello there\", \"a\", \"A\"}\n",
        "       f = rot13 = lambda x: chr( (ord(x)+13) % 256 )\n",
        "       lhomo(L, rot13) -> {'N', 'Uryy|-\\x81ur\\x7fr', 'n'}\n",
        "    \"\"\"\n",
        "    return set(map(lambda S: shomo(S,f), L))"
      ],
      "execution_count": 32,
      "outputs": []
    },
    {
      "cell_type": "markdown",
      "metadata": {
        "editable": false,
        "run_control": {
          "frozen": false,
          "read_only": false
        },
        "id": "lvmaCJPtj_ac"
      },
      "source": [
        "<span style=\"color:blue\"> **Let's do a few exercises involving srev, lrev, shomo and lhomo. ** </span>"
      ]
    },
    {
      "cell_type": "code",
      "metadata": {
        "editable": false,
        "run_control": {
          "frozen": false,
          "read_only": false
        },
        "id": "Oet4fhgXj_ad",
        "outputId": "6b76e01e-f76f-4bbd-cb17-1fd8c1d7cf92",
        "colab": {
          "base_uri": "https://localhost:8080/"
        }
      },
      "source": [
        "L={'ab', '007'}\n",
        "\n",
        "# modulo-rotate all chars by one.\n",
        "rot1 = lambda x: chr( (ord(x)+1) % 256 ) \n",
        "\n",
        "# Don't be baffled if the sets print in a different order!               \n",
        "# Sets don't have a required positional presentation order\n",
        "# Watch for the CONTENTS of the set reversing !!\n",
        "print('lrev(L) = ', lrev(L)) \n",
        "\n",
        "print('lhomo(L, rot1) = ', lhomo(L, rot1))\n",
        "\n",
        "print('lrev(lhomo(L), rot1) = ', lrev(lhomo(L, rot1)))\n"
      ],
      "execution_count": 34,
      "outputs": [
        {
          "output_type": "stream",
          "text": [
            "lrev(L) =  {'700', 'ba'}\n",
            "lhomo(L, rot1) =  {'118', 'bc'}\n",
            "lrev(lhomo(L), rot1) =  {'811', 'cb'}\n"
          ],
          "name": "stdout"
        }
      ]
    },
    {
      "cell_type": "markdown",
      "metadata": {
        "editable": false,
        "run_control": {
          "frozen": false,
          "read_only": false
        },
        "id": "D7wqGlQfj_ad"
      },
      "source": [
        "<span style=\"color:blue\"> **We now introduce powersets which you may have forgotten. We will need this when discussing non-deterministic finite automata.** </span>"
      ]
    },
    {
      "cell_type": "markdown",
      "metadata": {
        "editable": false,
        "run_control": {
          "frozen": false,
          "read_only": false
        },
        "id": "rW_esuerj_ad"
      },
      "source": [
        "\n",
        "\n",
        "We now define the powerset of a set S. We work with lists, as sets cannot contain other sets (not hashable, etc). But barring all that, here is the recursive definition being used.\n",
        "\n",
        "> Let $PowSminusX$ = $powset(S \\setminus x)$\n",
        "\n",
        "> Then, given $x \\in S$, we have $powset(S)$ = $PowSminusX  \\cup$  { $y\\cup x$  $\\mid$ $y\\in PowSminusX$ } \n",
        "\n",
        "That is,\n",
        "\n",
        "* Take out some $x\\in S$\n",
        "\n",
        "* Recursively compute $PowSminusX$\n",
        "\n",
        "* Now, $powset(S)$ has all the sets in $PowSminusX$ plus all the sets in $PowSminusX$ with $x$ added back, as well.\n",
        "\n",
        "Here is that code now.\n"
      ]
    },
    {
      "cell_type": "code",
      "metadata": {
        "editable": false,
        "run_control": {
          "frozen": false,
          "read_only": false
        },
        "id": "JmSu70i4j_ae"
      },
      "source": [
        "def powset(S):\n",
        "    \"\"\"In : S (set)\n",
        "       Out: List of lists representing powerset.\n",
        "            Since sets/lists are unhashable, we convert the set \n",
        "            to a list,perform the powerset operations, leaving \n",
        "            the result as a list (can't convert back to a set).\n",
        "       Example:\n",
        "       S = {'ab', 'bc'}\n",
        "       powset(S) -> [['ab', 'bc'], ['bc'], ['ab'], []]\n",
        "    \"\"\"\n",
        "    L=list(S)\n",
        "    if L==[]:\n",
        "        return([[]])\n",
        "    else:\n",
        "        pow_rest0 = powset(L[1:])\n",
        "        pow_rest1 = list(map(lambda Ls: [L[0]] + Ls, pow_rest0))\n",
        "        return(pow_rest0 + pow_rest1)"
      ],
      "execution_count": 35,
      "outputs": []
    },
    {
      "cell_type": "code",
      "metadata": {
        "run_control": {
          "frozen": false,
          "read_only": false
        },
        "id": "g4AKx-ucj_ae",
        "outputId": "e0f47ac5-298b-4a95-84d1-59d0dfb52a68",
        "colab": {
          "base_uri": "https://localhost:8080/"
        }
      },
      "source": [
        "powset({'a','b','c'})"
      ],
      "execution_count": 36,
      "outputs": [
        {
          "output_type": "execute_result",
          "data": {
            "text/plain": [
              "[[], ['b'], ['c'], ['c', 'b'], ['a'], ['a', 'b'], ['a', 'c'], ['a', 'c', 'b']]"
            ]
          },
          "metadata": {
            "tags": []
          },
          "execution_count": 36
        }
      ]
    },
    {
      "cell_type": "markdown",
      "metadata": {
        "editable": false,
        "run_control": {
          "frozen": false,
          "read_only": false
        },
        "id": "uwvhyut7j_ae"
      },
      "source": [
        "<span style=\"color:blue\"> **There are familiar operations on languages such as union and intersection. \n",
        "PAY SPECIAL ATTENTION to lcomplem, the function computing language complements.\n",
        "The definition of language complement is with respect to the universe  $\\Sigma^*$. \n",
        "Since we can compute only finite approximations of star, the function lcomplem is also like star in that we take a truncation parameter. You can follow how lcomplem works through experiments; once you get that, you must imagine how it works in math.\n",
        "Also pay attenti\n",
        "on to cartesian product. It works like normal cartesian products do (you may see a superficial similarity with concatenation where we draw pairs of strings but concatenate the strings). ** </span>"
      ]
    },
    {
      "cell_type": "markdown",
      "metadata": {
        "editable": false,
        "run_control": {
          "frozen": false,
          "read_only": false
        },
        "id": "SfrkNiuej_ae"
      },
      "source": [
        "\n",
        "Finally, we have a whole list of familiar language-theoretic operations:\n",
        "\n",
        "* lunion - language union\n",
        "\n",
        "* lint - language intersection\n",
        "\n",
        "* lsymdiff - language symmetric difference\n",
        "\n",
        "* lminus - language subtraction\n",
        "\n",
        "* lissubset - language subset test\n",
        "\n",
        "* lissuperset - language superset test\n",
        "\n",
        "* lcomplem - language complement with respect to \"star upto m\" of the alphabet (not the full alphabet star, mind you)\n",
        "\n",
        "* product - cartesian product\n",
        "\n",
        "We do not provide too many tests for these rather familiar functions. But please make sure you understand language complements well!\n"
      ]
    },
    {
      "cell_type": "code",
      "metadata": {
        "editable": false,
        "run_control": {
          "frozen": false,
          "read_only": false
        },
        "id": "D4sENYV5j_ae"
      },
      "source": [
        "# Define lunion (as before)\n",
        "def lunion(L1,L2):\n",
        "    \"\"\"In : L1 (language : set of strings)\n",
        "            L2 (language : set of strings)\n",
        "       Out: L1 union L2 (sets of strings)\n",
        "    \"\"\"\n",
        "    return L1 | L2\n",
        "\n",
        "def lint(L1,L2):\n",
        "    \"\"\"In : L1 (language : set of strings)\n",
        "            L2 (language : set of strings)\n",
        "       Out: L1 intersection L2 (sets of strings)\n",
        "    \"\"\"\n",
        "    return L1 & L2\n",
        "\n",
        "def lsymdiff(L1,L2):\n",
        "    \"\"\"In : L1 (language : set of strings)\n",
        "            L2 (language : set of strings)\n",
        "       Out: (L1 \\ L2) union (L2 \\ L1) (sets of strings)\n",
        "       Example:\n",
        "       lsymdiff({'ab', 'bc'}, {'11', 'ab', '22'}) -> {'11', '22', 'bc'}\n",
        "    \"\"\"\n",
        "    return L1 ^ L2\n",
        "\n",
        "def lminus(L1,L2):\n",
        "    \"\"\"Language subtraction of two languages (sets of strings)\n",
        "       Can do it as L1.difference(L2) also. \n",
        "    \"\"\"\n",
        "    return L1 - L2\n",
        "\n",
        "def lissubset(L1,L2):\n",
        "    \"\"\"In : L1 (language : set of strings)\n",
        "            L2 (language : set of strings)\n",
        "       Out: L1 is subset or equal to L2 (True/False)\n",
        "    \"\"\"\n",
        "    return L1 <= L2\n",
        "\n",
        "def lissuperset(L1,L2):\n",
        "    \"\"\"In : L1 (language : set of strings)\n",
        "            L2 (language : set of strings)\n",
        "       Out: L1 is superset or equal to L2 (True/False)\n",
        "    \"\"\"\n",
        "    return L1 >= L2\n",
        "    \n",
        "def lcomplem(L,sigma,n):\n",
        "    \"\"\"In : L (language : set of strings)\n",
        "            sigma (alphabet : set of strings)\n",
        "            n (finite limit for lstar : int)\n",
        "       Out : sigma*_n - L (language : set of strings)\n",
        "       Example:\n",
        "       L = {'0', '10', '010'}\n",
        "       sigma = {'0', '1'}\n",
        "       n = 3\n",
        "       lcomplem(L4,{'0','1'}, 3) -> \n",
        "       {'', '000', '101', '011', '00', '1', \n",
        "        '001', '110', '111', '100', '01', '11'}\n",
        "    \"\"\"\n",
        "    return lstar(sigma,n) - L  \n",
        "\n",
        "def product(S1,S2):\n",
        "    \"\"\"In : S1 (set)\n",
        "            S2 (set)\n",
        "       Out: Cartesian product of S1 and S2 (set of pairs)\n",
        "    \"\"\"\n",
        "    return { (x,y) for x in S1 for y in S2 }\n",
        "\n",
        "#--end"
      ],
      "execution_count": 37,
      "outputs": []
    },
    {
      "cell_type": "code",
      "metadata": {
        "editable": false,
        "run_control": {
          "frozen": false,
          "read_only": false
        },
        "id": "Qq4kZv7Bj_af"
      },
      "source": [
        "L1 = {'0101'}"
      ],
      "execution_count": 38,
      "outputs": []
    },
    {
      "cell_type": "code",
      "metadata": {
        "editable": false,
        "run_control": {
          "frozen": false,
          "read_only": false
        },
        "id": "Elun7BrNj_af"
      },
      "source": [
        "L2 = lstar({'0','1'}, 2)"
      ],
      "execution_count": 41,
      "outputs": []
    },
    {
      "cell_type": "code",
      "metadata": {
        "editable": false,
        "run_control": {
          "frozen": false,
          "read_only": false
        },
        "id": "DUZMny0Sj_af"
      },
      "source": [
        "# Python variable L2L1 denotes concat of L2 and L1\n",
        "L2L1 = lcat(L2,L1)  "
      ],
      "execution_count": 42,
      "outputs": []
    },
    {
      "cell_type": "code",
      "metadata": {
        "editable": false,
        "run_control": {
          "frozen": false,
          "read_only": false
        },
        "id": "8-pQ3kRJj_ag",
        "outputId": "7dfa6165-d57d-49db-f024-f0d49541cc84",
        "colab": {
          "base_uri": "https://localhost:8080/"
        }
      },
      "source": [
        "L2L1"
      ],
      "execution_count": 43,
      "outputs": [
        {
          "output_type": "execute_result",
          "data": {
            "text/plain": [
              "{'000101', '00101', '0101', '010101', '100101', '10101', '110101'}"
            ]
          },
          "metadata": {
            "tags": []
          },
          "execution_count": 43
        }
      ]
    },
    {
      "cell_type": "code",
      "metadata": {
        "editable": false,
        "run_control": {
          "frozen": false,
          "read_only": false
        },
        "id": "Iwys5sq9j_ag"
      },
      "source": [
        "L3 = lcat(L1, lunion(lunit(), L2L1))  "
      ],
      "execution_count": 44,
      "outputs": []
    },
    {
      "cell_type": "code",
      "metadata": {
        "editable": false,
        "run_control": {
          "frozen": false,
          "read_only": false
        },
        "id": "ibTjS3dOj_ag",
        "outputId": "700d4542-3fa9-42ed-947c-a8a640ed18f7",
        "colab": {
          "base_uri": "https://localhost:8080/"
        }
      },
      "source": [
        "L3"
      ],
      "execution_count": 45,
      "outputs": [
        {
          "output_type": "execute_result",
          "data": {
            "text/plain": [
              "{'0101',\n",
              " '0101000101',\n",
              " '010100101',\n",
              " '01010101',\n",
              " '0101010101',\n",
              " '0101100101',\n",
              " '010110101',\n",
              " '0101110101'}"
            ]
          },
          "metadata": {
            "tags": []
          },
          "execution_count": 45
        }
      ]
    },
    {
      "cell_type": "code",
      "metadata": {
        "editable": false,
        "run_control": {
          "frozen": false,
          "read_only": false
        },
        "id": "gixRuaHQj_ag",
        "outputId": "0ceadac7-9eb1-4fbb-af81-526113966b95",
        "colab": {
          "base_uri": "https://localhost:8080/"
        }
      },
      "source": [
        "# Note that I've provided a truncation limit of 10 for lstar\n",
        "# involved in language complement.\n",
        "\n",
        "L4 = {'0', '10', '010'}\n",
        "\n",
        "print('L4 = ', L4)\n",
        "\n",
        "print(\"----\")\n",
        "print(\"lcomplem(L4,{'0','1'}, 1) = \",  lcomplem(L4,{'0','1'}, 1) )  \n",
        "\n",
        "print(\"----\")\n",
        "print(\"lcomplem(L4,{'0','1'}, 2) = \",  lcomplem(L4,{'0','1'}, 2) ) \n",
        "\n",
        "print(\"----\")\n",
        "print(\"lcomplem(L4,{'0','1'}, 3) = \",  lcomplem(L4,{'0','1'}, 3) ) \n",
        "\n",
        "print(\"----\")\n",
        "print(\"lcomplem(L4,{'0','1'}, 4) = \",  lcomplem(L4,{'0','1'}, 4) ) \n",
        "\n",
        "print(\"----\")\n",
        "print(\"In the limit, we get everything in {0,1}* \")\n",
        "print(\".. except for '0', '10', and '010'. \")"
      ],
      "execution_count": 46,
      "outputs": [
        {
          "output_type": "stream",
          "text": [
            "L4 =  {'010', '10', '0'}\n",
            "----\n",
            "lcomplem(L4,{'0','1'}, 1) =  {'', '1'}\n",
            "----\n",
            "lcomplem(L4,{'0','1'}, 2) =  {'', '1', '00', '01', '11'}\n",
            "----\n",
            "lcomplem(L4,{'0','1'}, 3) =  {'', '110', '100', '101', '001', '000', '1', '00', '011', '01', '11', '111'}\n",
            "----\n",
            "lcomplem(L4,{'0','1'}, 4) =  {'', '0010', '1011', '0110', '1', '00', '1110', '011', '1100', '1111', '0101', '0011', '1010', '110', '11', '0001', '0100', '111', '100', '101', '001', '1000', '1001', '000', '1101', '0111', '0000', '01'}\n",
            "----\n",
            "In the limit, we get everything in {0,1}* \n",
            ".. except for '0', '10', and '010'. \n"
          ],
          "name": "stdout"
        }
      ]
    },
    {
      "cell_type": "markdown",
      "metadata": {
        "collapsed": true,
        "editable": false,
        "run_control": {
          "frozen": false,
          "read_only": false
        },
        "id": "BSoqR9QXj_ag"
      },
      "source": [
        "<span style=\"color:blue\"> **This finishes Chapter-2 of the book ** </span>"
      ]
    },
    {
      "cell_type": "code",
      "metadata": {
        "run_control": {
          "frozen": false,
          "read_only": false
        },
        "id": "PbT6Vld8j_ag"
      },
      "source": [
        "help(lsymdiff)"
      ],
      "execution_count": null,
      "outputs": []
    },
    {
      "cell_type": "code",
      "metadata": {
        "run_control": {
          "frozen": false,
          "read_only": false
        },
        "id": "1BZAIlUJj_ah"
      },
      "source": [
        "As = { \"a\"*i for i in range(8)}"
      ],
      "execution_count": 47,
      "outputs": []
    },
    {
      "cell_type": "code",
      "metadata": {
        "run_control": {
          "frozen": false,
          "read_only": false
        },
        "id": "s8pWSPlLj_ah",
        "outputId": "69b6bd93-708d-4f20-aae0-aece1bc3834c",
        "colab": {
          "base_uri": "https://localhost:8080/"
        }
      },
      "source": [
        "As"
      ],
      "execution_count": 48,
      "outputs": [
        {
          "output_type": "execute_result",
          "data": {
            "text/plain": [
              "{'', 'a', 'aa', 'aaa', 'aaaa', 'aaaaa', 'aaaaaa', 'aaaaaaa'}"
            ]
          },
          "metadata": {
            "tags": []
          },
          "execution_count": 48
        }
      ]
    },
    {
      "cell_type": "code",
      "metadata": {
        "run_control": {
          "frozen": false,
          "read_only": false
        },
        "id": "Bo2GtFL2j_ah"
      },
      "source": [
        "Bs = { \"b\"*i for i in range(8)}"
      ],
      "execution_count": 49,
      "outputs": []
    },
    {
      "cell_type": "code",
      "metadata": {
        "run_control": {
          "frozen": false,
          "read_only": false
        },
        "id": "HMO38hvcj_ah",
        "outputId": "b233a173-c0ec-4498-beb0-8b63315ff08a",
        "colab": {
          "base_uri": "https://localhost:8080/"
        }
      },
      "source": [
        "Bs"
      ],
      "execution_count": 50,
      "outputs": [
        {
          "output_type": "execute_result",
          "data": {
            "text/plain": [
              "{'', 'b', 'bb', 'bbb', 'bbbb', 'bbbbb', 'bbbbbb', 'bbbbbbb'}"
            ]
          },
          "metadata": {
            "tags": []
          },
          "execution_count": 50
        }
      ]
    },
    {
      "cell_type": "code",
      "metadata": {
        "run_control": {
          "frozen": false,
          "read_only": false
        },
        "id": "UttZlOS2j_ah"
      },
      "source": [
        "Cs = { \"c\"*i for i in range(8)}"
      ],
      "execution_count": 51,
      "outputs": []
    },
    {
      "cell_type": "code",
      "metadata": {
        "run_control": {
          "frozen": false,
          "read_only": false
        },
        "id": "cCQNqoWdj_ai",
        "outputId": "d394a838-94ad-448c-d292-8293d394895c",
        "colab": {
          "base_uri": "https://localhost:8080/"
        }
      },
      "source": [
        "Cs"
      ],
      "execution_count": 52,
      "outputs": [
        {
          "output_type": "execute_result",
          "data": {
            "text/plain": [
              "{'', 'c', 'cc', 'ccc', 'cccc', 'ccccc', 'cccccc', 'ccccccc'}"
            ]
          },
          "metadata": {
            "tags": []
          },
          "execution_count": 52
        }
      ]
    },
    {
      "cell_type": "code",
      "metadata": {
        "run_control": {
          "frozen": false,
          "read_only": false
        },
        "id": "SGBu00L_j_ai"
      },
      "source": [
        "ABs = { \"a\"*i + \"b\" * i for i in range (8)}"
      ],
      "execution_count": 53,
      "outputs": []
    },
    {
      "cell_type": "code",
      "metadata": {
        "run_control": {
          "frozen": false,
          "read_only": false
        },
        "id": "CGB8HvdEj_ai",
        "outputId": "33744451-eeff-4933-f993-add722c83386",
        "colab": {
          "base_uri": "https://localhost:8080/"
        }
      },
      "source": [
        "ABs"
      ],
      "execution_count": 54,
      "outputs": [
        {
          "output_type": "execute_result",
          "data": {
            "text/plain": [
              "{'',\n",
              " 'aaaaaaabbbbbbb',\n",
              " 'aaaaaabbbbbb',\n",
              " 'aaaaabbbbb',\n",
              " 'aaaabbbb',\n",
              " 'aaabbb',\n",
              " 'aabb',\n",
              " 'ab'}"
            ]
          },
          "metadata": {
            "tags": []
          },
          "execution_count": 54
        }
      ]
    },
    {
      "cell_type": "code",
      "metadata": {
        "run_control": {
          "frozen": false,
          "read_only": false
        },
        "id": "CzDGAlzXj_ai"
      },
      "source": [
        "BCs = { \"b\"*i + \"c\" * i for i in range (8)}"
      ],
      "execution_count": 55,
      "outputs": []
    },
    {
      "cell_type": "code",
      "metadata": {
        "run_control": {
          "frozen": false,
          "read_only": false
        },
        "id": "NQFFmpEHj_ai",
        "outputId": "e2e8f082-5229-4937-9223-1baebf6b7a57",
        "colab": {
          "base_uri": "https://localhost:8080/"
        }
      },
      "source": [
        "BCs"
      ],
      "execution_count": 56,
      "outputs": [
        {
          "output_type": "execute_result",
          "data": {
            "text/plain": [
              "{'',\n",
              " 'bbbbbbbccccccc',\n",
              " 'bbbbbbcccccc',\n",
              " 'bbbbbccccc',\n",
              " 'bbbbcccc',\n",
              " 'bbbccc',\n",
              " 'bbcc',\n",
              " 'bc'}"
            ]
          },
          "metadata": {
            "tags": []
          },
          "execution_count": 56
        }
      ]
    },
    {
      "cell_type": "code",
      "metadata": {
        "run_control": {
          "frozen": false,
          "read_only": false
        },
        "id": "rSXV-YNaj_ai",
        "outputId": "bf64f410-24cc-4180-df33-305121dfb328",
        "colab": {
          "base_uri": "https://localhost:8080/"
        }
      },
      "source": [
        "lcat(ABs, Cs)"
      ],
      "execution_count": 57,
      "outputs": [
        {
          "output_type": "execute_result",
          "data": {
            "text/plain": [
              "{'',\n",
              " 'aaaaaaabbbbbbb',\n",
              " 'aaaaaaabbbbbbbc',\n",
              " 'aaaaaaabbbbbbbcc',\n",
              " 'aaaaaaabbbbbbbccc',\n",
              " 'aaaaaaabbbbbbbcccc',\n",
              " 'aaaaaaabbbbbbbccccc',\n",
              " 'aaaaaaabbbbbbbcccccc',\n",
              " 'aaaaaaabbbbbbbccccccc',\n",
              " 'aaaaaabbbbbb',\n",
              " 'aaaaaabbbbbbc',\n",
              " 'aaaaaabbbbbbcc',\n",
              " 'aaaaaabbbbbbccc',\n",
              " 'aaaaaabbbbbbcccc',\n",
              " 'aaaaaabbbbbbccccc',\n",
              " 'aaaaaabbbbbbcccccc',\n",
              " 'aaaaaabbbbbbccccccc',\n",
              " 'aaaaabbbbb',\n",
              " 'aaaaabbbbbc',\n",
              " 'aaaaabbbbbcc',\n",
              " 'aaaaabbbbbccc',\n",
              " 'aaaaabbbbbcccc',\n",
              " 'aaaaabbbbbccccc',\n",
              " 'aaaaabbbbbcccccc',\n",
              " 'aaaaabbbbbccccccc',\n",
              " 'aaaabbbb',\n",
              " 'aaaabbbbc',\n",
              " 'aaaabbbbcc',\n",
              " 'aaaabbbbccc',\n",
              " 'aaaabbbbcccc',\n",
              " 'aaaabbbbccccc',\n",
              " 'aaaabbbbcccccc',\n",
              " 'aaaabbbbccccccc',\n",
              " 'aaabbb',\n",
              " 'aaabbbc',\n",
              " 'aaabbbcc',\n",
              " 'aaabbbccc',\n",
              " 'aaabbbcccc',\n",
              " 'aaabbbccccc',\n",
              " 'aaabbbcccccc',\n",
              " 'aaabbbccccccc',\n",
              " 'aabb',\n",
              " 'aabbc',\n",
              " 'aabbcc',\n",
              " 'aabbccc',\n",
              " 'aabbcccc',\n",
              " 'aabbccccc',\n",
              " 'aabbcccccc',\n",
              " 'aabbccccccc',\n",
              " 'ab',\n",
              " 'abc',\n",
              " 'abcc',\n",
              " 'abccc',\n",
              " 'abcccc',\n",
              " 'abccccc',\n",
              " 'abcccccc',\n",
              " 'abccccccc',\n",
              " 'c',\n",
              " 'cc',\n",
              " 'ccc',\n",
              " 'cccc',\n",
              " 'ccccc',\n",
              " 'cccccc',\n",
              " 'ccccccc'}"
            ]
          },
          "metadata": {
            "tags": []
          },
          "execution_count": 57
        }
      ]
    },
    {
      "cell_type": "code",
      "metadata": {
        "run_control": {
          "frozen": false,
          "read_only": false
        },
        "id": "isyQP3ENj_aj",
        "outputId": "3ff86d65-dcdd-462f-bde7-2e2c1a859563",
        "colab": {
          "base_uri": "https://localhost:8080/"
        }
      },
      "source": [
        "lcat(As, Bs)"
      ],
      "execution_count": 58,
      "outputs": [
        {
          "output_type": "execute_result",
          "data": {
            "text/plain": [
              "{'',\n",
              " 'a',\n",
              " 'aa',\n",
              " 'aaa',\n",
              " 'aaaa',\n",
              " 'aaaaa',\n",
              " 'aaaaaa',\n",
              " 'aaaaaaa',\n",
              " 'aaaaaaab',\n",
              " 'aaaaaaabb',\n",
              " 'aaaaaaabbb',\n",
              " 'aaaaaaabbbb',\n",
              " 'aaaaaaabbbbb',\n",
              " 'aaaaaaabbbbbb',\n",
              " 'aaaaaaabbbbbbb',\n",
              " 'aaaaaab',\n",
              " 'aaaaaabb',\n",
              " 'aaaaaabbb',\n",
              " 'aaaaaabbbb',\n",
              " 'aaaaaabbbbb',\n",
              " 'aaaaaabbbbbb',\n",
              " 'aaaaaabbbbbbb',\n",
              " 'aaaaab',\n",
              " 'aaaaabb',\n",
              " 'aaaaabbb',\n",
              " 'aaaaabbbb',\n",
              " 'aaaaabbbbb',\n",
              " 'aaaaabbbbbb',\n",
              " 'aaaaabbbbbbb',\n",
              " 'aaaab',\n",
              " 'aaaabb',\n",
              " 'aaaabbb',\n",
              " 'aaaabbbb',\n",
              " 'aaaabbbbb',\n",
              " 'aaaabbbbbb',\n",
              " 'aaaabbbbbbb',\n",
              " 'aaab',\n",
              " 'aaabb',\n",
              " 'aaabbb',\n",
              " 'aaabbbb',\n",
              " 'aaabbbbb',\n",
              " 'aaabbbbbb',\n",
              " 'aaabbbbbbb',\n",
              " 'aab',\n",
              " 'aabb',\n",
              " 'aabbb',\n",
              " 'aabbbb',\n",
              " 'aabbbbb',\n",
              " 'aabbbbbb',\n",
              " 'aabbbbbbb',\n",
              " 'ab',\n",
              " 'abb',\n",
              " 'abbb',\n",
              " 'abbbb',\n",
              " 'abbbbb',\n",
              " 'abbbbbb',\n",
              " 'abbbbbbb',\n",
              " 'b',\n",
              " 'bb',\n",
              " 'bbb',\n",
              " 'bbbb',\n",
              " 'bbbbb',\n",
              " 'bbbbbb',\n",
              " 'bbbbbbb'}"
            ]
          },
          "metadata": {
            "tags": []
          },
          "execution_count": 58
        }
      ]
    },
    {
      "cell_type": "code",
      "metadata": {
        "run_control": {
          "frozen": false,
          "read_only": false
        },
        "id": "VgS9R2klj_aj"
      },
      "source": [
        "ABCs = {\"a\"*i + \"b\"*i + \"c\"*i for i in range(8)}"
      ],
      "execution_count": 59,
      "outputs": []
    },
    {
      "cell_type": "code",
      "metadata": {
        "run_control": {
          "frozen": false,
          "read_only": false
        },
        "id": "wFKgNCfbj_aj",
        "outputId": "5aa008cc-141b-4dcd-e655-5e142386ee54",
        "colab": {
          "base_uri": "https://localhost:8080/"
        }
      },
      "source": [
        "ABCs"
      ],
      "execution_count": 60,
      "outputs": [
        {
          "output_type": "execute_result",
          "data": {
            "text/plain": [
              "{'',\n",
              " 'aaaaaaabbbbbbbccccccc',\n",
              " 'aaaaaabbbbbbcccccc',\n",
              " 'aaaaabbbbbccccc',\n",
              " 'aaaabbbbcccc',\n",
              " 'aaabbbccc',\n",
              " 'aabbcc',\n",
              " 'abc'}"
            ]
          },
          "metadata": {
            "tags": []
          },
          "execution_count": 60
        }
      ]
    },
    {
      "cell_type": "markdown",
      "metadata": {
        "run_control": {
          "frozen": false,
          "read_only": false
        },
        "id": "9pvy4w2oj_aj"
      },
      "source": [
        "# Now, do the exercises at the end of Ch2 and Ch3"
      ]
    },
    {
      "cell_type": "markdown",
      "metadata": {
        "id": "RFJMdlvi2yY7"
      },
      "source": [
        "I have finished exploring this notebook\r\n",
        "-Hunter Livesay"
      ]
    }
  ]
}