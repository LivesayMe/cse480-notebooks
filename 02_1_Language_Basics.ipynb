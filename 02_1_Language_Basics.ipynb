{
  "nbformat": 4,
  "nbformat_minor": 0,
  "metadata": {
    "kernelspec": {
      "display_name": "Python 3",
      "language": "python",
      "name": "python3"
    },
    "language_info": {
      "codemirror_mode": {
        "name": "ipython",
        "version": 3
      },
      "file_extension": ".py",
      "mimetype": "text/x-python",
      "name": "python",
      "nbconvert_exporter": "python",
      "pygments_lexer": "ipython3",
      "version": "3.9.0"
    },
    "colab": {
      "name": "02_1_Language_Basics.ipynb",
      "provenance": []
    },
    "widgets": {
      "application/vnd.jupyter.widget-state+json": {
        "c468400e69b54a22a8c33fe21ec32f18": {
          "model_module": "@jupyter-widgets/controls",
          "model_name": "VBoxModel",
          "state": {
            "_view_name": "VBoxView",
            "_dom_classes": [
              "widget-interact"
            ],
            "_model_name": "VBoxModel",
            "_view_module": "@jupyter-widgets/controls",
            "_model_module_version": "1.5.0",
            "_view_count": null,
            "_view_module_version": "1.5.0",
            "box_style": "",
            "layout": "IPY_MODEL_8a920f17eacd447faf306be0bd5020b8",
            "_model_module": "@jupyter-widgets/controls",
            "children": [
              "IPY_MODEL_9390d5327ded4ff39802d019219ebfd0",
              "IPY_MODEL_8c5c34a0c0f74eccb5bef1ea40644405",
              "IPY_MODEL_7793344ce41d4900bf57744955faca53"
            ]
          }
        },
        "8a920f17eacd447faf306be0bd5020b8": {
          "model_module": "@jupyter-widgets/base",
          "model_name": "LayoutModel",
          "state": {
            "_view_name": "LayoutView",
            "grid_template_rows": null,
            "right": null,
            "justify_content": null,
            "_view_module": "@jupyter-widgets/base",
            "overflow": null,
            "_model_module_version": "1.2.0",
            "_view_count": null,
            "flex_flow": null,
            "width": null,
            "min_width": null,
            "border": null,
            "align_items": null,
            "bottom": null,
            "_model_module": "@jupyter-widgets/base",
            "top": null,
            "grid_column": null,
            "overflow_y": null,
            "overflow_x": null,
            "grid_auto_flow": null,
            "grid_area": null,
            "grid_template_columns": null,
            "flex": null,
            "_model_name": "LayoutModel",
            "justify_items": null,
            "grid_row": null,
            "max_height": null,
            "align_content": null,
            "visibility": null,
            "align_self": null,
            "height": null,
            "min_height": null,
            "padding": null,
            "grid_auto_rows": null,
            "grid_gap": null,
            "max_width": null,
            "order": null,
            "_view_module_version": "1.2.0",
            "grid_template_areas": null,
            "object_position": null,
            "object_fit": null,
            "grid_auto_columns": null,
            "margin": null,
            "display": null,
            "left": null
          }
        },
        "9390d5327ded4ff39802d019219ebfd0": {
          "model_module": "@jupyter-widgets/controls",
          "model_name": "DropdownModel",
          "state": {
            "_options_labels": [
              "L3",
              "L1",
              "L2",
              "M",
              "lphi",
              "lunit"
            ],
            "_view_name": "DropdownView",
            "style": "IPY_MODEL_3668269476734929be31040b757a3ae7",
            "_dom_classes": [],
            "description": "L",
            "_model_name": "DropdownModel",
            "index": 0,
            "_view_module": "@jupyter-widgets/controls",
            "_model_module_version": "1.5.0",
            "_view_count": null,
            "disabled": false,
            "_view_module_version": "1.5.0",
            "description_tooltip": null,
            "_model_module": "@jupyter-widgets/controls",
            "layout": "IPY_MODEL_90a6a324d50c4874832e6444071b1a6b"
          }
        },
        "8c5c34a0c0f74eccb5bef1ea40644405": {
          "model_module": "@jupyter-widgets/controls",
          "model_name": "IntSliderModel",
          "state": {
            "_view_name": "IntSliderView",
            "style": "IPY_MODEL_202a0156501c460bbc3e35f0c7f378eb",
            "_dom_classes": [],
            "description": "n",
            "step": 1,
            "_model_name": "IntSliderModel",
            "orientation": "horizontal",
            "max": 7,
            "_view_module": "@jupyter-widgets/controls",
            "_model_module_version": "1.5.0",
            "value": 2,
            "_view_count": null,
            "disabled": false,
            "_view_module_version": "1.5.0",
            "min": 0,
            "continuous_update": true,
            "readout_format": "d",
            "description_tooltip": null,
            "readout": true,
            "_model_module": "@jupyter-widgets/controls",
            "layout": "IPY_MODEL_5b8d8e69e3a24bea9a19597d217fc656"
          }
        },
        "7793344ce41d4900bf57744955faca53": {
          "model_module": "@jupyter-widgets/output",
          "model_name": "OutputModel",
          "state": {
            "_view_name": "OutputView",
            "msg_id": "",
            "_dom_classes": [],
            "_model_name": "OutputModel",
            "outputs": [
              {
                "output_type": "display_data",
                "metadata": {
                  "tags": []
                },
                "text/plain": "{'aa', 'ab', 'ac', 'ba', 'bb', 'bc', 'ca', 'cb', 'cc'}"
              }
            ],
            "_view_module": "@jupyter-widgets/output",
            "_model_module_version": "1.0.0",
            "_view_count": null,
            "_view_module_version": "1.0.0",
            "layout": "IPY_MODEL_d14d5347e7ef447c9f6ad0de0e30836d",
            "_model_module": "@jupyter-widgets/output"
          }
        },
        "3668269476734929be31040b757a3ae7": {
          "model_module": "@jupyter-widgets/controls",
          "model_name": "DescriptionStyleModel",
          "state": {
            "_view_name": "StyleView",
            "_model_name": "DescriptionStyleModel",
            "description_width": "",
            "_view_module": "@jupyter-widgets/base",
            "_model_module_version": "1.5.0",
            "_view_count": null,
            "_view_module_version": "1.2.0",
            "_model_module": "@jupyter-widgets/controls"
          }
        },
        "90a6a324d50c4874832e6444071b1a6b": {
          "model_module": "@jupyter-widgets/base",
          "model_name": "LayoutModel",
          "state": {
            "_view_name": "LayoutView",
            "grid_template_rows": null,
            "right": null,
            "justify_content": null,
            "_view_module": "@jupyter-widgets/base",
            "overflow": null,
            "_model_module_version": "1.2.0",
            "_view_count": null,
            "flex_flow": null,
            "width": null,
            "min_width": null,
            "border": null,
            "align_items": null,
            "bottom": null,
            "_model_module": "@jupyter-widgets/base",
            "top": null,
            "grid_column": null,
            "overflow_y": null,
            "overflow_x": null,
            "grid_auto_flow": null,
            "grid_area": null,
            "grid_template_columns": null,
            "flex": null,
            "_model_name": "LayoutModel",
            "justify_items": null,
            "grid_row": null,
            "max_height": null,
            "align_content": null,
            "visibility": null,
            "align_self": null,
            "height": null,
            "min_height": null,
            "padding": null,
            "grid_auto_rows": null,
            "grid_gap": null,
            "max_width": null,
            "order": null,
            "_view_module_version": "1.2.0",
            "grid_template_areas": null,
            "object_position": null,
            "object_fit": null,
            "grid_auto_columns": null,
            "margin": null,
            "display": null,
            "left": null
          }
        },
        "202a0156501c460bbc3e35f0c7f378eb": {
          "model_module": "@jupyter-widgets/controls",
          "model_name": "SliderStyleModel",
          "state": {
            "_view_name": "StyleView",
            "handle_color": null,
            "_model_name": "SliderStyleModel",
            "description_width": "",
            "_view_module": "@jupyter-widgets/base",
            "_model_module_version": "1.5.0",
            "_view_count": null,
            "_view_module_version": "1.2.0",
            "_model_module": "@jupyter-widgets/controls"
          }
        },
        "5b8d8e69e3a24bea9a19597d217fc656": {
          "model_module": "@jupyter-widgets/base",
          "model_name": "LayoutModel",
          "state": {
            "_view_name": "LayoutView",
            "grid_template_rows": null,
            "right": null,
            "justify_content": null,
            "_view_module": "@jupyter-widgets/base",
            "overflow": null,
            "_model_module_version": "1.2.0",
            "_view_count": null,
            "flex_flow": null,
            "width": null,
            "min_width": null,
            "border": null,
            "align_items": null,
            "bottom": null,
            "_model_module": "@jupyter-widgets/base",
            "top": null,
            "grid_column": null,
            "overflow_y": null,
            "overflow_x": null,
            "grid_auto_flow": null,
            "grid_area": null,
            "grid_template_columns": null,
            "flex": null,
            "_model_name": "LayoutModel",
            "justify_items": null,
            "grid_row": null,
            "max_height": null,
            "align_content": null,
            "visibility": null,
            "align_self": null,
            "height": null,
            "min_height": null,
            "padding": null,
            "grid_auto_rows": null,
            "grid_gap": null,
            "max_width": null,
            "order": null,
            "_view_module_version": "1.2.0",
            "grid_template_areas": null,
            "object_position": null,
            "object_fit": null,
            "grid_auto_columns": null,
            "margin": null,
            "display": null,
            "left": null
          }
        },
        "d14d5347e7ef447c9f6ad0de0e30836d": {
          "model_module": "@jupyter-widgets/base",
          "model_name": "LayoutModel",
          "state": {
            "_view_name": "LayoutView",
            "grid_template_rows": null,
            "right": null,
            "justify_content": null,
            "_view_module": "@jupyter-widgets/base",
            "overflow": null,
            "_model_module_version": "1.2.0",
            "_view_count": null,
            "flex_flow": null,
            "width": null,
            "min_width": null,
            "border": null,
            "align_items": null,
            "bottom": null,
            "_model_module": "@jupyter-widgets/base",
            "top": null,
            "grid_column": null,
            "overflow_y": null,
            "overflow_x": null,
            "grid_auto_flow": null,
            "grid_area": null,
            "grid_template_columns": null,
            "flex": null,
            "_model_name": "LayoutModel",
            "justify_items": null,
            "grid_row": null,
            "max_height": null,
            "align_content": null,
            "visibility": null,
            "align_self": null,
            "height": null,
            "min_height": null,
            "padding": null,
            "grid_auto_rows": null,
            "grid_gap": null,
            "max_width": null,
            "order": null,
            "_view_module_version": "1.2.0",
            "grid_template_areas": null,
            "object_position": null,
            "object_fit": null,
            "grid_auto_columns": null,
            "margin": null,
            "display": null,
            "left": null
          }
        },
        "fe928c3d351f4deaaaba6170ccded1d5": {
          "model_module": "@jupyter-widgets/controls",
          "model_name": "VBoxModel",
          "state": {
            "_view_name": "VBoxView",
            "_dom_classes": [
              "widget-interact"
            ],
            "_model_name": "VBoxModel",
            "_view_module": "@jupyter-widgets/controls",
            "_model_module_version": "1.5.0",
            "_view_count": null,
            "_view_module_version": "1.5.0",
            "box_style": "",
            "layout": "IPY_MODEL_0d2dc7fbc50347b0afceda6691f5b5aa",
            "_model_module": "@jupyter-widgets/controls",
            "children": [
              "IPY_MODEL_9a15c41d19844cbf9870879142f536de",
              "IPY_MODEL_324c3550f6684a73b60e5614ee6efc89",
              "IPY_MODEL_6e6e5d5351bf41bda0c853424a67cfd8"
            ]
          }
        },
        "0d2dc7fbc50347b0afceda6691f5b5aa": {
          "model_module": "@jupyter-widgets/base",
          "model_name": "LayoutModel",
          "state": {
            "_view_name": "LayoutView",
            "grid_template_rows": null,
            "right": null,
            "justify_content": null,
            "_view_module": "@jupyter-widgets/base",
            "overflow": null,
            "_model_module_version": "1.2.0",
            "_view_count": null,
            "flex_flow": null,
            "width": null,
            "min_width": null,
            "border": null,
            "align_items": null,
            "bottom": null,
            "_model_module": "@jupyter-widgets/base",
            "top": null,
            "grid_column": null,
            "overflow_y": null,
            "overflow_x": null,
            "grid_auto_flow": null,
            "grid_area": null,
            "grid_template_columns": null,
            "flex": null,
            "_model_name": "LayoutModel",
            "justify_items": null,
            "grid_row": null,
            "max_height": null,
            "align_content": null,
            "visibility": null,
            "align_self": null,
            "height": null,
            "min_height": null,
            "padding": null,
            "grid_auto_rows": null,
            "grid_gap": null,
            "max_width": null,
            "order": null,
            "_view_module_version": "1.2.0",
            "grid_template_areas": null,
            "object_position": null,
            "object_fit": null,
            "grid_auto_columns": null,
            "margin": null,
            "display": null,
            "left": null
          }
        },
        "9a15c41d19844cbf9870879142f536de": {
          "model_module": "@jupyter-widgets/controls",
          "model_name": "DropdownModel",
          "state": {
            "_options_labels": [
              "L3",
              "L1",
              "L2",
              "M",
              "lphi",
              "lunit"
            ],
            "_view_name": "DropdownView",
            "style": "IPY_MODEL_0fc4a2538e964cdd8a873b384bf6c4cc",
            "_dom_classes": [],
            "description": "L",
            "_model_name": "DropdownModel",
            "index": 0,
            "_view_module": "@jupyter-widgets/controls",
            "_model_module_version": "1.5.0",
            "_view_count": null,
            "disabled": false,
            "_view_module_version": "1.5.0",
            "description_tooltip": null,
            "_model_module": "@jupyter-widgets/controls",
            "layout": "IPY_MODEL_150cad2e4c5e45fd8854f363e69067e3"
          }
        },
        "324c3550f6684a73b60e5614ee6efc89": {
          "model_module": "@jupyter-widgets/controls",
          "model_name": "IntSliderModel",
          "state": {
            "_view_name": "IntSliderView",
            "style": "IPY_MODEL_cf5d0099b6004ef8ad152a8d25128553",
            "_dom_classes": [],
            "description": "n",
            "step": 1,
            "_model_name": "IntSliderModel",
            "orientation": "horizontal",
            "max": 7,
            "_view_module": "@jupyter-widgets/controls",
            "_model_module_version": "1.5.0",
            "value": 3,
            "_view_count": null,
            "disabled": false,
            "_view_module_version": "1.5.0",
            "min": 0,
            "continuous_update": true,
            "readout_format": "d",
            "description_tooltip": null,
            "readout": true,
            "_model_module": "@jupyter-widgets/controls",
            "layout": "IPY_MODEL_07980c29cc814018824cb2a760be2553"
          }
        },
        "6e6e5d5351bf41bda0c853424a67cfd8": {
          "model_module": "@jupyter-widgets/output",
          "model_name": "OutputModel",
          "state": {
            "_view_name": "OutputView",
            "msg_id": "",
            "_dom_classes": [],
            "_model_name": "OutputModel",
            "outputs": [
              {
                "output_type": "display_data",
                "metadata": {
                  "tags": []
                },
                "text/plain": "{'',\n 'a',\n 'aa',\n 'aaa',\n 'aab',\n 'aac',\n 'ab',\n 'aba',\n 'abb',\n 'abc',\n 'ac',\n 'aca',\n 'acb',\n 'acc',\n 'b',\n 'ba',\n 'baa',\n 'bab',\n 'bac',\n 'bb',\n 'bba',\n 'bbb',\n 'bbc',\n 'bc',\n 'bca',\n 'bcb',\n 'bcc',\n 'c',\n 'ca',\n 'caa',\n 'cab',\n 'cac',\n 'cb',\n 'cba',\n 'cbb',\n 'cbc',\n 'cc',\n 'cca',\n 'ccb',\n 'ccc'}"
              }
            ],
            "_view_module": "@jupyter-widgets/output",
            "_model_module_version": "1.0.0",
            "_view_count": null,
            "_view_module_version": "1.0.0",
            "layout": "IPY_MODEL_1997d06c0ff442cdb0b17ae6b495637a",
            "_model_module": "@jupyter-widgets/output"
          }
        },
        "0fc4a2538e964cdd8a873b384bf6c4cc": {
          "model_module": "@jupyter-widgets/controls",
          "model_name": "DescriptionStyleModel",
          "state": {
            "_view_name": "StyleView",
            "_model_name": "DescriptionStyleModel",
            "description_width": "",
            "_view_module": "@jupyter-widgets/base",
            "_model_module_version": "1.5.0",
            "_view_count": null,
            "_view_module_version": "1.2.0",
            "_model_module": "@jupyter-widgets/controls"
          }
        },
        "150cad2e4c5e45fd8854f363e69067e3": {
          "model_module": "@jupyter-widgets/base",
          "model_name": "LayoutModel",
          "state": {
            "_view_name": "LayoutView",
            "grid_template_rows": null,
            "right": null,
            "justify_content": null,
            "_view_module": "@jupyter-widgets/base",
            "overflow": null,
            "_model_module_version": "1.2.0",
            "_view_count": null,
            "flex_flow": null,
            "width": null,
            "min_width": null,
            "border": null,
            "align_items": null,
            "bottom": null,
            "_model_module": "@jupyter-widgets/base",
            "top": null,
            "grid_column": null,
            "overflow_y": null,
            "overflow_x": null,
            "grid_auto_flow": null,
            "grid_area": null,
            "grid_template_columns": null,
            "flex": null,
            "_model_name": "LayoutModel",
            "justify_items": null,
            "grid_row": null,
            "max_height": null,
            "align_content": null,
            "visibility": null,
            "align_self": null,
            "height": null,
            "min_height": null,
            "padding": null,
            "grid_auto_rows": null,
            "grid_gap": null,
            "max_width": null,
            "order": null,
            "_view_module_version": "1.2.0",
            "grid_template_areas": null,
            "object_position": null,
            "object_fit": null,
            "grid_auto_columns": null,
            "margin": null,
            "display": null,
            "left": null
          }
        },
        "cf5d0099b6004ef8ad152a8d25128553": {
          "model_module": "@jupyter-widgets/controls",
          "model_name": "SliderStyleModel",
          "state": {
            "_view_name": "StyleView",
            "handle_color": null,
            "_model_name": "SliderStyleModel",
            "description_width": "",
            "_view_module": "@jupyter-widgets/base",
            "_model_module_version": "1.5.0",
            "_view_count": null,
            "_view_module_version": "1.2.0",
            "_model_module": "@jupyter-widgets/controls"
          }
        },
        "07980c29cc814018824cb2a760be2553": {
          "model_module": "@jupyter-widgets/base",
          "model_name": "LayoutModel",
          "state": {
            "_view_name": "LayoutView",
            "grid_template_rows": null,
            "right": null,
            "justify_content": null,
            "_view_module": "@jupyter-widgets/base",
            "overflow": null,
            "_model_module_version": "1.2.0",
            "_view_count": null,
            "flex_flow": null,
            "width": null,
            "min_width": null,
            "border": null,
            "align_items": null,
            "bottom": null,
            "_model_module": "@jupyter-widgets/base",
            "top": null,
            "grid_column": null,
            "overflow_y": null,
            "overflow_x": null,
            "grid_auto_flow": null,
            "grid_area": null,
            "grid_template_columns": null,
            "flex": null,
            "_model_name": "LayoutModel",
            "justify_items": null,
            "grid_row": null,
            "max_height": null,
            "align_content": null,
            "visibility": null,
            "align_self": null,
            "height": null,
            "min_height": null,
            "padding": null,
            "grid_auto_rows": null,
            "grid_gap": null,
            "max_width": null,
            "order": null,
            "_view_module_version": "1.2.0",
            "grid_template_areas": null,
            "object_position": null,
            "object_fit": null,
            "grid_auto_columns": null,
            "margin": null,
            "display": null,
            "left": null
          }
        },
        "1997d06c0ff442cdb0b17ae6b495637a": {
          "model_module": "@jupyter-widgets/base",
          "model_name": "LayoutModel",
          "state": {
            "_view_name": "LayoutView",
            "grid_template_rows": null,
            "right": null,
            "justify_content": null,
            "_view_module": "@jupyter-widgets/base",
            "overflow": null,
            "_model_module_version": "1.2.0",
            "_view_count": null,
            "flex_flow": null,
            "width": null,
            "min_width": null,
            "border": null,
            "align_items": null,
            "bottom": null,
            "_model_module": "@jupyter-widgets/base",
            "top": null,
            "grid_column": null,
            "overflow_y": null,
            "overflow_x": null,
            "grid_auto_flow": null,
            "grid_area": null,
            "grid_template_columns": null,
            "flex": null,
            "_model_name": "LayoutModel",
            "justify_items": null,
            "grid_row": null,
            "max_height": null,
            "align_content": null,
            "visibility": null,
            "align_self": null,
            "height": null,
            "min_height": null,
            "padding": null,
            "grid_auto_rows": null,
            "grid_gap": null,
            "max_width": null,
            "order": null,
            "_view_module_version": "1.2.0",
            "grid_template_areas": null,
            "object_position": null,
            "object_fit": null,
            "grid_auto_columns": null,
            "margin": null,
            "display": null,
            "left": null
          }
        }
      }
    }
  },
  "cells": [
    {
      "cell_type": "markdown",
      "metadata": {
        "id": "-HUOfim-AnxZ"
      },
      "source": [
        "# Overview of Language from Chapters 2 and 3\n",
        "\n",
        "This gives you a gentle overview of the whole of Jove. We keep essential highlights and often use simple examples.\n",
        "Later notebooks give you a more in-depth understanding of language operations."
      ]
    },
    {
      "cell_type": "markdown",
      "metadata": {
        "id": "PvHrSr9qAnxc"
      },
      "source": [
        "## A good overview of all the definitions in this notebook and the ones later\n",
        "\n",
        "You get a thorough introduction to various language operations."
      ]
    },
    {
      "cell_type": "code",
      "metadata": {
        "id": "Vu8vVRLKAnxd"
      },
      "source": [
        "# Youtube explaining contents\n",
        "from IPython.display import YouTubeVideo\n",
        "YouTubeVideo('TAEYvJn5eGc')"
      ],
      "execution_count": null,
      "outputs": []
    },
    {
      "cell_type": "code",
      "metadata": {
        "id": "l04RJxHcAnxe",
        "colab": {
          "base_uri": "https://localhost:8080/"
        },
        "outputId": "5b4eaa9d-8995-4ced-9fb3-c888e297c42d"
      },
      "source": [
        "#~~~~~~~~~~~~~~~~~~~~~~~~~~~~~~~~~~~~~~~~~~~~~~~~~~~~~~~\n",
        "import sys\n",
        "\n",
        "# -- Detect if in Own Install or in Colab\n",
        "try:\n",
        "    import google.colab\n",
        "    OWN_INSTALL = False\n",
        "except:\n",
        "    OWN_INSTALL = True\n",
        "    \n",
        "if OWN_INSTALL:\n",
        "\n",
        "  sys.path[0:0] = ['../../../../..',  '../../../../../3rdparty',  \n",
        "                   '../../../..',  '../../../../3rdparty',  \n",
        "                   '../../..',     '../../../3rdparty', \n",
        "                   '../..',        '../../3rdparty',\n",
        "                   '..',           '../3rdparty' ]\n",
        "\n",
        "else: # In colab\n",
        "  ! if [ ! -d Jove ]; then git clone https://github.com/ganeshutah/Jove Jove; fi\n",
        "  sys.path.append('./Jove')\n",
        "  sys.path.append('./Jove/jove')\n",
        "\n",
        "# -- common imports --\n",
        "from jove.LangDef   import *\n",
        "#~~~~~~~~~~~~~~~~~~~~~~~~~~~~~~~~~~~~~~~~~~~~~~~~~~~~~~~"
      ],
      "execution_count": 1,
      "outputs": [
        {
          "output_type": "stream",
          "text": [
            "Cloning into 'Jove'...\n",
            "remote: Enumerating objects: 4634, done.\u001b[K\n",
            "remote: Total 4634 (delta 0), reused 0 (delta 0), pack-reused 4634\u001b[K\n",
            "Receiving objects: 100% (4634/4634), 7.38 MiB | 23.31 MiB/s, done.\n",
            "Resolving deltas: 100% (3005/3005), done.\n",
            "You may use any of these help commands:\n",
            "help(lphi)\n",
            "help(lunit)\n",
            "help(lcat)\n",
            "help(lexp)\n",
            "help(lunion)\n",
            "help(lstar)\n",
            "help(srev)\n",
            "help(lrev)\n",
            "help(shomo)\n",
            "help(lhomo)\n",
            "help(powset)\n",
            "help(lint)\n",
            "help(lsymdiff)\n",
            "help(lminus)\n",
            "help(lissubset)\n",
            "help(lissuperset)\n",
            "help(lcomplem)\n",
            "help(product)\n",
            "help(nthnumeric)\n",
            "\n"
          ],
          "name": "stdout"
        }
      ]
    },
    {
      "cell_type": "markdown",
      "metadata": {
        "id": "FUm8HwI_Anxf"
      },
      "source": [
        "### Let us import Language Definitions"
      ]
    },
    {
      "cell_type": "code",
      "metadata": {
        "id": "ueFHUh9_Anxf"
      },
      "source": [
        "from jove.LangDef import *"
      ],
      "execution_count": 2,
      "outputs": []
    },
    {
      "cell_type": "markdown",
      "metadata": {
        "id": "q9dAzsMVAnxf"
      },
      "source": [
        "### Define two test languages"
      ]
    },
    {
      "cell_type": "code",
      "metadata": {
        "id": "uYw7W2WGAnxg"
      },
      "source": [
        "L1 = {'','a','b'}\n",
        "L2 = {'','b','c'}"
      ],
      "execution_count": 3,
      "outputs": []
    },
    {
      "cell_type": "markdown",
      "metadata": {
        "id": "K7loDPQgAnxh"
      },
      "source": [
        "### Now perform the symmetric-difference operation"
      ]
    },
    {
      "cell_type": "code",
      "metadata": {
        "id": "lDSJ2lpkAnxi",
        "colab": {
          "base_uri": "https://localhost:8080/"
        },
        "outputId": "0e63314b-e9ab-4095-80a3-d421ff0c7af9"
      },
      "source": [
        "help(lsymdiff)"
      ],
      "execution_count": 4,
      "outputs": [
        {
          "output_type": "stream",
          "text": [
            "Help on function lsymdiff in module jove.LangDef:\n",
            "\n",
            "lsymdiff(L1, L2)\n",
            "    In : L1 (language : set of strings)\n",
            "         L2 (language : set of strings)\n",
            "    Out: (L1 \\ L2) union (L2 \\ L1) (sets of strings)\n",
            "    Example:\n",
            "    lsymdiff({'ab', 'bc'}, {'11', 'ab', '22'}) -> {'11', '22', 'bc'}\n",
            "\n"
          ],
          "name": "stdout"
        }
      ]
    },
    {
      "cell_type": "code",
      "metadata": {
        "id": "SNQDc0FJAnxj",
        "colab": {
          "base_uri": "https://localhost:8080/"
        },
        "outputId": "04127239-719d-421d-8355-df953d9931fa"
      },
      "source": [
        "lsymdiff(L1,L2)"
      ],
      "execution_count": 5,
      "outputs": [
        {
          "output_type": "execute_result",
          "data": {
            "text/plain": [
              "{'a', 'c'}"
            ]
          },
          "metadata": {
            "tags": []
          },
          "execution_count": 5
        }
      ]
    },
    {
      "cell_type": "markdown",
      "metadata": {
        "id": "w751I9FTAnxk"
      },
      "source": [
        "### Concatenate and see the difference in the # of strings wrt cartesian product"
      ]
    },
    {
      "cell_type": "code",
      "metadata": {
        "id": "403mKw1TAnxl"
      },
      "source": [
        "help(lcat)"
      ],
      "execution_count": null,
      "outputs": []
    },
    {
      "cell_type": "code",
      "metadata": {
        "id": "kESJquktAnxm",
        "colab": {
          "base_uri": "https://localhost:8080/"
        },
        "outputId": "a2dc4f42-7421-4ae0-e483-8684123b91cd"
      },
      "source": [
        "lcat(L1,L2)"
      ],
      "execution_count": 6,
      "outputs": [
        {
          "output_type": "execute_result",
          "data": {
            "text/plain": [
              "{'', 'a', 'ab', 'ac', 'b', 'bb', 'bc', 'c'}"
            ]
          },
          "metadata": {
            "tags": []
          },
          "execution_count": 6
        }
      ]
    },
    {
      "cell_type": "markdown",
      "metadata": {
        "id": "QNyCu147Anxm"
      },
      "source": [
        "### Cartesian product would yield more elements"
      ]
    },
    {
      "cell_type": "code",
      "metadata": {
        "id": "M77IJM2XAnxm",
        "colab": {
          "base_uri": "https://localhost:8080/"
        },
        "outputId": "bdee418b-9e6c-4b83-a8f0-4746bf132a98"
      },
      "source": [
        "help(product)"
      ],
      "execution_count": 7,
      "outputs": [
        {
          "output_type": "stream",
          "text": [
            "Help on function product in module jove.LangDef:\n",
            "\n",
            "product(S1, S2)\n",
            "    In : S1 (set)\n",
            "         S2 (set)\n",
            "    Out: Cartesian product of S1 and S2 (set of pairs)\n",
            "\n"
          ],
          "name": "stdout"
        }
      ]
    },
    {
      "cell_type": "code",
      "metadata": {
        "id": "8Bg83nobAnxm",
        "colab": {
          "base_uri": "https://localhost:8080/"
        },
        "outputId": "4a021fe1-4d33-44cd-bc08-11c386a61db5"
      },
      "source": [
        "product(L1,L2)"
      ],
      "execution_count": 8,
      "outputs": [
        {
          "output_type": "execute_result",
          "data": {
            "text/plain": [
              "{('', ''),\n",
              " ('', 'b'),\n",
              " ('', 'c'),\n",
              " ('a', ''),\n",
              " ('a', 'b'),\n",
              " ('a', 'c'),\n",
              " ('b', ''),\n",
              " ('b', 'b'),\n",
              " ('b', 'c')}"
            ]
          },
          "metadata": {
            "tags": []
          },
          "execution_count": 8
        }
      ]
    },
    {
      "cell_type": "markdown",
      "metadata": {
        "id": "TXaGW_c8Anxn"
      },
      "source": [
        "### Let's perform exponentiation"
      ]
    },
    {
      "cell_type": "code",
      "metadata": {
        "id": "aOJfj4JuAnxn",
        "colab": {
          "base_uri": "https://localhost:8080/"
        },
        "outputId": "025c484c-b11a-4acb-c452-6d1bc55d6d71"
      },
      "source": [
        "help(lexp)"
      ],
      "execution_count": 9,
      "outputs": [
        {
          "output_type": "stream",
          "text": [
            "Help on function lexp in module jove.LangDef:\n",
            "\n",
            "lexp(L, n)\n",
            "    In : L (language : a set),\n",
            "         n (exponent : a nat).\n",
            "    Out: L^n (language : a set).\n",
            "    Example:\n",
            "    L = {'ab', 'bc'}\n",
            "    n = 2\n",
            "    lexp(A,2) -> {'abab', 'bcab', 'bcbc', 'abbc'}\n",
            "\n"
          ],
          "name": "stdout"
        }
      ]
    },
    {
      "cell_type": "code",
      "metadata": {
        "id": "tyt3lqzNAnxn",
        "colab": {
          "base_uri": "https://localhost:8080/"
        },
        "outputId": "bed5a315-b828-425f-dafa-9287862cf614"
      },
      "source": [
        "lexp(L1,3)"
      ],
      "execution_count": 10,
      "outputs": [
        {
          "output_type": "execute_result",
          "data": {
            "text/plain": [
              "{'',\n",
              " 'a',\n",
              " 'aa',\n",
              " 'aaa',\n",
              " 'aab',\n",
              " 'ab',\n",
              " 'aba',\n",
              " 'abb',\n",
              " 'b',\n",
              " 'ba',\n",
              " 'baa',\n",
              " 'bab',\n",
              " 'bb',\n",
              " 'bba',\n",
              " 'bbb'}"
            ]
          },
          "metadata": {
            "tags": []
          },
          "execution_count": 10
        }
      ]
    },
    {
      "cell_type": "markdown",
      "metadata": {
        "id": "kH0mmpPQAnxn"
      },
      "source": [
        "### Star is union of all finite exponentiations; we truncate star in Jove to finite extents."
      ]
    },
    {
      "cell_type": "code",
      "metadata": {
        "id": "A11-6LSjAnxn"
      },
      "source": [
        "help(lstar)"
      ],
      "execution_count": null,
      "outputs": []
    },
    {
      "cell_type": "code",
      "metadata": {
        "id": "FVfHAEPrAnxo",
        "colab": {
          "base_uri": "https://localhost:8080/"
        },
        "outputId": "011a7921-b486-4e3d-9ea6-eaa66b48be35"
      },
      "source": [
        "print(L2)\r\n",
        "print(lstar(L2,2))\r\n"
      ],
      "execution_count": 13,
      "outputs": [
        {
          "output_type": "stream",
          "text": [
            "{'', 'c', 'b'}\n",
            "{'', 'cb', 'cc', 'bb', 'b', 'c', 'bc'}\n"
          ],
          "name": "stdout"
        }
      ]
    },
    {
      "cell_type": "code",
      "metadata": {
        "id": "LSZu9FcDAnxo",
        "colab": {
          "base_uri": "https://localhost:8080/"
        },
        "outputId": "a4958eb6-4757-41ae-e4e3-c9012b3a8cf9"
      },
      "source": [
        "lstar(L1,3)"
      ],
      "execution_count": 14,
      "outputs": [
        {
          "output_type": "execute_result",
          "data": {
            "text/plain": [
              "{'',\n",
              " 'a',\n",
              " 'aa',\n",
              " 'aaa',\n",
              " 'aab',\n",
              " 'ab',\n",
              " 'aba',\n",
              " 'abb',\n",
              " 'b',\n",
              " 'ba',\n",
              " 'baa',\n",
              " 'bab',\n",
              " 'bb',\n",
              " 'bba',\n",
              " 'bbb'}"
            ]
          },
          "metadata": {
            "tags": []
          },
          "execution_count": 14
        }
      ]
    },
    {
      "cell_type": "markdown",
      "metadata": {
        "id": "5NEbsvnnAnxo"
      },
      "source": [
        "### We can generate powersets"
      ]
    },
    {
      "cell_type": "code",
      "metadata": {
        "id": "IUVWhFcmAnxo"
      },
      "source": [
        "help(powset)"
      ],
      "execution_count": null,
      "outputs": []
    },
    {
      "cell_type": "code",
      "metadata": {
        "id": "qffTSdR6Anxo",
        "colab": {
          "base_uri": "https://localhost:8080/"
        },
        "outputId": "63e884e8-54d5-493d-9398-333d0b9cd52d"
      },
      "source": [
        "powset(L2)"
      ],
      "execution_count": 15,
      "outputs": [
        {
          "output_type": "execute_result",
          "data": {
            "text/plain": [
              "[[], ['b'], ['c'], ['c', 'b'], [''], ['', 'b'], ['', 'c'], ['', 'c', 'b']]"
            ]
          },
          "metadata": {
            "tags": []
          },
          "execution_count": 15
        }
      ]
    },
    {
      "cell_type": "markdown",
      "metadata": {
        "id": "YbUC-_BnAnxp"
      },
      "source": [
        "### We can generate sets according to numeric order"
      ]
    },
    {
      "cell_type": "code",
      "metadata": {
        "id": "kEeC_jupAnxp"
      },
      "source": [
        "help(nthnumeric)"
      ],
      "execution_count": null,
      "outputs": []
    },
    {
      "cell_type": "code",
      "metadata": {
        "id": "V6J-qBGcAnxu",
        "colab": {
          "base_uri": "https://localhost:8080/",
          "height": 35
        },
        "outputId": "35ff2e75-c7ba-4dea-aef0-90dda659db41"
      },
      "source": [
        "nthnumeric(8, ['0','1'])"
      ],
      "execution_count": 16,
      "outputs": [
        {
          "output_type": "execute_result",
          "data": {
            "application/vnd.google.colaboratory.intrinsic+json": {
              "type": "string"
            },
            "text/plain": [
              "'001'"
            ]
          },
          "metadata": {
            "tags": []
          },
          "execution_count": 16
        }
      ]
    },
    {
      "cell_type": "markdown",
      "metadata": {
        "id": "abhKKOSLAnxu"
      },
      "source": [
        "### Now, we can generate the first 27 strings according to numeric order from alphabet {0,1}"
      ]
    },
    {
      "cell_type": "code",
      "metadata": {
        "id": "4EoiXKHmAnxv",
        "colab": {
          "base_uri": "https://localhost:8080/"
        },
        "outputId": "6ede66b7-44e1-4921-c14d-6779871d078a"
      },
      "source": [
        "[nthnumeric(i, ['0','1']) for i in range(28)]"
      ],
      "execution_count": 17,
      "outputs": [
        {
          "output_type": "execute_result",
          "data": {
            "text/plain": [
              "['',\n",
              " '0',\n",
              " '1',\n",
              " '00',\n",
              " '01',\n",
              " '10',\n",
              " '11',\n",
              " '000',\n",
              " '001',\n",
              " '010',\n",
              " '011',\n",
              " '100',\n",
              " '101',\n",
              " '110',\n",
              " '111',\n",
              " '0000',\n",
              " '0001',\n",
              " '0010',\n",
              " '0011',\n",
              " '0100',\n",
              " '0101',\n",
              " '0110',\n",
              " '0111',\n",
              " '1000',\n",
              " '1001',\n",
              " '1010',\n",
              " '1011',\n",
              " '1100']"
            ]
          },
          "metadata": {
            "tags": []
          },
          "execution_count": 17
        }
      ]
    },
    {
      "cell_type": "markdown",
      "metadata": {
        "id": "ESq3lnhpAnxv"
      },
      "source": [
        "### We can animate using Jupyter widgets!\n",
        "\n",
        "Below, we've arranged Jupyter widgets to demo \n",
        "language exponentiation and truncated language star"
      ]
    },
    {
      "cell_type": "code",
      "metadata": {
        "id": "38uUsLnFAnxv"
      },
      "source": [
        "import ipywidgets as wdg\n",
        "L1 = {'a','b'}\n",
        "L2 = {'ab','bc'}\n",
        "L3 = {'a','b','c'}\n",
        "M =  {'01', '1'}"
      ],
      "execution_count": 18,
      "outputs": []
    },
    {
      "cell_type": "code",
      "metadata": {
        "id": "v-10D6GwAnxw",
        "colab": {
          "base_uri": "https://localhost:8080/",
          "height": 114,
          "referenced_widgets": [
            "c468400e69b54a22a8c33fe21ec32f18",
            "8a920f17eacd447faf306be0bd5020b8",
            "9390d5327ded4ff39802d019219ebfd0",
            "8c5c34a0c0f74eccb5bef1ea40644405",
            "7793344ce41d4900bf57744955faca53",
            "3668269476734929be31040b757a3ae7",
            "90a6a324d50c4874832e6444071b1a6b",
            "202a0156501c460bbc3e35f0c7f378eb",
            "5b8d8e69e3a24bea9a19597d217fc656",
            "d14d5347e7ef447c9f6ad0de0e30836d"
          ]
        },
        "outputId": "23a40c43-97ff-4cf3-ee7d-c2a299ce67a1"
      },
      "source": [
        "# Animate language exponentiation\n",
        "# You will be able to take exponents of L1, L2, L3, M, \n",
        "# the zero language lphi or the unit language lunit. \n",
        "# The last two will be very illuminating for you!\n",
        "\n",
        "wdg.interact(lexp,\n",
        "L={'L3': L3, 'L1': L1, 'L2':L2, 'M': M, 'lphi': lphi(), 'lunit' : lunit()}, n=(0,7))"
      ],
      "execution_count": 19,
      "outputs": [
        {
          "output_type": "display_data",
          "data": {
            "application/vnd.jupyter.widget-view+json": {
              "model_id": "c468400e69b54a22a8c33fe21ec32f18",
              "version_minor": 0,
              "version_major": 2
            },
            "text/plain": [
              "interactive(children=(Dropdown(description='L', options={'L3': {'a', 'b', 'c'}, 'L1': {'a', 'b'}, 'L2': {'ab',…"
            ]
          },
          "metadata": {
            "tags": []
          }
        },
        {
          "output_type": "execute_result",
          "data": {
            "text/plain": [
              "<function jove.LangDef.lexp>"
            ]
          },
          "metadata": {
            "tags": []
          },
          "execution_count": 19
        }
      ]
    },
    {
      "cell_type": "code",
      "metadata": {
        "id": "OHDJwMC4Anxw",
        "colab": {
          "base_uri": "https://localhost:8080/",
          "height": 770,
          "referenced_widgets": [
            "fe928c3d351f4deaaaba6170ccded1d5",
            "0d2dc7fbc50347b0afceda6691f5b5aa",
            "9a15c41d19844cbf9870879142f536de",
            "324c3550f6684a73b60e5614ee6efc89",
            "6e6e5d5351bf41bda0c853424a67cfd8",
            "0fc4a2538e964cdd8a873b384bf6c4cc",
            "150cad2e4c5e45fd8854f363e69067e3",
            "cf5d0099b6004ef8ad152a8d25128553",
            "07980c29cc814018824cb2a760be2553",
            "1997d06c0ff442cdb0b17ae6b495637a"
          ]
        },
        "outputId": "f5f12d9a-77bb-4c07-9c01-a07f34ac63d1"
      },
      "source": [
        "# Animate language star\n",
        "# You will be able to take truncated stars of L1, L2, L3, M, \n",
        "# the zero language lphi or the unit language lunit. \n",
        "# The last two will be very illuminating for you!\n",
        "\n",
        "wdg.interact(lstar,\n",
        "L={'L3': L3, 'L1': L1, 'L2':L2, 'M': M, 'lphi': lphi(), 'lunit' : lunit()}, n=(0,7))"
      ],
      "execution_count": 20,
      "outputs": [
        {
          "output_type": "display_data",
          "data": {
            "application/vnd.jupyter.widget-view+json": {
              "model_id": "fe928c3d351f4deaaaba6170ccded1d5",
              "version_minor": 0,
              "version_major": 2
            },
            "text/plain": [
              "interactive(children=(Dropdown(description='L', options={'L3': {'a', 'b', 'c'}, 'L1': {'a', 'b'}, 'L2': {'ab',…"
            ]
          },
          "metadata": {
            "tags": []
          }
        },
        {
          "output_type": "execute_result",
          "data": {
            "text/plain": [
              "<function jove.LangDef.lstar>"
            ]
          },
          "metadata": {
            "tags": []
          },
          "execution_count": 20
        }
      ]
    },
    {
      "cell_type": "markdown",
      "metadata": {
        "id": "RB5D2Ny-Anxx"
      },
      "source": [
        "# Now, work through 02_2_Language_Details and read again Chapters 2 and 3!"
      ]
    },
    {
      "cell_type": "markdown",
      "metadata": {
        "id": "YFzHgX1cjtyo"
      },
      "source": [
        "I have explored this notebook\r\n",
        "\r\n",
        "-Hunter Livesay"
      ]
    }
  ]
}