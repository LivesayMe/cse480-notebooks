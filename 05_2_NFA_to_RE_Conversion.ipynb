{
  "nbformat": 4,
  "nbformat_minor": 0,
  "metadata": {
    "colab": {
      "name": "05_2_NFA_to_RE_Conversion.ipynb",
      "provenance": []
    },
    "kernelspec": {
      "display_name": "Python 3",
      "language": "python",
      "name": "python3"
    },
    "language_info": {
      "codemirror_mode": {
        "name": "ipython",
        "version": 3
      },
      "file_extension": ".py",
      "mimetype": "text/x-python",
      "name": "python",
      "nbconvert_exporter": "python",
      "pygments_lexer": "ipython3",
      "version": "3.9.0"
    },
    "toc": {
      "colors": {
        "hover_highlight": "#DAA520",
        "running_highlight": "#FF0000",
        "selected_highlight": "#FFD700"
      },
      "moveMenuLeft": true,
      "nav_menu": {
        "height": "121px",
        "width": "252px"
      },
      "navigate_menu": true,
      "number_sections": true,
      "sideBar": true,
      "threshold": 4,
      "toc_cell": false,
      "toc_section_display": "block",
      "toc_window_display": false,
      "widenNotebook": false
    }
  },
  "cells": [
    {
      "cell_type": "markdown",
      "metadata": {
        "id": "1an9nmMw1Fac",
        "run_control": {
          "frozen": false,
          "read_only": false
        }
      },
      "source": [
        "# Imports, then Presentation\n"
      ]
    },
    {
      "cell_type": "code",
      "metadata": {
        "id": "y863_jSu1Fad",
        "run_control": {
          "frozen": false,
          "read_only": false
        },
        "scrolled": true,
        "outputId": "ed199ca2-54c8-4d0a-93b8-e184198b0bdf",
        "colab": {
          "base_uri": "https://localhost:8080/"
        }
      },
      "source": [
        "#~~~~~~~~~~~~~~~~~~~~~~~~~~~~~~~~~~~~~~~~~~~~~~~~~~~~~~~\n",
        "import sys\n",
        "\n",
        "# -- Detect if in Own Install or in Colab\n",
        "try:\n",
        "    import google.colab\n",
        "    OWN_INSTALL = False\n",
        "except:\n",
        "    OWN_INSTALL = True\n",
        "    \n",
        "if OWN_INSTALL:\n",
        "  \n",
        "  sys.path[0:0] = ['../../../../..',  '../../../../../3rdparty',  \n",
        "                   '../../../..',  '../../../../3rdparty',  \n",
        "                   '../../..',     '../../../3rdparty', \n",
        "                   '../..',        '../../3rdparty',\n",
        "                   '..',           '../3rdparty',\n",
        "                   '../Jove',      '../Jove/jove']\n",
        "\n",
        "else: # In colab\n",
        "  ! if [ ! -d Jove ]; then git clone https://github.com/ganeshutah/Jove Jove; fi\n",
        "  sys.path.append('./Jove')\n",
        "  sys.path.append('./Jove/jove')\n",
        "\n",
        "# -- common imports --\n",
        "from jove.DotBashers import *\n",
        "from jove.Def_md2mc  import *\n",
        "from jove.Def_NFA    import *\n",
        "from jove.Def_DFA    import *\n",
        "from jove.Def_NFA2RE import *\n",
        "from jove.Def_RE2NFA import *\n",
        "from jove.AnimateNFA import *\n",
        "#~~~~~~~~~~~~~~~~~~~~~~~~~~~~~~~~~~~~~~~~~~~~~~~~~~~~~~~"
      ],
      "execution_count": 1,
      "outputs": [
        {
          "output_type": "stream",
          "text": [
            "Cloning into 'Jove'...\n",
            "remote: Enumerating objects: 4634, done.\u001b[K\n",
            "remote: Total 4634 (delta 0), reused 0 (delta 0), pack-reused 4634\u001b[K\n",
            "Receiving objects: 100% (4634/4634), 7.38 MiB | 5.18 MiB/s, done.\n",
            "Resolving deltas: 100% (3005/3005), done.\n",
            "You may use any of these help commands:\n",
            "help(ResetStNum)\n",
            "help(NxtStateStr)\n",
            "\n",
            "You may use any of these help commands:\n",
            "help(md2mc)\n",
            ".. and if you want to dig more, then ..\n",
            "help(default_line_attr)\n",
            "help(length_ok_input_items)\n",
            "help(union_line_attr_list_fld)\n",
            "help(extend_rsltdict)\n",
            "help(form_delta)\n",
            "help(get_machine_components)\n",
            "\n",
            "You may use any of these help commands:\n",
            "help(mkp_dfa)\n",
            "help(mk_dfa)\n",
            "help(totalize_dfa)\n",
            "help(addtosigma_delta)\n",
            "help(step_dfa)\n",
            "help(run_dfa)\n",
            "help(accepts_dfa)\n",
            "help(comp_dfa)\n",
            "help(union_dfa)\n",
            "help(intersect_dfa)\n",
            "help(pruneUnreach)\n",
            "help(iso_dfa)\n",
            "help(langeq_dfa)\n",
            "help(same_status)\n",
            "help(h_langeq_dfa)\n",
            "help(fixptDist)\n",
            "help(min_dfa)\n",
            "help(pairFR)\n",
            "help(state_combos)\n",
            "help(sepFinNonFin)\n",
            "help(bash_eql_classes)\n",
            "help(listminus)\n",
            "help(bash_1)\n",
            "help(mk_rep_eqc)\n",
            "help(F_of)\n",
            "help(rep_of_s)\n",
            "help(q0_of)\n",
            "help(Delta_of)\n",
            "help(mk_state_eqc_name)\n",
            "\n",
            "You may use any of these help commands:\n",
            "help(mk_nfa)\n",
            "help(totalize_nfa)\n",
            "help(step_nfa)\n",
            "help(run_nfa)\n",
            "help(ec_step_nfa)\n",
            "help(Eclosure)\n",
            "help(Echelp)\n",
            "help(accepts_nfa)\n",
            "help(nfa2dfa)\n",
            "help(n2d)\n",
            "help(inSets)\n",
            "help(rev_dfa)\n",
            "help(min_dfa_brz)\n",
            "\n",
            "You may use any of these help commands:\n",
            "help(RE2Str)\n",
            "help(mk_gnfa)\n",
            "help(mk_gnfa_from_D)\n",
            "help(dfa2nfa)\n",
            "help(del_gnfa_states)\n",
            "help(gnfa_w_REStr)\n",
            "help(del_one_gnfa_state)\n",
            "help(Edges_Exist_Via)\n",
            "help(choose_state_to_del)\n",
            "help(form_alt_RE)\n",
            "help(form_concat_RE)\n",
            "help(form_kleene_RE)\n",
            "\n",
            "You may use any of these help commands:\n",
            "help(re2nfa)\n",
            "\n",
            " \"help(AnimateNFA)\" gives you info on how to use animations with NFA \n"
          ],
          "name": "stdout"
        }
      ]
    },
    {
      "cell_type": "markdown",
      "metadata": {
        "id": "BzOCjuwm1Fae"
      },
      "source": [
        "# Operations on FA\n",
        "## The Convenience of having Epsilon Transitions\n",
        "The \"just because I feel like it\" transition!\n",
        "## Complementation\n",
        "Swapping final and non-final states does the trick.\n",
        "## Concatenation\n",
        "Juxtapose and add ε-transitions.\n",
        "## Union\n",
        "Add ε-transitions from a new initial state to old initial states.\n",
        "## Use All Three Operations\n",
        "You should be able to build (by hand) an NFA from the Regular Expression $(01 \\cup 0)^*$.\n",
        "## Intersection\n",
        "This is akin to the composition of graphs.\n"
      ]
    },
    {
      "cell_type": "markdown",
      "metadata": {
        "id": "VvJn_XcB0AQO"
      },
      "source": [
        "## Converting Finite Automata to Regular Expressions\n",
        "The conversion of a Finite Automaton to a Regular Expression is nicely automated with the Jove tools, but it is also instructive to further study the manual process.\n",
        "\n",
        "Here is a different than Ganesh's but equivalent take on this process.\n",
        "\n",
        "The manual conversion begins by creating from the given Deterministic or Nondeterministic Finite Automaton a **Generalized** Nondeterministic Finite Automaton (GNFA) --- defined as an NFA that allows regular expressions to label its transitions, not just alphabet symbols.\n",
        "The process of converting a Finite Automaton to a GNFA begins by adding a new start state and a new accept state, with ε-transitions from the new start state to the old start state, and from the old accept states to the new accept state. At each stage of the conversion, a state is chosen to delete, hence decreasing the number of states by one. At some point, the number of states will be two --- and those will be the two new states that were added. The label between these two states will be the regular expression that is equivalent to the original NFA.\n"
      ]
    },
    {
      "cell_type": "markdown",
      "metadata": {
        "id": "ChoCbjKE0AQQ"
      },
      "source": [
        "With $G$ being a GNFA, here is a recursive procedure to convert $G$ to a Regular Expression.\n",
        "\n",
        "CONVERT($G$):\n",
        "1. Let $k$ be the number of states of $G$.\n",
        "2. If $k = 2$, then $G$ must consist of a start state, an accept state, and a single arrow connnecting them labeled with a regular expression $R$. Return the expression $R$.\n",
        "3. If $k > 2$, select any state $S_{del} \\in Q$ different from $S_{start}$ and $S_{accept}$ and let $G^{\\prime}$ be the GNFA\n",
        "\n",
        "$(Q^{\\prime}, \\Sigma, \\delta^{\\prime}, S_{start}, S_{accept})$, where\n",
        "\n",
        "$Q^{\\prime} = Q - \\{S_{del}\\}$ and for any $S_i \\in Q^{\\prime} - \\{S_{accept}\\}$ and any $S_j \\in Q^{\\prime} - \\{S_{start}\\}$ let\n",
        "\n",
        "$\\delta^{\\prime}(S_i, S_j) = (R_1)(R_2)^*(R_3) \\cup (R_4)$\n",
        "\n",
        "for $R_1 = \\delta(S_i, S_{del}), R_2 = \\delta(S_{del}, S_{del}), R_3 = \\delta(S_{del}, S_j)$, and $R_4 = \\delta(S_i, S_j)$.\n",
        "\n",
        "4. Compute CONVERT($G^{\\prime}$) and return this value."
      ]
    },
    {
      "cell_type": "markdown",
      "metadata": {
        "id": "30qhJkFE0AQR"
      },
      "source": [
        "### Simple Example\n",
        "Refer to these two figures:\n",
        "\n",
        "Before deleting state:\n",
        "![before-deleting-state.png](attachment:before-deleting-state.png)"
      ]
    },
    {
      "cell_type": "markdown",
      "metadata": {
        "id": "8K-HNIgr0AQS"
      },
      "source": [
        "After deleting state:\n",
        "![after-deleting-state.png](attachment:after-deleting-state.png)"
      ]
    },
    {
      "cell_type": "markdown",
      "metadata": {
        "id": "0J2nJGzv0AQS"
      },
      "source": [
        "Here is the markdown for the example NFA (or is it a DFA?):"
      ]
    },
    {
      "cell_type": "code",
      "metadata": {
        "id": "WpTZHEdN0AQS",
        "outputId": "7f7462ed-260c-4ce4-8c2e-082dbd128ecb",
        "colab": {
          "base_uri": "https://localhost:8080/"
        }
      },
      "source": [
        "fa1 = md2mc('''\n",
        "       NFA\n",
        "       I : a -> I\n",
        "       I : b -> F\n",
        "       F : a -> F\n",
        "       F : b -> I\n",
        "''')"
      ],
      "execution_count": 2,
      "outputs": [
        {
          "output_type": "stream",
          "text": [
            "Generating LALR tables\n"
          ],
          "name": "stderr"
        }
      ]
    },
    {
      "cell_type": "code",
      "metadata": {
        "id": "8UbDrNhh1Faj",
        "outputId": "dcb4e250-dfa8-4ec3-d12c-6ae620e37cfb",
        "colab": {
          "base_uri": "https://localhost:8080/",
          "height": 134
        }
      },
      "source": [
        "dotObj_nfa(fa1)"
      ],
      "execution_count": 3,
      "outputs": [
        {
          "output_type": "execute_result",
          "data": {
            "text/plain": [
              "<graphviz.dot.Digraph at 0x7faed0eadbe0>"
            ],
            "image/svg+xml": "<?xml version=\"1.0\" encoding=\"UTF-8\" standalone=\"no\"?>\n<!DOCTYPE svg PUBLIC \"-//W3C//DTD SVG 1.1//EN\"\n \"http://www.w3.org/Graphics/SVG/1.1/DTD/svg11.dtd\">\n<!-- Generated by graphviz version 2.40.1 (20161225.0304)\n -->\n<!-- Title: %3 Pages: 1 -->\n<svg width=\"227pt\" height=\"85pt\"\n viewBox=\"0.00 0.00 227.00 85.00\" xmlns=\"http://www.w3.org/2000/svg\" xmlns:xlink=\"http://www.w3.org/1999/xlink\">\n<g id=\"graph0\" class=\"graph\" transform=\"scale(1 1) rotate(0) translate(4 81)\">\n<title>%3</title>\n<polygon fill=\"#ffffff\" stroke=\"transparent\" points=\"-4,4 -4,-81 223,-81 223,4 -4,4\"/>\n<!-- EMPTY -->\n<g id=\"node1\" class=\"node\">\n<title>EMPTY</title>\n</g>\n<!-- I -->\n<g id=\"node2\" class=\"node\">\n<title>I</title>\n<ellipse fill=\"none\" stroke=\"#000000\" cx=\"109\" cy=\"-22\" rx=\"18\" ry=\"18\"/>\n<text text-anchor=\"middle\" x=\"109\" y=\"-18.3\" font-family=\"Times,serif\" font-size=\"14.00\" fill=\"#000000\">I</text>\n</g>\n<!-- EMPTY&#45;&gt;I -->\n<g id=\"edge1\" class=\"edge\">\n<title>EMPTY&#45;&gt;I</title>\n<path fill=\"none\" stroke=\"#000000\" d=\"M54.3048,-22C62.6909,-22 71.9407,-22 80.4103,-22\"/>\n<polygon fill=\"#000000\" stroke=\"#000000\" points=\"80.5976,-25.5001 90.5976,-22 80.5976,-18.5001 80.5976,-25.5001\"/>\n</g>\n<!-- I&#45;&gt;I -->\n<g id=\"edge2\" class=\"edge\">\n<title>I&#45;&gt;I</title>\n<path fill=\"none\" stroke=\"#000000\" d=\"M102.6208,-39.0373C101.3189,-48.8579 103.4453,-58 109,-58 112.4717,-58 114.6042,-54.4289 115.3975,-49.3529\"/>\n<polygon fill=\"#000000\" stroke=\"#000000\" points=\"118.8971,-49.031 115.3792,-39.0373 111.8971,-49.0435 118.8971,-49.031\"/>\n<text text-anchor=\"middle\" x=\"109\" y=\"-61.8\" font-family=\"Times,serif\" font-size=\"14.00\" fill=\"#000000\">a </text>\n</g>\n<!-- F -->\n<g id=\"node3\" class=\"node\">\n<title>F</title>\n<ellipse fill=\"none\" stroke=\"#000000\" cx=\"197\" cy=\"-22\" rx=\"18\" ry=\"18\"/>\n<ellipse fill=\"none\" stroke=\"#000000\" cx=\"197\" cy=\"-22\" rx=\"22\" ry=\"22\"/>\n<text text-anchor=\"middle\" x=\"197\" y=\"-18.3\" font-family=\"Times,serif\" font-size=\"14.00\" fill=\"#000000\">F</text>\n</g>\n<!-- I&#45;&gt;F -->\n<g id=\"edge3\" class=\"edge\">\n<title>I&#45;&gt;F</title>\n<path fill=\"none\" stroke=\"#000000\" d=\"M127.2337,-22C138.0103,-22 151.9708,-22 164.5692,-22\"/>\n<polygon fill=\"#000000\" stroke=\"#000000\" points=\"164.7317,-25.5001 174.7317,-22 164.7317,-18.5001 164.7317,-25.5001\"/>\n<text text-anchor=\"middle\" x=\"151\" y=\"-25.8\" font-family=\"Times,serif\" font-size=\"14.00\" fill=\"#000000\">b </text>\n</g>\n<!-- F&#45;&gt;I -->\n<g id=\"edge5\" class=\"edge\">\n<title>F&#45;&gt;I</title>\n<path fill=\"none\" stroke=\"#000000\" d=\"M178.5288,-9.5151C168.7254,-4.3636 156.3821,-.1807 145,-3 141.0235,-3.985 137.0019,-5.4981 133.1597,-7.2497\"/>\n<polygon fill=\"#000000\" stroke=\"#000000\" points=\"131.3818,-4.2287 124.1057,-11.93 134.5962,-10.447 131.3818,-4.2287\"/>\n<text text-anchor=\"middle\" x=\"151\" y=\"-6.8\" font-family=\"Times,serif\" font-size=\"14.00\" fill=\"#000000\">b </text>\n</g>\n<!-- F&#45;&gt;F -->\n<g id=\"edge4\" class=\"edge\">\n<title>F&#45;&gt;F</title>\n<path fill=\"none\" stroke=\"#000000\" d=\"M188.6298,-42.5808C187.4716,-52.8447 190.2617,-62 197,-62 201.3167,-62 204.0131,-58.2427 205.0891,-52.8436\"/>\n<polygon fill=\"#000000\" stroke=\"#000000\" points=\"208.595,-52.6729 205.3702,-42.5808 201.5976,-52.4812 208.595,-52.6729\"/>\n<text text-anchor=\"middle\" x=\"197\" y=\"-65.8\" font-family=\"Times,serif\" font-size=\"14.00\" fill=\"#000000\">a </text>\n</g>\n</g>\n</svg>\n"
          },
          "metadata": {
            "tags": []
          },
          "execution_count": 3
        }
      ]
    },
    {
      "cell_type": "markdown",
      "metadata": {
        "id": "lNvtz_C51Faj"
      },
      "source": [
        "After the conversion from an NFA to a GNFA has started by first adding a new start state and a new accept state, the CONVERT procedure can produce several solutions depending on the order the original states are deleted.\n",
        "\n",
        "For simplicity, just remove them in order (1, 2, 3, etc., where state I is relabeled '1', and state F is relabeled '2'):\n",
        "\n",
        "$0 \\rightarrow 1 (I) \\rightarrow 2 (F) \\rightarrow 3$\n",
        "\n",
        "If you call 0 the new start state and 3 the new accept state, then transitions from 0 to 1 and 2 to 3 are labeled with $\\epsilon$ (the empty string). Now if you squint your eyes and look at states 0, 1 and 2 as if they were states $S_i$, $S_{del}$ and $S_j$ respectively, as in the above figures, then step 3 of the CONVERT procedure goes like this:\n",
        "\n",
        "$$R_1 = \\epsilon, R_2 = a, R_3 = b, R_4 = \\emptyset.$$\n",
        "\n",
        "So with those substitutions, a new label from state 0 to state 2 is $a^{*}b$, which is just\n",
        "\n",
        "$$(R_1)(R_2)^{*}(R_3)\\ {\\cup}\\ (R_4).$$\n",
        "\n",
        "But wait --- we can't totally remove state 1 yet, as it still has transitions going to it!\n",
        "\n",
        "So if you repeat this procedure with state 2 being **both** state $S_i$ **and** state $S_j$, and state 1 being $S_{del}$, then you get $(ba^{*}b\\ {\\cup}\\ a)$ as the regular expression labeling the transition from state 2 to itself.\n",
        "\n",
        "(Here $R_1 = b, R_2 = a, R_3 = b, R_4 = a$.)\n",
        "\n",
        "Finally, using state 0 as $S_i$ and state 3 as $S_j$, and state 2 as $S_{del}$, then you get $a^{*}b(ba^{*}b\\ {\\cup}\\ a)^{*}$ as the single regular expression that results when the procedure ends.\n",
        "\n",
        "(Here $R_1 = a^{*}b, R_2 = ba^{*}b\\ {\\cup}\\ a, R_3 = \\epsilon, R_4 = \\emptyset$.)\n",
        "\n",
        "So, $a^{*}b(ba^{*}b\\ {\\cup}\\ a)^{*}$ is the answer."
      ]
    },
    {
      "cell_type": "markdown",
      "metadata": {
        "id": "nG4o6z3U0AQU"
      },
      "source": [
        "## A more \"systematized\" version\n",
        "First, show existing transitions as $xy = RE$ using juxtaposed digits $x$ and $y$ to represent the **from** state and the **to** state, and $RE$ the regular expression labeling the transition between them:\n",
        "\n",
        "|     |   |   |\n",
        "|-----|---|---|\n",
        "| 11  | = | a |\n",
        "| 12  | = | b |\n",
        "| 21  | = | b |\n",
        "| 22  | = | a |\n",
        "\n",
        "   Next, add initial state 0 and new final state 3:\n",
        "   \n",
        "\n",
        "|    |   |   |\n",
        "|----|---|---|\n",
        "| 01 | = | $\\epsilon$  |\n",
        "| 02 | = | $\\emptyset$ |\n",
        "| 03 | = | $\\emptyset$ |\n",
        "| 23 | = | $\\epsilon$  |\n"
      ]
    },
    {
      "cell_type": "markdown",
      "metadata": {
        "id": "3Ij-Aw0K0AQU"
      },
      "source": [
        "Recall that $\\epsilon$, representing the empty string, is not the same as $\\emptyset$, the empty set. Note that $02$ and $03$ are **empty** (as in empty set, not empty string) transitions. Any transitions not listed (e.g., $13$) are assumed empty, and would be included and labeled as such if we were being meticulous!\n",
        "\n",
        "Next, remove state 1 and relabel transitions between all the remaining states (0, 2 and 3):\n",
        "\n",
        "|    |   |   |\n",
        "|----|---|---|\n",
        "| 02 | = | $(01)(11)^{*}(12) \\cup 02$ | = | $(\\epsilon)(a)*(b) \\cup \\emptyset$ | = | $a^{*}b$ |\n",
        "| 22 | = | $(21)(11)^{*}(12) \\cup 22$ | = | $ba^{*}b \\cup a$       |   |     |\n",
        "| 23 | = | $(21)(11)^{*}(13) \\cup 23$ | = | $ba^{*}\\emptyset \\cup \\epsilon$       | = | $\\epsilon$   |\n",
        "| 32 | = | $(31)(11)^{*}(12) \\cup 32$ | = | $\\emptyset a^{*}b \\cup \\emptyset$      | = | $\\emptyset$   |\n",
        "| 33 | = | $(31)(11)^{*}(13) \\cup 33$ | = | $\\emptyset a^{*}a \\cup \\emptyset$      | = | $\\emptyset$   |\n",
        "\n",
        "Finally, remove state 2 and relabel the transition between the remaining states (0 and 3):\n",
        "\n",
        "|    |   |   |\n",
        "|----|---|---|\n",
        "| 03 | = | $(02)(22)^{*}(23) \\cup 03$ | = | $a^{*}b(ba^{*}b \\cup a)^{*}\\epsilon \\cup \\emptyset$ | = | $a^{*}b(ba^{*}b \\cup a)^{*}$ |\n"
      ]
    },
    {
      "cell_type": "markdown",
      "metadata": {
        "id": "kVxlwVLs0AQW"
      },
      "source": [
        "## You Do This Harder Example\n",
        "This one has one more state than the previous one:"
      ]
    },
    {
      "cell_type": "code",
      "metadata": {
        "id": "cp4-Rwuv0AQW"
      },
      "source": [
        " dfa = '''\n",
        "    DFA\n",
        "    IF1 : a|b -> S2\n",
        "    S2  : a   -> S2\n",
        "    S2  : b   -> F3\n",
        "    F3  : a   -> IF1\n",
        "    F3  : b   -> S2\n",
        "  '''"
      ],
      "execution_count": 4,
      "outputs": []
    },
    {
      "cell_type": "code",
      "metadata": {
        "id": "iTvfhlwB0AQX",
        "outputId": "db4d00f8-d14e-47d2-aeca-e3a33ab24c4e",
        "colab": {
          "base_uri": "https://localhost:8080/",
          "height": 180
        }
      },
      "source": [
        "dotObj_dfa(md2mc(dfa))"
      ],
      "execution_count": 5,
      "outputs": [
        {
          "output_type": "execute_result",
          "data": {
            "text/plain": [
              "<graphviz.dot.Digraph at 0x7faed0ee29e8>"
            ],
            "image/svg+xml": "<?xml version=\"1.0\" encoding=\"UTF-8\" standalone=\"no\"?>\n<!DOCTYPE svg PUBLIC \"-//W3C//DTD SVG 1.1//EN\"\n \"http://www.w3.org/Graphics/SVG/1.1/DTD/svg11.dtd\">\n<!-- Generated by graphviz version 2.40.1 (20161225.0304)\n -->\n<!-- Title: %3 Pages: 1 -->\n<svg width=\"342pt\" height=\"119pt\"\n viewBox=\"0.00 0.00 342.29 118.85\" xmlns=\"http://www.w3.org/2000/svg\" xmlns:xlink=\"http://www.w3.org/1999/xlink\">\n<g id=\"graph0\" class=\"graph\" transform=\"scale(1 1) rotate(0) translate(4 114.846)\">\n<title>%3</title>\n<polygon fill=\"#ffffff\" stroke=\"transparent\" points=\"-4,4 -4,-114.846 338.2884,-114.846 338.2884,4 -4,4\"/>\n<!-- EMPTY -->\n<g id=\"node1\" class=\"node\">\n<title>EMPTY</title>\n</g>\n<!-- IF1 -->\n<g id=\"node3\" class=\"node\">\n<title>IF1</title>\n<ellipse fill=\"none\" stroke=\"#000000\" cx=\"119.0479\" cy=\"-28.0479\" rx=\"24.089\" ry=\"24.089\"/>\n<ellipse fill=\"none\" stroke=\"#000000\" cx=\"119.0479\" cy=\"-28.0479\" rx=\"28.0958\" ry=\"28.0958\"/>\n<text text-anchor=\"middle\" x=\"119.0479\" y=\"-24.3479\" font-family=\"Times,serif\" font-size=\"14.00\" fill=\"#000000\">IF1</text>\n</g>\n<!-- EMPTY&#45;&gt;IF1 -->\n<g id=\"edge1\" class=\"edge\">\n<title>EMPTY&#45;&gt;IF1</title>\n<path fill=\"none\" stroke=\"#000000\" d=\"M54.1195,-28.0479C62.4288,-28.0479 71.7332,-28.0479 80.6453,-28.0479\"/>\n<polygon fill=\"#000000\" stroke=\"#000000\" points=\"80.8442,-31.548 90.8441,-28.0479 80.8441,-24.548 80.8442,-31.548\"/>\n</g>\n<!-- S2 -->\n<g id=\"node2\" class=\"node\">\n<title>S2</title>\n<ellipse fill=\"none\" stroke=\"#000000\" cx=\"215.8939\" cy=\"-57.0479\" rx=\"20.5982\" ry=\"20.5982\"/>\n<text text-anchor=\"middle\" x=\"215.8939\" y=\"-53.3479\" font-family=\"Times,serif\" font-size=\"14.00\" fill=\"#000000\">S2</text>\n</g>\n<!-- S2&#45;&gt;S2 -->\n<g id=\"edge4\" class=\"edge\">\n<title>S2&#45;&gt;S2</title>\n<path fill=\"none\" stroke=\"#000000\" d=\"M207.9339,-76.6115C206.7093,-86.7274 209.3626,-95.846 215.8939,-95.846 220.078,-95.846 222.6705,-92.1038 223.6716,-86.7544\"/>\n<polygon fill=\"#000000\" stroke=\"#000000\" points=\"227.1736,-86.6728 223.8538,-76.6115 220.1747,-86.547 227.1736,-86.6728\"/>\n<text text-anchor=\"middle\" x=\"215.8939\" y=\"-99.646\" font-family=\"Times,serif\" font-size=\"14.00\" fill=\"#000000\">a </text>\n</g>\n<!-- F3 -->\n<g id=\"node4\" class=\"node\">\n<title>F3</title>\n<ellipse fill=\"none\" stroke=\"#000000\" cx=\"309.4902\" cy=\"-28.0479\" rx=\"20.6302\" ry=\"20.6302\"/>\n<ellipse fill=\"none\" stroke=\"#000000\" cx=\"309.4902\" cy=\"-28.0479\" rx=\"24.5979\" ry=\"24.5979\"/>\n<text text-anchor=\"middle\" x=\"309.4902\" y=\"-24.3479\" font-family=\"Times,serif\" font-size=\"14.00\" fill=\"#000000\">F3</text>\n</g>\n<!-- S2&#45;&gt;F3 -->\n<g id=\"edge5\" class=\"edge\">\n<title>S2&#45;&gt;F3</title>\n<path fill=\"none\" stroke=\"#000000\" d=\"M236.304,-52.3545C245.6341,-50.0737 256.7906,-47.1558 266.692,-44.0479 269.8708,-43.0501 273.1585,-41.9491 276.4338,-40.8055\"/>\n<polygon fill=\"#000000\" stroke=\"#000000\" points=\"277.8886,-44.0013 286.1014,-37.3079 275.5071,-37.4188 277.8886,-44.0013\"/>\n<text text-anchor=\"middle\" x=\"260.692\" y=\"-50.8479\" font-family=\"Times,serif\" font-size=\"14.00\" fill=\"#000000\">b </text>\n</g>\n<!-- IF1&#45;&gt;S2 -->\n<g id=\"edge2\" class=\"edge\">\n<title>IF1&#45;&gt;S2</title>\n<path fill=\"none\" stroke=\"#000000\" d=\"M145.7084,-37.7364C152.0308,-39.9157 158.7747,-42.1445 165.0957,-44.0479 171.6169,-46.0115 178.665,-47.9376 185.3749,-49.6805\"/>\n<polygon fill=\"#000000\" stroke=\"#000000\" points=\"184.9635,-53.1867 195.5167,-52.2476 186.6812,-46.4007 184.9635,-53.1867\"/>\n<text text-anchor=\"middle\" x=\"171.0957\" y=\"-50.8479\" font-family=\"Times,serif\" font-size=\"14.00\" fill=\"#000000\">a </text>\n</g>\n<!-- IF1&#45;&gt;S2 -->\n<g id=\"edge3\" class=\"edge\">\n<title>IF1&#45;&gt;S2</title>\n<path fill=\"none\" stroke=\"#000000\" d=\"M146.5698,-22.2912C156.4448,-21.3427 167.5036,-21.6025 177.0957,-25.0479 183.2433,-27.256 189.1112,-30.9064 194.3379,-34.9675\"/>\n<polygon fill=\"#000000\" stroke=\"#000000\" points=\"192.1095,-37.6674 201.9715,-41.5391 196.6764,-32.3624 192.1095,-37.6674\"/>\n<text text-anchor=\"middle\" x=\"171.0957\" y=\"-28.8479\" font-family=\"Times,serif\" font-size=\"14.00\" fill=\"#000000\">b </text>\n</g>\n<!-- F3&#45;&gt;S2 -->\n<g id=\"edge7\" class=\"edge\">\n<title>F3&#45;&gt;S2</title>\n<path fill=\"none\" stroke=\"#000000\" d=\"M285.1597,-22.6797C275.4339,-21.5603 264.2867,-21.6016 254.692,-25.0479 248.5445,-27.256 242.6766,-30.9064 237.4499,-34.9675\"/>\n<polygon fill=\"#000000\" stroke=\"#000000\" points=\"235.1113,-32.3624 229.8162,-41.5391 239.6783,-37.6674 235.1113,-32.3624\"/>\n<text text-anchor=\"middle\" x=\"260.692\" y=\"-28.8479\" font-family=\"Times,serif\" font-size=\"14.00\" fill=\"#000000\">b </text>\n</g>\n<!-- F3&#45;&gt;IF1 -->\n<g id=\"edge6\" class=\"edge\">\n<title>F3&#45;&gt;IF1</title>\n<path fill=\"none\" stroke=\"#000000\" d=\"M285.0776,-22.2009C279.0744,-20.8026 272.6578,-19.3411 266.692,-18.0479 235.4847,-11.2831 226.8725,-8.9014 195.0957,-12.0479 181.5645,-13.3877 178.4067,-15.2716 165.0957,-18.0479 162.4104,-18.6079 159.6385,-19.1929 156.8489,-19.7865\"/>\n<polygon fill=\"#000000\" stroke=\"#000000\" points=\"155.8339,-16.4246 146.7913,-21.9457 157.3032,-23.2686 155.8339,-16.4246\"/>\n<text text-anchor=\"middle\" x=\"215.8939\" y=\"-15.8479\" font-family=\"Times,serif\" font-size=\"14.00\" fill=\"#000000\">a </text>\n</g>\n</g>\n</svg>\n"
          },
          "metadata": {
            "tags": []
          },
          "execution_count": 5
        }
      ]
    },
    {
      "cell_type": "code",
      "metadata": {
        "id": "EALIlpmp16b5",
        "outputId": "62a2ef00-e276-4783-f431-6320511a9d6a",
        "colab": {
          "base_uri": "https://localhost:8080/",
          "height": 201
        }
      },
      "source": [
        "dotObj_dfa(min_dfa(nfa2dfa(re2nfa(\"'' + ((a + b)a*b((b + a(a + b))a*b)*('' + a))\"))))"
      ],
      "execution_count": 14,
      "outputs": [
        {
          "output_type": "stream",
          "text": [
            "Generating LALR tables\n"
          ],
          "name": "stderr"
        },
        {
          "output_type": "execute_result",
          "data": {
            "text/plain": [
              "<graphviz.dot.Digraph at 0x7faed0e24c88>"
            ],
            "image/svg+xml": "<?xml version=\"1.0\" encoding=\"UTF-8\" standalone=\"no\"?>\n<!DOCTYPE svg PUBLIC \"-//W3C//DTD SVG 1.1//EN\"\n \"http://www.w3.org/Graphics/SVG/1.1/DTD/svg11.dtd\">\n<!-- Generated by graphviz version 2.40.1 (20161225.0304)\n -->\n<!-- Title: %3 Pages: 1 -->\n<svg width=\"351pt\" height=\"122pt\"\n viewBox=\"0.00 0.00 351.39 121.80\" xmlns=\"http://www.w3.org/2000/svg\" xmlns:xlink=\"http://www.w3.org/1999/xlink\">\n<g id=\"graph0\" class=\"graph\" transform=\"scale(1 1) rotate(0) translate(4 117.7958)\">\n<title>%3</title>\n<polygon fill=\"#ffffff\" stroke=\"transparent\" points=\"-4,4 -4,-117.7958 347.3875,-117.7958 347.3875,4 -4,4\"/>\n<!-- EMPTY -->\n<g id=\"node1\" class=\"node\">\n<title>EMPTY</title>\n</g>\n<!-- St4 -->\n<g id=\"node3\" class=\"node\">\n<title>St4</title>\n<ellipse fill=\"none\" stroke=\"#000000\" cx=\"118.3979\" cy=\"-27.3979\" rx=\"23.3111\" ry=\"23.3111\"/>\n<ellipse fill=\"none\" stroke=\"#000000\" cx=\"118.3979\" cy=\"-27.3979\" rx=\"27.2962\" ry=\"27.2962\"/>\n<text text-anchor=\"middle\" x=\"118.3979\" y=\"-23.6979\" font-family=\"Times,serif\" font-size=\"14.00\" fill=\"#000000\">St4</text>\n</g>\n<!-- EMPTY&#45;&gt;St4 -->\n<g id=\"edge1\" class=\"edge\">\n<title>EMPTY&#45;&gt;St4</title>\n<path fill=\"none\" stroke=\"#000000\" d=\"M54.4224,-27.3979C62.7369,-27.3979 72.0177,-27.3979 80.875,-27.3979\"/>\n<polygon fill=\"#000000\" stroke=\"#000000\" points=\"80.9949,-30.898 90.9949,-27.3979 80.9949,-23.898 80.9949,-30.898\"/>\n</g>\n<!-- St7 -->\n<g id=\"node2\" class=\"node\">\n<title>St7</title>\n<ellipse fill=\"none\" stroke=\"#000000\" cx=\"217.1938\" cy=\"-57.3979\" rx=\"23.2963\" ry=\"23.2963\"/>\n<text text-anchor=\"middle\" x=\"217.1938\" y=\"-53.6979\" font-family=\"Times,serif\" font-size=\"14.00\" fill=\"#000000\">St7</text>\n</g>\n<!-- St7&#45;&gt;St7 -->\n<g id=\"edge5\" class=\"edge\">\n<title>St7&#45;&gt;St7</title>\n<path fill=\"none\" stroke=\"#000000\" d=\"M208.7393,-79.5452C207.817,-89.8192 210.6352,-98.7958 217.1938,-98.7958 221.3954,-98.7958 224.0619,-95.1118 225.1933,-89.7628\"/>\n<polygon fill=\"#000000\" stroke=\"#000000\" points=\"228.6999,-89.691 225.6482,-79.5452 221.7068,-89.3796 228.6999,-89.691\"/>\n<text text-anchor=\"middle\" x=\"217.1938\" y=\"-102.5958\" font-family=\"Times,serif\" font-size=\"14.00\" fill=\"#000000\">a </text>\n</g>\n<!-- St2 -->\n<g id=\"node4\" class=\"node\">\n<title>St2</title>\n<ellipse fill=\"none\" stroke=\"#000000\" cx=\"315.9896\" cy=\"-27.3979\" rx=\"23.3111\" ry=\"23.3111\"/>\n<ellipse fill=\"none\" stroke=\"#000000\" cx=\"315.9896\" cy=\"-27.3979\" rx=\"27.2962\" ry=\"27.2962\"/>\n<text text-anchor=\"middle\" x=\"315.9896\" y=\"-23.6979\" font-family=\"Times,serif\" font-size=\"14.00\" fill=\"#000000\">St2</text>\n</g>\n<!-- St7&#45;&gt;St2 -->\n<g id=\"edge4\" class=\"edge\">\n<title>St7&#45;&gt;St2</title>\n<path fill=\"none\" stroke=\"#000000\" d=\"M240.1774,-51.8141C249.6464,-49.3992 260.6963,-46.4333 270.5917,-43.3979 273.8873,-42.387 277.2996,-41.2865 280.7053,-40.1514\"/>\n<polygon fill=\"#000000\" stroke=\"#000000\" points=\"281.8563,-43.4569 290.1839,-36.907 279.5893,-36.8341 281.8563,-43.4569\"/>\n<text text-anchor=\"middle\" x=\"264.5917\" y=\"-50.1979\" font-family=\"Times,serif\" font-size=\"14.00\" fill=\"#000000\">b </text>\n</g>\n<!-- St4&#45;&gt;St7 -->\n<g id=\"edge2\" class=\"edge\">\n<title>St4&#45;&gt;St7</title>\n<path fill=\"none\" stroke=\"#000000\" d=\"M144.2036,-36.907C150.5742,-39.1397 157.4044,-41.4374 163.7958,-43.3979 170.4443,-45.4373 177.614,-47.4453 184.4751,-49.276\"/>\n<polygon fill=\"#000000\" stroke=\"#000000\" points=\"183.6506,-52.6779 194.2102,-51.8141 185.4167,-45.9044 183.6506,-52.6779\"/>\n<text text-anchor=\"middle\" x=\"169.7958\" y=\"-50.1979\" font-family=\"Times,serif\" font-size=\"14.00\" fill=\"#000000\">b </text>\n</g>\n<!-- St4&#45;&gt;St7 -->\n<g id=\"edge3\" class=\"edge\">\n<title>St4&#45;&gt;St7</title>\n<path fill=\"none\" stroke=\"#000000\" d=\"M145.2909,-21.7988C155.125,-20.8309 166.1886,-21.0373 175.7958,-24.3979 181.9448,-26.5488 187.8621,-30.0382 193.2047,-33.96\"/>\n<polygon fill=\"#000000\" stroke=\"#000000\" points=\"191.1074,-36.7654 201.0779,-40.3486 195.5181,-31.3298 191.1074,-36.7654\"/>\n<text text-anchor=\"middle\" x=\"169.7958\" y=\"-28.1979\" font-family=\"Times,serif\" font-size=\"14.00\" fill=\"#000000\">a </text>\n</g>\n<!-- St2&#45;&gt;St7 -->\n<g id=\"edge6\" class=\"edge\">\n<title>St2&#45;&gt;St7</title>\n<path fill=\"none\" stroke=\"#000000\" d=\"M289.0967,-21.7988C279.2625,-20.8309 268.199,-21.0373 258.5917,-24.3979 252.4428,-26.5488 246.5255,-30.0382 241.1828,-33.96\"/>\n<polygon fill=\"#000000\" stroke=\"#000000\" points=\"238.8695,-31.3298 233.3096,-40.3486 243.2802,-36.7654 238.8695,-31.3298\"/>\n<text text-anchor=\"middle\" x=\"264.5917\" y=\"-28.1979\" font-family=\"Times,serif\" font-size=\"14.00\" fill=\"#000000\">b </text>\n</g>\n<!-- St2&#45;&gt;St4 -->\n<g id=\"edge7\" class=\"edge\">\n<title>St2&#45;&gt;St4</title>\n<path fill=\"none\" stroke=\"#000000\" d=\"M289.3653,-19.879C275.0415,-16.22 256.9951,-12.2242 240.5917,-10.3979 219.9213,-8.0965 214.4663,-8.0965 193.7958,-10.3979 180.9807,-11.8247 167.1627,-14.5757 154.9005,-17.4557\"/>\n<polygon fill=\"#000000\" stroke=\"#000000\" points=\"153.9003,-14.0972 145.0222,-19.879 155.5682,-20.8956 153.9003,-14.0972\"/>\n<text text-anchor=\"middle\" x=\"217.1938\" y=\"-14.1979\" font-family=\"Times,serif\" font-size=\"14.00\" fill=\"#000000\">a </text>\n</g>\n</g>\n</svg>\n"
          },
          "metadata": {
            "tags": []
          },
          "execution_count": 14
        }
      ]
    },
    {
      "cell_type": "markdown",
      "metadata": {
        "id": "V9nRzOHS1Fax"
      },
      "source": [
        "# END\n"
      ]
    },
    {
      "cell_type": "code",
      "metadata": {
        "id": "G8hH64M_4li7"
      },
      "source": [
        "('' + ((a+b)a*b(b(a)*b)*)(a(a+b)a*b(b(a)*b)*)*)"
      ],
      "execution_count": null,
      "outputs": []
    }
  ]
}