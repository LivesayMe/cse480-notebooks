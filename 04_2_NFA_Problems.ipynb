{
  "nbformat": 4,
  "nbformat_minor": 0,
  "metadata": {
    "kernelspec": {
      "display_name": "Python 3",
      "language": "python",
      "name": "python3"
    },
    "language_info": {
      "codemirror_mode": {
        "name": "ipython",
        "version": 3
      },
      "file_extension": ".py",
      "mimetype": "text/x-python",
      "name": "python",
      "nbconvert_exporter": "python",
      "pygments_lexer": "ipython3",
      "version": "3.9.0"
    },
    "toc": {
      "colors": {
        "hover_highlight": "#DAA520",
        "running_highlight": "#FF0000",
        "selected_highlight": "#FFD700"
      },
      "moveMenuLeft": true,
      "nav_menu": {
        "height": "121px",
        "width": "252px"
      },
      "navigate_menu": true,
      "number_sections": true,
      "sideBar": true,
      "threshold": 4,
      "toc_cell": false,
      "toc_section_display": "block",
      "toc_window_display": false,
      "widenNotebook": false
    },
    "widgets": {
      "application/vnd.jupyter.widget-state+json": {
        "03199ba108274f21832d5526b567c6ee": {
          "model_module": "@jupyter-widgets/controls",
          "model_name": "VBoxModel",
          "state": {
            "_view_name": "VBoxView",
            "_dom_classes": [],
            "_model_name": "VBoxModel",
            "_view_module": "@jupyter-widgets/controls",
            "_model_module_version": "1.5.0",
            "_view_count": null,
            "_view_module_version": "1.5.0",
            "box_style": "",
            "layout": "IPY_MODEL_7c0000022c014fe0858b156ffd647bf0",
            "_model_module": "@jupyter-widgets/controls",
            "children": [
              "IPY_MODEL_1c01110586f94df086aefd981e8ba27d",
              "IPY_MODEL_62124b28c98b43f4b8a04146c4bd50ed",
              "IPY_MODEL_80880843481445c38ee481a30beb93e9",
              "IPY_MODEL_f271ea40cfbb41bba501d10fd54b4777"
            ]
          }
        },
        "7c0000022c014fe0858b156ffd647bf0": {
          "model_module": "@jupyter-widgets/base",
          "model_name": "LayoutModel",
          "state": {
            "_view_name": "LayoutView",
            "grid_template_rows": null,
            "right": null,
            "justify_content": null,
            "_view_module": "@jupyter-widgets/base",
            "overflow": null,
            "_model_module_version": "1.2.0",
            "_view_count": null,
            "flex_flow": null,
            "width": null,
            "min_width": null,
            "border": null,
            "align_items": null,
            "bottom": null,
            "_model_module": "@jupyter-widgets/base",
            "top": null,
            "grid_column": null,
            "overflow_y": null,
            "overflow_x": null,
            "grid_auto_flow": null,
            "grid_area": null,
            "grid_template_columns": null,
            "flex": null,
            "_model_name": "LayoutModel",
            "justify_items": null,
            "grid_row": null,
            "max_height": null,
            "align_content": null,
            "visibility": null,
            "align_self": null,
            "height": null,
            "min_height": null,
            "padding": null,
            "grid_auto_rows": null,
            "grid_gap": null,
            "max_width": null,
            "order": null,
            "_view_module_version": "1.2.0",
            "grid_template_areas": null,
            "object_position": null,
            "object_fit": null,
            "grid_auto_columns": null,
            "margin": null,
            "display": null,
            "left": null
          }
        },
        "1c01110586f94df086aefd981e8ba27d": {
          "model_module": "@jupyter-widgets/controls",
          "model_name": "HBoxModel",
          "state": {
            "_view_name": "HBoxView",
            "_dom_classes": [],
            "_model_name": "HBoxModel",
            "_view_module": "@jupyter-widgets/controls",
            "_model_module_version": "1.5.0",
            "_view_count": null,
            "_view_module_version": "1.5.0",
            "box_style": "",
            "layout": "IPY_MODEL_60dcf187bc854312ad9aa1b34f8d7202",
            "_model_module": "@jupyter-widgets/controls",
            "children": [
              "IPY_MODEL_0a4860f2d33246bdb760b3ca78025164",
              "IPY_MODEL_500e0b0d1860431daa3a30e7f6fe0440"
            ]
          }
        },
        "62124b28c98b43f4b8a04146c4bd50ed": {
          "model_module": "@jupyter-widgets/output",
          "model_name": "OutputModel",
          "state": {
            "_view_name": "OutputView",
            "msg_id": "",
            "_dom_classes": [],
            "_model_name": "OutputModel",
            "outputs": [
              {
                "output_type": "display_data",
                "metadata": {
                  "tags": []
                },
                "text/plain": "<graphviz.files.Source at 0x7f9516054e80>",
                "image/svg+xml": "<?xml version=\"1.0\" encoding=\"UTF-8\" standalone=\"no\"?>\n<!DOCTYPE svg PUBLIC \"-//W3C//DTD SVG 1.1//EN\"\n \"http://www.w3.org/Graphics/SVG/1.1/DTD/svg11.dtd\">\n<!-- Generated by graphviz version 2.40.1 (20161225.0304)\n -->\n<!-- Title: %3 Pages: 1 -->\n<svg width=\"317pt\" height=\"114pt\"\n viewBox=\"0.00 0.00 316.60 114.00\" xmlns=\"http://www.w3.org/2000/svg\" xmlns:xlink=\"http://www.w3.org/1999/xlink\">\n<g id=\"graph0\" class=\"graph\" transform=\"scale(1 1) rotate(0) translate(4 110)\">\n<title>%3</title>\n<polygon fill=\"#ffffff\" stroke=\"transparent\" points=\"-4,4 -4,-110 312.5963,-110 312.5963,4 -4,4\"/>\n<!-- EMPTY -->\n<g id=\"node1\" class=\"node\">\n<title>EMPTY</title>\n</g>\n<!-- I -->\n<g id=\"node2\" class=\"node\">\n<title>I</title>\n<ellipse fill=\"none\" stroke=\"#000000\" cx=\"109\" cy=\"-22\" rx=\"18\" ry=\"18\"/>\n<text text-anchor=\"middle\" x=\"109\" y=\"-18.3\" font-family=\"Times,serif\" font-size=\"14.00\" fill=\"#000000\">I</text>\n</g>\n<!-- EMPTY&#45;&gt;I -->\n<g id=\"edge1\" class=\"edge\">\n<title>EMPTY&#45;&gt;I</title>\n<path fill=\"none\" stroke=\"#000000\" d=\"M54.3048,-22C62.6909,-22 71.9407,-22 80.4103,-22\"/>\n<polygon fill=\"#000000\" stroke=\"#000000\" points=\"80.5976,-25.5001 90.5976,-22 80.5976,-18.5001 80.5976,-25.5001\"/>\n</g>\n<!-- I&#45;&gt;I -->\n<g id=\"edge2\" class=\"edge\">\n<title>I&#45;&gt;I</title>\n<path fill=\"none\" stroke=\"#000000\" d=\"M105.7643,-39.7817C105.2144,-49.3149 106.293,-58 109,-58 110.6496,-58 111.6945,-54.7749 112.1347,-50.0981\"/>\n<polygon fill=\"#000000\" stroke=\"#000000\" points=\"115.6375,-49.8156 112.2357,-39.7817 108.6379,-49.7469 115.6375,-49.8156\"/>\n<text text-anchor=\"start\" x=\"103\" y=\"-61.8\" font-family=\"Times,serif\" font-size=\"14.00\" fill=\"#000000\"> 0</text>\n</g>\n<!-- I&#45;&gt;I -->\n<g id=\"edge3\" class=\"edge\">\n<title>I&#45;&gt;I</title>\n<path fill=\"none\" stroke=\"#000000\" d=\"M103.6841,-39.4203C100.6538,-56.791 102.4258,-76 109,-76 114.2902,-76 116.4708,-63.5617 115.5419,-49.652\"/>\n<polygon fill=\"#000000\" stroke=\"#000000\" points=\"118.9808,-48.9328 114.3159,-39.4203 112.0305,-49.7657 118.9808,-48.9328\"/>\n<text text-anchor=\"start\" x=\"103\" y=\"-79.8\" font-family=\"Times,serif\" font-size=\"14.00\" fill=\"#000000\"> 1</text>\n</g>\n<!-- S0 -->\n<g id=\"node3\" class=\"node\">\n<title>S0</title>\n<ellipse fill=\"none\" stroke=\"#000000\" cx=\"195.7982\" cy=\"-22\" rx=\"20.5982\" ry=\"20.5982\"/>\n<text text-anchor=\"middle\" x=\"195.7982\" y=\"-18.3\" font-family=\"Times,serif\" font-size=\"14.00\" fill=\"#000000\">S0</text>\n</g>\n<!-- I&#45;&gt;S0 -->\n<g id=\"edge4\" class=\"edge\">\n<title>I&#45;&gt;S0</title>\n<path fill=\"none\" stroke=\"#000000\" d=\"M127.4077,-22C138.2934,-22 152.3613,-22 164.9052,-22\"/>\n<polygon fill=\"#000000\" stroke=\"#000000\" points=\"164.9803,-25.5001 174.9802,-22 164.9802,-18.5001 164.9803,-25.5001\"/>\n<text text-anchor=\"start\" x=\"145\" y=\"-25.8\" font-family=\"Times,serif\" font-size=\"14.00\" fill=\"#000000\"> 1</text>\n</g>\n<!-- F -->\n<g id=\"node4\" class=\"node\">\n<title>F</title>\n<ellipse fill=\"none\" stroke=\"#000000\" cx=\"286.5963\" cy=\"-22\" rx=\"18\" ry=\"18\"/>\n<ellipse fill=\"none\" stroke=\"#000000\" cx=\"286.5963\" cy=\"-22\" rx=\"22\" ry=\"22\"/>\n<text text-anchor=\"middle\" x=\"286.5963\" y=\"-18.3\" font-family=\"Times,serif\" font-size=\"14.00\" fill=\"#000000\">F</text>\n</g>\n<!-- S0&#45;&gt;F -->\n<g id=\"edge5\" class=\"edge\">\n<title>S0&#45;&gt;F</title>\n<path fill=\"none\" stroke=\"#000000\" d=\"M216.8573,-22C227.9898,-22 241.8945,-22 254.3526,-22\"/>\n<polygon fill=\"#000000\" stroke=\"#000000\" points=\"254.3846,-25.5001 264.3846,-22 254.3845,-18.5001 254.3846,-25.5001\"/>\n<text text-anchor=\"start\" x=\"234.5963\" y=\"-25.8\" font-family=\"Times,serif\" font-size=\"14.00\" fill=\"#000000\"> 0</text>\n</g>\n</g>\n</svg>\n"
              }
            ],
            "_view_module": "@jupyter-widgets/output",
            "_model_module_version": "1.0.0",
            "_view_count": null,
            "_view_module_version": "1.0.0",
            "layout": "IPY_MODEL_a348648e9b67495ead5a996b69efb12a",
            "_model_module": "@jupyter-widgets/output"
          }
        },
        "80880843481445c38ee481a30beb93e9": {
          "model_module": "@jupyter-widgets/output",
          "model_name": "OutputModel",
          "state": {
            "_view_name": "OutputView",
            "msg_id": "",
            "_dom_classes": [],
            "_model_name": "OutputModel",
            "outputs": [],
            "_view_module": "@jupyter-widgets/output",
            "_model_module_version": "1.0.0",
            "_view_count": null,
            "_view_module_version": "1.0.0",
            "layout": "IPY_MODEL_972dfdaaebf54e52bd25b6eee21f4b43",
            "_model_module": "@jupyter-widgets/output"
          }
        },
        "f271ea40cfbb41bba501d10fd54b4777": {
          "model_module": "@jupyter-widgets/controls",
          "model_name": "HBoxModel",
          "state": {
            "_view_name": "HBoxView",
            "_dom_classes": [],
            "_model_name": "HBoxModel",
            "_view_module": "@jupyter-widgets/controls",
            "_model_module_version": "1.5.0",
            "_view_count": null,
            "_view_module_version": "1.5.0",
            "box_style": "",
            "layout": "IPY_MODEL_1158f0ee2bf440b382f491f4936512e2",
            "_model_module": "@jupyter-widgets/controls",
            "children": [
              "IPY_MODEL_2b3ea7bb8167444c84cb8c371a42ad87",
              "IPY_MODEL_c78fdf60632541bab10d664ba2d0f9f5",
              "IPY_MODEL_4320863e6f8147f1a0467b75988de262",
              "IPY_MODEL_8bd63f5541d44a7197870e9c9be8e0eb"
            ]
          }
        },
        "60dcf187bc854312ad9aa1b34f8d7202": {
          "model_module": "@jupyter-widgets/base",
          "model_name": "LayoutModel",
          "state": {
            "_view_name": "LayoutView",
            "grid_template_rows": null,
            "right": null,
            "justify_content": null,
            "_view_module": "@jupyter-widgets/base",
            "overflow": null,
            "_model_module_version": "1.2.0",
            "_view_count": null,
            "flex_flow": null,
            "width": null,
            "min_width": null,
            "border": null,
            "align_items": null,
            "bottom": null,
            "_model_module": "@jupyter-widgets/base",
            "top": null,
            "grid_column": null,
            "overflow_y": null,
            "overflow_x": null,
            "grid_auto_flow": null,
            "grid_area": null,
            "grid_template_columns": null,
            "flex": null,
            "_model_name": "LayoutModel",
            "justify_items": null,
            "grid_row": null,
            "max_height": null,
            "align_content": null,
            "visibility": null,
            "align_self": null,
            "height": null,
            "min_height": null,
            "padding": null,
            "grid_auto_rows": null,
            "grid_gap": null,
            "max_width": null,
            "order": null,
            "_view_module_version": "1.2.0",
            "grid_template_areas": null,
            "object_position": null,
            "object_fit": null,
            "grid_auto_columns": null,
            "margin": null,
            "display": null,
            "left": null
          }
        },
        "0a4860f2d33246bdb760b3ca78025164": {
          "model_module": "@jupyter-widgets/controls",
          "model_name": "TextModel",
          "state": {
            "_view_name": "TextView",
            "style": "IPY_MODEL_fcfac18607ed4af585b0d09ce7d6486b",
            "_dom_classes": [],
            "description": "Input:",
            "_model_name": "TextModel",
            "placeholder": "Sigma: {0,1}",
            "_view_module": "@jupyter-widgets/controls",
            "_model_module_version": "1.5.0",
            "value": "",
            "_view_count": null,
            "disabled": false,
            "_view_module_version": "1.5.0",
            "continuous_update": true,
            "description_tooltip": null,
            "_model_module": "@jupyter-widgets/controls",
            "layout": "IPY_MODEL_dc2c04e7b43541da8f2de962497f3ec7"
          }
        },
        "500e0b0d1860431daa3a30e7f6fe0440": {
          "model_module": "@jupyter-widgets/controls",
          "model_name": "ButtonModel",
          "state": {
            "_view_name": "ButtonView",
            "style": "IPY_MODEL_0a61c187044445c894b26fc6387f0399",
            "_dom_classes": [],
            "description": "Animate",
            "_model_name": "ButtonModel",
            "button_style": "primary",
            "_view_module": "@jupyter-widgets/controls",
            "_model_module_version": "1.5.0",
            "tooltip": "",
            "_view_count": null,
            "disabled": false,
            "_view_module_version": "1.5.0",
            "layout": "IPY_MODEL_6d6c78d519f74ce8bce2cdd96e1fbbd1",
            "_model_module": "@jupyter-widgets/controls",
            "icon": ""
          }
        },
        "1158f0ee2bf440b382f491f4936512e2": {
          "model_module": "@jupyter-widgets/base",
          "model_name": "LayoutModel",
          "state": {
            "_view_name": "LayoutView",
            "grid_template_rows": null,
            "right": null,
            "justify_content": null,
            "_view_module": "@jupyter-widgets/base",
            "overflow": null,
            "_model_module_version": "1.2.0",
            "_view_count": null,
            "flex_flow": null,
            "width": null,
            "min_width": null,
            "border": null,
            "align_items": null,
            "bottom": null,
            "_model_module": "@jupyter-widgets/base",
            "top": null,
            "grid_column": null,
            "overflow_y": null,
            "overflow_x": null,
            "grid_auto_flow": null,
            "grid_area": null,
            "grid_template_columns": null,
            "flex": null,
            "_model_name": "LayoutModel",
            "justify_items": null,
            "grid_row": null,
            "max_height": null,
            "align_content": null,
            "visibility": null,
            "align_self": null,
            "height": null,
            "min_height": null,
            "padding": null,
            "grid_auto_rows": null,
            "grid_gap": null,
            "max_width": null,
            "order": null,
            "_view_module_version": "1.2.0",
            "grid_template_areas": null,
            "object_position": null,
            "object_fit": null,
            "grid_auto_columns": null,
            "margin": null,
            "display": null,
            "left": null
          }
        },
        "2b3ea7bb8167444c84cb8c371a42ad87": {
          "model_module": "@jupyter-widgets/controls",
          "model_name": "PlayModel",
          "state": {
            "_view_name": "PlayView",
            "style": "IPY_MODEL_72fe71857f574eea8e4dac73db654373",
            "interval": 950,
            "_dom_classes": [],
            "description": "Press play",
            "_model_name": "PlayModel",
            "max": 100,
            "_view_module": "@jupyter-widgets/controls",
            "_model_module_version": "1.5.0",
            "value": 0,
            "_view_count": null,
            "disabled": true,
            "_repeat": false,
            "_view_module_version": "1.5.0",
            "show_repeat": true,
            "min": 0,
            "_playing": false,
            "step": 1,
            "description_tooltip": null,
            "_model_module": "@jupyter-widgets/controls",
            "layout": "IPY_MODEL_c8195bad42f64574a084265104067e11"
          }
        },
        "c78fdf60632541bab10d664ba2d0f9f5": {
          "model_module": "@jupyter-widgets/controls",
          "model_name": "ButtonModel",
          "state": {
            "_view_name": "ButtonView",
            "style": "IPY_MODEL_f36f91202c2f4827aaac985eb9a5f93a",
            "_dom_classes": [],
            "description": "",
            "_model_name": "ButtonModel",
            "button_style": "",
            "_view_module": "@jupyter-widgets/controls",
            "_model_module_version": "1.5.0",
            "tooltip": "",
            "_view_count": null,
            "disabled": true,
            "_view_module_version": "1.5.0",
            "layout": "IPY_MODEL_26046632c2cd47a697308761bf0bf2bb",
            "_model_module": "@jupyter-widgets/controls",
            "icon": "step-backward"
          }
        },
        "4320863e6f8147f1a0467b75988de262": {
          "model_module": "@jupyter-widgets/controls",
          "model_name": "ButtonModel",
          "state": {
            "_view_name": "ButtonView",
            "style": "IPY_MODEL_25e6ae716faf473a93de14668706a1e5",
            "_dom_classes": [],
            "description": "",
            "_model_name": "ButtonModel",
            "button_style": "",
            "_view_module": "@jupyter-widgets/controls",
            "_model_module_version": "1.5.0",
            "tooltip": "",
            "_view_count": null,
            "disabled": true,
            "_view_module_version": "1.5.0",
            "layout": "IPY_MODEL_1de4e451acc842d1a5950ac5000b508d",
            "_model_module": "@jupyter-widgets/controls",
            "icon": "step-forward"
          }
        },
        "8bd63f5541d44a7197870e9c9be8e0eb": {
          "model_module": "@jupyter-widgets/controls",
          "model_name": "IntSliderModel",
          "state": {
            "_view_name": "IntSliderView",
            "style": "IPY_MODEL_b81fa46b7b02484485fc1a04cc886772",
            "_dom_classes": [],
            "description": "Speed:",
            "step": 1,
            "_model_name": "IntSliderModel",
            "orientation": "horizontal",
            "max": 10,
            "_view_module": "@jupyter-widgets/controls",
            "_model_module_version": "1.5.0",
            "value": 1,
            "_view_count": null,
            "disabled": true,
            "_view_module_version": "1.5.0",
            "min": 1,
            "continuous_update": false,
            "readout_format": "d",
            "description_tooltip": null,
            "readout": true,
            "_model_module": "@jupyter-widgets/controls",
            "layout": "IPY_MODEL_bb5cdb2ad0ab40a39b7718dd906786f5"
          }
        },
        "fcfac18607ed4af585b0d09ce7d6486b": {
          "model_module": "@jupyter-widgets/controls",
          "model_name": "DescriptionStyleModel",
          "state": {
            "_view_name": "StyleView",
            "_model_name": "DescriptionStyleModel",
            "description_width": "",
            "_view_module": "@jupyter-widgets/base",
            "_model_module_version": "1.5.0",
            "_view_count": null,
            "_view_module_version": "1.2.0",
            "_model_module": "@jupyter-widgets/controls"
          }
        },
        "dc2c04e7b43541da8f2de962497f3ec7": {
          "model_module": "@jupyter-widgets/base",
          "model_name": "LayoutModel",
          "state": {
            "_view_name": "LayoutView",
            "grid_template_rows": null,
            "right": null,
            "justify_content": null,
            "_view_module": "@jupyter-widgets/base",
            "overflow": null,
            "_model_module_version": "1.2.0",
            "_view_count": null,
            "flex_flow": null,
            "width": "500px",
            "min_width": null,
            "border": null,
            "align_items": null,
            "bottom": null,
            "_model_module": "@jupyter-widgets/base",
            "top": null,
            "grid_column": null,
            "overflow_y": null,
            "overflow_x": null,
            "grid_auto_flow": null,
            "grid_area": null,
            "grid_template_columns": null,
            "flex": null,
            "_model_name": "LayoutModel",
            "justify_items": null,
            "grid_row": null,
            "max_height": null,
            "align_content": null,
            "visibility": null,
            "align_self": null,
            "height": null,
            "min_height": null,
            "padding": null,
            "grid_auto_rows": null,
            "grid_gap": null,
            "max_width": null,
            "order": null,
            "_view_module_version": "1.2.0",
            "grid_template_areas": null,
            "object_position": null,
            "object_fit": null,
            "grid_auto_columns": null,
            "margin": null,
            "display": null,
            "left": null
          }
        },
        "0a61c187044445c894b26fc6387f0399": {
          "model_module": "@jupyter-widgets/controls",
          "model_name": "ButtonStyleModel",
          "state": {
            "_view_name": "StyleView",
            "_model_name": "ButtonStyleModel",
            "_view_module": "@jupyter-widgets/base",
            "_model_module_version": "1.5.0",
            "_view_count": null,
            "button_color": null,
            "font_weight": "",
            "_view_module_version": "1.2.0",
            "_model_module": "@jupyter-widgets/controls"
          }
        },
        "6d6c78d519f74ce8bce2cdd96e1fbbd1": {
          "model_module": "@jupyter-widgets/base",
          "model_name": "LayoutModel",
          "state": {
            "_view_name": "LayoutView",
            "grid_template_rows": null,
            "right": null,
            "justify_content": null,
            "_view_module": "@jupyter-widgets/base",
            "overflow": null,
            "_model_module_version": "1.2.0",
            "_view_count": null,
            "flex_flow": null,
            "width": null,
            "min_width": null,
            "border": null,
            "align_items": null,
            "bottom": null,
            "_model_module": "@jupyter-widgets/base",
            "top": null,
            "grid_column": null,
            "overflow_y": null,
            "overflow_x": null,
            "grid_auto_flow": null,
            "grid_area": null,
            "grid_template_columns": null,
            "flex": null,
            "_model_name": "LayoutModel",
            "justify_items": null,
            "grid_row": null,
            "max_height": null,
            "align_content": null,
            "visibility": null,
            "align_self": null,
            "height": null,
            "min_height": null,
            "padding": null,
            "grid_auto_rows": null,
            "grid_gap": null,
            "max_width": null,
            "order": null,
            "_view_module_version": "1.2.0",
            "grid_template_areas": null,
            "object_position": null,
            "object_fit": null,
            "grid_auto_columns": null,
            "margin": null,
            "display": null,
            "left": null
          }
        },
        "72fe71857f574eea8e4dac73db654373": {
          "model_module": "@jupyter-widgets/controls",
          "model_name": "DescriptionStyleModel",
          "state": {
            "_view_name": "StyleView",
            "_model_name": "DescriptionStyleModel",
            "description_width": "",
            "_view_module": "@jupyter-widgets/base",
            "_model_module_version": "1.5.0",
            "_view_count": null,
            "_view_module_version": "1.2.0",
            "_model_module": "@jupyter-widgets/controls"
          }
        },
        "c8195bad42f64574a084265104067e11": {
          "model_module": "@jupyter-widgets/base",
          "model_name": "LayoutModel",
          "state": {
            "_view_name": "LayoutView",
            "grid_template_rows": null,
            "right": null,
            "justify_content": null,
            "_view_module": "@jupyter-widgets/base",
            "overflow": null,
            "_model_module_version": "1.2.0",
            "_view_count": null,
            "flex_flow": null,
            "width": null,
            "min_width": null,
            "border": null,
            "align_items": null,
            "bottom": null,
            "_model_module": "@jupyter-widgets/base",
            "top": null,
            "grid_column": null,
            "overflow_y": null,
            "overflow_x": null,
            "grid_auto_flow": null,
            "grid_area": null,
            "grid_template_columns": null,
            "flex": null,
            "_model_name": "LayoutModel",
            "justify_items": null,
            "grid_row": null,
            "max_height": null,
            "align_content": null,
            "visibility": null,
            "align_self": null,
            "height": null,
            "min_height": null,
            "padding": null,
            "grid_auto_rows": null,
            "grid_gap": null,
            "max_width": null,
            "order": null,
            "_view_module_version": "1.2.0",
            "grid_template_areas": null,
            "object_position": null,
            "object_fit": null,
            "grid_auto_columns": null,
            "margin": null,
            "display": null,
            "left": null
          }
        },
        "f36f91202c2f4827aaac985eb9a5f93a": {
          "model_module": "@jupyter-widgets/controls",
          "model_name": "ButtonStyleModel",
          "state": {
            "_view_name": "StyleView",
            "_model_name": "ButtonStyleModel",
            "_view_module": "@jupyter-widgets/base",
            "_model_module_version": "1.5.0",
            "_view_count": null,
            "button_color": null,
            "font_weight": "",
            "_view_module_version": "1.2.0",
            "_model_module": "@jupyter-widgets/controls"
          }
        },
        "26046632c2cd47a697308761bf0bf2bb": {
          "model_module": "@jupyter-widgets/base",
          "model_name": "LayoutModel",
          "state": {
            "_view_name": "LayoutView",
            "grid_template_rows": null,
            "right": null,
            "justify_content": null,
            "_view_module": "@jupyter-widgets/base",
            "overflow": null,
            "_model_module_version": "1.2.0",
            "_view_count": null,
            "flex_flow": null,
            "width": "40px",
            "min_width": null,
            "border": null,
            "align_items": null,
            "bottom": null,
            "_model_module": "@jupyter-widgets/base",
            "top": null,
            "grid_column": null,
            "overflow_y": null,
            "overflow_x": null,
            "grid_auto_flow": null,
            "grid_area": null,
            "grid_template_columns": null,
            "flex": null,
            "_model_name": "LayoutModel",
            "justify_items": null,
            "grid_row": null,
            "max_height": null,
            "align_content": null,
            "visibility": null,
            "align_self": null,
            "height": null,
            "min_height": null,
            "padding": null,
            "grid_auto_rows": null,
            "grid_gap": null,
            "max_width": null,
            "order": null,
            "_view_module_version": "1.2.0",
            "grid_template_areas": null,
            "object_position": null,
            "object_fit": null,
            "grid_auto_columns": null,
            "margin": null,
            "display": null,
            "left": null
          }
        },
        "25e6ae716faf473a93de14668706a1e5": {
          "model_module": "@jupyter-widgets/controls",
          "model_name": "ButtonStyleModel",
          "state": {
            "_view_name": "StyleView",
            "_model_name": "ButtonStyleModel",
            "_view_module": "@jupyter-widgets/base",
            "_model_module_version": "1.5.0",
            "_view_count": null,
            "button_color": null,
            "font_weight": "",
            "_view_module_version": "1.2.0",
            "_model_module": "@jupyter-widgets/controls"
          }
        },
        "1de4e451acc842d1a5950ac5000b508d": {
          "model_module": "@jupyter-widgets/base",
          "model_name": "LayoutModel",
          "state": {
            "_view_name": "LayoutView",
            "grid_template_rows": null,
            "right": null,
            "justify_content": null,
            "_view_module": "@jupyter-widgets/base",
            "overflow": null,
            "_model_module_version": "1.2.0",
            "_view_count": null,
            "flex_flow": null,
            "width": "40px",
            "min_width": null,
            "border": null,
            "align_items": null,
            "bottom": null,
            "_model_module": "@jupyter-widgets/base",
            "top": null,
            "grid_column": null,
            "overflow_y": null,
            "overflow_x": null,
            "grid_auto_flow": null,
            "grid_area": null,
            "grid_template_columns": null,
            "flex": null,
            "_model_name": "LayoutModel",
            "justify_items": null,
            "grid_row": null,
            "max_height": null,
            "align_content": null,
            "visibility": null,
            "align_self": null,
            "height": null,
            "min_height": null,
            "padding": null,
            "grid_auto_rows": null,
            "grid_gap": null,
            "max_width": null,
            "order": null,
            "_view_module_version": "1.2.0",
            "grid_template_areas": null,
            "object_position": null,
            "object_fit": null,
            "grid_auto_columns": null,
            "margin": null,
            "display": null,
            "left": null
          }
        },
        "b81fa46b7b02484485fc1a04cc886772": {
          "model_module": "@jupyter-widgets/controls",
          "model_name": "SliderStyleModel",
          "state": {
            "_view_name": "StyleView",
            "handle_color": null,
            "_model_name": "SliderStyleModel",
            "description_width": "",
            "_view_module": "@jupyter-widgets/base",
            "_model_module_version": "1.5.0",
            "_view_count": null,
            "_view_module_version": "1.2.0",
            "_model_module": "@jupyter-widgets/controls"
          }
        },
        "bb5cdb2ad0ab40a39b7718dd906786f5": {
          "model_module": "@jupyter-widgets/base",
          "model_name": "LayoutModel",
          "state": {
            "_view_name": "LayoutView",
            "grid_template_rows": null,
            "right": null,
            "justify_content": null,
            "_view_module": "@jupyter-widgets/base",
            "overflow": null,
            "_model_module_version": "1.2.0",
            "_view_count": null,
            "flex_flow": null,
            "width": null,
            "min_width": null,
            "border": null,
            "align_items": null,
            "bottom": null,
            "_model_module": "@jupyter-widgets/base",
            "top": null,
            "grid_column": null,
            "overflow_y": null,
            "overflow_x": null,
            "grid_auto_flow": null,
            "grid_area": null,
            "grid_template_columns": null,
            "flex": null,
            "_model_name": "LayoutModel",
            "justify_items": null,
            "grid_row": null,
            "max_height": null,
            "align_content": null,
            "visibility": null,
            "align_self": null,
            "height": null,
            "min_height": null,
            "padding": null,
            "grid_auto_rows": null,
            "grid_gap": null,
            "max_width": null,
            "order": null,
            "_view_module_version": "1.2.0",
            "grid_template_areas": null,
            "object_position": null,
            "object_fit": null,
            "grid_auto_columns": null,
            "margin": null,
            "display": null,
            "left": null
          }
        },
        "a348648e9b67495ead5a996b69efb12a": {
          "model_module": "@jupyter-widgets/base",
          "model_name": "LayoutModel",
          "state": {
            "_view_name": "LayoutView",
            "grid_template_rows": null,
            "right": null,
            "justify_content": null,
            "_view_module": "@jupyter-widgets/base",
            "overflow": null,
            "_model_module_version": "1.2.0",
            "_view_count": null,
            "flex_flow": null,
            "width": null,
            "min_width": null,
            "border": null,
            "align_items": null,
            "bottom": null,
            "_model_module": "@jupyter-widgets/base",
            "top": null,
            "grid_column": null,
            "overflow_y": null,
            "overflow_x": null,
            "grid_auto_flow": null,
            "grid_area": null,
            "grid_template_columns": null,
            "flex": null,
            "_model_name": "LayoutModel",
            "justify_items": null,
            "grid_row": null,
            "max_height": null,
            "align_content": null,
            "visibility": null,
            "align_self": null,
            "height": null,
            "min_height": null,
            "padding": null,
            "grid_auto_rows": null,
            "grid_gap": null,
            "max_width": null,
            "order": null,
            "_view_module_version": "1.2.0",
            "grid_template_areas": null,
            "object_position": null,
            "object_fit": null,
            "grid_auto_columns": null,
            "margin": null,
            "display": null,
            "left": null
          }
        },
        "972dfdaaebf54e52bd25b6eee21f4b43": {
          "model_module": "@jupyter-widgets/base",
          "model_name": "LayoutModel",
          "state": {
            "_view_name": "LayoutView",
            "grid_template_rows": null,
            "right": null,
            "justify_content": null,
            "_view_module": "@jupyter-widgets/base",
            "overflow": null,
            "_model_module_version": "1.2.0",
            "_view_count": null,
            "flex_flow": null,
            "width": null,
            "min_width": null,
            "border": null,
            "align_items": null,
            "bottom": null,
            "_model_module": "@jupyter-widgets/base",
            "top": null,
            "grid_column": null,
            "overflow_y": null,
            "overflow_x": null,
            "grid_auto_flow": null,
            "grid_area": null,
            "grid_template_columns": null,
            "flex": null,
            "_model_name": "LayoutModel",
            "justify_items": null,
            "grid_row": null,
            "max_height": null,
            "align_content": null,
            "visibility": null,
            "align_self": null,
            "height": null,
            "min_height": null,
            "padding": null,
            "grid_auto_rows": null,
            "grid_gap": null,
            "max_width": null,
            "order": null,
            "_view_module_version": "1.2.0",
            "grid_template_areas": null,
            "object_position": null,
            "object_fit": null,
            "grid_auto_columns": null,
            "margin": null,
            "display": null,
            "left": null
          }
        },
        "7be49de48c9e4b6fbf3bcc2c531738d4": {
          "model_module": "@jupyter-widgets/controls",
          "model_name": "VBoxModel",
          "state": {
            "_view_name": "VBoxView",
            "_dom_classes": [
              "widget-interact"
            ],
            "_model_name": "VBoxModel",
            "_view_module": "@jupyter-widgets/controls",
            "_model_module_version": "1.5.0",
            "_view_count": null,
            "_view_module_version": "1.5.0",
            "box_style": "",
            "layout": "IPY_MODEL_aa286557a8524a09a74f5a00f93c32b6",
            "_model_module": "@jupyter-widgets/controls",
            "children": [
              "IPY_MODEL_c6115c5dee0e467d9bb170505671ed89",
              "IPY_MODEL_eb5e0ddd14754ef4af40a2f47379c7f8",
              "IPY_MODEL_b1d532c88fac40c8a67db0879c53cf71",
              "IPY_MODEL_9a60ecf7a7e14c62ba83fdbc23385d43"
            ]
          }
        },
        "aa286557a8524a09a74f5a00f93c32b6": {
          "model_module": "@jupyter-widgets/base",
          "model_name": "LayoutModel",
          "state": {
            "_view_name": "LayoutView",
            "grid_template_rows": null,
            "right": null,
            "justify_content": null,
            "_view_module": "@jupyter-widgets/base",
            "overflow": null,
            "_model_module_version": "1.2.0",
            "_view_count": null,
            "flex_flow": null,
            "width": null,
            "min_width": null,
            "border": null,
            "align_items": null,
            "bottom": null,
            "_model_module": "@jupyter-widgets/base",
            "top": null,
            "grid_column": null,
            "overflow_y": null,
            "overflow_x": null,
            "grid_auto_flow": null,
            "grid_area": null,
            "grid_template_columns": null,
            "flex": null,
            "_model_name": "LayoutModel",
            "justify_items": null,
            "grid_row": null,
            "max_height": null,
            "align_content": null,
            "visibility": null,
            "align_self": null,
            "height": null,
            "min_height": null,
            "padding": null,
            "grid_auto_rows": null,
            "grid_gap": null,
            "max_width": null,
            "order": null,
            "_view_module_version": "1.2.0",
            "grid_template_areas": null,
            "object_position": null,
            "object_fit": null,
            "grid_auto_columns": null,
            "margin": null,
            "display": null,
            "left": null
          }
        },
        "c6115c5dee0e467d9bb170505671ed89": {
          "model_module": "@jupyter-widgets/controls",
          "model_name": "DropdownModel",
          "state": {
            "_options_labels": [
              "N1"
            ],
            "_view_name": "DropdownView",
            "style": "IPY_MODEL_9f8d82f8c6b14896971bc9f3821b6087",
            "_dom_classes": [],
            "description": "N",
            "_model_name": "DropdownModel",
            "index": 0,
            "_view_module": "@jupyter-widgets/controls",
            "_model_module_version": "1.5.0",
            "_view_count": null,
            "disabled": false,
            "_view_module_version": "1.5.0",
            "description_tooltip": null,
            "_model_module": "@jupyter-widgets/controls",
            "layout": "IPY_MODEL_df9f9331533d49039ced59d2c430898b"
          }
        },
        "eb5e0ddd14754ef4af40a2f47379c7f8": {
          "model_module": "@jupyter-widgets/controls",
          "model_name": "TextModel",
          "state": {
            "_view_name": "TextView",
            "style": "IPY_MODEL_0a2bff867c0b45e7bf1a6f862e0eb2a5",
            "_dom_classes": [],
            "description": "s",
            "_model_name": "TextModel",
            "placeholder": "​",
            "_view_module": "@jupyter-widgets/controls",
            "_model_module_version": "1.5.0",
            "value": "10010",
            "_view_count": null,
            "disabled": false,
            "_view_module_version": "1.5.0",
            "continuous_update": true,
            "description_tooltip": null,
            "_model_module": "@jupyter-widgets/controls",
            "layout": "IPY_MODEL_6a5276c16a1d4ded88fd5a74ef469002"
          }
        },
        "b1d532c88fac40c8a67db0879c53cf71": {
          "model_module": "@jupyter-widgets/controls",
          "model_name": "IntSliderModel",
          "state": {
            "_view_name": "IntSliderView",
            "style": "IPY_MODEL_cd929252ed2a42eaa306db64bb0422cc",
            "_dom_classes": [],
            "description": "n",
            "step": 1,
            "_model_name": "IntSliderModel",
            "orientation": "horizontal",
            "max": 5,
            "_view_module": "@jupyter-widgets/controls",
            "_model_module_version": "1.5.0",
            "value": 2,
            "_view_count": null,
            "disabled": false,
            "_view_module_version": "1.5.0",
            "min": 0,
            "continuous_update": true,
            "readout_format": "d",
            "description_tooltip": null,
            "readout": true,
            "_model_module": "@jupyter-widgets/controls",
            "layout": "IPY_MODEL_41d5d4ad2f4e4e16a1f4eee2cd263f4f"
          }
        },
        "9a60ecf7a7e14c62ba83fdbc23385d43": {
          "model_module": "@jupyter-widgets/output",
          "model_name": "OutputModel",
          "state": {
            "_view_name": "OutputView",
            "msg_id": "",
            "_dom_classes": [],
            "_model_name": "OutputModel",
            "outputs": [
              {
                "output_type": "stream",
                "metadata": {
                  "tags": []
                },
                "text": "string =  10\nStates reached =  {'I', 'S0'}\nStates reached =  {'I', 'F'}\n",
                "stream": "stdout"
              }
            ],
            "_view_module": "@jupyter-widgets/output",
            "_model_module_version": "1.0.0",
            "_view_count": null,
            "_view_module_version": "1.0.0",
            "layout": "IPY_MODEL_8478fd05234a41adb71526a992662122",
            "_model_module": "@jupyter-widgets/output"
          }
        },
        "9f8d82f8c6b14896971bc9f3821b6087": {
          "model_module": "@jupyter-widgets/controls",
          "model_name": "DescriptionStyleModel",
          "state": {
            "_view_name": "StyleView",
            "_model_name": "DescriptionStyleModel",
            "description_width": "",
            "_view_module": "@jupyter-widgets/base",
            "_model_module_version": "1.5.0",
            "_view_count": null,
            "_view_module_version": "1.2.0",
            "_model_module": "@jupyter-widgets/controls"
          }
        },
        "df9f9331533d49039ced59d2c430898b": {
          "model_module": "@jupyter-widgets/base",
          "model_name": "LayoutModel",
          "state": {
            "_view_name": "LayoutView",
            "grid_template_rows": null,
            "right": null,
            "justify_content": null,
            "_view_module": "@jupyter-widgets/base",
            "overflow": null,
            "_model_module_version": "1.2.0",
            "_view_count": null,
            "flex_flow": null,
            "width": null,
            "min_width": null,
            "border": null,
            "align_items": null,
            "bottom": null,
            "_model_module": "@jupyter-widgets/base",
            "top": null,
            "grid_column": null,
            "overflow_y": null,
            "overflow_x": null,
            "grid_auto_flow": null,
            "grid_area": null,
            "grid_template_columns": null,
            "flex": null,
            "_model_name": "LayoutModel",
            "justify_items": null,
            "grid_row": null,
            "max_height": null,
            "align_content": null,
            "visibility": null,
            "align_self": null,
            "height": null,
            "min_height": null,
            "padding": null,
            "grid_auto_rows": null,
            "grid_gap": null,
            "max_width": null,
            "order": null,
            "_view_module_version": "1.2.0",
            "grid_template_areas": null,
            "object_position": null,
            "object_fit": null,
            "grid_auto_columns": null,
            "margin": null,
            "display": null,
            "left": null
          }
        },
        "0a2bff867c0b45e7bf1a6f862e0eb2a5": {
          "model_module": "@jupyter-widgets/controls",
          "model_name": "DescriptionStyleModel",
          "state": {
            "_view_name": "StyleView",
            "_model_name": "DescriptionStyleModel",
            "description_width": "",
            "_view_module": "@jupyter-widgets/base",
            "_model_module_version": "1.5.0",
            "_view_count": null,
            "_view_module_version": "1.2.0",
            "_model_module": "@jupyter-widgets/controls"
          }
        },
        "6a5276c16a1d4ded88fd5a74ef469002": {
          "model_module": "@jupyter-widgets/base",
          "model_name": "LayoutModel",
          "state": {
            "_view_name": "LayoutView",
            "grid_template_rows": null,
            "right": null,
            "justify_content": null,
            "_view_module": "@jupyter-widgets/base",
            "overflow": null,
            "_model_module_version": "1.2.0",
            "_view_count": null,
            "flex_flow": null,
            "width": null,
            "min_width": null,
            "border": null,
            "align_items": null,
            "bottom": null,
            "_model_module": "@jupyter-widgets/base",
            "top": null,
            "grid_column": null,
            "overflow_y": null,
            "overflow_x": null,
            "grid_auto_flow": null,
            "grid_area": null,
            "grid_template_columns": null,
            "flex": null,
            "_model_name": "LayoutModel",
            "justify_items": null,
            "grid_row": null,
            "max_height": null,
            "align_content": null,
            "visibility": null,
            "align_self": null,
            "height": null,
            "min_height": null,
            "padding": null,
            "grid_auto_rows": null,
            "grid_gap": null,
            "max_width": null,
            "order": null,
            "_view_module_version": "1.2.0",
            "grid_template_areas": null,
            "object_position": null,
            "object_fit": null,
            "grid_auto_columns": null,
            "margin": null,
            "display": null,
            "left": null
          }
        },
        "cd929252ed2a42eaa306db64bb0422cc": {
          "model_module": "@jupyter-widgets/controls",
          "model_name": "SliderStyleModel",
          "state": {
            "_view_name": "StyleView",
            "handle_color": null,
            "_model_name": "SliderStyleModel",
            "description_width": "",
            "_view_module": "@jupyter-widgets/base",
            "_model_module_version": "1.5.0",
            "_view_count": null,
            "_view_module_version": "1.2.0",
            "_model_module": "@jupyter-widgets/controls"
          }
        },
        "41d5d4ad2f4e4e16a1f4eee2cd263f4f": {
          "model_module": "@jupyter-widgets/base",
          "model_name": "LayoutModel",
          "state": {
            "_view_name": "LayoutView",
            "grid_template_rows": null,
            "right": null,
            "justify_content": null,
            "_view_module": "@jupyter-widgets/base",
            "overflow": null,
            "_model_module_version": "1.2.0",
            "_view_count": null,
            "flex_flow": null,
            "width": null,
            "min_width": null,
            "border": null,
            "align_items": null,
            "bottom": null,
            "_model_module": "@jupyter-widgets/base",
            "top": null,
            "grid_column": null,
            "overflow_y": null,
            "overflow_x": null,
            "grid_auto_flow": null,
            "grid_area": null,
            "grid_template_columns": null,
            "flex": null,
            "_model_name": "LayoutModel",
            "justify_items": null,
            "grid_row": null,
            "max_height": null,
            "align_content": null,
            "visibility": null,
            "align_self": null,
            "height": null,
            "min_height": null,
            "padding": null,
            "grid_auto_rows": null,
            "grid_gap": null,
            "max_width": null,
            "order": null,
            "_view_module_version": "1.2.0",
            "grid_template_areas": null,
            "object_position": null,
            "object_fit": null,
            "grid_auto_columns": null,
            "margin": null,
            "display": null,
            "left": null
          }
        },
        "8478fd05234a41adb71526a992662122": {
          "model_module": "@jupyter-widgets/base",
          "model_name": "LayoutModel",
          "state": {
            "_view_name": "LayoutView",
            "grid_template_rows": null,
            "right": null,
            "justify_content": null,
            "_view_module": "@jupyter-widgets/base",
            "overflow": null,
            "_model_module_version": "1.2.0",
            "_view_count": null,
            "flex_flow": null,
            "width": null,
            "min_width": null,
            "border": null,
            "align_items": null,
            "bottom": null,
            "_model_module": "@jupyter-widgets/base",
            "top": null,
            "grid_column": null,
            "overflow_y": null,
            "overflow_x": null,
            "grid_auto_flow": null,
            "grid_area": null,
            "grid_template_columns": null,
            "flex": null,
            "_model_name": "LayoutModel",
            "justify_items": null,
            "grid_row": null,
            "max_height": null,
            "align_content": null,
            "visibility": null,
            "align_self": null,
            "height": null,
            "min_height": null,
            "padding": null,
            "grid_auto_rows": null,
            "grid_gap": null,
            "max_width": null,
            "order": null,
            "_view_module_version": "1.2.0",
            "grid_template_areas": null,
            "object_position": null,
            "object_fit": null,
            "grid_auto_columns": null,
            "margin": null,
            "display": null,
            "left": null
          }
        },
        "0807ffb6cd564e8883ac982f22a84981": {
          "model_module": "@jupyter-widgets/controls",
          "model_name": "VBoxModel",
          "state": {
            "_view_name": "VBoxView",
            "_dom_classes": [
              "widget-interact"
            ],
            "_model_name": "VBoxModel",
            "_view_module": "@jupyter-widgets/controls",
            "_model_module_version": "1.5.0",
            "_view_count": null,
            "_view_module_version": "1.5.0",
            "box_style": "",
            "layout": "IPY_MODEL_04b9d97083554c8ca198cef4baeeb382",
            "_model_module": "@jupyter-widgets/controls",
            "children": [
              "IPY_MODEL_71ff4f80edf74d338379076405ff815a",
              "IPY_MODEL_adda76b54ae4415f9ca276fe1447b841",
              "IPY_MODEL_4205f11bd6e44536b694907497ebf1ea",
              "IPY_MODEL_4551ef71a5ed406c83b3512695e8b365"
            ]
          }
        },
        "04b9d97083554c8ca198cef4baeeb382": {
          "model_module": "@jupyter-widgets/base",
          "model_name": "LayoutModel",
          "state": {
            "_view_name": "LayoutView",
            "grid_template_rows": null,
            "right": null,
            "justify_content": null,
            "_view_module": "@jupyter-widgets/base",
            "overflow": null,
            "_model_module_version": "1.2.0",
            "_view_count": null,
            "flex_flow": null,
            "width": null,
            "min_width": null,
            "border": null,
            "align_items": null,
            "bottom": null,
            "_model_module": "@jupyter-widgets/base",
            "top": null,
            "grid_column": null,
            "overflow_y": null,
            "overflow_x": null,
            "grid_auto_flow": null,
            "grid_area": null,
            "grid_template_columns": null,
            "flex": null,
            "_model_name": "LayoutModel",
            "justify_items": null,
            "grid_row": null,
            "max_height": null,
            "align_content": null,
            "visibility": null,
            "align_self": null,
            "height": null,
            "min_height": null,
            "padding": null,
            "grid_auto_rows": null,
            "grid_gap": null,
            "max_width": null,
            "order": null,
            "_view_module_version": "1.2.0",
            "grid_template_areas": null,
            "object_position": null,
            "object_fit": null,
            "grid_auto_columns": null,
            "margin": null,
            "display": null,
            "left": null
          }
        },
        "71ff4f80edf74d338379076405ff815a": {
          "model_module": "@jupyter-widgets/controls",
          "model_name": "DropdownModel",
          "state": {
            "_options_labels": [
              "N1"
            ],
            "_view_name": "DropdownView",
            "style": "IPY_MODEL_4223164ecf0148819b7c0486853bbef2",
            "_dom_classes": [],
            "description": "N",
            "_model_name": "DropdownModel",
            "index": 0,
            "_view_module": "@jupyter-widgets/controls",
            "_model_module_version": "1.5.0",
            "_view_count": null,
            "disabled": false,
            "_view_module_version": "1.5.0",
            "description_tooltip": null,
            "_model_module": "@jupyter-widgets/controls",
            "layout": "IPY_MODEL_700911732aa044efb97e7708bbdb23aa"
          }
        },
        "adda76b54ae4415f9ca276fe1447b841": {
          "model_module": "@jupyter-widgets/controls",
          "model_name": "TextModel",
          "state": {
            "_view_name": "TextView",
            "style": "IPY_MODEL_ef8c32df37da42e7992d74b3cc6f9d48",
            "_dom_classes": [],
            "description": "s",
            "_model_name": "TextModel",
            "placeholder": "​",
            "_view_module": "@jupyter-widgets/controls",
            "_model_module_version": "1.5.0",
            "value": "10010",
            "_view_count": null,
            "disabled": false,
            "_view_module_version": "1.5.0",
            "continuous_update": true,
            "description_tooltip": null,
            "_model_module": "@jupyter-widgets/controls",
            "layout": "IPY_MODEL_2b3f15e22fbb406ab488585cfee15e64"
          }
        },
        "4205f11bd6e44536b694907497ebf1ea": {
          "model_module": "@jupyter-widgets/controls",
          "model_name": "IntSliderModel",
          "state": {
            "_view_name": "IntSliderView",
            "style": "IPY_MODEL_0b25dc49d1aa4adb8b6a6185d89b9d70",
            "_dom_classes": [],
            "description": "n",
            "step": 1,
            "_model_name": "IntSliderModel",
            "orientation": "horizontal",
            "max": 5,
            "_view_module": "@jupyter-widgets/controls",
            "_model_module_version": "1.5.0",
            "value": 2,
            "_view_count": null,
            "disabled": false,
            "_view_module_version": "1.5.0",
            "min": 0,
            "continuous_update": true,
            "readout_format": "d",
            "description_tooltip": null,
            "readout": true,
            "_model_module": "@jupyter-widgets/controls",
            "layout": "IPY_MODEL_83f679a330584b05bf9a023aa91215c6"
          }
        },
        "4551ef71a5ed406c83b3512695e8b365": {
          "model_module": "@jupyter-widgets/output",
          "model_name": "OutputModel",
          "state": {
            "_view_name": "OutputView",
            "msg_id": "",
            "_dom_classes": [],
            "_model_name": "OutputModel",
            "outputs": [
              {
                "output_type": "stream",
                "metadata": {
                  "tags": []
                },
                "text": "string =  10\n{'F', 'I'}\n",
                "stream": "stdout"
              }
            ],
            "_view_module": "@jupyter-widgets/output",
            "_model_module_version": "1.0.0",
            "_view_count": null,
            "_view_module_version": "1.0.0",
            "layout": "IPY_MODEL_e6d4a30e7fe541f28e5474bb4c2091f8",
            "_model_module": "@jupyter-widgets/output"
          }
        },
        "4223164ecf0148819b7c0486853bbef2": {
          "model_module": "@jupyter-widgets/controls",
          "model_name": "DescriptionStyleModel",
          "state": {
            "_view_name": "StyleView",
            "_model_name": "DescriptionStyleModel",
            "description_width": "",
            "_view_module": "@jupyter-widgets/base",
            "_model_module_version": "1.5.0",
            "_view_count": null,
            "_view_module_version": "1.2.0",
            "_model_module": "@jupyter-widgets/controls"
          }
        },
        "700911732aa044efb97e7708bbdb23aa": {
          "model_module": "@jupyter-widgets/base",
          "model_name": "LayoutModel",
          "state": {
            "_view_name": "LayoutView",
            "grid_template_rows": null,
            "right": null,
            "justify_content": null,
            "_view_module": "@jupyter-widgets/base",
            "overflow": null,
            "_model_module_version": "1.2.0",
            "_view_count": null,
            "flex_flow": null,
            "width": null,
            "min_width": null,
            "border": null,
            "align_items": null,
            "bottom": null,
            "_model_module": "@jupyter-widgets/base",
            "top": null,
            "grid_column": null,
            "overflow_y": null,
            "overflow_x": null,
            "grid_auto_flow": null,
            "grid_area": null,
            "grid_template_columns": null,
            "flex": null,
            "_model_name": "LayoutModel",
            "justify_items": null,
            "grid_row": null,
            "max_height": null,
            "align_content": null,
            "visibility": null,
            "align_self": null,
            "height": null,
            "min_height": null,
            "padding": null,
            "grid_auto_rows": null,
            "grid_gap": null,
            "max_width": null,
            "order": null,
            "_view_module_version": "1.2.0",
            "grid_template_areas": null,
            "object_position": null,
            "object_fit": null,
            "grid_auto_columns": null,
            "margin": null,
            "display": null,
            "left": null
          }
        },
        "ef8c32df37da42e7992d74b3cc6f9d48": {
          "model_module": "@jupyter-widgets/controls",
          "model_name": "DescriptionStyleModel",
          "state": {
            "_view_name": "StyleView",
            "_model_name": "DescriptionStyleModel",
            "description_width": "",
            "_view_module": "@jupyter-widgets/base",
            "_model_module_version": "1.5.0",
            "_view_count": null,
            "_view_module_version": "1.2.0",
            "_model_module": "@jupyter-widgets/controls"
          }
        },
        "2b3f15e22fbb406ab488585cfee15e64": {
          "model_module": "@jupyter-widgets/base",
          "model_name": "LayoutModel",
          "state": {
            "_view_name": "LayoutView",
            "grid_template_rows": null,
            "right": null,
            "justify_content": null,
            "_view_module": "@jupyter-widgets/base",
            "overflow": null,
            "_model_module_version": "1.2.0",
            "_view_count": null,
            "flex_flow": null,
            "width": null,
            "min_width": null,
            "border": null,
            "align_items": null,
            "bottom": null,
            "_model_module": "@jupyter-widgets/base",
            "top": null,
            "grid_column": null,
            "overflow_y": null,
            "overflow_x": null,
            "grid_auto_flow": null,
            "grid_area": null,
            "grid_template_columns": null,
            "flex": null,
            "_model_name": "LayoutModel",
            "justify_items": null,
            "grid_row": null,
            "max_height": null,
            "align_content": null,
            "visibility": null,
            "align_self": null,
            "height": null,
            "min_height": null,
            "padding": null,
            "grid_auto_rows": null,
            "grid_gap": null,
            "max_width": null,
            "order": null,
            "_view_module_version": "1.2.0",
            "grid_template_areas": null,
            "object_position": null,
            "object_fit": null,
            "grid_auto_columns": null,
            "margin": null,
            "display": null,
            "left": null
          }
        },
        "0b25dc49d1aa4adb8b6a6185d89b9d70": {
          "model_module": "@jupyter-widgets/controls",
          "model_name": "SliderStyleModel",
          "state": {
            "_view_name": "StyleView",
            "handle_color": null,
            "_model_name": "SliderStyleModel",
            "description_width": "",
            "_view_module": "@jupyter-widgets/base",
            "_model_module_version": "1.5.0",
            "_view_count": null,
            "_view_module_version": "1.2.0",
            "_model_module": "@jupyter-widgets/controls"
          }
        },
        "83f679a330584b05bf9a023aa91215c6": {
          "model_module": "@jupyter-widgets/base",
          "model_name": "LayoutModel",
          "state": {
            "_view_name": "LayoutView",
            "grid_template_rows": null,
            "right": null,
            "justify_content": null,
            "_view_module": "@jupyter-widgets/base",
            "overflow": null,
            "_model_module_version": "1.2.0",
            "_view_count": null,
            "flex_flow": null,
            "width": null,
            "min_width": null,
            "border": null,
            "align_items": null,
            "bottom": null,
            "_model_module": "@jupyter-widgets/base",
            "top": null,
            "grid_column": null,
            "overflow_y": null,
            "overflow_x": null,
            "grid_auto_flow": null,
            "grid_area": null,
            "grid_template_columns": null,
            "flex": null,
            "_model_name": "LayoutModel",
            "justify_items": null,
            "grid_row": null,
            "max_height": null,
            "align_content": null,
            "visibility": null,
            "align_self": null,
            "height": null,
            "min_height": null,
            "padding": null,
            "grid_auto_rows": null,
            "grid_gap": null,
            "max_width": null,
            "order": null,
            "_view_module_version": "1.2.0",
            "grid_template_areas": null,
            "object_position": null,
            "object_fit": null,
            "grid_auto_columns": null,
            "margin": null,
            "display": null,
            "left": null
          }
        },
        "e6d4a30e7fe541f28e5474bb4c2091f8": {
          "model_module": "@jupyter-widgets/base",
          "model_name": "LayoutModel",
          "state": {
            "_view_name": "LayoutView",
            "grid_template_rows": null,
            "right": null,
            "justify_content": null,
            "_view_module": "@jupyter-widgets/base",
            "overflow": null,
            "_model_module_version": "1.2.0",
            "_view_count": null,
            "flex_flow": null,
            "width": null,
            "min_width": null,
            "border": null,
            "align_items": null,
            "bottom": null,
            "_model_module": "@jupyter-widgets/base",
            "top": null,
            "grid_column": null,
            "overflow_y": null,
            "overflow_x": null,
            "grid_auto_flow": null,
            "grid_area": null,
            "grid_template_columns": null,
            "flex": null,
            "_model_name": "LayoutModel",
            "justify_items": null,
            "grid_row": null,
            "max_height": null,
            "align_content": null,
            "visibility": null,
            "align_self": null,
            "height": null,
            "min_height": null,
            "padding": null,
            "grid_auto_rows": null,
            "grid_gap": null,
            "max_width": null,
            "order": null,
            "_view_module_version": "1.2.0",
            "grid_template_areas": null,
            "object_position": null,
            "object_fit": null,
            "grid_auto_columns": null,
            "margin": null,
            "display": null,
            "left": null
          }
        }
      }
    },
    "colab": {
      "name": "04_2_NFA_Problems.ipynb",
      "provenance": []
    }
  },
  "cells": [
    {
      "cell_type": "markdown",
      "metadata": {
        "run_control": {
          "frozen": false,
          "read_only": false
        },
        "id": "CoWWfIXh9Vif"
      },
      "source": [
        "# Imports first, then the Assignment (6 Tasks)\n"
      ]
    },
    {
      "cell_type": "code",
      "metadata": {
        "run_control": {
          "frozen": false,
          "read_only": false
        },
        "scrolled": true,
        "id": "iXI6yvN09Vio"
      },
      "source": [
        "#~~~~~~~~~~~~~~~~~~~~~~~~~~~~~~~~~~~~~~~~~~~~~~~~~~~~~~~\n",
        "import sys\n",
        "\n",
        "# -- Detect if in Own Install or in Colab\n",
        "try:\n",
        "    import google.colab\n",
        "    OWN_INSTALL = False\n",
        "except:\n",
        "    OWN_INSTALL = True\n",
        "    \n",
        "if OWN_INSTALL:\n",
        "    \n",
        "  #---- Leave these definitions ON if running on laptop\n",
        "  #---- Else turn OFF by putting them between ''' ... '''\n",
        "\n",
        "  sys.path[0:0] = ['../../../../..',  '../../../../../3rdparty',  \n",
        "                   '../../../..',  '../../../../3rdparty',  \n",
        "                   '../../..',     '../../../3rdparty', \n",
        "                   '../..',        '../../3rdparty',\n",
        "                   '..',           '../3rdparty' ]\n",
        "\n",
        "else: # In colab\n",
        "  ! if [ ! -d Jove ]; then git clone https://github.com/ganeshutah/Jove Jove; fi\n",
        "  sys.path.append('./Jove')\n",
        "  sys.path.append('./Jove/jove')\n",
        "\n",
        "# -- common imports --\n",
        "from jove.DotBashers import *\n",
        "from jove.Def_md2mc  import *\n",
        "from jove.Def_NFA    import *\n",
        "from jove.Def_DFA    import *\n",
        "from jove.AnimateNFA import *\n",
        "#~~~~~~~~~~~~~~~~~~~~~~~~~~~~~~~~~~~~~~~~~~~~~~~~~~~~~~~"
      ],
      "execution_count": 33,
      "outputs": []
    },
    {
      "cell_type": "markdown",
      "metadata": {
        "id": "xs8I5xos9Vir"
      },
      "source": [
        "# Task 1: Design an NFA for $\\{0,1\\}^* 1 0$ (\"Ends 10\")\n",
        "\n",
        "## It will be a 3-state NFA.\n",
        "\n",
        "## Name the states I, S0, and F.\n",
        "\n",
        "### Document each line of your Jove code with a short comment.\n"
      ]
    },
    {
      "cell_type": "code",
      "metadata": {
        "id": "EeNI7WQi9Vis"
      },
      "source": [
        "# SOLUTION\n",
        "\n",
        "nfaEnds10 = md2mc('''\n",
        "\n",
        "NFA \n",
        "\n",
        "I : 0|1 -> I\n",
        "I : 1 -> S0\n",
        "S0 : 0 -> F\n",
        " \n",
        "''')"
      ],
      "execution_count": 34,
      "outputs": []
    },
    {
      "cell_type": "code",
      "metadata": {
        "colab": {
          "base_uri": "https://localhost:8080/",
          "height": 149
        },
        "id": "P7q8PvVg9th7",
        "outputId": "3c895914-6dcb-46ee-df5e-2080e47ea6b5"
      },
      "source": [
        "dotObj_nfa(nfaEnds10, FuseEdges=True)"
      ],
      "execution_count": 35,
      "outputs": [
        {
          "output_type": "execute_result",
          "data": {
            "text/plain": [
              "<graphviz.dot.Digraph at 0x7f9515ea5940>"
            ],
            "image/svg+xml": "<?xml version=\"1.0\" encoding=\"UTF-8\" standalone=\"no\"?>\n<!DOCTYPE svg PUBLIC \"-//W3C//DTD SVG 1.1//EN\"\n \"http://www.w3.org/Graphics/SVG/1.1/DTD/svg11.dtd\">\n<!-- Generated by graphviz version 2.40.1 (20161225.0304)\n -->\n<!-- Title: %3 Pages: 1 -->\n<svg width=\"317pt\" height=\"96pt\"\n viewBox=\"0.00 0.00 316.60 96.00\" xmlns=\"http://www.w3.org/2000/svg\" xmlns:xlink=\"http://www.w3.org/1999/xlink\">\n<g id=\"graph0\" class=\"graph\" transform=\"scale(1 1) rotate(0) translate(4 92)\">\n<title>%3</title>\n<polygon fill=\"#ffffff\" stroke=\"transparent\" points=\"-4,4 -4,-92 312.5963,-92 312.5963,4 -4,4\"/>\n<!-- EMPTY -->\n<g id=\"node1\" class=\"node\">\n<title>EMPTY</title>\n</g>\n<!-- I -->\n<g id=\"node2\" class=\"node\">\n<title>I</title>\n<ellipse fill=\"none\" stroke=\"#000000\" cx=\"109\" cy=\"-22\" rx=\"18\" ry=\"18\"/>\n<text text-anchor=\"middle\" x=\"109\" y=\"-18.3\" font-family=\"Times,serif\" font-size=\"14.00\" fill=\"#000000\">I</text>\n</g>\n<!-- EMPTY&#45;&gt;I -->\n<g id=\"edge1\" class=\"edge\">\n<title>EMPTY&#45;&gt;I</title>\n<path fill=\"none\" stroke=\"#000000\" d=\"M54.3048,-22C62.6909,-22 71.9407,-22 80.4103,-22\"/>\n<polygon fill=\"#000000\" stroke=\"#000000\" points=\"80.5976,-25.5001 90.5976,-22 80.5976,-18.5001 80.5976,-25.5001\"/>\n</g>\n<!-- I&#45;&gt;I -->\n<g id=\"edge2\" class=\"edge\">\n<title>I&#45;&gt;I</title>\n<path fill=\"none\" stroke=\"#000000\" d=\"M102.6208,-39.0373C101.3189,-48.8579 103.4453,-58 109,-58 112.4717,-58 114.6042,-54.4289 115.3975,-49.3529\"/>\n<polygon fill=\"#000000\" stroke=\"#000000\" points=\"118.8971,-49.031 115.3792,-39.0373 111.8971,-49.0435 118.8971,-49.031\"/>\n<text text-anchor=\"middle\" x=\"109\" y=\"-76.8\" font-family=\"Times,serif\" font-size=\"14.00\" fill=\"#000000\">1 </text>\n<text text-anchor=\"middle\" x=\"109\" y=\"-61.8\" font-family=\"Times,serif\" font-size=\"14.00\" fill=\"#000000\"> 0 </text>\n</g>\n<!-- S0 -->\n<g id=\"node3\" class=\"node\">\n<title>S0</title>\n<ellipse fill=\"none\" stroke=\"#000000\" cx=\"195.7982\" cy=\"-22\" rx=\"20.5982\" ry=\"20.5982\"/>\n<text text-anchor=\"middle\" x=\"195.7982\" y=\"-18.3\" font-family=\"Times,serif\" font-size=\"14.00\" fill=\"#000000\">S0</text>\n</g>\n<!-- I&#45;&gt;S0 -->\n<g id=\"edge3\" class=\"edge\">\n<title>I&#45;&gt;S0</title>\n<path fill=\"none\" stroke=\"#000000\" d=\"M127.4077,-22C138.2934,-22 152.3613,-22 164.9052,-22\"/>\n<polygon fill=\"#000000\" stroke=\"#000000\" points=\"164.9803,-25.5001 174.9802,-22 164.9802,-18.5001 164.9803,-25.5001\"/>\n<text text-anchor=\"middle\" x=\"151\" y=\"-25.8\" font-family=\"Times,serif\" font-size=\"14.00\" fill=\"#000000\">1 </text>\n</g>\n<!-- F -->\n<g id=\"node4\" class=\"node\">\n<title>F</title>\n<ellipse fill=\"none\" stroke=\"#000000\" cx=\"286.5963\" cy=\"-22\" rx=\"18\" ry=\"18\"/>\n<ellipse fill=\"none\" stroke=\"#000000\" cx=\"286.5963\" cy=\"-22\" rx=\"22\" ry=\"22\"/>\n<text text-anchor=\"middle\" x=\"286.5963\" y=\"-18.3\" font-family=\"Times,serif\" font-size=\"14.00\" fill=\"#000000\">F</text>\n</g>\n<!-- S0&#45;&gt;F -->\n<g id=\"edge4\" class=\"edge\">\n<title>S0&#45;&gt;F</title>\n<path fill=\"none\" stroke=\"#000000\" d=\"M216.8573,-22C227.9898,-22 241.8945,-22 254.3526,-22\"/>\n<polygon fill=\"#000000\" stroke=\"#000000\" points=\"254.3846,-25.5001 264.3846,-22 254.3845,-18.5001 254.3846,-25.5001\"/>\n<text text-anchor=\"middle\" x=\"240.5963\" y=\"-25.8\" font-family=\"Times,serif\" font-size=\"14.00\" fill=\"#000000\">0 </text>\n</g>\n</g>\n</svg>\n"
          },
          "metadata": {
            "tags": []
          },
          "execution_count": 35
        }
      ]
    },
    {
      "cell_type": "markdown",
      "metadata": {
        "id": "pjcgaJPw9Vis"
      },
      "source": [
        "# Task 2: Determine States in Animation\n",
        "\n",
        "Put the above NFA in animation, and note down the set of states attained\n",
        "after the DFA has seen every character in 10010. More detailed instructions follow."
      ]
    },
    {
      "cell_type": "markdown",
      "metadata": {
        "id": "iqzDQtd79Vit"
      },
      "source": [
        "## Execute the cell below and follow the bulleted instructions:\n",
        "\n",
        "* When the animation pane comes up, type in 10010 and click Animate\n",
        "\n",
        "* Then click the \">|\" button, which is for single-stepping\n",
        "\n",
        "* Note down the results as you single-step, and fill answers in 1b(ii) below\n"
      ]
    },
    {
      "cell_type": "code",
      "metadata": {
        "scrolled": false,
        "colab": {
          "base_uri": "https://localhost:8080/",
          "height": 237,
          "referenced_widgets": [
            "03199ba108274f21832d5526b567c6ee",
            "7c0000022c014fe0858b156ffd647bf0",
            "1c01110586f94df086aefd981e8ba27d",
            "62124b28c98b43f4b8a04146c4bd50ed",
            "80880843481445c38ee481a30beb93e9",
            "f271ea40cfbb41bba501d10fd54b4777",
            "60dcf187bc854312ad9aa1b34f8d7202",
            "0a4860f2d33246bdb760b3ca78025164",
            "500e0b0d1860431daa3a30e7f6fe0440",
            "1158f0ee2bf440b382f491f4936512e2",
            "2b3ea7bb8167444c84cb8c371a42ad87",
            "c78fdf60632541bab10d664ba2d0f9f5",
            "4320863e6f8147f1a0467b75988de262",
            "8bd63f5541d44a7197870e9c9be8e0eb",
            "fcfac18607ed4af585b0d09ce7d6486b",
            "dc2c04e7b43541da8f2de962497f3ec7",
            "0a61c187044445c894b26fc6387f0399",
            "6d6c78d519f74ce8bce2cdd96e1fbbd1",
            "72fe71857f574eea8e4dac73db654373",
            "c8195bad42f64574a084265104067e11",
            "f36f91202c2f4827aaac985eb9a5f93a",
            "26046632c2cd47a697308761bf0bf2bb",
            "25e6ae716faf473a93de14668706a1e5",
            "1de4e451acc842d1a5950ac5000b508d",
            "b81fa46b7b02484485fc1a04cc886772",
            "bb5cdb2ad0ab40a39b7718dd906786f5",
            "a348648e9b67495ead5a996b69efb12a",
            "972dfdaaebf54e52bd25b6eee21f4b43"
          ]
        },
        "id": "mDXwBAWQ9Viu",
        "outputId": "c1c465b3-16ec-4781-96ad-6284fb8666dc"
      },
      "source": [
        "AnimateNFA(nfaEnds10, FuseEdges=False)\n",
        "display(HTML('<link rel=\\\"stylesheet\\\" href=\\\"//stackpath.bootstrapcdn.com/font-awesome/4.7.0/css/font-awesome.min.css\\\"/>'))"
      ],
      "execution_count": 36,
      "outputs": [
        {
          "output_type": "display_data",
          "data": {
            "application/vnd.jupyter.widget-view+json": {
              "model_id": "03199ba108274f21832d5526b567c6ee",
              "version_minor": 0,
              "version_major": 2
            },
            "text/plain": [
              "VBox(children=(HBox(children=(Text(value='', description='Input:', layout=Layout(width='500px'), placeholder='…"
            ]
          },
          "metadata": {
            "tags": []
          }
        },
        {
          "output_type": "display_data",
          "data": {
            "text/html": [
              "<link rel=\"stylesheet\" href=\"//stackpath.bootstrapcdn.com/font-awesome/4.7.0/css/font-awesome.min.css\"/>"
            ],
            "text/plain": [
              "<IPython.core.display.HTML object>"
            ]
          },
          "metadata": {
            "tags": []
          }
        }
      ]
    },
    {
      "cell_type": "markdown",
      "metadata": {
        "id": "T-MQKgZM9Viv"
      },
      "source": [
        "## Provide these answers based on single-stepping the animation (please type in a SET OF STATES - else no credit). \n",
        "\n",
        "## Also say whether a token dropped out of the diagram (with the move on a symbol being undefined) and whether the state reached is final. \n",
        "\n",
        "### SET of states before consuming any of 10010 = ..fill.. . \n",
        "#### A Token Dropped Out / The SET of states reached is FINAL / NONE OF THESE (retain what apply)\n",
        "\n",
        "### SET of states AFTER consuming \"1\" and before consuming \"0010\"  = ..fill..\n",
        "#### A Token Dropped Out / The SET of states reached is FINAL / NONE OF THESE (retain what apply)\n",
        "\n",
        "### SET of states AFTER consuming \"10\" and before consuming \"010\"  = ..fill..\n",
        "#### A Token Dropped Out / The SET of states reached is FINAL / NONE OF THESE (retain what apply)\n",
        "\n",
        "### SET of states AFTER consuming \"100\" and before consuming \"10\"  = ..fill..\n",
        "#### A Token Dropped Out / The SET of states reached is FINAL / NONE OF THESE (retain what apply)\n",
        "\n",
        "### SET of states AFTER consuming \"1001\" and before consuming \"0\"  = ..fill..\n",
        "#### A Token Dropped Out / The SET of states reached is FINAL / NONE OF THESE (retain what apply)\n",
        "\n",
        "### SET of states AFTER consuming \"10010\" entirely  = ..fill..\n",
        "#### A Token Dropped Out / The SET of states reached is FINAL / NONE OF THESE (retain what apply)"
      ]
    },
    {
      "cell_type": "markdown",
      "metadata": {
        "id": "M4_RPgUycPil"
      },
      "source": [
        "I can use the run_nfa function to see what states are achieved after consuming the first n characters of the input string."
      ]
    },
    {
      "cell_type": "code",
      "metadata": {
        "colab": {
          "base_uri": "https://localhost:8080/",
          "height": 180,
          "referenced_widgets": [
            "7be49de48c9e4b6fbf3bcc2c531738d4",
            "aa286557a8524a09a74f5a00f93c32b6",
            "c6115c5dee0e467d9bb170505671ed89",
            "eb5e0ddd14754ef4af40a2f47379c7f8",
            "b1d532c88fac40c8a67db0879c53cf71",
            "9a60ecf7a7e14c62ba83fdbc23385d43",
            "9f8d82f8c6b14896971bc9f3821b6087",
            "df9f9331533d49039ced59d2c430898b",
            "0a2bff867c0b45e7bf1a6f862e0eb2a5",
            "6a5276c16a1d4ded88fd5a74ef469002",
            "cd929252ed2a42eaa306db64bb0422cc",
            "41d5d4ad2f4e4e16a1f4eee2cd263f4f",
            "8478fd05234a41adb71526a992662122"
          ]
        },
        "id": "ZnTrcTICRAva",
        "outputId": "06997c60-b844-4a42-ce76-e1857f32c4a1"
      },
      "source": [
        "import ipywidgets as wdg\r\n",
        "def run_nfa_slider(N, s, n):\r\n",
        "  S = N['Q0']\r\n",
        "  if n > len(s):\r\n",
        "    n = len(s)\r\n",
        "  print(\"string = \", s[0:n])\r\n",
        "  run_nfa(N,S,s[0:n], True)\r\n",
        "  \r\n",
        "def run_nfa_int(N1):\r\n",
        "  inp = input(\"Please Provide Input String: \")\r\n",
        "  wdg.interact(run_nfa_slider, N={'N1' : N1}, s = inp, n=(0,len(inp)))\r\n",
        "\r\n",
        "run_nfa_int(nfaEnds10)"
      ],
      "execution_count": 37,
      "outputs": [
        {
          "output_type": "stream",
          "text": [
            "Please Provide Input String: 10010\n"
          ],
          "name": "stdout"
        },
        {
          "output_type": "display_data",
          "data": {
            "application/vnd.jupyter.widget-view+json": {
              "model_id": "7be49de48c9e4b6fbf3bcc2c531738d4",
              "version_minor": 0,
              "version_major": 2
            },
            "text/plain": [
              "interactive(children=(Dropdown(description='N', options={'N1': {'Q': {'I', 'S0', 'F'}, 'Sigma': {'1', '0'}, 'D…"
            ]
          },
          "metadata": {
            "tags": []
          }
        }
      ]
    },
    {
      "cell_type": "markdown",
      "metadata": {
        "id": "ED-owzYJb6P0"
      },
      "source": [
        "| Input Consumed | States Reached | Token Dropped |\r\n",
        "|---|---|---|\r\n",
        "| '' | {} | {} |\r\n",
        "| 1 | {I, S0} | {} |\r\n",
        "| 10 | {I,F} | {} |\r\n",
        "| 100 | {I} | {F} |\r\n",
        "| 1001 | {I, S0} | {} |\r\n",
        "| 10010 | {I, F} | Final State |\r\n"
      ]
    },
    {
      "cell_type": "markdown",
      "metadata": {
        "id": "e3ybS_8P9Viw"
      },
      "source": [
        "# Task 3: Convert the NFA to a DFA and answer questions\n",
        "\n",
        "Convert the NFA to a DFA by the command below, and answer the questions below."
      ]
    },
    {
      "cell_type": "code",
      "metadata": {
        "colab": {
          "base_uri": "https://localhost:8080/",
          "height": 200
        },
        "id": "BhKWYfPR9Viw",
        "outputId": "6150b454-be20-4d99-98fd-f41a1f0f1195"
      },
      "source": [
        "dotObj_dfa(nfa2dfa(nfaEnds10, STATENAME_MAXSIZE=50), STATENAME_MAXSIZE=50)"
      ],
      "execution_count": 38,
      "outputs": [
        {
          "output_type": "execute_result",
          "data": {
            "text/plain": [
              "<graphviz.dot.Digraph at 0x7f9515e880b8>"
            ],
            "image/svg+xml": "<?xml version=\"1.0\" encoding=\"UTF-8\" standalone=\"no\"?>\n<!DOCTYPE svg PUBLIC \"-//W3C//DTD SVG 1.1//EN\"\n \"http://www.w3.org/Graphics/SVG/1.1/DTD/svg11.dtd\">\n<!-- Generated by graphviz version 2.40.1 (20161225.0304)\n -->\n<!-- Title: %3 Pages: 1 -->\n<svg width=\"344pt\" height=\"134pt\"\n viewBox=\"0.00 0.00 344.29 133.60\" xmlns=\"http://www.w3.org/2000/svg\" xmlns:xlink=\"http://www.w3.org/1999/xlink\">\n<g id=\"graph0\" class=\"graph\" transform=\"scale(1 1) rotate(0) translate(4 129.5975)\">\n<title>%3</title>\n<polygon fill=\"#ffffff\" stroke=\"transparent\" points=\"-4,4 -4,-129.5975 340.2907,-129.5975 340.2907,4 -4,4\"/>\n<!-- EMPTY -->\n<g id=\"node1\" class=\"node\">\n<title>EMPTY</title>\n</g>\n<!-- I -->\n<g id=\"node2\" class=\"node\">\n<title>I</title>\n<ellipse fill=\"none\" stroke=\"#000000\" cx=\"109\" cy=\"-18\" rx=\"18\" ry=\"18\"/>\n<text text-anchor=\"middle\" x=\"109\" y=\"-14.3\" font-family=\"Times,serif\" font-size=\"14.00\" fill=\"#000000\">I</text>\n</g>\n<!-- EMPTY&#45;&gt;I -->\n<g id=\"edge1\" class=\"edge\">\n<title>EMPTY&#45;&gt;I</title>\n<path fill=\"none\" stroke=\"#000000\" d=\"M54.3048,-18C62.6909,-18 71.9407,-18 80.4103,-18\"/>\n<polygon fill=\"#000000\" stroke=\"#000000\" points=\"80.5976,-21.5001 90.5976,-18 80.5976,-14.5001 80.5976,-21.5001\"/>\n</g>\n<!-- I&#45;&gt;I -->\n<g id=\"edge3\" class=\"edge\">\n<title>I&#45;&gt;I</title>\n<path fill=\"none\" stroke=\"#000000\" d=\"M102.6208,-35.0373C101.3189,-44.8579 103.4453,-54 109,-54 112.4717,-54 114.6042,-50.4289 115.3975,-45.3529\"/>\n<polygon fill=\"#000000\" stroke=\"#000000\" points=\"118.8971,-45.031 115.3792,-35.0373 111.8971,-45.0435 118.8971,-45.031\"/>\n<text text-anchor=\"middle\" x=\"109\" y=\"-57.8\" font-family=\"Times,serif\" font-size=\"14.00\" fill=\"#000000\">0 </text>\n</g>\n<!-- I_S0 -->\n<g id=\"node3\" class=\"node\">\n<title>I_S0</title>\n<ellipse fill=\"none\" stroke=\"#000000\" cx=\"203.5975\" cy=\"-64\" rx=\"28.6953\" ry=\"28.6953\"/>\n<text text-anchor=\"middle\" x=\"203.5975\" y=\"-60.3\" font-family=\"Times,serif\" font-size=\"14.00\" fill=\"#000000\">I_S0</text>\n</g>\n<!-- I&#45;&gt;I_S0 -->\n<g id=\"edge2\" class=\"edge\">\n<title>I&#45;&gt;I_S0</title>\n<path fill=\"none\" stroke=\"#000000\" d=\"M125.4776,-26.0126C137.2888,-31.756 153.6416,-39.7079 168.3345,-46.8526\"/>\n<polygon fill=\"#000000\" stroke=\"#000000\" points=\"167.162,-50.1743 177.6857,-51.3999 170.2232,-43.8791 167.162,-50.1743\"/>\n<text text-anchor=\"middle\" x=\"151\" y=\"-44.8\" font-family=\"Times,serif\" font-size=\"14.00\" fill=\"#000000\">1 </text>\n</g>\n<!-- I_S0&#45;&gt;I_S0 -->\n<g id=\"edge4\" class=\"edge\">\n<title>I_S0&#45;&gt;I_S0</title>\n<path fill=\"none\" stroke=\"#000000\" d=\"M193.8855,-91.2819C193.4539,-101.8301 196.6912,-110.5975 203.5975,-110.5975 208.0218,-110.5975 210.9404,-106.9993 212.3532,-101.6399\"/>\n<polygon fill=\"#000000\" stroke=\"#000000\" points=\"215.8753,-101.5613 213.3094,-91.2819 208.9049,-100.9178 215.8753,-101.5613\"/>\n<text text-anchor=\"middle\" x=\"203.5975\" y=\"-114.3975\" font-family=\"Times,serif\" font-size=\"14.00\" fill=\"#000000\">1 </text>\n</g>\n<!-- F_I -->\n<g id=\"node4\" class=\"node\">\n<title>F_I</title>\n<ellipse fill=\"none\" stroke=\"#000000\" cx=\"308.2428\" cy=\"-35\" rx=\"24.089\" ry=\"24.089\"/>\n<ellipse fill=\"none\" stroke=\"#000000\" cx=\"308.2428\" cy=\"-35\" rx=\"28.0958\" ry=\"28.0958\"/>\n<text text-anchor=\"middle\" x=\"308.2428\" y=\"-31.3\" font-family=\"Times,serif\" font-size=\"14.00\" fill=\"#000000\">F_I</text>\n</g>\n<!-- I_S0&#45;&gt;F_I -->\n<g id=\"edge5\" class=\"edge\">\n<title>I_S0&#45;&gt;F_I</title>\n<path fill=\"none\" stroke=\"#000000\" d=\"M231.7808,-58.441C241.4805,-56.3447 252.3703,-53.7865 262.1949,-51 265.3703,-50.0994 268.647,-49.1018 271.9203,-48.0578\"/>\n<polygon fill=\"#000000\" stroke=\"#000000\" points=\"273.2372,-51.3085 281.6256,-44.8366 271.0321,-44.6649 273.2372,-51.3085\"/>\n<text text-anchor=\"middle\" x=\"256.1949\" y=\"-57.8\" font-family=\"Times,serif\" font-size=\"14.00\" fill=\"#000000\">0 </text>\n</g>\n<!-- F_I&#45;&gt;I -->\n<g id=\"edge7\" class=\"edge\">\n<title>F_I&#45;&gt;I</title>\n<path fill=\"none\" stroke=\"#000000\" d=\"M281.9702,-24.5225C267.5346,-19.3263 249.1621,-13.6138 232.1949,-11 199.7742,-6.0056 162.0617,-9.4904 136.9873,-13.0977\"/>\n<polygon fill=\"#000000\" stroke=\"#000000\" points=\"136.4173,-9.6441 127.0672,-14.6268 137.4837,-16.5624 136.4173,-9.6441\"/>\n<text text-anchor=\"middle\" x=\"203.5975\" y=\"-14.8\" font-family=\"Times,serif\" font-size=\"14.00\" fill=\"#000000\">0 </text>\n</g>\n<!-- F_I&#45;&gt;I_S0 -->\n<g id=\"edge6\" class=\"edge\">\n<title>F_I&#45;&gt;I_S0</title>\n<path fill=\"none\" stroke=\"#000000\" d=\"M280.584,-29.684C270.7985,-28.8129 259.8328,-29.0093 250.1949,-32 244.5507,-33.7514 238.9835,-36.4495 233.7693,-39.552\"/>\n<polygon fill=\"#000000\" stroke=\"#000000\" points=\"231.817,-36.6469 225.3764,-45.0594 235.6573,-42.4994 231.817,-36.6469\"/>\n<text text-anchor=\"middle\" x=\"256.1949\" y=\"-35.8\" font-family=\"Times,serif\" font-size=\"14.00\" fill=\"#000000\">1 </text>\n</g>\n</g>\n</svg>\n"
          },
          "metadata": {
            "tags": []
          },
          "execution_count": 38
        }
      ]
    },
    {
      "cell_type": "code",
      "metadata": {
        "id": "1qt1iJn5dXrl",
        "outputId": "8259afa8-7b94-4a4c-ab60-dc7062b77c6e",
        "colab": {
          "base_uri": "https://localhost:8080/",
          "height": 163,
          "referenced_widgets": [
            "0807ffb6cd564e8883ac982f22a84981",
            "04b9d97083554c8ca198cef4baeeb382",
            "71ff4f80edf74d338379076405ff815a",
            "adda76b54ae4415f9ca276fe1447b841",
            "4205f11bd6e44536b694907497ebf1ea",
            "4551ef71a5ed406c83b3512695e8b365",
            "4223164ecf0148819b7c0486853bbef2",
            "700911732aa044efb97e7708bbdb23aa",
            "ef8c32df37da42e7992d74b3cc6f9d48",
            "2b3f15e22fbb406ab488585cfee15e64",
            "0b25dc49d1aa4adb8b6a6185d89b9d70",
            "83f679a330584b05bf9a023aa91215c6",
            "e6d4a30e7fe541f28e5474bb4c2091f8"
          ]
        }
      },
      "source": [
        "def run_dfa_slider(N, s, n):\r\n",
        "  S = N['Q']\r\n",
        "  if n > len(s):\r\n",
        "    n = len(s)\r\n",
        "  print(\"string = \", s[0:n])\r\n",
        "  print(run_dfa(N, s[0:n]))\r\n",
        "  \r\n",
        "def run_dfa_int(N1):\r\n",
        "  inp = input(\"Please Provide Input String: \")\r\n",
        "  wdg.interact(run_dfa_slider, N={'N1' : N1}, s = inp, n=(0,len(inp)))\r\n",
        "\r\n",
        "\r\n",
        "run_dfa_int(nfa2dfa(nfaEnds10, STATENAME_MAXSIZE=50))"
      ],
      "execution_count": 39,
      "outputs": [
        {
          "output_type": "stream",
          "text": [
            "Please Provide Input String: 10010\n"
          ],
          "name": "stdout"
        },
        {
          "output_type": "display_data",
          "data": {
            "application/vnd.jupyter.widget-view+json": {
              "model_id": "0807ffb6cd564e8883ac982f22a84981",
              "version_minor": 0,
              "version_major": 2
            },
            "text/plain": [
              "interactive(children=(Dropdown(description='N', options={'N1': {'Q': {\"{'I'}\", \"{'I', 'S0'}\", \"{'F', 'I'}\"}, '…"
            ]
          },
          "metadata": {
            "tags": []
          }
        }
      ]
    },
    {
      "cell_type": "markdown",
      "metadata": {
        "id": "DCR-O6Ep9Vix"
      },
      "source": [
        "#### State DFA is in after 10010 = \n",
        "\n",
        "\n",
        "\n",
        "\n",
        "\n"
      ]
    },
    {
      "cell_type": "markdown",
      "metadata": {
        "id": "0ohqbGl_eq1e"
      },
      "source": [
        "F_I"
      ]
    },
    {
      "cell_type": "markdown",
      "metadata": {
        "id": "gkJd9W8Jep2U"
      },
      "source": [
        "#### Set of states NFA is in after 10010 (last ans of 1b(ii) ) = "
      ]
    },
    {
      "cell_type": "markdown",
      "metadata": {
        "id": "jnpKJT6yeoO7"
      },
      "source": [
        "{I,F}"
      ]
    },
    {
      "cell_type": "markdown",
      "metadata": {
        "id": "_Y0uAJE5elS0"
      },
      "source": [
        "#### Do the above match? Recall that for an NFA set of states (A,B), a DFA state may be named A_B or B_A. We use \"match\" in this sense."
      ]
    },
    {
      "cell_type": "markdown",
      "metadata": {
        "id": "K4P-ioUPegdF"
      },
      "source": [
        "Yes"
      ]
    },
    {
      "cell_type": "markdown",
      "metadata": {
        "id": "Ct-zrxZ7eiNU"
      },
      "source": [
        "#### Reason that the above should match? Please provide a sentence stating when a DFA accepts and when an NFA accepts in terms of its tokens being in many states that includes a final state.\r\n"
      ]
    },
    {
      "cell_type": "markdown",
      "metadata": {
        "id": "ltQFNHfwejJ8"
      },
      "source": [
        "\r\n",
        "Because the NFA is equivelant to the DFA we would expect that if one accepts a string than the other will also accept the string. In order for them to accept then they must both be on the final state."
      ]
    },
    {
      "cell_type": "markdown",
      "metadata": {
        "id": "X-4Ze0mH9Viy"
      },
      "source": [
        "# Task 4: Design an NFA for $\\{\\varepsilon, 0\\}$ \n",
        "### It will be a 2-state NFA with an IF state and a final state (call that final state \"F2\" )"
      ]
    },
    {
      "cell_type": "code",
      "metadata": {
        "id": "dBswKUVh9Viy"
      },
      "source": [
        "nfaEps0 = md2mc('''\n",
        "NFA \n",
        "\n",
        "IF : 0 -> F2 \n",
        "''')"
      ],
      "execution_count": 40,
      "outputs": []
    },
    {
      "cell_type": "code",
      "metadata": {
        "colab": {
          "base_uri": "https://localhost:8080/",
          "height": 98
        },
        "id": "eEY3872e9Viz",
        "outputId": "f95c612c-bd25-44b2-8230-f9d4b247de5f"
      },
      "source": [
        "dotObj_nfa(nfaEps0)"
      ],
      "execution_count": 41,
      "outputs": [
        {
          "output_type": "execute_result",
          "data": {
            "text/plain": [
              "<graphviz.dot.Digraph at 0x7f951db4e320>"
            ],
            "image/svg+xml": "<?xml version=\"1.0\" encoding=\"UTF-8\" standalone=\"no\"?>\n<!DOCTYPE svg PUBLIC \"-//W3C//DTD SVG 1.1//EN\"\n \"http://www.w3.org/Graphics/SVG/1.1/DTD/svg11.dtd\">\n<!-- Generated by graphviz version 2.40.1 (20161225.0304)\n -->\n<!-- Title: %3 Pages: 1 -->\n<svg width=\"242pt\" height=\"58pt\"\n viewBox=\"0.00 0.00 242.29 57.60\" xmlns=\"http://www.w3.org/2000/svg\" xmlns:xlink=\"http://www.w3.org/1999/xlink\">\n<g id=\"graph0\" class=\"graph\" transform=\"scale(1 1) rotate(0) translate(4 53.5963)\">\n<title>%3</title>\n<polygon fill=\"#ffffff\" stroke=\"transparent\" points=\"-4,4 -4,-53.5963 238.293,-53.5963 238.293,4 -4,4\"/>\n<!-- EMPTY -->\n<g id=\"node1\" class=\"node\">\n<title>EMPTY</title>\n</g>\n<!-- IF -->\n<g id=\"node2\" class=\"node\">\n<title>IF</title>\n<ellipse fill=\"none\" stroke=\"#000000\" cx=\"113.8483\" cy=\"-24.7982\" rx=\"18.724\" ry=\"18.724\"/>\n<ellipse fill=\"none\" stroke=\"#000000\" cx=\"113.8483\" cy=\"-24.7982\" rx=\"22.6977\" ry=\"22.6977\"/>\n<text text-anchor=\"middle\" x=\"113.8483\" y=\"-21.0982\" font-family=\"Times,serif\" font-size=\"14.00\" fill=\"#000000\">IF</text>\n</g>\n<!-- EMPTY&#45;&gt;IF -->\n<g id=\"edge1\" class=\"edge\">\n<title>EMPTY&#45;&gt;IF</title>\n<path fill=\"none\" stroke=\"#000000\" d=\"M54.0033,-24.7982C62.5212,-24.7982 72.0276,-24.7982 80.9112,-24.7982\"/>\n<polygon fill=\"#000000\" stroke=\"#000000\" points=\"80.9572,-28.2983 90.9572,-24.7982 80.9572,-21.2983 80.9572,-28.2983\"/>\n</g>\n<!-- F2 -->\n<g id=\"node3\" class=\"node\">\n<title>F2</title>\n<ellipse fill=\"none\" stroke=\"#000000\" cx=\"209.4948\" cy=\"-24.7982\" rx=\"20.6302\" ry=\"20.6302\"/>\n<ellipse fill=\"none\" stroke=\"#000000\" cx=\"209.4948\" cy=\"-24.7982\" rx=\"24.5979\" ry=\"24.5979\"/>\n<text text-anchor=\"middle\" x=\"209.4948\" y=\"-21.0982\" font-family=\"Times,serif\" font-size=\"14.00\" fill=\"#000000\">F2</text>\n</g>\n<!-- IF&#45;&gt;F2 -->\n<g id=\"edge2\" class=\"edge\">\n<title>IF&#45;&gt;F2</title>\n<path fill=\"none\" stroke=\"#000000\" d=\"M137.0017,-24.7982C148.2318,-24.7982 161.9613,-24.7982 174.4394,-24.7982\"/>\n<polygon fill=\"#000000\" stroke=\"#000000\" points=\"174.5444,-28.2983 184.5444,-24.7982 174.5443,-21.2983 174.5444,-28.2983\"/>\n<text text-anchor=\"middle\" x=\"160.6967\" y=\"-28.5982\" font-family=\"Times,serif\" font-size=\"14.00\" fill=\"#000000\">0 </text>\n</g>\n</g>\n</svg>\n"
          },
          "metadata": {
            "tags": []
          },
          "execution_count": 41
        }
      ]
    },
    {
      "cell_type": "markdown",
      "metadata": {
        "id": "dTrM0nl19Viz"
      },
      "source": [
        "# A tutorial on Concatenating NFA\n",
        "\n",
        "Watch this video, then do Task 5.\n",
        "\n",
        "To watch the video separately in Youtube in large size, \n",
        "visit https://youtu.be/VWyOT1uYfIc\n",
        "\n",
        "Otherwise just run the command below!"
      ]
    },
    {
      "cell_type": "code",
      "metadata": {
        "id": "WsahqZmg9Viz",
        "outputId": "b74b1dab-7e19-44d5-ee0c-4b7de24414b7",
        "colab": {
          "base_uri": "https://localhost:8080/",
          "height": 321
        }
      },
      "source": [
        "# NFA Concatenation\n",
        "from IPython.display import YouTubeVideo\n",
        "YouTubeVideo('VWyOT1uYfIc')"
      ],
      "execution_count": 42,
      "outputs": [
        {
          "output_type": "execute_result",
          "data": {
            "text/html": [
              "\n",
              "        <iframe\n",
              "            width=\"400\"\n",
              "            height=\"300\"\n",
              "            src=\"https://www.youtube.com/embed/VWyOT1uYfIc\"\n",
              "            frameborder=\"0\"\n",
              "            allowfullscreen\n",
              "        ></iframe>\n",
              "        "
            ],
            "text/plain": [
              "<IPython.lib.display.YouTubeVideo at 0x7f9515e54978>"
            ],
            "image/jpeg": "[encoded data removed]"
          },
          "metadata": {
            "tags": []
          },
          "execution_count": 42
        }
      ]
    },
    {
      "cell_type": "markdown",
      "metadata": {
        "id": "QYL8kmz39Vi0"
      },
      "source": [
        "# Task 5: Develop a Concatenation NFA\n",
        "\n",
        "## Concatenate nfaEnds10 and nfaEps0 to obtain NFAEnds10Eps0.\n",
        "\n",
        "### Follow the steps in the above video.\n",
        "\n",
        "### Describe the steps in a few bullets below, then finish the notebook code cell that defines NFAEnds10Eps0 below where space is provided for your work.\n"
      ]
    },
    {
      "cell_type": "markdown",
      "metadata": {
        "id": "5TuoFy_C9Vi0"
      },
      "source": [
        "# Show the full Concatenation NFA below\n"
      ]
    },
    {
      "cell_type": "code",
      "metadata": {
        "run_control": {
          "frozen": false,
          "read_only": false
        },
        "id": "eqe4UwOB9Vi0"
      },
      "source": [
        "# Here is the resulting NFA\n",
        "\n",
        "NFAEnds10Eps0 = md2mc('''\n",
        "NFA \n",
        "\n",
        "!!---- Put NFA 1's transitions below, \n",
        "!!----  after suitably renaming states to make final states non-final etc.\n",
        " \n",
        "\n",
        "I : 0|1 -> I\n",
        "I : 1 -> S0\n",
        "S0 : 0 -> S1\n",
        "\n",
        "\n",
        "\n",
        "\n",
        "\n",
        "!!--- put the \"bridge\" transition below\n",
        " S1 : '' -> FS2\n",
        " \n",
        "\n",
        "!!--- put NFA 2's transitions below, again after suitable state renamings as above\n",
        "FS2 : 0 -> F\n",
        " \n",
        "\n",
        "''')"
      ],
      "execution_count": 43,
      "outputs": []
    },
    {
      "cell_type": "markdown",
      "metadata": {
        "id": "bSysQJ_g9Vi1"
      },
      "source": [
        "## Draw the concat NFA and convert to a DFA\n",
        "\n",
        "... Run the THREE commands below, and then move on to do Task 6 \n",
        "... based on the results you observe from these commands.\n"
      ]
    },
    {
      "cell_type": "code",
      "metadata": {
        "colab": {
          "base_uri": "https://localhost:8080/",
          "height": 185
        },
        "id": "9jw_TwWf9Vi1",
        "outputId": "a7bd73db-c8cd-410b-f78c-9161a540c0e3"
      },
      "source": [
        "# command-1\n",
        "dotObj_nfa(NFAEnds10Eps0)"
      ],
      "execution_count": 44,
      "outputs": [
        {
          "output_type": "execute_result",
          "data": {
            "text/plain": [
              "<graphviz.dot.Digraph at 0x7f9515de3240>"
            ],
            "image/svg+xml": "<?xml version=\"1.0\" encoding=\"UTF-8\" standalone=\"no\"?>\n<!DOCTYPE svg PUBLIC \"-//W3C//DTD SVG 1.1//EN\"\n \"http://www.w3.org/Graphics/SVG/1.1/DTD/svg11.dtd\">\n<!-- Generated by graphviz version 2.40.1 (20161225.0304)\n -->\n<!-- Title: %3 Pages: 1 -->\n<svg width=\"512pt\" height=\"123pt\"\n viewBox=\"0.00 0.00 512.49 122.65\" xmlns=\"http://www.w3.org/2000/svg\" xmlns:xlink=\"http://www.w3.org/1999/xlink\">\n<g id=\"graph0\" class=\"graph\" transform=\"scale(1 1) rotate(0) translate(4 118.6476)\">\n<title>%3</title>\n<polygon fill=\"#ffffff\" stroke=\"transparent\" points=\"-4,4 -4,-118.6476 508.4879,-118.6476 508.4879,4 -4,4\"/>\n<!-- EMPTY -->\n<g id=\"node1\" class=\"node\">\n<title>EMPTY</title>\n</g>\n<!-- I -->\n<g id=\"node2\" class=\"node\">\n<title>I</title>\n<ellipse fill=\"none\" stroke=\"#000000\" cx=\"109\" cy=\"-30.6476\" rx=\"18\" ry=\"18\"/>\n<text text-anchor=\"middle\" x=\"109\" y=\"-26.9476\" font-family=\"Times,serif\" font-size=\"14.00\" fill=\"#000000\">I</text>\n</g>\n<!-- EMPTY&#45;&gt;I -->\n<g id=\"edge1\" class=\"edge\">\n<title>EMPTY&#45;&gt;I</title>\n<path fill=\"none\" stroke=\"#000000\" d=\"M54.3048,-30.6476C62.6909,-30.6476 71.9407,-30.6476 80.4103,-30.6476\"/>\n<polygon fill=\"#000000\" stroke=\"#000000\" points=\"80.5976,-34.1477 90.5976,-30.6476 80.5976,-27.1477 80.5976,-34.1477\"/>\n</g>\n<!-- I&#45;&gt;I -->\n<g id=\"edge2\" class=\"edge\">\n<title>I&#45;&gt;I</title>\n<path fill=\"none\" stroke=\"#000000\" d=\"M105.7643,-48.4294C105.2144,-57.9626 106.293,-66.6476 109,-66.6476 110.6496,-66.6476 111.6945,-63.4225 112.1347,-58.7457\"/>\n<polygon fill=\"#000000\" stroke=\"#000000\" points=\"115.6375,-58.4632 112.2357,-48.4294 108.6379,-58.3946 115.6375,-58.4632\"/>\n<text text-anchor=\"middle\" x=\"109\" y=\"-70.4476\" font-family=\"Times,serif\" font-size=\"14.00\" fill=\"#000000\">0 </text>\n</g>\n<!-- I&#45;&gt;I -->\n<g id=\"edge3\" class=\"edge\">\n<title>I&#45;&gt;I</title>\n<path fill=\"none\" stroke=\"#000000\" d=\"M103.6841,-48.0679C100.6538,-65.4386 102.4258,-84.6476 109,-84.6476 114.2902,-84.6476 116.4708,-72.2094 115.5419,-58.2996\"/>\n<polygon fill=\"#000000\" stroke=\"#000000\" points=\"118.9808,-57.5805 114.3159,-48.0679 112.0305,-58.4133 118.9808,-57.5805\"/>\n<text text-anchor=\"middle\" x=\"109\" y=\"-88.4476\" font-family=\"Times,serif\" font-size=\"14.00\" fill=\"#000000\">1 </text>\n</g>\n<!-- S0 -->\n<g id=\"node3\" class=\"node\">\n<title>S0</title>\n<ellipse fill=\"none\" stroke=\"#000000\" cx=\"195.7982\" cy=\"-30.6476\" rx=\"20.5982\" ry=\"20.5982\"/>\n<text text-anchor=\"middle\" x=\"195.7982\" y=\"-26.9476\" font-family=\"Times,serif\" font-size=\"14.00\" fill=\"#000000\">S0</text>\n</g>\n<!-- I&#45;&gt;S0 -->\n<g id=\"edge4\" class=\"edge\">\n<title>I&#45;&gt;S0</title>\n<path fill=\"none\" stroke=\"#000000\" d=\"M127.4077,-30.6476C138.2934,-30.6476 152.3613,-30.6476 164.9052,-30.6476\"/>\n<polygon fill=\"#000000\" stroke=\"#000000\" points=\"164.9803,-34.1477 174.9802,-30.6476 164.9802,-27.1477 164.9803,-34.1477\"/>\n<text text-anchor=\"middle\" x=\"151\" y=\"-34.4476\" font-family=\"Times,serif\" font-size=\"14.00\" fill=\"#000000\">1 </text>\n</g>\n<!-- S1 -->\n<g id=\"node4\" class=\"node\">\n<title>S1</title>\n<ellipse fill=\"none\" stroke=\"#000000\" cx=\"285.3945\" cy=\"-30.6476\" rx=\"20.5982\" ry=\"20.5982\"/>\n<text text-anchor=\"middle\" x=\"285.3945\" y=\"-26.9476\" font-family=\"Times,serif\" font-size=\"14.00\" fill=\"#000000\">S1</text>\n</g>\n<!-- S0&#45;&gt;S1 -->\n<g id=\"edge5\" class=\"edge\">\n<title>S0&#45;&gt;S1</title>\n<path fill=\"none\" stroke=\"#000000\" d=\"M217.0312,-30.6476C228.0778,-30.6476 241.7967,-30.6476 254.0394,-30.6476\"/>\n<polygon fill=\"#000000\" stroke=\"#000000\" points=\"254.3138,-34.1477 264.3138,-30.6476 254.3138,-27.1477 254.3138,-34.1477\"/>\n<text text-anchor=\"middle\" x=\"240.5963\" y=\"-34.4476\" font-family=\"Times,serif\" font-size=\"14.00\" fill=\"#000000\">0 </text>\n</g>\n<!-- FS2 -->\n<g id=\"node5\" class=\"node\">\n<title>FS2</title>\n<ellipse fill=\"none\" stroke=\"#000000\" cx=\"381.8403\" cy=\"-30.6476\" rx=\"26.7766\" ry=\"26.7766\"/>\n<ellipse fill=\"none\" stroke=\"#000000\" cx=\"381.8403\" cy=\"-30.6476\" rx=\"30.796\" ry=\"30.796\"/>\n<text text-anchor=\"middle\" x=\"381.8403\" y=\"-26.9476\" font-family=\"Times,serif\" font-size=\"14.00\" fill=\"#000000\">FS2</text>\n</g>\n<!-- S1&#45;&gt;FS2 -->\n<g id=\"edge6\" class=\"edge\">\n<title>S1&#45;&gt;FS2</title>\n<path fill=\"none\" stroke=\"#000000\" d=\"M306.3218,-30.6476C316.4342,-30.6476 328.9345,-30.6476 340.8349,-30.6476\"/>\n<polygon fill=\"#000000\" stroke=\"#000000\" points=\"341.0632,-34.1477 351.0632,-30.6476 341.0631,-27.1477 341.0632,-34.1477\"/>\n<text text-anchor=\"middle\" x=\"328.6926\" y=\"-34.4476\" font-family=\"Times,serif\" font-size=\"14.00\" fill=\"#000000\">&#39;&#39; </text>\n</g>\n<!-- F -->\n<g id=\"node6\" class=\"node\">\n<title>F</title>\n<ellipse fill=\"none\" stroke=\"#000000\" cx=\"482.4879\" cy=\"-30.6476\" rx=\"18\" ry=\"18\"/>\n<ellipse fill=\"none\" stroke=\"#000000\" cx=\"482.4879\" cy=\"-30.6476\" rx=\"22\" ry=\"22\"/>\n<text text-anchor=\"middle\" x=\"482.4879\" y=\"-26.9476\" font-family=\"Times,serif\" font-size=\"14.00\" fill=\"#000000\">F</text>\n</g>\n<!-- FS2&#45;&gt;F -->\n<g id=\"edge7\" class=\"edge\">\n<title>FS2&#45;&gt;F</title>\n<path fill=\"none\" stroke=\"#000000\" d=\"M412.5848,-30.6476C424.4782,-30.6476 438.1003,-30.6476 450.1414,-30.6476\"/>\n<polygon fill=\"#000000\" stroke=\"#000000\" points=\"450.2329,-34.1477 460.2329,-30.6476 450.2328,-27.1477 450.2329,-34.1477\"/>\n<text text-anchor=\"middle\" x=\"436.4879\" y=\"-34.4476\" font-family=\"Times,serif\" font-size=\"14.00\" fill=\"#000000\">0 </text>\n</g>\n</g>\n</svg>\n"
          },
          "metadata": {
            "tags": []
          },
          "execution_count": 44
        }
      ]
    },
    {
      "cell_type": "code",
      "metadata": {
        "colab": {
          "base_uri": "https://localhost:8080/",
          "height": 281
        },
        "id": "ug0eLgKD9Vi1",
        "outputId": "5675148f-8711-4111-a77a-7abdf3840c68"
      },
      "source": [
        "# command-2\n",
        "\n",
        "dotObj_dfa(nfa2dfa(NFAEnds10Eps0, STATENAME_MAXSIZE=50), STATENAME_MAXSIZE=50)"
      ],
      "execution_count": 45,
      "outputs": [
        {
          "output_type": "execute_result",
          "data": {
            "text/plain": [
              "<graphviz.dot.Digraph at 0x7f9515de34e0>"
            ],
            "image/svg+xml": "<?xml version=\"1.0\" encoding=\"UTF-8\" standalone=\"no\"?>\n<!DOCTYPE svg PUBLIC \"-//W3C//DTD SVG 1.1//EN\"\n \"http://www.w3.org/Graphics/SVG/1.1/DTD/svg11.dtd\">\n<!-- Generated by graphviz version 2.40.1 (20161225.0304)\n -->\n<!-- Title: %3 Pages: 1 -->\n<svg width=\"499pt\" height=\"195pt\"\n viewBox=\"0.00 0.00 499.08 195.40\" xmlns=\"http://www.w3.org/2000/svg\" xmlns:xlink=\"http://www.w3.org/1999/xlink\">\n<g id=\"graph0\" class=\"graph\" transform=\"scale(1 1) rotate(0) translate(4 191.3956)\">\n<title>%3</title>\n<polygon fill=\"#ffffff\" stroke=\"transparent\" points=\"-4,4 -4,-191.3956 495.0819,-191.3956 495.0819,4 -4,4\"/>\n<!-- EMPTY -->\n<g id=\"node1\" class=\"node\">\n<title>EMPTY</title>\n</g>\n<!-- I -->\n<g id=\"node2\" class=\"node\">\n<title>I</title>\n<ellipse fill=\"none\" stroke=\"#000000\" cx=\"109\" cy=\"-18\" rx=\"18\" ry=\"18\"/>\n<text text-anchor=\"middle\" x=\"109\" y=\"-14.3\" font-family=\"Times,serif\" font-size=\"14.00\" fill=\"#000000\">I</text>\n</g>\n<!-- EMPTY&#45;&gt;I -->\n<g id=\"edge1\" class=\"edge\">\n<title>EMPTY&#45;&gt;I</title>\n<path fill=\"none\" stroke=\"#000000\" d=\"M54.3048,-18C62.6909,-18 71.9407,-18 80.4103,-18\"/>\n<polygon fill=\"#000000\" stroke=\"#000000\" points=\"80.5976,-21.5001 90.5976,-18 80.5976,-14.5001 80.5976,-21.5001\"/>\n</g>\n<!-- I&#45;&gt;I -->\n<g id=\"edge3\" class=\"edge\">\n<title>I&#45;&gt;I</title>\n<path fill=\"none\" stroke=\"#000000\" d=\"M102.6208,-35.0373C101.3189,-44.8579 103.4453,-54 109,-54 112.4717,-54 114.6042,-50.4289 115.3975,-45.3529\"/>\n<polygon fill=\"#000000\" stroke=\"#000000\" points=\"118.8971,-45.031 115.3792,-35.0373 111.8971,-45.0435 118.8971,-45.031\"/>\n<text text-anchor=\"middle\" x=\"109\" y=\"-57.8\" font-family=\"Times,serif\" font-size=\"14.00\" fill=\"#000000\">0 </text>\n</g>\n<!-- I_S0 -->\n<g id=\"node3\" class=\"node\">\n<title>I_S0</title>\n<ellipse fill=\"none\" stroke=\"#000000\" cx=\"203.5975\" cy=\"-70\" rx=\"28.6953\" ry=\"28.6953\"/>\n<text text-anchor=\"middle\" x=\"203.5975\" y=\"-66.3\" font-family=\"Times,serif\" font-size=\"14.00\" fill=\"#000000\">I_S0</text>\n</g>\n<!-- I&#45;&gt;I_S0 -->\n<g id=\"edge2\" class=\"edge\">\n<title>I&#45;&gt;I_S0</title>\n<path fill=\"none\" stroke=\"#000000\" d=\"M125.0472,-26.8211C137.0954,-33.444 154.0404,-42.7586 169.1093,-51.0419\"/>\n<polygon fill=\"#000000\" stroke=\"#000000\" points=\"167.7395,-54.2829 178.1888,-56.0329 171.1115,-48.1485 167.7395,-54.2829\"/>\n<text text-anchor=\"middle\" x=\"151\" y=\"-47.8\" font-family=\"Times,serif\" font-size=\"14.00\" fill=\"#000000\">1 </text>\n</g>\n<!-- I_S0&#45;&gt;I_S0 -->\n<g id=\"edge4\" class=\"edge\">\n<title>I_S0&#45;&gt;I_S0</title>\n<path fill=\"none\" stroke=\"#000000\" d=\"M193.8855,-97.2819C193.4539,-107.8301 196.6912,-116.5975 203.5975,-116.5975 208.0218,-116.5975 210.9404,-112.9993 212.3532,-107.6399\"/>\n<polygon fill=\"#000000\" stroke=\"#000000\" points=\"215.8753,-107.5613 213.3094,-97.2819 208.9049,-106.9178 215.8753,-107.5613\"/>\n<text text-anchor=\"middle\" x=\"203.5975\" y=\"-120.3975\" font-family=\"Times,serif\" font-size=\"14.00\" fill=\"#000000\">1 </text>\n</g>\n<!-- FS2_I_S1 -->\n<g id=\"node5\" class=\"node\">\n<title>FS2_I_S1</title>\n<ellipse fill=\"none\" stroke=\"#000000\" cx=\"333.5905\" cy=\"-134\" rx=\"49.2992\" ry=\"49.2992\"/>\n<ellipse fill=\"none\" stroke=\"#000000\" cx=\"333.5905\" cy=\"-134\" rx=\"53.2914\" ry=\"53.2914\"/>\n<text text-anchor=\"middle\" x=\"333.5905\" y=\"-130.3\" font-family=\"Times,serif\" font-size=\"14.00\" fill=\"#000000\">FS2_I_S1</text>\n</g>\n<!-- I_S0&#45;&gt;FS2_I_S1 -->\n<g id=\"edge5\" class=\"edge\">\n<title>I_S0&#45;&gt;FS2_I_S1</title>\n<path fill=\"none\" stroke=\"#000000\" d=\"M224.7413,-89.4189C232.353,-95.6737 241.2728,-102.2169 250.1949,-107 257.0793,-110.6907 264.5556,-113.9868 272.1097,-116.8982\"/>\n<polygon fill=\"#000000\" stroke=\"#000000\" points=\"271.0871,-120.2505 281.6811,-120.381 273.4807,-113.6725 271.0871,-120.2505\"/>\n<text text-anchor=\"middle\" x=\"256.1949\" y=\"-115.8\" font-family=\"Times,serif\" font-size=\"14.00\" fill=\"#000000\">0 </text>\n</g>\n<!-- F_I -->\n<g id=\"node4\" class=\"node\">\n<title>F_I</title>\n<ellipse fill=\"none\" stroke=\"#000000\" cx=\"463.034\" cy=\"-48\" rx=\"24.089\" ry=\"24.089\"/>\n<ellipse fill=\"none\" stroke=\"#000000\" cx=\"463.034\" cy=\"-48\" rx=\"28.0958\" ry=\"28.0958\"/>\n<text text-anchor=\"middle\" x=\"463.034\" y=\"-44.3\" font-family=\"Times,serif\" font-size=\"14.00\" fill=\"#000000\">F_I</text>\n</g>\n<!-- F_I&#45;&gt;I -->\n<g id=\"edge9\" class=\"edge\">\n<title>F_I&#45;&gt;I</title>\n<path fill=\"none\" stroke=\"#000000\" d=\"M434.9658,-45.6216C368.7614,-40.0116 203.4575,-26.0041 137.1609,-20.3863\"/>\n<polygon fill=\"#000000\" stroke=\"#000000\" points=\"137.3032,-16.8859 127.0433,-19.5289 136.7121,-23.8609 137.3032,-16.8859\"/>\n<text text-anchor=\"middle\" x=\"256.1949\" y=\"-34.8\" font-family=\"Times,serif\" font-size=\"14.00\" fill=\"#000000\">0 </text>\n</g>\n<!-- F_I&#45;&gt;I_S0 -->\n<g id=\"edge8\" class=\"edge\">\n<title>F_I&#45;&gt;I_S0</title>\n<path fill=\"none\" stroke=\"#000000\" d=\"M434.7619,-48.3505C398.7644,-49.0356 334.6945,-51.0552 280.1949,-57 267.6242,-58.3712 253.988,-60.4816 241.7526,-62.6058\"/>\n<polygon fill=\"#000000\" stroke=\"#000000\" points=\"241.085,-59.1696 231.8585,-64.3775 242.3189,-66.06 241.085,-59.1696\"/>\n<text text-anchor=\"middle\" x=\"333.5905\" y=\"-60.8\" font-family=\"Times,serif\" font-size=\"14.00\" fill=\"#000000\">1 </text>\n</g>\n<!-- FS2_I_S1&#45;&gt;I_S0 -->\n<g id=\"edge6\" class=\"edge\">\n<title>FS2_I_S1&#45;&gt;I_S0</title>\n<path fill=\"none\" stroke=\"#000000\" d=\"M289.7271,-103.0899C280.8598,-97.6081 271.4207,-92.2892 262.1949,-88 255.7111,-84.9855 248.5944,-82.3135 241.6237,-80.0118\"/>\n<polygon fill=\"#000000\" stroke=\"#000000\" points=\"242.1938,-76.5244 231.6059,-76.9078 240.122,-83.2108 242.1938,-76.5244\"/>\n<text text-anchor=\"middle\" x=\"256.1949\" y=\"-91.8\" font-family=\"Times,serif\" font-size=\"14.00\" fill=\"#000000\">1 </text>\n</g>\n<!-- FS2_I_S1&#45;&gt;F_I -->\n<g id=\"edge7\" class=\"edge\">\n<title>FS2_I_S1&#45;&gt;F_I</title>\n<path fill=\"none\" stroke=\"#000000\" d=\"M378.1376,-104.4037C395.5384,-92.8429 415.1009,-79.8459 431.0579,-69.2444\"/>\n<polygon fill=\"#000000\" stroke=\"#000000\" points=\"433.123,-72.0745 439.5154,-63.6254 429.2493,-66.244 433.123,-72.0745\"/>\n<text text-anchor=\"middle\" x=\"410.9862\" y=\"-88.8\" font-family=\"Times,serif\" font-size=\"14.00\" fill=\"#000000\">0 </text>\n</g>\n</g>\n</svg>\n"
          },
          "metadata": {
            "tags": []
          },
          "execution_count": 45
        }
      ]
    },
    {
      "cell_type": "code",
      "metadata": {
        "run_control": {
          "frozen": false,
          "read_only": false
        },
        "colab": {
          "base_uri": "https://localhost:8080/"
        },
        "id": "NtjWDrMw9Vi2",
        "outputId": "d1973561-ff7d-432c-b799-eac9608058e7"
      },
      "source": [
        "# Let us see its internal representation -- this may give you hints for doing Task 6.\n",
        "\n",
        "# command-3\n",
        "\n",
        "NFAEnds10Eps0"
      ],
      "execution_count": 46,
      "outputs": [
        {
          "output_type": "execute_result",
          "data": {
            "text/plain": [
              "{'Delta': {('FS2', '0'): {'F'},\n",
              "  ('I', '0'): {'I'},\n",
              "  ('I', '1'): {'I', 'S0'},\n",
              "  ('S0', '0'): {'S1'},\n",
              "  ('S1', ''): {'FS2'}},\n",
              " 'F': {'F', 'FS2'},\n",
              " 'Q': {'F', 'FS2', 'I', 'S0', 'S1'},\n",
              " 'Q0': {'I'},\n",
              " 'Sigma': {'0', '1'}}"
            ]
          },
          "metadata": {
            "tags": []
          },
          "execution_count": 46
        }
      ]
    },
    {
      "cell_type": "markdown",
      "metadata": {
        "id": "7zYV7sxr9Vi2"
      },
      "source": [
        "# Task 6: Explain the NFA2DFA algorithm\n",
        "\n",
        "Below, you must explain the states of the DFA that resulted from converting the\n",
        "NFA to DFA using subset construction. \n",
        "\n",
        "You must look at the results of running command-1, command-2, and command-3 in your explanation.\n",
        "\n",
        "For each question, your answer must be in the following form:\n",
        "\n",
        "* Currently the NFA is in a *set* of states, say S1. That is already an E-closed state. That is where the DFA begins its operation (in the corresponding DFA state).\n",
        "\n",
        "* Let S1 be {s11, s12} for example. (Notice the use of upper and lower cases.)\n",
        "\n",
        "* Consider a '0' transition\n",
        "\n",
        "* Upon a '0', s11 went to set of states S11, s12 went to set of states S12, and so on.\n",
        "\n",
        "* I performed E-Closure of the states in S11 and that resulted in S11c. (If E-closure did not generate any new states, say \"E-Closure did not generate any new state.\")\n",
        "\n",
        "* Similarly, I performed E-Closure of the states in S12 and that resulted in S12c\n",
        "\n",
        "* Then I unioned S11c and S12c and called it S2\n",
        "\n",
        "* S2 is now an E-closed set of states\n",
        "\n",
        "* Thus, I arrive at a single NFA state corresponding to \n",
        "  - S1 going upon '0' to S2 (and the DFA now has a state corresponding to S2).\n",
        "\n",
        " \n",
        "## QUESTIONS FOR YOU TO ANSWER IN THE ABOVE MANNER\n",
        "\n",
        "\n"
      ]
    },
    {
      "cell_type": "markdown",
      "metadata": {
        "id": "W--35SPw6NDs"
      },
      "source": [
        "### Looking at the NFA NFAEnds10Eps0, why did state I arise in the DFA?\r\n",
        "\r\n",
        "*   Currently the NFA is in state I which is already an E-closed state. That is where the DFA begins its operations.\r\n",
        "*   Every DFA must have an an initial state and since it is already an E-Closed state this state is added to the DFA.\r\n",
        "\r\n",
        "\r\n",
        "### Why did state A1_I arise in the DFA?\r\n",
        "\r\n",
        "*  Currently the NFA is in state I which is already an E-closed state.\r\n",
        "*  Consider a '1' transition.\r\n",
        "*  Upon a '1' I goes to the following states S11 = {I, S0}\r\n",
        "*  I Performed an E-Closure of the states in S11 and that resulted in S0_I\r\n",
        "*  S0_I is now an E-Closed set of states.\r\n",
        "*  Thus, I arrive at a single NFA state corresponding to \r\n",
        "  *  I going upon '1' to S0_I\r\n",
        "\r\n",
        "\r\n",
        "### Why did F3_I_T1 arise (mention E-closure steps)\r\n",
        "\r\n",
        "*  Currently the NFA is in state S0_I which is already an E-closed state.\r\n",
        "*  Consider a '1' transition.\r\n",
        "*  Upon a '1' I goes to the following states S11 = {I, S0}\r\n",
        "*  Upon a '1' S0 goes to the following states S22 = {S1}\r\n",
        "*  I preformed an E-Closure of the states in S22 and FS2. This is because S22 transitions to FS2 on an epsilon.\r\n",
        "*  I_S0 goes to S33 = {I, FS2_S1}\r\n",
        "\r\n",
        "*  I Performed an E-Closure of the states in S33 and that resulted in FS2_I_S1\r\n",
        "*  FS2_I_S1 is now an E-Closed set of states.\r\n",
        "*  Thus, I arrive at a single NFA state corresponding to \r\n",
        "  *  SO_I going up on '0' to FS2_I_S1\r\n",
        "\r\n",
        "### Explain in detail why A1_I went upon a '0' to F3_I_T1 (include all the E-closure steps)\r\n",
        "\r\n",
        "*  Currently the NFA is in state S0_I which is already an E-closed state.\r\n",
        "*  Consider a '0' transition.\r\n",
        "*  Upon a '0' S0 goes to the following states S22 = {FS2}\r\n",
        "*  I preformed an E-Closure of the states in S22 and FS2. This is because S22 transitions to FS2 on an epsilon.\r\n",
        "*  S0 goes to S33 = {I, FS2_S1}\r\n",
        "\r\n",
        "*  I Performed an E-Closure of the states in S33 and that resulted in FS2_I_S1\r\n",
        "*  FS2_I_S1 is now an E-Closed set of states.\r\n",
        "*  Thus, I arrive at a single NFA state corresponding to \r\n",
        "  *  SO_I going up on '0' to FS2_I_S1\r\n",
        "\r\n",
        "### Why did F2_I arise?\r\n",
        "*  Currently the NFA is in state FS2_I_S1 which is already an E-closed state.\r\n",
        "*  Consider a '0' transition.\r\n",
        "*  Upon a '0' I goes to the following states S11 = {I}\r\n",
        "*  Upon a '0' FS2_S1 goes to the following states S22 = {F}\r\n",
        "*  I conjoined the states in S11 and S22 resulting in the state F_I\r\n",
        "*  F_I is now an E-Closed set of states.\r\n",
        "*  Thus, I arrive at a single NFA state corresponding to \r\n",
        "  *  FS2_I_S1 going up on '0' to F_I"
      ]
    },
    {
      "cell_type": "markdown",
      "metadata": {
        "id": "rP59B4QI9Vi4"
      },
      "source": [
        "# Task 7: Brzozowski's minimization\n",
        "\n",
        "This is a DFA minimization algorithm that shows you that a bloated DFA can be minimized simply by following these steps, as explained in Section 7.7. In this problem, you will practice these steps on an initially bloated DFA given to you.\n",
        "\n",
        "The steps are these:\n",
        "\n",
        "1. Reverse the given DFA, say DFA_bloated, to obtain an NFA called NFA1 (use the rev_dfa function)\n",
        "\n",
        "2. Determinize NFA1 to obtain a DFA called DFA2\n",
        "\n",
        "3. Reverse DFA2 to obtain another NFA, say NFA2\n",
        "\n",
        "4. Determinize NFA2 to obtain the final minimized DFA, say DFA_min\n",
        "\n",
        "The problem asks you to apply this procedure to minimize DFA_bloated.\n",
        "\n"
      ]
    },
    {
      "cell_type": "code",
      "metadata": {
        "id": "5rAjK5bB9Vi5"
      },
      "source": [
        "# This is a slight variant of Figure 6.7's bloated DFA \n",
        "\n",
        "DFA_bloated = md2mc('''\n",
        "\n",
        "DFA\n",
        "\n",
        "IS1: a -> Temp\n",
        "IS1: b -> FS3\n",
        "\n",
        "Temp: a -> FS2\n",
        "Temp: b -> FS3\n",
        "\n",
        "FS2: a -> S4\n",
        "FS2: b -> S5\n",
        "\n",
        "FS3: a -> S5\n",
        "FS3: b -> S4\n",
        "\n",
        "S4: a|b -> FS6\n",
        "S5: a|b -> FS6\n",
        "\n",
        "FS6: a|b -> FS6\n",
        "\n",
        "''')"
      ],
      "execution_count": 51,
      "outputs": []
    },
    {
      "cell_type": "code",
      "metadata": {
        "id": "Jw0vyFpS9Vi5",
        "outputId": "49da7d5f-f1b8-441c-8584-c239033bb548",
        "colab": {
          "base_uri": "https://localhost:8080/",
          "height": 260
        }
      },
      "source": [
        "dotObj_dfa(DFA_bloated, STATENAME_MAXSIZE=50)"
      ],
      "execution_count": 67,
      "outputs": [
        {
          "output_type": "execute_result",
          "data": {
            "text/plain": [
              "<graphviz.dot.Digraph at 0x7f9515dfeac8>"
            ],
            "image/svg+xml": "<?xml version=\"1.0\" encoding=\"UTF-8\" standalone=\"no\"?>\n<!DOCTYPE svg PUBLIC \"-//W3C//DTD SVG 1.1//EN\"\n \"http://www.w3.org/Graphics/SVG/1.1/DTD/svg11.dtd\">\n<!-- Generated by graphviz version 2.40.1 (20161225.0304)\n -->\n<!-- Title: %3 Pages: 1 -->\n<svg width=\"566pt\" height=\"179pt\"\n viewBox=\"0.00 0.00 566.28 179.30\" xmlns=\"http://www.w3.org/2000/svg\" xmlns:xlink=\"http://www.w3.org/1999/xlink\">\n<g id=\"graph0\" class=\"graph\" transform=\"scale(1 1) rotate(0) translate(4 175.2953)\">\n<title>%3</title>\n<polygon fill=\"#ffffff\" stroke=\"transparent\" points=\"-4,4 -4,-175.2953 562.2768,-175.2953 562.2768,4 -4,4\"/>\n<!-- EMPTY -->\n<g id=\"node1\" class=\"node\">\n<title>EMPTY</title>\n</g>\n<!-- IS1 -->\n<g id=\"node2\" class=\"node\">\n<title>IS1</title>\n<ellipse fill=\"none\" stroke=\"#000000\" cx=\"115.0479\" cy=\"-46.6476\" rx=\"24.0958\" ry=\"24.0958\"/>\n<text text-anchor=\"middle\" x=\"115.0479\" y=\"-42.9476\" font-family=\"Times,serif\" font-size=\"14.00\" fill=\"#000000\">IS1</text>\n</g>\n<!-- EMPTY&#45;&gt;IS1 -->\n<g id=\"edge1\" class=\"edge\">\n<title>EMPTY&#45;&gt;IS1</title>\n<path fill=\"none\" stroke=\"#000000\" d=\"M54.3763,-46.6476C62.7026,-46.6476 71.9607,-46.6476 80.6861,-46.6476\"/>\n<polygon fill=\"#000000\" stroke=\"#000000\" points=\"80.9666,-50.1477 90.9666,-46.6476 80.9665,-43.1477 80.9666,-50.1477\"/>\n</g>\n<!-- Temp -->\n<g id=\"node4\" class=\"node\">\n<title>Temp</title>\n<ellipse fill=\"none\" stroke=\"#000000\" cx=\"217.5928\" cy=\"-95.6476\" rx=\"32.4942\" ry=\"32.4942\"/>\n<text text-anchor=\"middle\" x=\"217.5928\" y=\"-91.9476\" font-family=\"Times,serif\" font-size=\"14.00\" fill=\"#000000\">Temp</text>\n</g>\n<!-- IS1&#45;&gt;Temp -->\n<g id=\"edge2\" class=\"edge\">\n<title>IS1&#45;&gt;Temp</title>\n<path fill=\"none\" stroke=\"#000000\" d=\"M136.795,-57.0393C149.0447,-62.8927 164.7053,-70.3759 178.9719,-77.193\"/>\n<polygon fill=\"#000000\" stroke=\"#000000\" points=\"177.5641,-80.3993 188.0959,-81.5529 180.5821,-74.0834 177.5641,-80.3993\"/>\n<text text-anchor=\"middle\" x=\"162.0957\" y=\"-74.4476\" font-family=\"Times,serif\" font-size=\"14.00\" fill=\"#000000\">a </text>\n</g>\n<!-- FS3 -->\n<g id=\"node8\" class=\"node\">\n<title>FS3</title>\n<ellipse fill=\"none\" stroke=\"#000000\" cx=\"328.7376\" cy=\"-30.6476\" rx=\"26.7766\" ry=\"26.7766\"/>\n<ellipse fill=\"none\" stroke=\"#000000\" cx=\"328.7376\" cy=\"-30.6476\" rx=\"30.796\" ry=\"30.796\"/>\n<text text-anchor=\"middle\" x=\"328.7376\" y=\"-26.9476\" font-family=\"Times,serif\" font-size=\"14.00\" fill=\"#000000\">FS3</text>\n</g>\n<!-- IS1&#45;&gt;FS3 -->\n<g id=\"edge3\" class=\"edge\">\n<title>IS1&#45;&gt;FS3</title>\n<path fill=\"none\" stroke=\"#000000\" d=\"M139.0185,-44.0306C152.5382,-42.6102 169.747,-40.895 185.0957,-39.6476 219.6976,-36.8357 259.0506,-34.425 287.8057,-32.8083\"/>\n<polygon fill=\"#000000\" stroke=\"#000000\" points=\"288.1007,-36.2974 297.8917,-32.2493 287.7133,-29.3082 288.1007,-36.2974\"/>\n<text text-anchor=\"middle\" x=\"217.5928\" y=\"-43.4476\" font-family=\"Times,serif\" font-size=\"14.00\" fill=\"#000000\">b </text>\n</g>\n<!-- S5 -->\n<g id=\"node3\" class=\"node\">\n<title>S5</title>\n<ellipse fill=\"none\" stroke=\"#000000\" cx=\"428.1834\" cy=\"-108.6476\" rx=\"20.5982\" ry=\"20.5982\"/>\n<text text-anchor=\"middle\" x=\"428.1834\" y=\"-104.9476\" font-family=\"Times,serif\" font-size=\"14.00\" fill=\"#000000\">S5</text>\n</g>\n<!-- FS6 -->\n<g id=\"node6\" class=\"node\">\n<title>FS6</title>\n<ellipse fill=\"none\" stroke=\"#000000\" cx=\"527.6292\" cy=\"-74.6476\" rx=\"26.7766\" ry=\"26.7766\"/>\n<ellipse fill=\"none\" stroke=\"#000000\" cx=\"527.6292\" cy=\"-74.6476\" rx=\"30.796\" ry=\"30.796\"/>\n<text text-anchor=\"middle\" x=\"527.6292\" y=\"-70.9476\" font-family=\"Times,serif\" font-size=\"14.00\" fill=\"#000000\">FS6</text>\n</g>\n<!-- S5&#45;&gt;FS6 -->\n<g id=\"edge12\" class=\"edge\">\n<title>S5&#45;&gt;FS6</title>\n<path fill=\"none\" stroke=\"#000000\" d=\"M448.8987,-112.077C458.2905,-112.8719 469.4108,-112.7328 478.9815,-109.6476 485.0903,-107.6785 491.0797,-104.6261 496.6527,-101.1268\"/>\n<polygon fill=\"#000000\" stroke=\"#000000\" points=\"498.7806,-103.9109 505.0247,-95.3515 494.8058,-98.1489 498.7806,-103.9109\"/>\n<text text-anchor=\"middle\" x=\"472.9815\" y=\"-115.4476\" font-family=\"Times,serif\" font-size=\"14.00\" fill=\"#000000\">a </text>\n</g>\n<!-- S5&#45;&gt;FS6 -->\n<g id=\"edge13\" class=\"edge\">\n<title>S5&#45;&gt;FS6</title>\n<path fill=\"none\" stroke=\"#000000\" d=\"M446.8475,-99.1772C453.1436,-96.2021 460.276,-93.0662 466.9815,-90.6476 473.5885,-88.2646 480.7162,-86.0667 487.6827,-84.1119\"/>\n<polygon fill=\"#000000\" stroke=\"#000000\" points=\"488.9416,-87.3981 497.6947,-81.4286 487.1295,-80.6367 488.9416,-87.3981\"/>\n<text text-anchor=\"middle\" x=\"472.9815\" y=\"-94.4476\" font-family=\"Times,serif\" font-size=\"14.00\" fill=\"#000000\">b </text>\n</g>\n<!-- FS2 -->\n<g id=\"node7\" class=\"node\">\n<title>FS2</title>\n<ellipse fill=\"none\" stroke=\"#000000\" cx=\"328.7376\" cy=\"-109.6476\" rx=\"26.7766\" ry=\"26.7766\"/>\n<ellipse fill=\"none\" stroke=\"#000000\" cx=\"328.7376\" cy=\"-109.6476\" rx=\"30.796\" ry=\"30.796\"/>\n<text text-anchor=\"middle\" x=\"328.7376\" y=\"-105.9476\" font-family=\"Times,serif\" font-size=\"14.00\" fill=\"#000000\">FS2</text>\n</g>\n<!-- Temp&#45;&gt;FS2 -->\n<g id=\"edge4\" class=\"edge\">\n<title>Temp&#45;&gt;FS2</title>\n<path fill=\"none\" stroke=\"#000000\" d=\"M250.0393,-99.7347C261.8529,-101.2227 275.3636,-102.9245 287.8171,-104.4932\"/>\n<polygon fill=\"#000000\" stroke=\"#000000\" points=\"287.6099,-107.9947 297.969,-105.772 288.4848,-101.0496 287.6099,-107.9947\"/>\n<text text-anchor=\"middle\" x=\"274.09\" y=\"-106.4476\" font-family=\"Times,serif\" font-size=\"14.00\" fill=\"#000000\">a </text>\n</g>\n<!-- Temp&#45;&gt;FS3 -->\n<g id=\"edge5\" class=\"edge\">\n<title>Temp&#45;&gt;FS3</title>\n<path fill=\"none\" stroke=\"#000000\" d=\"M245.9269,-79.0772C260.3356,-70.6507 277.9898,-60.3261 293.2906,-51.3778\"/>\n<polygon fill=\"#000000\" stroke=\"#000000\" points=\"295.12,-54.3626 301.9853,-46.293 291.5862,-48.3201 295.12,-54.3626\"/>\n<text text-anchor=\"middle\" x=\"274.09\" y=\"-69.4476\" font-family=\"Times,serif\" font-size=\"14.00\" fill=\"#000000\">b </text>\n</g>\n<!-- S4 -->\n<g id=\"node5\" class=\"node\">\n<title>S4</title>\n<ellipse fill=\"none\" stroke=\"#000000\" cx=\"428.1834\" cy=\"-40.6476\" rx=\"20.5982\" ry=\"20.5982\"/>\n<text text-anchor=\"middle\" x=\"428.1834\" y=\"-36.9476\" font-family=\"Times,serif\" font-size=\"14.00\" fill=\"#000000\">S4</text>\n</g>\n<!-- S4&#45;&gt;FS6 -->\n<g id=\"edge10\" class=\"edge\">\n<title>S4&#45;&gt;FS6</title>\n<path fill=\"none\" stroke=\"#000000\" d=\"M448.5277,-46.8043C457.8446,-49.6882 469.0088,-53.2344 478.9815,-56.6476 482.3204,-57.7904 485.777,-59.0051 489.237,-60.2429\"/>\n<polygon fill=\"#000000\" stroke=\"#000000\" points=\"488.3082,-63.6291 498.9024,-63.752 490.6971,-57.0494 488.3082,-63.6291\"/>\n<text text-anchor=\"middle\" x=\"472.9815\" y=\"-60.4476\" font-family=\"Times,serif\" font-size=\"14.00\" fill=\"#000000\">a </text>\n</g>\n<!-- S4&#45;&gt;FS6 -->\n<g id=\"edge11\" class=\"edge\">\n<title>S4&#45;&gt;FS6</title>\n<path fill=\"none\" stroke=\"#000000\" d=\"M448.443,-34.1092C457.9449,-32.0789 469.284,-31.1727 478.9815,-34.6476 485.9167,-37.1327 492.571,-41.0803 498.6119,-45.5486\"/>\n<polygon fill=\"#000000\" stroke=\"#000000\" points=\"496.4612,-48.3105 506.4381,-51.8758 500.8621,-42.867 496.4612,-48.3105\"/>\n<text text-anchor=\"middle\" x=\"472.9815\" y=\"-38.4476\" font-family=\"Times,serif\" font-size=\"14.00\" fill=\"#000000\">b </text>\n</g>\n<!-- FS6&#45;&gt;FS6 -->\n<g id=\"edge14\" class=\"edge\">\n<title>FS6&#45;&gt;FS6</title>\n<path fill=\"none\" stroke=\"#000000\" d=\"M522.5667,-105.0524C522.5667,-115.1873 524.2542,-123.2953 527.6292,-123.2953 529.7386,-123.2953 531.1888,-120.1281 531.9798,-115.2784\"/>\n<polygon fill=\"#000000\" stroke=\"#000000\" points=\"535.4886,-115.2714 532.6917,-105.0524 528.5055,-114.7852 535.4886,-115.2714\"/>\n<text text-anchor=\"middle\" x=\"527.6292\" y=\"-127.0953\" font-family=\"Times,serif\" font-size=\"14.00\" fill=\"#000000\">a </text>\n</g>\n<!-- FS6&#45;&gt;FS6 -->\n<g id=\"edge15\" class=\"edge\">\n<title>FS6&#45;&gt;FS6</title>\n<path fill=\"none\" stroke=\"#000000\" d=\"M518.3051,-104.1134C515.8727,-123.0605 518.9807,-141.2953 527.6292,-141.2953 534.7236,-141.2953 538.0898,-129.0248 537.7278,-114.1564\"/>\n<polygon fill=\"#000000\" stroke=\"#000000\" points=\"541.2119,-113.8146 536.9533,-104.1134 534.2327,-114.3529 541.2119,-113.8146\"/>\n<text text-anchor=\"middle\" x=\"527.6292\" y=\"-145.0953\" font-family=\"Times,serif\" font-size=\"14.00\" fill=\"#000000\">b </text>\n</g>\n<!-- FS2&#45;&gt;S5 -->\n<g id=\"edge7\" class=\"edge\">\n<title>FS2&#45;&gt;S5</title>\n<path fill=\"none\" stroke=\"#000000\" d=\"M359.3861,-109.3394C371.392,-109.2187 385.1468,-109.0804 397.1863,-108.9593\"/>\n<polygon fill=\"#000000\" stroke=\"#000000\" points=\"397.2735,-112.4587 407.2378,-108.8583 397.203,-105.4591 397.2735,-112.4587\"/>\n<text text-anchor=\"middle\" x=\"383.3852\" y=\"-112.4476\" font-family=\"Times,serif\" font-size=\"14.00\" fill=\"#000000\">b </text>\n</g>\n<!-- FS2&#45;&gt;S4 -->\n<g id=\"edge6\" class=\"edge\">\n<title>FS2&#45;&gt;S4</title>\n<path fill=\"none\" stroke=\"#000000\" d=\"M354.1233,-92.0865C364.9875,-84.566 377.8124,-75.6817 389.3852,-67.6476 393.6574,-64.6818 398.1921,-61.5297 402.5976,-58.4653\"/>\n<polygon fill=\"#000000\" stroke=\"#000000\" points=\"404.598,-61.3374 410.807,-52.7526 400.5996,-55.5917 404.598,-61.3374\"/>\n<text text-anchor=\"middle\" x=\"383.3852\" y=\"-79.4476\" font-family=\"Times,serif\" font-size=\"14.00\" fill=\"#000000\">a </text>\n</g>\n<!-- FS3&#45;&gt;S5 -->\n<g id=\"edge8\" class=\"edge\">\n<title>FS3&#45;&gt;S5</title>\n<path fill=\"none\" stroke=\"#000000\" d=\"M359.0583,-35.2208C369.4158,-37.8788 380.5932,-42.0653 389.3852,-48.6476 395.6168,-53.313 405.0636,-67.8254 413.0752,-81.4082\"/>\n<polygon fill=\"#000000\" stroke=\"#000000\" points=\"410.0542,-83.1758 418.0846,-90.0869 416.1168,-79.6764 410.0542,-83.1758\"/>\n<text text-anchor=\"middle\" x=\"383.3852\" y=\"-52.4476\" font-family=\"Times,serif\" font-size=\"14.00\" fill=\"#000000\">a </text>\n</g>\n<!-- FS3&#45;&gt;S4 -->\n<g id=\"edge9\" class=\"edge\">\n<title>FS3&#45;&gt;S4</title>\n<path fill=\"none\" stroke=\"#000000\" d=\"M356.3334,-16.837C366.7408,-13.3373 378.6544,-11.3845 389.3852,-14.6476 394.3962,-16.1714 399.3485,-18.5815 403.9528,-21.3336\"/>\n<polygon fill=\"#000000\" stroke=\"#000000\" points=\"402.0409,-24.2655 412.3018,-26.9045 405.9262,-18.4427 402.0409,-24.2655\"/>\n<text text-anchor=\"middle\" x=\"383.3852\" y=\"-18.4476\" font-family=\"Times,serif\" font-size=\"14.00\" fill=\"#000000\">b </text>\n</g>\n</g>\n</svg>\n"
          },
          "metadata": {
            "tags": []
          },
          "execution_count": 67
        }
      ]
    },
    {
      "cell_type": "markdown",
      "metadata": {
        "id": "GV6EMa4I9Vi6"
      },
      "source": [
        "## Show the result of reversing the above DFA"
      ]
    },
    {
      "cell_type": "code",
      "metadata": {
        "id": "O6XqDn8T9Vi6",
        "outputId": "8f849d8c-0ef1-4f2d-9c58-8ad707804798",
        "colab": {
          "base_uri": "https://localhost:8080/"
        }
      },
      "source": [
        "help(rev_dfa)"
      ],
      "execution_count": 49,
      "outputs": [
        {
          "output_type": "stream",
          "text": [
            "Help on function rev_dfa in module jove.Def_NFA:\n",
            "\n",
            "rev_dfa(D)\n",
            "    In : D = a partially consistent DFA without any unreachable states.\n",
            "    Out: A consistent NFA whose language is D's language reversed.\n",
            "\n"
          ],
          "name": "stdout"
        }
      ]
    },
    {
      "cell_type": "markdown",
      "metadata": {
        "id": "SXIbwvwY9Vi6"
      },
      "source": [
        "### The reverse invocation"
      ]
    },
    {
      "cell_type": "code",
      "metadata": {
        "id": "vGe4iF_s9Vi7"
      },
      "source": [
        "# Reverse DFA_bloated here\n",
        "\n",
        "NFA1 =  rev_dfa(DFA_bloated)"
      ],
      "execution_count": 52,
      "outputs": []
    },
    {
      "cell_type": "code",
      "metadata": {
        "id": "IIk5Nrj69Vi8",
        "outputId": "570829a6-bed9-4d40-fbac-ad9cd71df0fc",
        "colab": {
          "base_uri": "https://localhost:8080/",
          "height": 242
        }
      },
      "source": [
        "dotObj_nfa(NFA1)"
      ],
      "execution_count": 69,
      "outputs": [
        {
          "output_type": "execute_result",
          "data": {
            "text/plain": [
              "<graphviz.dot.Digraph at 0x7f9515dfe940>"
            ],
            "image/svg+xml": "<?xml version=\"1.0\" encoding=\"UTF-8\" standalone=\"no\"?>\n<!DOCTYPE svg PUBLIC \"-//W3C//DTD SVG 1.1//EN\"\n \"http://www.w3.org/Graphics/SVG/1.1/DTD/svg11.dtd\">\n<!-- Generated by graphviz version 2.40.1 (20161225.0304)\n -->\n<!-- Title: %3 Pages: 1 -->\n<svg width=\"558pt\" height=\"166pt\"\n viewBox=\"0.00 0.00 558.28 166.19\" xmlns=\"http://www.w3.org/2000/svg\" xmlns:xlink=\"http://www.w3.org/1999/xlink\">\n<g id=\"graph0\" class=\"graph\" transform=\"scale(1 1) rotate(0) translate(4 162.186)\">\n<title>%3</title>\n<polygon fill=\"#ffffff\" stroke=\"transparent\" points=\"-4,4 -4,-162.186 554.2768,-162.186 554.2768,4 -4,4\"/>\n<!-- EMPTY -->\n<g id=\"node1\" class=\"node\">\n<title>EMPTY</title>\n</g>\n<!-- FS6 -->\n<g id=\"node2\" class=\"node\">\n<title>FS6</title>\n<ellipse fill=\"none\" stroke=\"#000000\" cx=\"117.6476\" cy=\"-40.2306\" rx=\"26.7961\" ry=\"26.7961\"/>\n<text text-anchor=\"middle\" x=\"117.6476\" y=\"-36.5306\" font-family=\"Times,serif\" font-size=\"14.00\" fill=\"#000000\">FS6</text>\n</g>\n<!-- EMPTY&#45;&gt;FS6 -->\n<g id=\"edge1\" class=\"edge\">\n<title>EMPTY&#45;&gt;FS6</title>\n<path fill=\"none\" stroke=\"#000000\" d=\"M54.1973,-40.2306C62.5185,-40.2306 71.8156,-40.2306 80.6723,-40.2306\"/>\n<polygon fill=\"#000000\" stroke=\"#000000\" points=\"80.782,-43.7307 90.7819,-40.2306 80.7819,-36.7307 80.782,-43.7307\"/>\n</g>\n<!-- FS3 -->\n<g id=\"node3\" class=\"node\">\n<title>FS3</title>\n<ellipse fill=\"none\" stroke=\"#000000\" cx=\"308.5392\" cy=\"-116.2306\" rx=\"26.7961\" ry=\"26.7961\"/>\n<text text-anchor=\"middle\" x=\"308.5392\" y=\"-112.5306\" font-family=\"Times,serif\" font-size=\"14.00\" fill=\"#000000\">FS3</text>\n</g>\n<!-- EMPTY&#45;&gt;FS3 -->\n<g id=\"edge3\" class=\"edge\">\n<title>EMPTY&#45;&gt;FS3</title>\n<path fill=\"none\" stroke=\"#000000\" d=\"M32.2719,-58.2595C40.4207,-82.4169 58.62,-124.3213 91,-142.2306 149.4517,-174.5601 230.0795,-150.2987 274.9515,-131.8746\"/>\n<polygon fill=\"#000000\" stroke=\"#000000\" points=\"276.3904,-135.0662 284.2286,-127.9379 273.6559,-128.6223 276.3904,-135.0662\"/>\n</g>\n<!-- FS2 -->\n<g id=\"node6\" class=\"node\">\n<title>FS2</title>\n<ellipse fill=\"none\" stroke=\"#000000\" cx=\"308.5392\" cy=\"-34.2306\" rx=\"26.7961\" ry=\"26.7961\"/>\n<text text-anchor=\"middle\" x=\"308.5392\" y=\"-30.5306\" font-family=\"Times,serif\" font-size=\"14.00\" fill=\"#000000\">FS2</text>\n</g>\n<!-- EMPTY&#45;&gt;FS2 -->\n<g id=\"edge2\" class=\"edge\">\n<title>EMPTY&#45;&gt;FS2</title>\n<path fill=\"none\" stroke=\"#000000\" d=\"M52.1628,-22.1169C63.461,-15.0608 77.3112,-7.8164 91,-4.2306 119.4522,3.2224 231.8342,-.1472 263.8916,-9.2306 268.3388,-10.4908 272.8227,-12.2714 277.1445,-14.3089\"/>\n<polygon fill=\"#000000\" stroke=\"#000000\" points=\"275.7859,-17.548 286.2698,-19.0772 279.0278,-11.3439 275.7859,-17.548\"/>\n</g>\n<!-- FS6&#45;&gt;FS6 -->\n<g id=\"edge4\" class=\"edge\">\n<title>FS6&#45;&gt;FS6</title>\n<path fill=\"none\" stroke=\"#000000\" d=\"M113.5317,-66.8157C113.3968,-76.723 114.7687,-84.8783 117.6476,-84.8783 119.447,-84.8783 120.6576,-81.6926 121.2797,-76.8846\"/>\n<polygon fill=\"#000000\" stroke=\"#000000\" points=\"124.7794,-76.9722 121.7636,-66.8157 117.7875,-76.6361 124.7794,-76.9722\"/>\n<text text-anchor=\"middle\" x=\"117.6476\" y=\"-88.6783\" font-family=\"Times,serif\" font-size=\"14.00\" fill=\"#000000\">a </text>\n</g>\n<!-- FS6&#45;&gt;FS6 -->\n<g id=\"edge7\" class=\"edge\">\n<title>FS6&#45;&gt;FS6</title>\n<path fill=\"none\" stroke=\"#000000\" d=\"M110.2859,-65.9713C107.889,-84.4607 110.3429,-102.8783 117.6476,-102.8783 123.5827,-102.8783 126.3155,-90.7198 125.846,-76.2431\"/>\n<polygon fill=\"#000000\" stroke=\"#000000\" points=\"129.3097,-75.6541 125.0094,-65.9713 122.3328,-76.2224 129.3097,-75.6541\"/>\n<text text-anchor=\"middle\" x=\"117.6476\" y=\"-106.6783\" font-family=\"Times,serif\" font-size=\"14.00\" fill=\"#000000\">b </text>\n</g>\n<!-- S4 -->\n<g id=\"node5\" class=\"node\">\n<title>S4</title>\n<ellipse fill=\"none\" stroke=\"#000000\" cx=\"213.0934\" cy=\"-38.2306\" rx=\"20.5982\" ry=\"20.5982\"/>\n<text text-anchor=\"middle\" x=\"213.0934\" y=\"-34.5306\" font-family=\"Times,serif\" font-size=\"14.00\" fill=\"#000000\">S4</text>\n</g>\n<!-- FS6&#45;&gt;S4 -->\n<g id=\"edge6\" class=\"edge\">\n<title>FS6&#45;&gt;S4</title>\n<path fill=\"none\" stroke=\"#000000\" d=\"M138.6491,-23.0541C145.7324,-18.2642 153.9648,-13.6986 162.2953,-11.2306 171.819,-8.4091 181.6096,-11.8548 190.0224,-17.1241\"/>\n<polygon fill=\"#000000\" stroke=\"#000000\" points=\"188.0762,-20.0364 198.2218,-23.089 192.1942,-14.3758 188.0762,-20.0364\"/>\n<text text-anchor=\"middle\" x=\"168.2953\" y=\"-15.0306\" font-family=\"Times,serif\" font-size=\"14.00\" fill=\"#000000\">a </text>\n</g>\n<!-- FS6&#45;&gt;S4 -->\n<g id=\"edge9\" class=\"edge\">\n<title>FS6&#45;&gt;S4</title>\n<path fill=\"none\" stroke=\"#000000\" d=\"M144.4886,-39.6682C156.1735,-39.4234 169.9389,-39.1349 182.0606,-38.8809\"/>\n<polygon fill=\"#000000\" stroke=\"#000000\" points=\"182.2719,-42.3774 192.1963,-38.6685 182.1251,-35.3789 182.2719,-42.3774\"/>\n<text text-anchor=\"middle\" x=\"168.2953\" y=\"-43.0306\" font-family=\"Times,serif\" font-size=\"14.00\" fill=\"#000000\">b </text>\n</g>\n<!-- S5 -->\n<g id=\"node7\" class=\"node\">\n<title>S5</title>\n<ellipse fill=\"none\" stroke=\"#000000\" cx=\"213.0934\" cy=\"-98.2306\" rx=\"20.5982\" ry=\"20.5982\"/>\n<text text-anchor=\"middle\" x=\"213.0934\" y=\"-94.5306\" font-family=\"Times,serif\" font-size=\"14.00\" fill=\"#000000\">S5</text>\n</g>\n<!-- FS6&#45;&gt;S5 -->\n<g id=\"edge5\" class=\"edge\">\n<title>FS6&#45;&gt;S5</title>\n<path fill=\"none\" stroke=\"#000000\" d=\"M140.7524,-54.2708C154.5106,-62.6313 172.028,-73.2762 186.3788,-81.9968\"/>\n<polygon fill=\"#000000\" stroke=\"#000000\" points=\"184.9172,-85.2042 195.2807,-87.4063 188.5525,-79.2221 184.9172,-85.2042\"/>\n<text text-anchor=\"middle\" x=\"168.2953\" y=\"-78.0306\" font-family=\"Times,serif\" font-size=\"14.00\" fill=\"#000000\">a </text>\n</g>\n<!-- FS6&#45;&gt;S5 -->\n<g id=\"edge8\" class=\"edge\">\n<title>FS6&#45;&gt;S5</title>\n<path fill=\"none\" stroke=\"#000000\" d=\"M131.2442,-63.5192C138.9102,-74.4415 149.519,-86.5072 162.2953,-93.2306 168.2651,-96.3722 175.1764,-98.0875 181.9412,-98.947\"/>\n<polygon fill=\"#000000\" stroke=\"#000000\" points=\"182.074,-102.4649 192.295,-99.6752 182.5652,-95.4822 182.074,-102.4649\"/>\n<text text-anchor=\"middle\" x=\"168.2953\" y=\"-101.0306\" font-family=\"Times,serif\" font-size=\"14.00\" fill=\"#000000\">b </text>\n</g>\n<!-- Temp -->\n<g id=\"node4\" class=\"node\">\n<title>Temp</title>\n<ellipse fill=\"none\" stroke=\"#000000\" cx=\"415.684\" cy=\"-48.2306\" rx=\"32.4942\" ry=\"32.4942\"/>\n<text text-anchor=\"middle\" x=\"415.684\" y=\"-44.5306\" font-family=\"Times,serif\" font-size=\"14.00\" fill=\"#000000\">Temp</text>\n</g>\n<!-- FS3&#45;&gt;Temp -->\n<g id=\"edge11\" class=\"edge\">\n<title>FS3&#45;&gt;Temp</title>\n<path fill=\"none\" stroke=\"#000000\" d=\"M331.2012,-101.3977C338.2303,-96.8275 346.0139,-91.7977 353.1869,-87.2306 361.5942,-81.8777 370.6743,-76.1697 379.2386,-70.8189\"/>\n<polygon fill=\"#000000\" stroke=\"#000000\" points=\"381.2928,-73.6627 387.9269,-65.402 377.5893,-67.7227 381.2928,-73.6627\"/>\n<text text-anchor=\"middle\" x=\"359.1869\" y=\"-91.0306\" font-family=\"Times,serif\" font-size=\"14.00\" fill=\"#000000\">b </text>\n</g>\n<!-- IS1 -->\n<g id=\"node8\" class=\"node\">\n<title>IS1</title>\n<ellipse fill=\"none\" stroke=\"#000000\" cx=\"522.229\" cy=\"-82.2306\" rx=\"24.089\" ry=\"24.089\"/>\n<ellipse fill=\"none\" stroke=\"#000000\" cx=\"522.229\" cy=\"-82.2306\" rx=\"28.0958\" ry=\"28.0958\"/>\n<text text-anchor=\"middle\" x=\"522.229\" y=\"-78.5306\" font-family=\"Times,serif\" font-size=\"14.00\" fill=\"#000000\">IS1</text>\n</g>\n<!-- FS3&#45;&gt;IS1 -->\n<g id=\"edge10\" class=\"edge\">\n<title>FS3&#45;&gt;IS1</title>\n<path fill=\"none\" stroke=\"#000000\" d=\"M335.1711,-111.9933C372.6905,-106.0236 441.3085,-95.1058 484.1915,-88.2828\"/>\n<polygon fill=\"#000000\" stroke=\"#000000\" points=\"484.9164,-91.7115 494.2422,-86.6836 483.8164,-84.7985 484.9164,-91.7115\"/>\n<text text-anchor=\"middle\" x=\"415.684\" y=\"-108.0306\" font-family=\"Times,serif\" font-size=\"14.00\" fill=\"#000000\">b </text>\n</g>\n<!-- Temp&#45;&gt;IS1 -->\n<g id=\"edge12\" class=\"edge\">\n<title>Temp&#45;&gt;IS1</title>\n<path fill=\"none\" stroke=\"#000000\" d=\"M446.7876,-58.1562C458.9041,-62.0228 472.8828,-66.4836 485.4902,-70.5068\"/>\n<polygon fill=\"#000000\" stroke=\"#000000\" points=\"484.6545,-73.9139 495.2453,-73.6198 486.7826,-67.2453 484.6545,-73.9139\"/>\n<text text-anchor=\"middle\" x=\"471.1811\" y=\"-71.0306\" font-family=\"Times,serif\" font-size=\"14.00\" fill=\"#000000\">a </text>\n</g>\n<!-- S4&#45;&gt;FS3 -->\n<g id=\"edge14\" class=\"edge\">\n<title>S4&#45;&gt;FS3</title>\n<path fill=\"none\" stroke=\"#000000\" d=\"M234.0406,-38.6826C243.8048,-39.7683 255.1653,-42.3615 263.8916,-48.2306 267.6489,-50.7578 278.8471,-67.8193 289.0878,-84.2182\"/>\n<polygon fill=\"#000000\" stroke=\"#000000\" points=\"286.3859,-86.5033 294.6252,-93.164 292.338,-82.819 286.3859,-86.5033\"/>\n<text text-anchor=\"middle\" x=\"257.8916\" y=\"-52.0306\" font-family=\"Times,serif\" font-size=\"14.00\" fill=\"#000000\">b </text>\n</g>\n<!-- S4&#45;&gt;FS2 -->\n<g id=\"edge13\" class=\"edge\">\n<title>S4&#45;&gt;FS2</title>\n<path fill=\"none\" stroke=\"#000000\" d=\"M229.5048,-25.2775C236.0796,-20.8665 243.9684,-16.4832 251.8916,-14.2306 260.0223,-11.9191 268.6825,-13.0758 276.7221,-15.7363\"/>\n<polygon fill=\"#000000\" stroke=\"#000000\" points=\"275.5629,-19.0437 286.1434,-19.5954 278.2163,-12.5661 275.5629,-19.0437\"/>\n<text text-anchor=\"middle\" x=\"257.8916\" y=\"-18.0306\" font-family=\"Times,serif\" font-size=\"14.00\" fill=\"#000000\">a </text>\n</g>\n<!-- FS2&#45;&gt;Temp -->\n<g id=\"edge15\" class=\"edge\">\n<title>FS2&#45;&gt;Temp</title>\n<path fill=\"none\" stroke=\"#000000\" d=\"M335.0244,-37.6913C346.5644,-39.1992 360.38,-41.0044 373.2893,-42.6912\"/>\n<polygon fill=\"#000000\" stroke=\"#000000\" points=\"373.018,-46.1854 383.3872,-44.0106 373.925,-39.2444 373.018,-46.1854\"/>\n<text text-anchor=\"middle\" x=\"359.1869\" y=\"-45.0306\" font-family=\"Times,serif\" font-size=\"14.00\" fill=\"#000000\">a </text>\n</g>\n<!-- S5&#45;&gt;FS3 -->\n<g id=\"edge16\" class=\"edge\">\n<title>S5&#45;&gt;FS3</title>\n<path fill=\"none\" stroke=\"#000000\" d=\"M233.8037,-102.1364C244.9653,-104.2413 259.0663,-106.9006 272.0046,-109.3406\"/>\n<polygon fill=\"#000000\" stroke=\"#000000\" points=\"271.5778,-112.8218 282.0533,-111.2357 272.8751,-105.943 271.5778,-112.8218\"/>\n<text text-anchor=\"middle\" x=\"257.8916\" y=\"-111.0306\" font-family=\"Times,serif\" font-size=\"14.00\" fill=\"#000000\">a </text>\n</g>\n<!-- S5&#45;&gt;FS2 -->\n<g id=\"edge17\" class=\"edge\">\n<title>S5&#45;&gt;FS2</title>\n<path fill=\"none\" stroke=\"#000000\" d=\"M231.2045,-87.7082C241.0117,-81.8785 253.262,-74.3819 263.8916,-67.2306 268.81,-63.9217 273.9419,-60.2981 278.901,-56.702\"/>\n<polygon fill=\"#000000\" stroke=\"#000000\" points=\"281.0317,-59.4797 287.0154,-50.7363 276.8853,-53.8398 281.0317,-59.4797\"/>\n<text text-anchor=\"middle\" x=\"257.8916\" y=\"-78.0306\" font-family=\"Times,serif\" font-size=\"14.00\" fill=\"#000000\">b </text>\n</g>\n</g>\n</svg>\n"
          },
          "metadata": {
            "tags": []
          },
          "execution_count": 69
        }
      ]
    },
    {
      "cell_type": "code",
      "metadata": {
        "id": "QfYnamwqHPsN",
        "outputId": "5422a885-5563-44b8-df9e-cabf3444fe8a",
        "colab": {
          "base_uri": "https://localhost:8080/"
        }
      },
      "source": [
        "NFA1"
      ],
      "execution_count": 70,
      "outputs": [
        {
          "output_type": "execute_result",
          "data": {
            "text/plain": [
              "{'Delta': {('FS2', 'a'): {'Temp'},\n",
              "  ('FS2', 'b'): set(),\n",
              "  ('FS3', 'a'): set(),\n",
              "  ('FS3', 'b'): {'IS1', 'Temp'},\n",
              "  ('FS6', 'a'): {'FS6', 'S4', 'S5'},\n",
              "  ('FS6', 'b'): {'FS6', 'S4', 'S5'},\n",
              "  ('IS1', 'a'): set(),\n",
              "  ('IS1', 'b'): set(),\n",
              "  ('S4', 'a'): {'FS2'},\n",
              "  ('S4', 'b'): {'FS3'},\n",
              "  ('S5', 'a'): {'FS3'},\n",
              "  ('S5', 'b'): {'FS2'},\n",
              "  ('Temp', 'a'): {'IS1'},\n",
              "  ('Temp', 'b'): set()},\n",
              " 'F': {'IS1'},\n",
              " 'Q': {'FS2', 'FS3', 'FS6', 'IS1', 'S4', 'S5', 'Temp'},\n",
              " 'Q0': {'FS2', 'FS3', 'FS6'},\n",
              " 'Sigma': {'a', 'b'}}"
            ]
          },
          "metadata": {
            "tags": []
          },
          "execution_count": 70
        }
      ]
    },
    {
      "cell_type": "markdown",
      "metadata": {
        "id": "0XLnFKm59Vi8"
      },
      "source": [
        "## Check that NFA1 is indeed the reverse of DFA_bloated by checking one string\n",
        "\n",
        "Point out that \"aabba\" is in DFA_bloated's language but its reversal (i.e. \"abbaa\") is in NFA1's language\n",
        "\n",
        "### Which path does abbaa take in being accepted by NFA1 ?\n",
        "\n",
        ".... LIST THE PATH AS A SEQUENCE OF STATES, HERE ....\n",
        "\n",
        "* Starting from State FS6\n",
        "\n",
        "* The next state after 'a' is FS6\n",
        "\n",
        "* The next state after 'b' is S5\n",
        "\n",
        "* The next state after 'b' is FS2\n",
        "\n",
        "* The next state after 'a' is Temp\n",
        "\n",
        "* The next state after 'a' is IS1\n"
      ]
    },
    {
      "cell_type": "markdown",
      "metadata": {
        "id": "jDv4ap409Vi9"
      },
      "source": [
        "## Determinize NFA1 to obtain DFA2"
      ]
    },
    {
      "cell_type": "code",
      "metadata": {
        "id": "7py0q2b59Vi9"
      },
      "source": [
        "help(nfa2dfa)"
      ],
      "execution_count": null,
      "outputs": []
    },
    {
      "cell_type": "code",
      "metadata": {
        "id": "9Rxk3hWk9Vi9"
      },
      "source": [
        "DFA2 = nfa2dfa(NFA1)"
      ],
      "execution_count": 54,
      "outputs": []
    },
    {
      "cell_type": "code",
      "metadata": {
        "id": "488XcKko9Vi9",
        "outputId": "75df8d2b-3391-4758-ff3c-27fcacda9e69",
        "colab": {
          "base_uri": "https://localhost:8080/",
          "height": 241
        }
      },
      "source": [
        "dotObj_dfa(DFA2)"
      ],
      "execution_count": 55,
      "outputs": [
        {
          "output_type": "execute_result",
          "data": {
            "text/plain": [
              "<graphviz.dot.Digraph at 0x7f9515dfdf28>"
            ],
            "image/svg+xml": "<?xml version=\"1.0\" encoding=\"UTF-8\" standalone=\"no\"?>\n<!DOCTYPE svg PUBLIC \"-//W3C//DTD SVG 1.1//EN\"\n \"http://www.w3.org/Graphics/SVG/1.1/DTD/svg11.dtd\">\n<!-- Generated by graphviz version 2.40.1 (20161225.0304)\n -->\n<!-- Title: %3 Pages: 1 -->\n<svg width=\"547pt\" height=\"165pt\"\n viewBox=\"0.00 0.00 546.98 164.80\" xmlns=\"http://www.w3.org/2000/svg\" xmlns:xlink=\"http://www.w3.org/1999/xlink\">\n<g id=\"graph0\" class=\"graph\" transform=\"scale(1 1) rotate(0) translate(4 160.7958)\">\n<title>%3</title>\n<polygon fill=\"#ffffff\" stroke=\"transparent\" points=\"-4,4 -4,-160.7958 542.9792,-160.7958 542.9792,4 -4,4\"/>\n<!-- EMPTY -->\n<g id=\"node1\" class=\"node\">\n<title>EMPTY</title>\n</g>\n<!-- St4 -->\n<g id=\"node4\" class=\"node\">\n<title>St4</title>\n<ellipse fill=\"none\" stroke=\"#000000\" cx=\"114.3979\" cy=\"-61.3979\" rx=\"23.2963\" ry=\"23.2963\"/>\n<text text-anchor=\"middle\" x=\"114.3979\" y=\"-57.6979\" font-family=\"Times,serif\" font-size=\"14.00\" fill=\"#000000\">St4</text>\n</g>\n<!-- EMPTY&#45;&gt;St4 -->\n<g id=\"edge1\" class=\"edge\">\n<title>EMPTY&#45;&gt;St4</title>\n<path fill=\"none\" stroke=\"#000000\" d=\"M54.1742,-61.3979C62.5103,-61.3979 71.7873,-61.3979 80.5137,-61.3979\"/>\n<polygon fill=\"#000000\" stroke=\"#000000\" points=\"80.7846,-64.898 90.7846,-61.3979 80.7845,-57.898 80.7846,-64.898\"/>\n</g>\n<!-- St2 -->\n<g id=\"node2\" class=\"node\">\n<title>St2</title>\n<ellipse fill=\"none\" stroke=\"#000000\" cx=\"412.7855\" cy=\"-60.3979\" rx=\"23.2963\" ry=\"23.2963\"/>\n<text text-anchor=\"middle\" x=\"412.7855\" y=\"-56.6979\" font-family=\"Times,serif\" font-size=\"14.00\" fill=\"#000000\">St2</text>\n</g>\n<!-- St0 -->\n<g id=\"node7\" class=\"node\">\n<title>St0</title>\n<ellipse fill=\"none\" stroke=\"#000000\" cx=\"511.5813\" cy=\"-63.3979\" rx=\"23.3111\" ry=\"23.3111\"/>\n<ellipse fill=\"none\" stroke=\"#000000\" cx=\"511.5813\" cy=\"-63.3979\" rx=\"27.2962\" ry=\"27.2962\"/>\n<text text-anchor=\"middle\" x=\"511.5813\" y=\"-59.6979\" font-family=\"Times,serif\" font-size=\"14.00\" fill=\"#000000\">St0</text>\n</g>\n<!-- St2&#45;&gt;St0 -->\n<g id=\"edge12\" class=\"edge\">\n<title>St2&#45;&gt;St0</title>\n<path fill=\"none\" stroke=\"#000000\" d=\"M433.8947,-49.7713C443.6326,-46.0876 455.4009,-43.3383 466.1834,-45.3979 469.8112,-46.0909 473.519,-47.0692 477.1744,-48.2158\"/>\n<polygon fill=\"#000000\" stroke=\"#000000\" points=\"476.0425,-51.5279 486.6373,-51.563 478.3769,-44.9286 476.0425,-51.5279\"/>\n<text text-anchor=\"middle\" x=\"460.1834\" y=\"-49.1979\" font-family=\"Times,serif\" font-size=\"14.00\" fill=\"#000000\">a </text>\n</g>\n<!-- St2&#45;&gt;St0 -->\n<g id=\"edge13\" class=\"edge\">\n<title>St2&#45;&gt;St0</title>\n<path fill=\"none\" stroke=\"#000000\" d=\"M436.1987,-61.1089C447.4326,-61.45 461.173,-61.8672 473.8312,-62.2516\"/>\n<polygon fill=\"#000000\" stroke=\"#000000\" points=\"474.0292,-65.7592 484.1309,-62.5644 474.2418,-58.7624 474.0292,-65.7592\"/>\n<text text-anchor=\"middle\" x=\"460.1834\" y=\"-66.1979\" font-family=\"Times,serif\" font-size=\"14.00\" fill=\"#000000\">b </text>\n</g>\n<!-- St6 -->\n<g id=\"node3\" class=\"node\">\n<title>St6</title>\n<ellipse fill=\"none\" stroke=\"#000000\" cx=\"213.1938\" cy=\"-96.3979\" rx=\"23.2963\" ry=\"23.2963\"/>\n<text text-anchor=\"middle\" x=\"213.1938\" y=\"-92.6979\" font-family=\"Times,serif\" font-size=\"14.00\" fill=\"#000000\">St6</text>\n</g>\n<!-- St3 -->\n<g id=\"node5\" class=\"node\">\n<title>St3</title>\n<ellipse fill=\"none\" stroke=\"#000000\" cx=\"315.9896\" cy=\"-102.3979\" rx=\"23.2963\" ry=\"23.2963\"/>\n<text text-anchor=\"middle\" x=\"315.9896\" y=\"-98.6979\" font-family=\"Times,serif\" font-size=\"14.00\" fill=\"#000000\">St3</text>\n</g>\n<!-- St6&#45;&gt;St3 -->\n<g id=\"edge5\" class=\"edge\">\n<title>St6&#45;&gt;St3</title>\n<path fill=\"none\" stroke=\"#000000\" d=\"M236.7772,-97.7744C250.228,-98.5595 267.3157,-99.5569 282.1744,-100.4242\"/>\n<polygon fill=\"#000000\" stroke=\"#000000\" points=\"282.3289,-103.9391 292.5159,-101.0278 282.7369,-96.951 282.3289,-103.9391\"/>\n<text text-anchor=\"middle\" x=\"264.5917\" y=\"-103.1979\" font-family=\"Times,serif\" font-size=\"14.00\" fill=\"#000000\">b </text>\n</g>\n<!-- St1 -->\n<g id=\"node6\" class=\"node\">\n<title>St1</title>\n<ellipse fill=\"none\" stroke=\"#000000\" cx=\"315.9896\" cy=\"-27.3979\" rx=\"23.3111\" ry=\"23.3111\"/>\n<ellipse fill=\"none\" stroke=\"#000000\" cx=\"315.9896\" cy=\"-27.3979\" rx=\"27.2962\" ry=\"27.2962\"/>\n<text text-anchor=\"middle\" x=\"315.9896\" y=\"-23.6979\" font-family=\"Times,serif\" font-size=\"14.00\" fill=\"#000000\">St1</text>\n</g>\n<!-- St6&#45;&gt;St1 -->\n<g id=\"edge4\" class=\"edge\">\n<title>St6&#45;&gt;St1</title>\n<path fill=\"none\" stroke=\"#000000\" d=\"M233.249,-83.7566C244.3317,-76.6993 258.3044,-67.6836 270.5917,-59.3979 275.2887,-56.2306 280.2208,-52.8317 285.0327,-49.4743\"/>\n<polygon fill=\"#000000\" stroke=\"#000000\" points=\"287.3168,-52.1471 293.4877,-43.5348 283.293,-46.4192 287.3168,-52.1471\"/>\n<text text-anchor=\"middle\" x=\"264.5917\" y=\"-70.1979\" font-family=\"Times,serif\" font-size=\"14.00\" fill=\"#000000\">a </text>\n</g>\n<!-- St4&#45;&gt;St6 -->\n<g id=\"edge2\" class=\"edge\">\n<title>St4&#45;&gt;St6</title>\n<path fill=\"none\" stroke=\"#000000\" d=\"M136.8162,-69.34C149.9532,-73.9939 166.7624,-79.9489 181.2655,-85.0868\"/>\n<polygon fill=\"#000000\" stroke=\"#000000\" points=\"180.2694,-88.447 190.8642,-88.4873 182.607,-81.8488 180.2694,-88.447\"/>\n<text text-anchor=\"middle\" x=\"161.7958\" y=\"-83.1979\" font-family=\"Times,serif\" font-size=\"14.00\" fill=\"#000000\">a </text>\n</g>\n<!-- St5 -->\n<g id=\"node8\" class=\"node\">\n<title>St5</title>\n<ellipse fill=\"none\" stroke=\"#000000\" cx=\"213.1938\" cy=\"-27.3979\" rx=\"23.3111\" ry=\"23.3111\"/>\n<ellipse fill=\"none\" stroke=\"#000000\" cx=\"213.1938\" cy=\"-27.3979\" rx=\"27.2962\" ry=\"27.2962\"/>\n<text text-anchor=\"middle\" x=\"213.1938\" y=\"-23.6979\" font-family=\"Times,serif\" font-size=\"14.00\" fill=\"#000000\">St5</text>\n</g>\n<!-- St4&#45;&gt;St5 -->\n<g id=\"edge3\" class=\"edge\">\n<title>St4&#45;&gt;St5</title>\n<path fill=\"none\" stroke=\"#000000\" d=\"M136.8162,-53.6828C148.819,-49.5521 163.8873,-44.3665 177.4614,-39.695\"/>\n<polygon fill=\"#000000\" stroke=\"#000000\" points=\"178.6994,-42.9705 187.0161,-36.4068 176.4214,-36.3515 178.6994,-42.9705\"/>\n<text text-anchor=\"middle\" x=\"161.7958\" y=\"-51.1979\" font-family=\"Times,serif\" font-size=\"14.00\" fill=\"#000000\">b </text>\n</g>\n<!-- St3&#45;&gt;St2 -->\n<g id=\"edge10\" class=\"edge\">\n<title>St3&#45;&gt;St2</title>\n<path fill=\"none\" stroke=\"#000000\" d=\"M337.4718,-93.0768C350.4143,-87.4609 367.1224,-80.2113 381.5119,-73.9676\"/>\n<polygon fill=\"#000000\" stroke=\"#000000\" points=\"383.2482,-77.0296 391.0287,-69.8383 380.4618,-70.608 383.2482,-77.0296\"/>\n<text text-anchor=\"middle\" x=\"366.3875\" y=\"-86.1979\" font-family=\"Times,serif\" font-size=\"14.00\" fill=\"#000000\">a </text>\n</g>\n<!-- St3&#45;&gt;St0 -->\n<g id=\"edge11\" class=\"edge\">\n<title>St3&#45;&gt;St0</title>\n<path fill=\"none\" stroke=\"#000000\" d=\"M339.4706,-102.5959C349.3398,-102.5179 360.9345,-102.2153 371.3875,-101.3979 400.3737,-99.1315 407.9751,-99.4425 436.1834,-92.3979 449.9616,-88.957 452.9148,-86.46 466.1834,-81.3979 469.451,-80.1513 472.8444,-78.8391 476.238,-77.5147\"/>\n<polygon fill=\"#000000\" stroke=\"#000000\" points=\"477.673,-80.7114 485.6988,-73.7949 475.1115,-74.1969 477.673,-80.7114\"/>\n<text text-anchor=\"middle\" x=\"412.7855\" y=\"-103.1979\" font-family=\"Times,serif\" font-size=\"14.00\" fill=\"#000000\">b </text>\n</g>\n<!-- St1&#45;&gt;St2 -->\n<g id=\"edge8\" class=\"edge\">\n<title>St1&#45;&gt;St2</title>\n<path fill=\"none\" stroke=\"#000000\" d=\"M341.9291,-36.2413C353.8598,-40.3088 368.13,-45.1738 380.7271,-49.4685\"/>\n<polygon fill=\"#000000\" stroke=\"#000000\" points=\"379.7998,-52.8501 390.3943,-52.7642 382.0586,-46.2245 379.7998,-52.8501\"/>\n<text text-anchor=\"middle\" x=\"366.3875\" y=\"-50.1979\" font-family=\"Times,serif\" font-size=\"14.00\" fill=\"#000000\">a </text>\n</g>\n<!-- St1&#45;&gt;St0 -->\n<g id=\"edge9\" class=\"edge\">\n<title>St1&#45;&gt;St0</title>\n<path fill=\"none\" stroke=\"#000000\" d=\"M342.3181,-18.3283C367.0369,-11.207 404.8055,-3.9392 436.1834,-13.3979 453.0838,-18.4924 469.6762,-28.7499 482.9741,-38.6554\"/>\n<polygon fill=\"#000000\" stroke=\"#000000\" points=\"481.1641,-41.6815 491.2071,-45.0562 485.4606,-36.1552 481.1641,-41.6815\"/>\n<text text-anchor=\"middle\" x=\"412.7855\" y=\"-17.1979\" font-family=\"Times,serif\" font-size=\"14.00\" fill=\"#000000\">b </text>\n</g>\n<!-- St0&#45;&gt;St0 -->\n<g id=\"edge14\" class=\"edge\">\n<title>St0&#45;&gt;St0</title>\n<path fill=\"none\" stroke=\"#000000\" d=\"M506.9041,-90.4297C506.7508,-100.5036 508.3098,-108.7958 511.5813,-108.7958 513.626,-108.7958 515.0018,-105.5567 515.7086,-100.6679\"/>\n<polygon fill=\"#000000\" stroke=\"#000000\" points=\"519.217,-100.6031 516.2585,-90.4297 512.2271,-100.2276 519.217,-100.6031\"/>\n<text text-anchor=\"middle\" x=\"511.5813\" y=\"-112.5958\" font-family=\"Times,serif\" font-size=\"14.00\" fill=\"#000000\">a </text>\n</g>\n<!-- St0&#45;&gt;St0 -->\n<g id=\"edge15\" class=\"edge\">\n<title>St0&#45;&gt;St0</title>\n<path fill=\"none\" stroke=\"#000000\" d=\"M503.1682,-89.777C500.525,-108.3764 503.3294,-126.7958 511.5813,-126.7958 518.286,-126.7958 521.3945,-114.6361 520.9067,-100.1\"/>\n<polygon fill=\"#000000\" stroke=\"#000000\" points=\"524.3612,-99.4301 519.9944,-89.777 517.3884,-100.0463 524.3612,-99.4301\"/>\n<text text-anchor=\"middle\" x=\"511.5813\" y=\"-130.5958\" font-family=\"Times,serif\" font-size=\"14.00\" fill=\"#000000\">b </text>\n</g>\n<!-- St5&#45;&gt;St3 -->\n<g id=\"edge7\" class=\"edge\">\n<title>St5&#45;&gt;St3</title>\n<path fill=\"none\" stroke=\"#000000\" d=\"M240.7655,-29.5908C250.7832,-31.3919 261.7932,-34.624 270.5917,-40.3979 272.4794,-41.6367 285.0697,-58.9087 296.5133,-74.9075\"/>\n<polygon fill=\"#000000\" stroke=\"#000000\" points=\"293.6751,-76.9556 302.3303,-83.066 299.3747,-72.8918 293.6751,-76.9556\"/>\n<text text-anchor=\"middle\" x=\"264.5917\" y=\"-44.1979\" font-family=\"Times,serif\" font-size=\"14.00\" fill=\"#000000\">b </text>\n</g>\n<!-- St5&#45;&gt;St1 -->\n<g id=\"edge6\" class=\"edge\">\n<title>St5&#45;&gt;St1</title>\n<path fill=\"none\" stroke=\"#000000\" d=\"M236.2287,-12.5147C246.5481,-7.5437 258.9852,-3.8435 270.5917,-6.3979 274.4877,-7.2554 278.4472,-8.4813 282.3221,-9.9158\"/>\n<polygon fill=\"#000000\" stroke=\"#000000\" points=\"281.1182,-13.2058 291.6952,-13.8204 283.8101,-6.7441 281.1182,-13.2058\"/>\n<text text-anchor=\"middle\" x=\"264.5917\" y=\"-10.1979\" font-family=\"Times,serif\" font-size=\"14.00\" fill=\"#000000\">a </text>\n</g>\n</g>\n</svg>\n"
          },
          "metadata": {
            "tags": []
          },
          "execution_count": 55
        }
      ]
    },
    {
      "cell_type": "markdown",
      "metadata": {
        "id": "VcP1JG3H9Vi-"
      },
      "source": [
        "## Reverse DFA2 to obtain NFA3"
      ]
    },
    {
      "cell_type": "code",
      "metadata": {
        "id": "9X4Ug9Cx9Vi-"
      },
      "source": [
        "NFA3 = rev_dfa(DFA2)"
      ],
      "execution_count": 56,
      "outputs": []
    },
    {
      "cell_type": "code",
      "metadata": {
        "id": "W17myrld9Vi-",
        "outputId": "7e40018d-1b38-4575-aac3-79db133357ed",
        "colab": {
          "base_uri": "https://localhost:8080/",
          "height": 306
        }
      },
      "source": [
        "dotObj_nfa(NFA3)"
      ],
      "execution_count": 57,
      "outputs": [
        {
          "output_type": "execute_result",
          "data": {
            "text/plain": [
              "<graphviz.dot.Digraph at 0x7f9515dfde48>"
            ],
            "image/svg+xml": "<?xml version=\"1.0\" encoding=\"UTF-8\" standalone=\"no\"?>\n<!DOCTYPE svg PUBLIC \"-//W3C//DTD SVG 1.1//EN\"\n \"http://www.w3.org/Graphics/SVG/1.1/DTD/svg11.dtd\">\n<!-- Generated by graphviz version 2.40.1 (20161225.0304)\n -->\n<!-- Title: %3 Pages: 1 -->\n<svg width=\"531pt\" height=\"214pt\"\n viewBox=\"0.00 0.00 530.98 214.40\" xmlns=\"http://www.w3.org/2000/svg\" xmlns:xlink=\"http://www.w3.org/1999/xlink\">\n<g id=\"graph0\" class=\"graph\" transform=\"scale(1 1) rotate(0) translate(4 210.3979)\">\n<title>%3</title>\n<polygon fill=\"#ffffff\" stroke=\"transparent\" points=\"-4,4 -4,-210.3979 526.9792,-210.3979 526.9792,4 -4,4\"/>\n<!-- EMPTY -->\n<g id=\"node1\" class=\"node\">\n<title>EMPTY</title>\n</g>\n<!-- St0 -->\n<g id=\"node3\" class=\"node\">\n<title>St0</title>\n<ellipse fill=\"none\" stroke=\"#000000\" cx=\"114.3979\" cy=\"-117\" rx=\"23.2963\" ry=\"23.2963\"/>\n<text text-anchor=\"middle\" x=\"114.3979\" y=\"-113.3\" font-family=\"Times,serif\" font-size=\"14.00\" fill=\"#000000\">St0</text>\n</g>\n<!-- EMPTY&#45;&gt;St0 -->\n<g id=\"edge2\" class=\"edge\">\n<title>EMPTY&#45;&gt;St0</title>\n<path fill=\"none\" stroke=\"#000000\" d=\"M47.2705,-56.3228C59.8322,-67.6774 76.0609,-82.3467 89.4147,-94.4173\"/>\n<polygon fill=\"#000000\" stroke=\"#000000\" points=\"87.13,-97.0701 96.8955,-101.1793 91.824,-91.8772 87.13,-97.0701\"/>\n</g>\n<!-- St5 -->\n<g id=\"node4\" class=\"node\">\n<title>St5</title>\n<ellipse fill=\"none\" stroke=\"#000000\" cx=\"396.7855\" cy=\"-45\" rx=\"23.2963\" ry=\"23.2963\"/>\n<text text-anchor=\"middle\" x=\"396.7855\" y=\"-41.3\" font-family=\"Times,serif\" font-size=\"14.00\" fill=\"#000000\">St5</text>\n</g>\n<!-- EMPTY&#45;&gt;St5 -->\n<g id=\"edge3\" class=\"edge\">\n<title>EMPTY&#45;&gt;St5</title>\n<path fill=\"none\" stroke=\"#000000\" d=\"M53.279,-19.8903C70.0041,-10.103 92.558,0 114.3979,0 114.3979,0 114.3979,0 301.9896,0 326.726,0 351.8901,-12.6594 370.0695,-24.5492\"/>\n<polygon fill=\"#000000\" stroke=\"#000000\" points=\"368.1744,-27.4936 378.4003,-30.2653 372.1349,-21.7216 368.1744,-27.4936\"/>\n</g>\n<!-- St1 -->\n<g id=\"node7\" class=\"node\">\n<title>St1</title>\n<ellipse fill=\"none\" stroke=\"#000000\" cx=\"301.9896\" cy=\"-83\" rx=\"23.2963\" ry=\"23.2963\"/>\n<text text-anchor=\"middle\" x=\"301.9896\" y=\"-79.3\" font-family=\"Times,serif\" font-size=\"14.00\" fill=\"#000000\">St1</text>\n</g>\n<!-- EMPTY&#45;&gt;St1 -->\n<g id=\"edge1\" class=\"edge\">\n<title>EMPTY&#45;&gt;St1</title>\n<path fill=\"none\" stroke=\"#000000\" d=\"M54.1196,-42.4379C104.7832,-50.7286 213.6403,-68.5423 268.6769,-77.5486\"/>\n<polygon fill=\"#000000\" stroke=\"#000000\" points=\"268.1834,-81.0143 278.6174,-79.1753 269.3139,-74.1062 268.1834,-81.0143\"/>\n</g>\n<!-- St6 -->\n<g id=\"node2\" class=\"node\">\n<title>St6</title>\n<ellipse fill=\"none\" stroke=\"#000000\" cx=\"396.7855\" cy=\"-110\" rx=\"23.2963\" ry=\"23.2963\"/>\n<text text-anchor=\"middle\" x=\"396.7855\" y=\"-106.3\" font-family=\"Times,serif\" font-size=\"14.00\" fill=\"#000000\">St6</text>\n</g>\n<!-- St4 -->\n<g id=\"node8\" class=\"node\">\n<title>St4</title>\n<ellipse fill=\"none\" stroke=\"#000000\" cx=\"495.5813\" cy=\"-77\" rx=\"23.3111\" ry=\"23.3111\"/>\n<ellipse fill=\"none\" stroke=\"#000000\" cx=\"495.5813\" cy=\"-77\" rx=\"27.2962\" ry=\"27.2962\"/>\n<text text-anchor=\"middle\" x=\"495.5813\" y=\"-73.3\" font-family=\"Times,serif\" font-size=\"14.00\" fill=\"#000000\">St4</text>\n</g>\n<!-- St6&#45;&gt;St4 -->\n<g id=\"edge4\" class=\"edge\">\n<title>St6&#45;&gt;St4</title>\n<path fill=\"none\" stroke=\"#000000\" d=\"M419.2038,-102.5118C431.2065,-98.5026 446.2748,-93.4695 459.8489,-88.9354\"/>\n<polygon fill=\"#000000\" stroke=\"#000000\" points=\"461.0277,-92.2318 469.4037,-85.7439 458.8099,-85.5924 461.0277,-92.2318\"/>\n<text text-anchor=\"middle\" x=\"444.1834\" y=\"-99.8\" font-family=\"Times,serif\" font-size=\"14.00\" fill=\"#000000\">a </text>\n</g>\n<!-- St0&#45;&gt;St0 -->\n<g id=\"edge6\" class=\"edge\">\n<title>St0&#45;&gt;St0</title>\n<path fill=\"none\" stroke=\"#000000\" d=\"M110.6809,-140.4068C110.4245,-150.1439 111.6635,-158.3979 114.3979,-158.3979 116.0642,-158.3979 117.1752,-155.3329 117.7309,-150.735\"/>\n<polygon fill=\"#000000\" stroke=\"#000000\" points=\"121.2408,-150.53 118.115,-140.4068 114.2456,-150.2698 121.2408,-150.53\"/>\n<text text-anchor=\"middle\" x=\"114.3979\" y=\"-162.1979\" font-family=\"Times,serif\" font-size=\"14.00\" fill=\"#000000\">a </text>\n</g>\n<!-- St0&#45;&gt;St0 -->\n<g id=\"edge9\" class=\"edge\">\n<title>St0&#45;&gt;St0</title>\n<path fill=\"none\" stroke=\"#000000\" d=\"M107.9526,-139.5497C105.3745,-157.6814 107.5229,-176.3979 114.3979,-176.3979 119.9839,-176.3979 122.4495,-164.0421 121.7949,-149.6833\"/>\n<polygon fill=\"#000000\" stroke=\"#000000\" points=\"125.263,-149.1786 120.8432,-139.5497 118.2937,-149.8332 125.263,-149.1786\"/>\n<text text-anchor=\"middle\" x=\"114.3979\" y=\"-180.1979\" font-family=\"Times,serif\" font-size=\"14.00\" fill=\"#000000\">b </text>\n</g>\n<!-- St2 -->\n<g id=\"node5\" class=\"node\">\n<title>St2</title>\n<ellipse fill=\"none\" stroke=\"#000000\" cx=\"209.1938\" cy=\"-140\" rx=\"23.2963\" ry=\"23.2963\"/>\n<text text-anchor=\"middle\" x=\"209.1938\" y=\"-136.3\" font-family=\"Times,serif\" font-size=\"14.00\" fill=\"#000000\">St2</text>\n</g>\n<!-- St0&#45;&gt;St2 -->\n<g id=\"edge5\" class=\"edge\">\n<title>St0&#45;&gt;St2</title>\n<path fill=\"none\" stroke=\"#000000\" d=\"M135.9946,-126.4641C142.2803,-128.9112 149.2253,-131.3252 155.7958,-133 162.1577,-134.6216 169.047,-135.8803 175.6958,-136.8531\"/>\n<polygon fill=\"#000000\" stroke=\"#000000\" points=\"175.4706,-140.3529 185.8355,-138.1576 176.3639,-133.4101 175.4706,-140.3529\"/>\n<text text-anchor=\"middle\" x=\"161.7958\" y=\"-139.8\" font-family=\"Times,serif\" font-size=\"14.00\" fill=\"#000000\">a </text>\n</g>\n<!-- St0&#45;&gt;St2 -->\n<g id=\"edge8\" class=\"edge\">\n<title>St0&#45;&gt;St2</title>\n<path fill=\"none\" stroke=\"#000000\" d=\"M137.3776,-112.398C146.9462,-111.3274 158.0704,-111.1992 167.7958,-114 172.5414,-115.3666 177.2684,-117.4552 181.7401,-119.867\"/>\n<polygon fill=\"#000000\" stroke=\"#000000\" points=\"180.1143,-122.9738 190.4846,-125.1437 183.7309,-116.9804 180.1143,-122.9738\"/>\n<text text-anchor=\"middle\" x=\"161.7958\" y=\"-117.8\" font-family=\"Times,serif\" font-size=\"14.00\" fill=\"#000000\">b </text>\n</g>\n<!-- St3 -->\n<g id=\"node6\" class=\"node\">\n<title>St3</title>\n<ellipse fill=\"none\" stroke=\"#000000\" cx=\"301.9896\" cy=\"-159\" rx=\"23.2963\" ry=\"23.2963\"/>\n<text text-anchor=\"middle\" x=\"301.9896\" y=\"-155.3\" font-family=\"Times,serif\" font-size=\"14.00\" fill=\"#000000\">St3</text>\n</g>\n<!-- St0&#45;&gt;St3 -->\n<g id=\"edge10\" class=\"edge\">\n<title>St0&#45;&gt;St3</title>\n<path fill=\"none\" stroke=\"#000000\" d=\"M129.842,-134.9551C143.0392,-148.6364 163.4036,-166.0965 185.7958,-172 213.4939,-179.3023 245.9627,-174.6038 269.526,-168.9161\"/>\n<polygon fill=\"#000000\" stroke=\"#000000\" points=\"270.559,-172.264 279.3575,-166.3618 268.7987,-165.4889 270.559,-172.264\"/>\n<text text-anchor=\"middle\" x=\"209.1938\" y=\"-179.8\" font-family=\"Times,serif\" font-size=\"14.00\" fill=\"#000000\">b </text>\n</g>\n<!-- St0&#45;&gt;St1 -->\n<g id=\"edge7\" class=\"edge\">\n<title>St0&#45;&gt;St1</title>\n<path fill=\"none\" stroke=\"#000000\" d=\"M136.2134,-108.1555C150.1618,-102.8812 168.7678,-96.5416 185.7958,-93 213.1282,-87.3152 244.7251,-84.8532 268.0638,-83.7914\"/>\n<polygon fill=\"#000000\" stroke=\"#000000\" points=\"268.3057,-87.2847 278.1609,-83.3956 268.0314,-80.2901 268.3057,-87.2847\"/>\n<text text-anchor=\"middle\" x=\"209.1938\" y=\"-96.8\" font-family=\"Times,serif\" font-size=\"14.00\" fill=\"#000000\">b </text>\n</g>\n<!-- St5&#45;&gt;St4 -->\n<g id=\"edge11\" class=\"edge\">\n<title>St5&#45;&gt;St4</title>\n<path fill=\"none\" stroke=\"#000000\" d=\"M419.2038,-52.2613C431.2065,-56.149 446.2748,-61.0296 459.8489,-65.4263\"/>\n<polygon fill=\"#000000\" stroke=\"#000000\" points=\"458.8117,-68.7693 469.4037,-68.5211 460.9688,-62.1099 458.8117,-68.7693\"/>\n<text text-anchor=\"middle\" x=\"444.1834\" y=\"-65.8\" font-family=\"Times,serif\" font-size=\"14.00\" fill=\"#000000\">b </text>\n</g>\n<!-- St2&#45;&gt;St3 -->\n<g id=\"edge13\" class=\"edge\">\n<title>St2&#45;&gt;St3</title>\n<path fill=\"none\" stroke=\"#000000\" d=\"M232.1321,-144.6966C243.2856,-146.9803 256.8935,-149.7665 269.1259,-152.2711\"/>\n<polygon fill=\"#000000\" stroke=\"#000000\" points=\"268.4947,-155.7144 278.9936,-154.2916 269.8989,-148.8567 268.4947,-155.7144\"/>\n<text text-anchor=\"middle\" x=\"255.5917\" y=\"-154.8\" font-family=\"Times,serif\" font-size=\"14.00\" fill=\"#000000\">a </text>\n</g>\n<!-- St2&#45;&gt;St1 -->\n<g id=\"edge12\" class=\"edge\">\n<title>St2&#45;&gt;St1</title>\n<path fill=\"none\" stroke=\"#000000\" d=\"M229.3291,-127.6318C242.0972,-119.789 258.8218,-109.5159 273.0063,-100.8031\"/>\n<polygon fill=\"#000000\" stroke=\"#000000\" points=\"275.2046,-103.5603 281.8936,-95.344 271.5408,-97.5957 275.2046,-103.5603\"/>\n<text text-anchor=\"middle\" x=\"255.5917\" y=\"-117.8\" font-family=\"Times,serif\" font-size=\"14.00\" fill=\"#000000\">a </text>\n</g>\n<!-- St3&#45;&gt;St6 -->\n<g id=\"edge14\" class=\"edge\">\n<title>St3&#45;&gt;St6</title>\n<path fill=\"none\" stroke=\"#000000\" d=\"M324.2353,-150.9118C333.9867,-147.0936 345.4497,-142.2291 355.3875,-137 359.8061,-134.6751 364.3547,-132.0121 368.7461,-129.285\"/>\n<polygon fill=\"#000000\" stroke=\"#000000\" points=\"370.9326,-132.04 377.4469,-123.6845 367.1439,-126.1539 370.9326,-132.04\"/>\n<text text-anchor=\"middle\" x=\"349.3875\" y=\"-146.8\" font-family=\"Times,serif\" font-size=\"14.00\" fill=\"#000000\">b </text>\n</g>\n<!-- St3&#45;&gt;St5 -->\n<g id=\"edge15\" class=\"edge\">\n<title>St3&#45;&gt;St5</title>\n<path fill=\"none\" stroke=\"#000000\" d=\"M317.9883,-141.7048C328.7805,-129.874 343.2176,-113.7259 355.3875,-99 362.516,-90.3744 370.0372,-80.7386 376.6845,-72.0211\"/>\n<polygon fill=\"#000000\" stroke=\"#000000\" points=\"379.5052,-74.0938 382.7485,-64.0075 373.9232,-69.8698 379.5052,-74.0938\"/>\n<text text-anchor=\"middle\" x=\"349.3875\" y=\"-116.8\" font-family=\"Times,serif\" font-size=\"14.00\" fill=\"#000000\">b </text>\n</g>\n<!-- St1&#45;&gt;St6 -->\n<g id=\"edge16\" class=\"edge\">\n<title>St1&#45;&gt;St6</title>\n<path fill=\"none\" stroke=\"#000000\" d=\"M325.5377,-80.7411C334.9916,-80.5256 345.88,-81.1653 355.3875,-84 360.1201,-85.411 364.84,-87.5238 369.3085,-89.9465\"/>\n<polygon fill=\"#000000\" stroke=\"#000000\" points=\"367.6823,-93.0531 378.0513,-95.2291 371.3023,-87.0619 367.6823,-93.0531\"/>\n<text text-anchor=\"middle\" x=\"349.3875\" y=\"-87.8\" font-family=\"Times,serif\" font-size=\"14.00\" fill=\"#000000\">a </text>\n</g>\n<!-- St1&#45;&gt;St5 -->\n<g id=\"edge17\" class=\"edge\">\n<title>St1&#45;&gt;St5</title>\n<path fill=\"none\" stroke=\"#000000\" d=\"M322.8202,-72.3097C329.3302,-69.1391 336.5889,-65.7755 343.3875,-63 350.0815,-60.2673 357.3609,-57.6122 364.3298,-55.2177\"/>\n<polygon fill=\"#000000\" stroke=\"#000000\" points=\"365.837,-58.4044 374.2135,-51.9172 363.6197,-51.7648 365.837,-58.4044\"/>\n<text text-anchor=\"middle\" x=\"349.3875\" y=\"-66.8\" font-family=\"Times,serif\" font-size=\"14.00\" fill=\"#000000\">a </text>\n</g>\n</g>\n</svg>\n"
          },
          "metadata": {
            "tags": []
          },
          "execution_count": 57
        }
      ]
    },
    {
      "cell_type": "markdown",
      "metadata": {
        "id": "rKiFWTau9Vi-"
      },
      "source": [
        "## One more determinization, and we are done minimizing\n"
      ]
    },
    {
      "cell_type": "code",
      "metadata": {
        "id": "-pdDNtAx9Vi_"
      },
      "source": [
        "DFA_min = nfa2dfa(NFA3)"
      ],
      "execution_count": 58,
      "outputs": []
    },
    {
      "cell_type": "code",
      "metadata": {
        "id": "X-j9qdDz9Vi_",
        "outputId": "f9d6eccc-f6ea-4a18-e11b-e5d72ac0a719",
        "colab": {
          "base_uri": "https://localhost:8080/",
          "height": 210
        }
      },
      "source": [
        "dotObj_dfa(DFA_min)"
      ],
      "execution_count": 59,
      "outputs": [
        {
          "output_type": "execute_result",
          "data": {
            "text/plain": [
              "<graphviz.dot.Digraph at 0x7f9515dfdbe0>"
            ],
            "image/svg+xml": "<?xml version=\"1.0\" encoding=\"UTF-8\" standalone=\"no\"?>\n<!DOCTYPE svg PUBLIC \"-//W3C//DTD SVG 1.1//EN\"\n \"http://www.w3.org/Graphics/SVG/1.1/DTD/svg11.dtd\">\n<!-- Generated by graphviz version 2.40.1 (20161225.0304)\n -->\n<!-- Title: %3 Pages: 1 -->\n<svg width=\"539pt\" height=\"142pt\"\n viewBox=\"0.00 0.00 538.98 141.80\" xmlns=\"http://www.w3.org/2000/svg\" xmlns:xlink=\"http://www.w3.org/1999/xlink\">\n<g id=\"graph0\" class=\"graph\" transform=\"scale(1 1) rotate(0) translate(4 137.7958)\">\n<title>%3</title>\n<polygon fill=\"#ffffff\" stroke=\"transparent\" points=\"-4,4 -4,-137.7958 534.9792,-137.7958 534.9792,4 -4,4\"/>\n<!-- EMPTY -->\n<g id=\"node1\" class=\"node\">\n<title>EMPTY</title>\n</g>\n<!-- St3 -->\n<g id=\"node4\" class=\"node\">\n<title>St3</title>\n<ellipse fill=\"none\" stroke=\"#000000\" cx=\"114.3979\" cy=\"-23.3979\" rx=\"23.2963\" ry=\"23.2963\"/>\n<text text-anchor=\"middle\" x=\"114.3979\" y=\"-19.6979\" font-family=\"Times,serif\" font-size=\"14.00\" fill=\"#000000\">St3</text>\n</g>\n<!-- EMPTY&#45;&gt;St3 -->\n<g id=\"edge1\" class=\"edge\">\n<title>EMPTY&#45;&gt;St3</title>\n<path fill=\"none\" stroke=\"#000000\" d=\"M54.1742,-23.3979C62.5103,-23.3979 71.7873,-23.3979 80.5137,-23.3979\"/>\n<polygon fill=\"#000000\" stroke=\"#000000\" points=\"80.7846,-26.898 90.7846,-23.3979 80.7845,-19.898 80.7846,-26.898\"/>\n</g>\n<!-- St2 -->\n<g id=\"node2\" class=\"node\">\n<title>St2</title>\n<ellipse fill=\"none\" stroke=\"#000000\" cx=\"404.7855\" cy=\"-40.3979\" rx=\"23.2963\" ry=\"23.2963\"/>\n<text text-anchor=\"middle\" x=\"404.7855\" y=\"-36.6979\" font-family=\"Times,serif\" font-size=\"14.00\" fill=\"#000000\">St2</text>\n</g>\n<!-- St0 -->\n<g id=\"node6\" class=\"node\">\n<title>St0</title>\n<ellipse fill=\"none\" stroke=\"#000000\" cx=\"503.5813\" cy=\"-40.3979\" rx=\"23.3111\" ry=\"23.3111\"/>\n<ellipse fill=\"none\" stroke=\"#000000\" cx=\"503.5813\" cy=\"-40.3979\" rx=\"27.2962\" ry=\"27.2962\"/>\n<text text-anchor=\"middle\" x=\"503.5813\" y=\"-36.6979\" font-family=\"Times,serif\" font-size=\"14.00\" fill=\"#000000\">St0</text>\n</g>\n<!-- St2&#45;&gt;St0 -->\n<g id=\"edge8\" class=\"edge\">\n<title>St2&#45;&gt;St0</title>\n<path fill=\"none\" stroke=\"#000000\" d=\"M428.1987,-40.3979C439.4326,-40.3979 453.173,-40.3979 465.8312,-40.3979\"/>\n<polygon fill=\"#000000\" stroke=\"#000000\" points=\"466.1309,-43.898 476.1309,-40.3979 466.1309,-36.898 466.1309,-43.898\"/>\n<text text-anchor=\"middle\" x=\"452.1834\" y=\"-44.1979\" font-family=\"Times,serif\" font-size=\"14.00\" fill=\"#000000\">a </text>\n</g>\n<!-- St2&#45;&gt;St0 -->\n<g id=\"edge9\" class=\"edge\">\n<title>St2&#45;&gt;St0</title>\n<path fill=\"none\" stroke=\"#000000\" d=\"M425.2357,-28.908C431.7302,-25.8418 439.0758,-22.9511 446.1834,-21.3979 454.1148,-19.6647 462.4928,-20.7131 470.3237,-23.0205\"/>\n<polygon fill=\"#000000\" stroke=\"#000000\" points=\"469.2814,-26.3658 479.8754,-26.502 471.6786,-19.7891 469.2814,-26.3658\"/>\n<text text-anchor=\"middle\" x=\"452.1834\" y=\"-25.1979\" font-family=\"Times,serif\" font-size=\"14.00\" fill=\"#000000\">b </text>\n</g>\n<!-- St4 -->\n<g id=\"node3\" class=\"node\">\n<title>St4</title>\n<ellipse fill=\"none\" stroke=\"#000000\" cx=\"207.1938\" cy=\"-63.3979\" rx=\"23.2963\" ry=\"23.2963\"/>\n<text text-anchor=\"middle\" x=\"207.1938\" y=\"-59.6979\" font-family=\"Times,serif\" font-size=\"14.00\" fill=\"#000000\">St4</text>\n</g>\n<!-- St1 -->\n<g id=\"node5\" class=\"node\">\n<title>St1</title>\n<ellipse fill=\"none\" stroke=\"#000000\" cx=\"305.9896\" cy=\"-40.3979\" rx=\"23.3111\" ry=\"23.3111\"/>\n<ellipse fill=\"none\" stroke=\"#000000\" cx=\"305.9896\" cy=\"-40.3979\" rx=\"27.2962\" ry=\"27.2962\"/>\n<text text-anchor=\"middle\" x=\"305.9896\" y=\"-36.6979\" font-family=\"Times,serif\" font-size=\"14.00\" fill=\"#000000\">St1</text>\n</g>\n<!-- St4&#45;&gt;St1 -->\n<g id=\"edge4\" class=\"edge\">\n<title>St4&#45;&gt;St1</title>\n<path fill=\"none\" stroke=\"#000000\" d=\"M230.5156,-61.4077C239.9366,-60.3278 250.8615,-58.7234 260.5917,-56.3979 263.9444,-55.5966 267.3954,-54.6381 270.8259,-53.5939\"/>\n<polygon fill=\"#000000\" stroke=\"#000000\" points=\"271.9236,-56.9174 280.341,-50.4834 269.7485,-50.2639 271.9236,-56.9174\"/>\n<text text-anchor=\"middle\" x=\"254.5917\" y=\"-62.1979\" font-family=\"Times,serif\" font-size=\"14.00\" fill=\"#000000\">a </text>\n</g>\n<!-- St4&#45;&gt;St1 -->\n<g id=\"edge5\" class=\"edge\">\n<title>St4&#45;&gt;St1</title>\n<path fill=\"none\" stroke=\"#000000\" d=\"M225.903,-48.5416C232.6593,-44.0493 240.5992,-39.6996 248.5917,-37.3979 254.9473,-35.5676 261.8595,-34.8862 268.614,-34.8814\"/>\n<polygon fill=\"#000000\" stroke=\"#000000\" points=\"268.8443,-38.3958 278.9958,-35.363 269.1688,-31.4033 268.8443,-38.3958\"/>\n<text text-anchor=\"middle\" x=\"254.5917\" y=\"-41.1979\" font-family=\"Times,serif\" font-size=\"14.00\" fill=\"#000000\">b </text>\n</g>\n<!-- St3&#45;&gt;St4 -->\n<g id=\"edge2\" class=\"edge\">\n<title>St3&#45;&gt;St4</title>\n<path fill=\"none\" stroke=\"#000000\" d=\"M135.9204,-32.6753C147.8976,-37.8381 163.0147,-44.3544 176.2414,-50.0558\"/>\n<polygon fill=\"#000000\" stroke=\"#000000\" points=\"174.8979,-53.2879 185.4666,-54.0323 177.6689,-46.8597 174.8979,-53.2879\"/>\n<text text-anchor=\"middle\" x=\"160.7958\" y=\"-48.1979\" font-family=\"Times,serif\" font-size=\"14.00\" fill=\"#000000\">a </text>\n</g>\n<!-- St3&#45;&gt;St1 -->\n<g id=\"edge3\" class=\"edge\">\n<title>St3&#45;&gt;St1</title>\n<path fill=\"none\" stroke=\"#000000\" d=\"M137.6828,-19.0895C161.2399,-15.4104 198.6402,-11.4353 230.5917,-16.3979 243.9804,-18.4774 258.2446,-22.5172 270.7221,-26.698\"/>\n<polygon fill=\"#000000\" stroke=\"#000000\" points=\"269.7001,-30.0484 280.295,-30.0464 272.0114,-23.4409 269.7001,-30.0484\"/>\n<text text-anchor=\"middle\" x=\"207.1938\" y=\"-20.1979\" font-family=\"Times,serif\" font-size=\"14.00\" fill=\"#000000\">b </text>\n</g>\n<!-- St1&#45;&gt;St2 -->\n<g id=\"edge6\" class=\"edge\">\n<title>St1&#45;&gt;St2</title>\n<path fill=\"none\" stroke=\"#000000\" d=\"M333.5098,-40.3979C345.0796,-40.3979 358.6561,-40.3979 370.8385,-40.3979\"/>\n<polygon fill=\"#000000\" stroke=\"#000000\" points=\"371.0998,-43.898 381.0998,-40.3979 371.0998,-36.898 371.0998,-43.898\"/>\n<text text-anchor=\"middle\" x=\"357.3875\" y=\"-44.1979\" font-family=\"Times,serif\" font-size=\"14.00\" fill=\"#000000\">a </text>\n</g>\n<!-- St1&#45;&gt;St2 -->\n<g id=\"edge7\" class=\"edge\">\n<title>St1&#45;&gt;St2</title>\n<path fill=\"none\" stroke=\"#000000\" d=\"M329.6955,-26.502C339.9236,-22.0943 352.1074,-18.933 363.3875,-21.3979 367.2745,-22.2473 371.2327,-23.4967 375.0839,-24.9561\"/>\n<polygon fill=\"#000000\" stroke=\"#000000\" points=\"373.7642,-28.1983 384.3353,-28.908 376.5141,-21.761 373.7642,-28.1983\"/>\n<text text-anchor=\"middle\" x=\"357.3875\" y=\"-25.1979\" font-family=\"Times,serif\" font-size=\"14.00\" fill=\"#000000\">b </text>\n</g>\n<!-- St0&#45;&gt;St0 -->\n<g id=\"edge10\" class=\"edge\">\n<title>St0&#45;&gt;St0</title>\n<path fill=\"none\" stroke=\"#000000\" d=\"M498.9041,-67.4297C498.7508,-77.5036 500.3098,-85.7958 503.5813,-85.7958 505.626,-85.7958 507.0018,-82.5567 507.7086,-77.6679\"/>\n<polygon fill=\"#000000\" stroke=\"#000000\" points=\"511.217,-77.6031 508.2585,-67.4297 504.2271,-77.2276 511.217,-77.6031\"/>\n<text text-anchor=\"middle\" x=\"503.5813\" y=\"-89.5958\" font-family=\"Times,serif\" font-size=\"14.00\" fill=\"#000000\">a </text>\n</g>\n<!-- St0&#45;&gt;St0 -->\n<g id=\"edge11\" class=\"edge\">\n<title>St0&#45;&gt;St0</title>\n<path fill=\"none\" stroke=\"#000000\" d=\"M495.1682,-66.777C492.525,-85.3764 495.3294,-103.7958 503.5813,-103.7958 510.286,-103.7958 513.3945,-91.6361 512.9067,-77.1\"/>\n<polygon fill=\"#000000\" stroke=\"#000000\" points=\"516.3612,-76.4301 511.9944,-66.777 509.3884,-77.0463 516.3612,-76.4301\"/>\n<text text-anchor=\"middle\" x=\"503.5813\" y=\"-107.5958\" font-family=\"Times,serif\" font-size=\"14.00\" fill=\"#000000\">b </text>\n</g>\n</g>\n</svg>\n"
          },
          "metadata": {
            "tags": []
          },
          "execution_count": 59
        }
      ]
    },
    {
      "cell_type": "markdown",
      "metadata": {
        "id": "mzJCdo2i9Vi_"
      },
      "source": [
        "# Check that DFA_min and DFA_bloated have the same language but are not isomorphic"
      ]
    },
    {
      "cell_type": "code",
      "metadata": {
        "id": "L-3YlGOD9Vi_"
      },
      "source": [
        "help(langeq_dfa)"
      ],
      "execution_count": null,
      "outputs": []
    },
    {
      "cell_type": "code",
      "metadata": {
        "id": "Ua-d2aye9VjA"
      },
      "source": [
        "help(iso_dfa)"
      ],
      "execution_count": null,
      "outputs": []
    },
    {
      "cell_type": "code",
      "metadata": {
        "id": "ougaFnGw9VjA",
        "outputId": "cc1a3c2b-f0c8-4a9b-d056-0a38b3dedce3",
        "colab": {
          "base_uri": "https://localhost:8080/"
        }
      },
      "source": [
        "langeq_dfa(DFA_bloated, DFA_min)"
      ],
      "execution_count": 60,
      "outputs": [
        {
          "output_type": "execute_result",
          "data": {
            "text/plain": [
              "True"
            ]
          },
          "metadata": {
            "tags": []
          },
          "execution_count": 60
        }
      ]
    },
    {
      "cell_type": "code",
      "metadata": {
        "id": "tDV1Om8f9VjA",
        "outputId": "7cf53c38-c51b-4992-a752-d15109301fa3",
        "colab": {
          "base_uri": "https://localhost:8080/"
        }
      },
      "source": [
        "iso_dfa(DFA_bloated, DFA_min)"
      ],
      "execution_count": 61,
      "outputs": [
        {
          "output_type": "execute_result",
          "data": {
            "text/plain": [
              "False"
            ]
          },
          "metadata": {
            "tags": []
          },
          "execution_count": 61
        }
      ]
    },
    {
      "cell_type": "markdown",
      "metadata": {
        "id": "2Gl0x0Mw9VjA"
      },
      "source": [
        "##  But DFA_min indeed is minimal as shown by the number of states of the standard DFA min algorithm"
      ]
    },
    {
      "cell_type": "code",
      "metadata": {
        "id": "82E6qNNG9VjB"
      },
      "source": [
        "DFA_min_alt = min_dfa(DFA_bloated)"
      ],
      "execution_count": 62,
      "outputs": []
    },
    {
      "cell_type": "code",
      "metadata": {
        "id": "PgciG-Le9VjB",
        "outputId": "69f73d3d-2a81-4029-8de2-66bb884cf88d",
        "colab": {
          "base_uri": "https://localhost:8080/",
          "height": 210
        }
      },
      "source": [
        "dotObj_dfa(DFA_min)"
      ],
      "execution_count": 63,
      "outputs": [
        {
          "output_type": "execute_result",
          "data": {
            "text/plain": [
              "<graphviz.dot.Digraph at 0x7f9515dfdba8>"
            ],
            "image/svg+xml": "<?xml version=\"1.0\" encoding=\"UTF-8\" standalone=\"no\"?>\n<!DOCTYPE svg PUBLIC \"-//W3C//DTD SVG 1.1//EN\"\n \"http://www.w3.org/Graphics/SVG/1.1/DTD/svg11.dtd\">\n<!-- Generated by graphviz version 2.40.1 (20161225.0304)\n -->\n<!-- Title: %3 Pages: 1 -->\n<svg width=\"539pt\" height=\"142pt\"\n viewBox=\"0.00 0.00 538.98 141.80\" xmlns=\"http://www.w3.org/2000/svg\" xmlns:xlink=\"http://www.w3.org/1999/xlink\">\n<g id=\"graph0\" class=\"graph\" transform=\"scale(1 1) rotate(0) translate(4 137.7958)\">\n<title>%3</title>\n<polygon fill=\"#ffffff\" stroke=\"transparent\" points=\"-4,4 -4,-137.7958 534.9792,-137.7958 534.9792,4 -4,4\"/>\n<!-- EMPTY -->\n<g id=\"node1\" class=\"node\">\n<title>EMPTY</title>\n</g>\n<!-- St3 -->\n<g id=\"node4\" class=\"node\">\n<title>St3</title>\n<ellipse fill=\"none\" stroke=\"#000000\" cx=\"114.3979\" cy=\"-23.3979\" rx=\"23.2963\" ry=\"23.2963\"/>\n<text text-anchor=\"middle\" x=\"114.3979\" y=\"-19.6979\" font-family=\"Times,serif\" font-size=\"14.00\" fill=\"#000000\">St3</text>\n</g>\n<!-- EMPTY&#45;&gt;St3 -->\n<g id=\"edge1\" class=\"edge\">\n<title>EMPTY&#45;&gt;St3</title>\n<path fill=\"none\" stroke=\"#000000\" d=\"M54.1742,-23.3979C62.5103,-23.3979 71.7873,-23.3979 80.5137,-23.3979\"/>\n<polygon fill=\"#000000\" stroke=\"#000000\" points=\"80.7846,-26.898 90.7846,-23.3979 80.7845,-19.898 80.7846,-26.898\"/>\n</g>\n<!-- St2 -->\n<g id=\"node2\" class=\"node\">\n<title>St2</title>\n<ellipse fill=\"none\" stroke=\"#000000\" cx=\"404.7855\" cy=\"-40.3979\" rx=\"23.2963\" ry=\"23.2963\"/>\n<text text-anchor=\"middle\" x=\"404.7855\" y=\"-36.6979\" font-family=\"Times,serif\" font-size=\"14.00\" fill=\"#000000\">St2</text>\n</g>\n<!-- St0 -->\n<g id=\"node6\" class=\"node\">\n<title>St0</title>\n<ellipse fill=\"none\" stroke=\"#000000\" cx=\"503.5813\" cy=\"-40.3979\" rx=\"23.3111\" ry=\"23.3111\"/>\n<ellipse fill=\"none\" stroke=\"#000000\" cx=\"503.5813\" cy=\"-40.3979\" rx=\"27.2962\" ry=\"27.2962\"/>\n<text text-anchor=\"middle\" x=\"503.5813\" y=\"-36.6979\" font-family=\"Times,serif\" font-size=\"14.00\" fill=\"#000000\">St0</text>\n</g>\n<!-- St2&#45;&gt;St0 -->\n<g id=\"edge8\" class=\"edge\">\n<title>St2&#45;&gt;St0</title>\n<path fill=\"none\" stroke=\"#000000\" d=\"M428.1987,-40.3979C439.4326,-40.3979 453.173,-40.3979 465.8312,-40.3979\"/>\n<polygon fill=\"#000000\" stroke=\"#000000\" points=\"466.1309,-43.898 476.1309,-40.3979 466.1309,-36.898 466.1309,-43.898\"/>\n<text text-anchor=\"middle\" x=\"452.1834\" y=\"-44.1979\" font-family=\"Times,serif\" font-size=\"14.00\" fill=\"#000000\">a </text>\n</g>\n<!-- St2&#45;&gt;St0 -->\n<g id=\"edge9\" class=\"edge\">\n<title>St2&#45;&gt;St0</title>\n<path fill=\"none\" stroke=\"#000000\" d=\"M425.2357,-28.908C431.7302,-25.8418 439.0758,-22.9511 446.1834,-21.3979 454.1148,-19.6647 462.4928,-20.7131 470.3237,-23.0205\"/>\n<polygon fill=\"#000000\" stroke=\"#000000\" points=\"469.2814,-26.3658 479.8754,-26.502 471.6786,-19.7891 469.2814,-26.3658\"/>\n<text text-anchor=\"middle\" x=\"452.1834\" y=\"-25.1979\" font-family=\"Times,serif\" font-size=\"14.00\" fill=\"#000000\">b </text>\n</g>\n<!-- St4 -->\n<g id=\"node3\" class=\"node\">\n<title>St4</title>\n<ellipse fill=\"none\" stroke=\"#000000\" cx=\"207.1938\" cy=\"-63.3979\" rx=\"23.2963\" ry=\"23.2963\"/>\n<text text-anchor=\"middle\" x=\"207.1938\" y=\"-59.6979\" font-family=\"Times,serif\" font-size=\"14.00\" fill=\"#000000\">St4</text>\n</g>\n<!-- St1 -->\n<g id=\"node5\" class=\"node\">\n<title>St1</title>\n<ellipse fill=\"none\" stroke=\"#000000\" cx=\"305.9896\" cy=\"-40.3979\" rx=\"23.3111\" ry=\"23.3111\"/>\n<ellipse fill=\"none\" stroke=\"#000000\" cx=\"305.9896\" cy=\"-40.3979\" rx=\"27.2962\" ry=\"27.2962\"/>\n<text text-anchor=\"middle\" x=\"305.9896\" y=\"-36.6979\" font-family=\"Times,serif\" font-size=\"14.00\" fill=\"#000000\">St1</text>\n</g>\n<!-- St4&#45;&gt;St1 -->\n<g id=\"edge4\" class=\"edge\">\n<title>St4&#45;&gt;St1</title>\n<path fill=\"none\" stroke=\"#000000\" d=\"M230.5156,-61.4077C239.9366,-60.3278 250.8615,-58.7234 260.5917,-56.3979 263.9444,-55.5966 267.3954,-54.6381 270.8259,-53.5939\"/>\n<polygon fill=\"#000000\" stroke=\"#000000\" points=\"271.9236,-56.9174 280.341,-50.4834 269.7485,-50.2639 271.9236,-56.9174\"/>\n<text text-anchor=\"middle\" x=\"254.5917\" y=\"-62.1979\" font-family=\"Times,serif\" font-size=\"14.00\" fill=\"#000000\">a </text>\n</g>\n<!-- St4&#45;&gt;St1 -->\n<g id=\"edge5\" class=\"edge\">\n<title>St4&#45;&gt;St1</title>\n<path fill=\"none\" stroke=\"#000000\" d=\"M225.903,-48.5416C232.6593,-44.0493 240.5992,-39.6996 248.5917,-37.3979 254.9473,-35.5676 261.8595,-34.8862 268.614,-34.8814\"/>\n<polygon fill=\"#000000\" stroke=\"#000000\" points=\"268.8443,-38.3958 278.9958,-35.363 269.1688,-31.4033 268.8443,-38.3958\"/>\n<text text-anchor=\"middle\" x=\"254.5917\" y=\"-41.1979\" font-family=\"Times,serif\" font-size=\"14.00\" fill=\"#000000\">b </text>\n</g>\n<!-- St3&#45;&gt;St4 -->\n<g id=\"edge2\" class=\"edge\">\n<title>St3&#45;&gt;St4</title>\n<path fill=\"none\" stroke=\"#000000\" d=\"M135.9204,-32.6753C147.8976,-37.8381 163.0147,-44.3544 176.2414,-50.0558\"/>\n<polygon fill=\"#000000\" stroke=\"#000000\" points=\"174.8979,-53.2879 185.4666,-54.0323 177.6689,-46.8597 174.8979,-53.2879\"/>\n<text text-anchor=\"middle\" x=\"160.7958\" y=\"-48.1979\" font-family=\"Times,serif\" font-size=\"14.00\" fill=\"#000000\">a </text>\n</g>\n<!-- St3&#45;&gt;St1 -->\n<g id=\"edge3\" class=\"edge\">\n<title>St3&#45;&gt;St1</title>\n<path fill=\"none\" stroke=\"#000000\" d=\"M137.6828,-19.0895C161.2399,-15.4104 198.6402,-11.4353 230.5917,-16.3979 243.9804,-18.4774 258.2446,-22.5172 270.7221,-26.698\"/>\n<polygon fill=\"#000000\" stroke=\"#000000\" points=\"269.7001,-30.0484 280.295,-30.0464 272.0114,-23.4409 269.7001,-30.0484\"/>\n<text text-anchor=\"middle\" x=\"207.1938\" y=\"-20.1979\" font-family=\"Times,serif\" font-size=\"14.00\" fill=\"#000000\">b </text>\n</g>\n<!-- St1&#45;&gt;St2 -->\n<g id=\"edge6\" class=\"edge\">\n<title>St1&#45;&gt;St2</title>\n<path fill=\"none\" stroke=\"#000000\" d=\"M333.5098,-40.3979C345.0796,-40.3979 358.6561,-40.3979 370.8385,-40.3979\"/>\n<polygon fill=\"#000000\" stroke=\"#000000\" points=\"371.0998,-43.898 381.0998,-40.3979 371.0998,-36.898 371.0998,-43.898\"/>\n<text text-anchor=\"middle\" x=\"357.3875\" y=\"-44.1979\" font-family=\"Times,serif\" font-size=\"14.00\" fill=\"#000000\">a </text>\n</g>\n<!-- St1&#45;&gt;St2 -->\n<g id=\"edge7\" class=\"edge\">\n<title>St1&#45;&gt;St2</title>\n<path fill=\"none\" stroke=\"#000000\" d=\"M329.6955,-26.502C339.9236,-22.0943 352.1074,-18.933 363.3875,-21.3979 367.2745,-22.2473 371.2327,-23.4967 375.0839,-24.9561\"/>\n<polygon fill=\"#000000\" stroke=\"#000000\" points=\"373.7642,-28.1983 384.3353,-28.908 376.5141,-21.761 373.7642,-28.1983\"/>\n<text text-anchor=\"middle\" x=\"357.3875\" y=\"-25.1979\" font-family=\"Times,serif\" font-size=\"14.00\" fill=\"#000000\">b </text>\n</g>\n<!-- St0&#45;&gt;St0 -->\n<g id=\"edge10\" class=\"edge\">\n<title>St0&#45;&gt;St0</title>\n<path fill=\"none\" stroke=\"#000000\" d=\"M498.9041,-67.4297C498.7508,-77.5036 500.3098,-85.7958 503.5813,-85.7958 505.626,-85.7958 507.0018,-82.5567 507.7086,-77.6679\"/>\n<polygon fill=\"#000000\" stroke=\"#000000\" points=\"511.217,-77.6031 508.2585,-67.4297 504.2271,-77.2276 511.217,-77.6031\"/>\n<text text-anchor=\"middle\" x=\"503.5813\" y=\"-89.5958\" font-family=\"Times,serif\" font-size=\"14.00\" fill=\"#000000\">a </text>\n</g>\n<!-- St0&#45;&gt;St0 -->\n<g id=\"edge11\" class=\"edge\">\n<title>St0&#45;&gt;St0</title>\n<path fill=\"none\" stroke=\"#000000\" d=\"M495.1682,-66.777C492.525,-85.3764 495.3294,-103.7958 503.5813,-103.7958 510.286,-103.7958 513.3945,-91.6361 512.9067,-77.1\"/>\n<polygon fill=\"#000000\" stroke=\"#000000\" points=\"516.3612,-76.4301 511.9944,-66.777 509.3884,-77.0463 516.3612,-76.4301\"/>\n<text text-anchor=\"middle\" x=\"503.5813\" y=\"-107.5958\" font-family=\"Times,serif\" font-size=\"14.00\" fill=\"#000000\">b </text>\n</g>\n</g>\n</svg>\n"
          },
          "metadata": {
            "tags": []
          },
          "execution_count": 63
        }
      ]
    },
    {
      "cell_type": "code",
      "metadata": {
        "id": "SRKL5rA49VjB",
        "outputId": "aa71edbe-216b-4aea-8d71-d73cbc16533a",
        "colab": {
          "base_uri": "https://localhost:8080/",
          "height": 216
        }
      },
      "source": [
        "dotObj_dfa(DFA_min_alt)"
      ],
      "execution_count": 64,
      "outputs": [
        {
          "output_type": "execute_result",
          "data": {
            "text/plain": [
              "<graphviz.dot.Digraph at 0x7f9515eb8630>"
            ],
            "image/svg+xml": "<?xml version=\"1.0\" encoding=\"UTF-8\" standalone=\"no\"?>\n<!DOCTYPE svg PUBLIC \"-//W3C//DTD SVG 1.1//EN\"\n \"http://www.w3.org/Graphics/SVG/1.1/DTD/svg11.dtd\">\n<!-- Generated by graphviz version 2.40.1 (20161225.0304)\n -->\n<!-- Title: %3 Pages: 1 -->\n<svg width=\"566pt\" height=\"146pt\"\n viewBox=\"0.00 0.00 566.28 145.70\" xmlns=\"http://www.w3.org/2000/svg\" xmlns:xlink=\"http://www.w3.org/1999/xlink\">\n<g id=\"graph0\" class=\"graph\" transform=\"scale(1 1) rotate(0) translate(4 141.6955)\">\n<title>%3</title>\n<polygon fill=\"#ffffff\" stroke=\"transparent\" points=\"-4,4 -4,-141.6955 562.2768,-141.6955 562.2768,4 -4,4\"/>\n<!-- EMPTY -->\n<g id=\"node1\" class=\"node\">\n<title>EMPTY</title>\n</g>\n<!-- IS1 -->\n<g id=\"node2\" class=\"node\">\n<title>IS1</title>\n<ellipse fill=\"none\" stroke=\"#000000\" cx=\"115.0479\" cy=\"-24.0479\" rx=\"24.0958\" ry=\"24.0958\"/>\n<text text-anchor=\"middle\" x=\"115.0479\" y=\"-20.3479\" font-family=\"Times,serif\" font-size=\"14.00\" fill=\"#000000\">IS1</text>\n</g>\n<!-- EMPTY&#45;&gt;IS1 -->\n<g id=\"edge1\" class=\"edge\">\n<title>EMPTY&#45;&gt;IS1</title>\n<path fill=\"none\" stroke=\"#000000\" d=\"M54.3763,-24.0479C62.7026,-24.0479 71.9607,-24.0479 80.6861,-24.0479\"/>\n<polygon fill=\"#000000\" stroke=\"#000000\" points=\"80.9666,-27.548 90.9666,-24.0479 80.9665,-20.548 80.9666,-27.548\"/>\n</g>\n<!-- Temp -->\n<g id=\"node4\" class=\"node\">\n<title>Temp</title>\n<ellipse fill=\"none\" stroke=\"#000000\" cx=\"217.5928\" cy=\"-73.0479\" rx=\"32.4942\" ry=\"32.4942\"/>\n<text text-anchor=\"middle\" x=\"217.5928\" y=\"-69.3479\" font-family=\"Times,serif\" font-size=\"14.00\" fill=\"#000000\">Temp</text>\n</g>\n<!-- IS1&#45;&gt;Temp -->\n<g id=\"edge2\" class=\"edge\">\n<title>IS1&#45;&gt;Temp</title>\n<path fill=\"none\" stroke=\"#000000\" d=\"M136.795,-34.4395C149.0447,-40.2929 164.7053,-47.7761 178.9719,-54.5933\"/>\n<polygon fill=\"#000000\" stroke=\"#000000\" points=\"177.5641,-57.7996 188.0959,-58.9531 180.5821,-51.4836 177.5641,-57.7996\"/>\n<text text-anchor=\"middle\" x=\"162.0957\" y=\"-51.8479\" font-family=\"Times,serif\" font-size=\"14.00\" fill=\"#000000\">a </text>\n</g>\n<!-- FS2 -->\n<g id=\"node6\" class=\"node\">\n<title>FS2</title>\n<ellipse fill=\"none\" stroke=\"#000000\" cx=\"328.7376\" cy=\"-41.0479\" rx=\"26.7766\" ry=\"26.7766\"/>\n<ellipse fill=\"none\" stroke=\"#000000\" cx=\"328.7376\" cy=\"-41.0479\" rx=\"30.796\" ry=\"30.796\"/>\n<text text-anchor=\"middle\" x=\"328.7376\" y=\"-37.3479\" font-family=\"Times,serif\" font-size=\"14.00\" fill=\"#000000\">FS2</text>\n</g>\n<!-- IS1&#45;&gt;FS2 -->\n<g id=\"edge3\" class=\"edge\">\n<title>IS1&#45;&gt;FS2</title>\n<path fill=\"none\" stroke=\"#000000\" d=\"M139.0926,-19.9286C166.2073,-15.9481 211.5459,-11.2977 250.09,-17.0479 263.4593,-19.0424 277.6982,-22.8448 290.3344,-26.8449\"/>\n<polygon fill=\"#000000\" stroke=\"#000000\" points=\"289.4843,-30.25 300.0776,-30.0645 291.6807,-23.6035 289.4843,-30.25\"/>\n<text text-anchor=\"middle\" x=\"217.5928\" y=\"-20.8479\" font-family=\"Times,serif\" font-size=\"14.00\" fill=\"#000000\">b </text>\n</g>\n<!-- S5 -->\n<g id=\"node3\" class=\"node\">\n<title>S5</title>\n<ellipse fill=\"none\" stroke=\"#000000\" cx=\"428.1834\" cy=\"-41.0479\" rx=\"20.5982\" ry=\"20.5982\"/>\n<text text-anchor=\"middle\" x=\"428.1834\" y=\"-37.3479\" font-family=\"Times,serif\" font-size=\"14.00\" fill=\"#000000\">S5</text>\n</g>\n<!-- FS6 -->\n<g id=\"node5\" class=\"node\">\n<title>FS6</title>\n<ellipse fill=\"none\" stroke=\"#000000\" cx=\"527.6292\" cy=\"-41.0479\" rx=\"26.7766\" ry=\"26.7766\"/>\n<ellipse fill=\"none\" stroke=\"#000000\" cx=\"527.6292\" cy=\"-41.0479\" rx=\"30.796\" ry=\"30.796\"/>\n<text text-anchor=\"middle\" x=\"527.6292\" y=\"-37.3479\" font-family=\"Times,serif\" font-size=\"14.00\" fill=\"#000000\">FS6</text>\n</g>\n<!-- S5&#45;&gt;FS6 -->\n<g id=\"edge8\" class=\"edge\">\n<title>S5&#45;&gt;FS6</title>\n<path fill=\"none\" stroke=\"#000000\" d=\"M449.2733,-41.0479C460.1604,-41.0479 473.8256,-41.0479 486.6825,-41.0479\"/>\n<polygon fill=\"#000000\" stroke=\"#000000\" points=\"486.7516,-44.548 496.7515,-41.0479 486.7515,-37.548 486.7516,-44.548\"/>\n<text text-anchor=\"middle\" x=\"472.9815\" y=\"-44.8479\" font-family=\"Times,serif\" font-size=\"14.00\" fill=\"#000000\">a </text>\n</g>\n<!-- S5&#45;&gt;FS6 -->\n<g id=\"edge9\" class=\"edge\">\n<title>S5&#45;&gt;FS6</title>\n<path fill=\"none\" stroke=\"#000000\" d=\"M446.0949,-30.1652C452.4572,-26.8802 459.8211,-23.707 466.9815,-22.0479 474.8417,-20.2266 483.1598,-20.996 491.033,-23.0248\"/>\n<polygon fill=\"#000000\" stroke=\"#000000\" points=\"490.1075,-26.4042 500.6997,-26.1678 492.272,-19.7472 490.1075,-26.4042\"/>\n<text text-anchor=\"middle\" x=\"472.9815\" y=\"-25.8479\" font-family=\"Times,serif\" font-size=\"14.00\" fill=\"#000000\">b </text>\n</g>\n<!-- Temp&#45;&gt;FS2 -->\n<g id=\"edge4\" class=\"edge\">\n<title>Temp&#45;&gt;FS2</title>\n<path fill=\"none\" stroke=\"#000000\" d=\"M249.1785,-65.4004C259.1098,-62.8785 270.0917,-59.9683 280.09,-57.0479 283.2476,-56.1255 286.5087,-55.1356 289.7774,-54.1168\"/>\n<polygon fill=\"#000000\" stroke=\"#000000\" points=\"291.0466,-57.3858 299.5104,-51.0129 288.9197,-50.7167 291.0466,-57.3858\"/>\n<text text-anchor=\"middle\" x=\"274.09\" y=\"-63.8479\" font-family=\"Times,serif\" font-size=\"14.00\" fill=\"#000000\">a </text>\n</g>\n<!-- Temp&#45;&gt;FS2 -->\n<g id=\"edge5\" class=\"edge\">\n<title>Temp&#45;&gt;FS2</title>\n<path fill=\"none\" stroke=\"#000000\" d=\"M242.1967,-51.5977C249.9659,-46.0892 258.9273,-40.9128 268.09,-38.0479 274.5797,-36.0187 281.6492,-35.2025 288.5942,-35.1168\"/>\n<polygon fill=\"#000000\" stroke=\"#000000\" points=\"288.4851,-38.615 298.5986,-35.4578 288.7236,-31.6191 288.4851,-38.615\"/>\n<text text-anchor=\"middle\" x=\"274.09\" y=\"-41.8479\" font-family=\"Times,serif\" font-size=\"14.00\" fill=\"#000000\">b </text>\n</g>\n<!-- FS6&#45;&gt;FS6 -->\n<g id=\"edge10\" class=\"edge\">\n<title>FS6&#45;&gt;FS6</title>\n<path fill=\"none\" stroke=\"#000000\" d=\"M522.5667,-71.4526C522.5667,-81.5876 524.2542,-89.6955 527.6292,-89.6955 529.7386,-89.6955 531.1888,-86.5283 531.9798,-81.6786\"/>\n<polygon fill=\"#000000\" stroke=\"#000000\" points=\"535.4886,-81.6716 532.6917,-71.4526 528.5055,-81.1854 535.4886,-81.6716\"/>\n<text text-anchor=\"middle\" x=\"527.6292\" y=\"-93.4955\" font-family=\"Times,serif\" font-size=\"14.00\" fill=\"#000000\">a </text>\n</g>\n<!-- FS6&#45;&gt;FS6 -->\n<g id=\"edge11\" class=\"edge\">\n<title>FS6&#45;&gt;FS6</title>\n<path fill=\"none\" stroke=\"#000000\" d=\"M518.3051,-70.5136C515.8727,-89.4607 518.9807,-107.6955 527.6292,-107.6955 534.7236,-107.6955 538.0898,-95.4251 537.7278,-80.5566\"/>\n<polygon fill=\"#000000\" stroke=\"#000000\" points=\"541.2119,-80.2148 536.9533,-70.5136 534.2327,-80.7531 541.2119,-80.2148\"/>\n<text text-anchor=\"middle\" x=\"527.6292\" y=\"-111.4955\" font-family=\"Times,serif\" font-size=\"14.00\" fill=\"#000000\">b </text>\n</g>\n<!-- FS2&#45;&gt;S5 -->\n<g id=\"edge6\" class=\"edge\">\n<title>FS2&#45;&gt;S5</title>\n<path fill=\"none\" stroke=\"#000000\" d=\"M359.3861,-41.0479C371.392,-41.0479 385.1468,-41.0479 397.1863,-41.0479\"/>\n<polygon fill=\"#000000\" stroke=\"#000000\" points=\"397.2378,-44.548 407.2378,-41.0479 397.2377,-37.548 397.2378,-44.548\"/>\n<text text-anchor=\"middle\" x=\"383.3852\" y=\"-44.8479\" font-family=\"Times,serif\" font-size=\"14.00\" fill=\"#000000\">a </text>\n</g>\n<!-- FS2&#45;&gt;S5 -->\n<g id=\"edge7\" class=\"edge\">\n<title>FS2&#45;&gt;S5</title>\n<path fill=\"none\" stroke=\"#000000\" d=\"M355.6671,-26.1678C366.1011,-22.1077 378.2063,-19.4576 389.3852,-22.0479 393.3011,-22.9552 397.2778,-24.3154 401.1183,-25.899\"/>\n<polygon fill=\"#000000\" stroke=\"#000000\" points=\"399.7294,-29.1131 410.2718,-30.1652 402.6865,-22.7684 399.7294,-29.1131\"/>\n<text text-anchor=\"middle\" x=\"383.3852\" y=\"-25.8479\" font-family=\"Times,serif\" font-size=\"14.00\" fill=\"#000000\">b </text>\n</g>\n</g>\n</svg>\n"
          },
          "metadata": {
            "tags": []
          },
          "execution_count": 64
        }
      ]
    },
    {
      "cell_type": "code",
      "metadata": {
        "id": "5M5Zzc_M9VjB"
      },
      "source": [
        "help(iso_dfa)"
      ],
      "execution_count": null,
      "outputs": []
    },
    {
      "cell_type": "code",
      "metadata": {
        "id": "BaL3H-ff9VjC",
        "outputId": "05a2393c-90c5-4121-c1b3-ae780980ea13",
        "colab": {
          "base_uri": "https://localhost:8080/"
        }
      },
      "source": [
        "iso_dfa(DFA_min, DFA_min_alt)\n"
      ],
      "execution_count": 65,
      "outputs": [
        {
          "output_type": "execute_result",
          "data": {
            "text/plain": [
              "True"
            ]
          },
          "metadata": {
            "tags": []
          },
          "execution_count": 65
        }
      ]
    },
    {
      "cell_type": "markdown",
      "metadata": {
        "id": "0EHe2rM49VjC"
      },
      "source": [
        "# END of demonstration that DFA minimization can be done in two different ways\n",
        "\n",
        "## Here are some notes to understand Brzozowski's method\n",
        "\n",
        "* If you are given a DFA \"D1\", a minimal DFA for \"reverse(D1)\" is obtained by \"reverse followed by determinize\"\n",
        "\n",
        "* But since we are interested in the minimal DFA for \"D1\" (and not reverse(D1)), we do these steps again!\n",
        "\n",
        "* Hence the algorithm becomes \"reverse THEN determinize THEN reverse THEN determinize\""
      ]
    }
  ]
}