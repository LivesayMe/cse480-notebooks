{
  "nbformat": 4,
  "nbformat_minor": 0,
  "metadata": {
    "kernelspec": {
      "display_name": "Python 3",
      "language": "python",
      "name": "python3"
    },
    "language_info": {
      "codemirror_mode": {
        "name": "ipython",
        "version": 3
      },
      "file_extension": ".py",
      "mimetype": "text/x-python",
      "name": "python",
      "nbconvert_exporter": "python",
      "pygments_lexer": "ipython3",
      "version": "3.9.0"
    },
    "toc": {
      "colors": {
        "hover_highlight": "#DAA520",
        "running_highlight": "#FF0000",
        "selected_highlight": "#FFD700"
      },
      "moveMenuLeft": true,
      "nav_menu": {
        "height": "121px",
        "width": "252px"
      },
      "navigate_menu": true,
      "number_sections": true,
      "sideBar": true,
      "threshold": 4,
      "toc_cell": false,
      "toc_section_display": "block",
      "toc_window_display": false,
      "widenNotebook": false
    },
    "widgets": {
      "application/vnd.jupyter.widget-state+json": {
        "cf0e4156ce4047aba3e1397d9b4c71f5": {
          "model_module": "@jupyter-widgets/controls",
          "model_name": "VBoxModel",
          "state": {
            "_view_name": "VBoxView",
            "_dom_classes": [],
            "_model_name": "VBoxModel",
            "_view_module": "@jupyter-widgets/controls",
            "_model_module_version": "1.5.0",
            "_view_count": null,
            "_view_module_version": "1.5.0",
            "box_style": "",
            "layout": "IPY_MODEL_7d30442b090d4487944397006d10335b",
            "_model_module": "@jupyter-widgets/controls",
            "children": [
              "IPY_MODEL_6f21dbce395b416fa7f6c48b9a0e778b",
              "IPY_MODEL_4c4cfe1e7944497cae871fbc00599e11",
              "IPY_MODEL_60e838169a114369b69f97c0b1107e3e",
              "IPY_MODEL_961c30f208c64ed38aded4022f241087"
            ]
          }
        },
        "7d30442b090d4487944397006d10335b": {
          "model_module": "@jupyter-widgets/base",
          "model_name": "LayoutModel",
          "state": {
            "_view_name": "LayoutView",
            "grid_template_rows": null,
            "right": null,
            "justify_content": null,
            "_view_module": "@jupyter-widgets/base",
            "overflow": null,
            "_model_module_version": "1.2.0",
            "_view_count": null,
            "flex_flow": null,
            "width": null,
            "min_width": null,
            "border": null,
            "align_items": null,
            "bottom": null,
            "_model_module": "@jupyter-widgets/base",
            "top": null,
            "grid_column": null,
            "overflow_y": null,
            "overflow_x": null,
            "grid_auto_flow": null,
            "grid_area": null,
            "grid_template_columns": null,
            "flex": null,
            "_model_name": "LayoutModel",
            "justify_items": null,
            "grid_row": null,
            "max_height": null,
            "align_content": null,
            "visibility": null,
            "align_self": null,
            "height": null,
            "min_height": null,
            "padding": null,
            "grid_auto_rows": null,
            "grid_gap": null,
            "max_width": null,
            "order": null,
            "_view_module_version": "1.2.0",
            "grid_template_areas": null,
            "object_position": null,
            "object_fit": null,
            "grid_auto_columns": null,
            "margin": null,
            "display": null,
            "left": null
          }
        },
        "6f21dbce395b416fa7f6c48b9a0e778b": {
          "model_module": "@jupyter-widgets/controls",
          "model_name": "HBoxModel",
          "state": {
            "_view_name": "HBoxView",
            "_dom_classes": [],
            "_model_name": "HBoxModel",
            "_view_module": "@jupyter-widgets/controls",
            "_model_module_version": "1.5.0",
            "_view_count": null,
            "_view_module_version": "1.5.0",
            "box_style": "",
            "layout": "IPY_MODEL_e73abf4edf864155b771545856a47166",
            "_model_module": "@jupyter-widgets/controls",
            "children": [
              "IPY_MODEL_a04a64d4a2434c1aab9d158176c20f5d",
              "IPY_MODEL_bed7128476c54ae3aee98f4763b30b98"
            ]
          }
        },
        "4c4cfe1e7944497cae871fbc00599e11": {
          "model_module": "@jupyter-widgets/output",
          "model_name": "OutputModel",
          "state": {
            "_view_name": "OutputView",
            "msg_id": "",
            "_dom_classes": [],
            "_model_name": "OutputModel",
            "outputs": [
              {
                "output_type": "display_data",
                "metadata": {
                  "tags": []
                },
                "text/plain": "<graphviz.files.Source at 0x7f951e3d4208>",
                "image/svg+xml": "<?xml version=\"1.0\" encoding=\"UTF-8\" standalone=\"no\"?>\n<!DOCTYPE svg PUBLIC \"-//W3C//DTD SVG 1.1//EN\"\n \"http://www.w3.org/Graphics/SVG/1.1/DTD/svg11.dtd\">\n<!-- Generated by graphviz version 2.40.1 (20161225.0304)\n -->\n<!-- Title: %3 Pages: 1 -->\n<svg width=\"317pt\" height=\"114pt\"\n viewBox=\"0.00 0.00 316.60 114.00\" xmlns=\"http://www.w3.org/2000/svg\" xmlns:xlink=\"http://www.w3.org/1999/xlink\">\n<g id=\"graph0\" class=\"graph\" transform=\"scale(1 1) rotate(0) translate(4 110)\">\n<title>%3</title>\n<polygon fill=\"#ffffff\" stroke=\"transparent\" points=\"-4,4 -4,-110 312.5963,-110 312.5963,4 -4,4\"/>\n<!-- EMPTY -->\n<g id=\"node1\" class=\"node\">\n<title>EMPTY</title>\n</g>\n<!-- I -->\n<g id=\"node2\" class=\"node\">\n<title>I</title>\n<ellipse fill=\"#66cd00\" stroke=\"#000000\" cx=\"109\" cy=\"-22\" rx=\"18\" ry=\"18\"/>\n<text text-anchor=\"middle\" x=\"109\" y=\"-18.3\" font-family=\"Times,serif\" font-size=\"14.00\" fill=\"#ffffff\">I</text>\n</g>\n<!-- EMPTY&#45;&gt;I -->\n<g id=\"edge1\" class=\"edge\">\n<title>EMPTY&#45;&gt;I</title>\n<path fill=\"none\" stroke=\"#000000\" d=\"M54.3048,-22C62.6909,-22 71.9407,-22 80.4103,-22\"/>\n<polygon fill=\"#000000\" stroke=\"#000000\" points=\"80.5976,-25.5001 90.5976,-22 80.5976,-18.5001 80.5976,-25.5001\"/>\n</g>\n<!-- I&#45;&gt;I -->\n<g id=\"edge2\" class=\"edge\">\n<title>I&#45;&gt;I</title>\n<path fill=\"none\" stroke=\"#000000\" d=\"M105.7643,-39.7817C105.2144,-49.3149 106.293,-58 109,-58 110.6496,-58 111.6945,-54.7749 112.1347,-50.0981\"/>\n<polygon fill=\"#000000\" stroke=\"#000000\" points=\"115.6375,-49.8156 112.2357,-39.7817 108.6379,-49.7469 115.6375,-49.8156\"/>\n<text text-anchor=\"start\" x=\"103\" y=\"-61.8\" font-family=\"Times,serif\" font-size=\"14.00\" fill=\"#000000\"> 0</text>\n</g>\n<!-- I&#45;&gt;I -->\n<g id=\"edge3\" class=\"edge\">\n<title>I&#45;&gt;I</title>\n<path fill=\"none\" stroke=\"#000000\" d=\"M103.6841,-39.4203C100.6538,-56.791 102.4258,-76 109,-76 114.2902,-76 116.4708,-63.5617 115.5419,-49.652\"/>\n<polygon fill=\"#000000\" stroke=\"#000000\" points=\"118.9808,-48.9328 114.3159,-39.4203 112.0305,-49.7657 118.9808,-48.9328\"/>\n<text text-anchor=\"start\" x=\"103\" y=\"-79.8\" font-family=\"Times,serif\" font-size=\"14.00\" fill=\"#000000\"> 1</text>\n</g>\n<!-- S0 -->\n<g id=\"node3\" class=\"node\">\n<title>S0</title>\n<ellipse fill=\"none\" stroke=\"#000000\" cx=\"195.7982\" cy=\"-22\" rx=\"20.5982\" ry=\"20.5982\"/>\n<text text-anchor=\"middle\" x=\"195.7982\" y=\"-18.3\" font-family=\"Times,serif\" font-size=\"14.00\" fill=\"#000000\">S0</text>\n</g>\n<!-- I&#45;&gt;S0 -->\n<g id=\"edge4\" class=\"edge\">\n<title>I&#45;&gt;S0</title>\n<path fill=\"none\" stroke=\"#000000\" d=\"M127.4077,-22C138.2934,-22 152.3613,-22 164.9052,-22\"/>\n<polygon fill=\"#000000\" stroke=\"#000000\" points=\"164.9803,-25.5001 174.9802,-22 164.9802,-18.5001 164.9803,-25.5001\"/>\n<text text-anchor=\"start\" x=\"145\" y=\"-25.8\" font-family=\"Times,serif\" font-size=\"14.00\" fill=\"#000000\"> 1</text>\n</g>\n<!-- F -->\n<g id=\"node4\" class=\"node\">\n<title>F</title>\n<ellipse fill=\"#66cd00\" stroke=\"#000000\" cx=\"286.5963\" cy=\"-22\" rx=\"18\" ry=\"18\"/>\n<ellipse fill=\"none\" stroke=\"#000000\" cx=\"286.5963\" cy=\"-22\" rx=\"22\" ry=\"22\"/>\n<text text-anchor=\"middle\" x=\"286.5963\" y=\"-18.3\" font-family=\"Times,serif\" font-size=\"14.00\" fill=\"#ffffff\">F</text>\n</g>\n<!-- S0&#45;&gt;F -->\n<g id=\"edge5\" class=\"edge\">\n<title>S0&#45;&gt;F</title>\n<path fill=\"none\" stroke=\"#000000\" d=\"M216.8573,-22C227.9898,-22 241.8945,-22 254.3526,-22\"/>\n<polygon fill=\"#000000\" stroke=\"#000000\" points=\"254.3846,-25.5001 264.3846,-22 254.3845,-18.5001 254.3846,-25.5001\"/>\n<text text-anchor=\"start\" x=\"234.5963\" y=\"-25.8\" font-family=\"Times,serif\" font-size=\"14.00\" fill=\"#000000\"> 0</text>\n</g>\n</g>\n</svg>\n"
              }
            ],
            "_view_module": "@jupyter-widgets/output",
            "_model_module_version": "1.0.0",
            "_view_count": null,
            "_view_module_version": "1.0.0",
            "layout": "IPY_MODEL_c9f84de54e5740d9ad6fbccf77e35198",
            "_model_module": "@jupyter-widgets/output"
          }
        },
        "60e838169a114369b69f97c0b1107e3e": {
          "model_module": "@jupyter-widgets/output",
          "model_name": "OutputModel",
          "state": {
            "_view_name": "OutputView",
            "msg_id": "",
            "_dom_classes": [],
            "_model_name": "OutputModel",
            "outputs": [
              {
                "output_type": "display_data",
                "metadata": {
                  "tags": []
                },
                "text/plain": "<graphviz.files.Source at 0x7f951e3d4208>",
                "image/svg+xml": "<?xml version=\"1.0\" encoding=\"UTF-8\" standalone=\"no\"?>\n<!DOCTYPE svg PUBLIC \"-//W3C//DTD SVG 1.1//EN\"\n \"http://www.w3.org/Graphics/SVG/1.1/DTD/svg11.dtd\">\n<!-- Generated by graphviz version 2.40.1 (20161225.0304)\n -->\n<!-- Title: %3 Pages: 1 -->\n<svg width=\"116pt\" height=\"47pt\"\n viewBox=\"0.00 0.00 116.00 47.00\" xmlns=\"http://www.w3.org/2000/svg\" xmlns:xlink=\"http://www.w3.org/1999/xlink\">\n<g id=\"graph0\" class=\"graph\" transform=\"scale(1 1) rotate(0) translate(4 43)\">\n<title>%3</title>\n<polygon fill=\"#ffffff\" stroke=\"transparent\" points=\"-4,4 -4,-43 112,-43 112,4 -4,4\"/>\n<!-- feed -->\n<g id=\"node1\" class=\"node\">\n<title>feed</title>\n<polygon fill=\"none\" stroke=\"#000000\" points=\"8,-3.5 8,-34.5 57,-34.5 57,-3.5 8,-3.5\"/>\n<text text-anchor=\"start\" x=\"17\" y=\"-15.9\" font-family=\"Times,serif\" font-size=\"12.00\" fill=\"#000000\">10010</text>\n<polygon fill=\"none\" stroke=\"#000000\" points=\"57,-3.5 57,-34.5 82,-34.5 82,-3.5 57,-3.5\"/>\n<text text-anchor=\"start\" x=\"66\" y=\"-15.9\" font-family=\"Times,serif\" font-size=\"12.00\" fill=\"#000000\"> &#160;</text>\n<polygon fill=\"none\" stroke=\"#000000\" points=\"82,-3.5 82,-34.5 100,-34.5 100,-3.5 82,-3.5\"/>\n</g>\n</g>\n</svg>\n"
              }
            ],
            "_view_module": "@jupyter-widgets/output",
            "_model_module_version": "1.0.0",
            "_view_count": null,
            "_view_module_version": "1.0.0",
            "layout": "IPY_MODEL_e66db3f9bad74e2db0c003e83dd58fee",
            "_model_module": "@jupyter-widgets/output"
          }
        },
        "961c30f208c64ed38aded4022f241087": {
          "model_module": "@jupyter-widgets/controls",
          "model_name": "HBoxModel",
          "state": {
            "_view_name": "HBoxView",
            "_dom_classes": [],
            "_model_name": "HBoxModel",
            "_view_module": "@jupyter-widgets/controls",
            "_model_module_version": "1.5.0",
            "_view_count": null,
            "_view_module_version": "1.5.0",
            "box_style": "",
            "layout": "IPY_MODEL_0912d4b641644cbeb9d8f77d45be36bb",
            "_model_module": "@jupyter-widgets/controls",
            "children": [
              "IPY_MODEL_b16470668d5c42a88abf8a78bfef45ce",
              "IPY_MODEL_5997a895ff6444b2ba99c5942e048e5b",
              "IPY_MODEL_dc89e97a474646209058c2c6d253d6a4",
              "IPY_MODEL_72f796f4d0ca418dab489be6b8d71ce2"
            ]
          }
        },
        "e73abf4edf864155b771545856a47166": {
          "model_module": "@jupyter-widgets/base",
          "model_name": "LayoutModel",
          "state": {
            "_view_name": "LayoutView",
            "grid_template_rows": null,
            "right": null,
            "justify_content": null,
            "_view_module": "@jupyter-widgets/base",
            "overflow": null,
            "_model_module_version": "1.2.0",
            "_view_count": null,
            "flex_flow": null,
            "width": null,
            "min_width": null,
            "border": null,
            "align_items": null,
            "bottom": null,
            "_model_module": "@jupyter-widgets/base",
            "top": null,
            "grid_column": null,
            "overflow_y": null,
            "overflow_x": null,
            "grid_auto_flow": null,
            "grid_area": null,
            "grid_template_columns": null,
            "flex": null,
            "_model_name": "LayoutModel",
            "justify_items": null,
            "grid_row": null,
            "max_height": null,
            "align_content": null,
            "visibility": null,
            "align_self": null,
            "height": null,
            "min_height": null,
            "padding": null,
            "grid_auto_rows": null,
            "grid_gap": null,
            "max_width": null,
            "order": null,
            "_view_module_version": "1.2.0",
            "grid_template_areas": null,
            "object_position": null,
            "object_fit": null,
            "grid_auto_columns": null,
            "margin": null,
            "display": null,
            "left": null
          }
        },
        "a04a64d4a2434c1aab9d158176c20f5d": {
          "model_module": "@jupyter-widgets/controls",
          "model_name": "TextModel",
          "state": {
            "_view_name": "TextView",
            "style": "IPY_MODEL_75f17e3373fb4cf8b39cefc250ba53fd",
            "_dom_classes": [],
            "description": "Input:",
            "_model_name": "TextModel",
            "placeholder": "Sigma: {0,1}",
            "_view_module": "@jupyter-widgets/controls",
            "_model_module_version": "1.5.0",
            "value": "10010",
            "_view_count": null,
            "disabled": true,
            "_view_module_version": "1.5.0",
            "continuous_update": true,
            "description_tooltip": null,
            "_model_module": "@jupyter-widgets/controls",
            "layout": "IPY_MODEL_9a4f8eb29a564e91a8ed5be277681380"
          }
        },
        "bed7128476c54ae3aee98f4763b30b98": {
          "model_module": "@jupyter-widgets/controls",
          "model_name": "ButtonModel",
          "state": {
            "_view_name": "ButtonView",
            "style": "IPY_MODEL_95508ce796e04ade8431417344209e2b",
            "_dom_classes": [],
            "description": "Change Input",
            "_model_name": "ButtonModel",
            "button_style": "primary",
            "_view_module": "@jupyter-widgets/controls",
            "_model_module_version": "1.5.0",
            "tooltip": "",
            "_view_count": null,
            "disabled": false,
            "_view_module_version": "1.5.0",
            "layout": "IPY_MODEL_4ff18a49f2b8451a8a33103e9338ca65",
            "_model_module": "@jupyter-widgets/controls",
            "icon": ""
          }
        },
        "0912d4b641644cbeb9d8f77d45be36bb": {
          "model_module": "@jupyter-widgets/base",
          "model_name": "LayoutModel",
          "state": {
            "_view_name": "LayoutView",
            "grid_template_rows": null,
            "right": null,
            "justify_content": null,
            "_view_module": "@jupyter-widgets/base",
            "overflow": null,
            "_model_module_version": "1.2.0",
            "_view_count": null,
            "flex_flow": null,
            "width": null,
            "min_width": null,
            "border": null,
            "align_items": null,
            "bottom": null,
            "_model_module": "@jupyter-widgets/base",
            "top": null,
            "grid_column": null,
            "overflow_y": null,
            "overflow_x": null,
            "grid_auto_flow": null,
            "grid_area": null,
            "grid_template_columns": null,
            "flex": null,
            "_model_name": "LayoutModel",
            "justify_items": null,
            "grid_row": null,
            "max_height": null,
            "align_content": null,
            "visibility": null,
            "align_self": null,
            "height": null,
            "min_height": null,
            "padding": null,
            "grid_auto_rows": null,
            "grid_gap": null,
            "max_width": null,
            "order": null,
            "_view_module_version": "1.2.0",
            "grid_template_areas": null,
            "object_position": null,
            "object_fit": null,
            "grid_auto_columns": null,
            "margin": null,
            "display": null,
            "left": null
          }
        },
        "b16470668d5c42a88abf8a78bfef45ce": {
          "model_module": "@jupyter-widgets/controls",
          "model_name": "PlayModel",
          "state": {
            "_view_name": "PlayView",
            "style": "IPY_MODEL_645de64d6f3243059691533eb2d9d446",
            "interval": 950,
            "_dom_classes": [],
            "description": "Press play",
            "_model_name": "PlayModel",
            "max": 15,
            "_view_module": "@jupyter-widgets/controls",
            "_model_module_version": "1.5.0",
            "value": 15,
            "_view_count": null,
            "disabled": false,
            "_repeat": false,
            "_view_module_version": "1.5.0",
            "show_repeat": true,
            "min": 0,
            "_playing": false,
            "step": 1,
            "description_tooltip": null,
            "_model_module": "@jupyter-widgets/controls",
            "layout": "IPY_MODEL_40f2cb6b5c9047c984ed3007bf8f2d8d"
          }
        },
        "5997a895ff6444b2ba99c5942e048e5b": {
          "model_module": "@jupyter-widgets/controls",
          "model_name": "ButtonModel",
          "state": {
            "_view_name": "ButtonView",
            "style": "IPY_MODEL_d39f39aaa9a34468b74e2f96937aab46",
            "_dom_classes": [],
            "description": "",
            "_model_name": "ButtonModel",
            "button_style": "",
            "_view_module": "@jupyter-widgets/controls",
            "_model_module_version": "1.5.0",
            "tooltip": "",
            "_view_count": null,
            "disabled": false,
            "_view_module_version": "1.5.0",
            "layout": "IPY_MODEL_b506b7e74b4a4264ab4098910c0a75e3",
            "_model_module": "@jupyter-widgets/controls",
            "icon": "step-backward"
          }
        },
        "dc89e97a474646209058c2c6d253d6a4": {
          "model_module": "@jupyter-widgets/controls",
          "model_name": "ButtonModel",
          "state": {
            "_view_name": "ButtonView",
            "style": "IPY_MODEL_dfb10d49c44f463191b6c5df1c22c4cb",
            "_dom_classes": [],
            "description": "",
            "_model_name": "ButtonModel",
            "button_style": "",
            "_view_module": "@jupyter-widgets/controls",
            "_model_module_version": "1.5.0",
            "tooltip": "",
            "_view_count": null,
            "disabled": true,
            "_view_module_version": "1.5.0",
            "layout": "IPY_MODEL_c26af63a95634fd7bd2130cd07f6603a",
            "_model_module": "@jupyter-widgets/controls",
            "icon": "step-forward"
          }
        },
        "72f796f4d0ca418dab489be6b8d71ce2": {
          "model_module": "@jupyter-widgets/controls",
          "model_name": "IntSliderModel",
          "state": {
            "_view_name": "IntSliderView",
            "style": "IPY_MODEL_087f3eac9f124635b091589ec467c727",
            "_dom_classes": [],
            "description": "Speed:",
            "step": 1,
            "_model_name": "IntSliderModel",
            "orientation": "horizontal",
            "max": 10,
            "_view_module": "@jupyter-widgets/controls",
            "_model_module_version": "1.5.0",
            "value": 1,
            "_view_count": null,
            "disabled": false,
            "_view_module_version": "1.5.0",
            "min": 1,
            "continuous_update": false,
            "readout_format": "d",
            "description_tooltip": null,
            "readout": true,
            "_model_module": "@jupyter-widgets/controls",
            "layout": "IPY_MODEL_cf14e23e9c354877960bebed7927caa9"
          }
        },
        "75f17e3373fb4cf8b39cefc250ba53fd": {
          "model_module": "@jupyter-widgets/controls",
          "model_name": "DescriptionStyleModel",
          "state": {
            "_view_name": "StyleView",
            "_model_name": "DescriptionStyleModel",
            "description_width": "",
            "_view_module": "@jupyter-widgets/base",
            "_model_module_version": "1.5.0",
            "_view_count": null,
            "_view_module_version": "1.2.0",
            "_model_module": "@jupyter-widgets/controls"
          }
        },
        "9a4f8eb29a564e91a8ed5be277681380": {
          "model_module": "@jupyter-widgets/base",
          "model_name": "LayoutModel",
          "state": {
            "_view_name": "LayoutView",
            "grid_template_rows": null,
            "right": null,
            "justify_content": null,
            "_view_module": "@jupyter-widgets/base",
            "overflow": null,
            "_model_module_version": "1.2.0",
            "_view_count": null,
            "flex_flow": null,
            "width": "500px",
            "min_width": null,
            "border": null,
            "align_items": null,
            "bottom": null,
            "_model_module": "@jupyter-widgets/base",
            "top": null,
            "grid_column": null,
            "overflow_y": null,
            "overflow_x": null,
            "grid_auto_flow": null,
            "grid_area": null,
            "grid_template_columns": null,
            "flex": null,
            "_model_name": "LayoutModel",
            "justify_items": null,
            "grid_row": null,
            "max_height": null,
            "align_content": null,
            "visibility": null,
            "align_self": null,
            "height": null,
            "min_height": null,
            "padding": null,
            "grid_auto_rows": null,
            "grid_gap": null,
            "max_width": null,
            "order": null,
            "_view_module_version": "1.2.0",
            "grid_template_areas": null,
            "object_position": null,
            "object_fit": null,
            "grid_auto_columns": null,
            "margin": null,
            "display": null,
            "left": null
          }
        },
        "95508ce796e04ade8431417344209e2b": {
          "model_module": "@jupyter-widgets/controls",
          "model_name": "ButtonStyleModel",
          "state": {
            "_view_name": "StyleView",
            "_model_name": "ButtonStyleModel",
            "_view_module": "@jupyter-widgets/base",
            "_model_module_version": "1.5.0",
            "_view_count": null,
            "button_color": null,
            "font_weight": "",
            "_view_module_version": "1.2.0",
            "_model_module": "@jupyter-widgets/controls"
          }
        },
        "4ff18a49f2b8451a8a33103e9338ca65": {
          "model_module": "@jupyter-widgets/base",
          "model_name": "LayoutModel",
          "state": {
            "_view_name": "LayoutView",
            "grid_template_rows": null,
            "right": null,
            "justify_content": null,
            "_view_module": "@jupyter-widgets/base",
            "overflow": null,
            "_model_module_version": "1.2.0",
            "_view_count": null,
            "flex_flow": null,
            "width": null,
            "min_width": null,
            "border": null,
            "align_items": null,
            "bottom": null,
            "_model_module": "@jupyter-widgets/base",
            "top": null,
            "grid_column": null,
            "overflow_y": null,
            "overflow_x": null,
            "grid_auto_flow": null,
            "grid_area": null,
            "grid_template_columns": null,
            "flex": null,
            "_model_name": "LayoutModel",
            "justify_items": null,
            "grid_row": null,
            "max_height": null,
            "align_content": null,
            "visibility": null,
            "align_self": null,
            "height": null,
            "min_height": null,
            "padding": null,
            "grid_auto_rows": null,
            "grid_gap": null,
            "max_width": null,
            "order": null,
            "_view_module_version": "1.2.0",
            "grid_template_areas": null,
            "object_position": null,
            "object_fit": null,
            "grid_auto_columns": null,
            "margin": null,
            "display": null,
            "left": null
          }
        },
        "645de64d6f3243059691533eb2d9d446": {
          "model_module": "@jupyter-widgets/controls",
          "model_name": "DescriptionStyleModel",
          "state": {
            "_view_name": "StyleView",
            "_model_name": "DescriptionStyleModel",
            "description_width": "",
            "_view_module": "@jupyter-widgets/base",
            "_model_module_version": "1.5.0",
            "_view_count": null,
            "_view_module_version": "1.2.0",
            "_model_module": "@jupyter-widgets/controls"
          }
        },
        "40f2cb6b5c9047c984ed3007bf8f2d8d": {
          "model_module": "@jupyter-widgets/base",
          "model_name": "LayoutModel",
          "state": {
            "_view_name": "LayoutView",
            "grid_template_rows": null,
            "right": null,
            "justify_content": null,
            "_view_module": "@jupyter-widgets/base",
            "overflow": null,
            "_model_module_version": "1.2.0",
            "_view_count": null,
            "flex_flow": null,
            "width": null,
            "min_width": null,
            "border": null,
            "align_items": null,
            "bottom": null,
            "_model_module": "@jupyter-widgets/base",
            "top": null,
            "grid_column": null,
            "overflow_y": null,
            "overflow_x": null,
            "grid_auto_flow": null,
            "grid_area": null,
            "grid_template_columns": null,
            "flex": null,
            "_model_name": "LayoutModel",
            "justify_items": null,
            "grid_row": null,
            "max_height": null,
            "align_content": null,
            "visibility": null,
            "align_self": null,
            "height": null,
            "min_height": null,
            "padding": null,
            "grid_auto_rows": null,
            "grid_gap": null,
            "max_width": null,
            "order": null,
            "_view_module_version": "1.2.0",
            "grid_template_areas": null,
            "object_position": null,
            "object_fit": null,
            "grid_auto_columns": null,
            "margin": null,
            "display": null,
            "left": null
          }
        },
        "d39f39aaa9a34468b74e2f96937aab46": {
          "model_module": "@jupyter-widgets/controls",
          "model_name": "ButtonStyleModel",
          "state": {
            "_view_name": "StyleView",
            "_model_name": "ButtonStyleModel",
            "_view_module": "@jupyter-widgets/base",
            "_model_module_version": "1.5.0",
            "_view_count": null,
            "button_color": null,
            "font_weight": "",
            "_view_module_version": "1.2.0",
            "_model_module": "@jupyter-widgets/controls"
          }
        },
        "b506b7e74b4a4264ab4098910c0a75e3": {
          "model_module": "@jupyter-widgets/base",
          "model_name": "LayoutModel",
          "state": {
            "_view_name": "LayoutView",
            "grid_template_rows": null,
            "right": null,
            "justify_content": null,
            "_view_module": "@jupyter-widgets/base",
            "overflow": null,
            "_model_module_version": "1.2.0",
            "_view_count": null,
            "flex_flow": null,
            "width": "40px",
            "min_width": null,
            "border": null,
            "align_items": null,
            "bottom": null,
            "_model_module": "@jupyter-widgets/base",
            "top": null,
            "grid_column": null,
            "overflow_y": null,
            "overflow_x": null,
            "grid_auto_flow": null,
            "grid_area": null,
            "grid_template_columns": null,
            "flex": null,
            "_model_name": "LayoutModel",
            "justify_items": null,
            "grid_row": null,
            "max_height": null,
            "align_content": null,
            "visibility": null,
            "align_self": null,
            "height": null,
            "min_height": null,
            "padding": null,
            "grid_auto_rows": null,
            "grid_gap": null,
            "max_width": null,
            "order": null,
            "_view_module_version": "1.2.0",
            "grid_template_areas": null,
            "object_position": null,
            "object_fit": null,
            "grid_auto_columns": null,
            "margin": null,
            "display": null,
            "left": null
          }
        },
        "dfb10d49c44f463191b6c5df1c22c4cb": {
          "model_module": "@jupyter-widgets/controls",
          "model_name": "ButtonStyleModel",
          "state": {
            "_view_name": "StyleView",
            "_model_name": "ButtonStyleModel",
            "_view_module": "@jupyter-widgets/base",
            "_model_module_version": "1.5.0",
            "_view_count": null,
            "button_color": null,
            "font_weight": "",
            "_view_module_version": "1.2.0",
            "_model_module": "@jupyter-widgets/controls"
          }
        },
        "c26af63a95634fd7bd2130cd07f6603a": {
          "model_module": "@jupyter-widgets/base",
          "model_name": "LayoutModel",
          "state": {
            "_view_name": "LayoutView",
            "grid_template_rows": null,
            "right": null,
            "justify_content": null,
            "_view_module": "@jupyter-widgets/base",
            "overflow": null,
            "_model_module_version": "1.2.0",
            "_view_count": null,
            "flex_flow": null,
            "width": "40px",
            "min_width": null,
            "border": null,
            "align_items": null,
            "bottom": null,
            "_model_module": "@jupyter-widgets/base",
            "top": null,
            "grid_column": null,
            "overflow_y": null,
            "overflow_x": null,
            "grid_auto_flow": null,
            "grid_area": null,
            "grid_template_columns": null,
            "flex": null,
            "_model_name": "LayoutModel",
            "justify_items": null,
            "grid_row": null,
            "max_height": null,
            "align_content": null,
            "visibility": null,
            "align_self": null,
            "height": null,
            "min_height": null,
            "padding": null,
            "grid_auto_rows": null,
            "grid_gap": null,
            "max_width": null,
            "order": null,
            "_view_module_version": "1.2.0",
            "grid_template_areas": null,
            "object_position": null,
            "object_fit": null,
            "grid_auto_columns": null,
            "margin": null,
            "display": null,
            "left": null
          }
        },
        "087f3eac9f124635b091589ec467c727": {
          "model_module": "@jupyter-widgets/controls",
          "model_name": "SliderStyleModel",
          "state": {
            "_view_name": "StyleView",
            "handle_color": null,
            "_model_name": "SliderStyleModel",
            "description_width": "",
            "_view_module": "@jupyter-widgets/base",
            "_model_module_version": "1.5.0",
            "_view_count": null,
            "_view_module_version": "1.2.0",
            "_model_module": "@jupyter-widgets/controls"
          }
        },
        "cf14e23e9c354877960bebed7927caa9": {
          "model_module": "@jupyter-widgets/base",
          "model_name": "LayoutModel",
          "state": {
            "_view_name": "LayoutView",
            "grid_template_rows": null,
            "right": null,
            "justify_content": null,
            "_view_module": "@jupyter-widgets/base",
            "overflow": null,
            "_model_module_version": "1.2.0",
            "_view_count": null,
            "flex_flow": null,
            "width": null,
            "min_width": null,
            "border": null,
            "align_items": null,
            "bottom": null,
            "_model_module": "@jupyter-widgets/base",
            "top": null,
            "grid_column": null,
            "overflow_y": null,
            "overflow_x": null,
            "grid_auto_flow": null,
            "grid_area": null,
            "grid_template_columns": null,
            "flex": null,
            "_model_name": "LayoutModel",
            "justify_items": null,
            "grid_row": null,
            "max_height": null,
            "align_content": null,
            "visibility": null,
            "align_self": null,
            "height": null,
            "min_height": null,
            "padding": null,
            "grid_auto_rows": null,
            "grid_gap": null,
            "max_width": null,
            "order": null,
            "_view_module_version": "1.2.0",
            "grid_template_areas": null,
            "object_position": null,
            "object_fit": null,
            "grid_auto_columns": null,
            "margin": null,
            "display": null,
            "left": null
          }
        },
        "c9f84de54e5740d9ad6fbccf77e35198": {
          "model_module": "@jupyter-widgets/base",
          "model_name": "LayoutModel",
          "state": {
            "_view_name": "LayoutView",
            "grid_template_rows": null,
            "right": null,
            "justify_content": null,
            "_view_module": "@jupyter-widgets/base",
            "overflow": null,
            "_model_module_version": "1.2.0",
            "_view_count": null,
            "flex_flow": null,
            "width": null,
            "min_width": null,
            "border": null,
            "align_items": null,
            "bottom": null,
            "_model_module": "@jupyter-widgets/base",
            "top": null,
            "grid_column": null,
            "overflow_y": null,
            "overflow_x": null,
            "grid_auto_flow": null,
            "grid_area": null,
            "grid_template_columns": null,
            "flex": null,
            "_model_name": "LayoutModel",
            "justify_items": null,
            "grid_row": null,
            "max_height": null,
            "align_content": null,
            "visibility": null,
            "align_self": null,
            "height": null,
            "min_height": null,
            "padding": null,
            "grid_auto_rows": null,
            "grid_gap": null,
            "max_width": null,
            "order": null,
            "_view_module_version": "1.2.0",
            "grid_template_areas": null,
            "object_position": null,
            "object_fit": null,
            "grid_auto_columns": null,
            "margin": null,
            "display": null,
            "left": null
          }
        },
        "e66db3f9bad74e2db0c003e83dd58fee": {
          "model_module": "@jupyter-widgets/base",
          "model_name": "LayoutModel",
          "state": {
            "_view_name": "LayoutView",
            "grid_template_rows": null,
            "right": null,
            "justify_content": null,
            "_view_module": "@jupyter-widgets/base",
            "overflow": null,
            "_model_module_version": "1.2.0",
            "_view_count": null,
            "flex_flow": null,
            "width": null,
            "min_width": null,
            "border": null,
            "align_items": null,
            "bottom": null,
            "_model_module": "@jupyter-widgets/base",
            "top": null,
            "grid_column": null,
            "overflow_y": null,
            "overflow_x": null,
            "grid_auto_flow": null,
            "grid_area": null,
            "grid_template_columns": null,
            "flex": null,
            "_model_name": "LayoutModel",
            "justify_items": null,
            "grid_row": null,
            "max_height": null,
            "align_content": null,
            "visibility": null,
            "align_self": null,
            "height": null,
            "min_height": null,
            "padding": null,
            "grid_auto_rows": null,
            "grid_gap": null,
            "max_width": null,
            "order": null,
            "_view_module_version": "1.2.0",
            "grid_template_areas": null,
            "object_position": null,
            "object_fit": null,
            "grid_auto_columns": null,
            "margin": null,
            "display": null,
            "left": null
          }
        },
        "441c112eb7374bc2bab51e5459387ccf": {
          "model_module": "@jupyter-widgets/controls",
          "model_name": "VBoxModel",
          "state": {
            "_view_name": "VBoxView",
            "_dom_classes": [
              "widget-interact"
            ],
            "_model_name": "VBoxModel",
            "_view_module": "@jupyter-widgets/controls",
            "_model_module_version": "1.5.0",
            "_view_count": null,
            "_view_module_version": "1.5.0",
            "box_style": "",
            "layout": "IPY_MODEL_1a36173f18c94810a42ec4d5d21f38de",
            "_model_module": "@jupyter-widgets/controls",
            "children": [
              "IPY_MODEL_6bd2d17e4e4f4cacb5cdbb6603dbd30d",
              "IPY_MODEL_977da351b10e4286867203583b7ebcba",
              "IPY_MODEL_efe3f6d015614d60aaf9cbb9d02e2d89",
              "IPY_MODEL_fb8f18c2c9034a1d99144c8934fecf43"
            ]
          }
        },
        "1a36173f18c94810a42ec4d5d21f38de": {
          "model_module": "@jupyter-widgets/base",
          "model_name": "LayoutModel",
          "state": {
            "_view_name": "LayoutView",
            "grid_template_rows": null,
            "right": null,
            "justify_content": null,
            "_view_module": "@jupyter-widgets/base",
            "overflow": null,
            "_model_module_version": "1.2.0",
            "_view_count": null,
            "flex_flow": null,
            "width": null,
            "min_width": null,
            "border": null,
            "align_items": null,
            "bottom": null,
            "_model_module": "@jupyter-widgets/base",
            "top": null,
            "grid_column": null,
            "overflow_y": null,
            "overflow_x": null,
            "grid_auto_flow": null,
            "grid_area": null,
            "grid_template_columns": null,
            "flex": null,
            "_model_name": "LayoutModel",
            "justify_items": null,
            "grid_row": null,
            "max_height": null,
            "align_content": null,
            "visibility": null,
            "align_self": null,
            "height": null,
            "min_height": null,
            "padding": null,
            "grid_auto_rows": null,
            "grid_gap": null,
            "max_width": null,
            "order": null,
            "_view_module_version": "1.2.0",
            "grid_template_areas": null,
            "object_position": null,
            "object_fit": null,
            "grid_auto_columns": null,
            "margin": null,
            "display": null,
            "left": null
          }
        },
        "6bd2d17e4e4f4cacb5cdbb6603dbd30d": {
          "model_module": "@jupyter-widgets/controls",
          "model_name": "DropdownModel",
          "state": {
            "_options_labels": [
              "N1"
            ],
            "_view_name": "DropdownView",
            "style": "IPY_MODEL_182f173bbae04bbb89d6cedd773a5bfa",
            "_dom_classes": [],
            "description": "N",
            "_model_name": "DropdownModel",
            "index": 0,
            "_view_module": "@jupyter-widgets/controls",
            "_model_module_version": "1.5.0",
            "_view_count": null,
            "disabled": false,
            "_view_module_version": "1.5.0",
            "description_tooltip": null,
            "_model_module": "@jupyter-widgets/controls",
            "layout": "IPY_MODEL_dd3a07af43ef48b3825b11ae398aca8d"
          }
        },
        "977da351b10e4286867203583b7ebcba": {
          "model_module": "@jupyter-widgets/controls",
          "model_name": "TextModel",
          "state": {
            "_view_name": "TextView",
            "style": "IPY_MODEL_a7f9c294f68b48a5a64b225820a5deb7",
            "_dom_classes": [],
            "description": "s",
            "_model_name": "TextModel",
            "placeholder": "​",
            "_view_module": "@jupyter-widgets/controls",
            "_model_module_version": "1.5.0",
            "value": "10010",
            "_view_count": null,
            "disabled": false,
            "_view_module_version": "1.5.0",
            "continuous_update": true,
            "description_tooltip": null,
            "_model_module": "@jupyter-widgets/controls",
            "layout": "IPY_MODEL_9e99ab60d28a42d3b5633a514e628318"
          }
        },
        "efe3f6d015614d60aaf9cbb9d02e2d89": {
          "model_module": "@jupyter-widgets/controls",
          "model_name": "IntSliderModel",
          "state": {
            "_view_name": "IntSliderView",
            "style": "IPY_MODEL_27bb3ed308394bb6be001bc754036a1a",
            "_dom_classes": [],
            "description": "n",
            "step": 1,
            "_model_name": "IntSliderModel",
            "orientation": "horizontal",
            "max": 5,
            "_view_module": "@jupyter-widgets/controls",
            "_model_module_version": "1.5.0",
            "value": 5,
            "_view_count": null,
            "disabled": false,
            "_view_module_version": "1.5.0",
            "min": 0,
            "continuous_update": true,
            "readout_format": "d",
            "description_tooltip": null,
            "readout": true,
            "_model_module": "@jupyter-widgets/controls",
            "layout": "IPY_MODEL_00be63eba80940b38acacb13bc1cf59a"
          }
        },
        "fb8f18c2c9034a1d99144c8934fecf43": {
          "model_module": "@jupyter-widgets/output",
          "model_name": "OutputModel",
          "state": {
            "_view_name": "OutputView",
            "msg_id": "",
            "_dom_classes": [],
            "_model_name": "OutputModel",
            "outputs": [
              {
                "output_type": "stream",
                "metadata": {
                  "tags": []
                },
                "text": "string =  10010\nStates reached =  {'I', 'S0'}\nStates reached =  {'I', 'F'}\nStates reached =  {'I'}\nStates reached =  {'I', 'S0'}\nStates reached =  {'I', 'F'}\n",
                "stream": "stdout"
              }
            ],
            "_view_module": "@jupyter-widgets/output",
            "_model_module_version": "1.0.0",
            "_view_count": null,
            "_view_module_version": "1.0.0",
            "layout": "IPY_MODEL_583ce7c0ab414c82ac678b90ca8221ee",
            "_model_module": "@jupyter-widgets/output"
          }
        },
        "182f173bbae04bbb89d6cedd773a5bfa": {
          "model_module": "@jupyter-widgets/controls",
          "model_name": "DescriptionStyleModel",
          "state": {
            "_view_name": "StyleView",
            "_model_name": "DescriptionStyleModel",
            "description_width": "",
            "_view_module": "@jupyter-widgets/base",
            "_model_module_version": "1.5.0",
            "_view_count": null,
            "_view_module_version": "1.2.0",
            "_model_module": "@jupyter-widgets/controls"
          }
        },
        "dd3a07af43ef48b3825b11ae398aca8d": {
          "model_module": "@jupyter-widgets/base",
          "model_name": "LayoutModel",
          "state": {
            "_view_name": "LayoutView",
            "grid_template_rows": null,
            "right": null,
            "justify_content": null,
            "_view_module": "@jupyter-widgets/base",
            "overflow": null,
            "_model_module_version": "1.2.0",
            "_view_count": null,
            "flex_flow": null,
            "width": null,
            "min_width": null,
            "border": null,
            "align_items": null,
            "bottom": null,
            "_model_module": "@jupyter-widgets/base",
            "top": null,
            "grid_column": null,
            "overflow_y": null,
            "overflow_x": null,
            "grid_auto_flow": null,
            "grid_area": null,
            "grid_template_columns": null,
            "flex": null,
            "_model_name": "LayoutModel",
            "justify_items": null,
            "grid_row": null,
            "max_height": null,
            "align_content": null,
            "visibility": null,
            "align_self": null,
            "height": null,
            "min_height": null,
            "padding": null,
            "grid_auto_rows": null,
            "grid_gap": null,
            "max_width": null,
            "order": null,
            "_view_module_version": "1.2.0",
            "grid_template_areas": null,
            "object_position": null,
            "object_fit": null,
            "grid_auto_columns": null,
            "margin": null,
            "display": null,
            "left": null
          }
        },
        "a7f9c294f68b48a5a64b225820a5deb7": {
          "model_module": "@jupyter-widgets/controls",
          "model_name": "DescriptionStyleModel",
          "state": {
            "_view_name": "StyleView",
            "_model_name": "DescriptionStyleModel",
            "description_width": "",
            "_view_module": "@jupyter-widgets/base",
            "_model_module_version": "1.5.0",
            "_view_count": null,
            "_view_module_version": "1.2.0",
            "_model_module": "@jupyter-widgets/controls"
          }
        },
        "9e99ab60d28a42d3b5633a514e628318": {
          "model_module": "@jupyter-widgets/base",
          "model_name": "LayoutModel",
          "state": {
            "_view_name": "LayoutView",
            "grid_template_rows": null,
            "right": null,
            "justify_content": null,
            "_view_module": "@jupyter-widgets/base",
            "overflow": null,
            "_model_module_version": "1.2.0",
            "_view_count": null,
            "flex_flow": null,
            "width": null,
            "min_width": null,
            "border": null,
            "align_items": null,
            "bottom": null,
            "_model_module": "@jupyter-widgets/base",
            "top": null,
            "grid_column": null,
            "overflow_y": null,
            "overflow_x": null,
            "grid_auto_flow": null,
            "grid_area": null,
            "grid_template_columns": null,
            "flex": null,
            "_model_name": "LayoutModel",
            "justify_items": null,
            "grid_row": null,
            "max_height": null,
            "align_content": null,
            "visibility": null,
            "align_self": null,
            "height": null,
            "min_height": null,
            "padding": null,
            "grid_auto_rows": null,
            "grid_gap": null,
            "max_width": null,
            "order": null,
            "_view_module_version": "1.2.0",
            "grid_template_areas": null,
            "object_position": null,
            "object_fit": null,
            "grid_auto_columns": null,
            "margin": null,
            "display": null,
            "left": null
          }
        },
        "27bb3ed308394bb6be001bc754036a1a": {
          "model_module": "@jupyter-widgets/controls",
          "model_name": "SliderStyleModel",
          "state": {
            "_view_name": "StyleView",
            "handle_color": null,
            "_model_name": "SliderStyleModel",
            "description_width": "",
            "_view_module": "@jupyter-widgets/base",
            "_model_module_version": "1.5.0",
            "_view_count": null,
            "_view_module_version": "1.2.0",
            "_model_module": "@jupyter-widgets/controls"
          }
        },
        "00be63eba80940b38acacb13bc1cf59a": {
          "model_module": "@jupyter-widgets/base",
          "model_name": "LayoutModel",
          "state": {
            "_view_name": "LayoutView",
            "grid_template_rows": null,
            "right": null,
            "justify_content": null,
            "_view_module": "@jupyter-widgets/base",
            "overflow": null,
            "_model_module_version": "1.2.0",
            "_view_count": null,
            "flex_flow": null,
            "width": null,
            "min_width": null,
            "border": null,
            "align_items": null,
            "bottom": null,
            "_model_module": "@jupyter-widgets/base",
            "top": null,
            "grid_column": null,
            "overflow_y": null,
            "overflow_x": null,
            "grid_auto_flow": null,
            "grid_area": null,
            "grid_template_columns": null,
            "flex": null,
            "_model_name": "LayoutModel",
            "justify_items": null,
            "grid_row": null,
            "max_height": null,
            "align_content": null,
            "visibility": null,
            "align_self": null,
            "height": null,
            "min_height": null,
            "padding": null,
            "grid_auto_rows": null,
            "grid_gap": null,
            "max_width": null,
            "order": null,
            "_view_module_version": "1.2.0",
            "grid_template_areas": null,
            "object_position": null,
            "object_fit": null,
            "grid_auto_columns": null,
            "margin": null,
            "display": null,
            "left": null
          }
        },
        "583ce7c0ab414c82ac678b90ca8221ee": {
          "model_module": "@jupyter-widgets/base",
          "model_name": "LayoutModel",
          "state": {
            "_view_name": "LayoutView",
            "grid_template_rows": null,
            "right": null,
            "justify_content": null,
            "_view_module": "@jupyter-widgets/base",
            "overflow": null,
            "_model_module_version": "1.2.0",
            "_view_count": null,
            "flex_flow": null,
            "width": null,
            "min_width": null,
            "border": null,
            "align_items": null,
            "bottom": null,
            "_model_module": "@jupyter-widgets/base",
            "top": null,
            "grid_column": null,
            "overflow_y": null,
            "overflow_x": null,
            "grid_auto_flow": null,
            "grid_area": null,
            "grid_template_columns": null,
            "flex": null,
            "_model_name": "LayoutModel",
            "justify_items": null,
            "grid_row": null,
            "max_height": null,
            "align_content": null,
            "visibility": null,
            "align_self": null,
            "height": null,
            "min_height": null,
            "padding": null,
            "grid_auto_rows": null,
            "grid_gap": null,
            "max_width": null,
            "order": null,
            "_view_module_version": "1.2.0",
            "grid_template_areas": null,
            "object_position": null,
            "object_fit": null,
            "grid_auto_columns": null,
            "margin": null,
            "display": null,
            "left": null
          }
        }
      }
    },
    "colab": {
      "name": "04_2_NFA_Problems.ipynb",
      "provenance": []
    }
  },
  "cells": [
    {
      "cell_type": "markdown",
      "metadata": {
        "run_control": {
          "frozen": false,
          "read_only": false
        },
        "id": "CoWWfIXh9Vif"
      },
      "source": [
        "# Imports first, then the Assignment (6 Tasks)\n"
      ]
    },
    {
      "cell_type": "code",
      "metadata": {
        "run_control": {
          "frozen": false,
          "read_only": false
        },
        "scrolled": true,
        "id": "iXI6yvN09Vio",
        "outputId": "fcc24c8c-38ef-447d-f96d-df693d6af113",
        "colab": {
          "base_uri": "https://localhost:8080/"
        }
      },
      "source": [
        "#~~~~~~~~~~~~~~~~~~~~~~~~~~~~~~~~~~~~~~~~~~~~~~~~~~~~~~~\n",
        "import sys\n",
        "\n",
        "# -- Detect if in Own Install or in Colab\n",
        "try:\n",
        "    import google.colab\n",
        "    OWN_INSTALL = False\n",
        "except:\n",
        "    OWN_INSTALL = True\n",
        "    \n",
        "if OWN_INSTALL:\n",
        "    \n",
        "  #---- Leave these definitions ON if running on laptop\n",
        "  #---- Else turn OFF by putting them between ''' ... '''\n",
        "\n",
        "  sys.path[0:0] = ['../../../../..',  '../../../../../3rdparty',  \n",
        "                   '../../../..',  '../../../../3rdparty',  \n",
        "                   '../../..',     '../../../3rdparty', \n",
        "                   '../..',        '../../3rdparty',\n",
        "                   '..',           '../3rdparty' ]\n",
        "\n",
        "else: # In colab\n",
        "  ! if [ ! -d Jove ]; then git clone https://github.com/ganeshutah/Jove Jove; fi\n",
        "  sys.path.append('./Jove')\n",
        "  sys.path.append('./Jove/jove')\n",
        "\n",
        "# -- common imports --\n",
        "from jove.DotBashers import *\n",
        "from jove.Def_md2mc  import *\n",
        "from jove.Def_NFA    import *\n",
        "from jove.Def_DFA    import *\n",
        "from jove.AnimateNFA import *\n",
        "#~~~~~~~~~~~~~~~~~~~~~~~~~~~~~~~~~~~~~~~~~~~~~~~~~~~~~~~"
      ],
      "execution_count": 1,
      "outputs": [
        {
          "output_type": "stream",
          "text": [
            "Cloning into 'Jove'...\n",
            "remote: Enumerating objects: 4634, done.\u001b[K\n",
            "remote: Total 4634 (delta 0), reused 0 (delta 0), pack-reused 4634\u001b[K\n",
            "Receiving objects: 100% (4634/4634), 7.38 MiB | 5.15 MiB/s, done.\n",
            "Resolving deltas: 100% (3005/3005), done.\n",
            "You may use any of these help commands:\n",
            "help(ResetStNum)\n",
            "help(NxtStateStr)\n",
            "\n",
            "You may use any of these help commands:\n",
            "help(md2mc)\n",
            ".. and if you want to dig more, then ..\n",
            "help(default_line_attr)\n",
            "help(length_ok_input_items)\n",
            "help(union_line_attr_list_fld)\n",
            "help(extend_rsltdict)\n",
            "help(form_delta)\n",
            "help(get_machine_components)\n",
            "\n",
            "You may use any of these help commands:\n",
            "help(mkp_dfa)\n",
            "help(mk_dfa)\n",
            "help(totalize_dfa)\n",
            "help(addtosigma_delta)\n",
            "help(step_dfa)\n",
            "help(run_dfa)\n",
            "help(accepts_dfa)\n",
            "help(comp_dfa)\n",
            "help(union_dfa)\n",
            "help(intersect_dfa)\n",
            "help(pruneUnreach)\n",
            "help(iso_dfa)\n",
            "help(langeq_dfa)\n",
            "help(same_status)\n",
            "help(h_langeq_dfa)\n",
            "help(fixptDist)\n",
            "help(min_dfa)\n",
            "help(pairFR)\n",
            "help(state_combos)\n",
            "help(sepFinNonFin)\n",
            "help(bash_eql_classes)\n",
            "help(listminus)\n",
            "help(bash_1)\n",
            "help(mk_rep_eqc)\n",
            "help(F_of)\n",
            "help(rep_of_s)\n",
            "help(q0_of)\n",
            "help(Delta_of)\n",
            "help(mk_state_eqc_name)\n",
            "\n",
            "You may use any of these help commands:\n",
            "help(mk_nfa)\n",
            "help(totalize_nfa)\n",
            "help(step_nfa)\n",
            "help(run_nfa)\n",
            "help(ec_step_nfa)\n",
            "help(Eclosure)\n",
            "help(Echelp)\n",
            "help(accepts_nfa)\n",
            "help(nfa2dfa)\n",
            "help(n2d)\n",
            "help(inSets)\n",
            "help(rev_dfa)\n",
            "help(min_dfa_brz)\n",
            "\n",
            " \"help(AnimateNFA)\" gives you info on how to use animations with NFA \n"
          ],
          "name": "stdout"
        }
      ]
    },
    {
      "cell_type": "markdown",
      "metadata": {
        "id": "xs8I5xos9Vir"
      },
      "source": [
        "# Task 1: Design an NFA for $\\{0,1\\}^* 1 0$ (\"Ends 10\")\n",
        "\n",
        "## It will be a 3-state NFA.\n",
        "\n",
        "## Name the states I, S0, and F.\n",
        "\n",
        "### Document each line of your Jove code with a short comment.\n"
      ]
    },
    {
      "cell_type": "code",
      "metadata": {
        "id": "EeNI7WQi9Vis",
        "outputId": "71788908-6c3a-4c0f-9287-100b08ac62f2",
        "colab": {
          "base_uri": "https://localhost:8080/"
        }
      },
      "source": [
        "# SOLUTION\n",
        "\n",
        "nfaEnds10 = md2mc('''\n",
        "\n",
        "NFA \n",
        "\n",
        "I : 0|1 -> I\n",
        "I : 1 -> S0\n",
        "S0 : 0 -> F\n",
        " \n",
        "''')"
      ],
      "execution_count": 2,
      "outputs": [
        {
          "output_type": "stream",
          "text": [
            "Generating LALR tables\n"
          ],
          "name": "stderr"
        }
      ]
    },
    {
      "cell_type": "code",
      "metadata": {
        "id": "P7q8PvVg9th7",
        "outputId": "377df9c4-0d48-49be-9273-f36618b44e4e",
        "colab": {
          "base_uri": "https://localhost:8080/",
          "height": 149
        }
      },
      "source": [
        "dotObj_nfa(nfaEnds10, FuseEdges=True)"
      ],
      "execution_count": 4,
      "outputs": [
        {
          "output_type": "execute_result",
          "data": {
            "text/plain": [
              "<graphviz.dot.Digraph at 0x7f951dbd2da0>"
            ],
            "image/svg+xml": "<?xml version=\"1.0\" encoding=\"UTF-8\" standalone=\"no\"?>\n<!DOCTYPE svg PUBLIC \"-//W3C//DTD SVG 1.1//EN\"\n \"http://www.w3.org/Graphics/SVG/1.1/DTD/svg11.dtd\">\n<!-- Generated by graphviz version 2.40.1 (20161225.0304)\n -->\n<!-- Title: %3 Pages: 1 -->\n<svg width=\"317pt\" height=\"96pt\"\n viewBox=\"0.00 0.00 316.60 96.00\" xmlns=\"http://www.w3.org/2000/svg\" xmlns:xlink=\"http://www.w3.org/1999/xlink\">\n<g id=\"graph0\" class=\"graph\" transform=\"scale(1 1) rotate(0) translate(4 92)\">\n<title>%3</title>\n<polygon fill=\"#ffffff\" stroke=\"transparent\" points=\"-4,4 -4,-92 312.5963,-92 312.5963,4 -4,4\"/>\n<!-- EMPTY -->\n<g id=\"node1\" class=\"node\">\n<title>EMPTY</title>\n</g>\n<!-- I -->\n<g id=\"node2\" class=\"node\">\n<title>I</title>\n<ellipse fill=\"none\" stroke=\"#000000\" cx=\"109\" cy=\"-22\" rx=\"18\" ry=\"18\"/>\n<text text-anchor=\"middle\" x=\"109\" y=\"-18.3\" font-family=\"Times,serif\" font-size=\"14.00\" fill=\"#000000\">I</text>\n</g>\n<!-- EMPTY&#45;&gt;I -->\n<g id=\"edge1\" class=\"edge\">\n<title>EMPTY&#45;&gt;I</title>\n<path fill=\"none\" stroke=\"#000000\" d=\"M54.3048,-22C62.6909,-22 71.9407,-22 80.4103,-22\"/>\n<polygon fill=\"#000000\" stroke=\"#000000\" points=\"80.5976,-25.5001 90.5976,-22 80.5976,-18.5001 80.5976,-25.5001\"/>\n</g>\n<!-- I&#45;&gt;I -->\n<g id=\"edge2\" class=\"edge\">\n<title>I&#45;&gt;I</title>\n<path fill=\"none\" stroke=\"#000000\" d=\"M102.6208,-39.0373C101.3189,-48.8579 103.4453,-58 109,-58 112.4717,-58 114.6042,-54.4289 115.3975,-49.3529\"/>\n<polygon fill=\"#000000\" stroke=\"#000000\" points=\"118.8971,-49.031 115.3792,-39.0373 111.8971,-49.0435 118.8971,-49.031\"/>\n<text text-anchor=\"middle\" x=\"109\" y=\"-76.8\" font-family=\"Times,serif\" font-size=\"14.00\" fill=\"#000000\">1 </text>\n<text text-anchor=\"middle\" x=\"109\" y=\"-61.8\" font-family=\"Times,serif\" font-size=\"14.00\" fill=\"#000000\"> 0 </text>\n</g>\n<!-- S0 -->\n<g id=\"node3\" class=\"node\">\n<title>S0</title>\n<ellipse fill=\"none\" stroke=\"#000000\" cx=\"195.7982\" cy=\"-22\" rx=\"20.5982\" ry=\"20.5982\"/>\n<text text-anchor=\"middle\" x=\"195.7982\" y=\"-18.3\" font-family=\"Times,serif\" font-size=\"14.00\" fill=\"#000000\">S0</text>\n</g>\n<!-- I&#45;&gt;S0 -->\n<g id=\"edge3\" class=\"edge\">\n<title>I&#45;&gt;S0</title>\n<path fill=\"none\" stroke=\"#000000\" d=\"M127.4077,-22C138.2934,-22 152.3613,-22 164.9052,-22\"/>\n<polygon fill=\"#000000\" stroke=\"#000000\" points=\"164.9803,-25.5001 174.9802,-22 164.9802,-18.5001 164.9803,-25.5001\"/>\n<text text-anchor=\"middle\" x=\"151\" y=\"-25.8\" font-family=\"Times,serif\" font-size=\"14.00\" fill=\"#000000\">1 </text>\n</g>\n<!-- F -->\n<g id=\"node4\" class=\"node\">\n<title>F</title>\n<ellipse fill=\"none\" stroke=\"#000000\" cx=\"286.5963\" cy=\"-22\" rx=\"18\" ry=\"18\"/>\n<ellipse fill=\"none\" stroke=\"#000000\" cx=\"286.5963\" cy=\"-22\" rx=\"22\" ry=\"22\"/>\n<text text-anchor=\"middle\" x=\"286.5963\" y=\"-18.3\" font-family=\"Times,serif\" font-size=\"14.00\" fill=\"#000000\">F</text>\n</g>\n<!-- S0&#45;&gt;F -->\n<g id=\"edge4\" class=\"edge\">\n<title>S0&#45;&gt;F</title>\n<path fill=\"none\" stroke=\"#000000\" d=\"M216.8573,-22C227.9898,-22 241.8945,-22 254.3526,-22\"/>\n<polygon fill=\"#000000\" stroke=\"#000000\" points=\"254.3846,-25.5001 264.3846,-22 254.3845,-18.5001 254.3846,-25.5001\"/>\n<text text-anchor=\"middle\" x=\"240.5963\" y=\"-25.8\" font-family=\"Times,serif\" font-size=\"14.00\" fill=\"#000000\">0 </text>\n</g>\n</g>\n</svg>\n"
          },
          "metadata": {
            "tags": []
          },
          "execution_count": 4
        }
      ]
    },
    {
      "cell_type": "markdown",
      "metadata": {
        "id": "pjcgaJPw9Vis"
      },
      "source": [
        "# Task 2: Determine States in Animation\n",
        "\n",
        "Put the above NFA in animation, and note down the set of states attained\n",
        "after the DFA has seen every character in 10010. More detailed instructions follow."
      ]
    },
    {
      "cell_type": "markdown",
      "metadata": {
        "id": "iqzDQtd79Vit"
      },
      "source": [
        "## Execute the cell below and follow the bulleted instructions:\n",
        "\n",
        "* When the animation pane comes up, type in 10010 and click Animate\n",
        "\n",
        "* Then click the \">|\" button, which is for single-stepping\n",
        "\n",
        "* Note down the results as you single-step, and fill answers in 1b(ii) below\n"
      ]
    },
    {
      "cell_type": "code",
      "metadata": {
        "scrolled": false,
        "id": "mDXwBAWQ9Viu",
        "outputId": "6251f106-2941-492c-cb48-03516bd24dd2",
        "colab": {
          "base_uri": "https://localhost:8080/",
          "height": 304,
          "referenced_widgets": [
            "cf0e4156ce4047aba3e1397d9b4c71f5",
            "7d30442b090d4487944397006d10335b",
            "6f21dbce395b416fa7f6c48b9a0e778b",
            "4c4cfe1e7944497cae871fbc00599e11",
            "60e838169a114369b69f97c0b1107e3e",
            "961c30f208c64ed38aded4022f241087",
            "e73abf4edf864155b771545856a47166",
            "a04a64d4a2434c1aab9d158176c20f5d",
            "bed7128476c54ae3aee98f4763b30b98",
            "0912d4b641644cbeb9d8f77d45be36bb",
            "b16470668d5c42a88abf8a78bfef45ce",
            "5997a895ff6444b2ba99c5942e048e5b",
            "dc89e97a474646209058c2c6d253d6a4",
            "72f796f4d0ca418dab489be6b8d71ce2",
            "75f17e3373fb4cf8b39cefc250ba53fd",
            "9a4f8eb29a564e91a8ed5be277681380",
            "95508ce796e04ade8431417344209e2b",
            "4ff18a49f2b8451a8a33103e9338ca65",
            "645de64d6f3243059691533eb2d9d446",
            "40f2cb6b5c9047c984ed3007bf8f2d8d",
            "d39f39aaa9a34468b74e2f96937aab46",
            "b506b7e74b4a4264ab4098910c0a75e3",
            "dfb10d49c44f463191b6c5df1c22c4cb",
            "c26af63a95634fd7bd2130cd07f6603a",
            "087f3eac9f124635b091589ec467c727",
            "cf14e23e9c354877960bebed7927caa9",
            "c9f84de54e5740d9ad6fbccf77e35198",
            "e66db3f9bad74e2db0c003e83dd58fee"
          ]
        }
      },
      "source": [
        "AnimateNFA(nfaEnds10, FuseEdges=False)\n",
        "display(HTML('<link rel=\\\"stylesheet\\\" href=\\\"//stackpath.bootstrapcdn.com/font-awesome/4.7.0/css/font-awesome.min.css\\\"/>'))"
      ],
      "execution_count": 5,
      "outputs": [
        {
          "output_type": "display_data",
          "data": {
            "application/vnd.jupyter.widget-view+json": {
              "model_id": "cf0e4156ce4047aba3e1397d9b4c71f5",
              "version_minor": 0,
              "version_major": 2
            },
            "text/plain": [
              "VBox(children=(HBox(children=(Text(value='', description='Input:', layout=Layout(width='500px'), placeholder='…"
            ]
          },
          "metadata": {
            "tags": []
          }
        },
        {
          "output_type": "display_data",
          "data": {
            "text/html": [
              "<link rel=\"stylesheet\" href=\"//stackpath.bootstrapcdn.com/font-awesome/4.7.0/css/font-awesome.min.css\"/>"
            ],
            "text/plain": [
              "<IPython.core.display.HTML object>"
            ]
          },
          "metadata": {
            "tags": []
          }
        }
      ]
    },
    {
      "cell_type": "markdown",
      "metadata": {
        "id": "T-MQKgZM9Viv"
      },
      "source": [
        "## Provide these answers based on single-stepping the animation (please type in a SET OF STATES - else no credit). \n",
        "\n",
        "## Also say whether a token dropped out of the diagram (with the move on a symbol being undefined) and whether the state reached is final. \n",
        "\n",
        "### SET of states before consuming any of 10010 = ..fill.. . \n",
        "#### A Token Dropped Out / The SET of states reached is FINAL / NONE OF THESE (retain what apply)\n",
        "\n",
        "### SET of states AFTER consuming \"1\" and before consuming \"0010\"  = ..fill..\n",
        "#### A Token Dropped Out / The SET of states reached is FINAL / NONE OF THESE (retain what apply)\n",
        "\n",
        "### SET of states AFTER consuming \"10\" and before consuming \"010\"  = ..fill..\n",
        "#### A Token Dropped Out / The SET of states reached is FINAL / NONE OF THESE (retain what apply)\n",
        "\n",
        "### SET of states AFTER consuming \"100\" and before consuming \"10\"  = ..fill..\n",
        "#### A Token Dropped Out / The SET of states reached is FINAL / NONE OF THESE (retain what apply)\n",
        "\n",
        "### SET of states AFTER consuming \"1001\" and before consuming \"0\"  = ..fill..\n",
        "#### A Token Dropped Out / The SET of states reached is FINAL / NONE OF THESE (retain what apply)\n",
        "\n",
        "### SET of states AFTER consuming \"10010\" entirely  = ..fill..\n",
        "#### A Token Dropped Out / The SET of states reached is FINAL / NONE OF THESE (retain what apply)"
      ]
    },
    {
      "cell_type": "markdown",
      "metadata": {
        "id": "M4_RPgUycPil"
      },
      "source": [
        "I can use the run_nfa function to see what states are achieved after consuming the first n characters of the input string."
      ]
    },
    {
      "cell_type": "code",
      "metadata": {
        "id": "ZnTrcTICRAva",
        "outputId": "78ce8f38-697c-486c-e2b5-7d93374db34a",
        "colab": {
          "base_uri": "https://localhost:8080/",
          "height": 232,
          "referenced_widgets": [
            "441c112eb7374bc2bab51e5459387ccf",
            "1a36173f18c94810a42ec4d5d21f38de",
            "6bd2d17e4e4f4cacb5cdbb6603dbd30d",
            "977da351b10e4286867203583b7ebcba",
            "efe3f6d015614d60aaf9cbb9d02e2d89",
            "fb8f18c2c9034a1d99144c8934fecf43",
            "182f173bbae04bbb89d6cedd773a5bfa",
            "dd3a07af43ef48b3825b11ae398aca8d",
            "a7f9c294f68b48a5a64b225820a5deb7",
            "9e99ab60d28a42d3b5633a514e628318",
            "27bb3ed308394bb6be001bc754036a1a",
            "00be63eba80940b38acacb13bc1cf59a",
            "583ce7c0ab414c82ac678b90ca8221ee"
          ]
        }
      },
      "source": [
        "import ipywidgets as wdg\r\n",
        "def run_nfa_slider(N, s, n):\r\n",
        "  S = N['Q0']\r\n",
        "  if n > len(s):\r\n",
        "    n = len(s)\r\n",
        "  print(\"string = \", s[0:n])\r\n",
        "  run_nfa(N,S,s[0:n], True)\r\n",
        "  \r\n",
        "def run_nfa_int(N1):\r\n",
        "  inp = input(\"Please Provide Input String: \")\r\n",
        "  wdg.interact(run_nfa_slider, N={'N1' : N1}, s = inp, n=(0,len(inp)))\r\n",
        "\r\n",
        "run_nfa_int(nfaEnds10)"
      ],
      "execution_count": 13,
      "outputs": [
        {
          "output_type": "stream",
          "text": [
            "Please Provide Input String: 10010\n"
          ],
          "name": "stdout"
        },
        {
          "output_type": "display_data",
          "data": {
            "application/vnd.jupyter.widget-view+json": {
              "model_id": "441c112eb7374bc2bab51e5459387ccf",
              "version_minor": 0,
              "version_major": 2
            },
            "text/plain": [
              "interactive(children=(Dropdown(description='N', options={'N1': {'Q': {'I', 'S0', 'F'}, 'Sigma': {'1', '0'}, 'D…"
            ]
          },
          "metadata": {
            "tags": []
          }
        }
      ]
    },
    {
      "cell_type": "markdown",
      "metadata": {
        "id": "ED-owzYJb6P0"
      },
      "source": [
        "| Input Consumed | States Reached | Token Dropped |\r\n",
        "|---|---|---|\r\n",
        "| '' | {} | {} |\r\n",
        "| 1 | {I, S0} | {} |\r\n",
        "| 10 | {I,F} | {} |\r\n",
        "| 100 | {I} | {F} |\r\n",
        "| 1001 | {I, S0} | {} |\r\n",
        "| 10010 | {I, F} | Final State |\r\n"
      ]
    },
    {
      "cell_type": "markdown",
      "metadata": {
        "id": "e3ybS_8P9Viw"
      },
      "source": [
        "# Task 3: Convert the NFA to a DFA and answer questions\n",
        "\n",
        "Convert the NFA to a DFA by the command below, and answer the questions below."
      ]
    },
    {
      "cell_type": "code",
      "metadata": {
        "id": "BhKWYfPR9Viw",
        "outputId": "95b1915a-5c9f-4bb8-fd19-37ca2ff5e9c1",
        "colab": {
          "base_uri": "https://localhost:8080/",
          "height": 200
        }
      },
      "source": [
        "dotObj_dfa(nfa2dfa(nfaEnds10, STATENAME_MAXSIZE=50), STATENAME_MAXSIZE=50)"
      ],
      "execution_count": 6,
      "outputs": [
        {
          "output_type": "execute_result",
          "data": {
            "text/plain": [
              "<graphviz.dot.Digraph at 0x7f951dd3b358>"
            ],
            "image/svg+xml": "<?xml version=\"1.0\" encoding=\"UTF-8\" standalone=\"no\"?>\n<!DOCTYPE svg PUBLIC \"-//W3C//DTD SVG 1.1//EN\"\n \"http://www.w3.org/Graphics/SVG/1.1/DTD/svg11.dtd\">\n<!-- Generated by graphviz version 2.40.1 (20161225.0304)\n -->\n<!-- Title: %3 Pages: 1 -->\n<svg width=\"344pt\" height=\"134pt\"\n viewBox=\"0.00 0.00 344.29 133.60\" xmlns=\"http://www.w3.org/2000/svg\" xmlns:xlink=\"http://www.w3.org/1999/xlink\">\n<g id=\"graph0\" class=\"graph\" transform=\"scale(1 1) rotate(0) translate(4 129.5975)\">\n<title>%3</title>\n<polygon fill=\"#ffffff\" stroke=\"transparent\" points=\"-4,4 -4,-129.5975 340.2907,-129.5975 340.2907,4 -4,4\"/>\n<!-- EMPTY -->\n<g id=\"node1\" class=\"node\">\n<title>EMPTY</title>\n</g>\n<!-- I -->\n<g id=\"node2\" class=\"node\">\n<title>I</title>\n<ellipse fill=\"none\" stroke=\"#000000\" cx=\"109\" cy=\"-18\" rx=\"18\" ry=\"18\"/>\n<text text-anchor=\"middle\" x=\"109\" y=\"-14.3\" font-family=\"Times,serif\" font-size=\"14.00\" fill=\"#000000\">I</text>\n</g>\n<!-- EMPTY&#45;&gt;I -->\n<g id=\"edge1\" class=\"edge\">\n<title>EMPTY&#45;&gt;I</title>\n<path fill=\"none\" stroke=\"#000000\" d=\"M54.3048,-18C62.6909,-18 71.9407,-18 80.4103,-18\"/>\n<polygon fill=\"#000000\" stroke=\"#000000\" points=\"80.5976,-21.5001 90.5976,-18 80.5976,-14.5001 80.5976,-21.5001\"/>\n</g>\n<!-- I&#45;&gt;I -->\n<g id=\"edge3\" class=\"edge\">\n<title>I&#45;&gt;I</title>\n<path fill=\"none\" stroke=\"#000000\" d=\"M102.6208,-35.0373C101.3189,-44.8579 103.4453,-54 109,-54 112.4717,-54 114.6042,-50.4289 115.3975,-45.3529\"/>\n<polygon fill=\"#000000\" stroke=\"#000000\" points=\"118.8971,-45.031 115.3792,-35.0373 111.8971,-45.0435 118.8971,-45.031\"/>\n<text text-anchor=\"middle\" x=\"109\" y=\"-57.8\" font-family=\"Times,serif\" font-size=\"14.00\" fill=\"#000000\">0 </text>\n</g>\n<!-- I_S0 -->\n<g id=\"node3\" class=\"node\">\n<title>I_S0</title>\n<ellipse fill=\"none\" stroke=\"#000000\" cx=\"203.5975\" cy=\"-64\" rx=\"28.6953\" ry=\"28.6953\"/>\n<text text-anchor=\"middle\" x=\"203.5975\" y=\"-60.3\" font-family=\"Times,serif\" font-size=\"14.00\" fill=\"#000000\">I_S0</text>\n</g>\n<!-- I&#45;&gt;I_S0 -->\n<g id=\"edge2\" class=\"edge\">\n<title>I&#45;&gt;I_S0</title>\n<path fill=\"none\" stroke=\"#000000\" d=\"M125.4776,-26.0126C137.2888,-31.756 153.6416,-39.7079 168.3345,-46.8526\"/>\n<polygon fill=\"#000000\" stroke=\"#000000\" points=\"167.162,-50.1743 177.6857,-51.3999 170.2232,-43.8791 167.162,-50.1743\"/>\n<text text-anchor=\"middle\" x=\"151\" y=\"-44.8\" font-family=\"Times,serif\" font-size=\"14.00\" fill=\"#000000\">1 </text>\n</g>\n<!-- I_S0&#45;&gt;I_S0 -->\n<g id=\"edge4\" class=\"edge\">\n<title>I_S0&#45;&gt;I_S0</title>\n<path fill=\"none\" stroke=\"#000000\" d=\"M193.8855,-91.2819C193.4539,-101.8301 196.6912,-110.5975 203.5975,-110.5975 208.0218,-110.5975 210.9404,-106.9993 212.3532,-101.6399\"/>\n<polygon fill=\"#000000\" stroke=\"#000000\" points=\"215.8753,-101.5613 213.3094,-91.2819 208.9049,-100.9178 215.8753,-101.5613\"/>\n<text text-anchor=\"middle\" x=\"203.5975\" y=\"-114.3975\" font-family=\"Times,serif\" font-size=\"14.00\" fill=\"#000000\">1 </text>\n</g>\n<!-- F_I -->\n<g id=\"node4\" class=\"node\">\n<title>F_I</title>\n<ellipse fill=\"none\" stroke=\"#000000\" cx=\"308.2428\" cy=\"-35\" rx=\"24.089\" ry=\"24.089\"/>\n<ellipse fill=\"none\" stroke=\"#000000\" cx=\"308.2428\" cy=\"-35\" rx=\"28.0958\" ry=\"28.0958\"/>\n<text text-anchor=\"middle\" x=\"308.2428\" y=\"-31.3\" font-family=\"Times,serif\" font-size=\"14.00\" fill=\"#000000\">F_I</text>\n</g>\n<!-- I_S0&#45;&gt;F_I -->\n<g id=\"edge5\" class=\"edge\">\n<title>I_S0&#45;&gt;F_I</title>\n<path fill=\"none\" stroke=\"#000000\" d=\"M231.7808,-58.441C241.4805,-56.3447 252.3703,-53.7865 262.1949,-51 265.3703,-50.0994 268.647,-49.1018 271.9203,-48.0578\"/>\n<polygon fill=\"#000000\" stroke=\"#000000\" points=\"273.2372,-51.3085 281.6256,-44.8366 271.0321,-44.6649 273.2372,-51.3085\"/>\n<text text-anchor=\"middle\" x=\"256.1949\" y=\"-57.8\" font-family=\"Times,serif\" font-size=\"14.00\" fill=\"#000000\">0 </text>\n</g>\n<!-- F_I&#45;&gt;I -->\n<g id=\"edge7\" class=\"edge\">\n<title>F_I&#45;&gt;I</title>\n<path fill=\"none\" stroke=\"#000000\" d=\"M281.9702,-24.5225C267.5346,-19.3263 249.1621,-13.6138 232.1949,-11 199.7742,-6.0056 162.0617,-9.4904 136.9873,-13.0977\"/>\n<polygon fill=\"#000000\" stroke=\"#000000\" points=\"136.4173,-9.6441 127.0672,-14.6268 137.4837,-16.5624 136.4173,-9.6441\"/>\n<text text-anchor=\"middle\" x=\"203.5975\" y=\"-14.8\" font-family=\"Times,serif\" font-size=\"14.00\" fill=\"#000000\">0 </text>\n</g>\n<!-- F_I&#45;&gt;I_S0 -->\n<g id=\"edge6\" class=\"edge\">\n<title>F_I&#45;&gt;I_S0</title>\n<path fill=\"none\" stroke=\"#000000\" d=\"M280.584,-29.684C270.7985,-28.8129 259.8328,-29.0093 250.1949,-32 244.5507,-33.7514 238.9835,-36.4495 233.7693,-39.552\"/>\n<polygon fill=\"#000000\" stroke=\"#000000\" points=\"231.817,-36.6469 225.3764,-45.0594 235.6573,-42.4994 231.817,-36.6469\"/>\n<text text-anchor=\"middle\" x=\"256.1949\" y=\"-35.8\" font-family=\"Times,serif\" font-size=\"14.00\" fill=\"#000000\">1 </text>\n</g>\n</g>\n</svg>\n"
          },
          "metadata": {
            "tags": []
          },
          "execution_count": 6
        }
      ]
    },
    {
      "cell_type": "code",
      "metadata": {
        "id": "1qt1iJn5dXrl"
      },
      "source": [
        "def run_dfa_slider(N, s, n):\r\n",
        "  S = N['Q']\r\n",
        "  if n > len(s):\r\n",
        "    n = len(s)\r\n",
        "  print(\"string = \", s[0:n])\r\n",
        "  print(run_dfa(N, s[0:n]))\r\n",
        "  \r\n",
        "def run_dfa_int(N1):\r\n",
        "  inp = input(\"Please Provide Input String: \")\r\n",
        "  wdg.interact(run_dfa_slider, N={'N1' : N1}, s = inp, n=(0,len(inp)))\r\n",
        "\r\n",
        "\r\n",
        "run_dfa_int(nfa2dfa(nfaEnds10, STATENAME_MAXSIZE=50))"
      ],
      "execution_count": null,
      "outputs": []
    },
    {
      "cell_type": "markdown",
      "metadata": {
        "id": "DCR-O6Ep9Vix"
      },
      "source": [
        "#### State DFA is in after 10010 = \n",
        "\n",
        "\n",
        "\n",
        "\n",
        "\n"
      ]
    },
    {
      "cell_type": "markdown",
      "metadata": {
        "id": "0ohqbGl_eq1e"
      },
      "source": [
        "F_I"
      ]
    },
    {
      "cell_type": "markdown",
      "metadata": {
        "id": "gkJd9W8Jep2U"
      },
      "source": [
        "#### Set of states NFA is in after 10010 (last ans of 1b(ii) ) = "
      ]
    },
    {
      "cell_type": "markdown",
      "metadata": {
        "id": "jnpKJT6yeoO7"
      },
      "source": [
        "{I,F}"
      ]
    },
    {
      "cell_type": "markdown",
      "metadata": {
        "id": "_Y0uAJE5elS0"
      },
      "source": [
        "#### Do the above match? Recall that for an NFA set of states (A,B), a DFA state may be named A_B or B_A. We use \"match\" in this sense."
      ]
    },
    {
      "cell_type": "markdown",
      "metadata": {
        "id": "K4P-ioUPegdF"
      },
      "source": [
        "Yes"
      ]
    },
    {
      "cell_type": "markdown",
      "metadata": {
        "id": "Ct-zrxZ7eiNU"
      },
      "source": [
        "#### Reason that the above should match? Please provide a sentence stating when a DFA accepts and when an NFA accepts in terms of its tokens being in many states that includes a final state.\r\n"
      ]
    },
    {
      "cell_type": "markdown",
      "metadata": {
        "id": "ltQFNHfwejJ8"
      },
      "source": [
        "\r\n",
        "Because the NFA is equivelant to the DFA we would expect that if one accepts a string than the other will also accept the string. In order for them to accept then they must both be on the final state."
      ]
    },
    {
      "cell_type": "markdown",
      "metadata": {
        "id": "X-4Ze0mH9Viy"
      },
      "source": [
        "# Task 4: Design an NFA for $\\{\\varepsilon, 0\\}$ \n",
        "### It will be a 2-state NFA with an IF state and a final state (call that final state \"F2\" )"
      ]
    },
    {
      "cell_type": "code",
      "metadata": {
        "id": "dBswKUVh9Viy"
      },
      "source": [
        "nfaEps0 = md2mc('''\n",
        "NFA \n",
        "\n",
        "IF : 0 -> F2 \n",
        "''')"
      ],
      "execution_count": 22,
      "outputs": []
    },
    {
      "cell_type": "code",
      "metadata": {
        "id": "eEY3872e9Viz",
        "outputId": "719b7101-35f6-421f-8ba2-f4602b871ed6",
        "colab": {
          "base_uri": "https://localhost:8080/",
          "height": 98
        }
      },
      "source": [
        "dotObj_nfa(nfaEps0)"
      ],
      "execution_count": 23,
      "outputs": [
        {
          "output_type": "execute_result",
          "data": {
            "text/plain": [
              "<graphviz.dot.Digraph at 0x7f9515e88860>"
            ],
            "image/svg+xml": "<?xml version=\"1.0\" encoding=\"UTF-8\" standalone=\"no\"?>\n<!DOCTYPE svg PUBLIC \"-//W3C//DTD SVG 1.1//EN\"\n \"http://www.w3.org/Graphics/SVG/1.1/DTD/svg11.dtd\">\n<!-- Generated by graphviz version 2.40.1 (20161225.0304)\n -->\n<!-- Title: %3 Pages: 1 -->\n<svg width=\"242pt\" height=\"58pt\"\n viewBox=\"0.00 0.00 242.29 57.60\" xmlns=\"http://www.w3.org/2000/svg\" xmlns:xlink=\"http://www.w3.org/1999/xlink\">\n<g id=\"graph0\" class=\"graph\" transform=\"scale(1 1) rotate(0) translate(4 53.5963)\">\n<title>%3</title>\n<polygon fill=\"#ffffff\" stroke=\"transparent\" points=\"-4,4 -4,-53.5963 238.293,-53.5963 238.293,4 -4,4\"/>\n<!-- EMPTY -->\n<g id=\"node1\" class=\"node\">\n<title>EMPTY</title>\n</g>\n<!-- IF -->\n<g id=\"node2\" class=\"node\">\n<title>IF</title>\n<ellipse fill=\"none\" stroke=\"#000000\" cx=\"113.8483\" cy=\"-24.7982\" rx=\"18.724\" ry=\"18.724\"/>\n<ellipse fill=\"none\" stroke=\"#000000\" cx=\"113.8483\" cy=\"-24.7982\" rx=\"22.6977\" ry=\"22.6977\"/>\n<text text-anchor=\"middle\" x=\"113.8483\" y=\"-21.0982\" font-family=\"Times,serif\" font-size=\"14.00\" fill=\"#000000\">IF</text>\n</g>\n<!-- EMPTY&#45;&gt;IF -->\n<g id=\"edge1\" class=\"edge\">\n<title>EMPTY&#45;&gt;IF</title>\n<path fill=\"none\" stroke=\"#000000\" d=\"M54.0033,-24.7982C62.5212,-24.7982 72.0276,-24.7982 80.9112,-24.7982\"/>\n<polygon fill=\"#000000\" stroke=\"#000000\" points=\"80.9572,-28.2983 90.9572,-24.7982 80.9572,-21.2983 80.9572,-28.2983\"/>\n</g>\n<!-- F2 -->\n<g id=\"node3\" class=\"node\">\n<title>F2</title>\n<ellipse fill=\"none\" stroke=\"#000000\" cx=\"209.4948\" cy=\"-24.7982\" rx=\"20.6302\" ry=\"20.6302\"/>\n<ellipse fill=\"none\" stroke=\"#000000\" cx=\"209.4948\" cy=\"-24.7982\" rx=\"24.5979\" ry=\"24.5979\"/>\n<text text-anchor=\"middle\" x=\"209.4948\" y=\"-21.0982\" font-family=\"Times,serif\" font-size=\"14.00\" fill=\"#000000\">F2</text>\n</g>\n<!-- IF&#45;&gt;F2 -->\n<g id=\"edge2\" class=\"edge\">\n<title>IF&#45;&gt;F2</title>\n<path fill=\"none\" stroke=\"#000000\" d=\"M137.0017,-24.7982C148.2318,-24.7982 161.9613,-24.7982 174.4394,-24.7982\"/>\n<polygon fill=\"#000000\" stroke=\"#000000\" points=\"174.5444,-28.2983 184.5444,-24.7982 174.5443,-21.2983 174.5444,-28.2983\"/>\n<text text-anchor=\"middle\" x=\"160.6967\" y=\"-28.5982\" font-family=\"Times,serif\" font-size=\"14.00\" fill=\"#000000\">0 </text>\n</g>\n</g>\n</svg>\n"
          },
          "metadata": {
            "tags": []
          },
          "execution_count": 23
        }
      ]
    },
    {
      "cell_type": "markdown",
      "metadata": {
        "id": "dTrM0nl19Viz"
      },
      "source": [
        "# A tutorial on Concatenating NFA\n",
        "\n",
        "Watch this video, then do Task 5.\n",
        "\n",
        "To watch the video separately in Youtube in large size, \n",
        "visit https://youtu.be/VWyOT1uYfIc\n",
        "\n",
        "Otherwise just run the command below!"
      ]
    },
    {
      "cell_type": "code",
      "metadata": {
        "id": "WsahqZmg9Viz"
      },
      "source": [
        "# NFA Concatenation\n",
        "from IPython.display import YouTubeVideo\n",
        "YouTubeVideo('VWyOT1uYfIc')"
      ],
      "execution_count": null,
      "outputs": []
    },
    {
      "cell_type": "markdown",
      "metadata": {
        "id": "QYL8kmz39Vi0"
      },
      "source": [
        "# Task 5: Develop a Concatenation NFA\n",
        "\n",
        "## Concatenate nfaEnds10 and nfaEps0 to obtain NFAEnds10Eps0.\n",
        "\n",
        "### Follow the steps in the above video.\n",
        "\n",
        "### Describe the steps in a few bullets below, then finish the notebook code cell that defines NFAEnds10Eps0 below where space is provided for your work.\n"
      ]
    },
    {
      "cell_type": "markdown",
      "metadata": {
        "id": "5TuoFy_C9Vi0"
      },
      "source": [
        "# Show the full Concatenation NFA below\n"
      ]
    },
    {
      "cell_type": "code",
      "metadata": {
        "run_control": {
          "frozen": false,
          "read_only": false
        },
        "id": "eqe4UwOB9Vi0"
      },
      "source": [
        "# Here is the resulting NFA\n",
        "\n",
        "NFAEnds10Eps0 = md2mc('''\n",
        "NFA \n",
        "\n",
        "!!---- Put NFA 1's transitions below, \n",
        "!!----  after suitably renaming states to make final states non-final etc.\n",
        " \n",
        "\n",
        "I : 0|1 -> I\n",
        "I : 1 -> S0\n",
        "S0 : 0 -> S1\n",
        "\n",
        "\n",
        "\n",
        "\n",
        "\n",
        "!!--- put the \"bridge\" transition below\n",
        " S1 : '' -> FS2\n",
        " \n",
        "\n",
        "!!--- put NFA 2's transitions below, again after suitable state renamings as above\n",
        "FS2 : 0 -> F\n",
        " \n",
        "\n",
        "''')"
      ],
      "execution_count": 29,
      "outputs": []
    },
    {
      "cell_type": "markdown",
      "metadata": {
        "id": "bSysQJ_g9Vi1"
      },
      "source": [
        "## Draw the concat NFA and convert to a DFA\n",
        "\n",
        "... Run the THREE commands below, and then move on to do Task 6 \n",
        "... based on the results you observe from these commands.\n"
      ]
    },
    {
      "cell_type": "code",
      "metadata": {
        "id": "9jw_TwWf9Vi1",
        "outputId": "725586ec-13af-4b4d-e551-5fb2cea6d7d1",
        "colab": {
          "base_uri": "https://localhost:8080/",
          "height": 185
        }
      },
      "source": [
        "# command-1\n",
        "dotObj_nfa(NFAEnds10Eps0)"
      ],
      "execution_count": 30,
      "outputs": [
        {
          "output_type": "execute_result",
          "data": {
            "text/plain": [
              "<graphviz.dot.Digraph at 0x7f9515e1ab38>"
            ],
            "image/svg+xml": "<?xml version=\"1.0\" encoding=\"UTF-8\" standalone=\"no\"?>\n<!DOCTYPE svg PUBLIC \"-//W3C//DTD SVG 1.1//EN\"\n \"http://www.w3.org/Graphics/SVG/1.1/DTD/svg11.dtd\">\n<!-- Generated by graphviz version 2.40.1 (20161225.0304)\n -->\n<!-- Title: %3 Pages: 1 -->\n<svg width=\"512pt\" height=\"123pt\"\n viewBox=\"0.00 0.00 512.49 122.65\" xmlns=\"http://www.w3.org/2000/svg\" xmlns:xlink=\"http://www.w3.org/1999/xlink\">\n<g id=\"graph0\" class=\"graph\" transform=\"scale(1 1) rotate(0) translate(4 118.6476)\">\n<title>%3</title>\n<polygon fill=\"#ffffff\" stroke=\"transparent\" points=\"-4,4 -4,-118.6476 508.4879,-118.6476 508.4879,4 -4,4\"/>\n<!-- EMPTY -->\n<g id=\"node1\" class=\"node\">\n<title>EMPTY</title>\n</g>\n<!-- I -->\n<g id=\"node2\" class=\"node\">\n<title>I</title>\n<ellipse fill=\"none\" stroke=\"#000000\" cx=\"109\" cy=\"-30.6476\" rx=\"18\" ry=\"18\"/>\n<text text-anchor=\"middle\" x=\"109\" y=\"-26.9476\" font-family=\"Times,serif\" font-size=\"14.00\" fill=\"#000000\">I</text>\n</g>\n<!-- EMPTY&#45;&gt;I -->\n<g id=\"edge1\" class=\"edge\">\n<title>EMPTY&#45;&gt;I</title>\n<path fill=\"none\" stroke=\"#000000\" d=\"M54.3048,-30.6476C62.6909,-30.6476 71.9407,-30.6476 80.4103,-30.6476\"/>\n<polygon fill=\"#000000\" stroke=\"#000000\" points=\"80.5976,-34.1477 90.5976,-30.6476 80.5976,-27.1477 80.5976,-34.1477\"/>\n</g>\n<!-- I&#45;&gt;I -->\n<g id=\"edge2\" class=\"edge\">\n<title>I&#45;&gt;I</title>\n<path fill=\"none\" stroke=\"#000000\" d=\"M105.7643,-48.4294C105.2144,-57.9626 106.293,-66.6476 109,-66.6476 110.6496,-66.6476 111.6945,-63.4225 112.1347,-58.7457\"/>\n<polygon fill=\"#000000\" stroke=\"#000000\" points=\"115.6375,-58.4632 112.2357,-48.4294 108.6379,-58.3946 115.6375,-58.4632\"/>\n<text text-anchor=\"middle\" x=\"109\" y=\"-70.4476\" font-family=\"Times,serif\" font-size=\"14.00\" fill=\"#000000\">0 </text>\n</g>\n<!-- I&#45;&gt;I -->\n<g id=\"edge3\" class=\"edge\">\n<title>I&#45;&gt;I</title>\n<path fill=\"none\" stroke=\"#000000\" d=\"M103.6841,-48.0679C100.6538,-65.4386 102.4258,-84.6476 109,-84.6476 114.2902,-84.6476 116.4708,-72.2094 115.5419,-58.2996\"/>\n<polygon fill=\"#000000\" stroke=\"#000000\" points=\"118.9808,-57.5805 114.3159,-48.0679 112.0305,-58.4133 118.9808,-57.5805\"/>\n<text text-anchor=\"middle\" x=\"109\" y=\"-88.4476\" font-family=\"Times,serif\" font-size=\"14.00\" fill=\"#000000\">1 </text>\n</g>\n<!-- S0 -->\n<g id=\"node3\" class=\"node\">\n<title>S0</title>\n<ellipse fill=\"none\" stroke=\"#000000\" cx=\"195.7982\" cy=\"-30.6476\" rx=\"20.5982\" ry=\"20.5982\"/>\n<text text-anchor=\"middle\" x=\"195.7982\" y=\"-26.9476\" font-family=\"Times,serif\" font-size=\"14.00\" fill=\"#000000\">S0</text>\n</g>\n<!-- I&#45;&gt;S0 -->\n<g id=\"edge4\" class=\"edge\">\n<title>I&#45;&gt;S0</title>\n<path fill=\"none\" stroke=\"#000000\" d=\"M127.4077,-30.6476C138.2934,-30.6476 152.3613,-30.6476 164.9052,-30.6476\"/>\n<polygon fill=\"#000000\" stroke=\"#000000\" points=\"164.9803,-34.1477 174.9802,-30.6476 164.9802,-27.1477 164.9803,-34.1477\"/>\n<text text-anchor=\"middle\" x=\"151\" y=\"-34.4476\" font-family=\"Times,serif\" font-size=\"14.00\" fill=\"#000000\">1 </text>\n</g>\n<!-- S1 -->\n<g id=\"node4\" class=\"node\">\n<title>S1</title>\n<ellipse fill=\"none\" stroke=\"#000000\" cx=\"285.3945\" cy=\"-30.6476\" rx=\"20.5982\" ry=\"20.5982\"/>\n<text text-anchor=\"middle\" x=\"285.3945\" y=\"-26.9476\" font-family=\"Times,serif\" font-size=\"14.00\" fill=\"#000000\">S1</text>\n</g>\n<!-- S0&#45;&gt;S1 -->\n<g id=\"edge5\" class=\"edge\">\n<title>S0&#45;&gt;S1</title>\n<path fill=\"none\" stroke=\"#000000\" d=\"M217.0312,-30.6476C228.0778,-30.6476 241.7967,-30.6476 254.0394,-30.6476\"/>\n<polygon fill=\"#000000\" stroke=\"#000000\" points=\"254.3138,-34.1477 264.3138,-30.6476 254.3138,-27.1477 254.3138,-34.1477\"/>\n<text text-anchor=\"middle\" x=\"240.5963\" y=\"-34.4476\" font-family=\"Times,serif\" font-size=\"14.00\" fill=\"#000000\">0 </text>\n</g>\n<!-- FS2 -->\n<g id=\"node5\" class=\"node\">\n<title>FS2</title>\n<ellipse fill=\"none\" stroke=\"#000000\" cx=\"381.8403\" cy=\"-30.6476\" rx=\"26.7766\" ry=\"26.7766\"/>\n<ellipse fill=\"none\" stroke=\"#000000\" cx=\"381.8403\" cy=\"-30.6476\" rx=\"30.796\" ry=\"30.796\"/>\n<text text-anchor=\"middle\" x=\"381.8403\" y=\"-26.9476\" font-family=\"Times,serif\" font-size=\"14.00\" fill=\"#000000\">FS2</text>\n</g>\n<!-- S1&#45;&gt;FS2 -->\n<g id=\"edge6\" class=\"edge\">\n<title>S1&#45;&gt;FS2</title>\n<path fill=\"none\" stroke=\"#000000\" d=\"M306.3218,-30.6476C316.4342,-30.6476 328.9345,-30.6476 340.8349,-30.6476\"/>\n<polygon fill=\"#000000\" stroke=\"#000000\" points=\"341.0632,-34.1477 351.0632,-30.6476 341.0631,-27.1477 341.0632,-34.1477\"/>\n<text text-anchor=\"middle\" x=\"328.6926\" y=\"-34.4476\" font-family=\"Times,serif\" font-size=\"14.00\" fill=\"#000000\">&#39;&#39; </text>\n</g>\n<!-- F -->\n<g id=\"node6\" class=\"node\">\n<title>F</title>\n<ellipse fill=\"none\" stroke=\"#000000\" cx=\"482.4879\" cy=\"-30.6476\" rx=\"18\" ry=\"18\"/>\n<ellipse fill=\"none\" stroke=\"#000000\" cx=\"482.4879\" cy=\"-30.6476\" rx=\"22\" ry=\"22\"/>\n<text text-anchor=\"middle\" x=\"482.4879\" y=\"-26.9476\" font-family=\"Times,serif\" font-size=\"14.00\" fill=\"#000000\">F</text>\n</g>\n<!-- FS2&#45;&gt;F -->\n<g id=\"edge7\" class=\"edge\">\n<title>FS2&#45;&gt;F</title>\n<path fill=\"none\" stroke=\"#000000\" d=\"M412.5848,-30.6476C424.4782,-30.6476 438.1003,-30.6476 450.1414,-30.6476\"/>\n<polygon fill=\"#000000\" stroke=\"#000000\" points=\"450.2329,-34.1477 460.2329,-30.6476 450.2328,-27.1477 450.2329,-34.1477\"/>\n<text text-anchor=\"middle\" x=\"436.4879\" y=\"-34.4476\" font-family=\"Times,serif\" font-size=\"14.00\" fill=\"#000000\">0 </text>\n</g>\n</g>\n</svg>\n"
          },
          "metadata": {
            "tags": []
          },
          "execution_count": 30
        }
      ]
    },
    {
      "cell_type": "code",
      "metadata": {
        "id": "ug0eLgKD9Vi1",
        "outputId": "1cd0fe54-eed9-4d9f-91c6-92892005b123",
        "colab": {
          "base_uri": "https://localhost:8080/",
          "height": 281
        }
      },
      "source": [
        "# command-2\n",
        "\n",
        "dotObj_dfa(nfa2dfa(NFAEnds10Eps0, STATENAME_MAXSIZE=50), STATENAME_MAXSIZE=50)"
      ],
      "execution_count": 31,
      "outputs": [
        {
          "output_type": "execute_result",
          "data": {
            "text/plain": [
              "<graphviz.dot.Digraph at 0x7f9515ee9b00>"
            ],
            "image/svg+xml": "<?xml version=\"1.0\" encoding=\"UTF-8\" standalone=\"no\"?>\n<!DOCTYPE svg PUBLIC \"-//W3C//DTD SVG 1.1//EN\"\n \"http://www.w3.org/Graphics/SVG/1.1/DTD/svg11.dtd\">\n<!-- Generated by graphviz version 2.40.1 (20161225.0304)\n -->\n<!-- Title: %3 Pages: 1 -->\n<svg width=\"499pt\" height=\"195pt\"\n viewBox=\"0.00 0.00 499.08 195.40\" xmlns=\"http://www.w3.org/2000/svg\" xmlns:xlink=\"http://www.w3.org/1999/xlink\">\n<g id=\"graph0\" class=\"graph\" transform=\"scale(1 1) rotate(0) translate(4 191.3956)\">\n<title>%3</title>\n<polygon fill=\"#ffffff\" stroke=\"transparent\" points=\"-4,4 -4,-191.3956 495.0819,-191.3956 495.0819,4 -4,4\"/>\n<!-- EMPTY -->\n<g id=\"node1\" class=\"node\">\n<title>EMPTY</title>\n</g>\n<!-- I -->\n<g id=\"node2\" class=\"node\">\n<title>I</title>\n<ellipse fill=\"none\" stroke=\"#000000\" cx=\"109\" cy=\"-18\" rx=\"18\" ry=\"18\"/>\n<text text-anchor=\"middle\" x=\"109\" y=\"-14.3\" font-family=\"Times,serif\" font-size=\"14.00\" fill=\"#000000\">I</text>\n</g>\n<!-- EMPTY&#45;&gt;I -->\n<g id=\"edge1\" class=\"edge\">\n<title>EMPTY&#45;&gt;I</title>\n<path fill=\"none\" stroke=\"#000000\" d=\"M54.3048,-18C62.6909,-18 71.9407,-18 80.4103,-18\"/>\n<polygon fill=\"#000000\" stroke=\"#000000\" points=\"80.5976,-21.5001 90.5976,-18 80.5976,-14.5001 80.5976,-21.5001\"/>\n</g>\n<!-- I&#45;&gt;I -->\n<g id=\"edge3\" class=\"edge\">\n<title>I&#45;&gt;I</title>\n<path fill=\"none\" stroke=\"#000000\" d=\"M102.6208,-35.0373C101.3189,-44.8579 103.4453,-54 109,-54 112.4717,-54 114.6042,-50.4289 115.3975,-45.3529\"/>\n<polygon fill=\"#000000\" stroke=\"#000000\" points=\"118.8971,-45.031 115.3792,-35.0373 111.8971,-45.0435 118.8971,-45.031\"/>\n<text text-anchor=\"middle\" x=\"109\" y=\"-57.8\" font-family=\"Times,serif\" font-size=\"14.00\" fill=\"#000000\">0 </text>\n</g>\n<!-- I_S0 -->\n<g id=\"node3\" class=\"node\">\n<title>I_S0</title>\n<ellipse fill=\"none\" stroke=\"#000000\" cx=\"203.5975\" cy=\"-70\" rx=\"28.6953\" ry=\"28.6953\"/>\n<text text-anchor=\"middle\" x=\"203.5975\" y=\"-66.3\" font-family=\"Times,serif\" font-size=\"14.00\" fill=\"#000000\">I_S0</text>\n</g>\n<!-- I&#45;&gt;I_S0 -->\n<g id=\"edge2\" class=\"edge\">\n<title>I&#45;&gt;I_S0</title>\n<path fill=\"none\" stroke=\"#000000\" d=\"M125.0472,-26.8211C137.0954,-33.444 154.0404,-42.7586 169.1093,-51.0419\"/>\n<polygon fill=\"#000000\" stroke=\"#000000\" points=\"167.7395,-54.2829 178.1888,-56.0329 171.1115,-48.1485 167.7395,-54.2829\"/>\n<text text-anchor=\"middle\" x=\"151\" y=\"-47.8\" font-family=\"Times,serif\" font-size=\"14.00\" fill=\"#000000\">1 </text>\n</g>\n<!-- I_S0&#45;&gt;I_S0 -->\n<g id=\"edge4\" class=\"edge\">\n<title>I_S0&#45;&gt;I_S0</title>\n<path fill=\"none\" stroke=\"#000000\" d=\"M193.8855,-97.2819C193.4539,-107.8301 196.6912,-116.5975 203.5975,-116.5975 208.0218,-116.5975 210.9404,-112.9993 212.3532,-107.6399\"/>\n<polygon fill=\"#000000\" stroke=\"#000000\" points=\"215.8753,-107.5613 213.3094,-97.2819 208.9049,-106.9178 215.8753,-107.5613\"/>\n<text text-anchor=\"middle\" x=\"203.5975\" y=\"-120.3975\" font-family=\"Times,serif\" font-size=\"14.00\" fill=\"#000000\">1 </text>\n</g>\n<!-- FS2_I_S1 -->\n<g id=\"node5\" class=\"node\">\n<title>FS2_I_S1</title>\n<ellipse fill=\"none\" stroke=\"#000000\" cx=\"333.5905\" cy=\"-134\" rx=\"49.2992\" ry=\"49.2992\"/>\n<ellipse fill=\"none\" stroke=\"#000000\" cx=\"333.5905\" cy=\"-134\" rx=\"53.2914\" ry=\"53.2914\"/>\n<text text-anchor=\"middle\" x=\"333.5905\" y=\"-130.3\" font-family=\"Times,serif\" font-size=\"14.00\" fill=\"#000000\">FS2_I_S1</text>\n</g>\n<!-- I_S0&#45;&gt;FS2_I_S1 -->\n<g id=\"edge5\" class=\"edge\">\n<title>I_S0&#45;&gt;FS2_I_S1</title>\n<path fill=\"none\" stroke=\"#000000\" d=\"M224.7413,-89.4189C232.353,-95.6737 241.2728,-102.2169 250.1949,-107 257.0793,-110.6907 264.5556,-113.9868 272.1097,-116.8982\"/>\n<polygon fill=\"#000000\" stroke=\"#000000\" points=\"271.0871,-120.2505 281.6811,-120.381 273.4807,-113.6725 271.0871,-120.2505\"/>\n<text text-anchor=\"middle\" x=\"256.1949\" y=\"-115.8\" font-family=\"Times,serif\" font-size=\"14.00\" fill=\"#000000\">0 </text>\n</g>\n<!-- F_I -->\n<g id=\"node4\" class=\"node\">\n<title>F_I</title>\n<ellipse fill=\"none\" stroke=\"#000000\" cx=\"463.034\" cy=\"-48\" rx=\"24.089\" ry=\"24.089\"/>\n<ellipse fill=\"none\" stroke=\"#000000\" cx=\"463.034\" cy=\"-48\" rx=\"28.0958\" ry=\"28.0958\"/>\n<text text-anchor=\"middle\" x=\"463.034\" y=\"-44.3\" font-family=\"Times,serif\" font-size=\"14.00\" fill=\"#000000\">F_I</text>\n</g>\n<!-- F_I&#45;&gt;I -->\n<g id=\"edge9\" class=\"edge\">\n<title>F_I&#45;&gt;I</title>\n<path fill=\"none\" stroke=\"#000000\" d=\"M434.9658,-45.6216C368.7614,-40.0116 203.4575,-26.0041 137.1609,-20.3863\"/>\n<polygon fill=\"#000000\" stroke=\"#000000\" points=\"137.3032,-16.8859 127.0433,-19.5289 136.7121,-23.8609 137.3032,-16.8859\"/>\n<text text-anchor=\"middle\" x=\"256.1949\" y=\"-34.8\" font-family=\"Times,serif\" font-size=\"14.00\" fill=\"#000000\">0 </text>\n</g>\n<!-- F_I&#45;&gt;I_S0 -->\n<g id=\"edge8\" class=\"edge\">\n<title>F_I&#45;&gt;I_S0</title>\n<path fill=\"none\" stroke=\"#000000\" d=\"M434.7619,-48.3505C398.7644,-49.0356 334.6945,-51.0552 280.1949,-57 267.6242,-58.3712 253.988,-60.4816 241.7526,-62.6058\"/>\n<polygon fill=\"#000000\" stroke=\"#000000\" points=\"241.085,-59.1696 231.8585,-64.3775 242.3189,-66.06 241.085,-59.1696\"/>\n<text text-anchor=\"middle\" x=\"333.5905\" y=\"-60.8\" font-family=\"Times,serif\" font-size=\"14.00\" fill=\"#000000\">1 </text>\n</g>\n<!-- FS2_I_S1&#45;&gt;I_S0 -->\n<g id=\"edge6\" class=\"edge\">\n<title>FS2_I_S1&#45;&gt;I_S0</title>\n<path fill=\"none\" stroke=\"#000000\" d=\"M289.7271,-103.0899C280.8598,-97.6081 271.4207,-92.2892 262.1949,-88 255.7111,-84.9855 248.5944,-82.3135 241.6237,-80.0118\"/>\n<polygon fill=\"#000000\" stroke=\"#000000\" points=\"242.1938,-76.5244 231.6059,-76.9078 240.122,-83.2108 242.1938,-76.5244\"/>\n<text text-anchor=\"middle\" x=\"256.1949\" y=\"-91.8\" font-family=\"Times,serif\" font-size=\"14.00\" fill=\"#000000\">1 </text>\n</g>\n<!-- FS2_I_S1&#45;&gt;F_I -->\n<g id=\"edge7\" class=\"edge\">\n<title>FS2_I_S1&#45;&gt;F_I</title>\n<path fill=\"none\" stroke=\"#000000\" d=\"M378.1376,-104.4037C395.5384,-92.8429 415.1009,-79.8459 431.0579,-69.2444\"/>\n<polygon fill=\"#000000\" stroke=\"#000000\" points=\"433.123,-72.0745 439.5154,-63.6254 429.2493,-66.244 433.123,-72.0745\"/>\n<text text-anchor=\"middle\" x=\"410.9862\" y=\"-88.8\" font-family=\"Times,serif\" font-size=\"14.00\" fill=\"#000000\">0 </text>\n</g>\n</g>\n</svg>\n"
          },
          "metadata": {
            "tags": []
          },
          "execution_count": 31
        }
      ]
    },
    {
      "cell_type": "code",
      "metadata": {
        "run_control": {
          "frozen": false,
          "read_only": false
        },
        "id": "NtjWDrMw9Vi2",
        "outputId": "04018666-1d7f-407b-b491-4bfd2813d367",
        "colab": {
          "base_uri": "https://localhost:8080/"
        }
      },
      "source": [
        "# Let us see its internal representation -- this may give you hints for doing Task 6.\n",
        "\n",
        "# command-3\n",
        "\n",
        "NFAEnds10Eps0"
      ],
      "execution_count": 32,
      "outputs": [
        {
          "output_type": "execute_result",
          "data": {
            "text/plain": [
              "{'Delta': {('FS2', '0'): {'F'},\n",
              "  ('I', '0'): {'I'},\n",
              "  ('I', '1'): {'I', 'S0'},\n",
              "  ('S0', '0'): {'S1'},\n",
              "  ('S1', ''): {'FS2'}},\n",
              " 'F': {'F', 'FS2'},\n",
              " 'Q': {'F', 'FS2', 'I', 'S0', 'S1'},\n",
              " 'Q0': {'I'},\n",
              " 'Sigma': {'0', '1'}}"
            ]
          },
          "metadata": {
            "tags": []
          },
          "execution_count": 32
        }
      ]
    },
    {
      "cell_type": "markdown",
      "metadata": {
        "id": "7zYV7sxr9Vi2"
      },
      "source": [
        "# Task 6: Explain the NFA2DFA algorithm\n",
        "\n",
        "Below, you must explain the states of the DFA that resulted from converting the\n",
        "NFA to DFA using subset construction. \n",
        "\n",
        "You must look at the results of running command-1, command-2, and command-3 in your explanation.\n",
        "\n",
        "For each question, your answer must be in the following form:\n",
        "\n",
        "* Currently the NFA is in a *set* of states, say S1. That is already an E-closed state. That is where the DFA begins its operation (in the corresponding DFA state).\n",
        "\n",
        "* Let S1 be {s11, s12} for example. (Notice the use of upper and lower cases.)\n",
        "\n",
        "* Consider a '0' transition\n",
        "\n",
        "* Upon a '0', s11 went to set of states S11, s12 went to set of states S12, and so on.\n",
        "\n",
        "* I performed E-Closure of the states in S11 and that resulted in S11c. (If E-closure did not generate any new states, say \"E-Closure did not generate any new state.\")\n",
        "\n",
        "* Similarly, I performed E-Closure of the states in S12 and that resulted in S12c\n",
        "\n",
        "* Then I unioned S11c and S12c and called it S2\n",
        "\n",
        "* S2 is now an E-closed set of states\n",
        "\n",
        "* Thus, I arrive at a single NFA state corresponding to \n",
        "  - S1 going upon '0' to S2 (and the DFA now has a state corresponding to S2).\n",
        "\n",
        " \n",
        "## QUESTIONS FOR YOU TO ANSWER IN THE ABOVE MANNER\n",
        "\n",
        "### Looking at the NFA NFAEnds10Eps0, why did state I arise in the DFA?\n",
        "\n",
        "...Your answer in the above-style bulletted steps describing E-closure and moves on symbols...\n",
        "\n",
        "### Why did state A1_I arise in the DFA?\n",
        "\n",
        "...Your answer in the above-style bulletted steps describing E-closure and moves on symbols...\n",
        "\n",
        "### Why did F3_I_T1 arise (mention E-closure steps)\n",
        "\n",
        "...Your answer in the above-style bulletted steps describing E-closure and moves on symbols...\n",
        "\n",
        "### Explain in detail why A1_I went upon a '0' to F3_I_T1 (include all the E-closure steps)\n",
        "\n",
        "...Your answer in the above-style bulletted steps describing E-closure and moves on symbols...\n",
        "\n",
        "### Why did F2_I arise?\n",
        "\n",
        "...Your answer in the above-style bulletted steps describing E-closure and moves on symbols...\n"
      ]
    },
    {
      "cell_type": "markdown",
      "metadata": {
        "id": "rP59B4QI9Vi4"
      },
      "source": [
        "# Task 7: Brzozowski's minimization\n",
        "\n",
        "This is a DFA minimization algorithm that shows you that a bloated DFA can be minimized simply by following these steps, as explained in Section 7.7. In this problem, you will practice these steps on an initially bloated DFA given to you.\n",
        "\n",
        "The steps are these:\n",
        "\n",
        "1. Reverse the given DFA, say DFA_bloated, to obtain an NFA called NFA1 (use the rev_dfa function)\n",
        "\n",
        "2. Determinize NFA1 to obtain a DFA called DFA2\n",
        "\n",
        "3. Reverse DFA2 to obtain another NFA, say NFA2\n",
        "\n",
        "4. Determinize NFA2 to obtain the final minimized DFA, say DFA_min\n",
        "\n",
        "The problem asks you to apply this procedure to minimize DFA_bloated.\n",
        "\n"
      ]
    },
    {
      "cell_type": "code",
      "metadata": {
        "id": "5rAjK5bB9Vi5"
      },
      "source": [
        "# This is a slight variant of Figure 6.7's bloated DFA \n",
        "\n",
        "DFA_bloated = md2mc('''\n",
        "\n",
        "DFA\n",
        "\n",
        "IS1: a -> Temp\n",
        "IS1: b -> FS3\n",
        "\n",
        "Temp: a -> FS2\n",
        "Temp: b -> FS3\n",
        "\n",
        "FS2: a -> S4\n",
        "FS2: b -> S5\n",
        "\n",
        "FS3: a -> S5\n",
        "FS3: b -> S4\n",
        "\n",
        "S4: a|b -> FS6\n",
        "S5: a|b -> FS6\n",
        "\n",
        "FS6: a|b -> FS6\n",
        "\n",
        "''')"
      ],
      "execution_count": null,
      "outputs": []
    },
    {
      "cell_type": "code",
      "metadata": {
        "id": "Jw0vyFpS9Vi5"
      },
      "source": [
        "dotObj_dfa(DFA_bloated)"
      ],
      "execution_count": null,
      "outputs": []
    },
    {
      "cell_type": "markdown",
      "metadata": {
        "id": "GV6EMa4I9Vi6"
      },
      "source": [
        "## Show the result of reversing the above DFA"
      ]
    },
    {
      "cell_type": "code",
      "metadata": {
        "id": "O6XqDn8T9Vi6"
      },
      "source": [
        "help(rev_dfa)"
      ],
      "execution_count": null,
      "outputs": []
    },
    {
      "cell_type": "markdown",
      "metadata": {
        "id": "SXIbwvwY9Vi6"
      },
      "source": [
        "### The reverse invocation"
      ]
    },
    {
      "cell_type": "code",
      "metadata": {
        "id": "vGe4iF_s9Vi7"
      },
      "source": [
        "# Reverse DFA_bloated here\n",
        "\n",
        "NFA1 =  ... OBTAIN THE REVERSE OF DFA_bloated ..."
      ],
      "execution_count": null,
      "outputs": []
    },
    {
      "cell_type": "code",
      "metadata": {
        "id": "IIk5Nrj69Vi8"
      },
      "source": [
        "dotObj_nfa(NFA1)"
      ],
      "execution_count": null,
      "outputs": []
    },
    {
      "cell_type": "markdown",
      "metadata": {
        "id": "0XLnFKm59Vi8"
      },
      "source": [
        "## Check that NFA1 is indeed the reverse of DFA_bloated by checking one string\n",
        "\n",
        "Point out that \"aabba\" is in DFA_bloated's language but its reversal (i.e. \"abbaa\") is in NFA1's language\n",
        "\n",
        "### Which path does abbaa take in being accepted by NFA1 ?\n",
        "\n",
        ".... LIST THE PATH AS A SEQUENCE OF STATES, HERE ....\n",
        "\n",
        "* Starting from State ...\n",
        "\n",
        "* The next state after 'a' is ...\n",
        "\n",
        "* The next state after 'b' is ...\n",
        "\n",
        "* The next state after 'b' is ...\n",
        "\n",
        "* The next state after 'a' is ...\n",
        "\n",
        "* The next state after 'a' is ...  (This must be the final state!)\n"
      ]
    },
    {
      "cell_type": "markdown",
      "metadata": {
        "id": "jDv4ap409Vi9"
      },
      "source": [
        "## Determinize NFA1 to obtain DFA2"
      ]
    },
    {
      "cell_type": "code",
      "metadata": {
        "id": "7py0q2b59Vi9"
      },
      "source": [
        "help(nfa2dfa)"
      ],
      "execution_count": null,
      "outputs": []
    },
    {
      "cell_type": "code",
      "metadata": {
        "id": "9Rxk3hWk9Vi9"
      },
      "source": [
        "DFA2 = ...DETERMINIZE NFA1 to obtain DFA2 ..."
      ],
      "execution_count": null,
      "outputs": []
    },
    {
      "cell_type": "code",
      "metadata": {
        "id": "488XcKko9Vi9"
      },
      "source": [
        "dotObj_dfa(DFA2)"
      ],
      "execution_count": null,
      "outputs": []
    },
    {
      "cell_type": "markdown",
      "metadata": {
        "id": "VcP1JG3H9Vi-"
      },
      "source": [
        "## Reverse DFA2 to obtain NFA3"
      ]
    },
    {
      "cell_type": "code",
      "metadata": {
        "id": "9X4Ug9Cx9Vi-"
      },
      "source": [
        "NFA3 = ... REVERSE DFA2 to obtain NFA3 ..."
      ],
      "execution_count": null,
      "outputs": []
    },
    {
      "cell_type": "code",
      "metadata": {
        "id": "W17myrld9Vi-"
      },
      "source": [
        "dotObj_nfa(NFA3)"
      ],
      "execution_count": null,
      "outputs": []
    },
    {
      "cell_type": "markdown",
      "metadata": {
        "id": "rKiFWTau9Vi-"
      },
      "source": [
        "## One more determinization, and we are done minimizing\n"
      ]
    },
    {
      "cell_type": "code",
      "metadata": {
        "id": "-pdDNtAx9Vi_"
      },
      "source": [
        "DFA_min = ... DETERMINIZE NFA3 and we now have DFA_min ..."
      ],
      "execution_count": null,
      "outputs": []
    },
    {
      "cell_type": "code",
      "metadata": {
        "id": "X-j9qdDz9Vi_"
      },
      "source": [
        "dotObj_dfa(DFA_min)"
      ],
      "execution_count": null,
      "outputs": []
    },
    {
      "cell_type": "markdown",
      "metadata": {
        "id": "mzJCdo2i9Vi_"
      },
      "source": [
        "# Check that DFA_min and DFA_bloated have the same language but are not isomorphic"
      ]
    },
    {
      "cell_type": "code",
      "metadata": {
        "id": "L-3YlGOD9Vi_"
      },
      "source": [
        "help(langeq_dfa)"
      ],
      "execution_count": null,
      "outputs": []
    },
    {
      "cell_type": "code",
      "metadata": {
        "id": "Ua-d2aye9VjA"
      },
      "source": [
        "help(iso_dfa)"
      ],
      "execution_count": null,
      "outputs": []
    },
    {
      "cell_type": "code",
      "metadata": {
        "id": "ougaFnGw9VjA"
      },
      "source": [
        "...SHOW THAT DFA_bloated and DFA_min HAVE THE SAME LANGUAGE ..."
      ],
      "execution_count": null,
      "outputs": []
    },
    {
      "cell_type": "code",
      "metadata": {
        "id": "tDV1Om8f9VjA"
      },
      "source": [
        "...SHOW THAT DFA_bloated and DFA_min are NOT isomorphic ..."
      ],
      "execution_count": null,
      "outputs": []
    },
    {
      "cell_type": "markdown",
      "metadata": {
        "id": "2Gl0x0Mw9VjA"
      },
      "source": [
        "##  But DFA_min indeed is minimal as shown by the number of states of the standard DFA min algorithm"
      ]
    },
    {
      "cell_type": "code",
      "metadata": {
        "id": "82E6qNNG9VjB"
      },
      "source": [
        "DFA_min_alt = min_dfa(DFA_bloated)"
      ],
      "execution_count": null,
      "outputs": []
    },
    {
      "cell_type": "code",
      "metadata": {
        "id": "PgciG-Le9VjB"
      },
      "source": [
        "dotObj_dfa(DFA_min)"
      ],
      "execution_count": null,
      "outputs": []
    },
    {
      "cell_type": "code",
      "metadata": {
        "id": "SRKL5rA49VjB"
      },
      "source": [
        "dotObj_dfa(DFA_min_alt)"
      ],
      "execution_count": null,
      "outputs": []
    },
    {
      "cell_type": "code",
      "metadata": {
        "id": "5M5Zzc_M9VjB"
      },
      "source": [
        "help(iso_dfa)"
      ],
      "execution_count": null,
      "outputs": []
    },
    {
      "cell_type": "code",
      "metadata": {
        "id": "BaL3H-ff9VjC"
      },
      "source": [
        "...SHOW THAT DFA_min and DFA_min_alt are isomorphic...\n",
        "\n"
      ],
      "execution_count": null,
      "outputs": []
    },
    {
      "cell_type": "markdown",
      "metadata": {
        "id": "0EHe2rM49VjC"
      },
      "source": [
        "# END of demonstration that DFA minimization can be done in two different ways\n",
        "\n",
        "## Here are some notes to understand Brzozowski's method\n",
        "\n",
        "* If you are given a DFA \"D1\", a minimal DFA for \"reverse(D1)\" is obtained by \"reverse followed by determinize\"\n",
        "\n",
        "* But since we are interested in the minimal DFA for \"D1\" (and not reverse(D1)), we do these steps again!\n",
        "\n",
        "* Hence the algorithm becomes \"reverse THEN determinize THEN reverse THEN determinize\""
      ]
    }
  ]
}