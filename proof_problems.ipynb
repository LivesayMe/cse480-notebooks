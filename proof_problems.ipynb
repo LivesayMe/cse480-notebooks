{
  "nbformat": 4,
  "nbformat_minor": 0,
  "metadata": {
    "colab": {
      "name": "proof_problems.ipynb",
      "provenance": [],
      "include_colab_link": true
    },
    "kernelspec": {
      "name": "python3",
      "display_name": "Python 3"
    }
  },
  "cells": [
    {
      "cell_type": "markdown",
      "metadata": {
        "id": "view-in-github",
        "colab_type": "text"
      },
      "source": [
        "<a href=\"https://colab.research.google.com/github/LivesayMe/cse480-notebooks/blob/master/proof_problems.ipynb\" target=\"_parent\"><img src=\"https://colab.research.google.com/assets/colab-badge.svg\" alt=\"Open In Colab\"/></a>"
      ]
    },
    {
      "cell_type": "markdown",
      "metadata": {
        "id": "NJbnmTGuC2yN"
      },
      "source": [
        "# Look at a Series of Proof Problems\n",
        "Think about how you would go about trying to solve these problems.\n",
        "\n",
        "In other words, how would you approach trying to prove each one?\n",
        "\n",
        "It will be good warm-up for next week's exploration of the Pumping Lemma for Regular Languages."
      ]
    },
    {
      "cell_type": "markdown",
      "metadata": {
        "id": "-OdWAKyfFPkx"
      },
      "source": [
        "## Easiest Proof Problem"
      ]
    },
    {
      "cell_type": "markdown",
      "metadata": {
        "id": "5fMk--buC87a"
      },
      "source": [
        "Prove that if $a \\equiv_5 b$ where $a$ and $b$ are integers, then $a^2 \\equiv_5 b^2$.\n",
        "\n",
        "What about the converse?"
      ]
    },
    {
      "cell_type": "code",
      "metadata": {
        "id": "GILwVJe3rDPo"
      },
      "source": [
        "l = [(x,y) for x in range(100) for y in range(100) if x%5 == y%5]\r\n",
        "for i in l:\r\n",
        "  if i[0]*i[0] % 5 != i[1]*i[1] % 5:\r\n",
        "    print(\"Conjecture failes at %s,%s\"% (i[0], i[1]))"
      ],
      "execution_count": null,
      "outputs": []
    },
    {
      "cell_type": "markdown",
      "metadata": {
        "id": "c95PEdirFUdr"
      },
      "source": [
        "## Easy Proof Problem"
      ]
    },
    {
      "cell_type": "markdown",
      "metadata": {
        "id": "n376QHhFDP8V"
      },
      "source": [
        "\n",
        "\n",
        "Prove that for every natural number $n$, there exist integers $a$ and $b$ such that $n = 3a + 7b$.\n",
        "\n",
        "Can you generalize this result?"
      ]
    },
    {
      "cell_type": "markdown",
      "metadata": {
        "id": "SsFkn_PuFZOp"
      },
      "source": [
        "## Hard Proof Problem"
      ]
    },
    {
      "cell_type": "markdown",
      "metadata": {
        "id": "euibTihmDjRp"
      },
      "source": [
        "Show that for $n \\ge 2$, the sum $1 + \\frac{1}{2} + \\cdots + \\frac{1}{n}$ is never an integer.\n",
        "\n",
        "In other words, for $n \\ge 2$, $\\sum_{i = 1}^n \\frac{1}{i}$ is never an integer."
      ]
    },
    {
      "cell_type": "markdown",
      "metadata": {
        "id": "cfVwMa5yFiz7"
      },
      "source": [
        "## Harder Proof Problem"
      ]
    },
    {
      "cell_type": "markdown",
      "metadata": {
        "id": "AFljtCEUDv-G"
      },
      "source": [
        "Given that\n",
        "$$\\frac{1}{n(n+1)} = \\frac{1}{n} - \\frac{1}{n+1},$$\n",
        "what is the value of the summation\n",
        "$$\\sum_{n=1}^\\infty \\frac{b(n)}{n(n+1)},$$\n",
        "\n",
        "where $b(n)$ counts the number of ones in the binary expansion of $n$?\n",
        "\n",
        "The harder question is, why does this value converge to the number it does? Can you find an expression in common mathematical symbols (using 5 or fewer characters) for this value? And what does binary expansion have to do with why this value is what it is? How would you prove it?\n",
        "\n",
        "Hint: you may find it helpful at some point to refer to the so-called [Theoretical Computer Science Cheat Sheet](https://www.tug.org/texshowcase/cheat.pdf)."
      ]
    },
    {
      "cell_type": "markdown",
      "metadata": {
        "id": "Tw23BoO_LQce"
      },
      "source": [
        "First consider than f(2n+1) = f(2n)+1 and that f(2n) = f(n)."
      ]
    },
    {
      "cell_type": "markdown",
      "metadata": {
        "id": "TPe7N6kKKwG-"
      },
      "source": [
        "Consider adjacent terms\r\n",
        "$\\frac{f(2n)}{2n(2n+1)}$, and\r\n",
        "$\\frac{f(2n+1)}{(2n+1)(2n+2)}$.\r\n",
        "\r\n",
        "They sum to \r\n",
        "$$\\frac{1}{(2n+1)(2n+2)} + \\frac{\\frac{1}{2}f(n)}{n(n+1)}$$\r\n",
        "\r\n"
      ]
    },
    {
      "cell_type": "markdown",
      "metadata": {
        "id": "uvPKOw7fLbz9"
      },
      "source": [
        "Thus we get\r\n",
        "$$\\frac{f(1)}{2} + \\sum_{n=1}^{\\infty}{\\frac{1}{(2n+1)(2n+2)}+\\frac{\\frac{1}{2}f(n)}{n(n+1)}}$$\r\n",
        "\r\n",
        "Ultimately this reduces to \r\n",
        "$$2(1 - \\frac{1}{2} + \\frac{1}{3} - \\frac{1}{4} \\cdots)$$\r\n",
        "\r\n",
        "The interior series Euler proved converges to $\\ln {2}$, meaning the final value is $\\boxed{\\ln 4}$\r\n"
      ]
    },
    {
      "cell_type": "code",
      "metadata": {
        "id": "N3iFr50wtrYK",
        "colab": {
          "base_uri": "https://localhost:8080/"
        },
        "outputId": "e30ff7ea-6b95-4ab9-dbd4-1b4651dbec5b"
      },
      "source": [
        "sum = 0\r\n",
        "second_sum = 0\r\n",
        "for i in range(1,10000000):\r\n",
        "  sum += (bin(i).count(\"1\"))/(i*i+i)\r\n",
        "  second_sum += 0\r\n",
        "\r\n",
        "print(sum)"
      ],
      "execution_count": 28,
      "outputs": [
        {
          "output_type": "stream",
          "text": [
            "1.3862930661080126\n"
          ],
          "name": "stdout"
        }
      ]
    },
    {
      "cell_type": "code",
      "metadata": {
        "id": "52ek2ZrDt_Wq",
        "colab": {
          "base_uri": "https://localhost:8080/"
        },
        "outputId": "52000737-ff36-4bbb-d0cb-c174be7b832b"
      },
      "source": [
        "from math import log\r\n",
        "log(4)"
      ],
      "execution_count": null,
      "outputs": [
        {
          "output_type": "execute_result",
          "data": {
            "text/plain": [
              "1.3862943611198906"
            ]
          },
          "metadata": {
            "tags": []
          },
          "execution_count": 17
        }
      ]
    },
    {
      "cell_type": "code",
      "metadata": {
        "id": "ZwzuVepoA6H0"
      },
      "source": [
        "nums = []\r\n",
        "sums = 0\r\n",
        "for i in range(1,10000000):\r\n",
        "  sums += (bin(i).count(\"1\")) /i\r\n",
        "  nums.append((i, sums))\r\n"
      ],
      "execution_count": 24,
      "outputs": []
    },
    {
      "cell_type": "code",
      "metadata": {
        "id": "OMQ_7DiTBHuZ",
        "outputId": "86809bb0-7440-4160-8c94-7fa0ee7265d1",
        "colab": {
          "base_uri": "https://localhost:8080/",
          "height": 295
        }
      },
      "source": [
        "import matplotlib.pyplot as plt\r\n",
        "\r\n",
        "plt.plot(*zip(*nums))\r\n",
        "plt.show"
      ],
      "execution_count": 25,
      "outputs": [
        {
          "output_type": "execute_result",
          "data": {
            "text/plain": [
              "<function matplotlib.pyplot.show>"
            ]
          },
          "metadata": {
            "tags": []
          },
          "execution_count": 25
        },
        {
          "output_type": "display_data",
          "data": {
            "image/png": "[encoded data removed]",
            "text/plain": [
              "<Figure size 432x288 with 1 Axes>"
            ]
          },
          "metadata": {
            "tags": [],
            "needs_background": "light"
          }
        }
      ]
    },
    {
      "cell_type": "code",
      "metadata": {
        "id": "zsEzygMXD2My",
        "outputId": "fbbb4615-c1ce-4fca-ac74-65fe8de3b383",
        "colab": {
          "base_uri": "https://localhost:8080/"
        }
      },
      "source": [
        "print(sums)"
      ],
      "execution_count": 27,
      "outputs": [
        {
          "output_type": "stream",
          "text": [
            "103.82438759046119\n"
          ],
          "name": "stdout"
        }
      ]
    },
    {
      "cell_type": "markdown",
      "metadata": {
        "id": "q18gZ23MFmKj"
      },
      "source": [
        "## Hardest Proof Problem"
      ]
    },
    {
      "cell_type": "markdown",
      "metadata": {
        "id": "Jl44d2HdE85J"
      },
      "source": [
        "Prove that $a^4 + b^4 + c^4 = d^4$ has no positive integer solutions."
      ]
    }
  ]
}