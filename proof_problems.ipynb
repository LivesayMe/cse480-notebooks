{
  "nbformat": 4,
  "nbformat_minor": 0,
  "metadata": {
    "colab": {
      "name": "proof_problems.ipynb",
      "provenance": [],
      "include_colab_link": true
    },
    "kernelspec": {
      "name": "python3",
      "display_name": "Python 3"
    }
  },
  "cells": [
    {
      "cell_type": "markdown",
      "metadata": {
        "id": "view-in-github",
        "colab_type": "text"
      },
      "source": [
        "<a href=\"https://colab.research.google.com/github/LivesayMe/cse480-notebooks/blob/master/proof_problems.ipynb\" target=\"_parent\"><img src=\"https://colab.research.google.com/assets/colab-badge.svg\" alt=\"Open In Colab\"/></a>"
      ]
    },
    {
      "cell_type": "markdown",
      "metadata": {
        "id": "NJbnmTGuC2yN"
      },
      "source": [
        "# Look at a Series of Proof Problems\n",
        "Think about how you would go about trying to solve these problems.\n",
        "\n",
        "In other words, how would you approach trying to prove each one?\n",
        "\n",
        "It will be good warm-up for next week's exploration of the Pumping Lemma for Regular Languages."
      ]
    },
    {
      "cell_type": "markdown",
      "metadata": {
        "id": "-OdWAKyfFPkx"
      },
      "source": [
        "## Easiest Proof Problem"
      ]
    },
    {
      "cell_type": "markdown",
      "metadata": {
        "id": "5fMk--buC87a"
      },
      "source": [
        "Prove that if $a \\equiv_5 b$ where $a$ and $b$ are integers, then $a^2 \\equiv_5 b^2$.\n",
        "\n",
        "What about the converse?"
      ]
    },
    {
      "cell_type": "code",
      "metadata": {
        "id": "GILwVJe3rDPo"
      },
      "source": [
        "l = [(x,y) for x in range(100) for y in range(100) if x%5 == y%5]\r\n",
        "for i in l:\r\n",
        "  if i[0]*i[0] % 5 != i[1]*i[1] % 5:\r\n",
        "    print(\"Conjecture failes at %s,%s\"% (i[0], i[1]))"
      ],
      "execution_count": 5,
      "outputs": []
    },
    {
      "cell_type": "markdown",
      "metadata": {
        "id": "c95PEdirFUdr"
      },
      "source": [
        "## Easy Proof Problem"
      ]
    },
    {
      "cell_type": "markdown",
      "metadata": {
        "id": "n376QHhFDP8V"
      },
      "source": [
        "Prove that for every natural number $n$, there exist integers $a$ and $b$ such that $n = 3a + 7b$.\n",
        "\n",
        "Can you generalize this result?"
      ]
    },
    {
      "cell_type": "markdown",
      "metadata": {
        "id": "SsFkn_PuFZOp"
      },
      "source": [
        "## Hard Proof Problem"
      ]
    },
    {
      "cell_type": "markdown",
      "metadata": {
        "id": "euibTihmDjRp"
      },
      "source": [
        "Show that for $n \\ge 2$, the sum $1 + \\frac{1}{2} + \\cdots + \\frac{1}{n}$ is never an integer.\n",
        "\n",
        "In other words, for $n \\ge 2$, $\\sum_{i = 1}^n \\frac{1}{i}$ is never an integer."
      ]
    },
    {
      "cell_type": "markdown",
      "metadata": {
        "id": "cfVwMa5yFiz7"
      },
      "source": [
        "## Harder Proof Problem"
      ]
    },
    {
      "cell_type": "markdown",
      "metadata": {
        "id": "AFljtCEUDv-G"
      },
      "source": [
        "Given that\n",
        "$$\\frac{1}{n(n+1)} = \\frac{1}{n} - \\frac{1}{n+1},$$\n",
        "what is the value of the summation\n",
        "$$\\sum_{n=1}^\\infty \\frac{b(n)}{n(n+1)},$$\n",
        "\n",
        "where $b(n)$ counts the number of ones in the binary expansion of $n$?\n",
        "\n",
        "The harder question is, why does this value converge to the number it does? Can you find an expression in common mathematical symbols (using 5 or fewer characters) for this value? And what does binary expansion have to do with why this value is what it is? How would you prove it?\n",
        "\n",
        "Hint: you may find it helpful at some point to refer to the so-called [Theoretical Computer Science Cheat Sheet](https://www.tug.org/texshowcase/cheat.pdf)."
      ]
    },
    {
      "cell_type": "code",
      "metadata": {
        "id": "N3iFr50wtrYK",
        "outputId": "4f8c8f23-d4c1-4f8f-9928-d67b65afdffd",
        "colab": {
          "base_uri": "https://localhost:8080/"
        }
      },
      "source": [
        "sum = 0\r\n",
        "for i in range(1,100000000):\r\n",
        "  sum += (bin(i).count(\"1\")) /(i*i+i)\r\n",
        "print(sum)"
      ],
      "execution_count": 15,
      "outputs": [
        {
          "output_type": "stream",
          "text": [
            "1.3862942152423683\n"
          ],
          "name": "stdout"
        }
      ]
    },
    {
      "cell_type": "code",
      "metadata": {
        "id": "52ek2ZrDt_Wq",
        "outputId": "52000737-ff36-4bbb-d0cb-c174be7b832b",
        "colab": {
          "base_uri": "https://localhost:8080/"
        }
      },
      "source": [
        "from math import log\r\n",
        "log(4)"
      ],
      "execution_count": 17,
      "outputs": [
        {
          "output_type": "execute_result",
          "data": {
            "text/plain": [
              "1.3862943611198906"
            ]
          },
          "metadata": {
            "tags": []
          },
          "execution_count": 17
        }
      ]
    },
    {
      "cell_type": "markdown",
      "metadata": {
        "id": "q18gZ23MFmKj"
      },
      "source": [
        "## Hardest Proof Problem"
      ]
    },
    {
      "cell_type": "markdown",
      "metadata": {
        "id": "Jl44d2HdE85J"
      },
      "source": [
        "Prove that $a^4 + b^4 + c^4 = d^4$ has no positive integer solutions."
      ]
    }
  ]
}