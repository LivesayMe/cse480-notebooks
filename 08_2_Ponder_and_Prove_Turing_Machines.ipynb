{
  "nbformat": 4,
  "nbformat_minor": 0,
  "metadata": {
    "colab": {
      "name": "08_2_Ponder_and_Prove_Turing_Machines.ipynb",
      "provenance": [],
      "include_colab_link": true
    },
    "kernelspec": {
      "name": "python3",
      "display_name": "Python 3"
    }
  },
  "cells": [
    {
      "cell_type": "markdown",
      "metadata": {
        "id": "view-in-github",
        "colab_type": "text"
      },
      "source": [
        "<a href=\"https://colab.research.google.com/github/LivesayMe/cse480-notebooks/blob/master/08_2_Ponder_and_Prove_Turing_Machines.ipynb\" target=\"_parent\"><img src=\"https://colab.research.google.com/assets/colab-badge.svg\" alt=\"Open In Colab\"/></a>"
      ]
    },
    {
      "cell_type": "markdown",
      "metadata": {
        "id": "KROWXw9EqAOY"
      },
      "source": [
        "# Ponder and Prove Turing Machines\n",
        "## Due: Saturday, 27 February 2021, 11:59 pm"
      ]
    },
    {
      "cell_type": "markdown",
      "metadata": {
        "id": "uLXu2I4YqK2x"
      },
      "source": [
        "## TODO Study Examples"
      ]
    },
    {
      "cell_type": "markdown",
      "metadata": {
        "id": "m7clQtUHqQDq"
      },
      "source": [
        "In the folders\n",
        "\n",
        "Jove/For_CS3100_Fall2020/17_DTMs_and_NDTMs\n",
        "\n",
        "and \n",
        "\n",
        "Jove/For_CS3100_Fall2020/18_More_TM_Exs\n",
        "\n",
        "you will find many examples of Deterministic Turing Machines, and Nondeterministic Turing Machines. Study these carefully!"
      ]
    },
    {
      "cell_type": "markdown",
      "metadata": {
        "id": "sSxW9oOHlND1"
      },
      "source": [
        "Studied!"
      ]
    },
    {
      "cell_type": "markdown",
      "metadata": {
        "id": "ND770ZuCq5kG"
      },
      "source": [
        "## TODO Write a Summary"
      ]
    },
    {
      "cell_type": "markdown",
      "metadata": {
        "id": "MRG7nNwoq_qT"
      },
      "source": [
        "Describe what you learned about TMs of both varieties."
      ]
    },
    {
      "cell_type": "code",
      "metadata": {
        "colab": {
          "base_uri": "https://localhost:8080/"
        },
        "id": "Wa17nEzQc1tL",
        "outputId": "bd6b4851-b007-4c44-b331-80cf20ce5bbe"
      },
      "source": [
        "#~~~~~~~~~~~~~~~~~~~~~~~~~~~~~~~~~~~~~~~~~~~~~~~~~~~~~~~\r\n",
        "import sys\r\n",
        "\r\n",
        "# -- Detect if in Own Install or in Colab\r\n",
        "try:\r\n",
        "    import google.colab\r\n",
        "    OWN_INSTALL = False\r\n",
        "except:\r\n",
        "    OWN_INSTALL = True\r\n",
        "    \r\n",
        "if OWN_INSTALL:\r\n",
        "  sys.path[0:0] = ['../../../../..',  '../../../../../3rdparty',  \r\n",
        "                   '../../../..',  '../../../../3rdparty',  \r\n",
        "                   '../../..',     '../../../3rdparty', \r\n",
        "                   '../..',        '../../3rdparty',\r\n",
        "                   '..',           '../3rdparty',\r\n",
        "                   '../Jove',      '../Jove/jove']\r\n",
        "\r\n",
        "else: # In colab\r\n",
        "  ! if [ ! -d Jove ]; then git clone https://github.com/ganeshutah/Jove Jove; fi\r\n",
        "  sys.path.append('./Jove')\r\n",
        "  sys.path.append('./Jove/jove')\r\n",
        "\r\n",
        "# -- common imports --\r\n",
        "from jove.Def_TM     import *\r\n",
        "from jove.Def_md2mc  import *\r\n",
        "from jove.DotBashers import *\r\n",
        "#~~~~~~~~~~~~~~~~~~~~~~~~~~~~~~~~~~~~~~~~~~~~~~~~~~~~~~~"
      ],
      "execution_count": 2,
      "outputs": [
        {
          "output_type": "stream",
          "text": [
            "Cloning into 'Jove'...\n",
            "remote: Enumerating objects: 4634, done.\u001b[K\n",
            "remote: Total 4634 (delta 0), reused 0 (delta 0), pack-reused 4634\u001b[K\n",
            "Receiving objects: 100% (4634/4634), 7.38 MiB | 11.64 MiB/s, done.\n",
            "Resolving deltas: 100% (3005/3005), done.\n",
            "You may use any of these help commands:\n",
            "help(step_tm)\n",
            "help(run_tm)\n",
            "help(explore_tm)\n",
            "\n",
            "You may use any of these help commands:\n",
            "help(md2mc)\n",
            ".. and if you want to dig more, then ..\n",
            "help(default_line_attr)\n",
            "help(length_ok_input_items)\n",
            "help(union_line_attr_list_fld)\n",
            "help(extend_rsltdict)\n",
            "help(form_delta)\n",
            "help(get_machine_components)\n",
            "\n",
            "You may use any of these help commands:\n",
            "help(ResetStNum)\n",
            "help(NxtStateStr)\n",
            "\n"
          ],
          "name": "stdout"
        }
      ]
    },
    {
      "cell_type": "markdown",
      "metadata": {
        "id": "7F8FwHKlvLZP"
      },
      "source": [
        "I realized that there is a dependency stack in all of programming. I recognize that we talked about this in class, but it really struck me that minor improvements in base function will vastly improve the performance in high level applications. Some of the turing machines in these documents were very large. They took advantage of lower level \"functions\" that had been previously defined such as move to right most non empty character. Turing machines can help us realize the absolute fastest way to do these seemingly trivial operations."
      ]
    },
    {
      "cell_type": "markdown",
      "metadata": {
        "id": "IZv2_MDnrkiY"
      },
      "source": [
        "## TODO Create a DTM to Delete a Character"
      ]
    },
    {
      "cell_type": "markdown",
      "metadata": {
        "id": "8CO727aIrrEi"
      },
      "source": [
        "This task is to delete a character from the tape string. Deleting the current symbol means transforming the tape from $x\\sigma y$ to $xy$ where $\\sigma$ is any symbol, including a blank, and $y$ is a string of nonblank symbols. Assume the input alphabet is $\\{a, b\\}$.\n",
        "\n",
        "HINT: Use a couple of states (labeled $q_a$ and $q_b$, say) for your TM to remember a symbol between the time it is erased and the time it is copied in the next square to the left. (The complete DTM requires about 6 states total, with 12 transitions.)\n"
      ]
    },
    {
      "cell_type": "code",
      "metadata": {
        "colab": {
          "base_uri": "https://localhost:8080/",
          "height": 340
        },
        "id": "5KeykZzQc6IC",
        "outputId": "49a30ee3-5d60-46a1-b81f-e1fde4c5db5a"
      },
      "source": [
        "dotObj_tm(md2mc('''\r\n",
        "  TM\r\n",
        "!!cs  sr  sw   md   ns\r\n",
        "  I0 : a ; a , R -> I0\r\n",
        "  I0 : b ; b , R -> I0\r\n",
        "  I0 : s ; # , R -> QA\r\n",
        "  QA : a ; # , L -> QB\r\n",
        "  QA : b ; # , L -> QC\r\n",
        "  QA : _ ; _ , R -> Fhalt\r\n",
        "  QB : # ; a , R -> QD\r\n",
        "  QC : # ; b , R -> QD\r\n",
        "  QD : # ; # , R -> QA\r\n",
        "'''), FuseEdges=True)"
      ],
      "execution_count": null,
      "outputs": [
        {
          "output_type": "execute_result",
          "data": {
            "text/plain": [
              "<graphviz.dot.Digraph at 0x7fb43b5aa210>"
            ],
            "image/svg+xml": "<?xml version=\"1.0\" encoding=\"UTF-8\" standalone=\"no\"?>\n<!DOCTYPE svg PUBLIC \"-//W3C//DTD SVG 1.1//EN\"\n \"http://www.w3.org/Graphics/SVG/1.1/DTD/svg11.dtd\">\n<!-- Generated by graphviz version 2.40.1 (20161225.0304)\n -->\n<!-- Title: %3 Pages: 1 -->\n<svg width=\"529pt\" height=\"240pt\"\n viewBox=\"0.00 0.00 529.28 239.63\" xmlns=\"http://www.w3.org/2000/svg\" xmlns:xlink=\"http://www.w3.org/1999/xlink\">\n<g id=\"graph0\" class=\"graph\" transform=\"scale(1 1) rotate(0) translate(4 235.6295)\">\n<title>%3</title>\n<polygon fill=\"#ffffff\" stroke=\"transparent\" points=\"-4,4 -4,-235.6295 525.2826,-235.6295 525.2826,4 -4,4\"/>\n<!-- EMPTY -->\n<g id=\"node1\" class=\"node\">\n<title>EMPTY</title>\n</g>\n<!-- I0 -->\n<g id=\"node2\" class=\"node\">\n<title>I0</title>\n<ellipse fill=\"none\" stroke=\"#000000\" cx=\"109.8483\" cy=\"-84.5816\" rx=\"18.6979\" ry=\"18.6979\"/>\n<text text-anchor=\"middle\" x=\"109.8483\" y=\"-80.8816\" font-family=\"Times,serif\" font-size=\"14.00\" fill=\"#000000\">I0</text>\n</g>\n<!-- EMPTY&#45;&gt;I0 -->\n<g id=\"edge1\" class=\"edge\">\n<title>EMPTY&#45;&gt;I0</title>\n<path fill=\"none\" stroke=\"#000000\" d=\"M54.1276,-84.5816C62.6494,-84.5816 72.0912,-84.5816 80.7441,-84.5816\"/>\n<polygon fill=\"#000000\" stroke=\"#000000\" points=\"80.7925,-88.0817 90.7925,-84.5816 80.7925,-81.0817 80.7925,-88.0817\"/>\n</g>\n<!-- I0&#45;&gt;I0 -->\n<g id=\"edge2\" class=\"edge\">\n<title>I0&#45;&gt;I0</title>\n<path fill=\"none\" stroke=\"#000000\" d=\"M103.4213,-102.4018C102.2216,-112.3078 104.364,-121.43 109.8483,-121.43 113.2761,-121.43 115.3983,-117.8666 116.2151,-112.7757\"/>\n<polygon fill=\"#000000\" stroke=\"#000000\" points=\"119.7171,-112.422 116.2753,-102.4018 112.7172,-112.3813 119.7171,-112.422\"/>\n<text text-anchor=\"middle\" x=\"109.8483\" y=\"-140.23\" font-family=\"Times,serif\" font-size=\"14.00\" fill=\"#000000\">b ; b,R </text>\n<text text-anchor=\"middle\" x=\"109.8483\" y=\"-125.23\" font-family=\"Times,serif\" font-size=\"14.00\" fill=\"#000000\"> a ; a,R</text>\n</g>\n<!-- QA -->\n<g id=\"node5\" class=\"node\">\n<title>QA</title>\n<ellipse fill=\"none\" stroke=\"#000000\" cx=\"227.3945\" cy=\"-84.5816\" rx=\"24.8972\" ry=\"24.8972\"/>\n<text text-anchor=\"middle\" x=\"227.3945\" y=\"-80.8816\" font-family=\"Times,serif\" font-size=\"14.00\" fill=\"#000000\">QA</text>\n</g>\n<!-- I0&#45;&gt;QA -->\n<g id=\"edge3\" class=\"edge\">\n<title>I0&#45;&gt;QA</title>\n<path fill=\"none\" stroke=\"#000000\" d=\"M128.7341,-84.5816C145.8336,-84.5816 171.4621,-84.5816 192.3127,-84.5816\"/>\n<polygon fill=\"#000000\" stroke=\"#000000\" points=\"192.4076,-88.0817 202.4075,-84.5816 192.4075,-81.0817 192.4076,-88.0817\"/>\n<text text-anchor=\"middle\" x=\"165.6967\" y=\"-88.3816\" font-family=\"Times,serif\" font-size=\"14.00\" fill=\"#000000\">s ; #,R</text>\n</g>\n<!-- QC -->\n<g id=\"node3\" class=\"node\">\n<title>QC</title>\n<ellipse fill=\"none\" stroke=\"#000000\" cx=\"361.9896\" cy=\"-207.5816\" rx=\"24.0958\" ry=\"24.0958\"/>\n<text text-anchor=\"middle\" x=\"361.9896\" y=\"-203.8816\" font-family=\"Times,serif\" font-size=\"14.00\" fill=\"#000000\">QC</text>\n</g>\n<!-- QD -->\n<g id=\"node6\" class=\"node\">\n<title>QD</title>\n<ellipse fill=\"none\" stroke=\"#000000\" cx=\"496.5848\" cy=\"-141.5816\" rx=\"24.8972\" ry=\"24.8972\"/>\n<text text-anchor=\"middle\" x=\"496.5848\" y=\"-137.8816\" font-family=\"Times,serif\" font-size=\"14.00\" fill=\"#000000\">QD</text>\n</g>\n<!-- QC&#45;&gt;QD -->\n<g id=\"edge8\" class=\"edge\">\n<title>QC&#45;&gt;QD</title>\n<path fill=\"none\" stroke=\"#000000\" d=\"M383.6147,-196.9776C405.6227,-186.1857 439.9696,-169.3434 465.0167,-157.0613\"/>\n<polygon fill=\"#000000\" stroke=\"#000000\" points=\"466.6781,-160.1448 474.1158,-152.5995 463.5962,-153.8598 466.6781,-160.1448\"/>\n<text text-anchor=\"middle\" x=\"433.887\" y=\"-183.3816\" font-family=\"Times,serif\" font-size=\"14.00\" fill=\"#000000\"># ; b,R</text>\n</g>\n<!-- QB -->\n<g id=\"node4\" class=\"node\">\n<title>QB</title>\n<ellipse fill=\"none\" stroke=\"#000000\" cx=\"361.9896\" cy=\"-141.5816\" rx=\"24.0958\" ry=\"24.0958\"/>\n<text text-anchor=\"middle\" x=\"361.9896\" y=\"-137.8816\" font-family=\"Times,serif\" font-size=\"14.00\" fill=\"#000000\">QB</text>\n</g>\n<!-- QB&#45;&gt;QD -->\n<g id=\"edge7\" class=\"edge\">\n<title>QB&#45;&gt;QD</title>\n<path fill=\"none\" stroke=\"#000000\" d=\"M386.0525,-141.5816C407.1299,-141.5816 438.0195,-141.5816 461.7895,-141.5816\"/>\n<polygon fill=\"#000000\" stroke=\"#000000\" points=\"461.8196,-145.0817 471.8196,-141.5816 461.8195,-138.0817 461.8196,-145.0817\"/>\n<text text-anchor=\"middle\" x=\"433.887\" y=\"-145.3816\" font-family=\"Times,serif\" font-size=\"14.00\" fill=\"#000000\"># ; a,R</text>\n</g>\n<!-- QA&#45;&gt;QC -->\n<g id=\"edge5\" class=\"edge\">\n<title>QA&#45;&gt;QC</title>\n<path fill=\"none\" stroke=\"#000000\" d=\"M242.2265,-104.7492C250.024,-114.7819 260.0345,-126.8179 270.0923,-136.5816 289.9132,-155.823 314.8418,-174.8062 333.7328,-188.2958\"/>\n<polygon fill=\"#000000\" stroke=\"#000000\" points=\"331.758,-191.1859 341.9476,-194.0883 335.792,-185.4651 331.758,-191.1859\"/>\n<text text-anchor=\"middle\" x=\"290.0923\" y=\"-173.3816\" font-family=\"Times,serif\" font-size=\"14.00\" fill=\"#000000\">b ; #,L</text>\n</g>\n<!-- QA&#45;&gt;QB -->\n<g id=\"edge4\" class=\"edge\">\n<title>QA&#45;&gt;QB</title>\n<path fill=\"none\" stroke=\"#000000\" d=\"M250.2267,-94.2509C272.2091,-103.5603 305.6483,-117.7215 330.2239,-128.1291\"/>\n<polygon fill=\"#000000\" stroke=\"#000000\" points=\"328.9214,-131.3784 339.4946,-132.0552 331.6512,-124.9325 328.9214,-131.3784\"/>\n<text text-anchor=\"middle\" x=\"290.0923\" y=\"-121.3816\" font-family=\"Times,serif\" font-size=\"14.00\" fill=\"#000000\">a ; #,L</text>\n</g>\n<!-- Fhalt -->\n<g id=\"node7\" class=\"node\">\n<title>Fhalt</title>\n<ellipse fill=\"none\" stroke=\"#000000\" cx=\"361.9896\" cy=\"-65.5816\" rx=\"29.8071\" ry=\"29.8071\"/>\n<ellipse fill=\"none\" stroke=\"#000000\" cx=\"361.9896\" cy=\"-65.5816\" rx=\"33.795\" ry=\"33.795\"/>\n<text text-anchor=\"middle\" x=\"361.9896\" y=\"-61.8816\" font-family=\"Times,serif\" font-size=\"14.00\" fill=\"#000000\">Fhalt</text>\n</g>\n<!-- QA&#45;&gt;Fhalt -->\n<g id=\"edge6\" class=\"edge\">\n<title>QA&#45;&gt;Fhalt</title>\n<path fill=\"none\" stroke=\"#000000\" d=\"M252.0813,-81.0967C270.5567,-78.4887 296.3109,-74.8531 318.2451,-71.7568\"/>\n<polygon fill=\"#000000\" stroke=\"#000000\" points=\"318.9223,-75.196 328.3349,-70.3325 317.9438,-68.2647 318.9223,-75.196\"/>\n<text text-anchor=\"middle\" x=\"290.0923\" y=\"-81.3816\" font-family=\"Times,serif\" font-size=\"14.00\" fill=\"#000000\">_ ; _,R</text>\n</g>\n<!-- QD&#45;&gt;QA -->\n<g id=\"edge9\" class=\"edge\">\n<title>QD&#45;&gt;QA</title>\n<path fill=\"none\" stroke=\"#000000\" d=\"M487.2633,-118.5557C472.9811,-86.7816 442.3584,-30.7899 395.887,-7.5816 345.2751,17.6945 284.6672,-28.1166 251.6944,-59.2594\"/>\n<polygon fill=\"#000000\" stroke=\"#000000\" points=\"249.0532,-56.9455 244.3164,-66.4225 253.9293,-61.9678 249.0532,-56.9455\"/>\n<text text-anchor=\"middle\" x=\"361.9896\" y=\"-11.3816\" font-family=\"Times,serif\" font-size=\"14.00\" fill=\"#000000\"># ; #,R</text>\n</g>\n</g>\n</svg>\n"
          },
          "metadata": {
            "tags": []
          },
          "execution_count": 4
        }
      ]
    },
    {
      "cell_type": "markdown",
      "metadata": {
        "id": "FmWSlviOsUC7"
      },
      "source": [
        "## TODO Create a DTM to Insert a Character"
      ]
    },
    {
      "cell_type": "markdown",
      "metadata": {
        "id": "jA2pQpkJsdXS"
      },
      "source": [
        "This task is the opposite of the first one, namely, to insert a character into the tape string. Inserting the symbol $\\sigma$ is done virtually the same way as deleting, except that the single pass goes from left to right, symbols are moved to the right instead of to the left, and the move that starts things off writes $\\sigma$ instead of a blank.\n"
      ]
    },
    {
      "cell_type": "code",
      "metadata": {
        "id": "30-STIt-PA_5",
        "colab": {
          "base_uri": "https://localhost:8080/",
          "height": 224
        },
        "outputId": "b933e67e-e7f3-4d00-d168-fb3875f97cd1"
      },
      "source": [
        "dotObj_tm(md2mc('''\r\n",
        "  TM\r\n",
        "!!cs  sr  sw   md   ns\r\n",
        "  I0 : a ; a , L -> move_left\r\n",
        "  I0 : b ; b , L -> move_left\r\n",
        "\r\n",
        "  move_left : a ; a , L -> move_left\r\n",
        "  move_left : b ; b , L -> move_left\r\n",
        "  move_left : _ ; _ , S -> QA\r\n",
        "  \r\n",
        "  QA : _ ; s , S -> FHalt\r\n",
        "'''), FuseEdges=True)"
      ],
      "execution_count": 5,
      "outputs": [
        {
          "output_type": "execute_result",
          "data": {
            "text/plain": [
              "<graphviz.dot.Digraph at 0x7f44c826cb90>"
            ],
            "image/svg+xml": "<?xml version=\"1.0\" encoding=\"UTF-8\" standalone=\"no\"?>\n<!DOCTYPE svg PUBLIC \"-//W3C//DTD SVG 1.1//EN\"\n \"http://www.w3.org/Graphics/SVG/1.1/DTD/svg11.dtd\">\n<!-- Generated by graphviz version 2.40.1 (20161225.0304)\n -->\n<!-- Title: %3 Pages: 1 -->\n<svg width=\"581pt\" height=\"152pt\"\n viewBox=\"0.00 0.00 580.98 152.19\" xmlns=\"http://www.w3.org/2000/svg\" xmlns:xlink=\"http://www.w3.org/1999/xlink\">\n<g id=\"graph0\" class=\"graph\" transform=\"scale(1 1) rotate(0) translate(4 148.1915)\">\n<title>%3</title>\n<polygon fill=\"#ffffff\" stroke=\"transparent\" points=\"-4,4 -4,-148.1915 576.9781,-148.1915 576.9781,4 -4,4\"/>\n<!-- EMPTY -->\n<g id=\"node1\" class=\"node\">\n<title>EMPTY</title>\n</g>\n<!-- I0 -->\n<g id=\"node2\" class=\"node\">\n<title>I0</title>\n<ellipse fill=\"none\" stroke=\"#000000\" cx=\"109.8483\" cy=\"-48.0957\" rx=\"18.6979\" ry=\"18.6979\"/>\n<text text-anchor=\"middle\" x=\"109.8483\" y=\"-44.3957\" font-family=\"Times,serif\" font-size=\"14.00\" fill=\"#000000\">I0</text>\n</g>\n<!-- EMPTY&#45;&gt;I0 -->\n<g id=\"edge1\" class=\"edge\">\n<title>EMPTY&#45;&gt;I0</title>\n<path fill=\"none\" stroke=\"#000000\" d=\"M54.1276,-48.0957C62.6494,-48.0957 72.0912,-48.0957 80.7441,-48.0957\"/>\n<polygon fill=\"#000000\" stroke=\"#000000\" points=\"80.7925,-51.5958 90.7925,-48.0957 80.7925,-44.5958 80.7925,-51.5958\"/>\n</g>\n<!-- move_left -->\n<g id=\"node3\" class=\"node\">\n<title>move_left</title>\n<ellipse fill=\"none\" stroke=\"#000000\" cx=\"255.7924\" cy=\"-48.0957\" rx=\"48.1917\" ry=\"48.1917\"/>\n<text text-anchor=\"middle\" x=\"255.7924\" y=\"-44.3957\" font-family=\"Times,serif\" font-size=\"14.00\" fill=\"#000000\">move_left</text>\n</g>\n<!-- I0&#45;&gt;move_left -->\n<g id=\"edge2\" class=\"edge\">\n<title>I0&#45;&gt;move_left</title>\n<path fill=\"none\" stroke=\"#000000\" d=\"M128.928,-48.0957C146.303,-48.0957 172.8882,-48.0957 197.2415,-48.0957\"/>\n<polygon fill=\"#000000\" stroke=\"#000000\" points=\"197.5087,-51.5958 207.5086,-48.0957 197.5086,-44.5958 197.5087,-51.5958\"/>\n<text text-anchor=\"middle\" x=\"168.1967\" y=\"-66.8957\" font-family=\"Times,serif\" font-size=\"14.00\" fill=\"#000000\">b ; b,L </text>\n<text text-anchor=\"middle\" x=\"168.1967\" y=\"-51.8957\" font-family=\"Times,serif\" font-size=\"14.00\" fill=\"#000000\"> a ; a,L</text>\n</g>\n<!-- move_left&#45;&gt;move_left -->\n<g id=\"edge3\" class=\"edge\">\n<title>move_left&#45;&gt;move_left</title>\n<path fill=\"none\" stroke=\"#000000\" d=\"M240.2308,-93.8142C241.2536,-105.4535 246.4408,-114.1915 255.7924,-114.1915 262.2216,-114.1915 266.6825,-110.0614 269.175,-103.6979\"/>\n<polygon fill=\"#000000\" stroke=\"#000000\" points=\"272.619,-104.3332 271.354,-93.8142 265.7831,-102.8262 272.619,-104.3332\"/>\n<text text-anchor=\"middle\" x=\"255.7924\" y=\"-132.9915\" font-family=\"Times,serif\" font-size=\"14.00\" fill=\"#000000\">b ; b,L </text>\n<text text-anchor=\"middle\" x=\"255.7924\" y=\"-117.9915\" font-family=\"Times,serif\" font-size=\"14.00\" fill=\"#000000\"> a ; a,L</text>\n</g>\n<!-- QA -->\n<g id=\"node4\" class=\"node\">\n<title>QA</title>\n<ellipse fill=\"none\" stroke=\"#000000\" cx=\"403.5859\" cy=\"-48.0957\" rx=\"24.8972\" ry=\"24.8972\"/>\n<text text-anchor=\"middle\" x=\"403.5859\" y=\"-44.3957\" font-family=\"Times,serif\" font-size=\"14.00\" fill=\"#000000\">QA</text>\n</g>\n<!-- move_left&#45;&gt;QA -->\n<g id=\"edge4\" class=\"edge\">\n<title>move_left&#45;&gt;QA</title>\n<path fill=\"none\" stroke=\"#000000\" d=\"M304.1855,-48.0957C325.2108,-48.0957 349.3756,-48.0957 368.6143,-48.0957\"/>\n<polygon fill=\"#000000\" stroke=\"#000000\" points=\"368.7445,-51.5958 378.7445,-48.0957 368.7444,-44.5958 368.7445,-51.5958\"/>\n<text text-anchor=\"middle\" x=\"341.3881\" y=\"-51.8957\" font-family=\"Times,serif\" font-size=\"14.00\" fill=\"#000000\">_ ; _,S</text>\n</g>\n<!-- FHalt -->\n<g id=\"node5\" class=\"node\">\n<title>FHalt</title>\n<ellipse fill=\"none\" stroke=\"#000000\" cx=\"537.1309\" cy=\"-48.0957\" rx=\"31.712\" ry=\"31.712\"/>\n<ellipse fill=\"none\" stroke=\"#000000\" cx=\"537.1309\" cy=\"-48.0957\" rx=\"35.695\" ry=\"35.695\"/>\n<text text-anchor=\"middle\" x=\"537.1309\" y=\"-44.3957\" font-family=\"Times,serif\" font-size=\"14.00\" fill=\"#000000\">FHalt</text>\n</g>\n<!-- QA&#45;&gt;FHalt -->\n<g id=\"edge5\" class=\"edge\">\n<title>QA&#45;&gt;FHalt</title>\n<path fill=\"none\" stroke=\"#000000\" d=\"M428.3917,-48.0957C445.9587,-48.0957 470.0428,-48.0957 491.0806,-48.0957\"/>\n<polygon fill=\"#000000\" stroke=\"#000000\" points=\"491.1217,-51.5958 501.1216,-48.0957 491.1216,-44.5958 491.1217,-51.5958\"/>\n<text text-anchor=\"middle\" x=\"464.7837\" y=\"-51.8957\" font-family=\"Times,serif\" font-size=\"14.00\" fill=\"#000000\">_ ; s,S</text>\n</g>\n</g>\n</svg>\n"
          },
          "metadata": {
            "tags": []
          },
          "execution_count": 5
        }
      ]
    },
    {
      "cell_type": "markdown",
      "metadata": {
        "id": "PNVMOs1yuOfo"
      },
      "source": [
        "After having finished the final TODO I realized that we misinterpreted this problem. As we were doing the final TODO I realized that what it was that we were supposed to do here. I have chosen to not change this problem to match the solution we created for the final problem. That way our work is still cataloged. "
      ]
    },
    {
      "cell_type": "markdown",
      "metadata": {
        "id": "CYZvAzY_xLhN"
      },
      "source": [
        "In addition to the above reason, the solution above is technically a valid solution. It takes an input string and adds a character in it. It just so happens that it does it at the start of the string."
      ]
    },
    {
      "cell_type": "markdown",
      "metadata": {
        "id": "rgOacLFksrEm"
      },
      "source": [
        "## TODO Create a DTM to Copy a String"
      ]
    },
    {
      "cell_type": "markdown",
      "metadata": {
        "id": "Iw2WYYVPsuqJ"
      },
      "source": [
        "Let $\\sqcup$ represent the blank symbol. A *Copy* DTM starts with tape $\\sqcup\\ x$ where $x$ is a string of nonblank symbols, and ends up with $\\sqcup\\ x \\sqcup x$. Again, assume the input alphabet is $\\{a, b\\}$.\n",
        "\n",
        "HINT: This DTM requires about 10 states, and not quite double that many transitions."
      ]
    },
    {
      "cell_type": "code",
      "metadata": {
        "id": "sfNvR40xix2v"
      },
      "source": [
        "\r\n",
        ";cs  sr  sw   md   ns\r\n",
        "0 _ * R 9\r\n",
        "\r\n",
        "9 1 _ R 1\r\n",
        "9 0 _ R 5\r\n",
        "9 _ * * halt\r\n",
        "\r\n",
        "1 1 * R 1\r\n",
        "1 0 * R 1 ;Go until we find the the end of x\r\n",
        "1 _ * R 2\r\n",
        "2 1 * R 2\r\n",
        "2 0 * R 2\r\n",
        "2 _ 1 L 3 ;Write our symbol\r\n",
        "3 _ * L 4\r\n",
        "3 0 * L 3\r\n",
        "3 1 * L 3\r\n",
        "4 1 * L 4\r\n",
        "4 0 * L 4 ;Loop back until we find the start\r\n",
        "4 _ 1 R 9 ;Rewrite the symbol we duplicated and return to start state \r\n",
        "\r\n",
        "5 1 * R 5\r\n",
        "5 0 * R 5 ;Go until we find the the end of x\r\n",
        "5 _ * R 6\r\n",
        "6 0 * R 6\r\n",
        "6 1 * R 6\r\n",
        "6 _ 0 L 7 ;Write our symbol\r\n",
        "7 _ * L 8\r\n",
        "7 0 * L 7\r\n",
        "7 1 * L 7\r\n",
        "8 1 * L 8\r\n",
        "8 0 * L 8 ;Loop back until we find the start\r\n",
        "8 _ 0 R 9 ;Rewrite the symbol we duplicated and return to start state "
      ],
      "execution_count": null,
      "outputs": []
    },
    {
      "cell_type": "markdown",
      "metadata": {
        "id": "sTNke7j5t9D6"
      },
      "source": [
        "## TODO Refresh Your Knowledge of the 3x+1 Conjecture"
      ]
    },
    {
      "cell_type": "markdown",
      "metadata": {
        "id": "NpXXTnxMuN8t"
      },
      "source": [
        "The code on page 200 does the 3x+1 Conjecture testing recursively:"
      ]
    },
    {
      "cell_type": "code",
      "metadata": {
        "id": "8E-aZBdbuCo5",
        "colab": {
          "base_uri": "https://localhost:8080/"
        },
        "outputId": "73af2986-6818-48fe-94b2-9d7ed26ccc1a"
      },
      "source": [
        "def tep1(x):\n",
        "    if (x==1):\n",
        "        return 1\n",
        "    elif (x%2 == 0):\n",
        "        return tep1(x/2)\n",
        "    else:\n",
        "        return tep1(3*x+1)\n",
        "\n",
        "print(tep1(3))\n",
        "print(tep1(191))\n",
        "print(tep1(19192949297080))\n",
        "print(tep1(191929492970809272397923472398492839482))\n",
        "print(tep1(191929492970809272397923472398492839482938492))"
      ],
      "execution_count": null,
      "outputs": [
        {
          "output_type": "stream",
          "text": [
            "1\n",
            "1\n",
            "1\n",
            "1\n",
            "1\n"
          ],
          "name": "stdout"
        }
      ]
    },
    {
      "cell_type": "markdown",
      "metadata": {
        "id": "4zkYEg08uZju"
      },
      "source": [
        "Two Python techniques --- \"memoizing\" and \"listifying\" --- make for faster code:"
      ]
    },
    {
      "cell_type": "code",
      "metadata": {
        "id": "er7VN37Au07d",
        "colab": {
          "base_uri": "https://localhost:8080/"
        },
        "outputId": "b2575848-818b-4462-82b3-ad90ebe53f04"
      },
      "source": [
        "def memoize(func):\n",
        "    results = {}\n",
        "    def inner(i):\n",
        "        if not i in results:\n",
        "            results[i] = func(i)\n",
        "        return results[i]\n",
        "    return inner\n",
        "\n",
        "def listify(func):\n",
        "    def inner(x):\n",
        "        return list(func(x))\n",
        "    return inner\n",
        "\n",
        "@memoize\n",
        "def tep1(x):\n",
        "    return 1 if x == 2 else tep1(x/2) if x%2 == 0 else tep1(3*x+1)\n",
        "\n",
        "@listify\n",
        "def tepmany(x):\n",
        "    for i in range(1, x+1):\n",
        "        yield tep1(i)\n",
        "\n",
        "print(max(tepmany(100000)))"
      ],
      "execution_count": null,
      "outputs": [
        {
          "output_type": "stream",
          "text": [
            "1\n"
          ],
          "name": "stdout"
        }
      ]
    },
    {
      "cell_type": "markdown",
      "metadata": {
        "id": "0QX5geEMvvcw"
      },
      "source": [
        "# TODO Modify a NON-Trivial Turing Machine Program"
      ]
    },
    {
      "cell_type": "markdown",
      "metadata": {
        "id": "3TemaqVUv1MI"
      },
      "source": [
        "The Turing machine program on page 202 performs the continuing 3x+1 transformation on an input that is a binary number. So for example if the\n",
        "initial tape has\n",
        "\n",
        "$11$\n",
        "\n",
        "which is the binary representation of the decimal number three, the final tape\n",
        "will have\n",
        "\n",
        "$1$\n",
        "\n",
        "on it.\n",
        "\n",
        "Modify the program so that a trace of all intermediate results appears on the output tape, e.g.:\n",
        "\n",
        "$11*1010*101*10000*1000*100*10*1$\n",
        "\n",
        "which separates with a star the binary representations of the numbers in the\n",
        "continuing 3x+1 transformation from 3 to 10 to 5 to 16 to 8 to 4 to 2 to 1.\n"
      ]
    },
    {
      "cell_type": "code",
      "metadata": {
        "id": "_0k-aOkyLkM-"
      },
      "source": [
        "0 0 _ R 0\r\n",
        "0 1 1 R goto_lsb\r\n",
        "0 _ _ * error\r\n",
        "goto_lsb 0 0 R goto_lsb\r\n",
        "goto_lsb 1 1 R goto_lsb\r\n",
        "goto_lsb _ # L copy_find_front\r\n",
        "\r\n",
        "copy_find_front 0 * L copy_find_front\r\n",
        "copy_find_front 1 * L copy_find_front\r\n",
        "copy_find_front # * R copy\r\n",
        "copy_find_front _ * R copy\r\n",
        "\r\n",
        "copy 0 & R copy1\r\n",
        "copy 1 & R copy2\r\n",
        "copy _ * R exit_copy\r\n",
        "copy # * R exit_copy\r\n",
        "\r\n",
        "exit_copy 1 * R exit_copy\r\n",
        "exit_copy 0 * R exit_copy\r\n",
        "exit_copy # * R exit_copy\r\n",
        "exit_copy _ * L branch  \r\n",
        "\r\n",
        ";0 block\r\n",
        "copy1 1 * R copy1\r\n",
        "copy1 0 * R copy1\r\n",
        "copy1 # * R copy_loop\r\n",
        "copy_loop 1 * R copy_loop\r\n",
        "copy_loop 0 * R copy_loop\r\n",
        "copy_loop _ 0 L copy_back_0\r\n",
        "copy_back_0 1 * L copy_back_0\r\n",
        "copy_back_0 0 * L copy_back_0\r\n",
        "copy_back_0 # * L copy_back_0\r\n",
        "copy_back_0 & 0 R copy\r\n",
        "\r\n",
        ";1 block\r\n",
        "copy2 1 * R copy2\r\n",
        "copy2 0 * R copy2\r\n",
        "copy2 # * R copy2_loop\r\n",
        "copy2_loop 1 * R copy2_loop\r\n",
        "copy2_loop 0 * R copy2_loop\r\n",
        "copy2_loop _ 1 L copy_back_1\r\n",
        "copy_back_1 1 * L copy_back_1\r\n",
        "copy_back_1 0 * L copy_back_1\r\n",
        "copy_back_1 # * L copy_back_1\r\n",
        "copy_back_1 & 1 R copy\r\n",
        "\r\n",
        "branch 0 # L copy_find_front\r\n",
        "branch 1 1 L check_n_eq_1\r\n",
        "\r\n",
        "check_n_eq_1 0 0 R 01_fma\r\n",
        "check_n_eq_1 1 1 R 01_fma\r\n",
        "check_n_eq_1 _ _ R halt\r\n",
        "check_n_eq_1 # * R clean_up\r\n",
        "\r\n",
        "clean_up 1 _ L clean_up\r\n",
        "clean_up 0 _ L clean_up\r\n",
        "clean_up # _ L halt\r\n",
        "\r\n",
        "00_fma 0 0 L 00_fma\r\n",
        "00_fma 1 1 L 01_fma\r\n",
        "00_fma # # R goto_lsb\r\n",
        "\r\n",
        "01_fma _ 1 R goto_lsb\r\n",
        "01_fma 1 0 L 10_fma\r\n",
        "01_fma 0 1 L 00_fma\r\n",
        "01_fma # * R 01_add_space\r\n",
        "\r\n",
        "01_add_space 1 _ R 01_add_space_1\r\n",
        "01_add_space 0 _ R 01_add_space_0\r\n",
        "\r\n",
        "01_add_space_1 1 1 R 01_add_space_1\r\n",
        "01_add_space_1 0 1 R 01_add_space_0\r\n",
        "01_add_space_1 _ 1 * 01_go_back\r\n",
        "\r\n",
        "01_add_space_0 1 0 R 01_add_space_1\r\n",
        "01_add_space_0 0 0 R 01_add_space_0\r\n",
        "01_add_space_0 _ 0 * 01_go_back\r\n",
        "\r\n",
        "01_go_back 0 * L 01_go_back\r\n",
        "01_go_back 1 * L 01_go_back\r\n",
        "01_go_back _ * * 01_fma\r\n",
        "\r\n",
        "10_fma 0 0 L 01_fma\r\n",
        "10_fma 1 1 L 10_fma\r\n",
        "10_fma _ 0 L 01_fma\r\n",
        "10_fma # * R 10_add_space\r\n",
        "\r\n",
        "10_add_space 1 _ R 10_add_space_1\r\n",
        "10_add_space 0 _ R 10_add_space_0\r\n",
        "\r\n",
        "10_add_space_1 1 1 R 10_add_space_1\r\n",
        "10_add_space_1 0 1 R 10_add_space_0\r\n",
        "10_add_space_1 _ 1 * 10_go_back\r\n",
        "\r\n",
        "10_add_space_0 1 0 R 10_add_space_1\r\n",
        "10_add_space_0 0 0 R 10_add_space_0\r\n",
        "10_add_space_0 _ 0 * 10_go_back\r\n",
        "\r\n",
        "10_go_back 0 * L 10_go_back\r\n",
        "10_go_back 1 * L 10_go_back\r\n",
        "10_go_back _ * * 10_fma\r\n",
        "\r\n",
        ";Move the current block one to the right\r\n",
        "move_right 1 * R move_right\r\n",
        "move_right 0 * R move_right\r\n",
        "move_right _ * L copy_right\r\n",
        "move_right # * R restart\r\n",
        "\r\n",
        "\r\n",
        "\r\n",
        "copy_right 0 _ R copy_0_right\r\n",
        "copy_right 1 _ R copy_1_right\r\n",
        "\r\n",
        "copy_0_right 1 * R copy_0_right\r\n",
        "copy_0_right 0 * R copy_0_right\r\n",
        "copy_0_right _ 0 L move_left\r\n",
        "\r\n",
        "copy_1_right 1 * R copy_1_right\r\n",
        "copy_1_right 0 * R copy_1_right\r\n",
        "copy_1_right _ 1 L move_left\r\n",
        "\r\n",
        "move_left 0 * L move_left\r\n",
        "move_left 1 * L move_left\r\n",
        "move_left _ * L move_right"
      ],
      "execution_count": null,
      "outputs": []
    }
  ]
}