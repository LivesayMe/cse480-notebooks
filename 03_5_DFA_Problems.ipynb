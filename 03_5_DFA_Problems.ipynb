{
  "nbformat": 4,
  "nbformat_minor": 0,
  "metadata": {
    "kernelspec": {
      "display_name": "Python 3",
      "language": "python",
      "name": "python3"
    },
    "language_info": {
      "codemirror_mode": {
        "name": "ipython",
        "version": 3
      },
      "file_extension": ".py",
      "mimetype": "text/x-python",
      "name": "python",
      "nbconvert_exporter": "python",
      "pygments_lexer": "ipython3",
      "version": "3.9.0"
    },
    "colab": {
      "name": "03_5_DFA_Problems.ipynb",
      "provenance": []
    }
  },
  "cells": [
    {
      "cell_type": "markdown",
      "metadata": {
        "id": "4h1_HxzCVE4l"
      },
      "source": [
        "# First let's import, then look for the assignment below"
      ]
    },
    {
      "cell_type": "code",
      "metadata": {
        "colab": {
          "base_uri": "https://localhost:8080/"
        },
        "id": "yJL-S3VfVE4o",
        "outputId": "1050dae3-e857-4b4a-f5c0-0fe2b19f0e27"
      },
      "source": [
        "#~~~~~~~~~~~~~~~~~~~~~~~~~~~~~~~~~~~~~~~~~~~~~~~~~~~~~~~\n",
        "import sys\n",
        "\n",
        "# -- Detect if in Own Install or in Colab\n",
        "try:\n",
        "    import google.colab\n",
        "    OWN_INSTALL = False\n",
        "except:\n",
        "    OWN_INSTALL = True\n",
        "    \n",
        "if OWN_INSTALL:\n",
        "\n",
        "  sys.path[0:0] = ['../../../../..',  '../../../../../3rdparty',  \n",
        "                   '../../../..',  '../../../../3rdparty',  \n",
        "                   '../../..',     '../../../3rdparty', \n",
        "                   '../..',        '../../3rdparty',\n",
        "                   '..',           '../3rdparty' ]\n",
        "\n",
        "else: # In colab\n",
        "  ! if [ ! -d Jove ]; then git clone https://github.com/ganeshutah/Jove Jove; fi\n",
        "  sys.path.append('./Jove')\n",
        "  sys.path.append('./Jove/jove')\n",
        "\n",
        "# -- common imports --\n",
        "from jove.LangDef   import *  #-- mainly for nthnumeric\n",
        "from jove.Def_md2mc import *  #-- for md2mc\n",
        "from jove.Def_DFA   import *  #-- for all DFA functions\n",
        "from jove.DotBashers import * #-- for dotObj_dfa\n",
        "#~~~~~~~~~~~~~~~~~~~~~~~~~~~~~~~~~~~~~~~~~~~~~~~~~~~~~~~"
      ],
      "execution_count": 1,
      "outputs": [
        {
          "output_type": "stream",
          "text": [
            "Cloning into 'Jove'...\n",
            "remote: Enumerating objects: 4634, done.\u001b[K\n",
            "remote: Total 4634 (delta 0), reused 0 (delta 0), pack-reused 4634\u001b[K\n",
            "Receiving objects: 100% (4634/4634), 7.38 MiB | 22.28 MiB/s, done.\n",
            "Resolving deltas: 100% (3005/3005), done.\n",
            "You may use any of these help commands:\n",
            "help(lphi)\n",
            "help(lunit)\n",
            "help(lcat)\n",
            "help(lexp)\n",
            "help(lunion)\n",
            "help(lstar)\n",
            "help(srev)\n",
            "help(lrev)\n",
            "help(shomo)\n",
            "help(lhomo)\n",
            "help(powset)\n",
            "help(lint)\n",
            "help(lsymdiff)\n",
            "help(lminus)\n",
            "help(lissubset)\n",
            "help(lissuperset)\n",
            "help(lcomplem)\n",
            "help(product)\n",
            "help(nthnumeric)\n",
            "\n",
            "You may use any of these help commands:\n",
            "help(md2mc)\n",
            ".. and if you want to dig more, then ..\n",
            "help(default_line_attr)\n",
            "help(length_ok_input_items)\n",
            "help(union_line_attr_list_fld)\n",
            "help(extend_rsltdict)\n",
            "help(form_delta)\n",
            "help(get_machine_components)\n",
            "\n",
            "You may use any of these help commands:\n",
            "help(ResetStNum)\n",
            "help(NxtStateStr)\n",
            "\n",
            "You may use any of these help commands:\n",
            "help(mkp_dfa)\n",
            "help(mk_dfa)\n",
            "help(totalize_dfa)\n",
            "help(addtosigma_delta)\n",
            "help(step_dfa)\n",
            "help(run_dfa)\n",
            "help(accepts_dfa)\n",
            "help(comp_dfa)\n",
            "help(union_dfa)\n",
            "help(intersect_dfa)\n",
            "help(pruneUnreach)\n",
            "help(iso_dfa)\n",
            "help(langeq_dfa)\n",
            "help(same_status)\n",
            "help(h_langeq_dfa)\n",
            "help(fixptDist)\n",
            "help(min_dfa)\n",
            "help(pairFR)\n",
            "help(state_combos)\n",
            "help(sepFinNonFin)\n",
            "help(bash_eql_classes)\n",
            "help(listminus)\n",
            "help(bash_1)\n",
            "help(mk_rep_eqc)\n",
            "help(F_of)\n",
            "help(rep_of_s)\n",
            "help(q0_of)\n",
            "help(Delta_of)\n",
            "help(mk_state_eqc_name)\n",
            "\n"
          ],
          "name": "stdout"
        }
      ]
    },
    {
      "cell_type": "markdown",
      "metadata": {
        "id": "0crkdUUcVE4p"
      },
      "source": [
        "# Task 1: Define DFA Even010\n",
        "\n",
        "<font size=\"4\">    \n",
        "Using Jove's markdown, define a DFA for the language of strings over alphabet $\\{0,1\\}$ that accepts an even number of NON-OVERLAPPING occurrences of $010$s. Thoroughly document your construction!\n",
        "    \n",
        "HERE ARE EXAMPLES :\n",
        "\n",
        "* 01010 - does NOT have an even number of 0's because we wanted NON-OVERLAPPING\n",
        "\n",
        "* 0101010 - has two NON-OVERLAPPING occurrences of 010 -- that is what we want!\n",
        "\n",
        "* 0101111010 - has two NON-OVERLAPPING occurrences of 010\n",
        "\n",
        "* 111111 - has ZERO occurrences of 010\n",
        "    \n",
        "</font>"
      ]
    },
    {
      "cell_type": "markdown",
      "metadata": {
        "id": "PeHR_xP2VE4q"
      },
      "source": [
        "### Hint: Name states to remember the essence of the history of inputs so far. If you do so, and also keep the sense of where the machine is (in an I state, an IF state or an F state), then you'll have the solution fall out automatically!\n",
        "\n",
        "Please read the Jove_User_Manual and heed the advice given there regarding how to write your automaton markdowns, how to place comments, how to group the lines of a DFA per state, and how to order which transition you may first consider.\n"
      ]
    },
    {
      "cell_type": "code",
      "metadata": {
        "id": "wbUitAjNVE4r"
      },
      "source": [
        "Even010 = md2mc('''\n",
        "DFA \n",
        "\n",
        "!! Before we reach state c we can return at any point. Once we reach point C that means that there has been 1 010. After that we need to find an additional 010 before we can return.\n",
        "!! After the second 010 we can return at any point until another 010 occurs. At that point we travel back to c and it loop thereafter.\n",
        "\n",
        " IF : 0 -> FA\n",
        " IF : 1 -> IF\n",
        " FA : 1 -> FB\n",
        " FA : 0 -> FA\n",
        " FB : 0 -> C\n",
        " FB : 1 -> IF\n",
        " C : 0 -> D\n",
        " C : 1 -> C\n",
        " D : 0 -> D\n",
        " D : 1 -> E\n",
        " E : 0 -> F\n",
        " E : 1 -> C\n",
        " F : 1 -> F\n",
        " F : 0 -> FG\n",
        " FG : 1 -> FH\n",
        " FG : 0 -> FG\n",
        " FH : 0 -> C\n",
        " FH : 1 -> F \n",
        "''')"
      ],
      "execution_count": 6,
      "outputs": []
    },
    {
      "cell_type": "code",
      "metadata": {
        "colab": {
          "base_uri": "https://localhost:8080/",
          "height": 252
        },
        "id": "77TN6OXNVE4r",
        "outputId": "2e252bea-ae3c-40ed-c607-a1c392ae34a7"
      },
      "source": [
        "dotObj_dfa(Even010)"
      ],
      "execution_count": 3,
      "outputs": [
        {
          "output_type": "execute_result",
          "data": {
            "text/plain": [
              "<graphviz.dot.Digraph at 0x7f4e5213f0b8>"
            ],
            "image/svg+xml": "<?xml version=\"1.0\" encoding=\"UTF-8\" standalone=\"no\"?>\n<!DOCTYPE svg PUBLIC \"-//W3C//DTD SVG 1.1//EN\"\n \"http://www.w3.org/Graphics/SVG/1.1/DTD/svg11.dtd\">\n<!-- Generated by graphviz version 2.40.1 (20161225.0304)\n -->\n<!-- Title: %3 Pages: 1 -->\n<svg width=\"895pt\" height=\"174pt\"\n viewBox=\"0.00 0.00 894.68 173.75\" xmlns=\"http://www.w3.org/2000/svg\" xmlns:xlink=\"http://www.w3.org/1999/xlink\">\n<g id=\"graph0\" class=\"graph\" transform=\"scale(1 1) rotate(0) translate(4 169.748)\">\n<title>%3</title>\n<polygon fill=\"#ffffff\" stroke=\"transparent\" points=\"-4,4 -4,-169.748 890.6805,-169.748 890.6805,4 -4,4\"/>\n<!-- EMPTY -->\n<g id=\"node1\" class=\"node\">\n<title>EMPTY</title>\n</g>\n<!-- IF -->\n<g id=\"node7\" class=\"node\">\n<title>IF</title>\n<ellipse fill=\"none\" stroke=\"#000000\" cx=\"113.8483\" cy=\"-46\" rx=\"18.724\" ry=\"18.724\"/>\n<ellipse fill=\"none\" stroke=\"#000000\" cx=\"113.8483\" cy=\"-46\" rx=\"22.6977\" ry=\"22.6977\"/>\n<text text-anchor=\"middle\" x=\"113.8483\" y=\"-42.3\" font-family=\"Times,serif\" font-size=\"14.00\" fill=\"#000000\">IF</text>\n</g>\n<!-- EMPTY&#45;&gt;IF -->\n<g id=\"edge1\" class=\"edge\">\n<title>EMPTY&#45;&gt;IF</title>\n<path fill=\"none\" stroke=\"#000000\" d=\"M54.0033,-46C62.5212,-46 72.0276,-46 80.9112,-46\"/>\n<polygon fill=\"#000000\" stroke=\"#000000\" points=\"80.9572,-49.5001 90.9572,-46 80.9572,-42.5001 80.9572,-49.5001\"/>\n</g>\n<!-- E -->\n<g id=\"node2\" class=\"node\">\n<title>E</title>\n<ellipse fill=\"none\" stroke=\"#000000\" cx=\"573.6886\" cy=\"-71\" rx=\"18\" ry=\"18\"/>\n<text text-anchor=\"middle\" x=\"573.6886\" y=\"-67.3\" font-family=\"Times,serif\" font-size=\"14.00\" fill=\"#000000\">E</text>\n</g>\n<!-- C -->\n<g id=\"node4\" class=\"node\">\n<title>C</title>\n<ellipse fill=\"none\" stroke=\"#000000\" cx=\"405.6886\" cy=\"-46\" rx=\"18\" ry=\"18\"/>\n<text text-anchor=\"middle\" x=\"405.6886\" y=\"-42.3\" font-family=\"Times,serif\" font-size=\"14.00\" fill=\"#000000\">C</text>\n</g>\n<!-- E&#45;&gt;C -->\n<g id=\"edge13\" class=\"edge\">\n<title>E&#45;&gt;C</title>\n<path fill=\"none\" stroke=\"#000000\" d=\"M559.3734,-82.3559C539.5251,-96.6435 502.5968,-117.9493 471.6886,-106 452.1287,-98.438 434.7939,-82.0866 422.8036,-68.3608\"/>\n<polygon fill=\"#000000\" stroke=\"#000000\" points=\"425.4794,-66.1045 416.3851,-60.669 420.1048,-70.5894 425.4794,-66.1045\"/>\n<text text-anchor=\"middle\" x=\"489.6886\" y=\"-112.8\" font-family=\"Times,serif\" font-size=\"14.00\" fill=\"#000000\">1 </text>\n</g>\n<!-- F -->\n<g id=\"node6\" class=\"node\">\n<title>F</title>\n<ellipse fill=\"none\" stroke=\"#000000\" cx=\"661.6886\" cy=\"-71\" rx=\"18\" ry=\"18\"/>\n<ellipse fill=\"none\" stroke=\"#000000\" cx=\"661.6886\" cy=\"-71\" rx=\"22\" ry=\"22\"/>\n<text text-anchor=\"middle\" x=\"661.6886\" y=\"-67.3\" font-family=\"Times,serif\" font-size=\"14.00\" fill=\"#000000\">F</text>\n</g>\n<!-- E&#45;&gt;F -->\n<g id=\"edge12\" class=\"edge\">\n<title>E&#45;&gt;F</title>\n<path fill=\"none\" stroke=\"#000000\" d=\"M591.9222,-71C602.6988,-71 616.6594,-71 629.2578,-71\"/>\n<polygon fill=\"#000000\" stroke=\"#000000\" points=\"629.4203,-74.5001 639.4203,-71 629.4202,-67.5001 629.4203,-74.5001\"/>\n<text text-anchor=\"middle\" x=\"615.6886\" y=\"-74.8\" font-family=\"Times,serif\" font-size=\"14.00\" fill=\"#000000\">0 </text>\n</g>\n<!-- D -->\n<g id=\"node3\" class=\"node\">\n<title>D</title>\n<ellipse fill=\"none\" stroke=\"#000000\" cx=\"489.6886\" cy=\"-46\" rx=\"18\" ry=\"18\"/>\n<text text-anchor=\"middle\" x=\"489.6886\" y=\"-42.3\" font-family=\"Times,serif\" font-size=\"14.00\" fill=\"#000000\">D</text>\n</g>\n<!-- D&#45;&gt;E -->\n<g id=\"edge11\" class=\"edge\">\n<title>D&#45;&gt;E</title>\n<path fill=\"none\" stroke=\"#000000\" d=\"M507.0934,-51.18C518.4689,-54.5656 533.5611,-59.0573 546.5015,-62.9086\"/>\n<polygon fill=\"#000000\" stroke=\"#000000\" points=\"545.7231,-66.3286 556.306,-65.8266 547.7199,-59.6194 545.7231,-66.3286\"/>\n<text text-anchor=\"middle\" x=\"531.6886\" y=\"-63.8\" font-family=\"Times,serif\" font-size=\"14.00\" fill=\"#000000\">1 </text>\n</g>\n<!-- D&#45;&gt;D -->\n<g id=\"edge10\" class=\"edge\">\n<title>D&#45;&gt;D</title>\n<path fill=\"none\" stroke=\"#000000\" d=\"M482.3058,-62.6641C480.6651,-72.625 483.1261,-82 489.6886,-82 493.8927,-82 496.4135,-78.1525 497.251,-72.7682\"/>\n<polygon fill=\"#000000\" stroke=\"#000000\" points=\"500.7487,-72.6002 497.0714,-62.6641 493.7498,-72.7247 500.7487,-72.6002\"/>\n<text text-anchor=\"middle\" x=\"489.6886\" y=\"-85.8\" font-family=\"Times,serif\" font-size=\"14.00\" fill=\"#000000\">0 </text>\n</g>\n<!-- C&#45;&gt;D -->\n<g id=\"edge8\" class=\"edge\">\n<title>C&#45;&gt;D</title>\n<path fill=\"none\" stroke=\"#000000\" d=\"M423.9153,-46C434.8128,-46 448.894,-46 461.2299,-46\"/>\n<polygon fill=\"#000000\" stroke=\"#000000\" points=\"461.4974,-49.5001 471.4974,-46 461.4974,-42.5001 461.4974,-49.5001\"/>\n<text text-anchor=\"middle\" x=\"447.6886\" y=\"-49.8\" font-family=\"Times,serif\" font-size=\"14.00\" fill=\"#000000\">0 </text>\n</g>\n<!-- C&#45;&gt;C -->\n<g id=\"edge9\" class=\"edge\">\n<title>C&#45;&gt;C</title>\n<path fill=\"none\" stroke=\"#000000\" d=\"M398.3058,-62.6641C396.6651,-72.625 399.1261,-82 405.6886,-82 409.8927,-82 412.4135,-78.1525 413.251,-72.7682\"/>\n<polygon fill=\"#000000\" stroke=\"#000000\" points=\"416.7487,-72.6002 413.0714,-62.6641 409.7498,-72.7247 416.7487,-72.6002\"/>\n<text text-anchor=\"middle\" x=\"405.6886\" y=\"-85.8\" font-family=\"Times,serif\" font-size=\"14.00\" fill=\"#000000\">1 </text>\n</g>\n<!-- FG -->\n<g id=\"node5\" class=\"node\">\n<title>FG</title>\n<ellipse fill=\"none\" stroke=\"#000000\" cx=\"758.4366\" cy=\"-106\" rx=\"22.9609\" ry=\"22.9609\"/>\n<ellipse fill=\"none\" stroke=\"#000000\" cx=\"758.4366\" cy=\"-106\" rx=\"26.9983\" ry=\"26.9983\"/>\n<text text-anchor=\"middle\" x=\"758.4366\" y=\"-102.3\" font-family=\"Times,serif\" font-size=\"14.00\" fill=\"#000000\">FG</text>\n</g>\n<!-- FG&#45;&gt;FG -->\n<g id=\"edge17\" class=\"edge\">\n<title>FG&#45;&gt;FG</title>\n<path fill=\"none\" stroke=\"#000000\" d=\"M749.144,-131.301C748.5031,-141.8261 751.6006,-150.748 758.4366,-150.748 762.9226,-150.748 765.7987,-146.9056 767.0648,-141.2894\"/>\n<polygon fill=\"#000000\" stroke=\"#000000\" points=\"770.5577,-141.5112 767.7292,-131.301 763.5731,-141.0466 770.5577,-141.5112\"/>\n<text text-anchor=\"middle\" x=\"758.4366\" y=\"-154.548\" font-family=\"Times,serif\" font-size=\"14.00\" fill=\"#000000\">0 </text>\n</g>\n<!-- FH -->\n<g id=\"node10\" class=\"node\">\n<title>FH</title>\n<ellipse fill=\"none\" stroke=\"#000000\" cx=\"859.9325\" cy=\"-46\" rx=\"22.9609\" ry=\"22.9609\"/>\n<ellipse fill=\"none\" stroke=\"#000000\" cx=\"859.9325\" cy=\"-46\" rx=\"26.9983\" ry=\"26.9983\"/>\n<text text-anchor=\"middle\" x=\"859.9325\" y=\"-42.3\" font-family=\"Times,serif\" font-size=\"14.00\" fill=\"#000000\">FH</text>\n</g>\n<!-- FG&#45;&gt;FH -->\n<g id=\"edge16\" class=\"edge\">\n<title>FG&#45;&gt;FH</title>\n<path fill=\"none\" stroke=\"#000000\" d=\"M781.4676,-92.3851C795.1262,-84.3107 812.649,-73.952 827.6693,-65.0726\"/>\n<polygon fill=\"#000000\" stroke=\"#000000\" points=\"829.8141,-67.8706 836.6413,-59.7687 826.2519,-61.8447 829.8141,-67.8706\"/>\n<text text-anchor=\"middle\" x=\"809.1845\" y=\"-80.8\" font-family=\"Times,serif\" font-size=\"14.00\" fill=\"#000000\">1 </text>\n</g>\n<!-- F&#45;&gt;FG -->\n<g id=\"edge15\" class=\"edge\">\n<title>F&#45;&gt;FG</title>\n<path fill=\"none\" stroke=\"#000000\" d=\"M682.6815,-78.5945C694.5771,-82.8979 709.7666,-88.3929 723.4168,-93.3311\"/>\n<polygon fill=\"#000000\" stroke=\"#000000\" points=\"722.4209,-96.6928 733.0152,-96.8034 724.8023,-90.1102 722.4209,-96.6928\"/>\n<text text-anchor=\"middle\" x=\"707.6886\" y=\"-92.8\" font-family=\"Times,serif\" font-size=\"14.00\" fill=\"#000000\">0 </text>\n</g>\n<!-- F&#45;&gt;F -->\n<g id=\"edge14\" class=\"edge\">\n<title>F&#45;&gt;F</title>\n<path fill=\"none\" stroke=\"#000000\" d=\"M653.6823,-91.5808C652.5745,-101.8447 655.2433,-111 661.6886,-111 665.8176,-111 668.3967,-107.2427 669.426,-101.8436\"/>\n<polygon fill=\"#000000\" stroke=\"#000000\" points=\"672.9317,-101.6691 669.6949,-91.5808 665.9341,-101.4857 672.9317,-101.6691\"/>\n<text text-anchor=\"middle\" x=\"661.6886\" y=\"-114.8\" font-family=\"Times,serif\" font-size=\"14.00\" fill=\"#000000\">1 </text>\n</g>\n<!-- IF&#45;&gt;IF -->\n<g id=\"edge3\" class=\"edge\">\n<title>IF&#45;&gt;IF</title>\n<path fill=\"none\" stroke=\"#000000\" d=\"M106.4966,-67.8532C105.6946,-77.9909 108.1452,-86.8483 113.8483,-86.8483 117.5019,-86.8483 119.8206,-83.2132 120.8045,-77.9352\"/>\n<polygon fill=\"#000000\" stroke=\"#000000\" points=\"124.3052,-77.9828 121.2,-67.8532 117.3106,-77.7083 124.3052,-77.9828\"/>\n<text text-anchor=\"middle\" x=\"113.8483\" y=\"-90.6483\" font-family=\"Times,serif\" font-size=\"14.00\" fill=\"#000000\">1 </text>\n</g>\n<!-- FA -->\n<g id=\"node8\" class=\"node\">\n<title>FA</title>\n<ellipse fill=\"none\" stroke=\"#000000\" cx=\"211.4446\" cy=\"-90\" rx=\"22.9609\" ry=\"22.9609\"/>\n<ellipse fill=\"none\" stroke=\"#000000\" cx=\"211.4446\" cy=\"-90\" rx=\"26.9983\" ry=\"26.9983\"/>\n<text text-anchor=\"middle\" x=\"211.4446\" y=\"-86.3\" font-family=\"Times,serif\" font-size=\"14.00\" fill=\"#000000\">FA</text>\n</g>\n<!-- IF&#45;&gt;FA -->\n<g id=\"edge2\" class=\"edge\">\n<title>IF&#45;&gt;FA</title>\n<path fill=\"none\" stroke=\"#000000\" d=\"M135.0253,-55.5473C147.415,-61.1331 163.3469,-68.3158 177.4547,-74.6761\"/>\n<polygon fill=\"#000000\" stroke=\"#000000\" points=\"176.3093,-77.9989 186.8642,-78.9182 179.1864,-71.6175 176.3093,-77.9989\"/>\n<text text-anchor=\"middle\" x=\"160.6967\" y=\"-72.8\" font-family=\"Times,serif\" font-size=\"14.00\" fill=\"#000000\">0 </text>\n</g>\n<!-- FA&#45;&gt;FA -->\n<g id=\"edge5\" class=\"edge\">\n<title>FA&#45;&gt;FA</title>\n<path fill=\"none\" stroke=\"#000000\" d=\"M202.152,-115.301C201.5112,-125.8261 204.6087,-134.748 211.4446,-134.748 215.9307,-134.748 218.8068,-130.9056 220.0729,-125.2894\"/>\n<polygon fill=\"#000000\" stroke=\"#000000\" points=\"223.5658,-125.5112 220.7372,-115.301 216.5812,-125.0466 223.5658,-125.5112\"/>\n<text text-anchor=\"middle\" x=\"211.4446\" y=\"-138.548\" font-family=\"Times,serif\" font-size=\"14.00\" fill=\"#000000\">0 </text>\n</g>\n<!-- FB -->\n<g id=\"node9\" class=\"node\">\n<title>FB</title>\n<ellipse fill=\"none\" stroke=\"#000000\" cx=\"312.9406\" cy=\"-46\" rx=\"22.9609\" ry=\"22.9609\"/>\n<ellipse fill=\"none\" stroke=\"#000000\" cx=\"312.9406\" cy=\"-46\" rx=\"26.9983\" ry=\"26.9983\"/>\n<text text-anchor=\"middle\" x=\"312.9406\" y=\"-42.3\" font-family=\"Times,serif\" font-size=\"14.00\" fill=\"#000000\">FB</text>\n</g>\n<!-- FA&#45;&gt;FB -->\n<g id=\"edge4\" class=\"edge\">\n<title>FA&#45;&gt;FB</title>\n<path fill=\"none\" stroke=\"#000000\" d=\"M236.014,-79.3488C248.8843,-73.7694 264.8481,-66.8488 278.8916,-60.7607\"/>\n<polygon fill=\"#000000\" stroke=\"#000000\" points=\"280.4629,-63.8944 288.2457,-56.7056 277.6786,-57.4719 280.4629,-63.8944\"/>\n<text text-anchor=\"middle\" x=\"262.1926\" y=\"-72.8\" font-family=\"Times,serif\" font-size=\"14.00\" fill=\"#000000\">1 </text>\n</g>\n<!-- FB&#45;&gt;C -->\n<g id=\"edge6\" class=\"edge\">\n<title>FB&#45;&gt;C</title>\n<path fill=\"none\" stroke=\"#000000\" d=\"M339.7672,-46C351.482,-46 365.2339,-46 377.1378,-46\"/>\n<polygon fill=\"#000000\" stroke=\"#000000\" points=\"377.439,-49.5001 387.4389,-46 377.4389,-42.5001 377.439,-49.5001\"/>\n<text text-anchor=\"middle\" x=\"363.6886\" y=\"-49.8\" font-family=\"Times,serif\" font-size=\"14.00\" fill=\"#000000\">0 </text>\n</g>\n<!-- FB&#45;&gt;IF -->\n<g id=\"edge7\" class=\"edge\">\n<title>FB&#45;&gt;IF</title>\n<path fill=\"none\" stroke=\"#000000\" d=\"M286.3451,-42.9009C272.0879,-41.3934 254.2068,-39.7482 238.1926,-39 214.4425,-37.8904 208.4438,-37.8297 184.6967,-39 172.2842,-39.6117 158.6928,-40.8227 146.7634,-42.0679\"/>\n<polygon fill=\"#000000\" stroke=\"#000000\" points=\"146.3407,-38.5932 136.7792,-43.1568 147.0997,-45.5519 146.3407,-38.5932\"/>\n<text text-anchor=\"middle\" x=\"211.4446\" y=\"-42.8\" font-family=\"Times,serif\" font-size=\"14.00\" fill=\"#000000\">1 </text>\n</g>\n<!-- FH&#45;&gt;C -->\n<g id=\"edge18\" class=\"edge\">\n<title>FH&#45;&gt;C</title>\n<path fill=\"none\" stroke=\"#000000\" d=\"M838.2378,-29.6526C818.5086,-16.4309 788.0361,0 758.4366,0 489.6886,0 489.6886,0 489.6886,0 466.12,0 442.8978,-14.1034 426.8643,-26.6918\"/>\n<polygon fill=\"#000000\" stroke=\"#000000\" points=\"424.2025,-24.3523 418.7399,-33.4303 428.6714,-29.7402 424.2025,-24.3523\"/>\n<text text-anchor=\"middle\" x=\"615.6886\" y=\"-3.8\" font-family=\"Times,serif\" font-size=\"14.00\" fill=\"#000000\">0 </text>\n</g>\n<!-- FH&#45;&gt;F -->\n<g id=\"edge19\" class=\"edge\">\n<title>FH&#45;&gt;F</title>\n<path fill=\"none\" stroke=\"#000000\" d=\"M832.7801,-46.6881C806.7314,-47.6349 766.35,-49.854 731.6886,-55 718.9086,-56.8974 705.0035,-59.8809 692.9788,-62.7601\"/>\n<polygon fill=\"#000000\" stroke=\"#000000\" points=\"691.8394,-59.4363 682.9713,-65.2335 693.519,-66.2318 691.8394,-59.4363\"/>\n<text text-anchor=\"middle\" x=\"758.4366\" y=\"-58.8\" font-family=\"Times,serif\" font-size=\"14.00\" fill=\"#000000\">1 </text>\n</g>\n</g>\n</svg>\n"
          },
          "metadata": {
            "tags": []
          },
          "execution_count": 3
        }
      ]
    },
    {
      "cell_type": "code",
      "metadata": {
        "colab": {
          "base_uri": "https://localhost:8080/",
          "height": 273
        },
        "id": "a5hIyVvHVjE4",
        "outputId": "33222631-9362-4694-f4ae-224153770e62"
      },
      "source": [
        "dotObj_dfa(min_dfa(Even010))"
      ],
      "execution_count": 5,
      "outputs": [
        {
          "output_type": "execute_result",
          "data": {
            "text/plain": [
              "<graphviz.dot.Digraph at 0x7f4e52003898>"
            ],
            "image/svg+xml": "<?xml version=\"1.0\" encoding=\"UTF-8\" standalone=\"no\"?>\n<!DOCTYPE svg PUBLIC \"-//W3C//DTD SVG 1.1//EN\"\n \"http://www.w3.org/Graphics/SVG/1.1/DTD/svg11.dtd\">\n<!-- Generated by graphviz version 2.40.1 (20161225.0304)\n -->\n<!-- Title: %3 Pages: 1 -->\n<svg width=\"598pt\" height=\"189pt\"\n viewBox=\"0.00 0.00 597.99 188.75\" xmlns=\"http://www.w3.org/2000/svg\" xmlns:xlink=\"http://www.w3.org/1999/xlink\">\n<g id=\"graph0\" class=\"graph\" transform=\"scale(1 1) rotate(0) translate(4 184.748)\">\n<title>%3</title>\n<polygon fill=\"#ffffff\" stroke=\"transparent\" points=\"-4,4 -4,-184.748 593.9919,-184.748 593.9919,4 -4,4\"/>\n<!-- EMPTY -->\n<g id=\"node1\" class=\"node\">\n<title>EMPTY</title>\n</g>\n<!-- F -->\n<g id=\"node6\" class=\"node\">\n<title>F</title>\n<ellipse fill=\"none\" stroke=\"#000000\" cx=\"113\" cy=\"-122.748\" rx=\"18\" ry=\"18\"/>\n<ellipse fill=\"none\" stroke=\"#000000\" cx=\"113\" cy=\"-122.748\" rx=\"22\" ry=\"22\"/>\n<text text-anchor=\"middle\" x=\"113\" y=\"-119.048\" font-family=\"Times,serif\" font-size=\"14.00\" fill=\"#000000\">F</text>\n</g>\n<!-- EMPTY&#45;&gt;F -->\n<g id=\"edge1\" class=\"edge\">\n<title>EMPTY&#45;&gt;F</title>\n<path fill=\"none\" stroke=\"#000000\" d=\"M54.2109,-122.748C62.6073,-122.748 71.9364,-122.748 80.6441,-122.748\"/>\n<polygon fill=\"#000000\" stroke=\"#000000\" points=\"80.8529,-126.2481 90.8529,-122.748 80.8528,-119.2481 80.8529,-126.2481\"/>\n</g>\n<!-- E -->\n<g id=\"node2\" class=\"node\">\n<title>E</title>\n<ellipse fill=\"none\" stroke=\"#000000\" cx=\"571.9919\" cy=\"-122.748\" rx=\"18\" ry=\"18\"/>\n<text text-anchor=\"middle\" x=\"571.9919\" y=\"-119.048\" font-family=\"Times,serif\" font-size=\"14.00\" fill=\"#000000\">E</text>\n</g>\n<!-- C -->\n<g id=\"node4\" class=\"node\">\n<title>C</title>\n<ellipse fill=\"none\" stroke=\"#000000\" cx=\"403.9919\" cy=\"-73.748\" rx=\"18\" ry=\"18\"/>\n<text text-anchor=\"middle\" x=\"403.9919\" y=\"-70.048\" font-family=\"Times,serif\" font-size=\"14.00\" fill=\"#000000\">C</text>\n</g>\n<!-- E&#45;&gt;C -->\n<g id=\"edge13\" class=\"edge\">\n<title>E&#45;&gt;C</title>\n<path fill=\"none\" stroke=\"#000000\" d=\"M554.2075,-118.4016C533.7791,-113.3256 499.3037,-104.5033 469.9919,-95.748 457.0131,-91.8712 442.7395,-87.169 430.7963,-83.1086\"/>\n<polygon fill=\"#000000\" stroke=\"#000000\" points=\"431.5865,-79.6794 420.9919,-79.7424 429.3134,-86.3001 431.5865,-79.6794\"/>\n<text text-anchor=\"middle\" x=\"487.9919\" y=\"-109.548\" font-family=\"Times,serif\" font-size=\"14.00\" fill=\"#000000\">1 </text>\n</g>\n<!-- E&#45;&gt;F -->\n<g id=\"edge12\" class=\"edge\">\n<title>E&#45;&gt;F</title>\n<path fill=\"none\" stroke=\"#000000\" d=\"M558.5137,-134.7259C542.7618,-147.4492 515.3516,-165.748 487.9919,-165.748 209.748,-165.748 209.748,-165.748 209.748,-165.748 184.3164,-165.748 158.1142,-153.1875 139.403,-141.6436\"/>\n<polygon fill=\"#000000\" stroke=\"#000000\" points=\"141.1536,-138.6076 130.8555,-136.1177 137.3532,-144.4862 141.1536,-138.6076\"/>\n<text text-anchor=\"middle\" x=\"361.9919\" y=\"-169.548\" font-family=\"Times,serif\" font-size=\"14.00\" fill=\"#000000\">0 </text>\n</g>\n<!-- D -->\n<g id=\"node3\" class=\"node\">\n<title>D</title>\n<ellipse fill=\"none\" stroke=\"#000000\" cx=\"487.9919\" cy=\"-35.748\" rx=\"18\" ry=\"18\"/>\n<text text-anchor=\"middle\" x=\"487.9919\" y=\"-32.048\" font-family=\"Times,serif\" font-size=\"14.00\" fill=\"#000000\">D</text>\n</g>\n<!-- D&#45;&gt;E -->\n<g id=\"edge11\" class=\"edge\">\n<title>D&#45;&gt;E</title>\n<path fill=\"none\" stroke=\"#000000\" d=\"M500.7497,-48.9614C514.3966,-63.0957 536.2205,-85.699 552.1211,-102.1675\"/>\n<polygon fill=\"#000000\" stroke=\"#000000\" points=\"549.9254,-104.9323 559.3893,-109.6953 554.9612,-100.0701 549.9254,-104.9323\"/>\n<text text-anchor=\"middle\" x=\"529.9919\" y=\"-87.548\" font-family=\"Times,serif\" font-size=\"14.00\" fill=\"#000000\">1 </text>\n</g>\n<!-- D&#45;&gt;D -->\n<g id=\"edge10\" class=\"edge\">\n<title>D&#45;&gt;D</title>\n<path fill=\"none\" stroke=\"#000000\" d=\"M480.6091,-52.412C478.9685,-62.373 481.4294,-71.748 487.9919,-71.748 492.196,-71.748 494.7168,-67.9005 495.5544,-62.5162\"/>\n<polygon fill=\"#000000\" stroke=\"#000000\" points=\"499.052,-62.3482 495.3747,-52.412 492.0532,-62.4727 499.052,-62.3482\"/>\n<text text-anchor=\"middle\" x=\"487.9919\" y=\"-75.548\" font-family=\"Times,serif\" font-size=\"14.00\" fill=\"#000000\">0 </text>\n</g>\n<!-- C&#45;&gt;D -->\n<g id=\"edge8\" class=\"edge\">\n<title>C&#45;&gt;D</title>\n<path fill=\"none\" stroke=\"#000000\" d=\"M420.5876,-66.2404C432.4377,-60.8796 448.6097,-53.5637 462.1426,-47.4417\"/>\n<polygon fill=\"#000000\" stroke=\"#000000\" points=\"463.7622,-50.5506 471.4307,-43.24 460.877,-44.1728 463.7622,-50.5506\"/>\n<text text-anchor=\"middle\" x=\"445.9919\" y=\"-60.548\" font-family=\"Times,serif\" font-size=\"14.00\" fill=\"#000000\">0 </text>\n</g>\n<!-- C&#45;&gt;C -->\n<g id=\"edge9\" class=\"edge\">\n<title>C&#45;&gt;C</title>\n<path fill=\"none\" stroke=\"#000000\" d=\"M396.6091,-90.412C394.9685,-100.373 397.4294,-109.748 403.9919,-109.748 408.196,-109.748 410.7168,-105.9005 411.5544,-100.5162\"/>\n<polygon fill=\"#000000\" stroke=\"#000000\" points=\"415.052,-100.3482 411.3747,-90.412 408.0532,-100.4727 415.052,-100.3482\"/>\n<text text-anchor=\"middle\" x=\"403.9919\" y=\"-113.548\" font-family=\"Times,serif\" font-size=\"14.00\" fill=\"#000000\">1 </text>\n</g>\n<!-- FH -->\n<g id=\"node5\" class=\"node\">\n<title>FH</title>\n<ellipse fill=\"none\" stroke=\"#000000\" cx=\"311.2439\" cy=\"-73.748\" rx=\"22.9609\" ry=\"22.9609\"/>\n<ellipse fill=\"none\" stroke=\"#000000\" cx=\"311.2439\" cy=\"-73.748\" rx=\"26.9983\" ry=\"26.9983\"/>\n<text text-anchor=\"middle\" x=\"311.2439\" y=\"-70.048\" font-family=\"Times,serif\" font-size=\"14.00\" fill=\"#000000\">FH</text>\n</g>\n<!-- FH&#45;&gt;C -->\n<g id=\"edge6\" class=\"edge\">\n<title>FH&#45;&gt;C</title>\n<path fill=\"none\" stroke=\"#000000\" d=\"M338.0705,-73.748C349.7853,-73.748 363.5372,-73.748 375.4411,-73.748\"/>\n<polygon fill=\"#000000\" stroke=\"#000000\" points=\"375.7423,-77.2481 385.7423,-73.748 375.7423,-70.2481 375.7423,-77.2481\"/>\n<text text-anchor=\"middle\" x=\"361.9919\" y=\"-77.548\" font-family=\"Times,serif\" font-size=\"14.00\" fill=\"#000000\">0 </text>\n</g>\n<!-- FH&#45;&gt;F -->\n<g id=\"edge7\" class=\"edge\">\n<title>FH&#45;&gt;F</title>\n<path fill=\"none\" stroke=\"#000000\" d=\"M285.4243,-81.8387C271.0818,-86.2088 252.8765,-91.5524 236.496,-95.748 205.6152,-103.6575 170.0207,-111.2835 145.0026,-116.4015\"/>\n<polygon fill=\"#000000\" stroke=\"#000000\" points=\"144.0779,-113.0176 134.9727,-118.4348 145.4687,-119.8781 144.0779,-113.0176\"/>\n<text text-anchor=\"middle\" x=\"209.748\" y=\"-111.548\" font-family=\"Times,serif\" font-size=\"14.00\" fill=\"#000000\">1 </text>\n</g>\n<!-- F&#45;&gt;F -->\n<g id=\"edge3\" class=\"edge\">\n<title>F&#45;&gt;F</title>\n<path fill=\"none\" stroke=\"#000000\" d=\"M105.6831,-143.7387C104.7798,-153.8352 107.2188,-162.748 113,-162.748 116.7036,-162.748 119.0356,-159.0902 119.9958,-153.8066\"/>\n<polygon fill=\"#000000\" stroke=\"#000000\" points=\"123.4963,-153.8453 120.3169,-143.7387 116.4998,-153.6221 123.4963,-153.8453\"/>\n<text text-anchor=\"middle\" x=\"113\" y=\"-166.548\" font-family=\"Times,serif\" font-size=\"14.00\" fill=\"#000000\">1 </text>\n</g>\n<!-- FG -->\n<g id=\"node7\" class=\"node\">\n<title>FG</title>\n<ellipse fill=\"none\" stroke=\"#000000\" cx=\"209.748\" cy=\"-26.748\" rx=\"22.9609\" ry=\"22.9609\"/>\n<ellipse fill=\"none\" stroke=\"#000000\" cx=\"209.748\" cy=\"-26.748\" rx=\"26.9983\" ry=\"26.9983\"/>\n<text text-anchor=\"middle\" x=\"209.748\" y=\"-23.048\" font-family=\"Times,serif\" font-size=\"14.00\" fill=\"#000000\">FG</text>\n</g>\n<!-- F&#45;&gt;FG -->\n<g id=\"edge2\" class=\"edge\">\n<title>F&#45;&gt;FG</title>\n<path fill=\"none\" stroke=\"#000000\" d=\"M128.976,-106.8955C143.8158,-92.1705 166.184,-69.9752 183.6214,-52.6726\"/>\n<polygon fill=\"#000000\" stroke=\"#000000\" points=\"186.1231,-55.1209 190.7563,-45.5928 181.1926,-50.1519 186.1231,-55.1209\"/>\n<text text-anchor=\"middle\" x=\"159\" y=\"-83.548\" font-family=\"Times,serif\" font-size=\"14.00\" fill=\"#000000\">0 </text>\n</g>\n<!-- FG&#45;&gt;FH -->\n<g id=\"edge4\" class=\"edge\">\n<title>FG&#45;&gt;FH</title>\n<path fill=\"none\" stroke=\"#000000\" d=\"M234.0588,-38.0057C247.0195,-44.0074 263.1722,-51.4873 277.3464,-58.051\"/>\n<polygon fill=\"#000000\" stroke=\"#000000\" points=\"276.2347,-61.3932 286.7797,-62.4193 279.1762,-55.0412 276.2347,-61.3932\"/>\n<text text-anchor=\"middle\" x=\"260.496\" y=\"-55.548\" font-family=\"Times,serif\" font-size=\"14.00\" fill=\"#000000\">1 </text>\n</g>\n<!-- FG&#45;&gt;FG -->\n<g id=\"edge5\" class=\"edge\">\n<title>FG&#45;&gt;FG</title>\n<path fill=\"none\" stroke=\"#000000\" d=\"M200.4554,-52.049C199.8145,-62.574 202.912,-71.496 209.748,-71.496 214.2341,-71.496 217.1102,-67.6536 218.3762,-62.0374\"/>\n<polygon fill=\"#000000\" stroke=\"#000000\" points=\"221.8691,-62.2592 219.0406,-52.049 214.8846,-61.7946 221.8691,-62.2592\"/>\n<text text-anchor=\"middle\" x=\"209.748\" y=\"-75.296\" font-family=\"Times,serif\" font-size=\"14.00\" fill=\"#000000\">0 </text>\n</g>\n</g>\n</svg>\n"
          },
          "metadata": {
            "tags": []
          },
          "execution_count": 5
        }
      ]
    },
    {
      "cell_type": "markdown",
      "metadata": {
        "id": "AFZNg5gWekzG"
      },
      "source": [
        "The minimum dfa is much less than our original dfa. This means that F, FG, and FH are equivelant to IF, FA, and FB. "
      ]
    },
    {
      "cell_type": "markdown",
      "metadata": {
        "id": "MRDpFtmnVE4s"
      },
      "source": [
        "# Task 2: Define DFA Ends010\n",
        "\n",
        "<font size=\"4\">    \n",
        "3. Using Jove's markdown, define a DFA for the language of strings over alphabet $\\{0,1\\}$ that ends in a $010$, calling it Ends010. Then obtain the intersection with the Even010 machine using intersect_dfa. \n",
        "    \n",
        "    Call the intersection Even010_Ends010.\n",
        "    \n",
        "    Next, minimize Even010_Ends010, storing it in min_Even010_Ends010 .\n",
        "    \n",
        "    Again, document the construction thoroughly.\n",
        "    \n",
        "</font>"
      ]
    },
    {
      "cell_type": "markdown",
      "metadata": {
        "id": "CcX7Q0HtVE4s"
      },
      "source": [
        "### Hint: Define a machine for \"ends $010$\" as illustrated by DFA Even010, and negate."
      ]
    },
    {
      "cell_type": "code",
      "metadata": {
        "id": "J45-AwLhVE4s"
      },
      "source": [
        "Ends010 =  md2mc('''\n",
        "DFA\n",
        "\n",
        "I : 1 -> I\n",
        "I : 0 -> A\n",
        "A : 1 -> B\n",
        "A : 0 -> A\n",
        "B : 0 -> F\n",
        "B : 1 -> I\n",
        "F : 1 -> I\n",
        "F : 0 -> A\n",
        "\n",
        "''')"
      ],
      "execution_count": 7,
      "outputs": []
    },
    {
      "cell_type": "code",
      "metadata": {
        "colab": {
          "base_uri": "https://localhost:8080/",
          "height": 204
        },
        "id": "MnVEgTp2VE4t",
        "outputId": "638ab8b1-f872-47fe-a466-b2ae27c5f5e4"
      },
      "source": [
        "# Let's see the \"Ends010\" machine\n",
        "dotObj_dfa(Ends010, FuseEdges=True)"
      ],
      "execution_count": 8,
      "outputs": [
        {
          "output_type": "execute_result",
          "data": {
            "text/plain": [
              "<graphviz.dot.Digraph at 0x7f4e51fc6898>"
            ],
            "image/svg+xml": "<?xml version=\"1.0\" encoding=\"UTF-8\" standalone=\"no\"?>\n<!DOCTYPE svg PUBLIC \"-//W3C//DTD SVG 1.1//EN\"\n \"http://www.w3.org/Graphics/SVG/1.1/DTD/svg11.dtd\">\n<!-- Generated by graphviz version 2.40.1 (20161225.0304)\n -->\n<!-- Title: %3 Pages: 1 -->\n<svg width=\"395pt\" height=\"137pt\"\n viewBox=\"0.00 0.00 395.00 136.65\" xmlns=\"http://www.w3.org/2000/svg\" xmlns:xlink=\"http://www.w3.org/1999/xlink\">\n<g id=\"graph0\" class=\"graph\" transform=\"scale(1 1) rotate(0) translate(4 132.651)\">\n<title>%3</title>\n<polygon fill=\"#ffffff\" stroke=\"transparent\" points=\"-4,4 -4,-132.651 391,-132.651 391,4 -4,4\"/>\n<!-- EMPTY -->\n<g id=\"node1\" class=\"node\">\n<title>EMPTY</title>\n</g>\n<!-- I -->\n<g id=\"node2\" class=\"node\">\n<title>I</title>\n<ellipse fill=\"none\" stroke=\"#000000\" cx=\"109\" cy=\"-26.651\" rx=\"18\" ry=\"18\"/>\n<text text-anchor=\"middle\" x=\"109\" y=\"-22.951\" font-family=\"Times,serif\" font-size=\"14.00\" fill=\"#000000\">I</text>\n</g>\n<!-- EMPTY&#45;&gt;I -->\n<g id=\"edge1\" class=\"edge\">\n<title>EMPTY&#45;&gt;I</title>\n<path fill=\"none\" stroke=\"#000000\" d=\"M54.3048,-26.651C62.6909,-26.651 71.9407,-26.651 80.4103,-26.651\"/>\n<polygon fill=\"#000000\" stroke=\"#000000\" points=\"80.5976,-30.1511 90.5976,-26.651 80.5976,-23.1511 80.5976,-30.1511\"/>\n</g>\n<!-- I&#45;&gt;I -->\n<g id=\"edge2\" class=\"edge\">\n<title>I&#45;&gt;I</title>\n<path fill=\"none\" stroke=\"#000000\" d=\"M102.6208,-43.6883C101.3189,-53.509 103.4453,-62.651 109,-62.651 112.4717,-62.651 114.6042,-59.0799 115.3975,-54.004\"/>\n<polygon fill=\"#000000\" stroke=\"#000000\" points=\"118.8971,-53.6821 115.3792,-43.6883 111.8971,-53.6946 118.8971,-53.6821\"/>\n<text text-anchor=\"middle\" x=\"109\" y=\"-66.451\" font-family=\"Times,serif\" font-size=\"14.00\" fill=\"#000000\">1 </text>\n</g>\n<!-- A -->\n<g id=\"node3\" class=\"node\">\n<title>A</title>\n<ellipse fill=\"none\" stroke=\"#000000\" cx=\"193\" cy=\"-77.651\" rx=\"18\" ry=\"18\"/>\n<text text-anchor=\"middle\" x=\"193\" y=\"-73.951\" font-family=\"Times,serif\" font-size=\"14.00\" fill=\"#000000\">A</text>\n</g>\n<!-- I&#45;&gt;A -->\n<g id=\"edge3\" class=\"edge\">\n<title>I&#45;&gt;A</title>\n<path fill=\"none\" stroke=\"#000000\" d=\"M124.4069,-36.0052C136.7621,-43.5066 154.333,-54.1747 168.5978,-62.8354\"/>\n<polygon fill=\"#000000\" stroke=\"#000000\" points=\"167.042,-65.9854 177.4063,-68.1834 170.6749,-60.0019 167.042,-65.9854\"/>\n<text text-anchor=\"middle\" x=\"151\" y=\"-58.451\" font-family=\"Times,serif\" font-size=\"14.00\" fill=\"#000000\">0 </text>\n</g>\n<!-- A&#45;&gt;A -->\n<g id=\"edge5\" class=\"edge\">\n<title>A&#45;&gt;A</title>\n<path fill=\"none\" stroke=\"#000000\" d=\"M185.6172,-94.3151C183.9766,-104.276 186.4375,-113.651 193,-113.651 197.2041,-113.651 199.7249,-109.8035 200.5625,-104.4193\"/>\n<polygon fill=\"#000000\" stroke=\"#000000\" points=\"204.0601,-104.2513 200.3828,-94.3151 197.0612,-104.3758 204.0601,-104.2513\"/>\n<text text-anchor=\"middle\" x=\"193\" y=\"-117.451\" font-family=\"Times,serif\" font-size=\"14.00\" fill=\"#000000\">0 </text>\n</g>\n<!-- B -->\n<g id=\"node4\" class=\"node\">\n<title>B</title>\n<ellipse fill=\"none\" stroke=\"#000000\" cx=\"277\" cy=\"-30.651\" rx=\"18\" ry=\"18\"/>\n<text text-anchor=\"middle\" x=\"277\" y=\"-26.951\" font-family=\"Times,serif\" font-size=\"14.00\" fill=\"#000000\">B</text>\n</g>\n<!-- A&#45;&gt;B -->\n<g id=\"edge4\" class=\"edge\">\n<title>A&#45;&gt;B</title>\n<path fill=\"none\" stroke=\"#000000\" d=\"M208.7998,-68.8107C221.0018,-61.9834 238.1161,-52.4075 252.1477,-44.5565\"/>\n<polygon fill=\"#000000\" stroke=\"#000000\" points=\"254.2533,-47.3891 261.2711,-39.4517 250.8352,-41.2803 254.2533,-47.3891\"/>\n<text text-anchor=\"middle\" x=\"235\" y=\"-60.451\" font-family=\"Times,serif\" font-size=\"14.00\" fill=\"#000000\">1 </text>\n</g>\n<!-- B&#45;&gt;I -->\n<g id=\"edge7\" class=\"edge\">\n<title>B&#45;&gt;I</title>\n<path fill=\"none\" stroke=\"#000000\" d=\"M258.9781,-30.222C229.9203,-29.5301 172.4682,-28.1622 137.7186,-27.3348\"/>\n<polygon fill=\"#000000\" stroke=\"#000000\" points=\"137.3793,-23.8258 127.2988,-27.0867 137.2126,-30.8239 137.3793,-23.8258\"/>\n<text text-anchor=\"middle\" x=\"193\" y=\"-32.451\" font-family=\"Times,serif\" font-size=\"14.00\" fill=\"#000000\">1 </text>\n</g>\n<!-- F -->\n<g id=\"node5\" class=\"node\">\n<title>F</title>\n<ellipse fill=\"none\" stroke=\"#000000\" cx=\"365\" cy=\"-30.651\" rx=\"18\" ry=\"18\"/>\n<ellipse fill=\"none\" stroke=\"#000000\" cx=\"365\" cy=\"-30.651\" rx=\"22\" ry=\"22\"/>\n<text text-anchor=\"middle\" x=\"365\" y=\"-26.951\" font-family=\"Times,serif\" font-size=\"14.00\" fill=\"#000000\">F</text>\n</g>\n<!-- B&#45;&gt;F -->\n<g id=\"edge6\" class=\"edge\">\n<title>B&#45;&gt;F</title>\n<path fill=\"none\" stroke=\"#000000\" d=\"M295.2337,-30.651C306.0103,-30.651 319.9708,-30.651 332.5692,-30.651\"/>\n<polygon fill=\"#000000\" stroke=\"#000000\" points=\"332.7317,-34.1511 342.7317,-30.651 332.7317,-27.1511 332.7317,-34.1511\"/>\n<text text-anchor=\"middle\" x=\"319\" y=\"-34.451\" font-family=\"Times,serif\" font-size=\"14.00\" fill=\"#000000\">0 </text>\n</g>\n<!-- F&#45;&gt;I -->\n<g id=\"edge8\" class=\"edge\">\n<title>F&#45;&gt;I</title>\n<path fill=\"none\" stroke=\"#000000\" d=\"M345.0577,-20.6897C331.3574,-14.4201 312.5434,-6.9172 295,-3.651 238.9554,6.7829 172.5024,-7.8381 136.1389,-18.1064\"/>\n<polygon fill=\"#000000\" stroke=\"#000000\" points=\"134.9018,-14.8216 126.2889,-20.9917 136.8696,-21.5394 134.9018,-14.8216\"/>\n<text text-anchor=\"middle\" x=\"235\" y=\"-5.451\" font-family=\"Times,serif\" font-size=\"14.00\" fill=\"#000000\">1 </text>\n</g>\n<!-- F&#45;&gt;A -->\n<g id=\"edge9\" class=\"edge\">\n<title>F&#45;&gt;A</title>\n<path fill=\"none\" stroke=\"#000000\" d=\"M345.3074,-40.693C338.9145,-43.7664 331.733,-47.0255 325,-49.651 288.5895,-63.8492 279.5114,-69.0043 241,-75.651 234.7869,-76.7234 228.0578,-77.3368 221.6591,-77.6688\"/>\n<polygon fill=\"#000000\" stroke=\"#000000\" points=\"221.2369,-74.1803 211.352,-77.9933 221.4572,-81.1768 221.2369,-74.1803\"/>\n<text text-anchor=\"middle\" x=\"277\" y=\"-75.451\" font-family=\"Times,serif\" font-size=\"14.00\" fill=\"#000000\">0 </text>\n</g>\n</g>\n</svg>\n"
          },
          "metadata": {
            "tags": []
          },
          "execution_count": 8
        }
      ]
    },
    {
      "cell_type": "markdown",
      "metadata": {
        "id": "t4dnVrohVE4t"
      },
      "source": [
        "## Obtain the intersection of Even010 and Ends010"
      ]
    },
    {
      "cell_type": "code",
      "metadata": {
        "scrolled": true,
        "colab": {
          "base_uri": "https://localhost:8080/",
          "height": 360
        },
        "id": "tZTAQzwIVE4u",
        "outputId": "02bc0c80-5d41-4824-8a07-3fac5697e954"
      },
      "source": [
        "Even010_Ends010 = intersect_dfa(Even010, Ends010)\n",
        "dotObj_dfa(Even010_Ends010)"
      ],
      "execution_count": 9,
      "outputs": [
        {
          "output_type": "execute_result",
          "data": {
            "text/plain": [
              "<graphviz.dot.Digraph at 0x7f4e51fc6630>"
            ],
            "image/svg+xml": "<?xml version=\"1.0\" encoding=\"UTF-8\" standalone=\"no\"?>\n<!DOCTYPE svg PUBLIC \"-//W3C//DTD SVG 1.1//EN\"\n \"http://www.w3.org/Graphics/SVG/1.1/DTD/svg11.dtd\">\n<!-- Generated by graphviz version 2.40.1 (20161225.0304)\n -->\n<!-- Title: %3 Pages: 1 -->\n<svg width=\"1254pt\" height=\"240pt\"\n viewBox=\"0.00 0.00 1253.94 239.84\" xmlns=\"http://www.w3.org/2000/svg\" xmlns:xlink=\"http://www.w3.org/1999/xlink\">\n<g id=\"graph0\" class=\"graph\" transform=\"scale(1 1) rotate(0) translate(4 235.8437)\">\n<title>%3</title>\n<polygon fill=\"#ffffff\" stroke=\"transparent\" points=\"-4,4 -4,-235.8437 1249.9366,-235.8437 1249.9366,4 -4,4\"/>\n<!-- EMPTY -->\n<g id=\"node1\" class=\"node\">\n<title>EMPTY</title>\n</g>\n<!-- \\(IF_I\\) -->\n<g id=\"node6\" class=\"node\">\n<title>\\(IF_I\\)</title>\n<ellipse fill=\"none\" stroke=\"#000000\" cx=\"123.4971\" cy=\"-95.2964\" rx=\"32.4942\" ry=\"32.4942\"/>\n<text text-anchor=\"middle\" x=\"123.4971\" y=\"-91.5964\" font-family=\"Times,serif\" font-size=\"14.00\" fill=\"#000000\">(IF_I)</text>\n</g>\n<!-- EMPTY&#45;&gt;\\(IF_I\\) -->\n<g id=\"edge1\" class=\"edge\">\n<title>EMPTY&#45;&gt;\\(IF_I\\)</title>\n<path fill=\"none\" stroke=\"#000000\" d=\"M54.1366,-95.2964C62.3991,-95.2964 71.6905,-95.2964 80.7226,-95.2964\"/>\n<polygon fill=\"#000000\" stroke=\"#000000\" points=\"80.7414,-98.7965 90.7413,-95.2964 80.7413,-91.7965 80.7414,-98.7965\"/>\n</g>\n<!-- \\(FB_B\\) -->\n<g id=\"node2\" class=\"node\">\n<title>\\(FB_B\\)</title>\n<ellipse fill=\"none\" stroke=\"#000000\" cx=\"372.2336\" cy=\"-95.2964\" rx=\"39.7935\" ry=\"39.7935\"/>\n<text text-anchor=\"middle\" x=\"372.2336\" y=\"-91.5964\" font-family=\"Times,serif\" font-size=\"14.00\" fill=\"#000000\">(FB_B)</text>\n</g>\n<!-- \\(C_F\\) -->\n<g id=\"node4\" class=\"node\">\n<title>\\(C_F\\)</title>\n<ellipse fill=\"none\" stroke=\"#000000\" cx=\"493.0271\" cy=\"-95.2964\" rx=\"33.2948\" ry=\"33.2948\"/>\n<text text-anchor=\"middle\" x=\"493.0271\" y=\"-91.5964\" font-family=\"Times,serif\" font-size=\"14.00\" fill=\"#000000\">(C_F)</text>\n</g>\n<!-- \\(FB_B\\)&#45;&gt;\\(C_F\\) -->\n<g id=\"edge3\" class=\"edge\">\n<title>\\(FB_B\\)&#45;&gt;\\(C_F\\)</title>\n<path fill=\"none\" stroke=\"#000000\" d=\"M412.1207,-95.2964C424.0263,-95.2964 437.1386,-95.2964 449.2776,-95.2964\"/>\n<polygon fill=\"#000000\" stroke=\"#000000\" points=\"449.64,-98.7965 459.6399,-95.2964 449.6399,-91.7965 449.64,-98.7965\"/>\n<text text-anchor=\"middle\" x=\"435.88\" y=\"-99.0964\" font-family=\"Times,serif\" font-size=\"14.00\" fill=\"#000000\">0 </text>\n</g>\n<!-- \\(FB_B\\)&#45;&gt;\\(IF_I\\) -->\n<g id=\"edge6\" class=\"edge\">\n<title>\\(FB_B\\)&#45;&gt;\\(IF_I\\)</title>\n<path fill=\"none\" stroke=\"#000000\" d=\"M334.8435,-109.5115C319.5094,-114.6274 301.4339,-119.7604 284.5871,-122.2964 249.1671,-127.6285 239.3454,-128.0671 203.9942,-122.2964 190.3147,-120.0634 175.8241,-115.8281 162.9638,-111.3626\"/>\n<polygon fill=\"#000000\" stroke=\"#000000\" points=\"164.0818,-108.0451 153.4876,-107.9324 161.6992,-114.6272 164.0818,-108.0451\"/>\n<text text-anchor=\"middle\" x=\"244.2907\" y=\"-130.0964\" font-family=\"Times,serif\" font-size=\"14.00\" fill=\"#000000\">1 </text>\n</g>\n<!-- \\(F_I\\) -->\n<g id=\"node3\" class=\"node\">\n<title>\\(F_I\\)</title>\n<ellipse fill=\"none\" stroke=\"#000000\" cx=\"958.8535\" cy=\"-72.2964\" rx=\"29.795\" ry=\"29.795\"/>\n<text text-anchor=\"middle\" x=\"958.8535\" y=\"-68.5964\" font-family=\"Times,serif\" font-size=\"14.00\" fill=\"#000000\">(F_I)</text>\n</g>\n<!-- \\(F_I\\)&#45;&gt;\\(F_I\\) -->\n<g id=\"edge14\" class=\"edge\">\n<title>\\(F_I\\)&#45;&gt;\\(F_I\\)</title>\n<path fill=\"none\" stroke=\"#000000\" d=\"M949.1249,-100.8165C948.806,-111.4449 952.0488,-120.1938 958.8535,-120.1938 963.3191,-120.1938 966.2507,-116.426 967.6484,-110.8317\"/>\n<polygon fill=\"#000000\" stroke=\"#000000\" points=\"971.1386,-111.0982 968.5821,-100.8165 964.1689,-110.4484 971.1386,-111.0982\"/>\n<text text-anchor=\"middle\" x=\"958.8535\" y=\"-123.9938\" font-family=\"Times,serif\" font-size=\"14.00\" fill=\"#000000\">1 </text>\n</g>\n<!-- \\(FG_A\\) -->\n<g id=\"node9\" class=\"node\">\n<title>\\(FG_A\\)</title>\n<ellipse fill=\"none\" stroke=\"#000000\" cx=\"1077.0473\" cy=\"-137.2964\" rx=\"40.0939\" ry=\"40.0939\"/>\n<text text-anchor=\"middle\" x=\"1077.0473\" y=\"-133.5964\" font-family=\"Times,serif\" font-size=\"14.00\" fill=\"#000000\">(FG_A)</text>\n</g>\n<!-- \\(F_I\\)&#45;&gt;\\(FG_A\\) -->\n<g id=\"edge18\" class=\"edge\">\n<title>\\(F_I\\)&#45;&gt;\\(FG_A\\)</title>\n<path fill=\"none\" stroke=\"#000000\" d=\"M985.0845,-86.722C998.9564,-94.3508 1016.3706,-103.9276 1032.3033,-112.6897\"/>\n<polygon fill=\"#000000\" stroke=\"#000000\" points=\"1031.0261,-115.9817 1041.4751,-117.7337 1034.3993,-109.848 1031.0261,-115.9817\"/>\n<text text-anchor=\"middle\" x=\"1012.7509\" y=\"-108.0964\" font-family=\"Times,serif\" font-size=\"14.00\" fill=\"#000000\">0 </text>\n</g>\n<!-- \\(D_A\\) -->\n<g id=\"node7\" class=\"node\">\n<title>\\(D_A\\)</title>\n<ellipse fill=\"none\" stroke=\"#000000\" cx=\"609.271\" cy=\"-95.2964\" rx=\"35.194\" ry=\"35.194\"/>\n<text text-anchor=\"middle\" x=\"609.271\" y=\"-91.5964\" font-family=\"Times,serif\" font-size=\"14.00\" fill=\"#000000\">(D_A)</text>\n</g>\n<!-- \\(C_F\\)&#45;&gt;\\(D_A\\) -->\n<g id=\"edge12\" class=\"edge\">\n<title>\\(C_F\\)&#45;&gt;\\(D_A\\)</title>\n<path fill=\"none\" stroke=\"#000000\" d=\"M526.338,-95.2964C537.9738,-95.2964 551.2429,-95.2964 563.7036,-95.2964\"/>\n<polygon fill=\"#000000\" stroke=\"#000000\" points=\"563.9268,-98.7965 573.9268,-95.2964 563.9267,-91.7965 563.9268,-98.7965\"/>\n<text text-anchor=\"middle\" x=\"550.1742\" y=\"-99.0964\" font-family=\"Times,serif\" font-size=\"14.00\" fill=\"#000000\">0 </text>\n</g>\n<!-- \\(C_I\\) -->\n<g id=\"node10\" class=\"node\">\n<title>\\(C_I\\)</title>\n<ellipse fill=\"none\" stroke=\"#000000\" cx=\"844.4591\" cy=\"-168.2964\" rx=\"30.5947\" ry=\"30.5947\"/>\n<text text-anchor=\"middle\" x=\"844.4591\" y=\"-164.5964\" font-family=\"Times,serif\" font-size=\"14.00\" fill=\"#000000\">(C_I)</text>\n</g>\n<!-- \\(C_F\\)&#45;&gt;\\(C_I\\) -->\n<g id=\"edge2\" class=\"edge\">\n<title>\\(C_F\\)&#45;&gt;\\(C_I\\)</title>\n<path fill=\"none\" stroke=\"#000000\" d=\"M512.6714,-122.5776C527.3319,-140.4524 549.1005,-162.2936 574.1742,-172.2964 651.1598,-203.0089 750.5684,-189.4397 804.8168,-178.0713\"/>\n<polygon fill=\"#000000\" stroke=\"#000000\" points=\"805.6989,-181.4613 814.7248,-175.9131 804.209,-174.6217 805.6989,-181.4613\"/>\n<text text-anchor=\"middle\" x=\"668.3679\" y=\"-194.0964\" font-family=\"Times,serif\" font-size=\"14.00\" fill=\"#000000\">1 </text>\n</g>\n<!-- \\(FH_B\\) -->\n<g id=\"node5\" class=\"node\">\n<title>\\(FH_B\\)</title>\n<ellipse fill=\"none\" stroke=\"#000000\" cx=\"1205.6401\" cy=\"-64.2964\" rx=\"40.0939\" ry=\"40.0939\"/>\n<text text-anchor=\"middle\" x=\"1205.6401\" y=\"-60.5964\" font-family=\"Times,serif\" font-size=\"14.00\" fill=\"#000000\">(FH_B)</text>\n</g>\n<!-- \\(FH_B\\)&#45;&gt;\\(F_I\\) -->\n<g id=\"edge9\" class=\"edge\">\n<title>\\(FH_B\\)&#45;&gt;\\(F_I\\)</title>\n<path fill=\"none\" stroke=\"#000000\" d=\"M1165.3026,-65.604C1119.4828,-67.0894 1045.1445,-69.4992 999.2856,-70.9858\"/>\n<polygon fill=\"#000000\" stroke=\"#000000\" points=\"998.9957,-67.4932 989.1144,-71.3155 999.2226,-74.4895 998.9957,-67.4932\"/>\n<text text-anchor=\"middle\" x=\"1077.0473\" y=\"-74.0964\" font-family=\"Times,serif\" font-size=\"14.00\" fill=\"#000000\">1 </text>\n</g>\n<!-- \\(FH_B\\)&#45;&gt;\\(C_F\\) -->\n<g id=\"edge7\" class=\"edge\">\n<title>\\(FH_B\\)&#45;&gt;\\(C_F\\)</title>\n<path fill=\"none\" stroke=\"#000000\" d=\"M1171.2839,-42.9469C1146.149,-29.357 1110.7018,-14.2964 1077.0473,-14.2964 609.271,-14.2964 609.271,-14.2964 609.271,-14.2964 574.1332,-14.2964 542.0141,-39.5182 520.4861,-61.8135\"/>\n<polygon fill=\"#000000\" stroke=\"#000000\" points=\"517.8454,-59.5136 513.6022,-69.2217 522.9733,-64.2786 517.8454,-59.5136\"/>\n<text text-anchor=\"middle\" x=\"844.4591\" y=\"-18.0964\" font-family=\"Times,serif\" font-size=\"14.00\" fill=\"#000000\">0 </text>\n</g>\n<!-- \\(IF_I\\)&#45;&gt;\\(IF_I\\) -->\n<g id=\"edge5\" class=\"edge\">\n<title>\\(IF_I\\)&#45;&gt;\\(IF_I\\)</title>\n<path fill=\"none\" stroke=\"#000000\" d=\"M114.1221,-126.8571C114.1221,-137.3774 117.2471,-145.7935 123.4971,-145.7935 127.501,-145.7935 130.2224,-142.3395 131.6613,-137.0911\"/>\n<polygon fill=\"#000000\" stroke=\"#000000\" points=\"135.1729,-137.1991 132.8721,-126.8571 128.2214,-136.3766 135.1729,-137.1991\"/>\n<text text-anchor=\"middle\" x=\"123.4971\" y=\"-149.5935\" font-family=\"Times,serif\" font-size=\"14.00\" fill=\"#000000\">1 </text>\n</g>\n<!-- \\(FA_A\\) -->\n<g id=\"node8\" class=\"node\">\n<title>\\(FA_A\\)</title>\n<ellipse fill=\"none\" stroke=\"#000000\" cx=\"244.2907\" cy=\"-40.2964\" rx=\"40.0939\" ry=\"40.0939\"/>\n<text text-anchor=\"middle\" x=\"244.2907\" y=\"-36.5964\" font-family=\"Times,serif\" font-size=\"14.00\" fill=\"#000000\">(FA_A)</text>\n</g>\n<!-- \\(IF_I\\)&#45;&gt;\\(FA_A\\) -->\n<g id=\"edge8\" class=\"edge\">\n<title>\\(IF_I\\)&#45;&gt;\\(FA_A\\)</title>\n<path fill=\"none\" stroke=\"#000000\" d=\"M153.3562,-81.7009C166.8946,-75.5366 183.211,-68.1074 198.2633,-61.2537\"/>\n<polygon fill=\"#000000\" stroke=\"#000000\" points=\"199.7853,-64.4065 207.4359,-57.0772 196.8845,-58.0358 199.7853,-64.4065\"/>\n<text text-anchor=\"middle\" x=\"179.9942\" y=\"-75.0964\" font-family=\"Times,serif\" font-size=\"14.00\" fill=\"#000000\">0 </text>\n</g>\n<!-- \\(D_A\\)&#45;&gt;\\(D_A\\) -->\n<g id=\"edge23\" class=\"edge\">\n<title>\\(D_A\\)&#45;&gt;\\(D_A\\)</title>\n<path fill=\"none\" stroke=\"#000000\" d=\"M598.3967,-128.7408C598.4529,-139.6816 602.0777,-148.3933 609.271,-148.3933 613.9917,-148.3933 617.1755,-144.6415 618.8224,-138.97\"/>\n<polygon fill=\"#000000\" stroke=\"#000000\" points=\"622.3337,-139.1072 620.1454,-128.7408 615.3915,-138.2093 622.3337,-139.1072\"/>\n<text text-anchor=\"middle\" x=\"609.271\" y=\"-152.1933\" font-family=\"Times,serif\" font-size=\"14.00\" fill=\"#000000\">0 </text>\n</g>\n<!-- \\(E_B\\) -->\n<g id=\"node11\" class=\"node\">\n<title>\\(E_B\\)</title>\n<ellipse fill=\"none\" stroke=\"#000000\" cx=\"726.1649\" cy=\"-83.2964\" rx=\"33.5952\" ry=\"33.5952\"/>\n<text text-anchor=\"middle\" x=\"726.1649\" y=\"-79.5964\" font-family=\"Times,serif\" font-size=\"14.00\" fill=\"#000000\">(E_B)</text>\n</g>\n<!-- \\(D_A\\)&#45;&gt;\\(E_B\\) -->\n<g id=\"edge4\" class=\"edge\">\n<title>\\(D_A\\)&#45;&gt;\\(E_B\\)</title>\n<path fill=\"none\" stroke=\"#000000\" d=\"M644.3431,-91.696C656.2168,-90.4771 669.6316,-89.1 682.1125,-87.8187\"/>\n<polygon fill=\"#000000\" stroke=\"#000000\" points=\"682.7322,-91.2736 692.3225,-86.7706 682.0173,-84.3102 682.7322,-91.2736\"/>\n<text text-anchor=\"middle\" x=\"668.3679\" y=\"-94.0964\" font-family=\"Times,serif\" font-size=\"14.00\" fill=\"#000000\">1 </text>\n</g>\n<!-- \\(FA_A\\)&#45;&gt;\\(FB_B\\) -->\n<g id=\"edge11\" class=\"edge\">\n<title>\\(FA_A\\)&#45;&gt;\\(FB_B\\)</title>\n<path fill=\"none\" stroke=\"#000000\" d=\"M281.641,-56.3526C295.557,-62.3348 311.5187,-69.1964 326.1287,-75.4769\"/>\n<polygon fill=\"#000000\" stroke=\"#000000\" points=\"324.9299,-78.7712 335.4993,-79.5051 327.6945,-72.3402 324.9299,-78.7712\"/>\n<text text-anchor=\"middle\" x=\"308.5871\" y=\"-74.0964\" font-family=\"Times,serif\" font-size=\"14.00\" fill=\"#000000\">1 </text>\n</g>\n<!-- \\(FA_A\\)&#45;&gt;\\(FA_A\\) -->\n<g id=\"edge20\" class=\"edge\">\n<title>\\(FA_A\\)&#45;&gt;\\(FA_A\\)</title>\n<path fill=\"none\" stroke=\"#000000\" d=\"M232.3375,-78.9786C232.8063,-90.0533 236.7907,-98.5928 244.2907,-98.5928 249.2125,-98.5928 252.6204,-94.9152 254.5141,-89.2568\"/>\n<polygon fill=\"#000000\" stroke=\"#000000\" points=\"258.0357,-89.4208 256.2438,-78.9786 251.1327,-88.2591 258.0357,-89.4208\"/>\n<text text-anchor=\"middle\" x=\"244.2907\" y=\"-102.3928\" font-family=\"Times,serif\" font-size=\"14.00\" fill=\"#000000\">0 </text>\n</g>\n<!-- \\(FG_A\\)&#45;&gt;\\(FH_B\\) -->\n<g id=\"edge21\" class=\"edge\">\n<title>\\(FG_A\\)&#45;&gt;\\(FH_B\\)</title>\n<path fill=\"none\" stroke=\"#000000\" d=\"M1112.1859,-117.3489C1127.4954,-108.6579 1145.6031,-98.3785 1161.7833,-89.1932\"/>\n<polygon fill=\"#000000\" stroke=\"#000000\" points=\"1163.5755,-92.2005 1170.5441,-84.2199 1160.1197,-86.113 1163.5755,-92.2005\"/>\n<text text-anchor=\"middle\" x=\"1141.3437\" y=\"-106.0964\" font-family=\"Times,serif\" font-size=\"14.00\" fill=\"#000000\">1 </text>\n</g>\n<!-- \\(FG_A\\)&#45;&gt;\\(FG_A\\) -->\n<g id=\"edge15\" class=\"edge\">\n<title>\\(FG_A\\)&#45;&gt;\\(FG_A\\)</title>\n<path fill=\"none\" stroke=\"#000000\" d=\"M1065.0942,-175.9786C1065.5629,-187.0533 1069.5473,-195.5928 1077.0473,-195.5928 1081.9692,-195.5928 1085.377,-191.9152 1087.2708,-186.2568\"/>\n<polygon fill=\"#000000\" stroke=\"#000000\" points=\"1090.7923,-186.4208 1089.0004,-175.9786 1083.8894,-185.2591 1090.7923,-186.4208\"/>\n<text text-anchor=\"middle\" x=\"1077.0473\" y=\"-199.3928\" font-family=\"Times,serif\" font-size=\"14.00\" fill=\"#000000\">0 </text>\n</g>\n<!-- \\(C_I\\)&#45;&gt;\\(D_A\\) -->\n<g id=\"edge16\" class=\"edge\">\n<title>\\(C_I\\)&#45;&gt;\\(D_A\\)</title>\n<path fill=\"none\" stroke=\"#000000\" d=\"M814.7906,-160.9253C783.9696,-153.0764 734.4548,-139.929 692.3679,-126.2964 679.0607,-121.986 664.734,-116.8311 651.7869,-111.9739\"/>\n<polygon fill=\"#000000\" stroke=\"#000000\" points=\"652.7862,-108.6097 642.1949,-108.3364 650.3041,-115.1548 652.7862,-108.6097\"/>\n<text text-anchor=\"middle\" x=\"726.1649\" y=\"-149.0964\" font-family=\"Times,serif\" font-size=\"14.00\" fill=\"#000000\">0 </text>\n</g>\n<!-- \\(C_I\\)&#45;&gt;\\(C_I\\) -->\n<g id=\"edge19\" class=\"edge\">\n<title>\\(C_I\\)&#45;&gt;\\(C_I\\)</title>\n<path fill=\"none\" stroke=\"#000000\" d=\"M833.253,-196.7199C832.755,-207.7095 836.4903,-216.8437 844.4591,-216.8437 849.8131,-216.8437 853.256,-212.7204 854.788,-206.6813\"/>\n<polygon fill=\"#000000\" stroke=\"#000000\" points=\"858.2744,-206.9884 855.6651,-196.7199 851.3014,-206.3743 858.2744,-206.9884\"/>\n<text text-anchor=\"middle\" x=\"844.4591\" y=\"-220.6437\" font-family=\"Times,serif\" font-size=\"14.00\" fill=\"#000000\">1 </text>\n</g>\n<!-- \\(E_B\\)&#45;&gt;\\(C_I\\) -->\n<g id=\"edge17\" class=\"edge\">\n<title>\\(E_B\\)&#45;&gt;\\(C_I\\)</title>\n<path fill=\"none\" stroke=\"#000000\" d=\"M755.1876,-101.0189C766.2488,-108.0134 778.8595,-116.2826 789.9619,-124.2964 797.6373,-129.8365 805.6838,-136.0758 813.166,-142.0767\"/>\n<polygon fill=\"#000000\" stroke=\"#000000\" points=\"811.0492,-144.8663 821.0194,-148.4505 815.4604,-139.4311 811.0492,-144.8663\"/>\n<text text-anchor=\"middle\" x=\"783.9619\" y=\"-128.0964\" font-family=\"Times,serif\" font-size=\"14.00\" fill=\"#000000\">1 </text>\n</g>\n<!-- \\(F_F\\) -->\n<g id=\"node12\" class=\"node\">\n<title>\\(F_F\\)</title>\n<ellipse fill=\"none\" stroke=\"#000000\" cx=\"844.4591\" cy=\"-83.2964\" rx=\"32.4945\" ry=\"32.4945\"/>\n<ellipse fill=\"none\" stroke=\"#000000\" cx=\"844.4591\" cy=\"-83.2964\" rx=\"36.4942\" ry=\"36.4942\"/>\n<text text-anchor=\"middle\" x=\"844.4591\" y=\"-79.5964\" font-family=\"Times,serif\" font-size=\"14.00\" fill=\"#000000\">(F_F)</text>\n</g>\n<!-- \\(E_B\\)&#45;&gt;\\(F_F\\) -->\n<g id=\"edge10\" class=\"edge\">\n<title>\\(E_B\\)&#45;&gt;\\(F_F\\)</title>\n<path fill=\"none\" stroke=\"#000000\" d=\"M760.0633,-83.2964C771.691,-83.2964 784.9214,-83.2964 797.4017,-83.2964\"/>\n<polygon fill=\"#000000\" stroke=\"#000000\" points=\"797.657,-86.7965 807.657,-83.2964 797.657,-79.7965 797.657,-86.7965\"/>\n<text text-anchor=\"middle\" x=\"783.9619\" y=\"-87.0964\" font-family=\"Times,serif\" font-size=\"14.00\" fill=\"#000000\">0 </text>\n</g>\n<!-- \\(F_F\\)&#45;&gt;\\(F_I\\) -->\n<g id=\"edge22\" class=\"edge\">\n<title>\\(F_F\\)&#45;&gt;\\(F_I\\)</title>\n<path fill=\"none\" stroke=\"#000000\" d=\"M880.9687,-79.7857C893.0245,-78.6264 906.4974,-77.3309 918.8035,-76.1476\"/>\n<polygon fill=\"#000000\" stroke=\"#000000\" points=\"919.1904,-79.6266 928.8094,-75.1854 918.5203,-72.6588 919.1904,-79.6266\"/>\n<text text-anchor=\"middle\" x=\"904.9562\" y=\"-82.0964\" font-family=\"Times,serif\" font-size=\"14.00\" fill=\"#000000\">1 </text>\n</g>\n<!-- \\(F_F\\)&#45;&gt;\\(FG_A\\) -->\n<g id=\"edge13\" class=\"edge\">\n<title>\\(F_F\\)&#45;&gt;\\(FG_A\\)</title>\n<path fill=\"none\" stroke=\"#000000\" d=\"M870.9164,-109.0868C886.456,-122.3979 907.2642,-137.2846 928.9562,-144.2964 960.723,-154.5649 998.3162,-152.6309 1027.6768,-148.2237\"/>\n<polygon fill=\"#000000\" stroke=\"#000000\" points=\"1028.3954,-151.6527 1037.6956,-146.5776 1027.2604,-144.7453 1028.3954,-151.6527\"/>\n<text text-anchor=\"middle\" x=\"958.8535\" y=\"-155.0964\" font-family=\"Times,serif\" font-size=\"14.00\" fill=\"#000000\">0 </text>\n</g>\n</g>\n</svg>\n"
          },
          "metadata": {
            "tags": []
          },
          "execution_count": 9
        }
      ]
    },
    {
      "cell_type": "markdown",
      "metadata": {
        "id": "DvgZawOXVE4u"
      },
      "source": [
        "## Minimize the intersection of Even010 and Ends010"
      ]
    },
    {
      "cell_type": "code",
      "metadata": {
        "colab": {
          "base_uri": "https://localhost:8080/",
          "height": 358
        },
        "id": "NjqUVfwiVE4u",
        "outputId": "b383b501-fb29-427b-a05d-de27ef1ec3f3"
      },
      "source": [
        "min_Even010_Ends010 = min_dfa(Even010_Ends010)\n",
        "dotObj_dfa(min_Even010_Ends010)"
      ],
      "execution_count": 10,
      "outputs": [
        {
          "output_type": "execute_result",
          "data": {
            "text/plain": [
              "<graphviz.dot.Digraph at 0x7f4e51fc67b8>"
            ],
            "image/svg+xml": "<?xml version=\"1.0\" encoding=\"UTF-8\" standalone=\"no\"?>\n<!DOCTYPE svg PUBLIC \"-//W3C//DTD SVG 1.1//EN\"\n \"http://www.w3.org/Graphics/SVG/1.1/DTD/svg11.dtd\">\n<!-- Generated by graphviz version 2.40.1 (20161225.0304)\n -->\n<!-- Title: %3 Pages: 1 -->\n<svg width=\"890pt\" height=\"253pt\"\n viewBox=\"0.00 0.00 890.26 253.10\" xmlns=\"http://www.w3.org/2000/svg\" xmlns:xlink=\"http://www.w3.org/1999/xlink\">\n<g id=\"graph0\" class=\"graph\" transform=\"scale(1 1) rotate(0) translate(4 249.0969)\">\n<title>%3</title>\n<polygon fill=\"#ffffff\" stroke=\"transparent\" points=\"-4,4 -4,-249.0969 886.2561,-249.0969 886.2561,4 -4,4\"/>\n<!-- EMPTY -->\n<g id=\"node1\" class=\"node\">\n<title>EMPTY</title>\n</g>\n<!-- \\(IF_I\\) -->\n<g id=\"node4\" class=\"node\">\n<title>\\(IF_I\\)</title>\n<ellipse fill=\"none\" stroke=\"#000000\" cx=\"123.4971\" cy=\"-68\" rx=\"32.4942\" ry=\"32.4942\"/>\n<text text-anchor=\"middle\" x=\"123.4971\" y=\"-64.3\" font-family=\"Times,serif\" font-size=\"14.00\" fill=\"#000000\">(IF_I)</text>\n</g>\n<!-- EMPTY&#45;&gt;\\(IF_I\\) -->\n<g id=\"edge1\" class=\"edge\">\n<title>EMPTY&#45;&gt;\\(IF_I\\)</title>\n<path fill=\"none\" stroke=\"#000000\" d=\"M54.1366,-68C62.3991,-68 71.6905,-68 80.7226,-68\"/>\n<polygon fill=\"#000000\" stroke=\"#000000\" points=\"80.7414,-71.5001 90.7413,-68 80.7413,-64.5001 80.7414,-71.5001\"/>\n</g>\n<!-- \\(C_F\\) -->\n<g id=\"node2\" class=\"node\">\n<title>\\(C_F\\)</title>\n<ellipse fill=\"none\" stroke=\"#000000\" cx=\"494.327\" cy=\"-128\" rx=\"33.2948\" ry=\"33.2948\"/>\n<text text-anchor=\"middle\" x=\"494.327\" y=\"-124.3\" font-family=\"Times,serif\" font-size=\"14.00\" fill=\"#000000\">(C_F)</text>\n</g>\n<!-- \\(C_F\\)&#45;&gt;\\(C_F\\) -->\n<g id=\"edge2\" class=\"edge\">\n<title>\\(C_F\\)&#45;&gt;\\(C_F\\)</title>\n<path fill=\"none\" stroke=\"#000000\" d=\"M483.8296,-159.4659C483.7185,-170.3541 487.2176,-179.1471 494.327,-179.1471 498.9925,-179.1471 502.1032,-175.3602 503.6592,-169.6795\"/>\n<polygon fill=\"#000000\" stroke=\"#000000\" points=\"507.1683,-169.7982 504.8244,-159.4659 500.2134,-169.0047 507.1683,-169.7982\"/>\n<text text-anchor=\"middle\" x=\"494.327\" y=\"-182.9471\" font-family=\"Times,serif\" font-size=\"14.00\" fill=\"#000000\">1 </text>\n</g>\n<!-- \\(D_A\\) -->\n<g id=\"node5\" class=\"node\">\n<title>\\(D_A\\)</title>\n<ellipse fill=\"none\" stroke=\"#000000\" cx=\"610.5709\" cy=\"-177\" rx=\"35.194\" ry=\"35.194\"/>\n<text text-anchor=\"middle\" x=\"610.5709\" y=\"-173.3\" font-family=\"Times,serif\" font-size=\"14.00\" fill=\"#000000\">(D_A)</text>\n</g>\n<!-- \\(C_F\\)&#45;&gt;\\(D_A\\) -->\n<g id=\"edge10\" class=\"edge\">\n<title>\\(C_F\\)&#45;&gt;\\(D_A\\)</title>\n<path fill=\"none\" stroke=\"#000000\" d=\"M525.173,-141.0025C538.3983,-146.5773 554.0603,-153.1792 568.337,-159.1972\"/>\n<polygon fill=\"#000000\" stroke=\"#000000\" points=\"567.3782,-162.5913 577.9525,-163.2505 570.0973,-156.1409 567.3782,-162.5913\"/>\n<text text-anchor=\"middle\" x=\"551.474\" y=\"-156.8\" font-family=\"Times,serif\" font-size=\"14.00\" fill=\"#000000\">0 </text>\n</g>\n<!-- \\(FH_B\\) -->\n<g id=\"node3\" class=\"node\">\n<title>\\(FH_B\\)</title>\n<ellipse fill=\"none\" stroke=\"#000000\" cx=\"372.8835\" cy=\"-128\" rx=\"40.0939\" ry=\"40.0939\"/>\n<text text-anchor=\"middle\" x=\"372.8835\" y=\"-124.3\" font-family=\"Times,serif\" font-size=\"14.00\" fill=\"#000000\">(FH_B)</text>\n</g>\n<!-- \\(FH_B\\)&#45;&gt;\\(C_F\\) -->\n<g id=\"edge3\" class=\"edge\">\n<title>\\(FH_B\\)&#45;&gt;\\(C_F\\)</title>\n<path fill=\"none\" stroke=\"#000000\" d=\"M413.3224,-128C425.3974,-128 438.6814,-128 450.9372,-128\"/>\n<polygon fill=\"#000000\" stroke=\"#000000\" points=\"450.9412,-131.5001 460.9412,-128 450.9412,-124.5001 450.9412,-131.5001\"/>\n<text text-anchor=\"middle\" x=\"437.1799\" y=\"-131.8\" font-family=\"Times,serif\" font-size=\"14.00\" fill=\"#000000\">0 </text>\n</g>\n<!-- \\(FH_B\\)&#45;&gt;\\(IF_I\\) -->\n<g id=\"edge6\" class=\"edge\">\n<title>\\(FH_B\\)&#45;&gt;\\(IF_I\\)</title>\n<path fill=\"none\" stroke=\"#000000\" d=\"M335.5141,-143.5019C300.2814,-155.6974 246.6645,-167.9062 203.9942,-150 181.3882,-140.5136 161.9361,-121.2388 147.8192,-103.7594\"/>\n<polygon fill=\"#000000\" stroke=\"#000000\" points=\"150.2165,-101.1384 141.3273,-95.3736 144.6813,-105.4236 150.2165,-101.1384\"/>\n<text text-anchor=\"middle\" x=\"244.2907\" y=\"-162.8\" font-family=\"Times,serif\" font-size=\"14.00\" fill=\"#000000\">1 </text>\n</g>\n<!-- \\(IF_I\\)&#45;&gt;\\(IF_I\\) -->\n<g id=\"edge5\" class=\"edge\">\n<title>\\(IF_I\\)&#45;&gt;\\(IF_I\\)</title>\n<path fill=\"none\" stroke=\"#000000\" d=\"M114.1221,-99.5607C114.1221,-110.0809 117.2471,-118.4971 123.4971,-118.4971 127.501,-118.4971 130.2224,-115.0431 131.6613,-109.7946\"/>\n<polygon fill=\"#000000\" stroke=\"#000000\" points=\"135.1729,-109.9027 132.8721,-99.5607 128.2214,-109.0802 135.1729,-109.9027\"/>\n<text text-anchor=\"middle\" x=\"123.4971\" y=\"-122.2971\" font-family=\"Times,serif\" font-size=\"14.00\" fill=\"#000000\">1 </text>\n</g>\n<!-- \\(FA_A\\) -->\n<g id=\"node6\" class=\"node\">\n<title>\\(FA_A\\)</title>\n<ellipse fill=\"none\" stroke=\"#000000\" cx=\"244.2907\" cy=\"-68\" rx=\"40.0939\" ry=\"40.0939\"/>\n<text text-anchor=\"middle\" x=\"244.2907\" y=\"-64.3\" font-family=\"Times,serif\" font-size=\"14.00\" fill=\"#000000\">(FA_A)</text>\n</g>\n<!-- \\(IF_I\\)&#45;&gt;\\(FA_A\\) -->\n<g id=\"edge7\" class=\"edge\">\n<title>\\(IF_I\\)&#45;&gt;\\(FA_A\\)</title>\n<path fill=\"none\" stroke=\"#000000\" d=\"M156.1856,-68C167.7633,-68 181.0753,-68 193.7864,-68\"/>\n<polygon fill=\"#000000\" stroke=\"#000000\" points=\"193.807,-71.5001 203.807,-68 193.807,-64.5001 193.807,-71.5001\"/>\n<text text-anchor=\"middle\" x=\"179.9942\" y=\"-71.8\" font-family=\"Times,serif\" font-size=\"14.00\" fill=\"#000000\">0 </text>\n</g>\n<!-- \\(D_A\\)&#45;&gt;\\(D_A\\) -->\n<g id=\"edge15\" class=\"edge\">\n<title>\\(D_A\\)&#45;&gt;\\(D_A\\)</title>\n<path fill=\"none\" stroke=\"#000000\" d=\"M599.6966,-210.4444C599.7528,-221.3851 603.3776,-230.0969 610.5709,-230.0969 615.2916,-230.0969 618.4754,-226.345 620.1223,-220.6736\"/>\n<polygon fill=\"#000000\" stroke=\"#000000\" points=\"623.6336,-220.8108 621.4453,-210.4444 616.6914,-219.9128 623.6336,-220.8108\"/>\n<text text-anchor=\"middle\" x=\"610.5709\" y=\"-233.8969\" font-family=\"Times,serif\" font-size=\"14.00\" fill=\"#000000\">0 </text>\n</g>\n<!-- \\(E_B\\) -->\n<g id=\"node7\" class=\"node\">\n<title>\\(E_B\\)</title>\n<ellipse fill=\"none\" stroke=\"#000000\" cx=\"727.4648\" cy=\"-117\" rx=\"33.5952\" ry=\"33.5952\"/>\n<text text-anchor=\"middle\" x=\"727.4648\" y=\"-113.3\" font-family=\"Times,serif\" font-size=\"14.00\" fill=\"#000000\">(E_B)</text>\n</g>\n<!-- \\(D_A\\)&#45;&gt;\\(E_B\\) -->\n<g id=\"edge4\" class=\"edge\">\n<title>\\(D_A\\)&#45;&gt;\\(E_B\\)</title>\n<path fill=\"none\" stroke=\"#000000\" d=\"M641.8964,-160.9211C656.1214,-153.6196 673.1006,-144.9044 688.17,-137.1695\"/>\n<polygon fill=\"#000000\" stroke=\"#000000\" points=\"689.9662,-140.1817 697.2644,-132.5015 686.7696,-133.9542 689.9662,-140.1817\"/>\n<text text-anchor=\"middle\" x=\"669.6678\" y=\"-151.8\" font-family=\"Times,serif\" font-size=\"14.00\" fill=\"#000000\">1 </text>\n</g>\n<!-- \\(FA_A\\)&#45;&gt;\\(FH_B\\) -->\n<g id=\"edge9\" class=\"edge\">\n<title>\\(FA_A\\)&#45;&gt;\\(FH_B\\)</title>\n<path fill=\"none\" stroke=\"#000000\" d=\"M281.1402,-85.1936C295.3991,-91.8466 311.8751,-99.5341 326.8964,-106.5429\"/>\n<polygon fill=\"#000000\" stroke=\"#000000\" points=\"325.4865,-109.7473 336.0286,-110.8039 328.4464,-103.4038 325.4865,-109.7473\"/>\n<text text-anchor=\"middle\" x=\"308.5871\" y=\"-102.8\" font-family=\"Times,serif\" font-size=\"14.00\" fill=\"#000000\">1 </text>\n</g>\n<!-- \\(FA_A\\)&#45;&gt;\\(FA_A\\) -->\n<g id=\"edge12\" class=\"edge\">\n<title>\\(FA_A\\)&#45;&gt;\\(FA_A\\)</title>\n<path fill=\"none\" stroke=\"#000000\" d=\"M232.3375,-106.6822C232.8063,-117.7569 236.7907,-126.2964 244.2907,-126.2964 249.2125,-126.2964 252.6204,-122.6188 254.5141,-116.9604\"/>\n<polygon fill=\"#000000\" stroke=\"#000000\" points=\"258.0357,-117.1244 256.2438,-106.6822 251.1327,-115.9627 258.0357,-117.1244\"/>\n<text text-anchor=\"middle\" x=\"244.2907\" y=\"-130.0964\" font-family=\"Times,serif\" font-size=\"14.00\" fill=\"#000000\">0 </text>\n</g>\n<!-- \\(E_B\\)&#45;&gt;\\(C_F\\) -->\n<g id=\"edge13\" class=\"edge\">\n<title>\\(E_B\\)&#45;&gt;\\(C_F\\)</title>\n<path fill=\"none\" stroke=\"#000000\" d=\"M693.6193,-116.1004C662.7914,-115.5477 616.0266,-115.3768 575.474,-118 563.0797,-118.8018 549.678,-120.2237 537.4056,-121.7482\"/>\n<polygon fill=\"#000000\" stroke=\"#000000\" points=\"536.8775,-118.2872 527.4093,-123.0415 537.7757,-125.2294 536.8775,-118.2872\"/>\n<text text-anchor=\"middle\" x=\"610.5709\" y=\"-121.8\" font-family=\"Times,serif\" font-size=\"14.00\" fill=\"#000000\">1 </text>\n</g>\n<!-- \\(F_F\\) -->\n<g id=\"node8\" class=\"node\">\n<title>\\(F_F\\)</title>\n<ellipse fill=\"none\" stroke=\"#000000\" cx=\"845.7589\" cy=\"-55\" rx=\"32.4945\" ry=\"32.4945\"/>\n<ellipse fill=\"none\" stroke=\"#000000\" cx=\"845.7589\" cy=\"-55\" rx=\"36.4942\" ry=\"36.4942\"/>\n<text text-anchor=\"middle\" x=\"845.7589\" y=\"-51.3\" font-family=\"Times,serif\" font-size=\"14.00\" fill=\"#000000\">(F_F)</text>\n</g>\n<!-- \\(E_B\\)&#45;&gt;\\(F_F\\) -->\n<g id=\"edge8\" class=\"edge\">\n<title>\\(E_B\\)&#45;&gt;\\(F_F\\)</title>\n<path fill=\"none\" stroke=\"#000000\" d=\"M757.6215,-101.1944C771.6799,-93.8261 788.6413,-84.9364 803.9148,-76.9313\"/>\n<polygon fill=\"#000000\" stroke=\"#000000\" points=\"805.9331,-79.8251 813.1655,-72.0828 802.6835,-73.625 805.9331,-79.8251\"/>\n<text text-anchor=\"middle\" x=\"785.2618\" y=\"-93.8\" font-family=\"Times,serif\" font-size=\"14.00\" fill=\"#000000\">0 </text>\n</g>\n<!-- \\(F_F\\)&#45;&gt;\\(IF_I\\) -->\n<g id=\"edge14\" class=\"edge\">\n<title>\\(F_F\\)&#45;&gt;\\(IF_I\\)</title>\n<path fill=\"none\" stroke=\"#000000\" d=\"M816.3716,-32.6294C793.4308,-17.4023 760.0786,0 727.4648,0 244.2907,0 244.2907,0 244.2907,0 210.8544,0 178.1317,-20.0294 155.1968,-38.3473\"/>\n<polygon fill=\"#000000\" stroke=\"#000000\" points=\"152.6667,-35.8987 147.2067,-44.9783 157.1371,-41.2853 152.6667,-35.8987\"/>\n<text text-anchor=\"middle\" x=\"494.327\" y=\"-3.8\" font-family=\"Times,serif\" font-size=\"14.00\" fill=\"#000000\">1 </text>\n</g>\n<!-- \\(F_F\\)&#45;&gt;\\(FA_A\\) -->\n<g id=\"edge11\" class=\"edge\">\n<title>\\(F_F\\)&#45;&gt;\\(FA_A\\)</title>\n<path fill=\"none\" stroke=\"#000000\" d=\"M809.2554,-55C785.8735,-55 754.8819,-55 727.4648,-55 372.8835,-55 372.8835,-55 372.8835,-55 346.8868,-55 318.083,-57.6625 294.3373,-60.5777\"/>\n<polygon fill=\"#000000\" stroke=\"#000000\" points=\"293.6282,-57.1398 284.1533,-61.8807 294.5166,-64.0832 293.6282,-57.1398\"/>\n<text text-anchor=\"middle\" x=\"551.474\" y=\"-58.8\" font-family=\"Times,serif\" font-size=\"14.00\" fill=\"#000000\">0 </text>\n</g>\n</g>\n</svg>\n"
          },
          "metadata": {
            "tags": []
          },
          "execution_count": 10
        }
      ]
    },
    {
      "cell_type": "markdown",
      "metadata": {
        "id": "9gCcFByAVE4v"
      },
      "source": [
        "# Task 3: Examine Why Minimization Implies Elimination\n",
        "<font size=\"4\">    \n",
        "    \n",
        "Find out which states were eliminated in the Minimization Process. Explain why it was OK to leave these states out. Test the constructed machine using the template given to you. Finally use the Python \"filter\" function that filters out the accepted strings.\n",
        "    \n",
        "</font>"
      ]
    },
    {
      "cell_type": "markdown",
      "metadata": {
        "id": "A4GmUuVgVE4v"
      },
      "source": [
        "## Find out which states were eliminated"
      ]
    },
    {
      "cell_type": "code",
      "metadata": {
        "colab": {
          "base_uri": "https://localhost:8080/"
        },
        "id": "HaciG67GVE4v",
        "outputId": "b36a2a2d-bc36-4e0c-a930-aeba6a574426"
      },
      "source": [
        "# Hint: You can obtain the components of a DFA D by using the notation D[\"Q\"] where\n",
        "# D is a DFA created using the md2mc command. Basically, \"D\" is a dictionary and \n",
        "# D[\"Q\"] obtains the value of the key at \"Q\". See the lecture slides for Lec-3.\n",
        "Even010[\"Q\"] - Even010_Ends010[\"Q\"] "
      ],
      "execution_count": 16,
      "outputs": [
        {
          "output_type": "execute_result",
          "data": {
            "text/plain": [
              "{'C', 'D', 'E', 'F', 'FA', 'FB', 'FG', 'FH', 'IF'}"
            ]
          },
          "metadata": {
            "tags": []
          },
          "execution_count": 16
        }
      ]
    },
    {
      "cell_type": "markdown",
      "metadata": {
        "id": "ICG7bo9zVE4v"
      },
      "source": [
        "## Explain why it is OK to leave these states out\n",
        "\n",
        "It seems that the intersection function changed the names of all the states to be surrouned by parenthesis. This is likely because the original Even 010's dfa wasn't minimized. If we instead compare the intersection of the minimized forms of both DFA we can see a different result."
      ]
    },
    {
      "cell_type": "code",
      "metadata": {
        "id": "lQoLRZomglki",
        "outputId": "fb848dee-8e65-465b-ba12-80ea91720ee0",
        "colab": {
          "base_uri": "https://localhost:8080/",
          "height": 273
        }
      },
      "source": [
        "dotObj_dfa(min_dfa(Even010))"
      ],
      "execution_count": 44,
      "outputs": [
        {
          "output_type": "execute_result",
          "data": {
            "text/plain": [
              "<graphviz.dot.Digraph at 0x7f4e4a3034a8>"
            ],
            "image/svg+xml": "<?xml version=\"1.0\" encoding=\"UTF-8\" standalone=\"no\"?>\n<!DOCTYPE svg PUBLIC \"-//W3C//DTD SVG 1.1//EN\"\n \"http://www.w3.org/Graphics/SVG/1.1/DTD/svg11.dtd\">\n<!-- Generated by graphviz version 2.40.1 (20161225.0304)\n -->\n<!-- Title: %3 Pages: 1 -->\n<svg width=\"598pt\" height=\"189pt\"\n viewBox=\"0.00 0.00 597.99 188.75\" xmlns=\"http://www.w3.org/2000/svg\" xmlns:xlink=\"http://www.w3.org/1999/xlink\">\n<g id=\"graph0\" class=\"graph\" transform=\"scale(1 1) rotate(0) translate(4 184.748)\">\n<title>%3</title>\n<polygon fill=\"#ffffff\" stroke=\"transparent\" points=\"-4,4 -4,-184.748 593.9919,-184.748 593.9919,4 -4,4\"/>\n<!-- EMPTY -->\n<g id=\"node1\" class=\"node\">\n<title>EMPTY</title>\n</g>\n<!-- F -->\n<g id=\"node6\" class=\"node\">\n<title>F</title>\n<ellipse fill=\"none\" stroke=\"#000000\" cx=\"113\" cy=\"-122.748\" rx=\"18\" ry=\"18\"/>\n<ellipse fill=\"none\" stroke=\"#000000\" cx=\"113\" cy=\"-122.748\" rx=\"22\" ry=\"22\"/>\n<text text-anchor=\"middle\" x=\"113\" y=\"-119.048\" font-family=\"Times,serif\" font-size=\"14.00\" fill=\"#000000\">F</text>\n</g>\n<!-- EMPTY&#45;&gt;F -->\n<g id=\"edge1\" class=\"edge\">\n<title>EMPTY&#45;&gt;F</title>\n<path fill=\"none\" stroke=\"#000000\" d=\"M54.2109,-122.748C62.6073,-122.748 71.9364,-122.748 80.6441,-122.748\"/>\n<polygon fill=\"#000000\" stroke=\"#000000\" points=\"80.8529,-126.2481 90.8529,-122.748 80.8528,-119.2481 80.8529,-126.2481\"/>\n</g>\n<!-- E -->\n<g id=\"node2\" class=\"node\">\n<title>E</title>\n<ellipse fill=\"none\" stroke=\"#000000\" cx=\"571.9919\" cy=\"-122.748\" rx=\"18\" ry=\"18\"/>\n<text text-anchor=\"middle\" x=\"571.9919\" y=\"-119.048\" font-family=\"Times,serif\" font-size=\"14.00\" fill=\"#000000\">E</text>\n</g>\n<!-- C -->\n<g id=\"node4\" class=\"node\">\n<title>C</title>\n<ellipse fill=\"none\" stroke=\"#000000\" cx=\"403.9919\" cy=\"-73.748\" rx=\"18\" ry=\"18\"/>\n<text text-anchor=\"middle\" x=\"403.9919\" y=\"-70.048\" font-family=\"Times,serif\" font-size=\"14.00\" fill=\"#000000\">C</text>\n</g>\n<!-- E&#45;&gt;C -->\n<g id=\"edge13\" class=\"edge\">\n<title>E&#45;&gt;C</title>\n<path fill=\"none\" stroke=\"#000000\" d=\"M554.2075,-118.4016C533.7791,-113.3256 499.3037,-104.5033 469.9919,-95.748 457.0131,-91.8712 442.7395,-87.169 430.7963,-83.1086\"/>\n<polygon fill=\"#000000\" stroke=\"#000000\" points=\"431.5865,-79.6794 420.9919,-79.7424 429.3134,-86.3001 431.5865,-79.6794\"/>\n<text text-anchor=\"middle\" x=\"487.9919\" y=\"-109.548\" font-family=\"Times,serif\" font-size=\"14.00\" fill=\"#000000\">1 </text>\n</g>\n<!-- E&#45;&gt;F -->\n<g id=\"edge12\" class=\"edge\">\n<title>E&#45;&gt;F</title>\n<path fill=\"none\" stroke=\"#000000\" d=\"M558.5137,-134.7259C542.7618,-147.4492 515.3516,-165.748 487.9919,-165.748 209.748,-165.748 209.748,-165.748 209.748,-165.748 184.3164,-165.748 158.1142,-153.1875 139.403,-141.6436\"/>\n<polygon fill=\"#000000\" stroke=\"#000000\" points=\"141.1536,-138.6076 130.8555,-136.1177 137.3532,-144.4862 141.1536,-138.6076\"/>\n<text text-anchor=\"middle\" x=\"361.9919\" y=\"-169.548\" font-family=\"Times,serif\" font-size=\"14.00\" fill=\"#000000\">0 </text>\n</g>\n<!-- D -->\n<g id=\"node3\" class=\"node\">\n<title>D</title>\n<ellipse fill=\"none\" stroke=\"#000000\" cx=\"487.9919\" cy=\"-35.748\" rx=\"18\" ry=\"18\"/>\n<text text-anchor=\"middle\" x=\"487.9919\" y=\"-32.048\" font-family=\"Times,serif\" font-size=\"14.00\" fill=\"#000000\">D</text>\n</g>\n<!-- D&#45;&gt;E -->\n<g id=\"edge11\" class=\"edge\">\n<title>D&#45;&gt;E</title>\n<path fill=\"none\" stroke=\"#000000\" d=\"M500.7497,-48.9614C514.3966,-63.0957 536.2205,-85.699 552.1211,-102.1675\"/>\n<polygon fill=\"#000000\" stroke=\"#000000\" points=\"549.9254,-104.9323 559.3893,-109.6953 554.9612,-100.0701 549.9254,-104.9323\"/>\n<text text-anchor=\"middle\" x=\"529.9919\" y=\"-87.548\" font-family=\"Times,serif\" font-size=\"14.00\" fill=\"#000000\">1 </text>\n</g>\n<!-- D&#45;&gt;D -->\n<g id=\"edge10\" class=\"edge\">\n<title>D&#45;&gt;D</title>\n<path fill=\"none\" stroke=\"#000000\" d=\"M480.6091,-52.412C478.9685,-62.373 481.4294,-71.748 487.9919,-71.748 492.196,-71.748 494.7168,-67.9005 495.5544,-62.5162\"/>\n<polygon fill=\"#000000\" stroke=\"#000000\" points=\"499.052,-62.3482 495.3747,-52.412 492.0532,-62.4727 499.052,-62.3482\"/>\n<text text-anchor=\"middle\" x=\"487.9919\" y=\"-75.548\" font-family=\"Times,serif\" font-size=\"14.00\" fill=\"#000000\">0 </text>\n</g>\n<!-- C&#45;&gt;D -->\n<g id=\"edge8\" class=\"edge\">\n<title>C&#45;&gt;D</title>\n<path fill=\"none\" stroke=\"#000000\" d=\"M420.5876,-66.2404C432.4377,-60.8796 448.6097,-53.5637 462.1426,-47.4417\"/>\n<polygon fill=\"#000000\" stroke=\"#000000\" points=\"463.7622,-50.5506 471.4307,-43.24 460.877,-44.1728 463.7622,-50.5506\"/>\n<text text-anchor=\"middle\" x=\"445.9919\" y=\"-60.548\" font-family=\"Times,serif\" font-size=\"14.00\" fill=\"#000000\">0 </text>\n</g>\n<!-- C&#45;&gt;C -->\n<g id=\"edge9\" class=\"edge\">\n<title>C&#45;&gt;C</title>\n<path fill=\"none\" stroke=\"#000000\" d=\"M396.6091,-90.412C394.9685,-100.373 397.4294,-109.748 403.9919,-109.748 408.196,-109.748 410.7168,-105.9005 411.5544,-100.5162\"/>\n<polygon fill=\"#000000\" stroke=\"#000000\" points=\"415.052,-100.3482 411.3747,-90.412 408.0532,-100.4727 415.052,-100.3482\"/>\n<text text-anchor=\"middle\" x=\"403.9919\" y=\"-113.548\" font-family=\"Times,serif\" font-size=\"14.00\" fill=\"#000000\">1 </text>\n</g>\n<!-- FH -->\n<g id=\"node5\" class=\"node\">\n<title>FH</title>\n<ellipse fill=\"none\" stroke=\"#000000\" cx=\"311.2439\" cy=\"-73.748\" rx=\"22.9609\" ry=\"22.9609\"/>\n<ellipse fill=\"none\" stroke=\"#000000\" cx=\"311.2439\" cy=\"-73.748\" rx=\"26.9983\" ry=\"26.9983\"/>\n<text text-anchor=\"middle\" x=\"311.2439\" y=\"-70.048\" font-family=\"Times,serif\" font-size=\"14.00\" fill=\"#000000\">FH</text>\n</g>\n<!-- FH&#45;&gt;C -->\n<g id=\"edge6\" class=\"edge\">\n<title>FH&#45;&gt;C</title>\n<path fill=\"none\" stroke=\"#000000\" d=\"M338.0705,-73.748C349.7853,-73.748 363.5372,-73.748 375.4411,-73.748\"/>\n<polygon fill=\"#000000\" stroke=\"#000000\" points=\"375.7423,-77.2481 385.7423,-73.748 375.7423,-70.2481 375.7423,-77.2481\"/>\n<text text-anchor=\"middle\" x=\"361.9919\" y=\"-77.548\" font-family=\"Times,serif\" font-size=\"14.00\" fill=\"#000000\">0 </text>\n</g>\n<!-- FH&#45;&gt;F -->\n<g id=\"edge7\" class=\"edge\">\n<title>FH&#45;&gt;F</title>\n<path fill=\"none\" stroke=\"#000000\" d=\"M285.4243,-81.8387C271.0818,-86.2088 252.8765,-91.5524 236.496,-95.748 205.6152,-103.6575 170.0207,-111.2835 145.0026,-116.4015\"/>\n<polygon fill=\"#000000\" stroke=\"#000000\" points=\"144.0779,-113.0176 134.9727,-118.4348 145.4687,-119.8781 144.0779,-113.0176\"/>\n<text text-anchor=\"middle\" x=\"209.748\" y=\"-111.548\" font-family=\"Times,serif\" font-size=\"14.00\" fill=\"#000000\">1 </text>\n</g>\n<!-- F&#45;&gt;F -->\n<g id=\"edge3\" class=\"edge\">\n<title>F&#45;&gt;F</title>\n<path fill=\"none\" stroke=\"#000000\" d=\"M105.6831,-143.7387C104.7798,-153.8352 107.2188,-162.748 113,-162.748 116.7036,-162.748 119.0356,-159.0902 119.9958,-153.8066\"/>\n<polygon fill=\"#000000\" stroke=\"#000000\" points=\"123.4963,-153.8453 120.3169,-143.7387 116.4998,-153.6221 123.4963,-153.8453\"/>\n<text text-anchor=\"middle\" x=\"113\" y=\"-166.548\" font-family=\"Times,serif\" font-size=\"14.00\" fill=\"#000000\">1 </text>\n</g>\n<!-- FG -->\n<g id=\"node7\" class=\"node\">\n<title>FG</title>\n<ellipse fill=\"none\" stroke=\"#000000\" cx=\"209.748\" cy=\"-26.748\" rx=\"22.9609\" ry=\"22.9609\"/>\n<ellipse fill=\"none\" stroke=\"#000000\" cx=\"209.748\" cy=\"-26.748\" rx=\"26.9983\" ry=\"26.9983\"/>\n<text text-anchor=\"middle\" x=\"209.748\" y=\"-23.048\" font-family=\"Times,serif\" font-size=\"14.00\" fill=\"#000000\">FG</text>\n</g>\n<!-- F&#45;&gt;FG -->\n<g id=\"edge2\" class=\"edge\">\n<title>F&#45;&gt;FG</title>\n<path fill=\"none\" stroke=\"#000000\" d=\"M128.976,-106.8955C143.8158,-92.1705 166.184,-69.9752 183.6214,-52.6726\"/>\n<polygon fill=\"#000000\" stroke=\"#000000\" points=\"186.1231,-55.1209 190.7563,-45.5928 181.1926,-50.1519 186.1231,-55.1209\"/>\n<text text-anchor=\"middle\" x=\"159\" y=\"-83.548\" font-family=\"Times,serif\" font-size=\"14.00\" fill=\"#000000\">0 </text>\n</g>\n<!-- FG&#45;&gt;FH -->\n<g id=\"edge4\" class=\"edge\">\n<title>FG&#45;&gt;FH</title>\n<path fill=\"none\" stroke=\"#000000\" d=\"M234.0588,-38.0057C247.0195,-44.0074 263.1722,-51.4873 277.3464,-58.051\"/>\n<polygon fill=\"#000000\" stroke=\"#000000\" points=\"276.2347,-61.3932 286.7797,-62.4193 279.1762,-55.0412 276.2347,-61.3932\"/>\n<text text-anchor=\"middle\" x=\"260.496\" y=\"-55.548\" font-family=\"Times,serif\" font-size=\"14.00\" fill=\"#000000\">1 </text>\n</g>\n<!-- FG&#45;&gt;FG -->\n<g id=\"edge5\" class=\"edge\">\n<title>FG&#45;&gt;FG</title>\n<path fill=\"none\" stroke=\"#000000\" d=\"M200.4554,-52.049C199.8145,-62.574 202.912,-71.496 209.748,-71.496 214.2341,-71.496 217.1102,-67.6536 218.3762,-62.0374\"/>\n<polygon fill=\"#000000\" stroke=\"#000000\" points=\"221.8691,-62.2592 219.0406,-52.049 214.8846,-61.7946 221.8691,-62.2592\"/>\n<text text-anchor=\"middle\" x=\"209.748\" y=\"-75.296\" font-family=\"Times,serif\" font-size=\"14.00\" fill=\"#000000\">0 </text>\n</g>\n</g>\n</svg>\n"
          },
          "metadata": {
            "tags": []
          },
          "execution_count": 44
        }
      ]
    },
    {
      "cell_type": "code",
      "metadata": {
        "id": "8JY-4FJ1gqtG",
        "outputId": "b72a998e-ac29-4ff7-d5c9-e709d97b0175",
        "colab": {
          "base_uri": "https://localhost:8080/",
          "height": 204
        }
      },
      "source": [
        "dotObj_dfa(min_dfa(Ends010))"
      ],
      "execution_count": 45,
      "outputs": [
        {
          "output_type": "execute_result",
          "data": {
            "text/plain": [
              "<graphviz.dot.Digraph at 0x7f4e4a303da0>"
            ],
            "image/svg+xml": "<?xml version=\"1.0\" encoding=\"UTF-8\" standalone=\"no\"?>\n<!DOCTYPE svg PUBLIC \"-//W3C//DTD SVG 1.1//EN\"\n \"http://www.w3.org/Graphics/SVG/1.1/DTD/svg11.dtd\">\n<!-- Generated by graphviz version 2.40.1 (20161225.0304)\n -->\n<!-- Title: %3 Pages: 1 -->\n<svg width=\"395pt\" height=\"137pt\"\n viewBox=\"0.00 0.00 395.00 136.65\" xmlns=\"http://www.w3.org/2000/svg\" xmlns:xlink=\"http://www.w3.org/1999/xlink\">\n<g id=\"graph0\" class=\"graph\" transform=\"scale(1 1) rotate(0) translate(4 132.651)\">\n<title>%3</title>\n<polygon fill=\"#ffffff\" stroke=\"transparent\" points=\"-4,4 -4,-132.651 391,-132.651 391,4 -4,4\"/>\n<!-- EMPTY -->\n<g id=\"node1\" class=\"node\">\n<title>EMPTY</title>\n</g>\n<!-- I -->\n<g id=\"node2\" class=\"node\">\n<title>I</title>\n<ellipse fill=\"none\" stroke=\"#000000\" cx=\"109\" cy=\"-26.651\" rx=\"18\" ry=\"18\"/>\n<text text-anchor=\"middle\" x=\"109\" y=\"-22.951\" font-family=\"Times,serif\" font-size=\"14.00\" fill=\"#000000\">I</text>\n</g>\n<!-- EMPTY&#45;&gt;I -->\n<g id=\"edge1\" class=\"edge\">\n<title>EMPTY&#45;&gt;I</title>\n<path fill=\"none\" stroke=\"#000000\" d=\"M54.3048,-26.651C62.6909,-26.651 71.9407,-26.651 80.4103,-26.651\"/>\n<polygon fill=\"#000000\" stroke=\"#000000\" points=\"80.5976,-30.1511 90.5976,-26.651 80.5976,-23.1511 80.5976,-30.1511\"/>\n</g>\n<!-- I&#45;&gt;I -->\n<g id=\"edge2\" class=\"edge\">\n<title>I&#45;&gt;I</title>\n<path fill=\"none\" stroke=\"#000000\" d=\"M102.6208,-43.6883C101.3189,-53.509 103.4453,-62.651 109,-62.651 112.4717,-62.651 114.6042,-59.0799 115.3975,-54.004\"/>\n<polygon fill=\"#000000\" stroke=\"#000000\" points=\"118.8971,-53.6821 115.3792,-43.6883 111.8971,-53.6946 118.8971,-53.6821\"/>\n<text text-anchor=\"middle\" x=\"109\" y=\"-66.451\" font-family=\"Times,serif\" font-size=\"14.00\" fill=\"#000000\">1 </text>\n</g>\n<!-- A -->\n<g id=\"node3\" class=\"node\">\n<title>A</title>\n<ellipse fill=\"none\" stroke=\"#000000\" cx=\"193\" cy=\"-77.651\" rx=\"18\" ry=\"18\"/>\n<text text-anchor=\"middle\" x=\"193\" y=\"-73.951\" font-family=\"Times,serif\" font-size=\"14.00\" fill=\"#000000\">A</text>\n</g>\n<!-- I&#45;&gt;A -->\n<g id=\"edge3\" class=\"edge\">\n<title>I&#45;&gt;A</title>\n<path fill=\"none\" stroke=\"#000000\" d=\"M124.4069,-36.0052C136.7621,-43.5066 154.333,-54.1747 168.5978,-62.8354\"/>\n<polygon fill=\"#000000\" stroke=\"#000000\" points=\"167.042,-65.9854 177.4063,-68.1834 170.6749,-60.0019 167.042,-65.9854\"/>\n<text text-anchor=\"middle\" x=\"151\" y=\"-58.451\" font-family=\"Times,serif\" font-size=\"14.00\" fill=\"#000000\">0 </text>\n</g>\n<!-- A&#45;&gt;A -->\n<g id=\"edge5\" class=\"edge\">\n<title>A&#45;&gt;A</title>\n<path fill=\"none\" stroke=\"#000000\" d=\"M185.6172,-94.3151C183.9766,-104.276 186.4375,-113.651 193,-113.651 197.2041,-113.651 199.7249,-109.8035 200.5625,-104.4193\"/>\n<polygon fill=\"#000000\" stroke=\"#000000\" points=\"204.0601,-104.2513 200.3828,-94.3151 197.0612,-104.3758 204.0601,-104.2513\"/>\n<text text-anchor=\"middle\" x=\"193\" y=\"-117.451\" font-family=\"Times,serif\" font-size=\"14.00\" fill=\"#000000\">0 </text>\n</g>\n<!-- B -->\n<g id=\"node4\" class=\"node\">\n<title>B</title>\n<ellipse fill=\"none\" stroke=\"#000000\" cx=\"277\" cy=\"-30.651\" rx=\"18\" ry=\"18\"/>\n<text text-anchor=\"middle\" x=\"277\" y=\"-26.951\" font-family=\"Times,serif\" font-size=\"14.00\" fill=\"#000000\">B</text>\n</g>\n<!-- A&#45;&gt;B -->\n<g id=\"edge4\" class=\"edge\">\n<title>A&#45;&gt;B</title>\n<path fill=\"none\" stroke=\"#000000\" d=\"M208.7998,-68.8107C221.0018,-61.9834 238.1161,-52.4075 252.1477,-44.5565\"/>\n<polygon fill=\"#000000\" stroke=\"#000000\" points=\"254.2533,-47.3891 261.2711,-39.4517 250.8352,-41.2803 254.2533,-47.3891\"/>\n<text text-anchor=\"middle\" x=\"235\" y=\"-60.451\" font-family=\"Times,serif\" font-size=\"14.00\" fill=\"#000000\">1 </text>\n</g>\n<!-- B&#45;&gt;I -->\n<g id=\"edge7\" class=\"edge\">\n<title>B&#45;&gt;I</title>\n<path fill=\"none\" stroke=\"#000000\" d=\"M258.9781,-30.222C229.9203,-29.5301 172.4682,-28.1622 137.7186,-27.3348\"/>\n<polygon fill=\"#000000\" stroke=\"#000000\" points=\"137.3793,-23.8258 127.2988,-27.0867 137.2126,-30.8239 137.3793,-23.8258\"/>\n<text text-anchor=\"middle\" x=\"193\" y=\"-32.451\" font-family=\"Times,serif\" font-size=\"14.00\" fill=\"#000000\">1 </text>\n</g>\n<!-- F -->\n<g id=\"node5\" class=\"node\">\n<title>F</title>\n<ellipse fill=\"none\" stroke=\"#000000\" cx=\"365\" cy=\"-30.651\" rx=\"18\" ry=\"18\"/>\n<ellipse fill=\"none\" stroke=\"#000000\" cx=\"365\" cy=\"-30.651\" rx=\"22\" ry=\"22\"/>\n<text text-anchor=\"middle\" x=\"365\" y=\"-26.951\" font-family=\"Times,serif\" font-size=\"14.00\" fill=\"#000000\">F</text>\n</g>\n<!-- B&#45;&gt;F -->\n<g id=\"edge6\" class=\"edge\">\n<title>B&#45;&gt;F</title>\n<path fill=\"none\" stroke=\"#000000\" d=\"M295.2337,-30.651C306.0103,-30.651 319.9708,-30.651 332.5692,-30.651\"/>\n<polygon fill=\"#000000\" stroke=\"#000000\" points=\"332.7317,-34.1511 342.7317,-30.651 332.7317,-27.1511 332.7317,-34.1511\"/>\n<text text-anchor=\"middle\" x=\"319\" y=\"-34.451\" font-family=\"Times,serif\" font-size=\"14.00\" fill=\"#000000\">0 </text>\n</g>\n<!-- F&#45;&gt;I -->\n<g id=\"edge8\" class=\"edge\">\n<title>F&#45;&gt;I</title>\n<path fill=\"none\" stroke=\"#000000\" d=\"M345.0577,-20.6897C331.3574,-14.4201 312.5434,-6.9172 295,-3.651 238.9554,6.7829 172.5024,-7.8381 136.1389,-18.1064\"/>\n<polygon fill=\"#000000\" stroke=\"#000000\" points=\"134.9018,-14.8216 126.2889,-20.9917 136.8696,-21.5394 134.9018,-14.8216\"/>\n<text text-anchor=\"middle\" x=\"235\" y=\"-5.451\" font-family=\"Times,serif\" font-size=\"14.00\" fill=\"#000000\">1 </text>\n</g>\n<!-- F&#45;&gt;A -->\n<g id=\"edge9\" class=\"edge\">\n<title>F&#45;&gt;A</title>\n<path fill=\"none\" stroke=\"#000000\" d=\"M345.3074,-40.693C338.9145,-43.7664 331.733,-47.0255 325,-49.651 288.5895,-63.8492 279.5114,-69.0043 241,-75.651 234.7869,-76.7234 228.0578,-77.3368 221.6591,-77.6688\"/>\n<polygon fill=\"#000000\" stroke=\"#000000\" points=\"221.2369,-74.1803 211.352,-77.9933 221.4572,-81.1768 221.2369,-74.1803\"/>\n<text text-anchor=\"middle\" x=\"277\" y=\"-75.451\" font-family=\"Times,serif\" font-size=\"14.00\" fill=\"#000000\">0 </text>\n</g>\n</g>\n</svg>\n"
          },
          "metadata": {
            "tags": []
          },
          "execution_count": 45
        }
      ]
    },
    {
      "cell_type": "code",
      "metadata": {
        "id": "rFsixcIKgbnQ",
        "outputId": "83f39f91-ab51-4943-f351-1015d1b54b3d",
        "colab": {
          "base_uri": "https://localhost:8080/",
          "height": 332
        }
      },
      "source": [
        "min_Even010_Ends010 = min_dfa(intersect_dfa(min_dfa(Even010), min_dfa(Ends010)))\r\n",
        "dotObj_dfa(min_Even010_Ends010)"
      ],
      "execution_count": 43,
      "outputs": [
        {
          "output_type": "execute_result",
          "data": {
            "text/plain": [
              "<graphviz.dot.Digraph at 0x7f4e4a2f86a0>"
            ],
            "image/svg+xml": "<?xml version=\"1.0\" encoding=\"UTF-8\" standalone=\"no\"?>\n<!DOCTYPE svg PUBLIC \"-//W3C//DTD SVG 1.1//EN\"\n \"http://www.w3.org/Graphics/SVG/1.1/DTD/svg11.dtd\">\n<!-- Generated by graphviz version 2.40.1 (20161225.0304)\n -->\n<!-- Title: %3 Pages: 1 -->\n<svg width=\"885pt\" height=\"233pt\"\n viewBox=\"0.00 0.00 885.06 233.00\" xmlns=\"http://www.w3.org/2000/svg\" xmlns:xlink=\"http://www.w3.org/1999/xlink\">\n<g id=\"graph0\" class=\"graph\" transform=\"scale(1 1) rotate(0) translate(4 229)\">\n<title>%3</title>\n<polygon fill=\"#ffffff\" stroke=\"transparent\" points=\"-4,4 -4,-229 881.0565,-229 881.0565,4 -4,4\"/>\n<!-- EMPTY -->\n<g id=\"node1\" class=\"node\">\n<title>EMPTY</title>\n</g>\n<!-- \\(F_I\\) -->\n<g id=\"node2\" class=\"node\">\n<title>\\(F_I\\)</title>\n<ellipse fill=\"none\" stroke=\"#000000\" cx=\"120.8973\" cy=\"-64\" rx=\"29.795\" ry=\"29.795\"/>\n<text text-anchor=\"middle\" x=\"120.8973\" y=\"-60.3\" font-family=\"Times,serif\" font-size=\"14.00\" fill=\"#000000\">(F_I)</text>\n</g>\n<!-- EMPTY&#45;&gt;\\(F_I\\) -->\n<g id=\"edge1\" class=\"edge\">\n<title>EMPTY&#45;&gt;\\(F_I\\)</title>\n<path fill=\"none\" stroke=\"#000000\" d=\"M54.159,-64C62.4121,-64 71.6638,-64 80.5889,-64\"/>\n<polygon fill=\"#000000\" stroke=\"#000000\" points=\"80.8366,-67.5001 90.8366,-64 80.8365,-60.5001 80.8366,-67.5001\"/>\n</g>\n<!-- \\(F_I\\)&#45;&gt;\\(F_I\\) -->\n<g id=\"edge9\" class=\"edge\">\n<title>\\(F_I\\)&#45;&gt;\\(F_I\\)</title>\n<path fill=\"none\" stroke=\"#000000\" d=\"M111.9171,-92.5201C111.6227,-103.1485 114.6161,-111.8973 120.8973,-111.8973 125.0194,-111.8973 127.7255,-108.1295 129.0157,-102.5353\"/>\n<polygon fill=\"#000000\" stroke=\"#000000\" points=\"132.5072,-102.7834 129.8776,-92.5201 125.533,-102.1831 132.5072,-102.7834\"/>\n<text text-anchor=\"middle\" x=\"120.8973\" y=\"-115.6973\" font-family=\"Times,serif\" font-size=\"14.00\" fill=\"#000000\">1 </text>\n</g>\n<!-- \\(FG_A\\) -->\n<g id=\"node6\" class=\"node\">\n<title>\\(FG_A\\)</title>\n<ellipse fill=\"none\" stroke=\"#000000\" cx=\"239.0911\" cy=\"-137\" rx=\"40.0939\" ry=\"40.0939\"/>\n<text text-anchor=\"middle\" x=\"239.0911\" y=\"-133.3\" font-family=\"Times,serif\" font-size=\"14.00\" fill=\"#000000\">(FG_A)</text>\n</g>\n<!-- \\(F_I\\)&#45;&gt;\\(FG_A\\) -->\n<g id=\"edge2\" class=\"edge\">\n<title>\\(F_I\\)&#45;&gt;\\(FG_A\\)</title>\n<path fill=\"none\" stroke=\"#000000\" d=\"M146.5436,-79.8399C160.865,-88.6852 179.0944,-99.9442 195.5808,-110.1267\"/>\n<polygon fill=\"#000000\" stroke=\"#000000\" points=\"194.1774,-113.3737 204.5247,-115.6508 197.8559,-107.4181 194.1774,-113.3737\"/>\n<text text-anchor=\"middle\" x=\"174.7947\" y=\"-103.8\" font-family=\"Times,serif\" font-size=\"14.00\" fill=\"#000000\">0 </text>\n</g>\n<!-- \\(C_F\\) -->\n<g id=\"node3\" class=\"node\">\n<title>\\(C_F\\)</title>\n<ellipse fill=\"none\" stroke=\"#000000\" cx=\"489.1275\" cy=\"-107\" rx=\"33.2948\" ry=\"33.2948\"/>\n<text text-anchor=\"middle\" x=\"489.1275\" y=\"-103.3\" font-family=\"Times,serif\" font-size=\"14.00\" fill=\"#000000\">(C_F)</text>\n</g>\n<!-- \\(C_F\\)&#45;&gt;\\(C_F\\) -->\n<g id=\"edge3\" class=\"edge\">\n<title>\\(C_F\\)&#45;&gt;\\(C_F\\)</title>\n<path fill=\"none\" stroke=\"#000000\" d=\"M478.63,-138.4659C478.5189,-149.3541 482.0181,-158.1471 489.1275,-158.1471 493.793,-158.1471 496.9037,-154.3602 498.4596,-148.6795\"/>\n<polygon fill=\"#000000\" stroke=\"#000000\" points=\"501.9687,-148.7982 499.6249,-138.4659 495.0138,-148.0047 501.9687,-148.7982\"/>\n<text text-anchor=\"middle\" x=\"489.1275\" y=\"-161.9471\" font-family=\"Times,serif\" font-size=\"14.00\" fill=\"#000000\">1 </text>\n</g>\n<!-- \\(D_A\\) -->\n<g id=\"node5\" class=\"node\">\n<title>\\(D_A\\)</title>\n<ellipse fill=\"none\" stroke=\"#000000\" cx=\"605.3714\" cy=\"-63\" rx=\"35.194\" ry=\"35.194\"/>\n<text text-anchor=\"middle\" x=\"605.3714\" y=\"-59.3\" font-family=\"Times,serif\" font-size=\"14.00\" fill=\"#000000\">(D_A)</text>\n</g>\n<!-- \\(C_F\\)&#45;&gt;\\(D_A\\) -->\n<g id=\"edge6\" class=\"edge\">\n<title>\\(C_F\\)&#45;&gt;\\(D_A\\)</title>\n<path fill=\"none\" stroke=\"#000000\" d=\"M520.2787,-95.2088C533.3928,-90.2449 548.8606,-84.3901 562.9871,-79.0431\"/>\n<polygon fill=\"#000000\" stroke=\"#000000\" points=\"564.3939,-82.253 572.5073,-75.4395 561.9158,-75.7063 564.3939,-82.253\"/>\n<text text-anchor=\"middle\" x=\"546.2745\" y=\"-90.8\" font-family=\"Times,serif\" font-size=\"14.00\" fill=\"#000000\">0 </text>\n</g>\n<!-- \\(FH_B\\) -->\n<g id=\"node4\" class=\"node\">\n<title>\\(FH_B\\)</title>\n<ellipse fill=\"none\" stroke=\"#000000\" cx=\"367.684\" cy=\"-107\" rx=\"40.0939\" ry=\"40.0939\"/>\n<text text-anchor=\"middle\" x=\"367.684\" y=\"-103.3\" font-family=\"Times,serif\" font-size=\"14.00\" fill=\"#000000\">(FH_B)</text>\n</g>\n<!-- \\(FH_B\\)&#45;&gt;\\(F_I\\) -->\n<g id=\"edge4\" class=\"edge\">\n<title>\\(FH_B\\)&#45;&gt;\\(F_I\\)</title>\n<path fill=\"none\" stroke=\"#000000\" d=\"M331.0921,-89.9719C315.4964,-83.4935 296.891,-76.77 279.3875,-73 239.9321,-64.5018 193.7529,-62.7812 161.4541,-62.865\"/>\n<polygon fill=\"#000000\" stroke=\"#000000\" points=\"161.0317,-59.3684 151.0625,-62.9553 161.0926,-66.3681 161.0317,-59.3684\"/>\n<text text-anchor=\"middle\" x=\"239.0911\" y=\"-76.8\" font-family=\"Times,serif\" font-size=\"14.00\" fill=\"#000000\">1 </text>\n</g>\n<!-- \\(FH_B\\)&#45;&gt;\\(C_F\\) -->\n<g id=\"edge10\" class=\"edge\">\n<title>\\(FH_B\\)&#45;&gt;\\(C_F\\)</title>\n<path fill=\"none\" stroke=\"#000000\" d=\"M408.1229,-107C420.1979,-107 433.4819,-107 445.7377,-107\"/>\n<polygon fill=\"#000000\" stroke=\"#000000\" points=\"445.7417,-110.5001 455.7417,-107 445.7416,-103.5001 445.7417,-110.5001\"/>\n<text text-anchor=\"middle\" x=\"431.9804\" y=\"-110.8\" font-family=\"Times,serif\" font-size=\"14.00\" fill=\"#000000\">0 </text>\n</g>\n<!-- \\(D_A\\)&#45;&gt;\\(D_A\\) -->\n<g id=\"edge13\" class=\"edge\">\n<title>\\(D_A\\)&#45;&gt;\\(D_A\\)</title>\n<path fill=\"none\" stroke=\"#000000\" d=\"M594.4971,-96.4444C594.5533,-107.3851 598.178,-116.0969 605.3714,-116.0969 610.092,-116.0969 613.2758,-112.345 614.9227,-106.6736\"/>\n<polygon fill=\"#000000\" stroke=\"#000000\" points=\"618.4341,-106.8108 616.2457,-96.4444 611.4919,-105.9128 618.4341,-106.8108\"/>\n<text text-anchor=\"middle\" x=\"605.3714\" y=\"-119.8969\" font-family=\"Times,serif\" font-size=\"14.00\" fill=\"#000000\">0 </text>\n</g>\n<!-- \\(E_B\\) -->\n<g id=\"node7\" class=\"node\">\n<title>\\(E_B\\)</title>\n<ellipse fill=\"none\" stroke=\"#000000\" cx=\"722.2653\" cy=\"-126\" rx=\"33.5952\" ry=\"33.5952\"/>\n<text text-anchor=\"middle\" x=\"722.2653\" y=\"-122.3\" font-family=\"Times,serif\" font-size=\"14.00\" fill=\"#000000\">(E_B)</text>\n</g>\n<!-- \\(D_A\\)&#45;&gt;\\(E_B\\) -->\n<g id=\"edge11\" class=\"edge\">\n<title>\\(D_A\\)&#45;&gt;\\(E_B\\)</title>\n<path fill=\"none\" stroke=\"#000000\" d=\"M636.3899,-79.7174C650.7291,-87.4455 667.9167,-96.7088 683.1356,-104.911\"/>\n<polygon fill=\"#000000\" stroke=\"#000000\" points=\"681.8505,-108.1944 692.314,-109.8577 685.1716,-102.0323 681.8505,-108.1944\"/>\n<text text-anchor=\"middle\" x=\"664.4683\" y=\"-99.8\" font-family=\"Times,serif\" font-size=\"14.00\" fill=\"#000000\">1 </text>\n</g>\n<!-- \\(FG_A\\)&#45;&gt;\\(FH_B\\) -->\n<g id=\"edge7\" class=\"edge\">\n<title>\\(FG_A\\)&#45;&gt;\\(FH_B\\)</title>\n<path fill=\"none\" stroke=\"#000000\" d=\"M278.3719,-127.836C290.9675,-124.8975 305.0806,-121.605 318.3029,-118.5203\"/>\n<polygon fill=\"#000000\" stroke=\"#000000\" points=\"319.2573,-121.8917 328.2006,-116.2113 317.6669,-115.0748 319.2573,-121.8917\"/>\n<text text-anchor=\"middle\" x=\"303.3875\" y=\"-125.8\" font-family=\"Times,serif\" font-size=\"14.00\" fill=\"#000000\">1 </text>\n</g>\n<!-- \\(FG_A\\)&#45;&gt;\\(FG_A\\) -->\n<g id=\"edge14\" class=\"edge\">\n<title>\\(FG_A\\)&#45;&gt;\\(FG_A\\)</title>\n<path fill=\"none\" stroke=\"#000000\" d=\"M227.138,-175.6822C227.6067,-186.7569 231.5911,-195.2964 239.0911,-195.2964 244.013,-195.2964 247.4208,-191.6188 249.3146,-185.9604\"/>\n<polygon fill=\"#000000\" stroke=\"#000000\" points=\"252.8361,-186.1244 251.0442,-175.6822 245.9332,-184.9627 252.8361,-186.1244\"/>\n<text text-anchor=\"middle\" x=\"239.0911\" y=\"-199.0964\" font-family=\"Times,serif\" font-size=\"14.00\" fill=\"#000000\">0 </text>\n</g>\n<!-- \\(E_B\\)&#45;&gt;\\(C_F\\) -->\n<g id=\"edge15\" class=\"edge\">\n<title>\\(E_B\\)&#45;&gt;\\(C_F\\)</title>\n<path fill=\"none\" stroke=\"#000000\" d=\"M689.3796,-134.3716C658.4097,-140.9995 610.8445,-147.9338 570.2745,-140 555.982,-137.205 541.028,-131.8837 527.9072,-126.3171\"/>\n<polygon fill=\"#000000\" stroke=\"#000000\" points=\"529.2742,-123.0948 518.7128,-122.2531 526.4442,-129.4972 529.2742,-123.0948\"/>\n<text text-anchor=\"middle\" x=\"605.3714\" y=\"-146.8\" font-family=\"Times,serif\" font-size=\"14.00\" fill=\"#000000\">1 </text>\n</g>\n<!-- \\(F_F\\) -->\n<g id=\"node8\" class=\"node\">\n<title>\\(F_F\\)</title>\n<ellipse fill=\"none\" stroke=\"#000000\" cx=\"840.5594\" cy=\"-126\" rx=\"32.4945\" ry=\"32.4945\"/>\n<ellipse fill=\"none\" stroke=\"#000000\" cx=\"840.5594\" cy=\"-126\" rx=\"36.4942\" ry=\"36.4942\"/>\n<text text-anchor=\"middle\" x=\"840.5594\" y=\"-122.3\" font-family=\"Times,serif\" font-size=\"14.00\" fill=\"#000000\">(F_F)</text>\n</g>\n<!-- \\(E_B\\)&#45;&gt;\\(F_F\\) -->\n<g id=\"edge5\" class=\"edge\">\n<title>\\(E_B\\)&#45;&gt;\\(F_F\\)</title>\n<path fill=\"none\" stroke=\"#000000\" d=\"M756.1636,-126C767.7913,-126 781.0218,-126 793.502,-126\"/>\n<polygon fill=\"#000000\" stroke=\"#000000\" points=\"793.7574,-129.5001 803.7574,-126 793.7573,-122.5001 793.7574,-129.5001\"/>\n<text text-anchor=\"middle\" x=\"780.0623\" y=\"-129.8\" font-family=\"Times,serif\" font-size=\"14.00\" fill=\"#000000\">0 </text>\n</g>\n<!-- \\(F_F\\)&#45;&gt;\\(F_I\\) -->\n<g id=\"edge12\" class=\"edge\">\n<title>\\(F_F\\)&#45;&gt;\\(F_I\\)</title>\n<path fill=\"none\" stroke=\"#000000\" d=\"M826.4282,-92.2343C808.2843,-54.9116 772.9735,0 722.2653,0 239.0911,0 239.0911,0 239.0911,0 206.0467,0 173.3943,-19.5832 150.8113,-37.0843\"/>\n<polygon fill=\"#000000\" stroke=\"#000000\" points=\"148.5618,-34.4019 142.9648,-43.3977 152.95,-39.8557 148.5618,-34.4019\"/>\n<text text-anchor=\"middle\" x=\"489.1275\" y=\"-3.8\" font-family=\"Times,serif\" font-size=\"14.00\" fill=\"#000000\">1 </text>\n</g>\n<!-- \\(F_F\\)&#45;&gt;\\(FG_A\\) -->\n<g id=\"edge8\" class=\"edge\">\n<title>\\(F_F\\)&#45;&gt;\\(FG_A\\)</title>\n<path fill=\"none\" stroke=\"#000000\" d=\"M818.0804,-154.908C796.4374,-179.2062 761.3071,-210 722.2653,-210 367.684,-210 367.684,-210 367.684,-210 333.5487,-210 300.1813,-190.3056 275.9932,-171.3758\"/>\n<polygon fill=\"#000000\" stroke=\"#000000\" points=\"278.1249,-168.5982 268.1544,-165.0149 273.7141,-174.0338 278.1249,-168.5982\"/>\n<text text-anchor=\"middle\" x=\"546.2745\" y=\"-213.8\" font-family=\"Times,serif\" font-size=\"14.00\" fill=\"#000000\">0 </text>\n</g>\n</g>\n</svg>\n"
          },
          "metadata": {
            "tags": []
          },
          "execution_count": 43
        }
      ]
    },
    {
      "cell_type": "markdown",
      "metadata": {
        "id": "uXotefjvg4ZG"
      },
      "source": [
        "In this way we can see that now states from Even010s were removed. The first three states were merely changed to not be marked as final states. "
      ]
    },
    {
      "cell_type": "markdown",
      "metadata": {
        "id": "eMuZkVFZVE4w"
      },
      "source": [
        "# Testing the machine"
      ]
    },
    {
      "cell_type": "code",
      "metadata": {
        "id": "0WnCGMRCVE4y"
      },
      "source": [
        "help(nthnumeric)"
      ],
      "execution_count": null,
      "outputs": []
    },
    {
      "cell_type": "markdown",
      "metadata": {
        "id": "VLTjoSANVE4y"
      },
      "source": [
        "## Test the constructed machine the \"direct\" way"
      ]
    },
    {
      "cell_type": "code",
      "metadata": {
        "id": "JMCg7ykXVE4y"
      },
      "source": [
        "TestList = [ nthnumeric(i, ['0','1']) for i in range(256) ]"
      ],
      "execution_count": 11,
      "outputs": []
    },
    {
      "cell_type": "code",
      "metadata": {
        "colab": {
          "base_uri": "https://localhost:8080/"
        },
        "id": "Oq1nM3raVE4y",
        "outputId": "8b35a5d3-052b-4f8f-ad50-72e259a9c324"
      },
      "source": [
        "TestList"
      ],
      "execution_count": 12,
      "outputs": [
        {
          "output_type": "execute_result",
          "data": {
            "text/plain": [
              "['',\n",
              " '0',\n",
              " '1',\n",
              " '00',\n",
              " '01',\n",
              " '10',\n",
              " '11',\n",
              " '000',\n",
              " '001',\n",
              " '010',\n",
              " '011',\n",
              " '100',\n",
              " '101',\n",
              " '110',\n",
              " '111',\n",
              " '0000',\n",
              " '0001',\n",
              " '0010',\n",
              " '0011',\n",
              " '0100',\n",
              " '0101',\n",
              " '0110',\n",
              " '0111',\n",
              " '1000',\n",
              " '1001',\n",
              " '1010',\n",
              " '1011',\n",
              " '1100',\n",
              " '1101',\n",
              " '1110',\n",
              " '1111',\n",
              " '00000',\n",
              " '00001',\n",
              " '00010',\n",
              " '00011',\n",
              " '00100',\n",
              " '00101',\n",
              " '00110',\n",
              " '00111',\n",
              " '01000',\n",
              " '01001',\n",
              " '01010',\n",
              " '01011',\n",
              " '01100',\n",
              " '01101',\n",
              " '01110',\n",
              " '01111',\n",
              " '10000',\n",
              " '10001',\n",
              " '10010',\n",
              " '10011',\n",
              " '10100',\n",
              " '10101',\n",
              " '10110',\n",
              " '10111',\n",
              " '11000',\n",
              " '11001',\n",
              " '11010',\n",
              " '11011',\n",
              " '11100',\n",
              " '11101',\n",
              " '11110',\n",
              " '11111',\n",
              " '000000',\n",
              " '000001',\n",
              " '000010',\n",
              " '000011',\n",
              " '000100',\n",
              " '000101',\n",
              " '000110',\n",
              " '000111',\n",
              " '001000',\n",
              " '001001',\n",
              " '001010',\n",
              " '001011',\n",
              " '001100',\n",
              " '001101',\n",
              " '001110',\n",
              " '001111',\n",
              " '010000',\n",
              " '010001',\n",
              " '010010',\n",
              " '010011',\n",
              " '010100',\n",
              " '010101',\n",
              " '010110',\n",
              " '010111',\n",
              " '011000',\n",
              " '011001',\n",
              " '011010',\n",
              " '011011',\n",
              " '011100',\n",
              " '011101',\n",
              " '011110',\n",
              " '011111',\n",
              " '100000',\n",
              " '100001',\n",
              " '100010',\n",
              " '100011',\n",
              " '100100',\n",
              " '100101',\n",
              " '100110',\n",
              " '100111',\n",
              " '101000',\n",
              " '101001',\n",
              " '101010',\n",
              " '101011',\n",
              " '101100',\n",
              " '101101',\n",
              " '101110',\n",
              " '101111',\n",
              " '110000',\n",
              " '110001',\n",
              " '110010',\n",
              " '110011',\n",
              " '110100',\n",
              " '110101',\n",
              " '110110',\n",
              " '110111',\n",
              " '111000',\n",
              " '111001',\n",
              " '111010',\n",
              " '111011',\n",
              " '111100',\n",
              " '111101',\n",
              " '111110',\n",
              " '111111',\n",
              " '0000000',\n",
              " '0000001',\n",
              " '0000010',\n",
              " '0000011',\n",
              " '0000100',\n",
              " '0000101',\n",
              " '0000110',\n",
              " '0000111',\n",
              " '0001000',\n",
              " '0001001',\n",
              " '0001010',\n",
              " '0001011',\n",
              " '0001100',\n",
              " '0001101',\n",
              " '0001110',\n",
              " '0001111',\n",
              " '0010000',\n",
              " '0010001',\n",
              " '0010010',\n",
              " '0010011',\n",
              " '0010100',\n",
              " '0010101',\n",
              " '0010110',\n",
              " '0010111',\n",
              " '0011000',\n",
              " '0011001',\n",
              " '0011010',\n",
              " '0011011',\n",
              " '0011100',\n",
              " '0011101',\n",
              " '0011110',\n",
              " '0011111',\n",
              " '0100000',\n",
              " '0100001',\n",
              " '0100010',\n",
              " '0100011',\n",
              " '0100100',\n",
              " '0100101',\n",
              " '0100110',\n",
              " '0100111',\n",
              " '0101000',\n",
              " '0101001',\n",
              " '0101010',\n",
              " '0101011',\n",
              " '0101100',\n",
              " '0101101',\n",
              " '0101110',\n",
              " '0101111',\n",
              " '0110000',\n",
              " '0110001',\n",
              " '0110010',\n",
              " '0110011',\n",
              " '0110100',\n",
              " '0110101',\n",
              " '0110110',\n",
              " '0110111',\n",
              " '0111000',\n",
              " '0111001',\n",
              " '0111010',\n",
              " '0111011',\n",
              " '0111100',\n",
              " '0111101',\n",
              " '0111110',\n",
              " '0111111',\n",
              " '1000000',\n",
              " '1000001',\n",
              " '1000010',\n",
              " '1000011',\n",
              " '1000100',\n",
              " '1000101',\n",
              " '1000110',\n",
              " '1000111',\n",
              " '1001000',\n",
              " '1001001',\n",
              " '1001010',\n",
              " '1001011',\n",
              " '1001100',\n",
              " '1001101',\n",
              " '1001110',\n",
              " '1001111',\n",
              " '1010000',\n",
              " '1010001',\n",
              " '1010010',\n",
              " '1010011',\n",
              " '1010100',\n",
              " '1010101',\n",
              " '1010110',\n",
              " '1010111',\n",
              " '1011000',\n",
              " '1011001',\n",
              " '1011010',\n",
              " '1011011',\n",
              " '1011100',\n",
              " '1011101',\n",
              " '1011110',\n",
              " '1011111',\n",
              " '1100000',\n",
              " '1100001',\n",
              " '1100010',\n",
              " '1100011',\n",
              " '1100100',\n",
              " '1100101',\n",
              " '1100110',\n",
              " '1100111',\n",
              " '1101000',\n",
              " '1101001',\n",
              " '1101010',\n",
              " '1101011',\n",
              " '1101100',\n",
              " '1101101',\n",
              " '1101110',\n",
              " '1101111',\n",
              " '1110000',\n",
              " '1110001',\n",
              " '1110010',\n",
              " '1110011',\n",
              " '1110100',\n",
              " '1110101',\n",
              " '1110110',\n",
              " '1110111',\n",
              " '1111000',\n",
              " '1111001',\n",
              " '1111010',\n",
              " '1111011',\n",
              " '1111100',\n",
              " '1111101',\n",
              " '1111110',\n",
              " '1111111',\n",
              " '00000000']"
            ]
          },
          "metadata": {
            "tags": []
          },
          "execution_count": 12
        }
      ]
    },
    {
      "cell_type": "code",
      "metadata": {
        "id": "4SJKhoQIVE4z"
      },
      "source": [
        "help(accepts_dfa)"
      ],
      "execution_count": null,
      "outputs": []
    },
    {
      "cell_type": "code",
      "metadata": {
        "colab": {
          "base_uri": "https://localhost:8080/"
        },
        "id": "6n87_CxbVE4z",
        "outputId": "a143dff8-8388-4e3e-e9e6-c2068bb4d6ed"
      },
      "source": [
        "for test in TestList:\n",
        "    if accepts_dfa(min_Even010_Ends010, test):\n",
        "        print(\" min_Even010_Ends010 : accepts \", test)\n",
        "    else:\n",
        "        print(\" min_Even010_Ends010 : does not accept \", test)"
      ],
      "execution_count": 13,
      "outputs": [
        {
          "output_type": "stream",
          "text": [
            " min_Even010_Ends010 : does not accept  \n",
            " min_Even010_Ends010 : does not accept  0\n",
            " min_Even010_Ends010 : does not accept  1\n",
            " min_Even010_Ends010 : does not accept  00\n",
            " min_Even010_Ends010 : does not accept  01\n",
            " min_Even010_Ends010 : does not accept  10\n",
            " min_Even010_Ends010 : does not accept  11\n",
            " min_Even010_Ends010 : does not accept  000\n",
            " min_Even010_Ends010 : does not accept  001\n",
            " min_Even010_Ends010 : does not accept  010\n",
            " min_Even010_Ends010 : does not accept  011\n",
            " min_Even010_Ends010 : does not accept  100\n",
            " min_Even010_Ends010 : does not accept  101\n",
            " min_Even010_Ends010 : does not accept  110\n",
            " min_Even010_Ends010 : does not accept  111\n",
            " min_Even010_Ends010 : does not accept  0000\n",
            " min_Even010_Ends010 : does not accept  0001\n",
            " min_Even010_Ends010 : does not accept  0010\n",
            " min_Even010_Ends010 : does not accept  0011\n",
            " min_Even010_Ends010 : does not accept  0100\n",
            " min_Even010_Ends010 : does not accept  0101\n",
            " min_Even010_Ends010 : does not accept  0110\n",
            " min_Even010_Ends010 : does not accept  0111\n",
            " min_Even010_Ends010 : does not accept  1000\n",
            " min_Even010_Ends010 : does not accept  1001\n",
            " min_Even010_Ends010 : does not accept  1010\n",
            " min_Even010_Ends010 : does not accept  1011\n",
            " min_Even010_Ends010 : does not accept  1100\n",
            " min_Even010_Ends010 : does not accept  1101\n",
            " min_Even010_Ends010 : does not accept  1110\n",
            " min_Even010_Ends010 : does not accept  1111\n",
            " min_Even010_Ends010 : does not accept  00000\n",
            " min_Even010_Ends010 : does not accept  00001\n",
            " min_Even010_Ends010 : does not accept  00010\n",
            " min_Even010_Ends010 : does not accept  00011\n",
            " min_Even010_Ends010 : does not accept  00100\n",
            " min_Even010_Ends010 : does not accept  00101\n",
            " min_Even010_Ends010 : does not accept  00110\n",
            " min_Even010_Ends010 : does not accept  00111\n",
            " min_Even010_Ends010 : does not accept  01000\n",
            " min_Even010_Ends010 : does not accept  01001\n",
            " min_Even010_Ends010 : does not accept  01010\n",
            " min_Even010_Ends010 : does not accept  01011\n",
            " min_Even010_Ends010 : does not accept  01100\n",
            " min_Even010_Ends010 : does not accept  01101\n",
            " min_Even010_Ends010 : does not accept  01110\n",
            " min_Even010_Ends010 : does not accept  01111\n",
            " min_Even010_Ends010 : does not accept  10000\n",
            " min_Even010_Ends010 : does not accept  10001\n",
            " min_Even010_Ends010 : does not accept  10010\n",
            " min_Even010_Ends010 : does not accept  10011\n",
            " min_Even010_Ends010 : does not accept  10100\n",
            " min_Even010_Ends010 : does not accept  10101\n",
            " min_Even010_Ends010 : does not accept  10110\n",
            " min_Even010_Ends010 : does not accept  10111\n",
            " min_Even010_Ends010 : does not accept  11000\n",
            " min_Even010_Ends010 : does not accept  11001\n",
            " min_Even010_Ends010 : does not accept  11010\n",
            " min_Even010_Ends010 : does not accept  11011\n",
            " min_Even010_Ends010 : does not accept  11100\n",
            " min_Even010_Ends010 : does not accept  11101\n",
            " min_Even010_Ends010 : does not accept  11110\n",
            " min_Even010_Ends010 : does not accept  11111\n",
            " min_Even010_Ends010 : does not accept  000000\n",
            " min_Even010_Ends010 : does not accept  000001\n",
            " min_Even010_Ends010 : does not accept  000010\n",
            " min_Even010_Ends010 : does not accept  000011\n",
            " min_Even010_Ends010 : does not accept  000100\n",
            " min_Even010_Ends010 : does not accept  000101\n",
            " min_Even010_Ends010 : does not accept  000110\n",
            " min_Even010_Ends010 : does not accept  000111\n",
            " min_Even010_Ends010 : does not accept  001000\n",
            " min_Even010_Ends010 : does not accept  001001\n",
            " min_Even010_Ends010 : does not accept  001010\n",
            " min_Even010_Ends010 : does not accept  001011\n",
            " min_Even010_Ends010 : does not accept  001100\n",
            " min_Even010_Ends010 : does not accept  001101\n",
            " min_Even010_Ends010 : does not accept  001110\n",
            " min_Even010_Ends010 : does not accept  001111\n",
            " min_Even010_Ends010 : does not accept  010000\n",
            " min_Even010_Ends010 : does not accept  010001\n",
            " min_Even010_Ends010 : accepts  010010\n",
            " min_Even010_Ends010 : does not accept  010011\n",
            " min_Even010_Ends010 : does not accept  010100\n",
            " min_Even010_Ends010 : does not accept  010101\n",
            " min_Even010_Ends010 : does not accept  010110\n",
            " min_Even010_Ends010 : does not accept  010111\n",
            " min_Even010_Ends010 : does not accept  011000\n",
            " min_Even010_Ends010 : does not accept  011001\n",
            " min_Even010_Ends010 : does not accept  011010\n",
            " min_Even010_Ends010 : does not accept  011011\n",
            " min_Even010_Ends010 : does not accept  011100\n",
            " min_Even010_Ends010 : does not accept  011101\n",
            " min_Even010_Ends010 : does not accept  011110\n",
            " min_Even010_Ends010 : does not accept  011111\n",
            " min_Even010_Ends010 : does not accept  100000\n",
            " min_Even010_Ends010 : does not accept  100001\n",
            " min_Even010_Ends010 : does not accept  100010\n",
            " min_Even010_Ends010 : does not accept  100011\n",
            " min_Even010_Ends010 : does not accept  100100\n",
            " min_Even010_Ends010 : does not accept  100101\n",
            " min_Even010_Ends010 : does not accept  100110\n",
            " min_Even010_Ends010 : does not accept  100111\n",
            " min_Even010_Ends010 : does not accept  101000\n",
            " min_Even010_Ends010 : does not accept  101001\n",
            " min_Even010_Ends010 : does not accept  101010\n",
            " min_Even010_Ends010 : does not accept  101011\n",
            " min_Even010_Ends010 : does not accept  101100\n",
            " min_Even010_Ends010 : does not accept  101101\n",
            " min_Even010_Ends010 : does not accept  101110\n",
            " min_Even010_Ends010 : does not accept  101111\n",
            " min_Even010_Ends010 : does not accept  110000\n",
            " min_Even010_Ends010 : does not accept  110001\n",
            " min_Even010_Ends010 : does not accept  110010\n",
            " min_Even010_Ends010 : does not accept  110011\n",
            " min_Even010_Ends010 : does not accept  110100\n",
            " min_Even010_Ends010 : does not accept  110101\n",
            " min_Even010_Ends010 : does not accept  110110\n",
            " min_Even010_Ends010 : does not accept  110111\n",
            " min_Even010_Ends010 : does not accept  111000\n",
            " min_Even010_Ends010 : does not accept  111001\n",
            " min_Even010_Ends010 : does not accept  111010\n",
            " min_Even010_Ends010 : does not accept  111011\n",
            " min_Even010_Ends010 : does not accept  111100\n",
            " min_Even010_Ends010 : does not accept  111101\n",
            " min_Even010_Ends010 : does not accept  111110\n",
            " min_Even010_Ends010 : does not accept  111111\n",
            " min_Even010_Ends010 : does not accept  0000000\n",
            " min_Even010_Ends010 : does not accept  0000001\n",
            " min_Even010_Ends010 : does not accept  0000010\n",
            " min_Even010_Ends010 : does not accept  0000011\n",
            " min_Even010_Ends010 : does not accept  0000100\n",
            " min_Even010_Ends010 : does not accept  0000101\n",
            " min_Even010_Ends010 : does not accept  0000110\n",
            " min_Even010_Ends010 : does not accept  0000111\n",
            " min_Even010_Ends010 : does not accept  0001000\n",
            " min_Even010_Ends010 : does not accept  0001001\n",
            " min_Even010_Ends010 : does not accept  0001010\n",
            " min_Even010_Ends010 : does not accept  0001011\n",
            " min_Even010_Ends010 : does not accept  0001100\n",
            " min_Even010_Ends010 : does not accept  0001101\n",
            " min_Even010_Ends010 : does not accept  0001110\n",
            " min_Even010_Ends010 : does not accept  0001111\n",
            " min_Even010_Ends010 : does not accept  0010000\n",
            " min_Even010_Ends010 : does not accept  0010001\n",
            " min_Even010_Ends010 : accepts  0010010\n",
            " min_Even010_Ends010 : does not accept  0010011\n",
            " min_Even010_Ends010 : does not accept  0010100\n",
            " min_Even010_Ends010 : does not accept  0010101\n",
            " min_Even010_Ends010 : does not accept  0010110\n",
            " min_Even010_Ends010 : does not accept  0010111\n",
            " min_Even010_Ends010 : does not accept  0011000\n",
            " min_Even010_Ends010 : does not accept  0011001\n",
            " min_Even010_Ends010 : does not accept  0011010\n",
            " min_Even010_Ends010 : does not accept  0011011\n",
            " min_Even010_Ends010 : does not accept  0011100\n",
            " min_Even010_Ends010 : does not accept  0011101\n",
            " min_Even010_Ends010 : does not accept  0011110\n",
            " min_Even010_Ends010 : does not accept  0011111\n",
            " min_Even010_Ends010 : does not accept  0100000\n",
            " min_Even010_Ends010 : does not accept  0100001\n",
            " min_Even010_Ends010 : accepts  0100010\n",
            " min_Even010_Ends010 : does not accept  0100011\n",
            " min_Even010_Ends010 : does not accept  0100100\n",
            " min_Even010_Ends010 : does not accept  0100101\n",
            " min_Even010_Ends010 : does not accept  0100110\n",
            " min_Even010_Ends010 : does not accept  0100111\n",
            " min_Even010_Ends010 : does not accept  0101000\n",
            " min_Even010_Ends010 : does not accept  0101001\n",
            " min_Even010_Ends010 : accepts  0101010\n",
            " min_Even010_Ends010 : does not accept  0101011\n",
            " min_Even010_Ends010 : does not accept  0101100\n",
            " min_Even010_Ends010 : does not accept  0101101\n",
            " min_Even010_Ends010 : does not accept  0101110\n",
            " min_Even010_Ends010 : does not accept  0101111\n",
            " min_Even010_Ends010 : does not accept  0110000\n",
            " min_Even010_Ends010 : does not accept  0110001\n",
            " min_Even010_Ends010 : does not accept  0110010\n",
            " min_Even010_Ends010 : does not accept  0110011\n",
            " min_Even010_Ends010 : does not accept  0110100\n",
            " min_Even010_Ends010 : does not accept  0110101\n",
            " min_Even010_Ends010 : does not accept  0110110\n",
            " min_Even010_Ends010 : does not accept  0110111\n",
            " min_Even010_Ends010 : does not accept  0111000\n",
            " min_Even010_Ends010 : does not accept  0111001\n",
            " min_Even010_Ends010 : does not accept  0111010\n",
            " min_Even010_Ends010 : does not accept  0111011\n",
            " min_Even010_Ends010 : does not accept  0111100\n",
            " min_Even010_Ends010 : does not accept  0111101\n",
            " min_Even010_Ends010 : does not accept  0111110\n",
            " min_Even010_Ends010 : does not accept  0111111\n",
            " min_Even010_Ends010 : does not accept  1000000\n",
            " min_Even010_Ends010 : does not accept  1000001\n",
            " min_Even010_Ends010 : does not accept  1000010\n",
            " min_Even010_Ends010 : does not accept  1000011\n",
            " min_Even010_Ends010 : does not accept  1000100\n",
            " min_Even010_Ends010 : does not accept  1000101\n",
            " min_Even010_Ends010 : does not accept  1000110\n",
            " min_Even010_Ends010 : does not accept  1000111\n",
            " min_Even010_Ends010 : does not accept  1001000\n",
            " min_Even010_Ends010 : does not accept  1001001\n",
            " min_Even010_Ends010 : does not accept  1001010\n",
            " min_Even010_Ends010 : does not accept  1001011\n",
            " min_Even010_Ends010 : does not accept  1001100\n",
            " min_Even010_Ends010 : does not accept  1001101\n",
            " min_Even010_Ends010 : does not accept  1001110\n",
            " min_Even010_Ends010 : does not accept  1001111\n",
            " min_Even010_Ends010 : does not accept  1010000\n",
            " min_Even010_Ends010 : does not accept  1010001\n",
            " min_Even010_Ends010 : accepts  1010010\n",
            " min_Even010_Ends010 : does not accept  1010011\n",
            " min_Even010_Ends010 : does not accept  1010100\n",
            " min_Even010_Ends010 : does not accept  1010101\n",
            " min_Even010_Ends010 : does not accept  1010110\n",
            " min_Even010_Ends010 : does not accept  1010111\n",
            " min_Even010_Ends010 : does not accept  1011000\n",
            " min_Even010_Ends010 : does not accept  1011001\n",
            " min_Even010_Ends010 : does not accept  1011010\n",
            " min_Even010_Ends010 : does not accept  1011011\n",
            " min_Even010_Ends010 : does not accept  1011100\n",
            " min_Even010_Ends010 : does not accept  1011101\n",
            " min_Even010_Ends010 : does not accept  1011110\n",
            " min_Even010_Ends010 : does not accept  1011111\n",
            " min_Even010_Ends010 : does not accept  1100000\n",
            " min_Even010_Ends010 : does not accept  1100001\n",
            " min_Even010_Ends010 : does not accept  1100010\n",
            " min_Even010_Ends010 : does not accept  1100011\n",
            " min_Even010_Ends010 : does not accept  1100100\n",
            " min_Even010_Ends010 : does not accept  1100101\n",
            " min_Even010_Ends010 : does not accept  1100110\n",
            " min_Even010_Ends010 : does not accept  1100111\n",
            " min_Even010_Ends010 : does not accept  1101000\n",
            " min_Even010_Ends010 : does not accept  1101001\n",
            " min_Even010_Ends010 : does not accept  1101010\n",
            " min_Even010_Ends010 : does not accept  1101011\n",
            " min_Even010_Ends010 : does not accept  1101100\n",
            " min_Even010_Ends010 : does not accept  1101101\n",
            " min_Even010_Ends010 : does not accept  1101110\n",
            " min_Even010_Ends010 : does not accept  1101111\n",
            " min_Even010_Ends010 : does not accept  1110000\n",
            " min_Even010_Ends010 : does not accept  1110001\n",
            " min_Even010_Ends010 : does not accept  1110010\n",
            " min_Even010_Ends010 : does not accept  1110011\n",
            " min_Even010_Ends010 : does not accept  1110100\n",
            " min_Even010_Ends010 : does not accept  1110101\n",
            " min_Even010_Ends010 : does not accept  1110110\n",
            " min_Even010_Ends010 : does not accept  1110111\n",
            " min_Even010_Ends010 : does not accept  1111000\n",
            " min_Even010_Ends010 : does not accept  1111001\n",
            " min_Even010_Ends010 : does not accept  1111010\n",
            " min_Even010_Ends010 : does not accept  1111011\n",
            " min_Even010_Ends010 : does not accept  1111100\n",
            " min_Even010_Ends010 : does not accept  1111101\n",
            " min_Even010_Ends010 : does not accept  1111110\n",
            " min_Even010_Ends010 : does not accept  1111111\n",
            " min_Even010_Ends010 : does not accept  00000000\n"
          ],
          "name": "stdout"
        }
      ]
    },
    {
      "cell_type": "markdown",
      "metadata": {
        "id": "4xqYPafpVE4z"
      },
      "source": [
        "## Use Python's \"filter\" function to filter out the accepted strings directly"
      ]
    },
    {
      "cell_type": "code",
      "metadata": {
        "scrolled": true,
        "colab": {
          "base_uri": "https://localhost:8080/"
        },
        "id": "0tXtfuvIVE4z",
        "outputId": "9ed44821-3954-44ad-ef50-74c19a4ef565"
      },
      "source": [
        "list(filter(lambda x: accepts_dfa(min_Even010_Ends010, x), TestList))"
      ],
      "execution_count": 14,
      "outputs": [
        {
          "output_type": "execute_result",
          "data": {
            "text/plain": [
              "['010010', '0010010', '0100010', '0101010', '1010010']"
            ]
          },
          "metadata": {
            "tags": []
          },
          "execution_count": 14
        }
      ]
    },
    {
      "cell_type": "markdown",
      "metadata": {
        "id": "NBn9tfQ6VE40"
      },
      "source": [
        "## Doubled the testing range; now finding at least ten strings!"
      ]
    },
    {
      "cell_type": "code",
      "metadata": {
        "colab": {
          "base_uri": "https://localhost:8080/"
        },
        "id": "HTgPbsy3VE40",
        "outputId": "1e267034-f487-462a-e046-e6294b792195"
      },
      "source": [
        "list(filter(lambda x: accepts_dfa(min_Even010_Ends010, x), [ nthnumeric(i, ['0','1']) for i in range(512) ]))"
      ],
      "execution_count": 15,
      "outputs": [
        {
          "output_type": "execute_result",
          "data": {
            "text/plain": [
              "['010010',\n",
              " '0010010',\n",
              " '0100010',\n",
              " '0101010',\n",
              " '1010010',\n",
              " '00010010',\n",
              " '00100010',\n",
              " '00101010',\n",
              " '01000010',\n",
              " '01010010',\n",
              " '01011010',\n",
              " '10010010',\n",
              " '10100010',\n",
              " '10101010',\n",
              " '11010010']"
            ]
          },
          "metadata": {
            "tags": []
          },
          "execution_count": 15
        }
      ]
    },
    {
      "cell_type": "markdown",
      "metadata": {
        "id": "vMiKGARRVE40"
      },
      "source": [
        "# END"
      ]
    }
  ]
}