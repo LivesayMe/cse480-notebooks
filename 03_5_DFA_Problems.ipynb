{
  "nbformat": 4,
  "nbformat_minor": 0,
  "metadata": {
    "kernelspec": {
      "display_name": "Python 3",
      "language": "python",
      "name": "python3"
    },
    "language_info": {
      "codemirror_mode": {
        "name": "ipython",
        "version": 3
      },
      "file_extension": ".py",
      "mimetype": "text/x-python",
      "name": "python",
      "nbconvert_exporter": "python",
      "pygments_lexer": "ipython3",
      "version": "3.9.0"
    },
    "colab": {
      "name": "03_5_DFA_Problems.ipynb",
      "provenance": []
    }
  },
  "cells": [
    {
      "cell_type": "markdown",
      "metadata": {
        "id": "4h1_HxzCVE4l"
      },
      "source": [
        "# First let's import, then look for the assignment below"
      ]
    },
    {
      "cell_type": "code",
      "metadata": {
        "id": "yJL-S3VfVE4o",
        "outputId": "1050dae3-e857-4b4a-f5c0-0fe2b19f0e27",
        "colab": {
          "base_uri": "https://localhost:8080/"
        }
      },
      "source": [
        "#~~~~~~~~~~~~~~~~~~~~~~~~~~~~~~~~~~~~~~~~~~~~~~~~~~~~~~~\n",
        "import sys\n",
        "\n",
        "# -- Detect if in Own Install or in Colab\n",
        "try:\n",
        "    import google.colab\n",
        "    OWN_INSTALL = False\n",
        "except:\n",
        "    OWN_INSTALL = True\n",
        "    \n",
        "if OWN_INSTALL:\n",
        "\n",
        "  sys.path[0:0] = ['../../../../..',  '../../../../../3rdparty',  \n",
        "                   '../../../..',  '../../../../3rdparty',  \n",
        "                   '../../..',     '../../../3rdparty', \n",
        "                   '../..',        '../../3rdparty',\n",
        "                   '..',           '../3rdparty' ]\n",
        "\n",
        "else: # In colab\n",
        "  ! if [ ! -d Jove ]; then git clone https://github.com/ganeshutah/Jove Jove; fi\n",
        "  sys.path.append('./Jove')\n",
        "  sys.path.append('./Jove/jove')\n",
        "\n",
        "# -- common imports --\n",
        "from jove.LangDef   import *  #-- mainly for nthnumeric\n",
        "from jove.Def_md2mc import *  #-- for md2mc\n",
        "from jove.Def_DFA   import *  #-- for all DFA functions\n",
        "from jove.DotBashers import * #-- for dotObj_dfa\n",
        "#~~~~~~~~~~~~~~~~~~~~~~~~~~~~~~~~~~~~~~~~~~~~~~~~~~~~~~~"
      ],
      "execution_count": 1,
      "outputs": [
        {
          "output_type": "stream",
          "text": [
            "Cloning into 'Jove'...\n",
            "remote: Enumerating objects: 4634, done.\u001b[K\n",
            "remote: Total 4634 (delta 0), reused 0 (delta 0), pack-reused 4634\u001b[K\n",
            "Receiving objects: 100% (4634/4634), 7.38 MiB | 22.28 MiB/s, done.\n",
            "Resolving deltas: 100% (3005/3005), done.\n",
            "You may use any of these help commands:\n",
            "help(lphi)\n",
            "help(lunit)\n",
            "help(lcat)\n",
            "help(lexp)\n",
            "help(lunion)\n",
            "help(lstar)\n",
            "help(srev)\n",
            "help(lrev)\n",
            "help(shomo)\n",
            "help(lhomo)\n",
            "help(powset)\n",
            "help(lint)\n",
            "help(lsymdiff)\n",
            "help(lminus)\n",
            "help(lissubset)\n",
            "help(lissuperset)\n",
            "help(lcomplem)\n",
            "help(product)\n",
            "help(nthnumeric)\n",
            "\n",
            "You may use any of these help commands:\n",
            "help(md2mc)\n",
            ".. and if you want to dig more, then ..\n",
            "help(default_line_attr)\n",
            "help(length_ok_input_items)\n",
            "help(union_line_attr_list_fld)\n",
            "help(extend_rsltdict)\n",
            "help(form_delta)\n",
            "help(get_machine_components)\n",
            "\n",
            "You may use any of these help commands:\n",
            "help(ResetStNum)\n",
            "help(NxtStateStr)\n",
            "\n",
            "You may use any of these help commands:\n",
            "help(mkp_dfa)\n",
            "help(mk_dfa)\n",
            "help(totalize_dfa)\n",
            "help(addtosigma_delta)\n",
            "help(step_dfa)\n",
            "help(run_dfa)\n",
            "help(accepts_dfa)\n",
            "help(comp_dfa)\n",
            "help(union_dfa)\n",
            "help(intersect_dfa)\n",
            "help(pruneUnreach)\n",
            "help(iso_dfa)\n",
            "help(langeq_dfa)\n",
            "help(same_status)\n",
            "help(h_langeq_dfa)\n",
            "help(fixptDist)\n",
            "help(min_dfa)\n",
            "help(pairFR)\n",
            "help(state_combos)\n",
            "help(sepFinNonFin)\n",
            "help(bash_eql_classes)\n",
            "help(listminus)\n",
            "help(bash_1)\n",
            "help(mk_rep_eqc)\n",
            "help(F_of)\n",
            "help(rep_of_s)\n",
            "help(q0_of)\n",
            "help(Delta_of)\n",
            "help(mk_state_eqc_name)\n",
            "\n"
          ],
          "name": "stdout"
        }
      ]
    },
    {
      "cell_type": "markdown",
      "metadata": {
        "id": "0crkdUUcVE4p"
      },
      "source": [
        "# Task 1: Define DFA Even010\n",
        "\n",
        "<font size=\"4\">    \n",
        "Using Jove's markdown, define a DFA for the language of strings over alphabet $\\{0,1\\}$ that accepts an even number of NON-OVERLAPPING occurrences of $010$s. Thoroughly document your construction!\n",
        "    \n",
        "HERE ARE EXAMPLES :\n",
        "\n",
        "* 01010 - does NOT have an even number of 0's because we wanted NON-OVERLAPPING\n",
        "\n",
        "* 0101010 - has two NON-OVERLAPPING occurrences of 010 -- that is what we want!\n",
        "\n",
        "* 0101111010 - has two NON-OVERLAPPING occurrences of 010\n",
        "\n",
        "* 111111 - has ZERO occurrences of 010\n",
        "    \n",
        "</font>"
      ]
    },
    {
      "cell_type": "markdown",
      "metadata": {
        "id": "PeHR_xP2VE4q"
      },
      "source": [
        "### Hint: Name states to remember the essence of the history of inputs so far. If you do so, and also keep the sense of where the machine is (in an I state, an IF state or an F state), then you'll have the solution fall out automatically!\n",
        "\n",
        "Please read the Jove_User_Manual and heed the advice given there regarding how to write your automaton markdowns, how to place comments, how to group the lines of a DFA per state, and how to order which transition you may first consider.\n"
      ]
    },
    {
      "cell_type": "code",
      "metadata": {
        "id": "wbUitAjNVE4r",
        "outputId": "d6807c71-5703-4950-c6da-96ca2758ed11",
        "colab": {
          "base_uri": "https://localhost:8080/"
        }
      },
      "source": [
        "Even010 = md2mc('''\n",
        "DFA \n",
        "\n",
        "!! Put comments describing overall plan here\n",
        "\n",
        " IF : 0 -> FA\n",
        " IF : 1 -> IF\n",
        " FA : 1 -> FB\n",
        " FA : 0 -> FA\n",
        " FB : 0 -> C\n",
        " FB : 1 -> IF\n",
        " C : 0 -> D\n",
        " C : 1 -> C\n",
        " D : 0 -> D\n",
        " D : 1 -> E\n",
        " E : 0 -> F\n",
        " E : 1 -> C\n",
        " F : 1 -> F\n",
        " F : 0 -> FG\n",
        " FG : 1 -> FH\n",
        " FG : 0 -> FG\n",
        " FH : 0 -> C\n",
        " FH : 1 -> F \n",
        "''')"
      ],
      "execution_count": 2,
      "outputs": [
        {
          "output_type": "stream",
          "text": [
            "Generating LALR tables\n"
          ],
          "name": "stderr"
        }
      ]
    },
    {
      "cell_type": "code",
      "metadata": {
        "id": "77TN6OXNVE4r",
        "outputId": "2e252bea-ae3c-40ed-c607-a1c392ae34a7",
        "colab": {
          "base_uri": "https://localhost:8080/",
          "height": 252
        }
      },
      "source": [
        "dotObj_dfa(Even010)"
      ],
      "execution_count": 3,
      "outputs": [
        {
          "output_type": "execute_result",
          "data": {
            "text/plain": [
              "<graphviz.dot.Digraph at 0x7f4e5213f0b8>"
            ],
            "image/svg+xml": "<?xml version=\"1.0\" encoding=\"UTF-8\" standalone=\"no\"?>\n<!DOCTYPE svg PUBLIC \"-//W3C//DTD SVG 1.1//EN\"\n \"http://www.w3.org/Graphics/SVG/1.1/DTD/svg11.dtd\">\n<!-- Generated by graphviz version 2.40.1 (20161225.0304)\n -->\n<!-- Title: %3 Pages: 1 -->\n<svg width=\"895pt\" height=\"174pt\"\n viewBox=\"0.00 0.00 894.68 173.75\" xmlns=\"http://www.w3.org/2000/svg\" xmlns:xlink=\"http://www.w3.org/1999/xlink\">\n<g id=\"graph0\" class=\"graph\" transform=\"scale(1 1) rotate(0) translate(4 169.748)\">\n<title>%3</title>\n<polygon fill=\"#ffffff\" stroke=\"transparent\" points=\"-4,4 -4,-169.748 890.6805,-169.748 890.6805,4 -4,4\"/>\n<!-- EMPTY -->\n<g id=\"node1\" class=\"node\">\n<title>EMPTY</title>\n</g>\n<!-- IF -->\n<g id=\"node7\" class=\"node\">\n<title>IF</title>\n<ellipse fill=\"none\" stroke=\"#000000\" cx=\"113.8483\" cy=\"-46\" rx=\"18.724\" ry=\"18.724\"/>\n<ellipse fill=\"none\" stroke=\"#000000\" cx=\"113.8483\" cy=\"-46\" rx=\"22.6977\" ry=\"22.6977\"/>\n<text text-anchor=\"middle\" x=\"113.8483\" y=\"-42.3\" font-family=\"Times,serif\" font-size=\"14.00\" fill=\"#000000\">IF</text>\n</g>\n<!-- EMPTY&#45;&gt;IF -->\n<g id=\"edge1\" class=\"edge\">\n<title>EMPTY&#45;&gt;IF</title>\n<path fill=\"none\" stroke=\"#000000\" d=\"M54.0033,-46C62.5212,-46 72.0276,-46 80.9112,-46\"/>\n<polygon fill=\"#000000\" stroke=\"#000000\" points=\"80.9572,-49.5001 90.9572,-46 80.9572,-42.5001 80.9572,-49.5001\"/>\n</g>\n<!-- E -->\n<g id=\"node2\" class=\"node\">\n<title>E</title>\n<ellipse fill=\"none\" stroke=\"#000000\" cx=\"573.6886\" cy=\"-71\" rx=\"18\" ry=\"18\"/>\n<text text-anchor=\"middle\" x=\"573.6886\" y=\"-67.3\" font-family=\"Times,serif\" font-size=\"14.00\" fill=\"#000000\">E</text>\n</g>\n<!-- C -->\n<g id=\"node4\" class=\"node\">\n<title>C</title>\n<ellipse fill=\"none\" stroke=\"#000000\" cx=\"405.6886\" cy=\"-46\" rx=\"18\" ry=\"18\"/>\n<text text-anchor=\"middle\" x=\"405.6886\" y=\"-42.3\" font-family=\"Times,serif\" font-size=\"14.00\" fill=\"#000000\">C</text>\n</g>\n<!-- E&#45;&gt;C -->\n<g id=\"edge13\" class=\"edge\">\n<title>E&#45;&gt;C</title>\n<path fill=\"none\" stroke=\"#000000\" d=\"M559.3734,-82.3559C539.5251,-96.6435 502.5968,-117.9493 471.6886,-106 452.1287,-98.438 434.7939,-82.0866 422.8036,-68.3608\"/>\n<polygon fill=\"#000000\" stroke=\"#000000\" points=\"425.4794,-66.1045 416.3851,-60.669 420.1048,-70.5894 425.4794,-66.1045\"/>\n<text text-anchor=\"middle\" x=\"489.6886\" y=\"-112.8\" font-family=\"Times,serif\" font-size=\"14.00\" fill=\"#000000\">1 </text>\n</g>\n<!-- F -->\n<g id=\"node6\" class=\"node\">\n<title>F</title>\n<ellipse fill=\"none\" stroke=\"#000000\" cx=\"661.6886\" cy=\"-71\" rx=\"18\" ry=\"18\"/>\n<ellipse fill=\"none\" stroke=\"#000000\" cx=\"661.6886\" cy=\"-71\" rx=\"22\" ry=\"22\"/>\n<text text-anchor=\"middle\" x=\"661.6886\" y=\"-67.3\" font-family=\"Times,serif\" font-size=\"14.00\" fill=\"#000000\">F</text>\n</g>\n<!-- E&#45;&gt;F -->\n<g id=\"edge12\" class=\"edge\">\n<title>E&#45;&gt;F</title>\n<path fill=\"none\" stroke=\"#000000\" d=\"M591.9222,-71C602.6988,-71 616.6594,-71 629.2578,-71\"/>\n<polygon fill=\"#000000\" stroke=\"#000000\" points=\"629.4203,-74.5001 639.4203,-71 629.4202,-67.5001 629.4203,-74.5001\"/>\n<text text-anchor=\"middle\" x=\"615.6886\" y=\"-74.8\" font-family=\"Times,serif\" font-size=\"14.00\" fill=\"#000000\">0 </text>\n</g>\n<!-- D -->\n<g id=\"node3\" class=\"node\">\n<title>D</title>\n<ellipse fill=\"none\" stroke=\"#000000\" cx=\"489.6886\" cy=\"-46\" rx=\"18\" ry=\"18\"/>\n<text text-anchor=\"middle\" x=\"489.6886\" y=\"-42.3\" font-family=\"Times,serif\" font-size=\"14.00\" fill=\"#000000\">D</text>\n</g>\n<!-- D&#45;&gt;E -->\n<g id=\"edge11\" class=\"edge\">\n<title>D&#45;&gt;E</title>\n<path fill=\"none\" stroke=\"#000000\" d=\"M507.0934,-51.18C518.4689,-54.5656 533.5611,-59.0573 546.5015,-62.9086\"/>\n<polygon fill=\"#000000\" stroke=\"#000000\" points=\"545.7231,-66.3286 556.306,-65.8266 547.7199,-59.6194 545.7231,-66.3286\"/>\n<text text-anchor=\"middle\" x=\"531.6886\" y=\"-63.8\" font-family=\"Times,serif\" font-size=\"14.00\" fill=\"#000000\">1 </text>\n</g>\n<!-- D&#45;&gt;D -->\n<g id=\"edge10\" class=\"edge\">\n<title>D&#45;&gt;D</title>\n<path fill=\"none\" stroke=\"#000000\" d=\"M482.3058,-62.6641C480.6651,-72.625 483.1261,-82 489.6886,-82 493.8927,-82 496.4135,-78.1525 497.251,-72.7682\"/>\n<polygon fill=\"#000000\" stroke=\"#000000\" points=\"500.7487,-72.6002 497.0714,-62.6641 493.7498,-72.7247 500.7487,-72.6002\"/>\n<text text-anchor=\"middle\" x=\"489.6886\" y=\"-85.8\" font-family=\"Times,serif\" font-size=\"14.00\" fill=\"#000000\">0 </text>\n</g>\n<!-- C&#45;&gt;D -->\n<g id=\"edge8\" class=\"edge\">\n<title>C&#45;&gt;D</title>\n<path fill=\"none\" stroke=\"#000000\" d=\"M423.9153,-46C434.8128,-46 448.894,-46 461.2299,-46\"/>\n<polygon fill=\"#000000\" stroke=\"#000000\" points=\"461.4974,-49.5001 471.4974,-46 461.4974,-42.5001 461.4974,-49.5001\"/>\n<text text-anchor=\"middle\" x=\"447.6886\" y=\"-49.8\" font-family=\"Times,serif\" font-size=\"14.00\" fill=\"#000000\">0 </text>\n</g>\n<!-- C&#45;&gt;C -->\n<g id=\"edge9\" class=\"edge\">\n<title>C&#45;&gt;C</title>\n<path fill=\"none\" stroke=\"#000000\" d=\"M398.3058,-62.6641C396.6651,-72.625 399.1261,-82 405.6886,-82 409.8927,-82 412.4135,-78.1525 413.251,-72.7682\"/>\n<polygon fill=\"#000000\" stroke=\"#000000\" points=\"416.7487,-72.6002 413.0714,-62.6641 409.7498,-72.7247 416.7487,-72.6002\"/>\n<text text-anchor=\"middle\" x=\"405.6886\" y=\"-85.8\" font-family=\"Times,serif\" font-size=\"14.00\" fill=\"#000000\">1 </text>\n</g>\n<!-- FG -->\n<g id=\"node5\" class=\"node\">\n<title>FG</title>\n<ellipse fill=\"none\" stroke=\"#000000\" cx=\"758.4366\" cy=\"-106\" rx=\"22.9609\" ry=\"22.9609\"/>\n<ellipse fill=\"none\" stroke=\"#000000\" cx=\"758.4366\" cy=\"-106\" rx=\"26.9983\" ry=\"26.9983\"/>\n<text text-anchor=\"middle\" x=\"758.4366\" y=\"-102.3\" font-family=\"Times,serif\" font-size=\"14.00\" fill=\"#000000\">FG</text>\n</g>\n<!-- FG&#45;&gt;FG -->\n<g id=\"edge17\" class=\"edge\">\n<title>FG&#45;&gt;FG</title>\n<path fill=\"none\" stroke=\"#000000\" d=\"M749.144,-131.301C748.5031,-141.8261 751.6006,-150.748 758.4366,-150.748 762.9226,-150.748 765.7987,-146.9056 767.0648,-141.2894\"/>\n<polygon fill=\"#000000\" stroke=\"#000000\" points=\"770.5577,-141.5112 767.7292,-131.301 763.5731,-141.0466 770.5577,-141.5112\"/>\n<text text-anchor=\"middle\" x=\"758.4366\" y=\"-154.548\" font-family=\"Times,serif\" font-size=\"14.00\" fill=\"#000000\">0 </text>\n</g>\n<!-- FH -->\n<g id=\"node10\" class=\"node\">\n<title>FH</title>\n<ellipse fill=\"none\" stroke=\"#000000\" cx=\"859.9325\" cy=\"-46\" rx=\"22.9609\" ry=\"22.9609\"/>\n<ellipse fill=\"none\" stroke=\"#000000\" cx=\"859.9325\" cy=\"-46\" rx=\"26.9983\" ry=\"26.9983\"/>\n<text text-anchor=\"middle\" x=\"859.9325\" y=\"-42.3\" font-family=\"Times,serif\" font-size=\"14.00\" fill=\"#000000\">FH</text>\n</g>\n<!-- FG&#45;&gt;FH -->\n<g id=\"edge16\" class=\"edge\">\n<title>FG&#45;&gt;FH</title>\n<path fill=\"none\" stroke=\"#000000\" d=\"M781.4676,-92.3851C795.1262,-84.3107 812.649,-73.952 827.6693,-65.0726\"/>\n<polygon fill=\"#000000\" stroke=\"#000000\" points=\"829.8141,-67.8706 836.6413,-59.7687 826.2519,-61.8447 829.8141,-67.8706\"/>\n<text text-anchor=\"middle\" x=\"809.1845\" y=\"-80.8\" font-family=\"Times,serif\" font-size=\"14.00\" fill=\"#000000\">1 </text>\n</g>\n<!-- F&#45;&gt;FG -->\n<g id=\"edge15\" class=\"edge\">\n<title>F&#45;&gt;FG</title>\n<path fill=\"none\" stroke=\"#000000\" d=\"M682.6815,-78.5945C694.5771,-82.8979 709.7666,-88.3929 723.4168,-93.3311\"/>\n<polygon fill=\"#000000\" stroke=\"#000000\" points=\"722.4209,-96.6928 733.0152,-96.8034 724.8023,-90.1102 722.4209,-96.6928\"/>\n<text text-anchor=\"middle\" x=\"707.6886\" y=\"-92.8\" font-family=\"Times,serif\" font-size=\"14.00\" fill=\"#000000\">0 </text>\n</g>\n<!-- F&#45;&gt;F -->\n<g id=\"edge14\" class=\"edge\">\n<title>F&#45;&gt;F</title>\n<path fill=\"none\" stroke=\"#000000\" d=\"M653.6823,-91.5808C652.5745,-101.8447 655.2433,-111 661.6886,-111 665.8176,-111 668.3967,-107.2427 669.426,-101.8436\"/>\n<polygon fill=\"#000000\" stroke=\"#000000\" points=\"672.9317,-101.6691 669.6949,-91.5808 665.9341,-101.4857 672.9317,-101.6691\"/>\n<text text-anchor=\"middle\" x=\"661.6886\" y=\"-114.8\" font-family=\"Times,serif\" font-size=\"14.00\" fill=\"#000000\">1 </text>\n</g>\n<!-- IF&#45;&gt;IF -->\n<g id=\"edge3\" class=\"edge\">\n<title>IF&#45;&gt;IF</title>\n<path fill=\"none\" stroke=\"#000000\" d=\"M106.4966,-67.8532C105.6946,-77.9909 108.1452,-86.8483 113.8483,-86.8483 117.5019,-86.8483 119.8206,-83.2132 120.8045,-77.9352\"/>\n<polygon fill=\"#000000\" stroke=\"#000000\" points=\"124.3052,-77.9828 121.2,-67.8532 117.3106,-77.7083 124.3052,-77.9828\"/>\n<text text-anchor=\"middle\" x=\"113.8483\" y=\"-90.6483\" font-family=\"Times,serif\" font-size=\"14.00\" fill=\"#000000\">1 </text>\n</g>\n<!-- FA -->\n<g id=\"node8\" class=\"node\">\n<title>FA</title>\n<ellipse fill=\"none\" stroke=\"#000000\" cx=\"211.4446\" cy=\"-90\" rx=\"22.9609\" ry=\"22.9609\"/>\n<ellipse fill=\"none\" stroke=\"#000000\" cx=\"211.4446\" cy=\"-90\" rx=\"26.9983\" ry=\"26.9983\"/>\n<text text-anchor=\"middle\" x=\"211.4446\" y=\"-86.3\" font-family=\"Times,serif\" font-size=\"14.00\" fill=\"#000000\">FA</text>\n</g>\n<!-- IF&#45;&gt;FA -->\n<g id=\"edge2\" class=\"edge\">\n<title>IF&#45;&gt;FA</title>\n<path fill=\"none\" stroke=\"#000000\" d=\"M135.0253,-55.5473C147.415,-61.1331 163.3469,-68.3158 177.4547,-74.6761\"/>\n<polygon fill=\"#000000\" stroke=\"#000000\" points=\"176.3093,-77.9989 186.8642,-78.9182 179.1864,-71.6175 176.3093,-77.9989\"/>\n<text text-anchor=\"middle\" x=\"160.6967\" y=\"-72.8\" font-family=\"Times,serif\" font-size=\"14.00\" fill=\"#000000\">0 </text>\n</g>\n<!-- FA&#45;&gt;FA -->\n<g id=\"edge5\" class=\"edge\">\n<title>FA&#45;&gt;FA</title>\n<path fill=\"none\" stroke=\"#000000\" d=\"M202.152,-115.301C201.5112,-125.8261 204.6087,-134.748 211.4446,-134.748 215.9307,-134.748 218.8068,-130.9056 220.0729,-125.2894\"/>\n<polygon fill=\"#000000\" stroke=\"#000000\" points=\"223.5658,-125.5112 220.7372,-115.301 216.5812,-125.0466 223.5658,-125.5112\"/>\n<text text-anchor=\"middle\" x=\"211.4446\" y=\"-138.548\" font-family=\"Times,serif\" font-size=\"14.00\" fill=\"#000000\">0 </text>\n</g>\n<!-- FB -->\n<g id=\"node9\" class=\"node\">\n<title>FB</title>\n<ellipse fill=\"none\" stroke=\"#000000\" cx=\"312.9406\" cy=\"-46\" rx=\"22.9609\" ry=\"22.9609\"/>\n<ellipse fill=\"none\" stroke=\"#000000\" cx=\"312.9406\" cy=\"-46\" rx=\"26.9983\" ry=\"26.9983\"/>\n<text text-anchor=\"middle\" x=\"312.9406\" y=\"-42.3\" font-family=\"Times,serif\" font-size=\"14.00\" fill=\"#000000\">FB</text>\n</g>\n<!-- FA&#45;&gt;FB -->\n<g id=\"edge4\" class=\"edge\">\n<title>FA&#45;&gt;FB</title>\n<path fill=\"none\" stroke=\"#000000\" d=\"M236.014,-79.3488C248.8843,-73.7694 264.8481,-66.8488 278.8916,-60.7607\"/>\n<polygon fill=\"#000000\" stroke=\"#000000\" points=\"280.4629,-63.8944 288.2457,-56.7056 277.6786,-57.4719 280.4629,-63.8944\"/>\n<text text-anchor=\"middle\" x=\"262.1926\" y=\"-72.8\" font-family=\"Times,serif\" font-size=\"14.00\" fill=\"#000000\">1 </text>\n</g>\n<!-- FB&#45;&gt;C -->\n<g id=\"edge6\" class=\"edge\">\n<title>FB&#45;&gt;C</title>\n<path fill=\"none\" stroke=\"#000000\" d=\"M339.7672,-46C351.482,-46 365.2339,-46 377.1378,-46\"/>\n<polygon fill=\"#000000\" stroke=\"#000000\" points=\"377.439,-49.5001 387.4389,-46 377.4389,-42.5001 377.439,-49.5001\"/>\n<text text-anchor=\"middle\" x=\"363.6886\" y=\"-49.8\" font-family=\"Times,serif\" font-size=\"14.00\" fill=\"#000000\">0 </text>\n</g>\n<!-- FB&#45;&gt;IF -->\n<g id=\"edge7\" class=\"edge\">\n<title>FB&#45;&gt;IF</title>\n<path fill=\"none\" stroke=\"#000000\" d=\"M286.3451,-42.9009C272.0879,-41.3934 254.2068,-39.7482 238.1926,-39 214.4425,-37.8904 208.4438,-37.8297 184.6967,-39 172.2842,-39.6117 158.6928,-40.8227 146.7634,-42.0679\"/>\n<polygon fill=\"#000000\" stroke=\"#000000\" points=\"146.3407,-38.5932 136.7792,-43.1568 147.0997,-45.5519 146.3407,-38.5932\"/>\n<text text-anchor=\"middle\" x=\"211.4446\" y=\"-42.8\" font-family=\"Times,serif\" font-size=\"14.00\" fill=\"#000000\">1 </text>\n</g>\n<!-- FH&#45;&gt;C -->\n<g id=\"edge18\" class=\"edge\">\n<title>FH&#45;&gt;C</title>\n<path fill=\"none\" stroke=\"#000000\" d=\"M838.2378,-29.6526C818.5086,-16.4309 788.0361,0 758.4366,0 489.6886,0 489.6886,0 489.6886,0 466.12,0 442.8978,-14.1034 426.8643,-26.6918\"/>\n<polygon fill=\"#000000\" stroke=\"#000000\" points=\"424.2025,-24.3523 418.7399,-33.4303 428.6714,-29.7402 424.2025,-24.3523\"/>\n<text text-anchor=\"middle\" x=\"615.6886\" y=\"-3.8\" font-family=\"Times,serif\" font-size=\"14.00\" fill=\"#000000\">0 </text>\n</g>\n<!-- FH&#45;&gt;F -->\n<g id=\"edge19\" class=\"edge\">\n<title>FH&#45;&gt;F</title>\n<path fill=\"none\" stroke=\"#000000\" d=\"M832.7801,-46.6881C806.7314,-47.6349 766.35,-49.854 731.6886,-55 718.9086,-56.8974 705.0035,-59.8809 692.9788,-62.7601\"/>\n<polygon fill=\"#000000\" stroke=\"#000000\" points=\"691.8394,-59.4363 682.9713,-65.2335 693.519,-66.2318 691.8394,-59.4363\"/>\n<text text-anchor=\"middle\" x=\"758.4366\" y=\"-58.8\" font-family=\"Times,serif\" font-size=\"14.00\" fill=\"#000000\">1 </text>\n</g>\n</g>\n</svg>\n"
          },
          "metadata": {
            "tags": []
          },
          "execution_count": 3
        }
      ]
    },
    {
      "cell_type": "code",
      "metadata": {
        "id": "a5hIyVvHVjE4",
        "outputId": "33222631-9362-4694-f4ae-224153770e62",
        "colab": {
          "base_uri": "https://localhost:8080/",
          "height": 273
        }
      },
      "source": [
        "dotObj_dfa(min_dfa(Even010))"
      ],
      "execution_count": 5,
      "outputs": [
        {
          "output_type": "execute_result",
          "data": {
            "text/plain": [
              "<graphviz.dot.Digraph at 0x7f4e52003898>"
            ],
            "image/svg+xml": "<?xml version=\"1.0\" encoding=\"UTF-8\" standalone=\"no\"?>\n<!DOCTYPE svg PUBLIC \"-//W3C//DTD SVG 1.1//EN\"\n \"http://www.w3.org/Graphics/SVG/1.1/DTD/svg11.dtd\">\n<!-- Generated by graphviz version 2.40.1 (20161225.0304)\n -->\n<!-- Title: %3 Pages: 1 -->\n<svg width=\"598pt\" height=\"189pt\"\n viewBox=\"0.00 0.00 597.99 188.75\" xmlns=\"http://www.w3.org/2000/svg\" xmlns:xlink=\"http://www.w3.org/1999/xlink\">\n<g id=\"graph0\" class=\"graph\" transform=\"scale(1 1) rotate(0) translate(4 184.748)\">\n<title>%3</title>\n<polygon fill=\"#ffffff\" stroke=\"transparent\" points=\"-4,4 -4,-184.748 593.9919,-184.748 593.9919,4 -4,4\"/>\n<!-- EMPTY -->\n<g id=\"node1\" class=\"node\">\n<title>EMPTY</title>\n</g>\n<!-- F -->\n<g id=\"node6\" class=\"node\">\n<title>F</title>\n<ellipse fill=\"none\" stroke=\"#000000\" cx=\"113\" cy=\"-122.748\" rx=\"18\" ry=\"18\"/>\n<ellipse fill=\"none\" stroke=\"#000000\" cx=\"113\" cy=\"-122.748\" rx=\"22\" ry=\"22\"/>\n<text text-anchor=\"middle\" x=\"113\" y=\"-119.048\" font-family=\"Times,serif\" font-size=\"14.00\" fill=\"#000000\">F</text>\n</g>\n<!-- EMPTY&#45;&gt;F -->\n<g id=\"edge1\" class=\"edge\">\n<title>EMPTY&#45;&gt;F</title>\n<path fill=\"none\" stroke=\"#000000\" d=\"M54.2109,-122.748C62.6073,-122.748 71.9364,-122.748 80.6441,-122.748\"/>\n<polygon fill=\"#000000\" stroke=\"#000000\" points=\"80.8529,-126.2481 90.8529,-122.748 80.8528,-119.2481 80.8529,-126.2481\"/>\n</g>\n<!-- E -->\n<g id=\"node2\" class=\"node\">\n<title>E</title>\n<ellipse fill=\"none\" stroke=\"#000000\" cx=\"571.9919\" cy=\"-122.748\" rx=\"18\" ry=\"18\"/>\n<text text-anchor=\"middle\" x=\"571.9919\" y=\"-119.048\" font-family=\"Times,serif\" font-size=\"14.00\" fill=\"#000000\">E</text>\n</g>\n<!-- C -->\n<g id=\"node4\" class=\"node\">\n<title>C</title>\n<ellipse fill=\"none\" stroke=\"#000000\" cx=\"403.9919\" cy=\"-73.748\" rx=\"18\" ry=\"18\"/>\n<text text-anchor=\"middle\" x=\"403.9919\" y=\"-70.048\" font-family=\"Times,serif\" font-size=\"14.00\" fill=\"#000000\">C</text>\n</g>\n<!-- E&#45;&gt;C -->\n<g id=\"edge13\" class=\"edge\">\n<title>E&#45;&gt;C</title>\n<path fill=\"none\" stroke=\"#000000\" d=\"M554.2075,-118.4016C533.7791,-113.3256 499.3037,-104.5033 469.9919,-95.748 457.0131,-91.8712 442.7395,-87.169 430.7963,-83.1086\"/>\n<polygon fill=\"#000000\" stroke=\"#000000\" points=\"431.5865,-79.6794 420.9919,-79.7424 429.3134,-86.3001 431.5865,-79.6794\"/>\n<text text-anchor=\"middle\" x=\"487.9919\" y=\"-109.548\" font-family=\"Times,serif\" font-size=\"14.00\" fill=\"#000000\">1 </text>\n</g>\n<!-- E&#45;&gt;F -->\n<g id=\"edge12\" class=\"edge\">\n<title>E&#45;&gt;F</title>\n<path fill=\"none\" stroke=\"#000000\" d=\"M558.5137,-134.7259C542.7618,-147.4492 515.3516,-165.748 487.9919,-165.748 209.748,-165.748 209.748,-165.748 209.748,-165.748 184.3164,-165.748 158.1142,-153.1875 139.403,-141.6436\"/>\n<polygon fill=\"#000000\" stroke=\"#000000\" points=\"141.1536,-138.6076 130.8555,-136.1177 137.3532,-144.4862 141.1536,-138.6076\"/>\n<text text-anchor=\"middle\" x=\"361.9919\" y=\"-169.548\" font-family=\"Times,serif\" font-size=\"14.00\" fill=\"#000000\">0 </text>\n</g>\n<!-- D -->\n<g id=\"node3\" class=\"node\">\n<title>D</title>\n<ellipse fill=\"none\" stroke=\"#000000\" cx=\"487.9919\" cy=\"-35.748\" rx=\"18\" ry=\"18\"/>\n<text text-anchor=\"middle\" x=\"487.9919\" y=\"-32.048\" font-family=\"Times,serif\" font-size=\"14.00\" fill=\"#000000\">D</text>\n</g>\n<!-- D&#45;&gt;E -->\n<g id=\"edge11\" class=\"edge\">\n<title>D&#45;&gt;E</title>\n<path fill=\"none\" stroke=\"#000000\" d=\"M500.7497,-48.9614C514.3966,-63.0957 536.2205,-85.699 552.1211,-102.1675\"/>\n<polygon fill=\"#000000\" stroke=\"#000000\" points=\"549.9254,-104.9323 559.3893,-109.6953 554.9612,-100.0701 549.9254,-104.9323\"/>\n<text text-anchor=\"middle\" x=\"529.9919\" y=\"-87.548\" font-family=\"Times,serif\" font-size=\"14.00\" fill=\"#000000\">1 </text>\n</g>\n<!-- D&#45;&gt;D -->\n<g id=\"edge10\" class=\"edge\">\n<title>D&#45;&gt;D</title>\n<path fill=\"none\" stroke=\"#000000\" d=\"M480.6091,-52.412C478.9685,-62.373 481.4294,-71.748 487.9919,-71.748 492.196,-71.748 494.7168,-67.9005 495.5544,-62.5162\"/>\n<polygon fill=\"#000000\" stroke=\"#000000\" points=\"499.052,-62.3482 495.3747,-52.412 492.0532,-62.4727 499.052,-62.3482\"/>\n<text text-anchor=\"middle\" x=\"487.9919\" y=\"-75.548\" font-family=\"Times,serif\" font-size=\"14.00\" fill=\"#000000\">0 </text>\n</g>\n<!-- C&#45;&gt;D -->\n<g id=\"edge8\" class=\"edge\">\n<title>C&#45;&gt;D</title>\n<path fill=\"none\" stroke=\"#000000\" d=\"M420.5876,-66.2404C432.4377,-60.8796 448.6097,-53.5637 462.1426,-47.4417\"/>\n<polygon fill=\"#000000\" stroke=\"#000000\" points=\"463.7622,-50.5506 471.4307,-43.24 460.877,-44.1728 463.7622,-50.5506\"/>\n<text text-anchor=\"middle\" x=\"445.9919\" y=\"-60.548\" font-family=\"Times,serif\" font-size=\"14.00\" fill=\"#000000\">0 </text>\n</g>\n<!-- C&#45;&gt;C -->\n<g id=\"edge9\" class=\"edge\">\n<title>C&#45;&gt;C</title>\n<path fill=\"none\" stroke=\"#000000\" d=\"M396.6091,-90.412C394.9685,-100.373 397.4294,-109.748 403.9919,-109.748 408.196,-109.748 410.7168,-105.9005 411.5544,-100.5162\"/>\n<polygon fill=\"#000000\" stroke=\"#000000\" points=\"415.052,-100.3482 411.3747,-90.412 408.0532,-100.4727 415.052,-100.3482\"/>\n<text text-anchor=\"middle\" x=\"403.9919\" y=\"-113.548\" font-family=\"Times,serif\" font-size=\"14.00\" fill=\"#000000\">1 </text>\n</g>\n<!-- FH -->\n<g id=\"node5\" class=\"node\">\n<title>FH</title>\n<ellipse fill=\"none\" stroke=\"#000000\" cx=\"311.2439\" cy=\"-73.748\" rx=\"22.9609\" ry=\"22.9609\"/>\n<ellipse fill=\"none\" stroke=\"#000000\" cx=\"311.2439\" cy=\"-73.748\" rx=\"26.9983\" ry=\"26.9983\"/>\n<text text-anchor=\"middle\" x=\"311.2439\" y=\"-70.048\" font-family=\"Times,serif\" font-size=\"14.00\" fill=\"#000000\">FH</text>\n</g>\n<!-- FH&#45;&gt;C -->\n<g id=\"edge6\" class=\"edge\">\n<title>FH&#45;&gt;C</title>\n<path fill=\"none\" stroke=\"#000000\" d=\"M338.0705,-73.748C349.7853,-73.748 363.5372,-73.748 375.4411,-73.748\"/>\n<polygon fill=\"#000000\" stroke=\"#000000\" points=\"375.7423,-77.2481 385.7423,-73.748 375.7423,-70.2481 375.7423,-77.2481\"/>\n<text text-anchor=\"middle\" x=\"361.9919\" y=\"-77.548\" font-family=\"Times,serif\" font-size=\"14.00\" fill=\"#000000\">0 </text>\n</g>\n<!-- FH&#45;&gt;F -->\n<g id=\"edge7\" class=\"edge\">\n<title>FH&#45;&gt;F</title>\n<path fill=\"none\" stroke=\"#000000\" d=\"M285.4243,-81.8387C271.0818,-86.2088 252.8765,-91.5524 236.496,-95.748 205.6152,-103.6575 170.0207,-111.2835 145.0026,-116.4015\"/>\n<polygon fill=\"#000000\" stroke=\"#000000\" points=\"144.0779,-113.0176 134.9727,-118.4348 145.4687,-119.8781 144.0779,-113.0176\"/>\n<text text-anchor=\"middle\" x=\"209.748\" y=\"-111.548\" font-family=\"Times,serif\" font-size=\"14.00\" fill=\"#000000\">1 </text>\n</g>\n<!-- F&#45;&gt;F -->\n<g id=\"edge3\" class=\"edge\">\n<title>F&#45;&gt;F</title>\n<path fill=\"none\" stroke=\"#000000\" d=\"M105.6831,-143.7387C104.7798,-153.8352 107.2188,-162.748 113,-162.748 116.7036,-162.748 119.0356,-159.0902 119.9958,-153.8066\"/>\n<polygon fill=\"#000000\" stroke=\"#000000\" points=\"123.4963,-153.8453 120.3169,-143.7387 116.4998,-153.6221 123.4963,-153.8453\"/>\n<text text-anchor=\"middle\" x=\"113\" y=\"-166.548\" font-family=\"Times,serif\" font-size=\"14.00\" fill=\"#000000\">1 </text>\n</g>\n<!-- FG -->\n<g id=\"node7\" class=\"node\">\n<title>FG</title>\n<ellipse fill=\"none\" stroke=\"#000000\" cx=\"209.748\" cy=\"-26.748\" rx=\"22.9609\" ry=\"22.9609\"/>\n<ellipse fill=\"none\" stroke=\"#000000\" cx=\"209.748\" cy=\"-26.748\" rx=\"26.9983\" ry=\"26.9983\"/>\n<text text-anchor=\"middle\" x=\"209.748\" y=\"-23.048\" font-family=\"Times,serif\" font-size=\"14.00\" fill=\"#000000\">FG</text>\n</g>\n<!-- F&#45;&gt;FG -->\n<g id=\"edge2\" class=\"edge\">\n<title>F&#45;&gt;FG</title>\n<path fill=\"none\" stroke=\"#000000\" d=\"M128.976,-106.8955C143.8158,-92.1705 166.184,-69.9752 183.6214,-52.6726\"/>\n<polygon fill=\"#000000\" stroke=\"#000000\" points=\"186.1231,-55.1209 190.7563,-45.5928 181.1926,-50.1519 186.1231,-55.1209\"/>\n<text text-anchor=\"middle\" x=\"159\" y=\"-83.548\" font-family=\"Times,serif\" font-size=\"14.00\" fill=\"#000000\">0 </text>\n</g>\n<!-- FG&#45;&gt;FH -->\n<g id=\"edge4\" class=\"edge\">\n<title>FG&#45;&gt;FH</title>\n<path fill=\"none\" stroke=\"#000000\" d=\"M234.0588,-38.0057C247.0195,-44.0074 263.1722,-51.4873 277.3464,-58.051\"/>\n<polygon fill=\"#000000\" stroke=\"#000000\" points=\"276.2347,-61.3932 286.7797,-62.4193 279.1762,-55.0412 276.2347,-61.3932\"/>\n<text text-anchor=\"middle\" x=\"260.496\" y=\"-55.548\" font-family=\"Times,serif\" font-size=\"14.00\" fill=\"#000000\">1 </text>\n</g>\n<!-- FG&#45;&gt;FG -->\n<g id=\"edge5\" class=\"edge\">\n<title>FG&#45;&gt;FG</title>\n<path fill=\"none\" stroke=\"#000000\" d=\"M200.4554,-52.049C199.8145,-62.574 202.912,-71.496 209.748,-71.496 214.2341,-71.496 217.1102,-67.6536 218.3762,-62.0374\"/>\n<polygon fill=\"#000000\" stroke=\"#000000\" points=\"221.8691,-62.2592 219.0406,-52.049 214.8846,-61.7946 221.8691,-62.2592\"/>\n<text text-anchor=\"middle\" x=\"209.748\" y=\"-75.296\" font-family=\"Times,serif\" font-size=\"14.00\" fill=\"#000000\">0 </text>\n</g>\n</g>\n</svg>\n"
          },
          "metadata": {
            "tags": []
          },
          "execution_count": 5
        }
      ]
    },
    {
      "cell_type": "markdown",
      "metadata": {
        "id": "MRDpFtmnVE4s"
      },
      "source": [
        "# Task 2: Define DFA Ends010\n",
        "\n",
        "<font size=\"4\">    \n",
        "3. Using Jove's markdown, define a DFA for the language of strings over alphabet $\\{0,1\\}$ that ends in a $010$, calling it Ends010. Then obtain the intersection with the Even010 machine using intersect_dfa. \n",
        "    \n",
        "    Call the intersection Even010_Ends010.\n",
        "    \n",
        "    Next, minimize Even010_Ends010, storing it in min_Even010_Ends010 .\n",
        "    \n",
        "    Again, document the construction thoroughly.\n",
        "    \n",
        "</font>"
      ]
    },
    {
      "cell_type": "markdown",
      "metadata": {
        "id": "CcX7Q0HtVE4s"
      },
      "source": [
        "### Hint: Define a machine for \"ends $010$\" as illustrated by DFA Even010, and negate."
      ]
    },
    {
      "cell_type": "code",
      "metadata": {
        "id": "J45-AwLhVE4s"
      },
      "source": [
        "Ends010 =  md2mc('''\n",
        "DFA\n",
        "\n",
        "!! Again, follow the commenting plans and write the \"DFA code\" in neat bunches\n",
        "\n",
        "''')"
      ],
      "execution_count": null,
      "outputs": []
    },
    {
      "cell_type": "code",
      "metadata": {
        "id": "MnVEgTp2VE4t"
      },
      "source": [
        "# Let's see the \"Ends010\" machine\n",
        "dotObj_dfa(Ends010, FuseEdges=True)"
      ],
      "execution_count": null,
      "outputs": []
    },
    {
      "cell_type": "markdown",
      "metadata": {
        "id": "t4dnVrohVE4t"
      },
      "source": [
        "## Obtain the intersection of Even010 and Ends010"
      ]
    },
    {
      "cell_type": "code",
      "metadata": {
        "scrolled": true,
        "id": "tZTAQzwIVE4u"
      },
      "source": [
        "Even010_Ends010 = ... Use intersect_dfa here - help(intersect_dfa) for guidance...\n",
        "dotObj_dfa(Even010_Ends010)"
      ],
      "execution_count": null,
      "outputs": []
    },
    {
      "cell_type": "markdown",
      "metadata": {
        "id": "DvgZawOXVE4u"
      },
      "source": [
        "## Minimize the intersection of Even010 and Ends010"
      ]
    },
    {
      "cell_type": "code",
      "metadata": {
        "id": "NjqUVfwiVE4u"
      },
      "source": [
        "min_Even010_Ends010 = ... Use min_dfa - help(min_dfa) for guidance ...\n",
        "dotObj_dfa(min_Even010_Ends010)"
      ],
      "execution_count": null,
      "outputs": []
    },
    {
      "cell_type": "markdown",
      "metadata": {
        "id": "9gCcFByAVE4v"
      },
      "source": [
        "# Task 3: Examine Why Minimization Implies Elimination\n",
        "<font size=\"4\">    \n",
        "    \n",
        "Find out which states were eliminated in the Minimization Process. Explain why it was OK to leave these states out. Test the constructed machine using the template given to you. Finally use the Python \"filter\" function that filters out the accepted strings.\n",
        "    \n",
        "</font>"
      ]
    },
    {
      "cell_type": "markdown",
      "metadata": {
        "id": "A4GmUuVgVE4v"
      },
      "source": [
        "## Find out which states were eliminated"
      ]
    },
    {
      "cell_type": "code",
      "metadata": {
        "id": "HaciG67GVE4v"
      },
      "source": [
        "# Hint: You can obtain the components of a DFA D by using the notation D[\"Q\"] where\n",
        "# D is a DFA created using the md2mc command. Basically, \"D\" is a dictionary and \n",
        "# D[\"Q\"] obtains the value of the key at \"Q\". See the lecture slides for Lec-3."
      ],
      "execution_count": null,
      "outputs": []
    },
    {
      "cell_type": "markdown",
      "metadata": {
        "id": "ICG7bo9zVE4v"
      },
      "source": [
        "## Explain why it is OK to leave these states out\n",
        "\n",
        "A template to guide your answer is below."
      ]
    },
    {
      "cell_type": "markdown",
      "metadata": {
        "id": "DEyoHNIoVE4w"
      },
      "source": [
        "<font size=\"4\"> \n",
        "... Your explanations here - a template of your answer is as follows ...\n",
        "    \n",
        "**This template tries to limit the number of cases you have to list**\n",
        " \n",
        " \n",
        " * I find that state SOMESTATE1 is present in DFA1 but SOMESTATE1 is absent in DFA2 \n",
        " \n",
        " \n",
        "   - I can obtain this info by doing DFA1[\"Q\"] - DFA2[\"Q\"]\n",
        "   - I can also eye-ball the diagrams and spot the missing state\n",
        "   - But I recall that in the diagram, a state may show up P_Q while in the DFA1[\"Q\"] - DFA2[\"Q\"] printout, it may show up as ('P','Q')\n",
        " \n",
        " \n",
        " \n",
        " * If there are multiple *SOMESTATE1* that are missing in DFA2, please pick the one that involves state letter 'I'  and call that the *SOMESTATE1* for the remaining questions BELOW\n",
        " \n",
        " \n",
        " **IMPORTANT CHANGE:** __Due to some non-reproducibility lurking in Jove, some people may not get a state containing \"I\". In that case, pick any one state that is missing, and answer the remaining questions.__\n",
        " \n",
        " * But I find that THIS STRING (pick the shortest string in numeric order) that reached SOMESTATE1 in DFA1 is now reaching state SOMESTATE2 in DFA2\n",
        " \n",
        " * Thus I conclude that state SOMESTATE1 and SOMESTATE2 are equivalent\n",
        " \n",
        " * This is further confirmed by the fact that (**here I am limiting your checks to 3 cases**)\n",
        "   - upon 0, SOMESTATE1 goes to THIS STATE while SOMESTATE2 goes to THIS STATE and they are  BOTH ACCEPTING / BOTH NON-ACCEPTING (pick on)\n",
        "   - upon 1, SOMESTATE1 goes to THIS STATE while SOMESTATE2 goes to THIS STATE and they are  BOTH ACCEPTING / BOTH NON-ACCEPTING (pick on)\n",
        "   upon 01, SOMESTATE1 goes to THIS STATE while SOMESTATE2 goes to THIS STATE and they are  BOTH ACCEPTING / BOTH NON-ACCEPTING (pick on)\n",
        " \n",
        " \n",
        "\n",
        " \n",
        " \n",
        "    \n",
        "</font>"
      ]
    },
    {
      "cell_type": "markdown",
      "metadata": {
        "id": "eMuZkVFZVE4w"
      },
      "source": [
        "# Testing the machine"
      ]
    },
    {
      "cell_type": "code",
      "metadata": {
        "id": "0WnCGMRCVE4y"
      },
      "source": [
        "help(nthnumeric)"
      ],
      "execution_count": null,
      "outputs": []
    },
    {
      "cell_type": "markdown",
      "metadata": {
        "id": "VLTjoSANVE4y"
      },
      "source": [
        "## Test the constructed machine the \"direct\" way"
      ]
    },
    {
      "cell_type": "code",
      "metadata": {
        "id": "JMCg7ykXVE4y"
      },
      "source": [
        "TestList = [ nthnumeric(i, ['0','1']) for i in range(256) ]"
      ],
      "execution_count": null,
      "outputs": []
    },
    {
      "cell_type": "code",
      "metadata": {
        "id": "Oq1nM3raVE4y"
      },
      "source": [
        "TestList"
      ],
      "execution_count": null,
      "outputs": []
    },
    {
      "cell_type": "code",
      "metadata": {
        "id": "4SJKhoQIVE4z"
      },
      "source": [
        "help(accepts_dfa)"
      ],
      "execution_count": null,
      "outputs": []
    },
    {
      "cell_type": "code",
      "metadata": {
        "id": "6n87_CxbVE4z"
      },
      "source": [
        "for test in TestList:\n",
        "    if accepts_dfa(min_Even010_Ends010, test):\n",
        "        print(\" min_Even010_Ends010 : accepts \", test)\n",
        "    else:\n",
        "        print(\" min_Even010_Ends010 : does not accept \", test)"
      ],
      "execution_count": null,
      "outputs": []
    },
    {
      "cell_type": "markdown",
      "metadata": {
        "id": "4xqYPafpVE4z"
      },
      "source": [
        "## Use Python's \"filter\" function to filter out the accepted strings directly"
      ]
    },
    {
      "cell_type": "code",
      "metadata": {
        "scrolled": true,
        "id": "0tXtfuvIVE4z"
      },
      "source": [
        "list(filter(lambda x: accepts_dfa(min_Even010_Ends010, x), TestList))"
      ],
      "execution_count": null,
      "outputs": []
    },
    {
      "cell_type": "markdown",
      "metadata": {
        "id": "NBn9tfQ6VE40"
      },
      "source": [
        "## Doubled the testing range; now finding at least ten strings!"
      ]
    },
    {
      "cell_type": "code",
      "metadata": {
        "id": "HTgPbsy3VE40"
      },
      "source": [
        "...Your doubled list of filtered items here..."
      ],
      "execution_count": null,
      "outputs": []
    },
    {
      "cell_type": "markdown",
      "metadata": {
        "id": "vMiKGARRVE40"
      },
      "source": [
        "# END"
      ]
    }
  ]
}