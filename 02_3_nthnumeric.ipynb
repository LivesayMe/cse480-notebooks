{
  "nbformat": 4,
  "nbformat_minor": 0,
  "metadata": {
    "kernelspec": {
      "display_name": "Python 3",
      "language": "python",
      "name": "python3"
    },
    "language_info": {
      "codemirror_mode": {
        "name": "ipython",
        "version": 3
      },
      "file_extension": ".py",
      "mimetype": "text/x-python",
      "name": "python",
      "nbconvert_exporter": "python",
      "pygments_lexer": "ipython3",
      "version": "3.9.0"
    },
    "colab": {
      "name": "02_3_nthnumeric.ipynb",
      "provenance": []
    }
  },
  "cells": [
    {
      "cell_type": "markdown",
      "metadata": {
        "id": "6sBXUzMx3a3a"
      },
      "source": [
        "# Main Definition here: \"nthnumeric\"\n",
        "\n",
        "Function nthnumeric allows you to obtain the nth string in numeric order. Check the book's \n",
        "Chapter 3 that defines Lexicographic order and Numeric order."
      ]
    },
    {
      "cell_type": "code",
      "metadata": {
        "id": "PeIu7Y8n3a3g"
      },
      "source": [
        "#~~~~~~~~~~~~~~~~~~~~~~~~~~~~~~~~~~~~~~~~~~~~~~~~~~~~~~~\n",
        "import sys\n",
        "\n",
        "# -- Detect if in Own Install or in Colab\n",
        "try:\n",
        "    import google.colab\n",
        "    OWN_INSTALL = False\n",
        "except:\n",
        "    OWN_INSTALL = True\n",
        "    \n",
        "if OWN_INSTALL:\n",
        "    \n",
        "  sys.path[0:0] = ['../../../../..',  '../../../../../3rdparty',  \n",
        "                   '../../../..',  '../../../../3rdparty',  \n",
        "                   '../../..',     '../../../3rdparty', \n",
        "                   '../..',        '../../3rdparty',\n",
        "                   '..',           '../3rdparty' ]\n",
        "\n",
        "else: # In colab\n",
        "  ! if [ ! -d Jove ]; then git clone https://github.com/ganeshutah/Jove Jove; fi\n",
        "  sys.path.append('./Jove')\n",
        "  sys.path.append('./Jove/jove')\n",
        "\n",
        "# -- common imports --\n",
        "from jove.LangDef   import *\n",
        "#~~~~~~~~~~~~~~~~~~~~~~~~~~~~~~~~~~~~~~~~~~~~~~~~~~~~~~~"
      ],
      "execution_count": 2,
      "outputs": []
    },
    {
      "cell_type": "markdown",
      "metadata": {
        "id": "emsH4uJc3a3o"
      },
      "source": [
        "### Let us import Language Definitions"
      ]
    },
    {
      "cell_type": "code",
      "metadata": {
        "id": "9XOpx1p13a3q"
      },
      "source": [
        "from jove.LangDef import *"
      ],
      "execution_count": 3,
      "outputs": []
    },
    {
      "cell_type": "markdown",
      "metadata": {
        "id": "ykCD7TSm3a3r"
      },
      "source": [
        "### We can generate sets according to numeric order"
      ]
    },
    {
      "cell_type": "code",
      "metadata": {
        "id": "MOpcUZAn3a3s",
        "outputId": "1c8f2544-8729-46e9-f16a-ade5d7adc875",
        "colab": {
          "base_uri": "https://localhost:8080/"
        }
      },
      "source": [
        "help(nthnumeric)"
      ],
      "execution_count": 5,
      "outputs": [
        {
          "output_type": "stream",
          "text": [
            "Help on function nthnumeric in module jove.LangDef:\n",
            "\n",
            "nthnumeric(N, S=['a', 'b'])\n",
            "    Assume S ('Sigma') is a 2-sized list of chars (default ['a','b']). \n",
            "    Produce the Nth string in numeric order, where N >= 0.\n",
            "    Idea : Given N, get b = floor(log_2(N+1)) - need that \n",
            "    many places; what to fill in the places is the binary \n",
            "    code for N - (2^b - 1) with 0 as S[0] and 1 as S[1].\n",
            "\n"
          ],
          "name": "stdout"
        }
      ]
    },
    {
      "cell_type": "code",
      "metadata": {
        "id": "YN9-SM2C3a3u",
        "outputId": "ffbd37b1-dd9e-43a1-8a09-a6008299cc9b",
        "colab": {
          "base_uri": "https://localhost:8080/",
          "height": 36
        }
      },
      "source": [
        "nthnumeric(8, ['0','1'])"
      ],
      "execution_count": 4,
      "outputs": [
        {
          "output_type": "execute_result",
          "data": {
            "application/vnd.google.colaboratory.intrinsic+json": {
              "type": "string"
            },
            "text/plain": [
              "'001'"
            ]
          },
          "metadata": {
            "tags": []
          },
          "execution_count": 4
        }
      ]
    },
    {
      "cell_type": "markdown",
      "metadata": {
        "id": "vsJDV37s3a3v"
      },
      "source": [
        "# Now, we can generate the first 27 strings in numeric order\n",
        "\n",
        "This is a handy way to test DFA and other machines. One can pump all strings in numeric order up to \n",
        "some number (e.g. a few dozen) and test the machines."
      ]
    },
    {
      "cell_type": "code",
      "metadata": {
        "id": "x9fl7ibG3a3v",
        "outputId": "fd81795e-3de5-433b-d090-908cff28f086",
        "colab": {
          "base_uri": "https://localhost:8080/"
        }
      },
      "source": [
        "[nthnumeric(i, ['0','1']) for i in range(28)]"
      ],
      "execution_count": 6,
      "outputs": [
        {
          "output_type": "execute_result",
          "data": {
            "text/plain": [
              "['',\n",
              " '0',\n",
              " '1',\n",
              " '00',\n",
              " '01',\n",
              " '10',\n",
              " '11',\n",
              " '000',\n",
              " '001',\n",
              " '010',\n",
              " '011',\n",
              " '100',\n",
              " '101',\n",
              " '110',\n",
              " '111',\n",
              " '0000',\n",
              " '0001',\n",
              " '0010',\n",
              " '0011',\n",
              " '0100',\n",
              " '0101',\n",
              " '0110',\n",
              " '0111',\n",
              " '1000',\n",
              " '1001',\n",
              " '1010',\n",
              " '1011',\n",
              " '1100']"
            ]
          },
          "metadata": {
            "tags": []
          },
          "execution_count": 6
        }
      ]
    },
    {
      "cell_type": "markdown",
      "metadata": {
        "id": "spQVVVgC3a3w"
      },
      "source": [
        "# See the usage of nthnumeric for testing DFA, in Overview.ipynb"
      ]
    },
    {
      "cell_type": "markdown",
      "metadata": {
        "id": "2UxppXsN35_D"
      },
      "source": [
        "I have explored this notebook\r\n",
        "\r\n",
        "-Hunter Livesay"
      ]
    }
  ]
}